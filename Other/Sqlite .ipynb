{
 "cells": [
  {
   "cell_type": "code",
   "execution_count": 1,
   "id": "a0991551",
   "metadata": {},
   "outputs": [],
   "source": [
    "import sqlite3\n",
    "conn = sqlite3.connect('example.db')\n",
    "c = conn.cursor()\n",
    "c.execute('''CREATE TABLE stocks (date text, trans text, symbol text, qty real, price real)''') # Create table\n",
    "c.execute(\"INSERT INTO stocks VALUES ('2006-01-05','BUY','RHAT',100,35.14)\")# Insert a row of data\n",
    "c.execute(\"INSERT INTO stocks VALUES ('2006-01-06','UY','RT',100,7.14)\")# Insert a row of data\n",
    "conn.commit()# Save (commit) the changes\n",
    "conn.close() # We can also close the connection if we are done with it. \n",
    "# Just be sure any changes have been committed or they will be lost."
   ]
  },
  {
   "cell_type": "code",
   "execution_count": 2,
   "id": "9ba36edb",
   "metadata": {},
   "outputs": [
    {
     "name": "stdout",
     "output_type": "stream",
     "text": [
      "('2006-01-05', 'BUY', 'RHAT', 100.0, 35.14)\n",
      "('2006-01-06', 'UY', 'RT', 100.0, 7.14)\n"
     ]
    }
   ],
   "source": [
    "conn = sqlite3.connect('example.db')\n",
    "c= conn.cursor()\n",
    "c.execute(\"SELECT * from stocks\")\n",
    "for row in c:\n",
    "    print(row) # will be a list"
   ]
  },
  {
   "cell_type": "code",
   "execution_count": 3,
   "id": "b757248a",
   "metadata": {},
   "outputs": [],
   "source": [
    "# To fetch single matching fetchone() method\n",
    "# print c.fetchone()\n",
    "# For multiple rows use fetchall() method\n",
    "# a=c.fetchall() #which is similar to list(cursor) method used previously\n",
    "# for row in a:\n",
    "#    print row"
   ]
  },
  {
   "cell_type": "code",
   "execution_count": null,
   "id": "d6b6d8ea",
   "metadata": {},
   "outputs": [],
   "source": []
  }
 ],
 "metadata": {
  "kernelspec": {
   "display_name": "Python 3 (ipykernel)",
   "language": "python",
   "name": "python3"
  },
  "language_info": {
   "codemirror_mode": {
    "name": "ipython",
    "version": 3
   },
   "file_extension": ".py",
   "mimetype": "text/x-python",
   "name": "python",
   "nbconvert_exporter": "python",
   "pygments_lexer": "ipython3",
   "version": "3.9.7"
  }
 },
 "nbformat": 4,
 "nbformat_minor": 5
}
