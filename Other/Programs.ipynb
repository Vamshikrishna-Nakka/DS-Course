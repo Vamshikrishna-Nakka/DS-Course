{
 "cells": [
  {
   "cell_type": "code",
   "execution_count": null,
   "metadata": {},
   "outputs": [],
   "source": [
    "n=int(input())\n",
    "def ang(n):\n",
    "    a=0 \n",
    "    for i in range(n-1):\n",
    "        s=n%10\n",
    "        a=a+pow(s,3)\n",
    "        n=n//10\n",
    "    return a\n",
    "\n",
    "r=ang(n)\n",
    "if r==n:\n",
    "    print('ang')\n",
    "else:\n",
    "    print('not ang')"
   ]
  },
  {
   "cell_type": "code",
   "execution_count": null,
   "metadata": {},
   "outputs": [],
   "source": [
    "# angstrom intervL\n",
    "\n",
    "for num in range(20, 200 + 1):\n",
    "    order = len(str(num))\n",
    "    \n",
    "    sum = 0\n",
    "    temp = num\n",
    "    while temp > 0:\n",
    "        digit = temp % 10\n",
    "        sum += digit ** order\n",
    "        temp //= 10\n",
    "\n",
    "    if num == sum:\n",
    "        print(num)"
   ]
  },
  {
   "cell_type": "code",
   "execution_count": null,
   "metadata": {},
   "outputs": [],
   "source": [
    "#prime\n",
    "for i in range(2,n+1):\n",
    "    if n%i==0:\n",
    "        break\n",
    "    else:\n",
    "        print(\" prime\",i)\n",
    "else:\n",
    "    print(\"not\")"
   ]
  },
  {
   "cell_type": "code",
   "execution_count": null,
   "metadata": {},
   "outputs": [],
   "source": [
    "import sympy\n",
    "print(sympy.isprime(5))\n",
    "print(list(sympy.primerange(14, 100)))"
   ]
  },
  {
   "cell_type": "code",
   "execution_count": null,
   "metadata": {},
   "outputs": [],
   "source": [
    "n=int(input())\n",
    "m=int(input())\n",
    "s=[]\n",
    "if n>1:\n",
    "    for i in range(n,m+1):\n",
    "        if sympy.isprime(i)==True:\n",
    "            s.append(i)\n",
    "else:\n",
    "    print(\"entered is o or 1\")\n",
    "print(s)"
   ]
  },
  {
   "cell_type": "code",
   "execution_count": null,
   "metadata": {},
   "outputs": [],
   "source": [
    "#Fibbonici\n",
    "n=int(input())\n",
    "a, b = 0, 1\n",
    "while a < n:\n",
    "    print(a)\n",
    "    a, b = b, a+b"
   ]
  },
  {
   "cell_type": "code",
   "execution_count": null,
   "metadata": {},
   "outputs": [],
   "source": [
    "#fib of a number\n",
    "f = [0, 1]\n",
    " \n",
    "def fib(n):\n",
    "    if n <= 0:\n",
    "        print(\"Incorrect input\")\n",
    "    elif n <= len(f):\n",
    "        return f[n - 1]\n",
    "    else:\n",
    "        temp = fib(n - 1) + fib(n - 2)\n",
    "        f.append(temp)\n",
    "        return temp\n",
    "n=int(input())\n",
    "print(fib(n))"
   ]
  },
  {
   "cell_type": "code",
   "execution_count": null,
   "metadata": {},
   "outputs": [],
   "source": [
    "#febonocci for not\n",
    "import math\n",
    "\n",
    "def isPerfectSquare(x):\n",
    "    s = int(math.sqrt(x))\n",
    "    return s*s == x\n",
    "def isFibonacci(n):\n",
    "    return isPerfectSquare(5*n*n + 4) or isPerfectSquare(5*n*n - 4)\n",
    "\n",
    "isFibonacci(66)"
   ]
  },
  {
   "cell_type": "code",
   "execution_count": null,
   "metadata": {},
   "outputs": [],
   "source": [
    "mystr = '9'\n",
    "print(mystr.isascii())"
   ]
  },
  {
   "cell_type": "code",
   "execution_count": null,
   "metadata": {},
   "outputs": [],
   "source": [
    "lst = [0,1,2,3,4,5]\n",
    "a=reversed(lst)\n",
    "for i in a:\n",
    "    print(i)"
   ]
  },
  {
   "cell_type": "code",
   "execution_count": null,
   "metadata": {},
   "outputs": [],
   "source": [
    "lst = [0,1,2,3,4,5]\n",
    "p=1\n",
    "for i in lst:\n",
    "    if i>0:\n",
    "        p=p*i\n",
    "print(p)\n",
    "    "
   ]
  },
  {
   "cell_type": "code",
   "execution_count": null,
   "metadata": {},
   "outputs": [],
   "source": [
    "s=sorted(lst)\n",
    "s[-2]"
   ]
  },
  {
   "cell_type": "code",
   "execution_count": null,
   "metadata": {},
   "outputs": [],
   "source": [
    "#Remove common elements from two list in Python\n"
   ]
  },
  {
   "cell_type": "code",
   "execution_count": null,
   "metadata": {},
   "outputs": [],
   "source": [
    "#Sum of divisors\n",
    "def sum_div(number):\n",
    "    divisors = [1]\n",
    "    for i in range(2, number):\n",
    "        if (number % i)==0:\n",
    "            divisors.append(i)\n",
    "    return sum(divisors)\n",
    "\n",
    "print(sum_div(8))\n",
    "print(sum_div(12))"
   ]
  },
  {
   "cell_type": "code",
   "execution_count": null,
   "metadata": {},
   "outputs": [],
   "source": [
    "# method to print the divisors\n",
    "def Divisors(n) :\n",
    "    i = 1\n",
    "    while i <= n :\n",
    "        if (n % i==0) :\n",
    "            print (i,end=\" \")\n",
    "        i = i + 1\n",
    "         \n",
    "Divisors(12)"
   ]
  },
  {
   "cell_type": "code",
   "execution_count": null,
   "metadata": {},
   "outputs": [],
   "source": [
    "#cube sumof n\n",
    "s=0\n",
    "for i in range(5):\n",
    "    s=s+pow(i,3)\n",
    "s"
   ]
  },
  {
   "cell_type": "code",
   "execution_count": null,
   "metadata": {},
   "outputs": [],
   "source": [
    "year = 2004\n",
    "if (year % 400 == 0) and (year % 100 == 0) and (year % 4 == 0):\n",
    "    print(\"leap\")\n",
    "else:\n",
    "    print(\"not\")"
   ]
  },
  {
   "cell_type": "code",
   "execution_count": null,
   "metadata": {},
   "outputs": [],
   "source": [
    "#sort the list\n",
    "l=[3,45,21,57,3,1]\n",
    "n=len(l)\n",
    "for i in range(n):\n",
    "    for j in range(i,n):\n",
    "        if l[i]>l[j]:\n",
    "            l[j],l[i]=l[i],l[j]\n",
    "l"
   ]
  },
  {
   "cell_type": "code",
   "execution_count": null,
   "metadata": {},
   "outputs": [],
   "source": [
    "unsorted_list=[3,45,21,57,3,1]\n",
    "for i in range (0, len(unsorted_list)):\n",
    "    for j in range (i,  len(unsorted_list)):\n",
    "        if unsorted_list[i]> unsorted_list[j]:\n",
    "            unsorted_list[i], unsorted_list[j] = unsorted_list[j], unsorted_list[i]\n",
    "\n",
    "print(\"Sorted list: \", unsorted_list)"
   ]
  },
  {
   "cell_type": "code",
   "execution_count": null,
   "metadata": {},
   "outputs": [],
   "source": [
    "#Polindrome\n",
    "a='Vamshi'\n",
    "b=a[::-1]\n",
    "if a==b:\n",
    "    print('poli')\n",
    "else:\n",
    "    print('not poli')"
   ]
  },
  {
   "cell_type": "code",
   "execution_count": null,
   "metadata": {},
   "outputs": [],
   "source": [
    "#reverse words in statement\n",
    "a='Hello Good Morning'\n",
    "#print(a[::-1])\n",
    "b=a.split(' ')\n",
    "c=' '.join(reversed(b))\n",
    "c"
   ]
  },
  {
   "cell_type": "code",
   "execution_count": null,
   "metadata": {},
   "outputs": [],
   "source": [
    "#reverse words in statement\n",
    "a='Hello Good Morning'\n",
    "b=a.split(' ')\n",
    "p=[]\n",
    "for i in b:\n",
    "    p.append(''.join(reversed(i)))\n",
    "\n",
    "print(p)\n",
    "\n",
    "print(' '.join(p))\n",
    "\n",
    "print(' '.join(reversed(p)))\n"
   ]
  },
  {
   "cell_type": "code",
   "execution_count": null,
   "metadata": {},
   "outputs": [],
   "source": [
    "#remove digits\n",
    "a=\"krishna21nakka21vamshi\"\n",
    "res = ''.join([i for i in a if not i.isdigit()])\n",
    "print(res)"
   ]
  },
  {
   "cell_type": "code",
   "execution_count": null,
   "metadata": {},
   "outputs": [],
   "source": [
    "#removes mentioned from string\n",
    "x = a.strip(\"0123456789\")\n",
    "print(x)"
   ]
  },
  {
   "cell_type": "code",
   "execution_count": null,
   "metadata": {},
   "outputs": [],
   "source": [
    "''.join(i for i in a if ord(i) not in range(48, 58))"
   ]
  },
  {
   "cell_type": "code",
   "execution_count": null,
   "metadata": {},
   "outputs": [],
   "source": [
    "q=''.join(filter(lambda x: x.isalpha(), a))\n",
    "q"
   ]
  },
  {
   "cell_type": "code",
   "execution_count": null,
   "metadata": {},
   "outputs": [],
   "source": [
    "#remove particular digits mentioned\n",
    "import re\n",
    "a=\"kr13is5h2na21nak537ka21v0am4shi\"\n",
    "#pattern = r'[0-9]'\n",
    "pattern = r'[21]'\n",
    "new = re.sub(pattern, '', a)\n",
    "print(new)"
   ]
  },
  {
   "cell_type": "code",
   "execution_count": null,
   "metadata": {},
   "outputs": [],
   "source": [
    "#remove particular number\n",
    "a=\"kr2ishna21nakka21vam1shi6\"\n",
    "p='21'\n",
    "if p in a:\n",
    "    g=a.replace(p,\"\")\n",
    "print(g)"
   ]
  },
  {
   "cell_type": "code",
   "execution_count": null,
   "metadata": {},
   "outputs": [],
   "source": [
    "#Sort Words in Alphabetical Order\n",
    "S = 'the Quick brown fox jumPs over the lazY Dog'\n",
    "\n",
    "W = S.split(' ')\n",
    "for i in range(len(W)):\n",
    "    W[i]=W[i].lower()\n",
    "    S = sorted(W) #or sort()\n",
    "print(' '.join(S))"
   ]
  },
  {
   "cell_type": "code",
   "execution_count": null,
   "metadata": {},
   "outputs": [],
   "source": [
    "#Check if a Substring is Present in a Given String\n",
    "import re\n",
    "s1='geeks for geeks'\n",
    "s2='geek'\n",
    "print(re.search(s2,s1 )) #\n",
    "print(s1.count(s2)) #count>0\n",
    "print(s1.find(s2)) #find>-1"
   ]
  },
  {
   "cell_type": "code",
   "execution_count": null,
   "metadata": {},
   "outputs": [],
   "source": [
    "#Convert a list of characters into a string\n",
    "a=['g', 'e', 'e', 'k', 's', 'f', 'o', 'r', 'g', 'e','e','k','s']\n",
    "''.join(a)"
   ]
  },
  {
   "cell_type": "code",
   "execution_count": null,
   "metadata": {},
   "outputs": [],
   "source": [
    "#Swap\n",
    "# the usage of * operarnd\n",
    "list = [1, 2, 3, 4]\n",
    " \n",
    "a, *b, c = list\n",
    " \n",
    "print(a)\n",
    "print(b)\n",
    "print(c)"
   ]
  },
  {
   "cell_type": "code",
   "execution_count": null,
   "metadata": {},
   "outputs": [],
   "source": [
    "# FActorial recursive\n",
    "def fact(n):\n",
    "    if n==0 or n== 1:\n",
    "        return 1\n",
    "    else:\n",
    "        return n*fact(n-1)\n",
    "\n",
    "n=int(input())\n",
    "print(fact(n))"
   ]
  },
  {
   "cell_type": "code",
   "execution_count": null,
   "metadata": {},
   "outputs": [],
   "source": [
    "a='abc'\n",
    "b='123'\n",
    "print(a.join(b))\n",
    "print(a+b)"
   ]
  },
  {
   "cell_type": "code",
   "execution_count": null,
   "metadata": {},
   "outputs": [],
   "source": [
    "#list without brackets\n",
    "aa=['1','s','f']\n",
    "print(*aa,sep=\"\")"
   ]
  },
  {
   "cell_type": "code",
   "execution_count": null,
   "metadata": {},
   "outputs": [],
   "source": [
    "aa=['1','s','f']\n",
    "print(*aa)"
   ]
  },
  {
   "cell_type": "code",
   "execution_count": null,
   "metadata": {},
   "outputs": [],
   "source": [
    "\n",
    "p=\"asd5gjjsfh5jsh63n2j5nl19\"\n",
    "print(*p,sep=\"\")"
   ]
  },
  {
   "cell_type": "code",
   "execution_count": null,
   "metadata": {},
   "outputs": [],
   "source": [
    "#joining with empty string\n",
    "lis=['g','1','s','f']\n",
    "print(''.join(lis))"
   ]
  },
  {
   "cell_type": "code",
   "execution_count": null,
   "metadata": {},
   "outputs": [],
   "source": [
    "# Leap year or not\n",
    "year = int(input(\"Enter a year: \"))\n",
    "\n",
    "if (year % 4) == 0 and (year % 100) == 0 and (year % 400) == 0:\n",
    "    print('leap')\n",
    "else:\n",
    "    print(\"not\")"
   ]
  },
  {
   "cell_type": "code",
   "execution_count": null,
   "metadata": {},
   "outputs": [],
   "source": [
    "#Joining the given numbers to string \n",
    "l=range(6)\n",
    "''.join([str(i) for i in list(l)])"
   ]
  },
  {
   "cell_type": "code",
   "execution_count": null,
   "metadata": {},
   "outputs": [],
   "source": [
    "#Angstrom\n",
    "#1*1*1+5*5*5+3*3*3=153\n",
    "\n",
    "n=int(input())\n",
    "num=0\n",
    "temp=n\n",
    "while n>0:\n",
    "    s=n%10\n",
    "    num=num+s**3\n",
    "    n=n//10\n",
    "    \n",
    "if temp==num:\n",
    "    print(\"ang\")\n",
    "else:\n",
    "    print(\"not\")"
   ]
  },
  {
   "cell_type": "code",
   "execution_count": null,
   "metadata": {},
   "outputs": [],
   "source": [
    "#Replacing with given string\n",
    "l=\"fffj56sbg56r7s83by\"\n",
    "j='56'\n",
    "if j in l:\n",
    "    g=l.replace(j,'')\n",
    "print(g)"
   ]
  },
  {
   "cell_type": "code",
   "execution_count": null,
   "metadata": {},
   "outputs": [],
   "source": [
    "#Checing the frequency of given string\n",
    "l=\"fffj56sbg56r7s83by\"\n",
    "j='56'\n",
    "f=l.count(j)\n",
    "print(f)"
   ]
  },
  {
   "cell_type": "code",
   "execution_count": null,
   "metadata": {},
   "outputs": [],
   "source": [
    "#Removing numbers from given string\n",
    "l='48nakka3krish'\n",
    "res=''.join([i for i in l if not i.isdigit()])\n",
    "print(res)"
   ]
  },
  {
   "cell_type": "code",
   "execution_count": null,
   "metadata": {},
   "outputs": [],
   "source": [
    "#Convertion of given days to year,week,days\n",
    "nodays=int(input())\n",
    "years=nodays//365\n",
    "weeks=(nodays%365)//7\n",
    "days=(nodays%365)%7\n",
    "print('years={}, weeks={}, days={}'.format(years,weeks,days))"
   ]
  },
  {
   "cell_type": "code",
   "execution_count": null,
   "metadata": {},
   "outputs": [],
   "source": [
    "import math\n",
    "\n",
    "# Taking the input from user\n",
    "number = int(input(\"Enter the Number\"))\n",
    "\n",
    "root = math.sqrt(number)\n",
    "if int(root  ** 2) == number:\n",
    "    print(number, \"is a perfect square\")\n",
    "else:\n",
    "    print(number, \"is not a perfect square\")"
   ]
  },
  {
   "cell_type": "code",
   "execution_count": null,
   "metadata": {},
   "outputs": [],
   "source": [
    "import math\n",
    "def isPerfectSquare(x):\n",
    "    s = int(math.sqrt(x))\n",
    "    return s*s == x\n",
    "\n",
    "def isFibonacci(n):\n",
    "    return isPerfectSquare(5*n*n + 4) or isPerfectSquare(5*n*n - 4)\n",
    "    \n",
    "n=int(input())\n",
    "if isFibonacci(n) == True:\n",
    "    print (n,\"is a Fibonacci Number\")\n",
    "else:\n",
    "    print (n,\"is a not Fibonacci Number \")"
   ]
  },
  {
   "cell_type": "code",
   "execution_count": null,
   "metadata": {},
   "outputs": [],
   "source": [
    "#Taking input as matrix\n",
    "matrix=[]\n",
    "\n",
    "r=int(input(\"rows\"))\n",
    "c=int(input(\"columns\"))\n",
    "\n",
    "for i in range(r):\n",
    "    temp=[]\n",
    "    for j in range(c):\n",
    "        temp.append(int(input()))\n",
    "    matrix.append(temp)\n",
    "print(matrix)\n",
    "        "
   ]
  },
  {
   "cell_type": "code",
   "execution_count": null,
   "metadata": {},
   "outputs": [],
   "source": [
    "#Matrix addition\n",
    "matrix1=[]\n",
    "\n",
    "r=int(input(\"rows\"))\n",
    "c=int(input(\"columns\"))\n",
    "\n",
    "for i in range(r):\n",
    "    temp=[]\n",
    "    for j in range(c):\n",
    "        temp.append(int(input()))\n",
    "    matrix1.append(temp)\n",
    "print(matrix1)\n",
    "\n",
    "\n",
    "matrix2=[]\n",
    "\n",
    "r2=int(input(\"rows\"))\n",
    "c2=int(input(\"columns\"))\n",
    "\n",
    "for i in range(r2):\n",
    "    temp=[]\n",
    "    for j in range(c2):\n",
    "        temp.append(int(input()))\n",
    "    matrix2.append(temp)\n",
    "print(matrix2)\n",
    "\n",
    "\n",
    "result =[]\n",
    "\n",
    "if r==r2 and c==c2:\n",
    "        for i in range(r):                                           #iterate through rows\n",
    "            for j in range(c):                                       #iterate through columns\n",
    "                result[i][j]=matrix1[i][j]+matrix2[i][j]\n",
    "        \n",
    "        for r in result:\n",
    "            print(r)\n",
    "    \n",
    "else:\n",
    "    print(\"the sum of matrices of above are doesn’t exist or undefined because dimensions are different\")"
   ]
  },
  {
   "cell_type": "code",
   "execution_count": null,
   "metadata": {},
   "outputs": [],
   "source": [
    "#Matrix multiplication\n",
    "import numpy as np\n",
    "# take a 3x3 matrix\n",
    "A = [[12, 7, 3],\n",
    "    [4, 5, 6],\n",
    "    [7, 8, 9]]\n",
    " \n",
    "# take a 3x4 matrix\n",
    "B = [[5, 8, 1, 2],\n",
    "    [6, 7, 3, 0],\n",
    "    [4, 5, 9, 1]]\n",
    " \n",
    "# result will be 3x4\n",
    " \n",
    "result= [[0,0,0,0],\n",
    "        [0,0,0,0],\n",
    "        [0,0,0,0]]\n",
    " \n",
    "result = np.dot(A,B)\n",
    " \n",
    "for r in result:\n",
    "    print(r)"
   ]
  },
  {
   "cell_type": "code",
   "execution_count": null,
   "metadata": {},
   "outputs": [],
   "source": [
    "# 1.write a script for finding 2nd highest value and print both key and its value from above dictionary\n",
    "Dict1 = {'apple':600, 'banana':515, 'orange':2102, 'guava':1116,'jack fruit':208}"
   ]
  },
  {
   "cell_type": "code",
   "execution_count": null,
   "metadata": {},
   "outputs": [],
   "source": [
    "# 6.Replace the last element in a list with 0\n",
    "list2 = [[[1,2,3,4],[5,6,8],[9,8,5,2,4,2]], [[13,14,15,16],[17,18,19],[1,2,4,5,6,7]]]\n",
    "for i in list2:\n",
    "    for j in i:\n",
    "        j[-1] = 0\n",
    "print(list2)"
   ]
  },
  {
   "cell_type": "code",
   "execution_count": null,
   "metadata": {},
   "outputs": [],
   "source": [
    "# 4.write a script to convert the tuples of pairs to dictionary of key value pairs\n",
    "list1 = [('a',97),('b',98),('c',99),('d',100)]\n",
    "\n",
    "new_dict = {}\n",
    "for i in list1:\n",
    "    new_dict[i[0]] = i[1]\n",
    "print(new_dict)"
   ]
  },
  {
   "cell_type": "code",
   "execution_count": null,
   "metadata": {},
   "outputs": [],
   "source": [
    "s='a3b2'\n",
    "b=[]\n",
    "for i in range(len(s)):\n",
    "    if s[i].isdigit():\n",
    "        a=s[i]\n",
    "        b.append(s[i-1]*int(a))\n",
    "        \n",
    "''.join(b)"
   ]
  },
  {
   "cell_type": "code",
   "execution_count": null,
   "metadata": {},
   "outputs": [],
   "source": [
    "def solve(s):\n",
    "    res = \"\"\n",
    "    cnt = 1\n",
    "    for i in range(1, len(s)):\n",
    "        if s[i - 1] == s[i]:\n",
    "            cnt=cnt+1\n",
    "        else:\n",
    "            res = res + s[i - 1]\n",
    "            if cnt >= 1:\n",
    "                res=res+ str(cnt)\n",
    "                cnt = 1\n",
    "                \n",
    "    res = res + s[-1]\n",
    "    if cnt >= 1:\n",
    "        res= res+ str(cnt)\n",
    "    return res\n",
    "s = \"abbbaaaaaaccdaaa\"\n",
    "print(solve(s))"
   ]
  },
  {
   "cell_type": "code",
   "execution_count": null,
   "metadata": {},
   "outputs": [],
   "source": [
    "import itertools as p\n",
    "a= \"aaabbbccccd\"\n",
    "x = p.groupby(a)\n",
    "for i,j in x:\n",
    "    s=list(j)\n",
    "    print(i,s.count(i))"
   ]
  },
  {
   "cell_type": "code",
   "execution_count": null,
   "metadata": {},
   "outputs": [],
   "source": [
    "import pandas as pd\n",
    "import random\n",
    "import json\n",
    "\n",
    "f = open('words.json')\n",
    "data = json.load(f)\n",
    "\n",
    "ss=list(data.keys())\n",
    "\n",
    "a=random.choice(ss)\n",
    "ss.remove(a)\n",
    "b=random.choice(ss)\n",
    "ss.remove(b)\n",
    "\n",
    "m=random.randrange(1, 7)\n",
    "n=random.randrange(1, 7)\n",
    "print(a[:m]+b[-n:])"
   ]
  },
  {
   "cell_type": "code",
   "execution_count": null,
   "metadata": {},
   "outputs": [],
   "source": [
    "#fib of a number    F(2) = 1  F(3) = 2  F(5) = 5\n",
    "\n",
    "def fib(n): \n",
    "    if n<0: \n",
    "        print(\"Incorrect input\")  \n",
    "    elif n==0: \n",
    "        return (0)  \n",
    "    elif n==1: \n",
    "        return (1)\n",
    "    else: \n",
    "        return (fib(n-1)+fib(n-2)) \n",
    "    \n",
    "def findgcd(x, y):\n",
    "    while(y):\n",
    "        x, y = y, x % y\n",
    "    return x\n",
    "    \n",
    "l=[]\n",
    "n=int(input())\n",
    "for i in range(n):\n",
    "    a=int(input())\n",
    "    b=fib(a)\n",
    "    l.append(b)\n",
    "\n",
    "num1=l[0]\n",
    "num2=l[1]\n",
    "gcd=findgcd(num1,num2)\n",
    "for i in range(2,len(l)):\n",
    "    gcd=findgcd(gcd,l[i])\n",
    "print(gcd)"
   ]
  },
  {
   "cell_type": "code",
   "execution_count": null,
   "metadata": {},
   "outputs": [],
   "source": [
    "m=int(input())\n",
    "for i in range(m):\n",
    "    int(n),int(x),int(y)=input().split(' ')\n",
    "    s=str(input())\n",
    "    if len(s)<=n:\n",
    "        ss=list(s)\n",
    "        for i in ss: #X min AC   Y T    N string length\n",
    "            if i=='A':\n",
    "                \n",
    "    else:\n",
    "        print()\n",
    "        \n",
    "    "
   ]
  },
  {
   "cell_type": "code",
   "execution_count": null,
   "metadata": {},
   "outputs": [],
   "source": [
    "from math import factorial\n",
    "def f(n):\n",
    "    r=0\n",
    "    while n>0:\n",
    "        s=n%10\n",
    "        r=r+factorial(s)\n",
    "        n=n//10\n",
    "    return r\n",
    "\n",
    "def sf(p):\n",
    "    r=0\n",
    "    while p>0:\n",
    "        s=p%10\n",
    "        r=r+s\n",
    "        p=p//10\n",
    "    return r\n",
    "\n",
    "n= int(input())\n",
    "p=f(n) \n",
    "m=sf(p)"
   ]
  },
  {
   "cell_type": "code",
   "execution_count": null,
   "metadata": {},
   "outputs": [],
   "source": [
    "# def isbalanced(s):\n",
    "#     while(len(s)!=0):\n",
    "#         s = s.replace('()','')\n",
    "#         s = s.replace('[]', '')\n",
    "#         s = s.replace('{}', '')\n",
    "#     if(len(s)== 0):\n",
    "#         return True\n",
    "#     else:\n",
    "#         return False\n",
    "# s='{[(]})'\n",
    "# print('Given string is balanced ',isbalanced(s))"
   ]
  },
  {
   "cell_type": "code",
   "execution_count": null,
   "metadata": {},
   "outputs": [],
   "source": [
    "open_list = [\"[\",\"{\",\"(\"]\n",
    "close_list = [\"]\",\"}\",\")\"]\n",
    "  \n",
    "# Function to check parentheses\n",
    "def check(myStr):\n",
    "    stack = []\n",
    "    for i in myStr:\n",
    "        if i in open_list:\n",
    "            stack.append(i)\n",
    "        elif i in close_list:\n",
    "            pos = close_list.index(i)\n",
    "            if ((len(stack) > 0) and\n",
    "                (open_list[pos] == stack[len(stack)-1])):\n",
    "                stack.pop()\n",
    "            else:\n",
    "                return \"Unbalanced\"\n",
    "    if len(stack) == 0:\n",
    "        return \"Balanced\"\n",
    "    else:\n",
    "        return \"Unbalanced\"\n",
    "  \n",
    "  \n",
    "# Driver code\n",
    "string = \"{[]{()}}\"\n",
    "print(string,\"-\", check(string))\n",
    "  \n",
    "string = \"[{}{})(]\"\n",
    "print(string,\"-\", check(string))"
   ]
  },
  {
   "cell_type": "code",
   "execution_count": null,
   "metadata": {},
   "outputs": [],
   "source": []
  }
 ],
 "metadata": {
  "interpreter": {
   "hash": "2ac21883b9071dd4ff4c462118cd782761a92edefb482082c84be5deb50e9118"
  },
  "kernelspec": {
   "display_name": "Python 3 (ipykernel)",
   "language": "python",
   "name": "python3"
  },
  "language_info": {
   "codemirror_mode": {
    "name": "ipython",
    "version": 3
   },
   "file_extension": ".py",
   "mimetype": "text/x-python",
   "name": "python",
   "nbconvert_exporter": "python",
   "pygments_lexer": "ipython3",
   "version": "3.9.7"
  }
 },
 "nbformat": 4,
 "nbformat_minor": 2
}
