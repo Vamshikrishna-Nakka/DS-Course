{
 "cells": [
  {
   "cell_type": "code",
   "execution_count": 4,
   "id": "74e18f8a",
   "metadata": {},
   "outputs": [],
   "source": [
    "# python -m pip install requests"
   ]
  },
  {
   "cell_type": "code",
   "execution_count": null,
   "id": "35a637a3",
   "metadata": {},
   "outputs": [],
   "source": [
    "An API (Application Programming Interface) is a set of rules that are shared by a particular service.\n",
    "The API acts as a layer between your application and external service. \n",
    "\n",
    "API terminologies\n",
    "1.HTTP\n",
    "2.URL uniform resource locator\n",
    "3.JSON JavaScript Object Notation\n",
    "4.REST REpresentational State Transfer."
   ]
  },
  {
   "cell_type": "code",
   "execution_count": null,
   "id": "37688c39",
   "metadata": {},
   "outputs": [],
   "source": [
    "REST is an API that uses HTTP requests for communication with web services(Client-Server Communication via the Internet)\n",
    "\n",
    "Rest constraints:\n",
    "    \n",
    "Client-server architecture – the client is responsible for the user interface, and the server is responsible for the backend and data storage. Client and server are independent and each of them can be replaced.\n",
    "Stateless – no data from the client is stored on the server side. The session state is stored on the client side.\n",
    "Cacheable – clients can cache server responses to improve performance.\n",
    "\n",
    "Any Web Service that follows the REST Architecture restrictions is referred to as a REST Web Service.\n",
    "REST APIs allow users to access web service data via public web URLs. Python REST API is one such API."
   ]
  },
  {
   "cell_type": "code",
   "execution_count": null,
   "id": "b5d79d3c",
   "metadata": {},
   "outputs": [],
   "source": []
  },
  {
   "cell_type": "code",
   "execution_count": 2,
   "id": "7fdabe58",
   "metadata": {},
   "outputs": [
    {
     "name": "stdout",
     "output_type": "stream",
     "text": [
      "<Response [200]>\n"
     ]
    }
   ],
   "source": [
    "\n",
    "GET   Retrieve information about the REST API resource\n",
    "POST  Create a REST API resource\n",
    "PUT   Update a REST API resource\n",
    "DELETE Delete a REST API resource or related component"
   ]
  }
 ],
 "metadata": {
  "kernelspec": {
   "display_name": "Python 3 (ipykernel)",
   "language": "python",
   "name": "python3"
  },
  "language_info": {
   "codemirror_mode": {
    "name": "ipython",
    "version": 3
   },
   "file_extension": ".py",
   "mimetype": "text/x-python",
   "name": "python",
   "nbconvert_exporter": "python",
   "pygments_lexer": "ipython3",
   "version": "3.9.13"
  }
 },
 "nbformat": 4,
 "nbformat_minor": 5
}
