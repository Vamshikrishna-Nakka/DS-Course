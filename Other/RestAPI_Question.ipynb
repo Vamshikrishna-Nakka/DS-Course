{
 "cells": [
  {
   "cell_type": "code",
   "execution_count": 40,
   "id": "b86d8088",
   "metadata": {},
   "outputs": [],
   "source": [
    "import json\n",
    "import requests\n",
    "import numpy as np\n",
    "import operator\n",
    "import sys"
   ]
  },
  {
   "cell_type": "code",
   "execution_count": 45,
   "id": "b47d17ae",
   "metadata": {},
   "outputs": [],
   "source": [
    "def topArticles(limit):\n",
    "    \n",
    "    url='https://jsonmock.hackerrank.com/api/articles?page='+str(1)\n",
    "    response=requests.request('GET',url,headers={},data={})\n",
    "    r=json.loads(response.text.encode('utf8'))\n",
    "    \n",
    "    n=r['total']\n",
    "    p=r['total_pages']\n",
    "    b=[]\n",
    "    \n",
    "    for i in range(1,p+1):\n",
    "        url='https://jsonmock.hackerrank.com/api/articles?page='+str(i)\n",
    "        response=requests.request('GET',url,headers={},data={})\n",
    "        rr=json.loads(response.text.encode('utf8'))\n",
    "        b.append(rr['data'])\n",
    "        \n",
    "    flatten_list = sum(b, [])\n",
    "    \n",
    "    def key(e):     #sort the num_comments including None values\n",
    "        v = e['num_comments']\n",
    "        return -sys.maxsize if v is None else v\n",
    "\n",
    "    new_sorted_list = sorted((flatten_list ), key=key, reverse=True)\n",
    "    \n",
    "    for i in range(limit):\n",
    "        if new_sorted_list[i]['title']!= None or '':\n",
    "            print(new_sorted_list[i]['title'])\n",
    "        elif new_sorted_list[i]['story_title']!=None:\n",
    "            print(new_sorted_list[i]['story_title'])\n",
    "        else:\n",
    "            pass"
   ]
  },
  {
   "cell_type": "code",
   "execution_count": 47,
   "id": "58be27f0",
   "metadata": {},
   "outputs": [
    {
     "name": "stdout",
     "output_type": "stream",
     "text": [
      "3\n",
      "UK votes to leave EU\n",
      "F.C.C. Repeals Net Neutrality Rules\n",
      "EU approves internet copyright law, including ‘link tax’ and ‘upload filter’\n"
     ]
    }
   ],
   "source": [
    "limit=int(input())\n",
    "topArticles(limit)"
   ]
  },
  {
   "cell_type": "code",
   "execution_count": null,
   "id": "14571912",
   "metadata": {},
   "outputs": [],
   "source": []
  }
 ],
 "metadata": {
  "kernelspec": {
   "display_name": "Python 3 (ipykernel)",
   "language": "python",
   "name": "python3"
  },
  "language_info": {
   "codemirror_mode": {
    "name": "ipython",
    "version": 3
   },
   "file_extension": ".py",
   "mimetype": "text/x-python",
   "name": "python",
   "nbconvert_exporter": "python",
   "pygments_lexer": "ipython3",
   "version": "3.9.7"
  }
 },
 "nbformat": 4,
 "nbformat_minor": 5
}
