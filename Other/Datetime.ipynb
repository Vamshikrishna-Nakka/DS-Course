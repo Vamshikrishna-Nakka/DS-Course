{
 "cells": [
  {
   "cell_type": "code",
   "execution_count": 40,
   "id": "4cd15c82",
   "metadata": {},
   "outputs": [],
   "source": [
    "from datetime import date,time,timezone,tzinfo,timedelta\n",
    "from datetime import datetime\n",
    "import pytz"
   ]
  },
  {
   "cell_type": "code",
   "execution_count": 41,
   "id": "6d272e26",
   "metadata": {},
   "outputs": [],
   "source": [
    "# DateTime module is categorized into 6 main classes \n",
    "\n",
    "# date – An idealized naive date, assuming the current Gregorian calendar always was, and always will be, in effect. Its attributes are year, month and day.\n",
    "# time – An idealized time, independent of any particular day, assuming that every day has exactly 24*60*60 seconds. Its attributes are hour, minute, second, microsecond, and tzinfo.\n",
    "# datetime – Its a combination of date and time along with the attributes year, month, day, hour, minute, second, microsecond, and tzinfo.\n",
    "# timedelta – A duration expressing the difference between two date, time, or datetime instances to microsecond resolution.\n",
    "# tzinfo – It provides time zone information objects.\n",
    "# timezone – A class that implements the tzinfo abstract base class as a fixed offset from the UTC (New in version 3.2)."
   ]
  },
  {
   "cell_type": "code",
   "execution_count": 67,
   "id": "776b2bc1",
   "metadata": {},
   "outputs": [
    {
     "name": "stdout",
     "output_type": "stream",
     "text": [
      "2001-09-11\n",
      "Current date:  2022-08-10\n",
      "year:  2022\n",
      "month:  8\n",
      "Day:  10\n",
      "Weekday:  2\n",
      "Isweekday:  3\n",
      "2022-08-10 <class 'str'>\n"
     ]
    }
   ],
   "source": [
    "# Naive\n",
    "d = date(2001, 9, 11)\n",
    "print(d)\n",
    "\n",
    "today = date.today()\n",
    "print(\"Current date: \",today)\n",
    "\n",
    "print(\"year: \",today.year)\n",
    "print(\"month: \",today.month)\n",
    "print(\"Day: \",today.day)\n",
    "print(\"Weekday: \",today.weekday()) # weekday() - Monday is 0 and Sunday is 6\n",
    "print(\"Isweekday: \", today.isoweekday()) # isoweekday() - Monday is 1 and Sunday is 7\n",
    "\n",
    "Str = date.isoformat(today) # Converting the date to the string\n",
    "print(Str,type(Str))\n",
    "\n"
   ]
  },
  {
   "cell_type": "code",
   "execution_count": 71,
   "id": "3b9d8e5c",
   "metadata": {},
   "outputs": [
    {
     "name": "stdout",
     "output_type": "stream",
     "text": [
      "00:12:00\n",
      "hour = 11\n",
      "minute = 34\n",
      "second = 56\n",
      "microsecond = 0\n",
      "11:34:56 <class 'str'>\n"
     ]
    }
   ],
   "source": [
    "Time = time(11, 34, 56)\n",
    "my_time = time(minute=12)\n",
    "print(my_time)\n",
    "print(\"hour =\", Time.hour)\n",
    "print(\"minute =\", Time.minute)\n",
    "print(\"second =\", Time.second)\n",
    "print(\"microsecond =\", Time.microsecond)\n",
    "Str = Time.isoformat()# Converting Time object to string\n",
    "print(Str,type(Str))"
   ]
  },
  {
   "cell_type": "code",
   "execution_count": 74,
   "id": "b433c9fa",
   "metadata": {},
   "outputs": [
    {
     "name": "stdout",
     "output_type": "stream",
     "text": [
      "year = 1999\n",
      "month = 12\n",
      "hour = 12\n",
      "minute = 12\n",
      "timestamp = 944980932.0\n",
      "2022-08-10 16:09:56.519509\n",
      "2022-08-10T16:09:56.519509 <class 'str'>\n"
     ]
    }
   ],
   "source": [
    "from datetime import datetime\n",
    " \n",
    "a = datetime(1999, 12, 12, 12, 12, 12)\n",
    " \n",
    "print(\"year =\", a.year)\n",
    "print(\"month =\", a.month)\n",
    "print(\"hour =\", a.hour)\n",
    "print(\"minute =\", a.minute)\n",
    "print(\"timestamp =\", a.timestamp())\n",
    "\n",
    "today = datetime.now()\n",
    "print(today)#Current date and time\n",
    "\n",
    "Str = datetime.isoformat(today)\n",
    "print(Str,type(Str))"
   ]
  },
  {
   "cell_type": "code",
   "execution_count": 83,
   "id": "540fba54",
   "metadata": {},
   "outputs": [
    {
     "name": "stdout",
     "output_type": "stream",
     "text": [
      "2024-08-09 16:09:56.519509\n",
      "2022-08-12 16:09:56.519509\n"
     ]
    }
   ],
   "source": [
    "f= today + timedelta(days=730)# Calculating future dates for two years\n",
    "print(f)\n",
    "f1 = today + timedelta(days=2) # Calculating future dates for two days\n",
    "print(f1)"
   ]
  },
  {
   "cell_type": "code",
   "execution_count": 91,
   "id": "177d1f53",
   "metadata": {},
   "outputs": [
    {
     "name": "stdout",
     "output_type": "stream",
     "text": [
      "1999-05-25 02:35:08.023000\n",
      "1999-05-26 12:45:00.003000\n",
      "1999-05-27 07:35:05.523000\n",
      "1999-05-28 05:15:55.523000\n"
     ]
    }
   ],
   "source": [
    "from datetime import datetime\n",
    "time_data = [\"25/05/99 02:35:8.023\", \"26/05/99 12:45:0.003\",\n",
    "             \"27/05/99 07:35:5.523\", \"28/05/99 05:15:55.523\"]\n",
    "format_data = \"%d/%m/%y %H:%M:%S.%f\"\n",
    "for i in time_data:\n",
    "    print(datetime.strptime(i, format_data))"
   ]
  },
  {
   "cell_type": "code",
   "execution_count": 90,
   "id": "4be85a54",
   "metadata": {},
   "outputs": [
    {
     "name": "stdout",
     "output_type": "stream",
     "text": [
      "2022-08-10 10:48:08 UTC+0000\n",
      "2022-08-10 16:18:08 IST+0530\n",
      "2022-08-10 13:48:08 EEST+0300\n",
      "2022-08-10 06:48:08 EDT-0400\n"
     ]
    }
   ],
   "source": [
    "from datetime import datetime\n",
    "from pytz import timezone\n",
    "\n",
    "format = \"%Y-%m-%d %H:%M:%S %Z%z\"\n",
    "now_utc = datetime.now(timezone('UTC'))# Current time in UTC\n",
    "print(now_utc.strftime(format))\n",
    "timezones = ['Asia/Kolkata', 'Europe/Kiev', 'America/New_York']\n",
    "\n",
    "for tzone in timezones:\n",
    "    now_asia = now_utc.astimezone(timezone(tzone))# Convert to Asia/Kolkata time zone\n",
    "    print(now_asia.strftime(format))"
   ]
  },
  {
   "cell_type": "code",
   "execution_count": 1,
   "id": "23162040",
   "metadata": {},
   "outputs": [
    {
     "name": "stdout",
     "output_type": "stream",
     "text": [
      "year: 2022\n",
      "month: 08\n",
      "day: 22\n",
      "time: 10:36:58\n",
      "date and time: 08//22/2022, 10:36:58\n"
     ]
    }
   ],
   "source": [
    "#strftime() function is used to convert date and time objects to their string representation. It takes one or more input of\n",
    "#formatted code and returns the string representation.\n",
    "\n",
    "from datetime import datetime\n",
    "\n",
    "now = datetime.now() # current date and time\n",
    "\n",
    "year = now.strftime(\"%Y\")\n",
    "print(\"year:\", year)\n",
    "\n",
    "month = now.strftime(\"%m\")\n",
    "print(\"month:\", month)\n",
    "\n",
    "day = now.strftime(\"%d\")\n",
    "print(\"day:\", day)\n",
    "\n",
    "time = now.strftime(\"%H:%M:%S\")\n",
    "print(\"time:\", time)\n",
    "\n",
    "date_time = now.strftime(\"%m//%d/%Y, %H:%M:%S\")\n",
    "print(\"date and time:\",date_time)"
   ]
  },
  {
   "cell_type": "code",
   "execution_count": 10,
   "id": "cdedfbb4",
   "metadata": {},
   "outputs": [
    {
     "name": "stdout",
     "output_type": "stream",
     "text": [
      "1999-05-25 02:35:05.523000\n",
      "1999-05-25 02:35:08.023000\n",
      "1999-05-26 12:45:00.003000\n",
      "1999-05-27 07:35:05.523000\n",
      "1999-05-28 05:15:55.523000\n"
     ]
    }
   ],
   "source": [
    "#strptime() is another method available in DateTime which is used to format the time stamp which is in string format to \n",
    "# date-time object.\n",
    "\n",
    "from datetime import datetime\n",
    "time_data = \"25/05/99 02:35:5.523\"\n",
    "format_data = \"%d/%m/%y %H:%M:%S.%f\"\n",
    "date = datetime.strptime(time_data, format_data)\n",
    "print(date)\n",
    "\n",
    "\n",
    "\n",
    "time_data = [\"25/05/99 02:35:8.023\", \"26/05/99 12:45:0.003\",\n",
    "             \"27/05/99 07:35:5.523\", \"28/05/99 05:15:55.523\"]\n",
    "format_data = \"%d/%m/%y %H:%M:%S.%f\"\n",
    "for i in time_data:\n",
    "    print(datetime.strptime(i, format_data))"
   ]
  },
  {
   "cell_type": "code",
   "execution_count": 18,
   "id": "9a6c6f9c",
   "metadata": {},
   "outputs": [
    {
     "name": "stdout",
     "output_type": "stream",
     "text": [
      "2022-08-22 10:37:49\n"
     ]
    }
   ],
   "source": [
    "x='2022-08-22 10:37:49'\n",
    "date_time = datetime.strptime(x,\"%Y-%m-%d %H:%M:%S\")\n",
    "print(date_time)"
   ]
  },
  {
   "cell_type": "code",
   "execution_count": null,
   "id": "aab9ead5",
   "metadata": {},
   "outputs": [],
   "source": []
  },
  {
   "cell_type": "code",
   "execution_count": null,
   "id": "dcc2df02",
   "metadata": {},
   "outputs": [],
   "source": []
  }
 ],
 "metadata": {
  "kernelspec": {
   "display_name": "Python 3 (ipykernel)",
   "language": "python",
   "name": "python3"
  },
  "language_info": {
   "codemirror_mode": {
    "name": "ipython",
    "version": 3
   },
   "file_extension": ".py",
   "mimetype": "text/x-python",
   "name": "python",
   "nbconvert_exporter": "python",
   "pygments_lexer": "ipython3",
   "version": "3.9.12"
  }
 },
 "nbformat": 4,
 "nbformat_minor": 5
}
