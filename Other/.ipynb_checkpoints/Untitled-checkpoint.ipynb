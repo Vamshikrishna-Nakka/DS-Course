{
 "cells": [
  {
   "cell_type": "code",
   "execution_count": null,
   "id": "f3c2f490",
   "metadata": {},
   "outputs": [],
   "source": [
    "--------------Supervised-----------------\n",
    "\n",
    "Classification : output you are looking for is a “yes” or “no,” or in the form of “a” or “b” or “true” or “false.” \n",
    "\n",
    "Regression: used when the predicted data is numerical.  If the shopkeeper wants to predict the price of a product based on\n",
    "            its demand, he will choose regression.\n",
    "\n",
    "\n",
    "Most used algorithms:\n",
    "K-nearest neighbor (KNN)\n",
    "Decision tree\n",
    "Naïve Bayes\n",
    "Random forest\n",
    "Linear regression\n",
    "Polynomial regression\n",
    "Logistic regression\n",
    "SVM"
   ]
  },
  {
   "cell_type": "code",
   "execution_count": null,
   "id": "f4cde23a",
   "metadata": {},
   "outputs": [],
   "source": [
    "--------------Unsupervised-----------------\n",
    "Clustering:\n",
    "    \n",
    "Association:"
   ]
  },
  {
   "cell_type": "code",
   "execution_count": null,
   "id": "0026821b",
   "metadata": {},
   "outputs": [],
   "source": []
  },
  {
   "cell_type": "code",
   "execution_count": null,
   "id": "3da461e1",
   "metadata": {},
   "outputs": [],
   "source": []
  }
 ],
 "metadata": {
  "kernelspec": {
   "display_name": "Python 3 (ipykernel)",
   "language": "python",
   "name": "python3"
  },
  "language_info": {
   "codemirror_mode": {
    "name": "ipython",
    "version": 3
   },
   "file_extension": ".py",
   "mimetype": "text/x-python",
   "name": "python",
   "nbconvert_exporter": "python",
   "pygments_lexer": "ipython3",
   "version": "3.9.12"
  }
 },
 "nbformat": 4,
 "nbformat_minor": 5
}
