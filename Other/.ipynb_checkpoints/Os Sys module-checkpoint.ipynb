{
 "cells": [
  {
   "cell_type": "code",
   "execution_count": 2,
   "id": "65b34057",
   "metadata": {},
   "outputs": [],
   "source": [
    "# os.chmod(path, mode)\n",
    "# os.path.join(parent_dir, directory)\n",
    "# os.remove()                            # remove or delete a file path.\n",
    "# os.rmdir(path)  # remove or delete an empty directory.You should not use os.remove() to remove a directory. That function is for files and using it on directories willresult in an OSError\n",
    "# os.error   #\n",
    "# os.popen() #opens a pipe to or from command.\n",
    "# os.close()\n",
    "# os.rename()\n",
    "# os.path.exists()\n",
    "# os.path.getsize()"
   ]
  },
  {
   "cell_type": "code",
   "execution_count": 2,
   "id": "ffdfb08d",
   "metadata": {},
   "outputs": [
    {
     "ename": "SyntaxError",
     "evalue": "(unicode error) 'unicodeescape' codec can't decode bytes in position 2-3: truncated \\UXXXXXXXX escape (Temp/ipykernel_7948/3420162255.py, line 3)",
     "output_type": "error",
     "traceback": [
      "\u001b[1;36m  File \u001b[1;32m\"C:\\Users\\nakka\\AppData\\Local\\Temp/ipykernel_7948/3420162255.py\"\u001b[1;36m, line \u001b[1;32m3\u001b[0m\n\u001b[1;33m    os.mkdir(\"C:\\Users\\nakka\\Newfoldername\") # Create new folder - By default we wont specify path creates in cwd- if exits same folder raises FileExistsError\u001b[0m\n\u001b[1;37m                                           ^\u001b[0m\n\u001b[1;31mSyntaxError\u001b[0m\u001b[1;31m:\u001b[0m (unicode error) 'unicodeescape' codec can't decode bytes in position 2-3: truncated \\UXXXXXXXX escape\n"
     ]
    }
   ],
   "source": [
    "import os\n",
    "\n"
   ]
  },
  {
   "cell_type": "code",
   "execution_count": 4,
   "id": "cf19adb7",
   "metadata": {},
   "outputs": [
    {
     "ename": "TypeError",
     "evalue": "stat: path should be string, bytes, os.PathLike or integer, not builtin_function_or_method",
     "output_type": "error",
     "traceback": [
      "\u001b[1;31m---------------------------------------------------------------------------\u001b[0m",
      "\u001b[1;31mTypeError\u001b[0m                                 Traceback (most recent call last)",
      "\u001b[1;32m~\\AppData\\Local\\Temp\\ipykernel_38996\\3386126191.py\u001b[0m in \u001b[0;36m<module>\u001b[1;34m\u001b[0m\n\u001b[0;32m      1\u001b[0m \u001b[1;32mimport\u001b[0m \u001b[0mos\u001b[0m\u001b[1;33m\u001b[0m\u001b[1;33m\u001b[0m\u001b[0m\n\u001b[0;32m      2\u001b[0m \u001b[0ms\u001b[0m\u001b[1;33m=\u001b[0m\u001b[0mos\u001b[0m\u001b[1;33m.\u001b[0m\u001b[0mgetcwd\u001b[0m\u001b[1;33m\u001b[0m\u001b[1;33m\u001b[0m\u001b[0m\n\u001b[1;32m----> 3\u001b[1;33m \u001b[0mos\u001b[0m\u001b[1;33m.\u001b[0m\u001b[0mstat\u001b[0m\u001b[1;33m(\u001b[0m\u001b[0ms\u001b[0m\u001b[1;33m)\u001b[0m\u001b[1;33m\u001b[0m\u001b[1;33m\u001b[0m\u001b[0m\n\u001b[0m",
      "\u001b[1;31mTypeError\u001b[0m: stat: path should be string, bytes, os.PathLike or integer, not builtin_function_or_method"
     ]
    }
   ],
   "source": [
    "import os\n",
    "s=os.getcwd\n",
    "os.stat(s)"
   ]
  },
  {
   "cell_type": "code",
   "execution_count": null,
   "id": "8bd5a875",
   "metadata": {},
   "outputs": [],
   "source": []
  },
  {
   "cell_type": "code",
   "execution_count": null,
   "id": "88255560",
   "metadata": {},
   "outputs": [],
   "source": []
  },
  {
   "cell_type": "code",
   "execution_count": null,
   "id": "1f16b6ef",
   "metadata": {},
   "outputs": [],
   "source": []
  },
  {
   "cell_type": "code",
   "execution_count": null,
   "id": "e3b64915",
   "metadata": {},
   "outputs": [],
   "source": []
  },
  {
   "cell_type": "code",
   "execution_count": null,
   "id": "a7a034f2",
   "metadata": {},
   "outputs": [],
   "source": []
  },
  {
   "cell_type": "code",
   "execution_count": null,
   "id": "ac934520",
   "metadata": {},
   "outputs": [],
   "source": []
  },
  {
   "cell_type": "code",
   "execution_count": null,
   "id": "78fb7b05",
   "metadata": {},
   "outputs": [],
   "source": []
  },
  {
   "cell_type": "code",
   "execution_count": null,
   "id": "84075357",
   "metadata": {},
   "outputs": [],
   "source": []
  },
  {
   "cell_type": "code",
   "execution_count": null,
   "id": "1d94caa1",
   "metadata": {},
   "outputs": [],
   "source": [
    "# import sys\n",
    "# sys.maxsize #largest integer a variable can take.\n",
    "# sys.path\n",
    "# sys.version\n",
    "# sys.stdin\n",
    "# sys.stdout\n",
    "# sys.stderr\n",
    "# sys.argv\n",
    "# sys.argv[0] is the name of the current Python script.\n",
    "# sys.exit([arg]) can be used to exit the program.\n",
    "# sys.modules return the name of the Python modules that the current shell has imported.\n",
    "# sys.getrefcount() method is used to get the reference count for any given object\n",
    "# sys.maxint\n"
   ]
  }
 ],
 "metadata": {
  "kernelspec": {
   "display_name": "Python 3 (ipykernel)",
   "language": "python",
   "name": "python3"
  },
  "language_info": {
   "codemirror_mode": {
    "name": "ipython",
    "version": 3
   },
   "file_extension": ".py",
   "mimetype": "text/x-python",
   "name": "python",
   "nbconvert_exporter": "python",
   "pygments_lexer": "ipython3",
   "version": "3.9.13"
  }
 },
 "nbformat": 4,
 "nbformat_minor": 5
}
