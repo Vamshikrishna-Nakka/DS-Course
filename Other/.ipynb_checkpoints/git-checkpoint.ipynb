{
 "cells": [
  {
   "cell_type": "code",
   "execution_count": null,
   "id": "50f9801b",
   "metadata": {},
   "outputs": [],
   "source": [
    "git config --global user.name \"vamshikishna nakka\" # creates username\n",
    "git config --global user.name # to know user name\n",
    "git config --global user.email \"nakkavamshikrishna.@gmail.com\" #seting email\n",
    "git config --global user.email  # to know email\n",
    "\n",
    "git init # for initiazlize repositary on a folder then do clone to get data there\n",
    "\n",
    "git remote set-url orgin \"url\" # setting up url \n",
    "\n",
    "git remote -v # gets all urls of remote with fetch and push.\n",
    "\n",
    "git clone \"url repo\"  # clone master to reponame\n",
    "   #example : git clone https://github.com/vamshi\n",
    "\n",
    "git status # gives status on which branch, commits etc.,\n",
    "git add \"filename\" # single file     example: git add file.txt\n",
    "git add . # all files\n",
    "git commit -m \"message\"\n",
    "git log # to know about commit no of changes\n",
    "\n",
    "\n",
    "git push # moved to git cloud\n",
    "git push orgin master # to push to master branch\n",
    "\n",
    "\n",
    "git branch \"namebranch\" #creating branch\n",
    "git branch  # to know which branch is in active\n",
    "git checkout \"namebranch\" #mentioned branch comes to active\n",
    "git merge \"namebranch\"  #this will merge to master branch\n",
    ":wq # to save commit message after merging\n",
    "git branch -d \"namebranch\"  # deleting branch\n",
    "\n",
    "git help"
   ]
  },
  {
   "cell_type": "code",
   "execution_count": null,
   "id": "ac858f84",
   "metadata": {},
   "outputs": [],
   "source": [
    "whoami # gives user name\n",
    "pwd # present working directory\n",
    "ls -l # long format\n",
    "ls -a\n",
    "touch file.txt"
   ]
  }
 ],
 "metadata": {
  "kernelspec": {
   "display_name": "Python 3 (ipykernel)",
   "language": "python",
   "name": "python3"
  },
  "language_info": {
   "codemirror_mode": {
    "name": "ipython",
    "version": 3
   },
   "file_extension": ".py",
   "mimetype": "text/x-python",
   "name": "python",
   "nbconvert_exporter": "python",
   "pygments_lexer": "ipython3",
   "version": "3.9.12"
  }
 },
 "nbformat": 4,
 "nbformat_minor": 5
}
