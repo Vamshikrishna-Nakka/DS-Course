{
 "cells": [
  {
   "cell_type": "code",
   "execution_count": 9,
   "id": "2c492984",
   "metadata": {},
   "outputs": [
    {
     "name": "stdout",
     "output_type": "stream",
     "text": [
      "The rightmost index to insert, so list remains sorted is  :  5\n",
      "The leftmost index to insert, so list remains sorted is  :  2\n",
      "The rightmost index to insert, so list remains sorted is  :  4\n"
     ]
    }
   ],
   "source": [
    "#Bisect Algorithm Functions\n",
    "#bisect(list, num, beg, end):returns the position in the sorted list, where the number passed in argument can be placed \n",
    "#so as to maintain the resultant list in sorted order.\n",
    "\n",
    "import bisect\n",
    "\n",
    "li = [1, 3, 4, 4, 4, 6, 7]\n",
    "\n",
    "print (\"The rightmost index to insert, so list remains sorted is  : \", bisect.bisect(li, 4))\n",
    "print (\"The leftmost index to insert, so list remains sorted is  : \",bisect.bisect_left(li, 4))\n",
    "print (\"The rightmost index to insert, so list remains sorted is  : \",bisect.bisect_right(li, 4, 0, 4))\n",
    "#bisect() similar to bisect_right()"
   ]
  },
  {
   "cell_type": "code",
   "execution_count": 10,
   "id": "cf5d40b5",
   "metadata": {},
   "outputs": [
    {
     "name": "stdout",
     "output_type": "stream",
     "text": [
      "1 0 1\n",
      "6 1 6\n",
      "2 6 2\n",
      "4 2 4\n",
      "1 4 1\n",
      "5 1 4\n",
      "8 8 8\n"
     ]
    }
   ],
   "source": [
    "#returns the sorted list after inserting number in appropriate position, if the element is already present in the list, \n",
    "#the element is inserted at the rightmost possible position.\n",
    "li1 = [1, 6, 2, 4, 1, 8, 7]\n",
    "li2 = [1, 6, 2, 4, 1, 8, 7]\n",
    "li3 = [1, 6, 2, 4, 1, 8, 7]\n",
    "bisect.insort(li1, 5)\n",
    "bisect.insort_left(li2, 0)\n",
    "bisect.insort_right(li3, 4, 0, 5)\n",
    "for i in range(0, 7):\n",
    "    print(li1[i],li2[i],li3[i])"
   ]
  },
  {
   "cell_type": "code",
   "execution_count": 12,
   "id": "74f004fe",
   "metadata": {},
   "outputs": [
    {
     "name": "stdout",
     "output_type": "stream",
     "text": [
      "LATIN SMALL LETTER E WITH CIRCUMFLEX\n",
      "ê\n"
     ]
    }
   ],
   "source": [
    "import unicodedata\n",
    "print(unicodedata.name(\"ê\"))\n",
    "print(unicodedata.normalize(\"NFKD\", 'ê'))"
   ]
  },
  {
   "cell_type": "code",
   "execution_count": 14,
   "id": "03214ed2",
   "metadata": {},
   "outputs": [
    {
     "name": "stdout",
     "output_type": "stream",
     "text": [
      "[200, 150, 100, 50]\n",
      "[1, 2, 4, 8]\n"
     ]
    }
   ],
   "source": [
    "import heapq\n",
    "numbers = [1, 4, 2, 100, 20, 50, 32, 200, 150, 8]\n",
    "print(heapq.nlargest(4, numbers)) # [200, 150, 100, 50]\n",
    "print(heapq.nsmallest(4, numbers)) # [200, 150, 100, 50]\n",
    "heapq.heappop(numbers)\n",
    "heapq.heapify(numbers)"
   ]
  },
  {
   "cell_type": "code",
   "execution_count": 15,
   "id": "f5dc52d8",
   "metadata": {},
   "outputs": [
    {
     "name": "stdout",
     "output_type": "stream",
     "text": [
      "6\n",
      "six\n"
     ]
    }
   ],
   "source": [
    "import inflect as i\n",
    "s=i.engine()\n",
    "n=input()[:10]\n",
    "for i in n:\n",
    "    p=int(i)\n",
    "    print(s.number_to_words(p))"
   ]
  },
  {
   "cell_type": "code",
   "execution_count": 1,
   "id": "cfaf0038",
   "metadata": {},
   "outputs": [],
   "source": [
    "#inspect module helps in checking the objects present in the code that we have written.\n",
    "# As Python is an OOP language and all the code that is written is basically an interaction between these objects, \n",
    "# hence the inspect module becomes very useful in inspecting certain modules or certain objects. \n",
    "\n",
    "# inspect module provides a lot of methods, these methods can be classified into two categories \n",
    "# i.e. methods to verify the type of token and methods to retrieve the source of token."
   ]
  },
  {
   "cell_type": "code",
   "execution_count": 2,
   "id": "7fd5bb32",
   "metadata": {},
   "outputs": [],
   "source": [
    "# Methods to verify the type of token:\n",
    "# isclass()\n",
    "# ismodule()\n",
    "# isfunction()\n",
    "# ismethod()\n",
    "\n",
    "\n",
    "# Methods to retrieve the source of token:\n",
    "# getclasstree()\n",
    "# getmembers()\n",
    "# signature()\n",
    "# stack()\n",
    "# getsource()\n",
    "# getmodule()\n",
    "# getdoc()"
   ]
  },
  {
   "cell_type": "code",
   "execution_count": null,
   "id": "d8bc8a74",
   "metadata": {},
   "outputs": [],
   "source": []
  },
  {
   "cell_type": "code",
   "execution_count": null,
   "id": "771ba635",
   "metadata": {},
   "outputs": [],
   "source": []
  },
  {
   "cell_type": "code",
   "execution_count": null,
   "id": "9755b2f9",
   "metadata": {},
   "outputs": [],
   "source": []
  },
  {
   "cell_type": "code",
   "execution_count": null,
   "id": "60655f3b",
   "metadata": {},
   "outputs": [],
   "source": []
  },
  {
   "cell_type": "code",
   "execution_count": null,
   "id": "89ee9252",
   "metadata": {},
   "outputs": [],
   "source": []
  },
  {
   "cell_type": "code",
   "execution_count": null,
   "id": "00058ee1",
   "metadata": {},
   "outputs": [],
   "source": []
  },
  {
   "cell_type": "code",
   "execution_count": null,
   "id": "76e94b9e",
   "metadata": {},
   "outputs": [],
   "source": []
  },
  {
   "cell_type": "code",
   "execution_count": null,
   "id": "7f8adbf7",
   "metadata": {},
   "outputs": [],
   "source": []
  },
  {
   "cell_type": "code",
   "execution_count": null,
   "id": "73560b5c",
   "metadata": {},
   "outputs": [],
   "source": []
  },
  {
   "cell_type": "code",
   "execution_count": null,
   "id": "fe9b37aa",
   "metadata": {},
   "outputs": [],
   "source": []
  },
  {
   "cell_type": "code",
   "execution_count": null,
   "id": "4d2ed82c",
   "metadata": {},
   "outputs": [],
   "source": []
  },
  {
   "cell_type": "code",
   "execution_count": null,
   "id": "8b56361a",
   "metadata": {},
   "outputs": [],
   "source": []
  },
  {
   "cell_type": "code",
   "execution_count": null,
   "id": "36f4d3d0",
   "metadata": {},
   "outputs": [],
   "source": []
  },
  {
   "cell_type": "code",
   "execution_count": null,
   "id": "a8bb50a6",
   "metadata": {},
   "outputs": [],
   "source": []
  },
  {
   "cell_type": "code",
   "execution_count": null,
   "id": "4e8c2145",
   "metadata": {},
   "outputs": [],
   "source": [
    "# math.inf and math.nan #infinity and nan\n",
    "# math.isinf(n)"
   ]
  },
  {
   "cell_type": "code",
   "execution_count": null,
   "id": "eceb8d3d",
   "metadata": {},
   "outputs": [],
   "source": []
  },
  {
   "cell_type": "code",
   "execution_count": null,
   "id": "7fed93be",
   "metadata": {},
   "outputs": [],
   "source": [
    "#read from unix pipelines.\n",
    "import sys\n",
    "for line in sys.stdin:\n",
    "    print(line)\n",
    "    \n",
    "    \n",
    "import fileinput\n",
    "for line in fileinput.input():\n",
    "    process(line)\n",
    "    \n",
    "    \n",
    "#If you want more control over the output, you can use sys.stdout.write:\n",
    "\n",
    "import sys\n",
    "sys.stdout.write(\"Hello, \")\n",
    "sys.stdout.write(\"World!\")"
   ]
  },
  {
   "cell_type": "code",
   "execution_count": null,
   "id": "43a00fad",
   "metadata": {},
   "outputs": [],
   "source": []
  },
  {
   "cell_type": "code",
   "execution_count": null,
   "id": "274c1ea7",
   "metadata": {},
   "outputs": [],
   "source": []
  },
  {
   "cell_type": "code",
   "execution_count": null,
   "id": "4701db56",
   "metadata": {},
   "outputs": [],
   "source": []
  },
  {
   "cell_type": "code",
   "execution_count": 4,
   "id": "dd871a48",
   "metadata": {},
   "outputs": [
    {
     "data": {
      "text/plain": [
       "3"
      ]
     },
     "execution_count": 4,
     "metadata": {},
     "output_type": "execute_result"
    }
   ],
   "source": [
    "c=3\n",
    "c.conjugate() #conjugate of the complex number c"
   ]
  },
  {
   "cell_type": "code",
   "execution_count": 3,
   "id": "c06d778b",
   "metadata": {},
   "outputs": [
    {
     "name": "stdout",
     "output_type": "stream",
     "text": [
      "0b101\n",
      "3\n"
     ]
    }
   ],
   "source": [
    "n=5\n",
    "print(bin(n))\n",
    "print(n.bit_length())\n",
    "#print(n.bit_count()) #New in version 3.10."
   ]
  },
  {
   "cell_type": "code",
   "execution_count": 8,
   "id": "2468798b",
   "metadata": {},
   "outputs": [
    {
     "name": "stdout",
     "output_type": "stream",
     "text": [
      "              1  1          1\n",
      "              2  4          8\n",
      "              3  9         27\n",
      "              4 16         64\n"
     ]
    }
   ],
   "source": [
    "for x in range(1, 5):\n",
    "    print('{0:15d} {1:2d} {2:10d}'.format(x, x*x, x*x*x))"
   ]
  },
  {
   "cell_type": "code",
   "execution_count": 9,
   "id": "92c1a0ea",
   "metadata": {},
   "outputs": [
    {
     "name": "stdout",
     "output_type": "stream",
     "text": [
      "Jack: 4098; Sjoerd: 4127; Dcab: 8637678\n",
      "Jack: 4098.000000; Sjoerd: 4127; Dcab: 8637678\n"
     ]
    }
   ],
   "source": [
    "#If you have a really long format string that you don’t want to split up we can use as below 2 ways\n",
    "table = {'Sjoerd': 4127, 'Jack': 4098, 'Dcab': 8637678}\n",
    "print('Jack: {0[Jack]:d}; Sjoerd: {0[Sjoerd]:d}; ''Dcab: {0[Dcab]:d}'.format(table))\n",
    "print('Jack: {Jack:f}; Sjoerd: {Sjoerd:d}; Dcab: {Dcab:d}'.format(**table))"
   ]
  },
  {
   "cell_type": "code",
   "execution_count": 12,
   "id": "2b7a10db",
   "metadata": {},
   "outputs": [
    {
     "data": {
      "text/plain": [
       "<module 'math' (built-in)>"
      ]
     },
     "execution_count": 12,
     "metadata": {},
     "output_type": "execute_result"
    }
   ],
   "source": [
    "import importlib #For efficiency reasons, each module is only imported once per interpreter session. \n",
    "#Therefore, if you change your modules, you must restart the interpreter \n",
    "import math\n",
    "importlib.reload(math)"
   ]
  },
  {
   "cell_type": "code",
   "execution_count": null,
   "id": "bf1a93df",
   "metadata": {},
   "outputs": [],
   "source": []
  },
  {
   "cell_type": "code",
   "execution_count": null,
   "id": "aefb4ff9",
   "metadata": {},
   "outputs": [],
   "source": []
  },
  {
   "cell_type": "code",
   "execution_count": null,
   "id": "bba99093",
   "metadata": {},
   "outputs": [],
   "source": [
    "# def isbalanced(s):\n",
    "#     while(len(s)!=0):\n",
    "#         s = s.replace('()', '') \n",
    "#         s = s.replace('[]', '')\n",
    "#         s = s.replace('{}', '')\n",
    "#     if(len(s)== 0):\n",
    "#         return True\n",
    "#     else:\n",
    "#         return False\n",
    "# s='{[]}'\n",
    "# print('Given string is balanced :',isbalanced(s))"
   ]
  },
  {
   "cell_type": "code",
   "execution_count": null,
   "id": "b1551bc1",
   "metadata": {},
   "outputs": [],
   "source": []
  },
  {
   "cell_type": "code",
   "execution_count": null,
   "id": "dd91dc69",
   "metadata": {},
   "outputs": [],
   "source": []
  },
  {
   "cell_type": "code",
   "execution_count": null,
   "id": "de55d440",
   "metadata": {},
   "outputs": [],
   "source": []
  }
 ],
 "metadata": {
  "kernelspec": {
   "display_name": "Python 3 (ipykernel)",
   "language": "python",
   "name": "python3"
  },
  "language_info": {
   "codemirror_mode": {
    "name": "ipython",
    "version": 3
   },
   "file_extension": ".py",
   "mimetype": "text/x-python",
   "name": "python",
   "nbconvert_exporter": "python",
   "pygments_lexer": "ipython3",
   "version": "3.9.13"
  }
 },
 "nbformat": 4,
 "nbformat_minor": 5
}
