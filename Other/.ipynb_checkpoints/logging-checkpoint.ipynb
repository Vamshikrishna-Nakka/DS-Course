{
 "cells": [
  {
   "cell_type": "code",
   "execution_count": 1,
   "id": "c3a2c68c",
   "metadata": {},
   "outputs": [],
   "source": [
    "import logging"
   ]
  },
  {
   "cell_type": "code",
   "execution_count": 2,
   "id": "e1208fc5",
   "metadata": {},
   "outputs": [],
   "source": [
    "# There are several logger objects offered by the module itself.  \n",
    "\n",
    "# Logger.info(msg) : This will log a message with level INFO on this logger.\n",
    "# Logger.warning(msg) : This will log a message with a level WARNING on this logger.\n",
    "# Logger.error(msg) : This will log a message with level ERROR on this logger.\n",
    "# Logger.critical(msg) : This will log a message with level CRITICAL on this logger.\n",
    "# Logger.log(lvl,msg) : This will Logs a message with integer level lvl on this logger.\n",
    "# Logger.exception(msg) : This will log a message with level ERROR on this logger.\n",
    "# Logger.setLevel(lvl) : This function sets the threshold of this logger to lvl. This means that all the messages below this level will be ignored.\n",
    "# Logger.addFilter(filt) : This adds a specific filter filt into this logger.\n",
    "# Logger.removeFilter(filt) : This removes a specific filter filt into this logger.\n",
    "# Logger.filter(record) : This method applies the logger’s filter to the record provided and returns True if the record is to be processed. Else, it will return False.\n",
    "# Logger.addHandler(hdlr) : This adds a specific handler hdlr to this logger.\n",
    "# Logger.removeHandler(hdlr) : This removes a specific handler hdlr into this logger.\n",
    "# Logger.hasHandlers() : This checks if the logger has any handler configured or not. "
   ]
  },
  {
   "cell_type": "code",
   "execution_count": null,
   "id": "3e5c0a4c",
   "metadata": {},
   "outputs": [],
   "source": []
  },
  {
   "cell_type": "code",
   "execution_count": null,
   "id": "7408436b",
   "metadata": {},
   "outputs": [],
   "source": []
  },
  {
   "cell_type": "code",
   "execution_count": null,
   "id": "45e2a7a4",
   "metadata": {},
   "outputs": [],
   "source": []
  },
  {
   "cell_type": "code",
   "execution_count": 3,
   "id": "33399910",
   "metadata": {},
   "outputs": [],
   "source": [
    "logging.basicConfig(filename=\"newfile.log\",format='%(asctime)s:%(levelname)s:%(name)s:%(message)s',filemode='w')\n",
    " \n",
    "# Creating an object\n",
    "logger = logging.getLogger()\n",
    "\n",
    "# Setting the threshold of logger to DEBUG\n",
    "logger.setLevel(logging.DEBUG)\n",
    " \n",
    "# Test messages\n",
    "logger.debug(\"Harmless debug Message\")\n",
    "logger.info(\"Just an information\")\n",
    "logger.warning(\"Its a Warning\")\n",
    "logger.error(\"Did you try to divide by zero\")\n",
    "logger.critical(\"Internet is down\")"
   ]
  },
  {
   "cell_type": "code",
   "execution_count": 4,
   "id": "fb105154",
   "metadata": {},
   "outputs": [
    {
     "data": {
      "text/plain": [
       "<Logger __main__ (DEBUG)>"
      ]
     },
     "execution_count": 4,
     "metadata": {},
     "output_type": "execute_result"
    }
   ],
   "source": [
    "logging.getLogger(__name__)"
   ]
  },
  {
   "cell_type": "code",
   "execution_count": null,
   "id": "b51c415d",
   "metadata": {},
   "outputs": [],
   "source": [
    "# # Create `parent.child` logger\n",
    "# logger = logging.getLogger(\"parent.child\")\n",
    " \n",
    "# # Emit a log message of level INFO, by default this is not print to the screen\n",
    "# logger.info(\"this is info level\")\n",
    " \n",
    "# # Create `parent` logger\n",
    "# parentlogger = logging.getLogger(\"parent\")\n",
    " \n",
    "# # Set parent's level to INFO and assign a new handler\n",
    "# handler = logging.StreamHandler()\n",
    "# handler.setFormatter(logging.Formatter(\"%(asctime)s:%(name)s:%(levelname)s:%(message)s\"))\n",
    "# parentlogger.setLevel(logging.INFO)\n",
    "# parentlogger.addHandler(handler)\n",
    " \n",
    "# # Let child logger emit a log message again\n",
    "# logger.info(\"this is info level again\")"
   ]
  },
  {
   "cell_type": "code",
   "execution_count": null,
   "id": "2db47840",
   "metadata": {},
   "outputs": [],
   "source": [
    "Threshold of Level:\n",
    "parent_logger = logging.getLogger(\"parent\")\n",
    "parent_logger.setLevel(logging.INFO)"
   ]
  },
  {
   "cell_type": "code",
   "execution_count": null,
   "id": "e2f02cc1",
   "metadata": {},
   "outputs": [],
   "source": [
    "import logging\n",
    " \n",
    "# Set up root logger, and add a file handler to root logger\n",
    "logging.basicConfig(filename = 'file.log',\n",
    "                    level = logging.WARNING,\n",
    "                    format = '%(asctime)s:%(levelname)s:%(name)s:%(message)s')\n",
    " \n",
    "# Create logger, set level, and add stream handler\n",
    "parent_logger = logging.getLogger(\"parent\")\n",
    "parent_logger.setLevel(logging.INFO)\n",
    "parent_shandler = logging.StreamHandler()\n",
    "parent_logger.addHandler(parent_shandler)\n",
    " \n",
    "# Log message of severity INFO or above will be handled\n",
    "parent_logger.debug('Debug message')\n",
    "parent_logger.info('Info message')\n",
    "parent_logger.warning('Warning message')\n",
    "parent_logger.error('Error message')\n",
    "parent_logger.critical('Critical message')"
   ]
  },
  {
   "cell_type": "code",
   "execution_count": null,
   "id": "b67fdee4",
   "metadata": {},
   "outputs": [],
   "source": [
    "Task you want to perform\n",
    "\n",
    "The best tool for the task\n",
    "\n",
    "Display console output for ordinary usage of a command line script or program\n",
    "\n",
    "print()\n",
    "\n",
    "Report events that occur during normal operation of a program (e.g. for status monitoring or fault investigation)\n",
    "\n",
    "logging.info() (or logging.debug() for very detailed output for diagnostic purposes)\n",
    "\n",
    "Issue a warning regarding a particular runtime event\n",
    "\n",
    "warnings.warn() in library code if the issue is avoidable and the client application should be modified to eliminate the warning\n",
    "\n",
    "logging.warning() if there is nothing the client application can do about the situation, but the event should still be noted\n",
    "\n",
    "Report an error regarding a particular runtime event\n",
    "\n",
    "Raise an exception\n",
    "\n",
    "Report suppression of an error without raising an exception (e.g. error handler in a long-running server process)\n",
    "\n",
    "logging.error(), logging.exception() or logging.critical() as appropriate for the specific error and application domain"
   ]
  }
 ],
 "metadata": {
  "kernelspec": {
   "display_name": "Python 3 (ipykernel)",
   "language": "python",
   "name": "python3"
  },
  "language_info": {
   "codemirror_mode": {
    "name": "ipython",
    "version": 3
   },
   "file_extension": ".py",
   "mimetype": "text/x-python",
   "name": "python",
   "nbconvert_exporter": "python",
   "pygments_lexer": "ipython3",
   "version": "3.9.13"
  }
 },
 "nbformat": 4,
 "nbformat_minor": 5
}
