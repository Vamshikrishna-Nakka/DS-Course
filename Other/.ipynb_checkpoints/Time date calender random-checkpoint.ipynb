{
 "cells": [
  {
   "cell_type": "code",
   "execution_count": 55,
   "metadata": {},
   "outputs": [
    {
     "name": "stdout",
     "output_type": "stream",
     "text": [
      "0.584824256088673\n",
      "1\n",
      "92\n",
      "9.291269876234958\n",
      "22\n",
      "two\n",
      "['two', 'four']\n"
     ]
    }
   ],
   "source": [
    "import random\n",
    "print(random.random())\n",
    "print(random.randrange(10))\n",
    "print(random.randrange(0,101,2)) #even numbers\n",
    "print(random.uniform(2.5, 10.0))\n",
    "print(random.getrandbits(6))  #Returns a non-negative Python integer with k random bits\n",
    "\n",
    "deck = 'ace two three four'.split()\n",
    "print(random.choice(deck))\n",
    "print(random.choices(deck,k =2)) # random.choices(sequence, weights=None, cum_weights=None, k=1)\n",
    "\n",
    "#print(random.shuffle(d))    removed this function from 3.9version              "
   ]
  },
  {
   "cell_type": "code",
   "execution_count": 56,
   "metadata": {},
   "outputs": [
    {
     "name": "stdout",
     "output_type": "stream",
     "text": [
      "[[0.36500439 0.07590634]\n",
      " [0.50260587 0.42046092]\n",
      " [0.74090126 0.14000385]]\n",
      "[[ 0.03427957 -0.62194212]\n",
      " [-0.47450314  0.03273906]]\n",
      "55\n",
      "0.6038518753802168\n",
      "[0.6646569  0.45766362 0.61616915 0.85077158]\n",
      "[0.85342144 0.92049565 0.04369708 0.49765124 0.5327268  0.54893745\n",
      " 0.92848203 0.06972606 0.48759859 0.58250347]\n",
      "[ 0.06446634 -0.64743932  0.74391595  1.13762137]\n"
     ]
    }
   ],
   "source": [
    "import numpy as np  \n",
    "print(np.random.rand(3,2) ) #3rows 2 columns data\n",
    "print(np.random.randn(2,2) ) \n",
    "\n",
    "print(np.random.randint(66) )#random.randint(low,high=None,size=None,dtype=int) random int number\n",
    "print(np.random.rand())  #random float number\n",
    "\n",
    "print(np.random.random_sample(4))\n",
    "print(np.random.uniform(0,1,10))\n",
    "print(np.random.normal(size = 4))"
   ]
  },
  {
   "cell_type": "code",
   "execution_count": 4,
   "metadata": {},
   "outputs": [
    {
     "name": "stdout",
     "output_type": "stream",
     "text": [
      "1650190189.565764\n",
      "time.struct_time(tm_year=2022, tm_mon=4, tm_mday=17, tm_hour=15, tm_min=39, tm_sec=49, tm_wday=6, tm_yday=107, tm_isdst=0)\n",
      "Sun Apr 17 15:39:49 2022\n",
      "None\n",
      "('India Standard Time', 'India Daylight Time')\n",
      "-19800\n"
     ]
    }
   ],
   "source": [
    "import time\n",
    "print(time.time())  #number of ticks spent since 12 AM, 1st January 1970 \n",
    "print(time.localtime(time.time()))  #Currenttime\n",
    "print(time.asctime(time.localtime(time.time())))  ##returns the formatted time \n",
    "print(time.sleep(1)) #used to stop the execution for 1sec\n",
    "print(time.tzname) #provides timezone name\n",
    "print(time.timezone) #timezone offset in seconds"
   ]
  },
  {
   "cell_type": "code",
   "execution_count": 35,
   "metadata": {},
   "outputs": [
    {
     "name": "stdout",
     "output_type": "stream",
     "text": [
      "False\n",
      "1\n",
      "6\n",
      "                                  2022\n",
      "\n",
      "      January                   February                   March\n",
      "Mo Tu We Th Fr Sa Su      Mo Tu We Th Fr Sa Su      Mo Tu We Th Fr Sa Su\n",
      "                1  2          1  2  3  4  5  6          1  2  3  4  5  6\n",
      " 3  4  5  6  7  8  9       7  8  9 10 11 12 13       7  8  9 10 11 12 13\n",
      "10 11 12 13 14 15 16      14 15 16 17 18 19 20      14 15 16 17 18 19 20\n",
      "17 18 19 20 21 22 23      21 22 23 24 25 26 27      21 22 23 24 25 26 27\n",
      "24 25 26 27 28 29 30      28                        28 29 30 31\n",
      "31\n",
      "\n",
      "       April                      May                       June\n",
      "Mo Tu We Th Fr Sa Su      Mo Tu We Th Fr Sa Su      Mo Tu We Th Fr Sa Su\n",
      "             1  2  3                         1             1  2  3  4  5\n",
      " 4  5  6  7  8  9 10       2  3  4  5  6  7  8       6  7  8  9 10 11 12\n",
      "11 12 13 14 15 16 17       9 10 11 12 13 14 15      13 14 15 16 17 18 19\n",
      "18 19 20 21 22 23 24      16 17 18 19 20 21 22      20 21 22 23 24 25 26\n",
      "25 26 27 28 29 30         23 24 25 26 27 28 29      27 28 29 30\n",
      "                          30 31\n",
      "\n",
      "        July                     August                  September\n",
      "Mo Tu We Th Fr Sa Su      Mo Tu We Th Fr Sa Su      Mo Tu We Th Fr Sa Su\n",
      "             1  2  3       1  2  3  4  5  6  7                1  2  3  4\n",
      " 4  5  6  7  8  9 10       8  9 10 11 12 13 14       5  6  7  8  9 10 11\n",
      "11 12 13 14 15 16 17      15 16 17 18 19 20 21      12 13 14 15 16 17 18\n",
      "18 19 20 21 22 23 24      22 23 24 25 26 27 28      19 20 21 22 23 24 25\n",
      "25 26 27 28 29 30 31      29 30 31                  26 27 28 29 30\n",
      "\n",
      "      October                   November                  December\n",
      "Mo Tu We Th Fr Sa Su      Mo Tu We Th Fr Sa Su      Mo Tu We Th Fr Sa Su\n",
      "                1  2          1  2  3  4  5  6                1  2  3  4\n",
      " 3  4  5  6  7  8  9       7  8  9 10 11 12 13       5  6  7  8  9 10 11\n",
      "10 11 12 13 14 15 16      14 15 16 17 18 19 20      12 13 14 15 16 17 18\n",
      "17 18 19 20 21 22 23      21 22 23 24 25 26 27      19 20 21 22 23 24 25\n",
      "24 25 26 27 28 29 30      28 29 30                  26 27 28 29 30 31\n",
      "31\n",
      "None\n",
      "                                  2016\n",
      "\n",
      "      January                   February                   March\n",
      "Mo Tu We Th Fr Sa Su      Mo Tu We Th Fr Sa Su      Mo Tu We Th Fr Sa Su\n",
      "             1  2  3       1  2  3  4  5  6  7          1  2  3  4  5  6\n",
      " 4  5  6  7  8  9 10       8  9 10 11 12 13 14       7  8  9 10 11 12 13\n",
      "11 12 13 14 15 16 17      15 16 17 18 19 20 21      14 15 16 17 18 19 20\n",
      "18 19 20 21 22 23 24      22 23 24 25 26 27 28      21 22 23 24 25 26 27\n",
      "25 26 27 28 29 30 31      29                        28 29 30 31\n",
      "\n",
      "       April                      May                       June\n",
      "Mo Tu We Th Fr Sa Su      Mo Tu We Th Fr Sa Su      Mo Tu We Th Fr Sa Su\n",
      "             1  2  3                         1             1  2  3  4  5\n",
      " 4  5  6  7  8  9 10       2  3  4  5  6  7  8       6  7  8  9 10 11 12\n",
      "11 12 13 14 15 16 17       9 10 11 12 13 14 15      13 14 15 16 17 18 19\n",
      "18 19 20 21 22 23 24      16 17 18 19 20 21 22      20 21 22 23 24 25 26\n",
      "25 26 27 28 29 30         23 24 25 26 27 28 29      27 28 29 30\n",
      "                          30 31\n",
      "\n",
      "        July                     August                  September\n",
      "Mo Tu We Th Fr Sa Su      Mo Tu We Th Fr Sa Su      Mo Tu We Th Fr Sa Su\n",
      "             1  2  3       1  2  3  4  5  6  7                1  2  3  4\n",
      " 4  5  6  7  8  9 10       8  9 10 11 12 13 14       5  6  7  8  9 10 11\n",
      "11 12 13 14 15 16 17      15 16 17 18 19 20 21      12 13 14 15 16 17 18\n",
      "18 19 20 21 22 23 24      22 23 24 25 26 27 28      19 20 21 22 23 24 25\n",
      "25 26 27 28 29 30 31      29 30 31                  26 27 28 29 30\n",
      "\n",
      "      October                   November                  December\n",
      "Mo Tu We Th Fr Sa Su      Mo Tu We Th Fr Sa Su      Mo Tu We Th Fr Sa Su\n",
      "                1  2          1  2  3  4  5  6                1  2  3  4\n",
      " 3  4  5  6  7  8  9       7  8  9 10 11 12 13       5  6  7  8  9 10 11\n",
      "10 11 12 13 14 15 16      14 15 16 17 18 19 20      12 13 14 15 16 17 18\n",
      "17 18 19 20 21 22 23      21 22 23 24 25 26 27      19 20 21 22 23 24 25\n",
      "24 25 26 27 28 29 30      28 29 30                  26 27 28 29 30 31\n",
      "31\n",
      "\n",
      "     March 2021\n",
      "Mo Tu We Th Fr Sa Su\n",
      " 1  2  3  4  5  6  7\n",
      " 8  9 10 11 12 13 14\n",
      "15 16 17 18 19 20 21\n",
      "22 23 24 25 26 27 28\n",
      "29 30 31\n",
      "None\n",
      "      May 2016\n",
      "Mo Tu We Th Fr Sa Su\n",
      "                   1\n",
      " 2  3  4  5  6  7  8\n",
      " 9 10 11 12 13 14 15\n",
      "16 17 18 19 20 21 22\n",
      "23 24 25 26 27 28 29\n",
      "30 31\n",
      "\n",
      "(5, 31)\n",
      "0\n",
      "<calendar._localized_day object at 0x000001DF9A54F130>\n",
      "<calendar._localized_month object at 0x000001DF9A54F1F0>\n",
      "[[0, 0, 0, 0, 1, 2, 3], [4, 5, 6, 7, 8, 9, 10], [11, 12, 13, 14, 15, 16, 17], [18, 19, 20, 21, 22, 23, 24], [25, 26, 27, 28, 29, 30, 0]]\n",
      "None\n"
     ]
    }
   ],
   "source": [
    "import calendar\n",
    "print(calendar.isleap(2022))#leapyear or not\n",
    "print(calendar.leapdays(2015, 2018))\n",
    "print(calendar.weekday(2022, 4, 17))\n",
    "print(calendar.prcal(2022))#full calender\n",
    "print(calendar.calendar(2016))\n",
    "print(calendar.prmonth(2021,3))#full month \n",
    "print(calendar.month(2016,5))\n",
    "print(calendar.monthrange(2022,1))\n",
    "print(calendar.firstweekday()) #Monday\n",
    "print(calendar.day_name)\n",
    "print(calendar.month_name)\n",
    "print(calendar.monthcalendar(2022, 4)) #Returns a matrix representing a month’s calendar. Each row represents a week; days outside of the month are represented by zeros. Each week begins with Monday unless set by setfirstweekday().\n",
    "print(calendar.setfirstweekday(calendar.MONDAY))\n"
   ]
  },
  {
   "cell_type": "code",
   "execution_count": 22,
   "metadata": {},
   "outputs": [
    {
     "ename": "SyntaxError",
     "evalue": "invalid syntax (Temp/ipykernel_17160/1908862345.py, line 4)",
     "output_type": "error",
     "traceback": [
      "\u001b[1;36m  File \u001b[1;32m\"C:\\Users\\1734783\\AppData\\Local\\Temp/ipykernel_17160/1908862345.py\"\u001b[1;36m, line \u001b[1;32m4\u001b[0m\n\u001b[1;33m    print(calendar.0)\u001b[0m\n\u001b[1;37m                  ^\u001b[0m\n\u001b[1;31mSyntaxError\u001b[0m\u001b[1;31m:\u001b[0m invalid syntax\n"
     ]
    }
   ],
   "source": [
    "print(calendar.MONDAY)  #where MONDAY is 0 and  is 6.\n",
    "print(calendar.SUNDAY)"
   ]
  },
  {
   "cell_type": "code",
   "execution_count": 5,
   "metadata": {},
   "outputs": [
    {
     "name": "stdout",
     "output_type": "stream",
     "text": [
      "00:00:00\n",
      "2022-04-17\n"
     ]
    }
   ],
   "source": [
    "import datetime\n",
    "print(datetime.time())\n",
    "print(datetime.date.today())"
   ]
  },
  {
   "cell_type": "code",
   "execution_count": 6,
   "metadata": {},
   "outputs": [
    {
     "name": "stdout",
     "output_type": "stream",
     "text": [
      "2022-04-17 15:39:50.714299\n",
      "2022\n",
      "4\n",
      "17\n",
      "15\n",
      "39\n",
      "50\n",
      "None\n",
      "1650190190.714299\n"
     ]
    }
   ],
   "source": [
    "dt=datetime.datetime.now()\n",
    "print(dt)\n",
    "print(dt.year)\n",
    "print(dt.month)\n",
    "print(dt.day)\n",
    "print(dt.hour)\n",
    "print(dt.minute)\n",
    "print(dt.second)\n",
    "print(dt.tzinfo)\n",
    "print(dt.timestamp())"
   ]
  },
  {
   "cell_type": "code",
   "execution_count": null,
   "metadata": {},
   "outputs": [],
   "source": []
  }
 ],
 "metadata": {
  "kernelspec": {
   "display_name": "Python 3 (ipykernel)",
   "language": "python",
   "name": "python3"
  },
  "language_info": {
   "codemirror_mode": {
    "name": "ipython",
    "version": 3
   },
   "file_extension": ".py",
   "mimetype": "text/x-python",
   "name": "python",
   "nbconvert_exporter": "python",
   "pygments_lexer": "ipython3",
   "version": "3.9.13"
  }
 },
 "nbformat": 4,
 "nbformat_minor": 4
}
