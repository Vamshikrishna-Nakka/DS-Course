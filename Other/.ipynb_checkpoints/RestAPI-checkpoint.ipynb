{
 "cells": [
  {
   "cell_type": "code",
   "execution_count": 4,
   "id": "74e18f8a",
   "metadata": {},
   "outputs": [],
   "source": [
    "# python -m pip install requests"
   ]
  },
  {
   "cell_type": "code",
   "execution_count": null,
   "id": "35a637a3",
   "metadata": {},
   "outputs": [],
   "source": [
    "An API (Application Programming Interface) is a set of rules that are shared by a particular service.\n",
    "The API acts as a layer between your application and external service. \n",
    "\n",
    "API terminologies\n",
    "1.HTTP\n",
    "2.URL uniform resource locator\n",
    "3.JSON JavaScript Object Notation\n",
    "4.REST REpresentational State Transfer."
   ]
  },
  {
   "cell_type": "code",
   "execution_count": null,
   "id": "37688c39",
   "metadata": {},
   "outputs": [],
   "source": [
    "REST is an API that uses HTTP requests for communication with web services(Client-Server Communication via the Internet)\n",
    "\n",
    "Rest constraints:\n",
    "    \n",
    "Client-server architecture – the client is responsible for the user interface, and the server is responsible for the backend and data storage. Client and server are independent and each of them can be replaced.\n",
    "Stateless – no data from the client is stored on the server side. The session state is stored on the client side.\n",
    "Cacheable – clients can cache server responses to improve performance.\n",
    "\n",
    "Any Web Service that follows the REST Architecture restrictions is referred to as a REST Web Service.\n",
    "REST APIs allow users to access web service data via public web URLs. Python REST API is one such API."
   ]
  },
  {
   "cell_type": "code",
   "execution_count": null,
   "id": "b5d79d3c",
   "metadata": {},
   "outputs": [],
   "source": []
  },
  {
   "cell_type": "code",
   "execution_count": 2,
   "id": "7fdabe58",
   "metadata": {},
   "outputs": [
    {
     "name": "stdout",
     "output_type": "stream",
     "text": [
      "<Response [200]>\n"
     ]
    }
   ],
   "source": [
    "\n",
    "GET   Retrieve information about the REST API resource\n",
    "POST  Create a REST API resource\n",
    "PUT   Update a REST API resource\n",
    "DELETE Delete a REST API resource or related component"
   ]
  },
  {
   "cell_type": "code",
   "execution_count": null,
   "id": "dafeaad3",
   "metadata": {},
   "outputs": [],
   "source": []
  },
  {
   "cell_type": "code",
   "execution_count": 2,
   "id": "7470dbb9",
   "metadata": {},
   "outputs": [
    {
     "name": "stdout",
     "output_type": "stream",
     "text": [
      "200\n"
     ]
    }
   ],
   "source": []
  },
  {
   "cell_type": "code",
   "execution_count": 3,
   "id": "c2047465",
   "metadata": {},
   "outputs": [
    {
     "name": "stdout",
     "output_type": "stream",
     "text": [
      "Request is successful.\n"
     ]
    }
   ],
   "source": []
  },
  {
   "cell_type": "code",
   "execution_count": 24,
   "id": "5ed57a81",
   "metadata": {},
   "outputs": [
    {
     "name": "stdout",
     "output_type": "stream",
     "text": [
      "{'userId': 1, 'id': 1, 'title': 'delectus aut autem', 'completed': False}\n",
      "b'{\\n  \"userId\": 1,\\n  \"id\": 1,\\n  \"title\": \"delectus aut autem\",\\n  \"completed\": false\\n}'\n",
      "https://jsonplaceholder.typicode.com/todos/1\n"
     ]
    },
    {
     "data": {
      "text/plain": [
       "'application/json; charset=utf-8'"
      ]
     },
     "execution_count": 24,
     "metadata": {},
     "output_type": "execute_result"
    }
   ],
   "source": [
    "# GET\n",
    "import requests\n",
    "api_url = \"https://jsonplaceholder.typicode.com/todos/1\"\n",
    "response = requests.get(api_url)             # using get method.  requests.get(url, params={key: value}, args)\n",
    "print(response.json())\n",
    "print(response.content)                      # displays content of request\n",
    "print(response.url)                          # print request object\n",
    "response.headers['Content-Type']"
   ]
  },
  {
   "cell_type": "code",
   "execution_count": 6,
   "id": "64afda8b",
   "metadata": {},
   "outputs": [
    {
     "data": {
      "text/plain": [
       "{'userId': 1, 'title': 'Buy milk', 'completed': False, 'id': 201}"
      ]
     },
     "execution_count": 6,
     "metadata": {},
     "output_type": "execute_result"
    }
   ],
   "source": [
    "#POST\n",
    "import requests\n",
    "api_url = \"https://jsonplaceholder.typicode.com/todos\"\n",
    "todo = {\"userId\": 1, \"title\": \"Buy milk\", \"completed\": False}\n",
    "response = requests.post(api_url, json=todo) # requests.post(url, data={key: value}, json={key: value}, args)\n",
    "response.json()"
   ]
  },
  {
   "cell_type": "code",
   "execution_count": 7,
   "id": "f6927500",
   "metadata": {},
   "outputs": [
    {
     "data": {
      "text/plain": [
       "{}"
      ]
     },
     "execution_count": 7,
     "metadata": {},
     "output_type": "execute_result"
    }
   ],
   "source": [
    "#DELETE\n",
    "import requests\n",
    "api_url = \"https://jsonplaceholder.typicode.com/todos/10\"\n",
    "response = requests.delete(api_url)\n",
    "response.json()"
   ]
  },
  {
   "cell_type": "code",
   "execution_count": 15,
   "id": "c862bc10",
   "metadata": {},
   "outputs": [
    {
     "data": {
      "text/plain": [
       "{'userId': '1', 'title': 'Wash car', 'completed': 'True', 'id': 10}"
      ]
     },
     "execution_count": 15,
     "metadata": {},
     "output_type": "execute_result"
    }
   ],
   "source": [
    "#PUT\n",
    "import requests\n",
    "api_url = \"https://jsonplaceholder.typicode.com/todos/10\"\n",
    "response = requests.get(api_url)\n",
    "response.json()\n",
    "todo = {\"userId\": 1, \"title\": \"Wash car\", \"completed\": True}\n",
    "response = requests.put(api_url, todo)\n",
    "response.json() #overrides with same key data"
   ]
  },
  {
   "cell_type": "code",
   "execution_count": 20,
   "id": "443ce731",
   "metadata": {},
   "outputs": [
    {
     "ename": "SyntaxError",
     "evalue": "invalid syntax (Temp/ipykernel_10048/1128748917.py, line 1)",
     "output_type": "error",
     "traceback": [
      "\u001b[1;36m  File \u001b[1;32m\"C:\\Users\\nakka\\AppData\\Local\\Temp/ipykernel_10048/1128748917.py\"\u001b[1;36m, line \u001b[1;32m1\u001b[0m\n\u001b[1;33m    Response Methods\u001b[0m\n\u001b[1;37m             ^\u001b[0m\n\u001b[1;31mSyntaxError\u001b[0m\u001b[1;31m:\u001b[0m invalid syntax\n"
     ]
    }
   ],
   "source": [
    "Response Methods\n",
    "response.headers\tresponse.headers returns a dictionary of response headers.\n",
    "response.encoding\tresponse.encoding returns the encoding used to decode response.content.\n",
    "response.elapsed\tresponse.elapsed returns a timedelta object with the time elapsed from sending the request to the arrival of the response.\n",
    "response.close()\tresponse.close() closes the connection to the server.\n",
    "response.content\tresponse.content returns the content of the response, in bytes.\n",
    "response.cookies\tresponse.cookies returns a CookieJar object with the cookies sent back from the server.\n",
    "response.history\tresponse.history returns a list of response objects holding the history of request (url).\n",
    "response.is_permanent_redirect\tresponse.is_permanent_redirect returns True if the response is the permanent redirected url, otherwise False.\n",
    "response.is_redirect\tresponse.is_redirect returns True if the response was redirected, otherwise False.\n",
    "response.iter_content()\tresponse.iter_content() iterates over the response.content.\n",
    "response.json() \t response.json() returns a JSON object of the result (if the result was written in JSON format, if not it raises an error).\n",
    "response.url\tresponse.url returns the URL of the response.\n",
    "response.text\tresponse.text returns the content of the response, in unicode.\n",
    "response.status_code\tresponse.status_code returns a number that indicates the status (200 is OK, 404 is Not Found).\n",
    "response.request\tresponse.request returns the request object that requested this response.\n",
    "response.reason\tresponse.reason returns a text corresponding to the status code.\n",
    "response.raise_for_status()\tresponse.raise_for_status() returns an HTTPError object if an error has occurred during the process.\n",
    "response.ok\tresponse.ok returns True if status_code is less than 200, otherwise False.\n",
    "response.links\tresponse.links returns the header links."
   ]
  },
  {
   "cell_type": "code",
   "execution_count": 23,
   "id": "36afe852",
   "metadata": {},
   "outputs": [],
   "source": [
    "#Authentication using Python Requests\n",
    "from requests.auth import HTTPBasicAuth\n",
    "response = requests.get('https://api.github.com / user, ',auth = HTTPBasicAuth('user', 'pass'))"
   ]
  },
  {
   "cell_type": "code",
   "execution_count": 22,
   "id": "84fc45f5",
   "metadata": {},
   "outputs": [
    {
     "name": "stdout",
     "output_type": "stream",
     "text": [
      "{\n",
      "  \"cookies\": {\n",
      "    \"sessioncookie\": \"123456789\"\n",
      "  }\n",
      "}\n",
      "\n"
     ]
    }
   ],
   "source": [
    "# Session Objects\n",
    "\n",
    "import requests\n",
    "s = requests.Session()\n",
    "s.get('https://httpbin.org/cookies/set/sessioncookie/123456789')\n",
    "r = s.get('https://httpbin.org/cookies')\n",
    "print(r.text)"
   ]
  },
  {
   "cell_type": "code",
   "execution_count": 5,
   "id": "8137462b",
   "metadata": {},
   "outputs": [
    {
     "data": {
      "text/plain": [
       "{'page': 1,\n",
       " 'per_page': 10,\n",
       " 'total': 41,\n",
       " 'total_pages': 5,\n",
       " 'data': [{'title': 'A Message to Our Customers',\n",
       "   'url': 'http://www.apple.com/customer-letter/',\n",
       "   'author': 'epaga',\n",
       "   'num_comments': 967,\n",
       "   'story_id': None,\n",
       "   'story_title': None,\n",
       "   'story_url': None,\n",
       "   'parent_id': None,\n",
       "   'created_at': 1455698317},\n",
       "  {'title': '“Was isolated from 1999 to 2006 with a 486. Built my own late 80s OS”',\n",
       "   'url': 'http://imgur.com/gallery/hRf2trV',\n",
       "   'author': 'epaga',\n",
       "   'num_comments': 265,\n",
       "   'story_id': None,\n",
       "   'story_title': None,\n",
       "   'story_url': None,\n",
       "   'parent_id': None,\n",
       "   'created_at': 1418517626},\n",
       "  {'title': 'Apple’s declining software quality',\n",
       "   'url': 'http://sudophilosophical.com/2016/02/04/apples-declining-software-quality/',\n",
       "   'author': 'epaga',\n",
       "   'num_comments': 705,\n",
       "   'story_id': None,\n",
       "   'story_title': None,\n",
       "   'story_url': None,\n",
       "   'parent_id': None,\n",
       "   'created_at': 1454596037},\n",
       "  {'title': None,\n",
       "   'url': None,\n",
       "   'author': 'patricktomas',\n",
       "   'num_comments': 376,\n",
       "   'story_id': None,\n",
       "   'story_title': 'Steve Jobs has passed away.',\n",
       "   'story_url': 'http://www.apple.com/stevejobs/',\n",
       "   'parent_id': None,\n",
       "   'created_at': 1317858143},\n",
       "  {'title': 'Google Is Eating Our Mail',\n",
       "   'url': 'https://www.tablix.org/~avian/blog/archives/2019/04/google_is_eating_our_mail/',\n",
       "   'author': 'saintamh',\n",
       "   'num_comments': 685,\n",
       "   'story_id': None,\n",
       "   'story_title': None,\n",
       "   'story_url': None,\n",
       "   'parent_id': None,\n",
       "   'created_at': 1556274921},\n",
       "  {'title': 'Why I’m Suing the US Government',\n",
       "   'url': 'https://www.bunniestudios.com/blog/?p=4782',\n",
       "   'author': 'saintamh',\n",
       "   'num_comments': 305,\n",
       "   'story_id': None,\n",
       "   'story_title': None,\n",
       "   'story_url': None,\n",
       "   'parent_id': None,\n",
       "   'created_at': 1469106658},\n",
       "  {'title': 'F.C.C. Repeals Net Neutrality Rules',\n",
       "   'url': 'https://www.nytimes.com/2017/12/14/technology/net-neutrality-repeal-vote.html',\n",
       "   'author': 'panny',\n",
       "   'num_comments': 1397,\n",
       "   'story_id': None,\n",
       "   'story_title': None,\n",
       "   'story_url': None,\n",
       "   'parent_id': None,\n",
       "   'created_at': 1513275215},\n",
       "  {'title': 'Show HN: This up votes itself',\n",
       "   'url': 'http://news.ycombinator.com/vote?for=3742902&dir=up&whence=%6e%65%77%65%73%74',\n",
       "   'author': 'olalonde',\n",
       "   'num_comments': 83,\n",
       "   'story_id': None,\n",
       "   'story_title': None,\n",
       "   'story_url': None,\n",
       "   'parent_id': None,\n",
       "   'created_at': 1332463239},\n",
       "  {'title': None,\n",
       "   'url': None,\n",
       "   'author': 'olalonde',\n",
       "   'num_comments': None,\n",
       "   'story_id': None,\n",
       "   'story_title': 'Guacamole – A clientless remote desktop gateway',\n",
       "   'story_url': 'https://guacamole.incubator.apache.org/',\n",
       "   'parent_id': 6547669,\n",
       "   'created_at': 1381763543},\n",
       "  {'title': None,\n",
       "   'url': None,\n",
       "   'author': 'WisNorCan',\n",
       "   'num_comments': 981,\n",
       "   'story_id': None,\n",
       "   'story_title': 'Switch from Chrome to Firefox',\n",
       "   'story_url': 'https://www.mozilla.org/en-US/firefox/switch/',\n",
       "   'parent_id': None,\n",
       "   'created_at': 1559232559}]}"
      ]
     },
     "execution_count": 5,
     "metadata": {},
     "output_type": "execute_result"
    }
   ],
   "source": [
    "import json\n",
    "url='https://jsonmock.hackerrank.com/api/articles?page='+str(1)\n",
    "response=requests.request('GET',url,headers={},data={})\n",
    "r=json.loads(response.text.encode('utf8'))\n",
    "r"
   ]
  },
  {
   "cell_type": "code",
   "execution_count": 28,
   "id": "1823552f",
   "metadata": {},
   "outputs": [
    {
     "ename": "NameError",
     "evalue": "name 'flatten_list' is not defined",
     "output_type": "error",
     "traceback": [
      "\u001b[1;31m---------------------------------------------------------------------------\u001b[0m",
      "\u001b[1;31mNameError\u001b[0m                                 Traceback (most recent call last)",
      "\u001b[1;32m~\\AppData\\Local\\Temp/ipykernel_10048/3576637354.py\u001b[0m in \u001b[0;36m<module>\u001b[1;34m\u001b[0m\n\u001b[0;32m      3\u001b[0m     \u001b[1;32mreturn\u001b[0m \u001b[1;33m-\u001b[0m\u001b[0msys\u001b[0m\u001b[1;33m.\u001b[0m\u001b[0mmaxsize\u001b[0m \u001b[1;32mif\u001b[0m \u001b[0mv\u001b[0m \u001b[1;32mis\u001b[0m \u001b[1;32mNone\u001b[0m \u001b[1;32melse\u001b[0m \u001b[0mv\u001b[0m\u001b[1;33m\u001b[0m\u001b[1;33m\u001b[0m\u001b[0m\n\u001b[0;32m      4\u001b[0m \u001b[1;33m\u001b[0m\u001b[0m\n\u001b[1;32m----> 5\u001b[1;33m \u001b[0mnew_sorted_list\u001b[0m \u001b[1;33m=\u001b[0m \u001b[0msorted\u001b[0m\u001b[1;33m(\u001b[0m\u001b[1;33m(\u001b[0m\u001b[0mflatten_list\u001b[0m \u001b[1;33m)\u001b[0m\u001b[1;33m,\u001b[0m \u001b[0mkey\u001b[0m\u001b[1;33m=\u001b[0m\u001b[0mkey\u001b[0m\u001b[1;33m,\u001b[0m \u001b[0mreverse\u001b[0m\u001b[1;33m=\u001b[0m\u001b[1;32mTrue\u001b[0m\u001b[1;33m)\u001b[0m\u001b[1;33m\u001b[0m\u001b[1;33m\u001b[0m\u001b[0m\n\u001b[0m",
      "\u001b[1;31mNameError\u001b[0m: name 'flatten_list' is not defined"
     ]
    }
   ],
   "source": [
    "\n",
    "def key(e):     #sort the num_comments including None values\n",
    "    v = e['num_comments']\n",
    "    return -sys.maxsize if v is None else v\n",
    "\n",
    "new_sorted_list = sorted((flatten_list ), key=key, reverse=True)"
   ]
  },
  {
   "cell_type": "code",
   "execution_count": null,
   "id": "16e62a64",
   "metadata": {},
   "outputs": [],
   "source": []
  }
 ],
 "metadata": {
  "kernelspec": {
   "display_name": "Python 3 (ipykernel)",
   "language": "python",
   "name": "python3"
  },
  "language_info": {
   "codemirror_mode": {
    "name": "ipython",
    "version": 3
   },
   "file_extension": ".py",
   "mimetype": "text/x-python",
   "name": "python",
   "nbconvert_exporter": "python",
   "pygments_lexer": "ipython3",
   "version": "3.9.13"
  }
 },
 "nbformat": 4,
 "nbformat_minor": 5
}
