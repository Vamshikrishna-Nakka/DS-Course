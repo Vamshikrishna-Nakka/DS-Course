{
 "cells": [
  {
   "cell_type": "markdown",
   "metadata": {},
   "source": [
    "### Math"
   ]
  },
  {
   "cell_type": "code",
   "execution_count": 1,
   "metadata": {},
   "outputs": [],
   "source": [
    "# Math module provides various the value of various constants like pi, tau. Having such constants\n",
    "# saves the time of writing the value of each constant every time we want to use it and that too\n",
    "# with great precision."
   ]
  },
  {
   "cell_type": "code",
   "execution_count": 2,
   "metadata": {},
   "outputs": [
    {
     "name": "stdout",
     "output_type": "stream",
     "text": [
      "2.718281828459045\n",
      "3.141592653589793\n",
      "6.283185307179586\n",
      "inf\n",
      "-inf\n",
      "nan\n"
     ]
    }
   ],
   "source": [
    "import math\n",
    "\n",
    "# Constants\n",
    "print(math.e)                       # returns the Euler’s number: 2.71828182846.\n",
    "print(math.pi)                      # pi is depicted as either 22/7 or 3.14\n",
    "print(math.tau)                     # Tau is the ratio of circumference to radius of a circle.\n",
    "print(math.inf)                     # positive infinity\n",
    "print(-math.inf)                    # negative infinity\n",
    "print(math.nan)                     # returns a floating-point nan (Not a Number) value.This value is not a legal number. \n",
    "                             # The nan constant is equal to float(“nan”)."
   ]
  },
  {
   "cell_type": "code",
   "execution_count": 3,
   "metadata": {},
   "outputs": [
    {
     "name": "stdout",
     "output_type": "stream",
     "text": [
      "3\n",
      "10.0\n",
      "120\n",
      "2\n",
      "5.0\n",
      "(0.5625, 4)\n",
      "1.0\n",
      "5\n",
      "True\n",
      "False\n",
      "True\n",
      "False\n",
      "2\n"
     ]
    }
   ],
   "source": [
    "# Numberic\n",
    "print(math.ceil(2.3))               # smallest integral value greater than the number, returns 3\n",
    "print(math.fabs(-10))               # fabs() function returns the absolute value of the number.\n",
    "print(math.factorial(5))            # factorial\n",
    "print(math.floor(2.3))              # greatest integral value smaller than the number, returns 2\n",
    "print(math.fmod(5, 7))              # Returns the remainder when x is divided by y\n",
    "print(math.frexp(9))                # Returns the maprint(ntissa and exponent of x as the pair (m, e)\n",
    "print(math.fsum([.1, .1, .1, .1, .1, .1, .1, .1, .1, .1]))  # Returns the precise floating-point value of sum of elements in an iterable  \n",
    "# sum([.1, .1, .1, .1, .1, .1, .1, .1, .1, .1])        # returns 1 but fsum returns 0.9999999999\n",
    "print(math.gcd(5, 15))              # greatest common divisor of two numbers\n",
    "\n",
    "\n",
    "print(math.isinf(float('inf')))     # isinf() function is used to check whether the value is infinity or not.\n",
    "print(math.isnan(math.pi))          # isnan() function returns true if the number is “NaN” else returns false.\n",
    "print(math.isfinite(5))            # Check whether the value is neither infinity not Nan\n",
    "print(math.isclose(5,5.1))          # Return True if the values a and b are close to each other and False otherwise.\n",
    "print(math.isqrt(5))                # Return the integer square root of the nonnegative integer n. "
   ]
  },
  {
   "cell_type": "code",
   "execution_count": 4,
   "metadata": {},
   "outputs": [
    {
     "name": "stdout",
     "output_type": "stream",
     "text": [
      "60\n",
      "16.0\n",
      "(0.5, 4.0)\n",
      "41.99999999999999\n",
      "42\n",
      "960\n",
      "0.0\n",
      "-3\n",
      "8.881784197001252e-16\n"
     ]
    }
   ],
   "source": [
    "print(math.lcm(4,6,5))              # lcm but without args returns 1\n",
    "print(math.ldexp(2, 3))             # Returns x*(2**i)  essentially the inverse of function frexp().\n",
    "print(math.modf(4.5))               # Return the fractional and integer parts of x. Both results carry the sign of x and are floats.\n",
    "print(math.nextafter(42, 4))        # Return the next floating-point value after x towards y, If x is equal to y, return y.\n",
    "\n",
    "print(math.perm(7,2))               # Return the number of ways to choose k items from n items without repetition and with order. Evaluates to n! / (n - k)!\n",
    "print(math.prod([1,2,3,4,5,8]))     # Calculate the product of all the elements in the input iterable. The default start value for the product is 1. When the iterable is empty, return the start value.\n",
    "print(math.remainder(10,2))         # Gives remainder\n",
    "print(math.trunc(-3.5))             # work as ceil, truncate function is used to round up or down towards zero.\n",
    "print(math.ulp(5.4))                # Return the value of the least significant bit of the float x, “Unit in the Last Place”."
   ]
  },
  {
   "cell_type": "code",
   "execution_count": 5,
   "metadata": {},
   "outputs": [
    {
     "name": "stdout",
     "output_type": "stream",
     "text": [
      "2.23606797749979\n",
      "148.4131591025766\n",
      "1.0\n",
      "1.0000050000166667e-05\n",
      "0.6309297535714574\n",
      "3.0\n",
      "4.0\n",
      "9.0\n"
     ]
    }
   ],
   "source": [
    "# Power and logarithmic functions\n",
    "\n",
    "print(math.sqrt(5))                  # Return the square root of x.\n",
    "# print(math.cbrt(4))                 # Return the cube root of x                                               3.11v\n",
    "print(math.exp(5))                   # math.e ** x or pow(math.e, x)   , where e = 2.718281\n",
    "# print(math.exp2(6))                  # Return 2 raised to the power x.                                       3.11v\n",
    "print(math.exp(0.00))                # gives result accurate to 11 places\n",
    "print(math.expm1(1e-5))              # result accurate to full precision\n",
    "print(math.log(2,3))                 # log(2)/log(3)\n",
    "print(math.log2(8))                  # Return the base-2 logarithm of x. This is usually more accurate than log(x, 2)\n",
    "print(math.log10(10000))             # Return the base-10 logarithm of x. This is usually more accurate than log(x, 10).\n",
    "print(math.pow(3, 2))                # computes x**y"
   ]
  },
  {
   "cell_type": "code",
   "execution_count": 6,
   "metadata": {},
   "outputs": [
    {
     "name": "stdout",
     "output_type": "stream",
     "text": [
      "0.49999999999999994\n",
      "0.8660254037844387\n",
      "0.5773502691896257\n",
      "29.999999999999996\n",
      "0.5235987755982988\n",
      "120.0\n"
     ]
    }
   ],
   "source": [
    "# Trigonometric functions\n",
    "a = math.pi/6                #  value passed in this function should be in radians.\n",
    "print(math.sin(a))\n",
    "print(math.cos(a))\n",
    "print(math.tan(a))\n",
    "\n",
    "# Angular conversion\n",
    "print(math.degrees(a))              # degrees() function is used to convert argument value from radians to degrees.\n",
    "print(math.radians(30))             # radians() function is used to convert argument value from degrees to radians.\n",
    "\n",
    "# Special functions\n",
    "print(math.gamma(6))                # gamma() function is used to return the gamma value of the argument"
   ]
  },
  {
   "cell_type": "markdown",
   "metadata": {},
   "source": [
    "### sympy"
   ]
  },
  {
   "cell_type": "code",
   "execution_count": 7,
   "metadata": {},
   "outputs": [],
   "source": [
    "import sympy"
   ]
  },
  {
   "cell_type": "code",
   "execution_count": 8,
   "metadata": {},
   "outputs": [
    {
     "name": "stdout",
     "output_type": "stream",
     "text": [
      "False\n",
      "[47, 53, 59, 61, 67, 71, 73, 79, 83, 89, 97]\n",
      "71\n",
      "47\n",
      "59\n",
      "Matrix([[0, 0, 0], [0, 0, 0]])\n",
      "Matrix([[1, 1, 1], [1, 1, 1]])\n",
      "Matrix([[1, 0, 0], [0, 1, 0], [0, 0, 1]])\n",
      "Matrix([[1, 0, 0], [0, 2, 0], [0, 0, 3]])\n",
      "154\n",
      "4\n"
     ]
    }
   ],
   "source": [
    "print(sympy.isprime(44))                # returns true or false\n",
    "print(list(sympy.primerange(44,100)))   # list of all prime numbers\n",
    "print(sympy.prevprime(73))              # previous  prime\n",
    "print(sympy.nextprime(44))              # next prime\n",
    "print(sympy.randprime(44,70))           # random prime in between\n",
    "\n",
    "print(sympy.zeros(2, 3))\n",
    "print(sympy.ones(2, 3))\n",
    "print(sympy.eye(3))                     # identity matrix\n",
    "print(sympy.diag(1, 2, 3))\n",
    "print(sympy.lcm(22,77))\n",
    "print(sympy.primepi(10))                # find the number of prime numbers less than or equal to a given number."
   ]
  },
  {
   "cell_type": "markdown",
   "metadata": {},
   "source": [
    "### Random"
   ]
  },
  {
   "cell_type": "code",
   "execution_count": 9,
   "metadata": {},
   "outputs": [],
   "source": [
    "import random"
   ]
  },
  {
   "cell_type": "code",
   "execution_count": 10,
   "metadata": {},
   "outputs": [
    {
     "name": "stdout",
     "output_type": "stream",
     "text": [
      "2\n",
      "30\n",
      "9\n",
      "28\n",
      "two\n",
      "['four', 'two']\n",
      "[30, 10, 40, 20]\n",
      "0.6439516764397204\n",
      "3.699979150701446\n"
     ]
    }
   ],
   "source": [
    "# Functions for integers\n",
    "print(random.randrange(10))                 # random number below 10 i.e, 0 to 10\n",
    "print(random.randrange(0,101,2))            # random even number\n",
    "\n",
    "print(random.randint(5,15))                 # Return a random integer N such that a <= N <= b. Alias for randrange(a, b+1)\n",
    "print(random.getrandbits(6))                # Returns a non-negative Python integer with k random bits\n",
    "\n",
    "# Functions for sequences\n",
    "deck = 'ace two three four'.split()\n",
    "print(random.choice(deck))\n",
    "print(random.choices(deck,k =2))                   # random.choices(sequence, weights=None, cum_weights=None, k=1)\n",
    "print(random.sample([10, 20, 30, 40, 50], k=4))    # Four samples without replacement\n",
    "\n",
    "# Real-valued distributions\n",
    "print(random.random())                      # random floating point number in the range 0.0 <= X < 1.0\n",
    "print(random.uniform(2.5, 10.0))            # Return a random floating point number N such that a <= N <= b for a <= b and b <= N <= a for b < a. The end-point value b may or may not be included in the range depending on floating-point rounding in the equation a + (b-a) * random().\n",
    "\n",
    "\n",
    "# random.triangular(low, high, mode)          # Return a random floating point number N such that low <= N <= high and with the specified mode between those bounds.\n",
    "# random.betavariate(alpha, beta)             # Beta distribution.\n",
    "# random.expovariate(lambd)                   # Exponential distribution.\n",
    "# random.gammavariate(alpha, beta)            # Gamma distribution.\n",
    "# random.gauss(mu=0.0, sigma=1.0)             # Normal distribution, also called the Gaussian distribution.\n",
    "# random.lognormvariate(mu, sigma)            # Log normal distribution.\n",
    "# random.normalvariate(mu=0.0, sigma=1.0)     # Normal distribution.\n",
    "# random.vonmisesvariate(mu, kappa)           # \n",
    "# random.paretovariate(alpha)                 # Pareto distribution.\n",
    "# random.weibullvariate(alpha, beta)          # Weibull distribution."
   ]
  },
  {
   "cell_type": "code",
   "execution_count": 11,
   "metadata": {},
   "outputs": [
    {
     "name": "stdout",
     "output_type": "stream",
     "text": [
      "19\n",
      "4\n",
      "[ 4  6 11 12]\n",
      "[6 5 9 7 5]\n",
      "[[8 8 8 9]\n",
      " [0 1 0 3]\n",
      " [8 6 5 0]]\n",
      "0.051569823097452394\n",
      "[0.77270759 0.92054409 0.07124851 0.9800197  0.94676746]\n",
      "[[0.94805751 0.69681624]\n",
      " [0.20497447 0.06812931]]\n",
      "4\n",
      "[0.68086409 0.60305485 0.03160856 0.22990658 0.56107124 0.84348234\n",
      " 0.15363187 0.72363923 0.22264062 0.18575636]\n",
      "[0.36155948 0.7184089  0.36332596 0.14674937]\n",
      "[-0.02260556  0.02077411 -0.10161123 -0.09205397 -0.04146554]\n",
      "[ 0.35430951 -0.47339131 -0.34142945 -0.25095234]\n"
     ]
    }
   ],
   "source": [
    "import numpy as np \n",
    "print(np.random.randint(20))                          # below 20, random.randint(low,high=None,size=None,dtype=int)\n",
    "print(np.random.randint(0, 10))                       # random number between the values, 10 is not included\n",
    "print(np.random.randint(20, size=(4)))                # random numbers array below 20\n",
    "print(np.random.randint(0, 10, 5))                    # generates a 1D array of 5 random integers between 0 and 9.\n",
    "print(np.random.randint(0, 10, (3,4)))           # generates a 2D array of shape (3, 4) with random integers between 0 and 9.\n",
    "print(np.random.rand())                               # generate a random floating-point number between 0 and 1\n",
    "print(np.random.rand(5))                              # generates a 1D array of 5 random numbers between 0 and 1.\n",
    "print(np.random.rand(2, 2))                           # 2-D array\n",
    "print(np.random.choice([1, 2, 3, 4, 5]))              # chooses a random number from the array1 array.\n",
    "print(np.random.uniform(0,1,10))                      # Draw samples from a uniform distribution.\n",
    "print(np.random.random_sample(4))                     # \n",
    "print(np.random.normal(0, 0.1, 5))                    # Normal Distribution, mean= 0, std= 0.1\n",
    "print(np.random.normal(size = 4))"
   ]
  },
  {
   "cell_type": "markdown",
   "metadata": {},
   "source": [
    "### Calender"
   ]
  },
  {
   "cell_type": "code",
   "execution_count": 12,
   "metadata": {},
   "outputs": [
    {
     "name": "stdout",
     "output_type": "stream",
     "text": [
      "False\n",
      "1\n",
      "['Monday', 'Tuesday', 'Wednesday', 'Thursday', 'Friday', 'Saturday', 'Sunday']\n",
      "['', 'January', 'February', 'March', 'April', 'May', 'June', 'July', 'August', 'September', 'October', 'November', 'December']\n",
      "1\n",
      "0\n",
      "[[0, 0, 0, 0, 1, 2, 3], [4, 5, 6, 7, 8, 9, 10], [11, 12, 13, 14, 15, 16, 17], [18, 19, 20, 21, 22, 23, 24], [25, 26, 27, 28, 29, 30, 0]]\n",
      "(0, 31)\n",
      " Mon   Tue   Wed   Thu   Fri   Sat   Sun \n",
      "['Mon', 'Tue', 'Wed', 'Thu', 'Fri', 'Sat', 'Sun']\n",
      "['', 'Jan', 'Feb', 'Mar', 'Apr', 'May', 'Jun', 'Jul', 'Aug', 'Sep', 'Oct', 'Nov', 'Dec']\n"
     ]
    }
   ],
   "source": [
    "import calendar\n",
    "\n",
    "print(calendar.isleap(2022))                     # leapyear or not\n",
    "print(calendar.leapdays(2015, 2018))             # number of leap days\n",
    "\n",
    "print(list(calendar.day_name))                   # List of days\n",
    "print(list(calendar.month_name))                 # List of months\n",
    "\n",
    "print(calendar.weekday(2023,5,30))               # Returns the day of the week, calendar.weekday(year, month, day)\n",
    "print(calendar.firstweekday())                   # weekdays start with 0 means monday\n",
    "\n",
    "print(calendar.monthcalendar(2022, 4))           # Returns a matrix representing a month’s calendar. Each row representsa week; days outside of the month are represented by zeros. Each week begins with Monday unless set by setfirstweekday().\n",
    "print(calendar.monthrange(2023,5))               # Returns weekday of first day of the month and number of days in month\n",
    "\n",
    "print(calendar.weekheader(5))                    # 5 is space between headers\n",
    "print(list(calendar.day_abbr))                   # list of days ['Mon', 'Tue', 'Wed', 'Thu', 'Fri', 'Sat', 'Sun']\n",
    "print(list(calendar.month_abbr))                 # month abbs"
   ]
  },
  {
   "cell_type": "code",
   "execution_count": 13,
   "metadata": {},
   "outputs": [
    {
     "name": "stdout",
     "output_type": "stream",
     "text": [
      "      May 2016\n",
      "Mo Tu We Th Fr Sa Su\n",
      "                   1\n",
      " 2  3  4  5  6  7  8\n",
      " 9 10 11 12 13 14 15\n",
      "16 17 18 19 20 21 22\n",
      "23 24 25 26 27 28 29\n",
      "30 31\n",
      "\n",
      "                                  2016\n",
      "\n",
      "      January                   February                   March\n",
      "Mo Tu We Th Fr Sa Su      Mo Tu We Th Fr Sa Su      Mo Tu We Th Fr Sa Su\n",
      "             1  2  3       1  2  3  4  5  6  7          1  2  3  4  5  6\n",
      " 4  5  6  7  8  9 10       8  9 10 11 12 13 14       7  8  9 10 11 12 13\n",
      "11 12 13 14 15 16 17      15 16 17 18 19 20 21      14 15 16 17 18 19 20\n",
      "18 19 20 21 22 23 24      22 23 24 25 26 27 28      21 22 23 24 25 26 27\n",
      "25 26 27 28 29 30 31      29                        28 29 30 31\n",
      "\n",
      "       April                      May                       June\n",
      "Mo Tu We Th Fr Sa Su      Mo Tu We Th Fr Sa Su      Mo Tu We Th Fr Sa Su\n",
      "             1  2  3                         1             1  2  3  4  5\n",
      " 4  5  6  7  8  9 10       2  3  4  5  6  7  8       6  7  8  9 10 11 12\n",
      "11 12 13 14 15 16 17       9 10 11 12 13 14 15      13 14 15 16 17 18 19\n",
      "18 19 20 21 22 23 24      16 17 18 19 20 21 22      20 21 22 23 24 25 26\n",
      "25 26 27 28 29 30         23 24 25 26 27 28 29      27 28 29 30\n",
      "                          30 31\n",
      "\n",
      "        July                     August                  September\n",
      "Mo Tu We Th Fr Sa Su      Mo Tu We Th Fr Sa Su      Mo Tu We Th Fr Sa Su\n",
      "             1  2  3       1  2  3  4  5  6  7                1  2  3  4\n",
      " 4  5  6  7  8  9 10       8  9 10 11 12 13 14       5  6  7  8  9 10 11\n",
      "11 12 13 14 15 16 17      15 16 17 18 19 20 21      12 13 14 15 16 17 18\n",
      "18 19 20 21 22 23 24      22 23 24 25 26 27 28      19 20 21 22 23 24 25\n",
      "25 26 27 28 29 30 31      29 30 31                  26 27 28 29 30\n",
      "\n",
      "      October                   November                  December\n",
      "Mo Tu We Th Fr Sa Su      Mo Tu We Th Fr Sa Su      Mo Tu We Th Fr Sa Su\n",
      "                1  2          1  2  3  4  5  6                1  2  3  4\n",
      " 3  4  5  6  7  8  9       7  8  9 10 11 12 13       5  6  7  8  9 10 11\n",
      "10 11 12 13 14 15 16      14 15 16 17 18 19 20      12 13 14 15 16 17 18\n",
      "17 18 19 20 21 22 23      21 22 23 24 25 26 27      19 20 21 22 23 24 25\n",
      "24 25 26 27 28 29 30      28 29 30                  26 27 28 29 30 31\n",
      "31\n",
      "\n",
      "0\n",
      "1\n",
      "2\n",
      "3\n",
      "4\n",
      "5\n",
      "6\n",
      "None\n"
     ]
    }
   ],
   "source": [
    "print(calendar.month(2016,5))                # full month\n",
    "print(calendar.calendar(2016))               # full calender\n",
    "  \n",
    "print(calendar.MONDAY)                       # index value of day\n",
    "print(calendar.TUESDAY)\n",
    "print(calendar.WEDNESDAY)\n",
    "print(calendar.THURSDAY)\n",
    "print(calendar.FRIDAY)\n",
    "print(calendar.SATURDAY)\n",
    "print(calendar.SUNDAY)\n",
    "\n",
    "print(calendar.setfirstweekday(calendar.MONDAY))  # Sets the weekday (0 is Monday, 6 is Sunday) to start each week."
   ]
  },
  {
   "cell_type": "markdown",
   "metadata": {},
   "source": [
    "### Time"
   ]
  },
  {
   "cell_type": "code",
   "execution_count": 14,
   "metadata": {},
   "outputs": [
    {
     "name": "stdout",
     "output_type": "stream",
     "text": [
      "1685552983.8872929\n",
      "time.struct_time(tm_year=2023, tm_mon=5, tm_mday=31, tm_hour=22, tm_min=39, tm_sec=43, tm_wday=2, tm_yday=151, tm_isdst=0)\n",
      "Wed May 31 22:39:43 2023\n",
      "Wed, 31 May 2023 17:09:43 +0000\n",
      "time.struct_time(tm_year=2000, tm_mon=11, tm_mday=30, tm_hour=0, tm_min=0, tm_sec=0, tm_wday=3, tm_yday=335, tm_isdst=-1)\n",
      "('India Standard Time', 'India Daylight Time')\n",
      "-19800\n",
      "0\n",
      "-23400\n",
      "Thu Jan  1 05:30:49 1970\n"
     ]
    }
   ],
   "source": [
    "import time\n",
    "print(time.time())                                  # number of ticks spent since 12 AM, 1st January 1970 \n",
    "print(time.localtime(time.time()))                  # Currenttime\n",
    "print(time.asctime(time.localtime(time.time())))    # returns the formatted time \n",
    "print(time.strftime(\"%a, %d %b %Y %H:%M:%S +0000\", time.gmtime()))\n",
    "print(time.strptime(\"30 Nov 00\", \"%d %b %y\") )\n",
    "print(time.tzname)                                  # provides timezone name\n",
    "print(time.timezone)                                # offset of the local (non-DST) timezone, in seconds west of UTC\n",
    "print(time.daylight)                                # Nonzero if a DST timezone is defined.\n",
    "print(time.altzone) \n",
    "print(time.ctime(49))                               # secs to date with year."
   ]
  },
  {
   "cell_type": "markdown",
   "metadata": {},
   "source": [
    "### Datetime"
   ]
  },
  {
   "cell_type": "code",
   "execution_count": 15,
   "metadata": {},
   "outputs": [
    {
     "name": "stdout",
     "output_type": "stream",
     "text": [
      "1\n",
      "9999\n"
     ]
    }
   ],
   "source": [
    "import datetime\n",
    "print(datetime.MINYEAR)\n",
    "print(datetime.MAXYEAR)\n",
    "# print(datetime.UTC)"
   ]
  },
  {
   "cell_type": "code",
   "execution_count": 16,
   "metadata": {},
   "outputs": [],
   "source": [
    "# DateTime module is categorized into 5 main classes\n",
    "\n",
    "# 1. datetime.date - represents a date (year, month, and day) without a time.\n",
    "# 2. datetime.time - represents a time (hour, minute, second, and microsecond) without a date.\n",
    "# 3. datetime.datetime - represents a single point in time, including a date and a time.\n",
    "# 4. datetime.timedelta - represents a duration, which can be used to perform arithmetic with datetime objects"
   ]
  },
  {
   "cell_type": "code",
   "execution_count": 17,
   "metadata": {},
   "outputs": [
    {
     "name": "stdout",
     "output_type": "stream",
     "text": [
      "1996-12-11\n",
      "2023-05-31\n",
      "Current year: 2023\n",
      "Current month: 5\n",
      "Current day: 31\n",
      "2029-10-25\n"
     ]
    }
   ],
   "source": [
    "# 1. datetime.date Class\n",
    "import datetime\n",
    "print(datetime.date(1996, 12, 11))                   # represent a date\n",
    "today=datetime.date.today()                          # Returns the current local date\n",
    "print(today)\n",
    "print(\"Current year:\", today.year)          \n",
    "print(\"Current month:\", today.month)\n",
    "print(\"Current day:\", today.day)\n",
    "print(datetime.date.fromtimestamp(1887639468))       # Get date from a timestamp,no. of seconds b/w a date and January 1,1970 at UTC"
   ]
  },
  {
   "cell_type": "code",
   "execution_count": 19,
   "metadata": {},
   "outputs": [
    {
     "name": "stdout",
     "output_type": "stream",
     "text": [
      "00:00:00\n",
      "12:24:36.001212\n",
      "00:12:00\n",
      "hour = 12\n",
      "minute = 24\n",
      "second = 36\n",
      "microsecond = 1212\n"
     ]
    }
   ],
   "source": [
    "# 2. datetime.time Class\n",
    "import datetime\n",
    "\n",
    "print(datetime.time())  \n",
    "\n",
    "Time = datetime.time(12,24,36,1212)             # Get hours, minutes, seconds, and microseconds\n",
    "print(Time)\n",
    "print(datetime.time(minute=12))                 # if only minutes, if without parameters then all are 00:00:00\n",
    "print(\"hour =\", Time.hour)\n",
    "print(\"minute =\", Time.minute)\n",
    "print(\"second =\", Time.second)\n",
    "print(\"microsecond =\", Time.microsecond)"
   ]
  },
  {
   "cell_type": "code",
   "execution_count": 52,
   "metadata": {},
   "outputs": [
    {
     "name": "stdout",
     "output_type": "stream",
     "text": [
      "2023-06-01 00:19:12.389031\n",
      "2022-12-28 23:55:59.342380\n",
      "Year:  2023\n",
      "Month:  6\n",
      "Dat:  1\n",
      "Hour:  0\n",
      "Minute:  19\n",
      "Second:  12\n",
      "timestamp = 1685558952.389031\n",
      "TimeZone info:  None\n",
      "Fold:  0\n"
     ]
    }
   ],
   "source": [
    "# 3. datetime.datetime Class  - combination of both date and time\n",
    "import datetime\n",
    "\n",
    "print(datetime.datetime.today()) # Return the current local datetime,equal to datetime.fromtimestamp(time.time())\n",
    "\n",
    "a = datetime.datetime(2022, 12, 28, 23, 55, 59, 342380)      # datetime(year, month, day, hour, minute, second, microsecond)\n",
    "print(a)\n",
    "\n",
    "a = datetime.datetime.now()                                  #  Current date and time  \n",
    "print(\"Year: \", a.year)\n",
    "print(\"Month: \", a.month)\n",
    "print(\"Dat: \", a.day)\n",
    "print(\"Hour: \", a.hour)\n",
    "print(\"Minute: \", a.minute)\n",
    "print(\"Second: \", a.second)\n",
    "print(\"timestamp =\", a.timestamp())\n",
    "print(\"TimeZone info: \", a.tzinfo)            # timezone info is none, this is due to the fact that we didn't make our datetime object time zone aware.\n",
    "print(\"Fold: \", a.fold)                       # value 0 (1) represents the earlier (later) of the two moments with the same wall time representation."
   ]
  },
  {
   "cell_type": "code",
   "execution_count": 65,
   "metadata": {},
   "outputs": [
    {
     "name": "stdout",
     "output_type": "stream",
     "text": [
      "2023-06-01 03:31:00.483294\n",
      "1970-01-24 09:03:20\n",
      "1970-01-24 03:33:20\n",
      "2022-03-22 00:00:00\n"
     ]
    }
   ],
   "source": [
    "print(datetime.datetime.utcnow())               # Return the current UTC date and time, equal datetime.datetime.now(datetime.timezone.utc)\n",
    "print(datetime.datetime.fromtimestamp(2000000)) # Return the local date and time corresponding to the POSIX timestamp, such as is returned by time.time()\n",
    "print(datetime.datetime.utcfromtimestamp(2000000))\n",
    "print(datetime.datetime.fromisocalendar(2022, 12, 2)) # Return a datetime corresponding to the ISO calendar date specified by year, week and day. "
   ]
  },
  {
   "cell_type": "code",
   "execution_count": 50,
   "metadata": {},
   "outputs": [
    {
     "name": "stdout",
     "output_type": "stream",
     "text": [
      "2011-11-04 00:05:23.283000+00:00\n"
     ]
    }
   ],
   "source": [
    "print(datetime.datetime.fromisoformat('2011-11-04 00:05:23.283+00:00'))  \n",
    "# Return a datetime corresponding to a date_string in any valid ISO 8601 format, with the following exceptions:\n",
    "# Time zone offsets may have fractional seconds.\n",
    "# The T separator may be replaced by any single unicode character.\n",
    "# Ordinal dates are not currently supported.\n",
    "# Fractional hours and minutes are not supported."
   ]
  },
  {
   "cell_type": "code",
   "execution_count": null,
   "metadata": {},
   "outputs": [],
   "source": []
  },
  {
   "cell_type": "code",
   "execution_count": 67,
   "metadata": {},
   "outputs": [
    {
     "ename": "AttributeError",
     "evalue": "type object 'datetime.datetime' has no attribute 'datetime'",
     "output_type": "error",
     "traceback": [
      "\u001b[1;31m---------------------------------------------------------------------------\u001b[0m",
      "\u001b[1;31mAttributeError\u001b[0m                            Traceback (most recent call last)",
      "\u001b[1;32m~\\AppData\\Local\\Temp\\ipykernel_33400\\1686882111.py\u001b[0m in \u001b[0;36m<module>\u001b[1;34m\u001b[0m\n\u001b[1;32m----> 1\u001b[1;33m \u001b[0mdatetime\u001b[0m\u001b[1;33m.\u001b[0m\u001b[0mdatetime\u001b[0m\u001b[1;33m.\u001b[0m\u001b[0mdatetime\u001b[0m\u001b[1;33m.\u001b[0m\u001b[0mweekday\u001b[0m\u001b[1;33m(\u001b[0m\u001b[1;33m)\u001b[0m\u001b[1;33m\u001b[0m\u001b[1;33m\u001b[0m\u001b[0m\n\u001b[0m\u001b[0;32m      2\u001b[0m \u001b[0mdatetime\u001b[0m\u001b[1;33m.\u001b[0m\u001b[0mdatetime\u001b[0m\u001b[1;33m.\u001b[0m\u001b[0misoweekday\u001b[0m\u001b[1;33m(\u001b[0m\u001b[1;33m)\u001b[0m\u001b[1;33m\u001b[0m\u001b[1;33m\u001b[0m\u001b[0m\n\u001b[0;32m      3\u001b[0m \u001b[0mdatetime\u001b[0m\u001b[1;33m.\u001b[0m\u001b[0mdatetime\u001b[0m\u001b[1;33m.\u001b[0m\u001b[0misocalendar\u001b[0m\u001b[1;33m(\u001b[0m\u001b[1;33m)\u001b[0m\u001b[1;33m\u001b[0m\u001b[1;33m\u001b[0m\u001b[0m\n\u001b[0;32m      4\u001b[0m \u001b[0mdatetime\u001b[0m\u001b[1;33m.\u001b[0m\u001b[0mdatetime\u001b[0m\u001b[1;33m.\u001b[0m\u001b[0misoformat\u001b[0m\u001b[1;33m(\u001b[0m\u001b[0msep\u001b[0m\u001b[1;33m=\u001b[0m\u001b[1;34m'T'\u001b[0m\u001b[1;33m,\u001b[0m \u001b[0mtimespec\u001b[0m\u001b[1;33m=\u001b[0m\u001b[1;34m'auto'\u001b[0m\u001b[1;33m)\u001b[0m\u001b[1;33m\u001b[0m\u001b[1;33m\u001b[0m\u001b[0m\n\u001b[0;32m      5\u001b[0m \u001b[0mdatetime\u001b[0m\u001b[1;33m.\u001b[0m\u001b[0mdatetime\u001b[0m\u001b[1;33m.\u001b[0m\u001b[0mctime\u001b[0m\u001b[1;33m(\u001b[0m\u001b[1;33m)\u001b[0m\u001b[1;33m\u001b[0m\u001b[1;33m\u001b[0m\u001b[0m\n",
      "\u001b[1;31mAttributeError\u001b[0m: type object 'datetime.datetime' has no attribute 'datetime'"
     ]
    }
   ],
   "source": [
    "datetime.datetime.datetime.weekday()\n",
    "datetime.datetime.isoweekday()\n",
    "datetime.datetime.isocalendar()\n",
    "datetime.datetime.isoformat(sep='T', timespec='auto')\n",
    "datetime.datetime.ctime()\n",
    "datetime.datetime.utctimetuple()\n",
    "datetime.datetime.timetuple()\n",
    "datetime.datetime.fromordinal(ordinal)"
   ]
  },
  {
   "cell_type": "code",
   "execution_count": 64,
   "metadata": {},
   "outputs": [
    {
     "ename": "TypeError",
     "evalue": "unbound method datetime.timetz() needs an argument",
     "output_type": "error",
     "traceback": [
      "\u001b[1;31m---------------------------------------------------------------------------\u001b[0m",
      "\u001b[1;31mTypeError\u001b[0m                                 Traceback (most recent call last)",
      "\u001b[1;32m~\\AppData\\Local\\Temp\\ipykernel_33400\\2577778664.py\u001b[0m in \u001b[0;36m<module>\u001b[1;34m\u001b[0m\n\u001b[1;32m----> 1\u001b[1;33m \u001b[0mdatetime\u001b[0m\u001b[1;33m.\u001b[0m\u001b[0mdatetime\u001b[0m\u001b[1;33m.\u001b[0m\u001b[0mtimetz\u001b[0m\u001b[1;33m(\u001b[0m\u001b[0mhour\u001b[0m\u001b[1;33m=\u001b[0m\u001b[1;36m5\u001b[0m\u001b[1;33m)\u001b[0m\u001b[1;33m\u001b[0m\u001b[1;33m\u001b[0m\u001b[0m\n\u001b[0m",
      "\u001b[1;31mTypeError\u001b[0m: unbound method datetime.timetz() needs an argument"
     ]
    }
   ],
   "source": [
    "datetime.datetime.timetz()"
   ]
  },
  {
   "cell_type": "code",
   "execution_count": null,
   "metadata": {},
   "outputs": [],
   "source": []
  },
  {
   "cell_type": "code",
   "execution_count": null,
   "metadata": {},
   "outputs": [],
   "source": []
  },
  {
   "cell_type": "code",
   "execution_count": 28,
   "metadata": {},
   "outputs": [
    {
     "name": "stdout",
     "output_type": "stream",
     "text": [
      "2016-04-29 15:30:00\n"
     ]
    }
   ],
   "source": [
    "d = datetime.date(2016, 4, 29)              \n",
    "t = datetime.time(15, 30)\n",
    "print(datetime.datetime.combine(d, t))       # Combining Date & Time"
   ]
  },
  {
   "cell_type": "code",
   "execution_count": null,
   "metadata": {},
   "outputs": [],
   "source": []
  },
  {
   "cell_type": "code",
   "execution_count": null,
   "metadata": {},
   "outputs": [],
   "source": []
  },
  {
   "cell_type": "code",
   "execution_count": null,
   "metadata": {},
   "outputs": [],
   "source": []
  },
  {
   "cell_type": "code",
   "execution_count": null,
   "metadata": {},
   "outputs": [],
   "source": []
  },
  {
   "cell_type": "code",
   "execution_count": null,
   "metadata": {},
   "outputs": [],
   "source": []
  },
  {
   "cell_type": "code",
   "execution_count": null,
   "metadata": {},
   "outputs": [],
   "source": []
  }
 ],
 "metadata": {
  "interpreter": {
   "hash": "2ac21883b9071dd4ff4c462118cd782761a92edefb482082c84be5deb50e9118"
  },
  "kernelspec": {
   "display_name": "Python 3 (ipykernel)",
   "language": "python",
   "name": "python3"
  },
  "language_info": {
   "codemirror_mode": {
    "name": "ipython",
    "version": 3
   },
   "file_extension": ".py",
   "mimetype": "text/x-python",
   "name": "python",
   "nbconvert_exporter": "python",
   "pygments_lexer": "ipython3",
   "version": "3.9.13"
  }
 },
 "nbformat": 4,
 "nbformat_minor": 2
}
