{
 "cells": [
  {
   "cell_type": "code",
   "execution_count": 1,
   "id": "c47ea67f",
   "metadata": {},
   "outputs": [
    {
     "ename": "ModuleNotFoundError",
     "evalue": "No module named 'mysql'",
     "output_type": "error",
     "traceback": [
      "\u001b[1;31m---------------------------------------------------------------------------\u001b[0m",
      "\u001b[1;31mModuleNotFoundError\u001b[0m                       Traceback (most recent call last)",
      "\u001b[1;32m~\\AppData\\Local\\Temp/ipykernel_1596/384279239.py\u001b[0m in \u001b[0;36m<module>\u001b[1;34m\u001b[0m\n\u001b[0;32m      1\u001b[0m \u001b[1;31m# pip3 install mysql-connector-python\u001b[0m\u001b[1;33m\u001b[0m\u001b[1;33m\u001b[0m\u001b[0m\n\u001b[1;32m----> 2\u001b[1;33m \u001b[1;32mimport\u001b[0m \u001b[0mmysql\u001b[0m\u001b[1;33m.\u001b[0m\u001b[0mconnector\u001b[0m \u001b[1;32mas\u001b[0m \u001b[0msq\u001b[0m\u001b[1;33m\u001b[0m\u001b[1;33m\u001b[0m\u001b[0m\n\u001b[0m\u001b[0;32m      3\u001b[0m \u001b[1;33m\u001b[0m\u001b[0m\n\u001b[0;32m      4\u001b[0m \u001b[1;31m# import mysql.connector\u001b[0m\u001b[1;33m\u001b[0m\u001b[1;33m\u001b[0m\u001b[0m\n\u001b[0;32m      5\u001b[0m \u001b[1;31m# from mysql.connector import Error\u001b[0m\u001b[1;33m\u001b[0m\u001b[1;33m\u001b[0m\u001b[0m\n",
      "\u001b[1;31mModuleNotFoundError\u001b[0m: No module named 'mysql'"
     ]
    }
   ],
   "source": [
    "# pip3 install mysql-connector-python\n",
    "import mysql.connector as sq\n",
    "\n",
    "# import mysql.connector\n",
    "# from mysql.connector import Error\n",
    "# def connect():                   #Connect to MySQL database\n",
    "#     conn = None \n",
    "#     try:\n",
    "#         conn = mysql.connector.connect(host='localhost',database='python_mysql',user='root',password='SecurePass1!')\n",
    "#         if conn.is_connected():\n",
    "#             print('Connected to MySQL database')\n",
    "#     except Error as e:\n",
    "#         print(e)\n",
    "#     finally:\n",
    "#         if conn is not None and conn.is_connected():\n",
    "#             conn.close()\n",
    "# if __name__ == '__main__':\n",
    "#     connect()"
   ]
  },
  {
   "cell_type": "code",
   "execution_count": null,
   "id": "436e2c03",
   "metadata": {},
   "outputs": [],
   "source": [
    "cn = sq.connect(\n",
    "  host =\"localhost\",\n",
    "  user =\"user\",\n",
    "  passwd =\"password\"\n",
    ")\n",
    " \n",
    "print(cn)\n",
    "  \n",
    "cn.close()"
   ]
  },
  {
   "cell_type": "code",
   "execution_count": null,
   "id": "d856c1fc",
   "metadata": {},
   "outputs": [],
   "source": [
    "#creating database \n",
    "cur = cn.cursor()\n",
    "cur.execute(\"CREATE DATABASE gfg\")"
   ]
  },
  {
   "cell_type": "code",
   "execution_count": null,
   "id": "8f57aa3d",
   "metadata": {},
   "outputs": [],
   "source": [
    "#connecting database and creating table\n",
    "cn = sq.connect(\n",
    "  host =\"localhost\",\n",
    "  user =\"user\",\n",
    "  passwd =\"password\"\n",
    "  database=  \"gfg\"\n",
    ")\n",
    "\n",
    "cur = cn.cursor()\n",
    "\n",
    "# creating table\n",
    "studentRecord = \"\"\"CREATE TABLE STUDENT (\n",
    "                   NAME  VARCHAR(20) NOT NULL,\n",
    "                   BRANCH VARCHAR(50),\n",
    "                   ROLL INT NOT NULL,\n",
    "                   SECTION VARCHAR(5),\n",
    "                   AGE INT\n",
    "                   )\"\"\"\n",
    "  \n",
    "# table created\n",
    "cur.execute(studentRecord)\n",
    "\n",
    "cn.close()"
   ]
  },
  {
   "cell_type": "code",
   "execution_count": null,
   "id": "d9321f37",
   "metadata": {},
   "outputs": [],
   "source": [
    "#inserting values to table\n",
    "\n",
    "query = \"INSERT INTO STUDENT (NAME, BRANCH, ROLL, SECTION, AGE) VALUES (%s, %s, %s, %s, %s)\"\n",
    "val = (\"Ram\", \"CSE\", \"85\", \"B\", \"19\")\n",
    "\n",
    "# for multiple values insertion\n",
    "\n",
    "# val = [(\"Nikhil\", \"CSE\", \"98\", \"A\", \"18\"),\n",
    "#        (\"Nisha\", \"CSE\", \"99\", \"A\", \"18\"),\n",
    "#        (\"Rohan\", \"MAE\", \"43\", \"B\", \"20\"),\n",
    "#        (\"Amit\", \"ECE\", \"24\", \"A\", \"21\"),\n",
    "#        (\"Anil\", \"MAE\", \"45\", \"B\", \"20\"),\n",
    "#        (\"Megha\", \"ECE\", \"55\", \"A\", \"22\"),\n",
    "#        (\"Sita\", \"CSE\", \"95\", \"A\", \"19\")]\n",
    " \n",
    "cur.execute(query, val)             #for single\n",
    "# cur.executemany(query, val)       #for multiple\n",
    "\n",
    "cn.commit()\n",
    "cn.close()"
   ]
  },
  {
   "cell_type": "code",
   "execution_count": null,
   "id": "c9f72e2b",
   "metadata": {},
   "outputs": [],
   "source": [
    "#Feching\n",
    "\n",
    "\n",
    "# Display table names\n",
    "\n",
    "cur.execute(\"Show tables;\")\n",
    "myresult = cur.fetchall()\n",
    " \n",
    "for x in myresult:\n",
    "    print(x)"
   ]
  },
  {
   "cell_type": "code",
   "execution_count": null,
   "id": "d4973c0f",
   "metadata": {},
   "outputs": [],
   "source": [
    "query = \"SELECT NAME, ROLL FROM STUDENT\"\n",
    "\n",
    "cur.execute(query)\n",
    "   \n",
    "myresult = cur.fetchall()\n",
    "   \n",
    "for x in myresult:\n",
    "    print(x)\n",
    " \n",
    "cn.close()"
   ]
  },
  {
   "cell_type": "code",
   "execution_count": null,
   "id": "87913849",
   "metadata": {},
   "outputs": [],
   "source": [
    "query = \"UPDATE STUDENT SET AGE = 23 WHERE Name ='Ram'\"\n",
    "cur.execute(query)\n",
    "cn.commit()\n",
    "cn.close()"
   ]
  },
  {
   "cell_type": "code",
   "execution_count": null,
   "id": "b8c2ae41",
   "metadata": {},
   "outputs": [],
   "source": [
    "query = \"DELETE FROM STUDENT WHERE NAME = 'Ram'\"\n",
    "cur.execute(query)\n",
    "cn.commit()\n",
    "cn.close()"
   ]
  },
  {
   "cell_type": "code",
   "execution_count": null,
   "id": "54cf05cf",
   "metadata": {},
   "outputs": [],
   "source": [
    "query =\"DROP TABLE Student;\"\n",
    "cur.execute(query)\n",
    "cn.commit()\n",
    "cn.close() \n"
   ]
  },
  {
   "cell_type": "code",
   "execution_count": null,
   "id": "c193f9f2",
   "metadata": {},
   "outputs": [],
   "source": []
  },
  {
   "cell_type": "code",
   "execution_count": null,
   "id": "a06b1f60",
   "metadata": {},
   "outputs": [],
   "source": []
  },
  {
   "cell_type": "code",
   "execution_count": null,
   "id": "019d78ac",
   "metadata": {},
   "outputs": [],
   "source": []
  }
 ],
 "metadata": {
  "kernelspec": {
   "display_name": "Python 3 (ipykernel)",
   "language": "python",
   "name": "python3"
  },
  "language_info": {
   "codemirror_mode": {
    "name": "ipython",
    "version": 3
   },
   "file_extension": ".py",
   "mimetype": "text/x-python",
   "name": "python",
   "nbconvert_exporter": "python",
   "pygments_lexer": "ipython3",
   "version": "3.9.7"
  }
 },
 "nbformat": 4,
 "nbformat_minor": 5
}
