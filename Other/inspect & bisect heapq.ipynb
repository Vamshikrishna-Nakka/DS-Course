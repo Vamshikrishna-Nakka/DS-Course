{
 "cells": [
  {
   "cell_type": "code",
   "execution_count": null,
   "id": "a8bb50a6",
   "metadata": {},
   "outputs": [],
   "source": []
  },
  {
   "cell_type": "code",
   "execution_count": null,
   "id": "4e8c2145",
   "metadata": {},
   "outputs": [],
   "source": [
    "# math.inf and math.nan #infinity and nan\n",
    "# math.isinf(n)"
   ]
  },
  {
   "cell_type": "code",
   "execution_count": null,
   "id": "eceb8d3d",
   "metadata": {},
   "outputs": [],
   "source": []
  },
  {
   "cell_type": "code",
   "execution_count": null,
   "id": "7fed93be",
   "metadata": {},
   "outputs": [],
   "source": [
    "#read from unix pipelines.\n",
    "import sys\n",
    "for line in sys.stdin:\n",
    "    print(line)\n",
    "    \n",
    "    \n",
    "import fileinput\n",
    "for line in fileinput.input():\n",
    "    process(line)\n",
    "    \n",
    "    \n",
    "#If you want more control over the output, you can use sys.stdout.write:\n",
    "\n",
    "import sys\n",
    "sys.stdout.write(\"Hello, \")\n",
    "sys.stdout.write(\"World!\")"
   ]
  },
  {
   "cell_type": "code",
   "execution_count": null,
   "id": "43a00fad",
   "metadata": {},
   "outputs": [],
   "source": []
  },
  {
   "cell_type": "code",
   "execution_count": null,
   "id": "274c1ea7",
   "metadata": {},
   "outputs": [],
   "source": []
  },
  {
   "cell_type": "code",
   "execution_count": null,
   "id": "4701db56",
   "metadata": {},
   "outputs": [],
   "source": []
  },
  {
   "cell_type": "code",
   "execution_count": 4,
   "id": "dd871a48",
   "metadata": {},
   "outputs": [
    {
     "data": {
      "text/plain": [
       "3"
      ]
     },
     "execution_count": 4,
     "metadata": {},
     "output_type": "execute_result"
    }
   ],
   "source": [
    "c=3\n",
    "c.conjugate() #conjugate of the complex number c"
   ]
  },
  {
   "cell_type": "code",
   "execution_count": 3,
   "id": "c06d778b",
   "metadata": {},
   "outputs": [
    {
     "name": "stdout",
     "output_type": "stream",
     "text": [
      "0b101\n",
      "3\n"
     ]
    }
   ],
   "source": [
    "n=5\n",
    "print(bin(n))\n",
    "print(n.bit_length())\n",
    "#print(n.bit_count()) #New in version 3.10."
   ]
  },
  {
   "cell_type": "code",
   "execution_count": 8,
   "id": "2468798b",
   "metadata": {},
   "outputs": [
    {
     "name": "stdout",
     "output_type": "stream",
     "text": [
      "              1  1          1\n",
      "              2  4          8\n",
      "              3  9         27\n",
      "              4 16         64\n"
     ]
    }
   ],
   "source": [
    "for x in range(1, 5):\n",
    "    print('{0:15d} {1:2d} {2:10d}'.format(x, x*x, x*x*x))"
   ]
  },
  {
   "cell_type": "code",
   "execution_count": 9,
   "id": "92c1a0ea",
   "metadata": {},
   "outputs": [
    {
     "name": "stdout",
     "output_type": "stream",
     "text": [
      "Jack: 4098; Sjoerd: 4127; Dcab: 8637678\n",
      "Jack: 4098.000000; Sjoerd: 4127; Dcab: 8637678\n"
     ]
    }
   ],
   "source": [
    "#If you have a really long format string that you don’t want to split up we can use as below 2 ways\n",
    "table = {'Sjoerd': 4127, 'Jack': 4098, 'Dcab': 8637678}\n",
    "print('Jack: {0[Jack]:d}; Sjoerd: {0[Sjoerd]:d}; ''Dcab: {0[Dcab]:d}'.format(table))\n",
    "print('Jack: {Jack:f}; Sjoerd: {Sjoerd:d}; Dcab: {Dcab:d}'.format(**table))"
   ]
  },
  {
   "cell_type": "code",
   "execution_count": 12,
   "id": "2b7a10db",
   "metadata": {},
   "outputs": [
    {
     "data": {
      "text/plain": [
       "<module 'math' (built-in)>"
      ]
     },
     "execution_count": 12,
     "metadata": {},
     "output_type": "execute_result"
    }
   ],
   "source": [
    "import importlib #For efficiency reasons, each module is only imported once per interpreter session. \n",
    "#Therefore, if you change your modules, you must restart the interpreter \n",
    "import math\n",
    "importlib.reload(math)"
   ]
  },
  {
   "cell_type": "code",
   "execution_count": null,
   "id": "bf1a93df",
   "metadata": {},
   "outputs": [],
   "source": []
  },
  {
   "cell_type": "code",
   "execution_count": null,
   "id": "aefb4ff9",
   "metadata": {},
   "outputs": [],
   "source": []
  },
  {
   "cell_type": "code",
   "execution_count": null,
   "id": "bba99093",
   "metadata": {},
   "outputs": [],
   "source": [
    "# def isbalanced(s):\n",
    "#     while(len(s)!=0):\n",
    "#         s = s.replace('()', '') \n",
    "#         s = s.replace('[]', '')\n",
    "#         s = s.replace('{}', '')\n",
    "#     if(len(s)== 0):\n",
    "#         return True\n",
    "#     else:\n",
    "#         return False\n",
    "# s='{[]}'\n",
    "# print('Given string is balanced :',isbalanced(s))"
   ]
  },
  {
   "cell_type": "code",
   "execution_count": null,
   "id": "b1551bc1",
   "metadata": {},
   "outputs": [],
   "source": []
  },
  {
   "cell_type": "code",
   "execution_count": null,
   "id": "dd91dc69",
   "metadata": {},
   "outputs": [],
   "source": []
  },
  {
   "cell_type": "code",
   "execution_count": null,
   "id": "de55d440",
   "metadata": {},
   "outputs": [],
   "source": []
  }
 ],
 "metadata": {
  "kernelspec": {
   "display_name": "Python 3 (ipykernel)",
   "language": "python",
   "name": "python3"
  },
  "language_info": {
   "codemirror_mode": {
    "name": "ipython",
    "version": 3
   },
   "file_extension": ".py",
   "mimetype": "text/x-python",
   "name": "python",
   "nbconvert_exporter": "python",
   "pygments_lexer": "ipython3",
   "version": "3.9.13"
  }
 },
 "nbformat": 4,
 "nbformat_minor": 5
}
