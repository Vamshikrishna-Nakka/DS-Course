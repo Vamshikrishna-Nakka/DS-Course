{
 "cells": [
  {
   "cell_type": "code",
   "execution_count": 2,
   "id": "190bc67e",
   "metadata": {},
   "outputs": [],
   "source": [
    "#Pytest is a testing framework based on python. It is mainly used to write API test cases\n",
    "#Pytest can run multiple tests in parallel, which reduces the execution time of the test suite\n",
    "import pytest"
   ]
  },
  {
   "cell_type": "code",
   "execution_count": 7,
   "id": "f38672d2",
   "metadata": {},
   "outputs": [],
   "source": [
    "# single file\n",
    "\n",
    "import math\n",
    "\n",
    "def test_sqrt():\n",
    "    num = 25\n",
    "    assert math.sqrt(num) == 5\n",
    "\n",
    "def testsquare():\n",
    "    num = 7\n",
    "    assert 7*7 == 40\n",
    "\n",
    "def tesequality():\n",
    "    assert 10 == 11\n",
    "\n",
    "#got file location and type \n",
    "\n",
    "#pytest filename.py\n",
    "#pytest filename.py -v          # -v increases the verbosity"
   ]
  },
  {
   "cell_type": "code",
   "execution_count": 3,
   "id": "1202774f",
   "metadata": {},
   "outputs": [],
   "source": [
    "#multiple files\n",
    "\n",
    "#Running pytest without mentioning a filename will run all files of format test_*.py or *_test.py in the current directory and subdirectories.\n",
    "\n",
    "#pytest\n"
   ]
  },
  {
   "cell_type": "code",
   "execution_count": null,
   "id": "6cf5193b",
   "metadata": {},
   "outputs": [],
   "source": [
    "# Suppose, we want to run only a specific set of tests; how do we go about it?\n",
    "\n",
    "# Pytest provides two ways to run the subset of the test suite.\n",
    "\n",
    "# Select tests to run based on substring matching of test names.\n",
    "# Select tests groups to run based on the markers applied.\n",
    "\n",
    "\n",
    "#pytest -k <substring> -v\n",
    "#pytest p.py -k  square  -v           #here we are testing word square. "
   ]
  },
  {
   "cell_type": "code",
   "execution_count": null,
   "id": "da4dac78",
   "metadata": {},
   "outputs": [],
   "source": []
  },
  {
   "cell_type": "code",
   "execution_count": null,
   "id": "40d45293",
   "metadata": {},
   "outputs": [],
   "source": [
    "#Grouping the Tests\n",
    "\n",
    "#Pytest allows us to use markers on test functions. Markers are used to set various features/attributes to test functions.\n",
    "\n",
    "\n",
    "#file 1 --test_compare.py\n",
    "import pytest\n",
    "@pytest.mark.great\n",
    "def test_greater():\n",
    "   num = 100\n",
    "   assert num > 100\n",
    "\n",
    "@pytest.mark.great\n",
    "def test_greater_equal():\n",
    "   num = 100\n",
    "   assert num >= 100\n",
    "\n",
    "@pytest.mark.others\n",
    "def test_less():\n",
    "   num = 100\n",
    "   assert num < 200\n",
    "\n",
    "    \n",
    "    \n",
    "#file2 ---test_square.py\n",
    "import pytest\n",
    "import math\n",
    "\n",
    "@pytest.mark.square\n",
    "def test_sqrt():\n",
    "   num = 25\n",
    "   assert math.sqrt(num) == 5\n",
    "\n",
    "@pytest.mark.square\n",
    "def testsquare():\n",
    "   num = 7\n",
    "   assert 7*7 == 40\n",
    "\n",
    "@pytest.mark.others\n",
    "   def test_equality():\n",
    "   assert 10 == 11\n",
    "\n",
    "\n",
    "#pytest -m others -v  #run the tests marked as others on all files.\n",
    "#pytest filename.py -m others -v"
   ]
  },
  {
   "cell_type": "code",
   "execution_count": null,
   "id": "e52d127b",
   "metadata": {},
   "outputs": [],
   "source": [
    "#Pytest - Fixtures\n",
    "\n"
   ]
  }
 ],
 "metadata": {
  "kernelspec": {
   "display_name": "Python 3 (ipykernel)",
   "language": "python",
   "name": "python3"
  },
  "language_info": {
   "codemirror_mode": {
    "name": "ipython",
    "version": 3
   },
   "file_extension": ".py",
   "mimetype": "text/x-python",
   "name": "python",
   "nbconvert_exporter": "python",
   "pygments_lexer": "ipython3",
   "version": "3.9.7"
  }
 },
 "nbformat": 4,
 "nbformat_minor": 5
}
