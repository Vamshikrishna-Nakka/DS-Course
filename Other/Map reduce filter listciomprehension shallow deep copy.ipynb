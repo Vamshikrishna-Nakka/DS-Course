{
 "cells": [
  {
   "cell_type": "code",
   "execution_count": 2,
   "metadata": {},
   "outputs": [
    {
     "name": "stdout",
     "output_type": "stream",
     "text": [
      "[1, 2, 3, 4] [1, 0, 1, 0]\n",
      "[1, 2, 3, 4] [1, 3]\n"
     ]
    },
    {
     "ename": "TypeError",
     "evalue": "f() takes 1 positional argument but 2 were given",
     "output_type": "error",
     "traceback": [
      "\u001b[1;31m---------------------------------------------------------------------------\u001b[0m",
      "\u001b[1;31mTypeError\u001b[0m                                 Traceback (most recent call last)",
      "Cell \u001b[1;32mIn[2], line 14\u001b[0m\n\u001b[0;32m     11\u001b[0m ff\u001b[38;5;241m=\u001b[39m\u001b[38;5;28mfilter\u001b[39m(f,l) \u001b[38;5;66;03m#function that tests each element in list to be true or not. the true elements of given return.\u001b[39;00m\n\u001b[0;32m     12\u001b[0m \u001b[38;5;28mprint\u001b[39m(l,\u001b[38;5;28mlist\u001b[39m(ff))\n\u001b[1;32m---> 14\u001b[0m \u001b[38;5;28mprint\u001b[39m(\u001b[43mfunctools\u001b[49m\u001b[38;5;241;43m.\u001b[39;49m\u001b[43mreduce\u001b[49m\u001b[43m(\u001b[49m\u001b[43mf\u001b[49m\u001b[43m,\u001b[49m\u001b[43m \u001b[49m\u001b[43ml\u001b[49m\u001b[43m)\u001b[49m) \u001b[38;5;66;03m#it is part of functools now #this return single value\u001b[39;00m\n\u001b[0;32m     15\u001b[0m \u001b[38;5;28mprint\u001b[39m(functools\u001b[38;5;241m.\u001b[39mreduce(\u001b[38;5;28;01mlambda\u001b[39;00m a, b: a \u001b[38;5;28;01mif\u001b[39;00m a \u001b[38;5;241m>\u001b[39m b \u001b[38;5;28;01melse\u001b[39;00m b, l))\n",
      "\u001b[1;31mTypeError\u001b[0m: f() takes 1 positional argument but 2 were given"
     ]
    }
   ],
   "source": [
    "#filter vs map vs reduce\n",
    "import functools\n",
    "\n",
    "def f(x): return x%2\n",
    "\n",
    "l=[1,2,3,4]\n",
    "mm=map(f,l)    #Takes elements and iterates with function applying.\n",
    "print(l,list(mm))\n",
    "\n",
    "\n",
    "ff=filter(f,l) #function that tests each element in list to be true or not. the true elements of given return.\n",
    "print(l,list(ff))\n",
    "\n",
    "print(functools.reduce(lambda a, b: a+b, l)) #it is part of functools now #this return single value\n",
    "print(functools.reduce(lambda a, b: a if a > b else b, l))"
   ]
  },
  {
   "cell_type": "code",
   "execution_count": 1,
   "metadata": {},
   "outputs": [
    {
     "name": "stdout",
     "output_type": "stream",
     "text": [
      "['V', 'a', 'm', 's', 'h', 'i', ' ', 'K', 'r', 'i', 's', 'h', 'n', 'a', ' ', 'N', 'a', 'k', 'k', 'a']\n",
      "[[0, 1, 2, 3, 4], [0, 1, 2, 3, 4], [0, 1, 2, 3, 4]]\n",
      "[[0, 1, 2, 3, 4], [0, 1, 2, 3, 4], [0, 1, 2, 3, 4]]\n",
      "[1, 1024, 59049, 1048576, 9765625]\n",
      "[10, 20, 30, 40, 50]\n",
      "[4, 16, 36, 64, 100]\n",
      "enter multiple values:gg\n"
     ]
    },
    {
     "ename": "ValueError",
     "evalue": "invalid literal for int() with base 10: 'gg'",
     "output_type": "error",
     "traceback": [
      "\u001b[1;31m---------------------------------------------------------------------------\u001b[0m",
      "\u001b[1;31mValueError\u001b[0m                                Traceback (most recent call last)",
      "\u001b[1;32m~\\AppData\\Local\\Temp/ipykernel_1284/4222829830.py\u001b[0m in \u001b[0;36m<module>\u001b[1;34m\u001b[0m\n\u001b[0;32m     35\u001b[0m \u001b[1;33m\u001b[0m\u001b[0m\n\u001b[0;32m     36\u001b[0m \u001b[1;31m#taking multiple  inputs at a time\u001b[0m\u001b[1;33m\u001b[0m\u001b[1;33m\u001b[0m\u001b[0m\n\u001b[1;32m---> 37\u001b[1;33m \u001b[0mx\u001b[0m\u001b[1;33m=\u001b[0m\u001b[1;33m[\u001b[0m\u001b[0mint\u001b[0m\u001b[1;33m(\u001b[0m\u001b[0mx\u001b[0m\u001b[1;33m)\u001b[0m \u001b[1;32mfor\u001b[0m \u001b[0mx\u001b[0m \u001b[1;32min\u001b[0m \u001b[0minput\u001b[0m\u001b[1;33m(\u001b[0m\u001b[1;34m\"enter multiple values:\"\u001b[0m\u001b[1;33m)\u001b[0m\u001b[1;33m.\u001b[0m\u001b[0msplit\u001b[0m\u001b[1;33m(\u001b[0m\u001b[1;33m)\u001b[0m\u001b[1;33m]\u001b[0m\u001b[1;33m\u001b[0m\u001b[1;33m\u001b[0m\u001b[0m\n\u001b[0m\u001b[0;32m     38\u001b[0m \u001b[0mprint\u001b[0m\u001b[1;33m(\u001b[0m\u001b[1;34m\"Number of list:\"\u001b[0m\u001b[1;33m,\u001b[0m\u001b[0mx\u001b[0m\u001b[1;33m)\u001b[0m\u001b[1;33m\u001b[0m\u001b[1;33m\u001b[0m\u001b[0m\n\u001b[0;32m     39\u001b[0m \u001b[1;33m\u001b[0m\u001b[0m\n",
      "\u001b[1;32m~\\AppData\\Local\\Temp/ipykernel_1284/4222829830.py\u001b[0m in \u001b[0;36m<listcomp>\u001b[1;34m(.0)\u001b[0m\n\u001b[0;32m     35\u001b[0m \u001b[1;33m\u001b[0m\u001b[0m\n\u001b[0;32m     36\u001b[0m \u001b[1;31m#taking multiple  inputs at a time\u001b[0m\u001b[1;33m\u001b[0m\u001b[1;33m\u001b[0m\u001b[0m\n\u001b[1;32m---> 37\u001b[1;33m \u001b[0mx\u001b[0m\u001b[1;33m=\u001b[0m\u001b[1;33m[\u001b[0m\u001b[0mint\u001b[0m\u001b[1;33m(\u001b[0m\u001b[0mx\u001b[0m\u001b[1;33m)\u001b[0m \u001b[1;32mfor\u001b[0m \u001b[0mx\u001b[0m \u001b[1;32min\u001b[0m \u001b[0minput\u001b[0m\u001b[1;33m(\u001b[0m\u001b[1;34m\"enter multiple values:\"\u001b[0m\u001b[1;33m)\u001b[0m\u001b[1;33m.\u001b[0m\u001b[0msplit\u001b[0m\u001b[1;33m(\u001b[0m\u001b[1;33m)\u001b[0m\u001b[1;33m]\u001b[0m\u001b[1;33m\u001b[0m\u001b[1;33m\u001b[0m\u001b[0m\n\u001b[0m\u001b[0;32m     38\u001b[0m \u001b[0mprint\u001b[0m\u001b[1;33m(\u001b[0m\u001b[1;34m\"Number of list:\"\u001b[0m\u001b[1;33m,\u001b[0m\u001b[0mx\u001b[0m\u001b[1;33m)\u001b[0m\u001b[1;33m\u001b[0m\u001b[1;33m\u001b[0m\u001b[0m\n\u001b[0;32m     39\u001b[0m \u001b[1;33m\u001b[0m\u001b[0m\n",
      "\u001b[1;31mValueError\u001b[0m: invalid literal for int() with base 10: 'gg'"
     ]
    }
   ],
   "source": [
    "List=[char for char in 'Vamshi Krishna Nakka']\n",
    "print(List)\n",
    "\n",
    "def loop(n):\n",
    "    result = []\n",
    "    for i in range(n):\n",
    "        result.append(i**2)\n",
    "    return result\n",
    "loop(10)\n",
    "\n",
    "result=[i**2 for i in range(7)]\n",
    "result\n",
    "\n",
    "matrix=[]\n",
    "for i in range(3):\n",
    "    #Append an empty sublist inside the list\n",
    "    matrix.append([])\n",
    "    for j in range(5):\n",
    "        matrix[i].append(j)\n",
    "print(matrix)\n",
    "\n",
    "#Nested Lis comprehension\n",
    "mat=[[j for j in range(5)] for i in range(3)]\n",
    "print(mat)\n",
    "\n",
    "n=[i**10 for i in range(1,6)]\n",
    "print(n)\n",
    "\n",
    "#with lambda\n",
    "number = list(map(lambda i: i*10, [i for i in range(1,6)]))\n",
    "print(number)\n",
    "\n",
    "square=[n**2 for n in range(1,11) if n%2==0]\n",
    "print(square)\n",
    "\n",
    "#taking multiple  inputs at a time\n",
    "x=[int(x) for x in input(\"enter multiple values:\").split()]\n",
    "print(\"Number of list:\",x)\n",
    "\n",
    "x=[int(x) for x in input().split()]\n",
    "x\n",
    "\n",
    "n=[2,3,4,5,62,3,5,67,4,6,8]\n",
    "result=list(map(lambda a:a+2, n))   #map\n",
    "print(result)                      \n",
    "\n",
    "from functools import *\n",
    "reduce(lambda a,b: a+b,[23,21,45,98]) #reduce\n",
    "\n",
    "y=filter(lambda x: (x>=3), (1,2,3,4))\n",
    "print(list(y))\n"
   ]
  },
  {
   "cell_type": "markdown",
   "metadata": {},
   "source": [
    "Shalow and deep copy"
   ]
  },
  {
   "cell_type": "code",
   "execution_count": 2,
   "metadata": {},
   "outputs": [
    {
     "name": "stdout",
     "output_type": "stream",
     "text": [
      "[1, 100, 3, 4, 5] 1931571377536\n",
      "[1, 100, 3, 4, 5] 1931571377536\n"
     ]
    }
   ],
   "source": [
    "import copy as c\n",
    "l1= [1,2,3,4,5] \n",
    "l2=l1                           # using = operator\n",
    "l2[1]=100\n",
    "print(l1, id(l1))       # changed on both varibales refering to same memory- one change other change.\n",
    "print(l2, id(l2))"
   ]
  },
  {
   "cell_type": "code",
   "execution_count": 44,
   "metadata": {},
   "outputs": [
    {
     "name": "stdout",
     "output_type": "stream",
     "text": [
      "[1, 2, 3, 4, 5] 2097524326336\n",
      "[1, 500, 3, 4, 5] 2097495080192\n"
     ]
    }
   ],
   "source": [
    "# Shallow copy operation with copy()\n",
    "l1= [1,2,3,4,5] \n",
    "l2=c.copy(l1) \n",
    "l2[1]=500\n",
    "print(l1, id(l1))\n",
    "print(l2, id(l2)) # both are refereing to different memory"
   ]
  },
  {
   "cell_type": "code",
   "execution_count": 5,
   "metadata": {},
   "outputs": [
    {
     "name": "stdout",
     "output_type": "stream",
     "text": [
      "chnages made on nested [[1, 2], [3, 500, 5]] 1931571253760\n",
      "chnages made on nested [[1, 2], [3, 500, 5]] 1931571344192\n",
      "chnages made at index of single [[1, 2], [3, 500, 5]] 1931571253760\n",
      "chnages made at index of single [[1, 2], 300] 1931571344192\n",
      "appended [[1, 2], [3, 4, 5]] 1931571391616\n",
      "appended [[1, 2], [3, 4, 5], [7, 8, 9]] 1931571083328\n"
     ]
    }
   ],
   "source": [
    "l1= [[1,2],[3,4,5]] \n",
    "l2=c.copy(l1)  \n",
    "l2[1][1]=500\n",
    "print('chnages made on nested',l1, id(l1))# when we change it reflected in both the list although id is different.\n",
    "print('chnages made on nested',l2, id(l2))\n",
    "l2[1]=300\n",
    "print('chnages made at index of single',l1, id(l1)) # but in single level change won't reflect on both because\n",
    "print('chnages made at index of single',l2, id(l2)) #when we create nested list it acts as collection of objects.\n",
    "\n",
    "\n",
    "#on appending\n",
    "l1= [[1,2],[3,4,5]] \n",
    "l2=c.copy(l1)\n",
    "l2.append([7,8,9])     #when we appened that elemets are not copying to both \n",
    "print('appended',l1, id(l1))\n",
    "print('appended',l2, id(l2))"
   ]
  },
  {
   "cell_type": "code",
   "execution_count": 1,
   "metadata": {},
   "outputs": [
    {
     "ename": "NameError",
     "evalue": "name 'c' is not defined",
     "output_type": "error",
     "traceback": [
      "\u001b[1;31m---------------------------------------------------------------------------\u001b[0m",
      "\u001b[1;31mNameError\u001b[0m                                 Traceback (most recent call last)",
      "\u001b[1;32m~\\AppData\\Local\\Temp/ipykernel_9892/3114103419.py\u001b[0m in \u001b[0;36m<module>\u001b[1;34m\u001b[0m\n\u001b[0;32m      1\u001b[0m \u001b[1;31m# Deep copy operation with deepcopy()\u001b[0m\u001b[1;33m\u001b[0m\u001b[1;33m\u001b[0m\u001b[0m\n\u001b[0;32m      2\u001b[0m \u001b[0ml1\u001b[0m\u001b[1;33m=\u001b[0m \u001b[1;33m[\u001b[0m\u001b[1;36m1\u001b[0m\u001b[1;33m,\u001b[0m\u001b[1;36m2\u001b[0m\u001b[1;33m,\u001b[0m\u001b[1;36m3\u001b[0m\u001b[1;33m,\u001b[0m\u001b[1;36m4\u001b[0m\u001b[1;33m,\u001b[0m\u001b[1;36m5\u001b[0m\u001b[1;33m]\u001b[0m\u001b[1;33m\u001b[0m\u001b[1;33m\u001b[0m\u001b[0m\n\u001b[1;32m----> 3\u001b[1;33m \u001b[0ml2\u001b[0m\u001b[1;33m=\u001b[0m\u001b[0mc\u001b[0m\u001b[1;33m.\u001b[0m\u001b[0mdeepcopy\u001b[0m\u001b[1;33m(\u001b[0m\u001b[0ml1\u001b[0m\u001b[1;33m)\u001b[0m\u001b[1;33m\u001b[0m\u001b[1;33m\u001b[0m\u001b[0m\n\u001b[0m\u001b[0;32m      4\u001b[0m \u001b[0ml2\u001b[0m\u001b[1;33m[\u001b[0m\u001b[1;36m1\u001b[0m\u001b[1;33m]\u001b[0m\u001b[1;33m=\u001b[0m\u001b[1;36m500\u001b[0m\u001b[1;33m\u001b[0m\u001b[1;33m\u001b[0m\u001b[0m\n\u001b[0;32m      5\u001b[0m \u001b[0mprint\u001b[0m\u001b[1;33m(\u001b[0m\u001b[0ml1\u001b[0m\u001b[1;33m,\u001b[0m \u001b[0mid\u001b[0m\u001b[1;33m(\u001b[0m\u001b[0ml1\u001b[0m\u001b[1;33m)\u001b[0m\u001b[1;33m)\u001b[0m\u001b[1;33m\u001b[0m\u001b[1;33m\u001b[0m\u001b[0m\n",
      "\u001b[1;31mNameError\u001b[0m: name 'c' is not defined"
     ]
    }
   ],
   "source": [
    "# Deep copy operation with deepcopy()\n",
    "l1= [1,2,3,4,5] \n",
    "l2=c.deepcopy(l1) \n",
    "l2[1]=500\n",
    "print(l1, id(l1))\n",
    "print(l2, id(l2)) # this acting same like a shallow copy with single dimentional list. shallow == deepcopy"
   ]
  },
  {
   "cell_type": "code",
   "execution_count": 43,
   "metadata": {},
   "outputs": [
    {
     "name": "stdout",
     "output_type": "stream",
     "text": [
      "[[1, 2], [3, 4, 5]] 2097495075200\n",
      "[[1, 2], [3, 4, 500]] 2097524377856\n",
      "appended [[1, 2], [3, 4, 5]] 2097495075200\n",
      "appended [[1, 2], [3, 4, 500], [7, 8, 9]] 2097524377856\n"
     ]
    }
   ],
   "source": [
    "l1= [[1,2],[3,4,5]] \n",
    "l2=c.deepcopy(l1)  \n",
    "l2[1][2]=500\n",
    "print(l1, id(l1)) \n",
    "print(l2, id(l2))\n",
    "\n",
    "l2.append([7,8,9])\n",
    "print('appended',l1, id(l1))   #shallow != deepcopy.\n",
    "print('appended',l2, id(l2))"
   ]
  },
  {
   "cell_type": "markdown",
   "metadata": {},
   "source": [
    "Bisect Algorithm Functions"
   ]
  },
  {
   "cell_type": "markdown",
   "metadata": {},
   "source": [
    "#bisect(list, num, beg, end):returns the position in the sorted list, where the number passed in argument can be placed so as to maintain the resultant list in sorted order."
   ]
  },
  {
   "cell_type": "code",
   "execution_count": 65,
   "metadata": {},
   "outputs": [
    {
     "name": "stdout",
     "output_type": "stream",
     "text": [
      "The rightmost index to insert, so list remains sorted is  :  5\n",
      "The leftmost index to insert, so list remains sorted is  :  2\n",
      "The rightmost index to insert, so list remains sorted is  :  4\n"
     ]
    }
   ],
   "source": [
    "import bisect\n",
    "\n",
    "li = [1, 3, 4, 4, 4, 6, 7]\n",
    "\n",
    "print (\"The rightmost index to insert, so list remains sorted is  : \", bisect.bisect(li, 4))\n",
    "print (\"The leftmost index to insert, so list remains sorted is  : \",bisect.bisect_left(li, 4))\n",
    "print (\"The rightmost index to insert, so list remains sorted is  : \",bisect.bisect_right(li, 4, 0, 4))\n",
    "#bisect() similar to bisect_right()"
   ]
  },
  {
   "cell_type": "markdown",
   "metadata": {},
   "source": [
    "returns the sorted list after inserting number in appropriate position, if the element is already present in the list, the element is inserted at the rightmost possible position."
   ]
  },
  {
   "cell_type": "code",
   "execution_count": 74,
   "metadata": {},
   "outputs": [
    {
     "name": "stdout",
     "output_type": "stream",
     "text": [
      "1 0 1\n",
      "6 1 6\n",
      "2 6 2\n",
      "4 2 4\n",
      "1 4 1\n",
      "5 1 4\n",
      "8 8 8\n"
     ]
    }
   ],
   "source": [
    "li1 = [1, 6, 2, 4, 1, 8, 7]\n",
    "li2 = [1, 6, 2, 4, 1, 8, 7]\n",
    "li3 = [1, 6, 2, 4, 1, 8, 7]\n",
    "bisect.insort(li1, 5)\n",
    "bisect.insort_left(li2, 0)\n",
    "bisect.insort_right(li3, 4, 0, 5)\n",
    "for i in range(0, 7):\n",
    "    print(li1[i],li2[i],li3[i])"
   ]
  },
  {
   "cell_type": "markdown",
   "metadata": {},
   "source": [
    "Enumeration"
   ]
  },
  {
   "cell_type": "code",
   "execution_count": null,
   "metadata": {},
   "outputs": [],
   "source": []
  }
 ],
 "metadata": {
  "interpreter": {
   "hash": "2ac21883b9071dd4ff4c462118cd782761a92edefb482082c84be5deb50e9118"
  },
  "kernelspec": {
   "display_name": "Python 3 (ipykernel)",
   "language": "python",
   "name": "python3"
  },
  "language_info": {
   "codemirror_mode": {
    "name": "ipython",
    "version": 3
   },
   "file_extension": ".py",
   "mimetype": "text/x-python",
   "name": "python",
   "nbconvert_exporter": "python",
   "pygments_lexer": "ipython3",
   "version": "3.10.9"
  }
 },
 "nbformat": 4,
 "nbformat_minor": 2
}
