{
 "cells": [
  {
   "cell_type": "code",
   "execution_count": 3,
   "id": "ea913ab6",
   "metadata": {},
   "outputs": [],
   "source": [
    "#DataStructure is a way of collecting and organising data in such a way that we can perform operations on these data in an \n",
    "#effective way. "
   ]
  },
  {
   "cell_type": "code",
   "execution_count": 4,
   "id": "36b425de",
   "metadata": {},
   "outputs": [],
   "source": [
    "# - An algorithm is a finite set of instructions or logic, written in order, to accomplish a certain predefined task.\n",
    "# - It is not the complete code its just core logic. expressed either with as pseudocode or using a flowchart.\n",
    "\n",
    "# An algorithm is said to be efficient and fast, if it takes less time to execute and consumes less memory space.\n",
    "# performance of an algorithm is measured on below properties.\n",
    "\n",
    "# 1) Time Complexity\n",
    "# 2) Space Complexity"
   ]
  },
  {
   "cell_type": "code",
   "execution_count": null,
   "id": "57c7de1d",
   "metadata": {},
   "outputs": [],
   "source": [
    "# Space Complexity\n",
    "\n"
   ]
  },
  {
   "cell_type": "code",
   "execution_count": 1,
   "id": "746031f5",
   "metadata": {},
   "outputs": [],
   "source": [
    "# Time Complexity\n",
    "\n",
    "# Time complexity of an algorithm signifies the total time required by the program to run till its completion.\n",
    "\n",
    "# The time complexity of algorithms is most commonly expressed using the big O notation(worst-case Time complexity)."
   ]
  },
  {
   "cell_type": "code",
   "execution_count": 2,
   "id": "12626e70",
   "metadata": {},
   "outputs": [],
   "source": [
    "#statement\n",
    "\n",
    "#we have a single statement. Its Time Complexity will be Constant. The running time of the statement will not change in \n",
    "#relation to N."
   ]
  },
  {
   "cell_type": "code",
   "execution_count": null,
   "id": "35109bae",
   "metadata": {},
   "outputs": [],
   "source": [
    "# for i in range(N):\n",
    "#     statement\n",
    "\n",
    "# The time complexity for the above algorithm will be Linear. The running time of the loop is directly proportional to N. \n",
    "# When N doubles, so does the running time."
   ]
  },
  {
   "cell_type": "code",
   "execution_count": null,
   "id": "d931ccbc",
   "metadata": {},
   "outputs": [],
   "source": [
    "# for i in range(N):\n",
    "#     for j in range(N):\n",
    "#         statement;\n",
    "\n",
    "\n",
    "# This time, the time complexity for the above code will be Quadratic. The running time of the two loops is proportional to \n",
    "# the square of N. When N doubles, the running time increases by N * N."
   ]
  },
  {
   "cell_type": "code",
   "execution_count": null,
   "id": "b7585534",
   "metadata": {},
   "outputs": [],
   "source": [
    "# while low <= high:\n",
    "#     mid = (low + high) / 2;\n",
    "#     if target < list[mid]:\n",
    "#         high = mid - 1\n",
    "#     elif target > list[mid]:\n",
    "#         low = mid + 1\n",
    "#     else:\n",
    "#         break\n",
    "\n",
    "\n",
    "# This is an algorithm to break a set of numbers into halves, to search a particular field(we will study this in detail later)\n",
    "# Now, this algorithm will have a Logarithmic Time Complexity. The running time of the algorithm is proportional to the number\n",
    "# of times N can be divided by 2(N is high-low here). This is because the algorithm divides the working area in half with each\n",
    "# iteration."
   ]
  },
  {
   "cell_type": "code",
   "execution_count": null,
   "id": "3e39cb56",
   "metadata": {},
   "outputs": [],
   "source": [
    "# quicksort(int list[], int left, int right):\n",
    "#     int pivot = partition(list, left, right)\n",
    "#     quicksort(list, left, pivot - 1)\n",
    "#     quicksort(list, pivot + 1, right)\n",
    "\n",
    "# Taking the previous algorithm forward, above we have a small logic of Quick Sort(we will study this in detail later). \n",
    "# Now in Quick Sort, we divide the list into halves every time, but we repeat the iteration N times(where N is the size of \n",
    "# list). Hence time complexity will be N*log( N ). The running time consists of N loops (iterative or recursive) that are \n",
    "# logarithmic, thus the algorithm is a combination of linear and logarithmic."
   ]
  },
  {
   "cell_type": "code",
   "execution_count": null,
   "id": "ea3643c3",
   "metadata": {},
   "outputs": [],
   "source": [
    "# NOTE: In general, doing something with every item in one dimension is linear, doing something with every item in two \n",
    "# dimensions is quadratic, and dividing the working area in half is logarithmic."
   ]
  },
  {
   "cell_type": "code",
   "execution_count": null,
   "id": "cb94c653",
   "metadata": {},
   "outputs": [],
   "source": [
    "Types of Notations for Time Complexity()\n",
    "\n"
   ]
  },
  {
   "cell_type": "code",
   "execution_count": 8,
   "id": "7017e0a6",
   "metadata": {},
   "outputs": [
    {
     "name": "stdout",
     "output_type": "stream",
     "text": [
      "0\n",
      "0\n",
      "0\n",
      "1\n",
      "1\n",
      "1\n",
      "2\n",
      "2\n",
      "2\n",
      "3\n",
      "3\n",
      "3\n",
      "4\n",
      "4\n",
      "4\n",
      "Wall time: 1.07 ms\n"
     ]
    }
   ],
   "source": [
    "%%time\n",
    "for i in range(5):\n",
    "    for j in range(3):\n",
    "        print(i)"
   ]
  },
  {
   "cell_type": "code",
   "execution_count": null,
   "id": "f3982cd6",
   "metadata": {},
   "outputs": [],
   "source": []
  }
 ],
 "metadata": {
  "kernelspec": {
   "display_name": "Python 3 (ipykernel)",
   "language": "python",
   "name": "python3"
  },
  "language_info": {
   "codemirror_mode": {
    "name": "ipython",
    "version": 3
   },
   "file_extension": ".py",
   "mimetype": "text/x-python",
   "name": "python",
   "nbconvert_exporter": "python",
   "pygments_lexer": "ipython3",
   "version": "3.9.7"
  }
 },
 "nbformat": 4,
 "nbformat_minor": 5
}
