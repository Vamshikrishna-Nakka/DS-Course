{
 "cells": [
  {
   "cell_type": "code",
   "execution_count": 1,
   "id": "edceafe0",
   "metadata": {},
   "outputs": [],
   "source": [
    "from sklearn import linear_model"
   ]
  },
  {
   "cell_type": "code",
   "execution_count": 8,
   "id": "31c9682a",
   "metadata": {},
   "outputs": [
    {
     "name": "stdout",
     "output_type": "stream",
     "text": [
      "[0.5 0.5]\n",
      "2.220446049250313e-16\n"
     ]
    }
   ],
   "source": [
    "reg = linear_model.LinearRegression()\n",
    "reg.fit([[0, 0], [1, 1], [2, 2]], [0, 1, 2])\n",
    "print(reg.coef_)\n",
    "print(reg.intercept_)"
   ]
  },
  {
   "cell_type": "code",
   "execution_count": 12,
   "id": "e13197fb",
   "metadata": {},
   "outputs": [
    {
     "name": "stdout",
     "output_type": "stream",
     "text": [
      "[0.34545455 0.34545455]\n",
      "0.1363636363636364\n"
     ]
    }
   ],
   "source": [
    "from sklearn import linear_model\n",
    "reg = linear_model.Ridge(alpha=.5)\n",
    "reg.fit([[0, 0], [0, 0], [1, 1]], [0, .1, 1])\n",
    "print(reg.coef_)\n",
    "print(reg.intercept_)"
   ]
  },
  {
   "cell_type": "code",
   "execution_count": 52,
   "id": "05b738c4",
   "metadata": {},
   "outputs": [],
   "source": [
    "mydates = pd.date_range(end='20230110',  periods=1).tolist()"
   ]
  },
  {
   "cell_type": "code",
   "execution_count": 55,
   "id": "f588e425",
   "metadata": {},
   "outputs": [
    {
     "name": "stdout",
     "output_type": "stream",
     "text": [
      "2023-01-10 00:00:00\n"
     ]
    }
   ],
   "source": [
    "for i in mydates:\n",
    "    print(i)"
   ]
  },
  {
   "cell_type": "code",
   "execution_count": 36,
   "id": "3054e895",
   "metadata": {},
   "outputs": [],
   "source": [
    "import pandas as pd"
   ]
  },
  {
   "cell_type": "code",
   "execution_count": 56,
   "id": "28e81df6",
   "metadata": {},
   "outputs": [],
   "source": [
    "dateIn=mydates[0]"
   ]
  },
  {
   "cell_type": "code",
   "execution_count": 57,
   "id": "eba5ad2b",
   "metadata": {},
   "outputs": [],
   "source": [
    "dateIn = dateIn.strftime(\"%Y%m%d\")"
   ]
  },
  {
   "cell_type": "code",
   "execution_count": 58,
   "id": "a58cc9fe",
   "metadata": {},
   "outputs": [
    {
     "data": {
      "text/plain": [
       "'20230110'"
      ]
     },
     "execution_count": 58,
     "metadata": {},
     "output_type": "execute_result"
    }
   ],
   "source": [
    "dateIn"
   ]
  },
  {
   "cell_type": "code",
   "execution_count": null,
   "id": "ea565295",
   "metadata": {},
   "outputs": [],
   "source": []
  },
  {
   "cell_type": "code",
   "execution_count": 72,
   "id": "c6aea15e",
   "metadata": {},
   "outputs": [],
   "source": [
    "from datetime import date\n",
    "s=datetime.timedelta(days=3)"
   ]
  },
  {
   "cell_type": "code",
   "execution_count": 65,
   "id": "65313eca",
   "metadata": {},
   "outputs": [
    {
     "name": "stdout",
     "output_type": "stream",
     "text": [
      "3 days, 0:00:00\n"
     ]
    }
   ],
   "source": [
    "print(s)h"
   ]
  },
  {
   "cell_type": "code",
   "execution_count": 66,
   "id": "207b1bb7",
   "metadata": {},
   "outputs": [],
   "source": [
    "import requests\n",
    "\n",
    "URL = \"http://reports.ieso.ca/public/Adequacy2/PUB_Adequacy2_20230110.xml\"\n",
    "\n",
    "response = requests.get(URL)\n",
    "with open('feed.xml', 'wb') as file:\n",
    "    file.write(response.content)"
   ]
  },
  {
   "cell_type": "code",
   "execution_count": 80,
   "id": "55ebf02d",
   "metadata": {},
   "outputs": [],
   "source": [
    "ss=date.today()"
   ]
  },
  {
   "cell_type": "code",
   "execution_count": 81,
   "id": "a7c8955b",
   "metadata": {},
   "outputs": [
    {
     "name": "stdout",
     "output_type": "stream",
     "text": [
      "2023-01-10\n"
     ]
    }
   ],
   "source": [
    "print(ss)"
   ]
  },
  {
   "cell_type": "code",
   "execution_count": 90,
   "id": "ed05f0f6",
   "metadata": {},
   "outputs": [],
   "source": [
    "x=datetime.now(timezone('America/Toronto')) + timedelta(days=-3)"
   ]
  },
  {
   "cell_type": "code",
   "execution_count": 88,
   "id": "6649af80",
   "metadata": {},
   "outputs": [],
   "source": [
    "from datetime import datetime\n",
    "from datetime import datetime, timedelta\n",
    "from pytz import timezone"
   ]
  },
  {
   "cell_type": "code",
   "execution_count": 92,
   "id": "7b2c36a2",
   "metadata": {},
   "outputs": [
    {
     "name": "stdout",
     "output_type": "stream",
     "text": [
      "2023-01-07 11:35:31.655628-05:00\n"
     ]
    }
   ],
   "source": [
    "print(x)"
   ]
  },
  {
   "cell_type": "code",
   "execution_count": null,
   "id": "b7fd09cc",
   "metadata": {},
   "outputs": [],
   "source": []
  }
 ],
 "metadata": {
  "kernelspec": {
   "display_name": "Python 3 (ipykernel)",
   "language": "python",
   "name": "python3"
  },
  "language_info": {
   "codemirror_mode": {
    "name": "ipython",
    "version": 3
   },
   "file_extension": ".py",
   "mimetype": "text/x-python",
   "name": "python",
   "nbconvert_exporter": "python",
   "pygments_lexer": "ipython3",
   "version": "3.9.12"
  }
 },
 "nbformat": 4,
 "nbformat_minor": 5
}
