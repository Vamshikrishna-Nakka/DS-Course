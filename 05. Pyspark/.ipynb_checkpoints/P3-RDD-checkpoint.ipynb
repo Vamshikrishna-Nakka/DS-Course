{
 "cells": [
  {
   "cell_type": "code",
   "execution_count": null,
   "id": "3d528c80",
   "metadata": {},
   "outputs": [],
   "source": [
    "#Resilient Distributed Datasets (RDDs)\n",
    "\n",
    "# This is a fundamental data structure of Spark, It is an immutable(read-only) distributed collection of objects, which are\n",
    "# stored in memory or on disks of different machines of a cluster. Each dataset in RDD is divided into logical partitions,\n",
    "# which may be run and operate on different nodes(machines) to do parallel processing on a cluster.\n",
    "\n",
    "# When we read a file with \"sc\"(Spark core) object it will be by default an RDD.\n",
    "\n",
    "# Since this are immutable You cannot change an original RDD, but you can create new RDDs by performing coarse-grain \n",
    "# operations, like transformations, on an existing RDD.\n",
    "\n",
    "# An RDD in Spark can be cached and used again for future transformations, which is a huge benefit for users. \n",
    "\n",
    "# RDDs are said to be lazily evaluated, i.e., they delay the evaluation until it is really needed. This saves a lot of time\n",
    "# and improves efficiency.\n",
    "\n",
    "# RDDs are fault tolerant as well, hence in case of any failure, they recover automatically. "
   ]
  },
  {
   "cell_type": "code",
   "execution_count": null,
   "id": "db79a99e",
   "metadata": {},
   "outputs": [],
   "source": [
    "# Job=====>Stages====>Task(individual tranformations are task like map filter)\n",
    "\n",
    "# when you invoke an action on RDD, a job is created. Jobs are the main function that has to be done and is submitted to \n",
    "# Spark. The jobs are divided into stages depending on how they can be separately carried out (mainly on shuffle boundaries).\n",
    "# Then, these stages are divided into tasks.\n",
    "\n",
    "# Transformations are 2 types they are\n",
    "# 1. Narrow (example map, filter..etc.,)\n",
    "# 2. Wide (example join, groupby,groupbykey)\n",
    "\n",
    "# when we apply a tranformation on a data which has partitions. the data in one partitions wont transfer/communicate\n",
    "# to other partitions. this is called narrow transformations.\n",
    "# Here all these be done in one stage. that is one after other it will be done(map -->filter--> collect)\n",
    "\n",
    "# communication/ tranfer will happen in Wide tranformations.\n",
    "# here there will be a stages all partitions will complete stage1 then internal suffule rdd will happen then goes to wide \n",
    "# tranformations and tranfer of data will happen so it goes to stage2 (stage 1'map -->filter-->' stage 2'groupby')\n",
    "\n",
    "\n",
    "# wide tranformations are costly\n",
    " \n",
    "# RDD is dont have strip schema, unless it runs it dont know  anything. we cannot optimize the data. that is why sparksql or\n",
    "# dataframes comes into picture."
   ]
  },
  {
   "cell_type": "code",
   "execution_count": null,
   "id": "79382e77",
   "metadata": {},
   "outputs": [],
   "source": []
  },
  {
   "cell_type": "code",
   "execution_count": null,
   "id": "44bf709b",
   "metadata": {},
   "outputs": [],
   "source": [
    "# There are two ways to create RDDs: \n",
    "# 1) parallelizing an existing collection in your driver program, \n",
    "# 2) referencing a dataset in an external storage system, such as a shared filesystem, HDFS, HBase, or any data source \n",
    "#    offering a Hadoop InputFormat."
   ]
  },
  {
   "cell_type": "code",
   "execution_count": 1,
   "id": "798c6706",
   "metadata": {},
   "outputs": [],
   "source": [
    "import pyspark\n",
    "from pyspark.sql import SparkSession\n",
    "spark = SparkSession.builder.master(\"local[1]\").appName('Krishna').getOrCreate()\n",
    "sc =spark.sparkContext"
   ]
  },
  {
   "cell_type": "code",
   "execution_count": 6,
   "id": "a422f191",
   "metadata": {},
   "outputs": [],
   "source": [
    "data=[1,2,3,4,5,6,7,8,9,10,11,12]\n",
    "rd=sc.parallelize(data)"
   ]
  },
  {
   "cell_type": "code",
   "execution_count": 7,
   "id": "acb34447",
   "metadata": {},
   "outputs": [],
   "source": [
    "rd1=sc.parallelize(data,3) # the 5 is the no. of partitions should do on these"
   ]
  },
  {
   "cell_type": "code",
   "execution_count": 8,
   "id": "932f0467",
   "metadata": {},
   "outputs": [
    {
     "data": {
      "text/plain": [
       "3"
      ]
     },
     "execution_count": 8,
     "metadata": {},
     "output_type": "execute_result"
    }
   ],
   "source": [
    "rd1.getNumPartitions()"
   ]
  },
  {
   "cell_type": "code",
   "execution_count": null,
   "id": "c7e34652",
   "metadata": {},
   "outputs": [],
   "source": [
    "#Create empty RDD with partition\n",
    "rdd2 = sc.parallelize([],10) #This creates 10 partitions"
   ]
  },
  {
   "cell_type": "code",
   "execution_count": 58,
   "id": "8998dc0b",
   "metadata": {},
   "outputs": [],
   "source": [
    "e1 = sc.emptyRDD() # creating an empty RDD"
   ]
  },
  {
   "cell_type": "code",
   "execution_count": 59,
   "id": "0426d180",
   "metadata": {},
   "outputs": [
    {
     "data": {
      "text/plain": [
       "EmptyRDD[30] at emptyRDD at <unknown>:0"
      ]
     },
     "execution_count": 59,
     "metadata": {},
     "output_type": "execute_result"
    }
   ],
   "source": [
    "#Create RDD from external Data source\n",
    "rdd2 = sc.textFile(\"/path/textFile.txt\")\n",
    "rdd= sc.textFile('path',4,use_unicode=False).repartition(6) "
   ]
  },
  {
   "cell_type": "code",
   "execution_count": 60,
   "id": "fddb2061",
   "metadata": {},
   "outputs": [
    {
     "data": {
      "text/plain": [
       "True"
      ]
     },
     "execution_count": 60,
     "metadata": {},
     "output_type": "execute_result"
    }
   ],
   "source": [
    "e1.isEmpty() # to check rdd is empty or not"
   ]
  },
  {
   "cell_type": "code",
   "execution_count": null,
   "id": "4277e49c",
   "metadata": {},
   "outputs": [],
   "source": [
    "#Reads entire file into a RDD as single record.\n",
    "rdd3 = sc.wholeTextFiles(\"/path/textFile.txt\")"
   ]
  },
  {
   "cell_type": "code",
   "execution_count": null,
   "id": "514184ea",
   "metadata": {},
   "outputs": [],
   "source": [
    "Transformations\n",
    "    map(func)\n",
    "    filter(func)\n",
    "    flatMap(func)\n",
    "    mapPartitions(func)\n",
    "    mapPartitionsWithIndex(func)\n",
    "    sample(withReplacement, fraction, seed)\n",
    "    union(otherDataset)\n",
    "    intersection(otherDataset)\n",
    "    distinct([numPartitions]))\n",
    "    groupByKey([numPartitions])\n",
    "    reduceByKey(func, [numPartitions])\n",
    "    aggregateByKey(zeroValue)(seqOp, combOp, [numPartitions])\n",
    "    sortByKey([ascending], [numPartitions])\n",
    "    join(otherDataset, [numPartitions])\n",
    "    cogroup(otherDataset, [numPartitions])\n",
    "    cartesian(otherDataset)\n",
    "    pipe(command, [envVars])\n",
    "    coalesce(numPartitions)\n",
    "    repartition(numPartitions)\n",
    "    repartitionAndSortWithinPartitions(partitioner)"
   ]
  },
  {
   "cell_type": "code",
   "execution_count": null,
   "id": "6f57eb62",
   "metadata": {},
   "outputs": [],
   "source": [
    "Actions\n",
    "    reduce(func)\n",
    "    collect()\n",
    "    count()\n",
    "    first()\n",
    "    take(n)\n",
    "    takeSample(withReplacement, num, [seed])\n",
    "    takeOrdered(n, [ordering])\n",
    "    saveAsTextFile(path)\n",
    "    countByKey()\n",
    "    foreach(func)"
   ]
  },
  {
   "cell_type": "code",
   "execution_count": null,
   "id": "4a912355",
   "metadata": {},
   "outputs": [],
   "source": [
    "Persistence\n",
    "    persist()\n",
    "    cache()"
   ]
  },
  {
   "cell_type": "code",
   "execution_count": null,
   "id": "a897240b",
   "metadata": {},
   "outputs": [],
   "source": [
    "unpersist()\n",
    "destroy()"
   ]
  },
  {
   "cell_type": "code",
   "execution_count": null,
   "id": "460c0234",
   "metadata": {},
   "outputs": [],
   "source": [
    "Shared variables for two common usage patterns: \n",
    "    1) broadcast variables \n",
    "    2) accumulators.\n",
    "    \n",
    "    sc.broadcast(v)\n",
    "\n",
    "    sc.accumulator(v)\n",
    "    "
   ]
  },
  {
   "cell_type": "code",
   "execution_count": null,
   "id": "ace60b65",
   "metadata": {},
   "outputs": [],
   "source": [
    "# repartition()- to increase or decrease the RDD/DataFrame partitions\n",
    "# coalesce() - to only decrease the number of partitions in an efficient way.\n",
    "\n"
   ]
  },
  {
   "cell_type": "code",
   "execution_count": null,
   "id": "359d6c25",
   "metadata": {},
   "outputs": [],
   "source": [
    "# Types of RDD:\n",
    "    \n",
    "# PairRDDFunctions or PairRDD – Pair RDD is a key-value pair This is mostly used RDD type, \n",
    "# ShuffledRDD – \n",
    "# DoubleRDD – \n",
    "# SequenceFileRDD – \n",
    "# HadoopRDD – \n",
    "# ParallelCollectionRDD – "
   ]
  },
  {
   "cell_type": "code",
   "execution_count": null,
   "id": "514d8b82",
   "metadata": {},
   "outputs": [],
   "source": [
    "# Shuffle Operations:\n",
    "    "
   ]
  },
  {
   "cell_type": "code",
   "execution_count": null,
   "id": "79720f19",
   "metadata": {},
   "outputs": [],
   "source": []
  },
  {
   "cell_type": "code",
   "execution_count": null,
   "id": "1a219390",
   "metadata": {},
   "outputs": [],
   "source": []
  }
 ],
 "metadata": {
  "kernelspec": {
   "display_name": "Python 3 (ipykernel)",
   "language": "python",
   "name": "python3"
  },
  "language_info": {
   "codemirror_mode": {
    "name": "ipython",
    "version": 3
   },
   "file_extension": ".py",
   "mimetype": "text/x-python",
   "name": "python",
   "nbconvert_exporter": "python",
   "pygments_lexer": "ipython3",
   "version": "3.9.12"
  }
 },
 "nbformat": 4,
 "nbformat_minor": 5
}
