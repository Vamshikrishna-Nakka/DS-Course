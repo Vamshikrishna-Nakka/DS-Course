{
 "cells": [
  {
   "cell_type": "code",
   "execution_count": 1,
   "id": "0b6eb533",
   "metadata": {},
   "outputs": [],
   "source": [
    "import os\n",
    "import pyspark\n",
    "from pyspark.sql import SparkSession\n",
    "from pyspark.sql.types import StructType,StructField"
   ]
  },
  {
   "cell_type": "code",
   "execution_count": 2,
   "id": "600e734f",
   "metadata": {},
   "outputs": [],
   "source": [
    "spark = SparkSession.builder.master(\"local\").appName(\"Krishna\").config(\"spark.some.config.option\", \"some-value\").getOrCreate()"
   ]
  },
  {
   "cell_type": "code",
   "execution_count": 3,
   "id": "30e70027",
   "metadata": {},
   "outputs": [],
   "source": [
    "df = spark.read.csv('credit_record.csv',header=True)"
   ]
  },
  {
   "cell_type": "code",
   "execution_count": 4,
   "id": "f269e94b",
   "metadata": {},
   "outputs": [],
   "source": [
    "#StructType is a collection or list of StructField objects.\n",
    "\n",
    "# While creating a PySpark DataFrame we can specify the structure using StructType and StructField classes. StructType is a\n",
    "# collection of StructField’s which is used to define the column name, data type, and a flag for nullable or not. Using\n",
    "# StructField we can also add nested struct schema, ArrayType for arrays, and MapType for key-value pairs which we will\n",
    "# discuss in detail in later sections."
   ]
  },
  {
   "cell_type": "code",
   "execution_count": 6,
   "id": "92adf0c3",
   "metadata": {},
   "outputs": [],
   "source": [
    "# import pyspark\n",
    "# from pyspark.sql import SparkSession\n",
    "# from pyspark.sql.types import StructType,StructField, StringType, IntegerType\n",
    "\n",
    "# spark = SparkSession.builder.master(\"local[1]\") \\\n",
    "#                     .appName('SparkByExamples.com') \\\n",
    "#                     .getOrCreate()\n",
    "\n",
    "# data = [(\"James\",\"\",\"Smith\",\"36636\",\"M\",3000),\n",
    "#     (\"Michael\",\"Rose\",\"\",\"40288\",\"M\",4000),\n",
    "#     (\"Robert\",\"\",\"Williams\",\"42114\",\"M\",4000),\n",
    "#     (\"Maria\",\"Anne\",\"Jones\",\"39192\",\"F\",4000),\n",
    "#     (\"Jen\",\"Mary\",\"Brown\",\"\",\"F\",-1)\n",
    "#   ]\n",
    "\n",
    "# schema = StructType([ \\\n",
    "#     StructField(\"firstname\",StringType(),True), \\\n",
    "#     StructField(\"middlename\",StringType(),True), \\\n",
    "#     StructField(\"lastname\",StringType(),True), \\\n",
    "#     StructField(\"id\", StringType(), True), \\\n",
    "#     StructField(\"gender\", StringType(), True), \\\n",
    "#     StructField(\"salary\", IntegerType(), True) \\\n",
    "#   ])\n",
    " \n",
    "# df = spark.createDataFrame(data=data,schema=schema)\n",
    "# df.printSchema()\n",
    "# df.show(truncate=False)"
   ]
  },
  {
   "cell_type": "code",
   "execution_count": null,
   "id": "a3132887",
   "metadata": {},
   "outputs": [],
   "source": [
    "df.show()"
   ]
  },
  {
   "cell_type": "code",
   "execution_count": null,
   "id": "6e9bec58",
   "metadata": {},
   "outputs": [],
   "source": []
  }
 ],
 "metadata": {
  "kernelspec": {
   "display_name": "Python 3 (ipykernel)",
   "language": "python",
   "name": "python3"
  },
  "language_info": {
   "codemirror_mode": {
    "name": "ipython",
    "version": 3
   },
   "file_extension": ".py",
   "mimetype": "text/x-python",
   "name": "python",
   "nbconvert_exporter": "python",
   "pygments_lexer": "ipython3",
   "version": "3.9.12"
  }
 },
 "nbformat": 4,
 "nbformat_minor": 5
}
