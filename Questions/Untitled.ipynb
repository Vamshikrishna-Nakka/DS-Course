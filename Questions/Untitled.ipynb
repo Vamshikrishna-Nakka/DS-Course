{
 "cells": [
  {
   "cell_type": "code",
   "execution_count": 1,
   "id": "2102adf9",
   "metadata": {},
   "outputs": [],
   "source": [
    "#How memory is managed in Python?\n",
    "# Memory is managed in Python with Private heap Space. All Python objects and data structures are located in private heap.\n",
    "# We no need to do anything Interpreter automaticatlly clears unused objects because python has a inbuilt Garbage collector.\n",
    "\n",
    "\n",
    "# finalize() is used to free up the unused objects"
   ]
  },
  {
   "cell_type": "code",
   "execution_count": 2,
   "id": "f4aab970",
   "metadata": {},
   "outputs": [],
   "source": [
    "# Name your classes and functions consistently; the convention is to use UpperCamelCase for classes and lowercase_with_underscores for functions and methods."
   ]
  },
  {
   "cell_type": "code",
   "execution_count": 3,
   "id": "6f620b5d",
   "metadata": {},
   "outputs": [
    {
     "name": "stdout",
     "output_type": "stream",
     "text": [
      "Color.red\n",
      "Color.red\n",
      "Color.red\n"
     ]
    },
    {
     "data": {
      "text/plain": [
       "[<Color.red: 1>, <Color.green: 2>, <Color.blue: 3>]"
      ]
     },
     "execution_count": 3,
     "metadata": {},
     "output_type": "execute_result"
    }
   ],
   "source": [
    "from enum import Enum\n",
    "class Color(Enum):\n",
    "    red = 1\n",
    "    green = 2\n",
    "    blue = 3\n",
    "print(Color.red) # Color.red\n",
    "print(Color(1)) # Color.red\n",
    "print(Color['red']) # Color.red\n",
    "\n",
    "\n",
    "[c for c in Color] #Enums are iterable"
   ]
  },
  {
   "cell_type": "code",
   "execution_count": 4,
   "id": "3c053c42",
   "metadata": {},
   "outputs": [
    {
     "ename": "TypeError",
     "evalue": "f1() missing 1 required positional argument: 'y'",
     "output_type": "error",
     "traceback": [
      "\u001b[1;31m---------------------------------------------------------------------------\u001b[0m",
      "\u001b[1;31mTypeError\u001b[0m                                 Traceback (most recent call last)",
      "\u001b[1;32m~\\AppData\\Local\\Temp\\ipykernel_29272\\2538735711.py\u001b[0m in \u001b[0;36m<module>\u001b[1;34m\u001b[0m\n\u001b[0;32m      9\u001b[0m     \u001b[0mh\u001b[0m \u001b[1;33m=\u001b[0m \u001b[0mg\u001b[0m\u001b[1;33m\u001b[0m\u001b[1;33m\u001b[0m\u001b[0m\n\u001b[0;32m     10\u001b[0m \u001b[1;33m\u001b[0m\u001b[0m\n\u001b[1;32m---> 11\u001b[1;33m \u001b[0mf1\u001b[0m\u001b[1;33m(\u001b[0m\u001b[1;36m3\u001b[0m\u001b[1;33m,\u001b[0m\u001b[1;36m5\u001b[0m\u001b[1;33m)\u001b[0m\u001b[1;33m\u001b[0m\u001b[1;33m\u001b[0m\u001b[0m\n\u001b[0m",
      "\u001b[1;31mTypeError\u001b[0m: f1() missing 1 required positional argument: 'y'"
     ]
    }
   ],
   "source": [
    "# Function defined outside the class\n",
    "def f1(self, x, y):\n",
    "    return min(x, x+y)\n",
    "\n",
    "class C:\n",
    "    f = f1\n",
    "    def g(self):\n",
    "        return 'hello world'\n",
    "    h = g\n",
    "\n",
    "f1(3,5)"
   ]
  },
  {
   "cell_type": "code",
   "execution_count": 5,
   "id": "382ee4b5",
   "metadata": {},
   "outputs": [
    {
     "name": "stdout",
     "output_type": "stream",
     "text": [
      "[3, 4, 5]\n"
     ]
    }
   ],
   "source": [
    "lst = [1, 2, 3, 4, 5]\n",
    "print(lst[len(lst)//2:])"
   ]
  },
  {
   "cell_type": "code",
   "execution_count": 6,
   "id": "81c6b478",
   "metadata": {},
   "outputs": [
    {
     "name": "stdout",
     "output_type": "stream",
     "text": [
      "{1, 2, 3, 4, 5}\n"
     ]
    }
   ],
   "source": [
    "set1 = {1, 2, 3}\n",
    "set2 = {3, 4, 5}\n",
    "union_set = set1.union(set2)\n",
    "print(union_set)"
   ]
  },
  {
   "cell_type": "code",
   "execution_count": 7,
   "id": "95597b49",
   "metadata": {},
   "outputs": [],
   "source": [
    "# object() function Its a feature less object because it returns an empty object. "
   ]
  },
  {
   "cell_type": "code",
   "execution_count": 1,
   "id": "8a6fc110",
   "metadata": {},
   "outputs": [
    {
     "name": "stdout",
     "output_type": "stream",
     "text": [
      "System is on\n"
     ]
    }
   ],
   "source": [
    "value= False   # works in python 3.10\n",
    "match value:\n",
    "    case True:\n",
    "        print(\"Quitting\")\n",
    "        exit()\n",
    "    case False:\n",
    "        print(\"System is on\") \n",
    "        \n",
    "# Alternate way of switch we can use is \"Dictionary\""
   ]
  },
  {
   "cell_type": "code",
   "execution_count": 9,
   "id": "f62311ee",
   "metadata": {},
   "outputs": [],
   "source": [
    "# range and Xrange\n",
    "\n",
    "# both are for same purpose to iterate the certain times.\n",
    "\n",
    "# range is update it returns numbers.\n",
    "# xrange is old version it returns the sequence object."
   ]
  },
  {
   "cell_type": "code",
   "execution_count": 10,
   "id": "fa90a00a",
   "metadata": {},
   "outputs": [],
   "source": [
    "# help vs dir\n",
    "# dir :  returns all attributes methods of the object\n",
    "# help: generate the help of the given object. like documentation"
   ]
  },
  {
   "cell_type": "code",
   "execution_count": 11,
   "id": "953285d7",
   "metadata": {},
   "outputs": [
    {
     "data": {
      "text/plain": [
       "10"
      ]
     },
     "execution_count": 11,
     "metadata": {},
     "output_type": "execute_result"
    }
   ],
   "source": [
    "a='10'\n",
    "int(a)\n",
    "float(a)\n",
    "eval(a)   #we can convert string to number if the string is a numeric not alphabetic. alphabetic can't convert"
   ]
  },
  {
   "cell_type": "code",
   "execution_count": 12,
   "id": "2067d76b",
   "metadata": {},
   "outputs": [],
   "source": [
    "# None is just a value that commonly is used to signify 'empty', or 'no value here."
   ]
  },
  {
   "cell_type": "code",
   "execution_count": 13,
   "id": "421df7f4",
   "metadata": {},
   "outputs": [],
   "source": [
    "# Multiple Statement Groups as Suites\n",
    "\n",
    "# A group of individual statements, which make a single code block are called suites in Python. \n",
    "\n",
    "# Compound or complex statements, such as if, while, def, and class require a header line and a suite.\n",
    "\n",
    "# if expression :\n",
    "# suite\n",
    "# elif expression :\n",
    "# suite\n",
    "# else :\n",
    "# suite"
   ]
  },
  {
   "cell_type": "code",
   "execution_count": 14,
   "id": "23364cfe",
   "metadata": {},
   "outputs": [
    {
     "data": {
      "text/plain": [
       "53"
      ]
     },
     "execution_count": 14,
     "metadata": {},
     "output_type": "execute_result"
    }
   ],
   "source": [
    "t=(1,2,3)\n",
    "l=[1,2,3]\n",
    "s={1,2,3}\n",
    "s1='good'\n",
    "t.__sizeof__()\n",
    "l.__sizeof__() #in bytes\n",
    "s.__sizeof__()\n",
    "s1.__sizeof__()"
   ]
  },
  {
   "cell_type": "code",
   "execution_count": 15,
   "id": "96d5ffc0",
   "metadata": {},
   "outputs": [
    {
     "name": "stdout",
     "output_type": "stream",
     "text": [
      "espresso 72\n",
      "latte 56\n",
      "cappuccino 54\n",
      "americano 48\n",
      "cortado 41\n"
     ]
    }
   ],
   "source": [
    "orders = {\n",
    " 'cappuccino': 54,\n",
    " 'latte': 56,\n",
    " 'espresso': 72,\n",
    " 'americano': 48,\n",
    " 'cortado': 41\n",
    "} \n",
    "\n",
    "sort_orders = sorted(orders.items(), key=lambda x: x[1], reverse=True)\n",
    "\n",
    "for i in sort_orders:\n",
    " print(i[0], i[1])"
   ]
  },
  {
   "cell_type": "code",
   "execution_count": 16,
   "id": "3c5663da",
   "metadata": {},
   "outputs": [
    {
     "ename": "SyntaxError",
     "evalue": "invalid syntax (7837899.py, line 1)",
     "output_type": "error",
     "traceback": [
      "\u001b[1;36m  File \u001b[1;32m\"C:\\Users\\vamshikrishna.n\\AppData\\Local\\Temp\\ipykernel_29272\\7837899.py\"\u001b[1;36m, line \u001b[1;32m1\u001b[0m\n\u001b[1;33m    The right way to do this is simple:\u001b[0m\n\u001b[1;37m        ^\u001b[0m\n\u001b[1;31mSyntaxError\u001b[0m\u001b[1;31m:\u001b[0m invalid syntax\n"
     ]
    }
   ],
   "source": [
    "The right way to do this is simple:\n",
    "\n",
    "def rate(T):\n",
    "    if (T > 200):\n",
    "        return 200*exp(-T)\n",
    "    else:\n",
    "        return 400*exp(-T)\n",
    "There is absolutely no advantage to using lambda here. The only thing lambda is good for is allowing you to create anonymous functions and use them in an expression (as opposed to a statement). If you immediately assign the lambda to a variable, it's no longer anonymous, and it's used in a statement, so you're just making your code less readable for no reason.\n",
    "\n",
    "The rate function defined this way can be stored in an array, passed around, called, etc. in exactly the same way a lambda function could. It'll be exactly the same (except a bit easier to debug, introspect, etc.).\n",
    "\n",
    "From a comment:\n",
    "\n",
    "Well the function needed to fit in one line, which i didn't think you could do with a named function?\n",
    "\n",
    "I can't imagine any good reason why the function would ever need to fit in one line. But sure, you can do that with a named function. Try this in your interpreter:\n",
    "\n",
    ">>> def foo(x): return x + 1\n",
    "Also these functions are stored as strings which are then evaluated using \"eval\" which i wasn't sure how to do with regular functions.\n",
    "\n",
    "Again, while it's hard to be 100% sure without any clue as to why why you're doing this, I'm at least 99% sure that you have no reason or a bad reason for this. Almost any time you think you want to pass Python functions around as strings and call eval so you can use them, you actually just want to pass Python functions around as functions and use them as functions.\n",
    "\n",
    "But on the off chance that this really is what you need here: Just use exec instead of eval.\n",
    "\n",
    "You didn't mention which version of Python you're using. In 3.x, the exec function has the exact same signature as the eval function:\n",
    "\n",
    "exec(my_function_string, my_globals, my_locals)\n",
    "In 2.7, exec is a statement, not a function—but you can still write it in the same syntax as in 3.x (as long as you don't try to assign the return value to anything) and it works.\n",
    "\n",
    "In earlier 2.x (before 2.6, I think?) you have to do it like this instead:\n",
    "\n",
    "exec my_function_string in my_globals, my_locals"
   ]
  },
  {
   "cell_type": "code",
   "execution_count": 17,
   "id": "e01c88ae",
   "metadata": {},
   "outputs": [
    {
     "ename": "SyntaxError",
     "evalue": "invalid syntax (1598874404.py, line 1)",
     "output_type": "error",
     "traceback": [
      "\u001b[1;36m  File \u001b[1;32m\"C:\\Users\\vamshikrishna.n\\AppData\\Local\\Temp\\ipykernel_29272\\1598874404.py\"\u001b[1;36m, line \u001b[1;32m1\u001b[0m\n\u001b[1;33m    from math import s i n\u001b[0m\n\u001b[1;37m                       ^\u001b[0m\n\u001b[1;31mSyntaxError\u001b[0m\u001b[1;31m:\u001b[0m invalid syntax\n"
     ]
    }
   ],
   "source": [
    "from math import s i n\n",
    "2\n",
    "3 x = 3. 1 4\n",
    "4 y = s i n ( x )\n",
    "5\n",
    "6 p r i n t ( y )"
   ]
  },
  {
   "cell_type": "code",
   "execution_count": 18,
   "id": "dd7e1a14",
   "metadata": {},
   "outputs": [
    {
     "ename": "SyntaxError",
     "evalue": "invalid syntax (2631155297.py, line 1)",
     "output_type": "error",
     "traceback": [
      "\u001b[1;36m  File \u001b[1;32m\"C:\\Users\\vamshikrishna.n\\AppData\\Local\\Temp\\ipykernel_29272\\2631155297.py\"\u001b[1;36m, line \u001b[1;32m1\u001b[0m\n\u001b[1;33m    Garbage collector (do not prevent from memory leak)\u001b[0m\n\u001b[1;37m            ^\u001b[0m\n\u001b[1;31mSyntaxError\u001b[0m\u001b[1;31m:\u001b[0m invalid syntax\n"
     ]
    }
   ],
   "source": [
    "Garbage collector (do not prevent from memory leak)"
   ]
  },
  {
   "cell_type": "code",
   "execution_count": null,
   "id": "b226f94c",
   "metadata": {},
   "outputs": [],
   "source": [
    "How do you reverse a list in Python? When is it useful? "
   ]
  },
  {
   "cell_type": "code",
   "execution_count": null,
   "id": "72f9d251",
   "metadata": {},
   "outputs": [],
   "source": [
    "How do I access a module written in Python from C?"
   ]
  },
  {
   "cell_type": "code",
   "execution_count": null,
   "id": "debc1f15",
   "metadata": {},
   "outputs": [],
   "source": [
    "Call by Value or Call by Reference"
   ]
  },
  {
   "cell_type": "code",
   "execution_count": null,
   "id": "0c8730de",
   "metadata": {},
   "outputs": [],
   "source": [
    "radix**(e-1)"
   ]
  },
  {
   "cell_type": "code",
   "execution_count": null,
   "id": "118e23aa",
   "metadata": {},
   "outputs": [],
   "source": [
    "n = -37\n",
    "print(bin(n))\n",
    "n.bit_length()"
   ]
  },
  {
   "cell_type": "code",
   "execution_count": null,
   "id": "f9c61812",
   "metadata": {},
   "outputs": [],
   "source": [
    "n = 19\n",
    "print(bin(n))\n",
    "n.bit_count()\n",
    "# (-n).bit_count()    # new in 3.10v"
   ]
  },
  {
   "cell_type": "code",
   "execution_count": null,
   "id": "7c3f4a7a",
   "metadata": {},
   "outputs": [],
   "source": [
    "(65).to_bytes(1,'big')"
   ]
  },
  {
   "cell_type": "code",
   "execution_count": null,
   "id": "244071e2",
   "metadata": {},
   "outputs": [],
   "source": [
    "(-2.0).is_integer()"
   ]
  },
  {
   "cell_type": "code",
   "execution_count": null,
   "id": "1339a27f",
   "metadata": {},
   "outputs": [],
   "source": [
    "s=[1,2,3,4,1,4,6]\n",
    "s.index(x[,i[, j]])"
   ]
  },
  {
   "cell_type": "code",
   "execution_count": null,
   "id": "d03f39da",
   "metadata": {},
   "outputs": [],
   "source": [
    "l=[1,3,5,2,4,1,3]\n",
    "print(l[-1:-5])\n",
    "print(l[-5:-1])\n",
    "print(l[-5:-1:-1])\n",
    "print(l[-1:-5:-1])"
   ]
  },
  {
   "cell_type": "code",
   "execution_count": null,
   "id": "84054b24",
   "metadata": {},
   "outputs": [],
   "source": [
    "l=['abc','cab','bac']\n",
    "l.sort()\n",
    "l"
   ]
  },
  {
   "cell_type": "code",
   "execution_count": null,
   "id": "d285d8af",
   "metadata": {},
   "outputs": [],
   "source": [
    "# Arrays vs List(Arrays are faster)\n",
    "# Arrays are same datatypes elements - homogeneous\n",
    "# list are different datatype elements - heterogenous\n",
    "\n",
    "\n",
    "#tuples are faster\n",
    "# Tuples are stored in a single block of memory. Tuples are immutable so, It doesn't require extra space to store new objects.\n",
    "# Lists are allocated in two blocks: the fixed one with all the Python object information and a variable sized block for the data.\n",
    "# It is the reason creating a tuple is faster than List."
   ]
  },
  {
   "cell_type": "code",
   "execution_count": null,
   "id": "490df687",
   "metadata": {},
   "outputs": [],
   "source": [
    "#sort without function\n",
    "l=[1,3,5,2,4,1,3] \n",
    "for i in range(len(l)):\n",
    "    for j in range(i+1,len(l)):\n",
    "        if l[i]>=l[j]:\n",
    "            l[i],l[j]=l[j],l[i]\n",
    "l"
   ]
  },
  {
   "cell_type": "code",
   "execution_count": null,
   "id": "4e023835",
   "metadata": {},
   "outputs": [],
   "source": [
    "def check(s):\n",
    "    b = ['()', '{}', '[]']\n",
    "    while any(i in s for i in b):\n",
    "        for j in b:\n",
    "            s = s.replace(j, '')\n",
    "    return not s\n",
    "   \n",
    "s = \"{[](){}}\"\n",
    "\n",
    "if check(s) :\n",
    "    print(\"Balanced\")\n",
    "else :\n",
    "    print(\"Unbalanced\")"
   ]
  },
  {
   "cell_type": "code",
   "execution_count": null,
   "id": "ecd7e1e4",
   "metadata": {},
   "outputs": [],
   "source": [
    "#add two integers >0 without using the plus operator.\n",
    "def add_nums(num1, num2):\n",
    "    while num2 != 0:\n",
    "        data = num1 & num2\n",
    "        num1 = num1 ^ num2\n",
    "        num2 = data << 1\n",
    "    return num1\n",
    "print(add_nums(2, 10))"
   ]
  },
  {
   "cell_type": "code",
   "execution_count": null,
   "id": "a1080c90",
   "metadata": {},
   "outputs": [],
   "source": [
    "5) What are the tools that help to find bugs or perform static analysis?\n",
    "\n",
    "PyChecker is a static analysis tool that detects the bugs in Python source code and warns about the style and complexity of the bug. Pylint is another tool that verifies whether the module meets the coding standard."
   ]
  },
  {
   "cell_type": "code",
   "execution_count": null,
   "id": "e1ce1f52",
   "metadata": {},
   "outputs": [],
   "source": [
    "How are arguments passed by value or by reference?\n",
    "\n",
    "Everything in Python is an object and all variables hold references to the objects. The references values are according to the functions; as a result you cannot change the value of the references. However, you can change the objects if it is mutable."
   ]
  },
  {
   "cell_type": "code",
   "execution_count": null,
   "id": "ff13b0cb",
   "metadata": {},
   "outputs": [],
   "source": [
    "#Unit Testing\n",
    "\n",
    "#It is a technique to test a particular module for errors by developer. \n",
    "#python has unittest module for checking those source code.\n",
    "\n",
    "\n",
    "\n",
    "import unittest\n",
    "#Unit Testing is the first level of software testing where the smallest testable parts of a software are tested.\n",
    "class SimpleTest(unittest.TestCase):\n",
    "    # Returns True or False. \n",
    "    def test(self):        \n",
    "        self.assertTrue(True)\n",
    "  \n",
    "if __name__ == '__main__':\n",
    "    unittest.main()"
   ]
  },
  {
   "cell_type": "code",
   "execution_count": null,
   "id": "e6dbddcd",
   "metadata": {},
   "outputs": [],
   "source": [
    "# Django support class based views, it is alternative way to implement views as Python objects instead of function based.\n",
    "# it is much faster\n",
    "# in class will write classmethods"
   ]
  },
  {
   "cell_type": "code",
   "execution_count": null,
   "id": "df8001b4",
   "metadata": {},
   "outputs": [],
   "source": [
    "#when we have 2 applications required different versions to work how to manage both\n",
    "# with pip install virtualenv           #creating environment\n",
    "\n",
    "#pip install virtualenvwrapper-win\n",
    "# mkvirtualenv python_3.5  #creating environment\n",
    "\n",
    "# #Switch between environments with workon:\n",
    "# workon < environment name>\n",
    "\n",
    "# To exit the virtualenv\n",
    "# deactivate\n",
    "\n",
    "# lsvirtualenv\n",
    "# rmvirtualenv <name>\n",
    "# add2virtualenv <full or relative path>\n"
   ]
  },
  {
   "cell_type": "code",
   "execution_count": 19,
   "id": "20b533be",
   "metadata": {},
   "outputs": [
    {
     "ename": "SyntaxError",
     "evalue": "invalid syntax (3860538088.py, line 1)",
     "output_type": "error",
     "traceback": [
      "\u001b[1;36m  File \u001b[1;32m\"C:\\Users\\vamshikrishna.n\\AppData\\Local\\Temp\\ipykernel_29272\\3860538088.py\"\u001b[1;36m, line \u001b[1;32m1\u001b[0m\n\u001b[1;33m    Given a collection of candidate numbers (candidates) and a target number (target), find all unique combinations in\u001b[0m\n\u001b[1;37m          ^\u001b[0m\n\u001b[1;31mSyntaxError\u001b[0m\u001b[1;31m:\u001b[0m invalid syntax\n"
     ]
    }
   ],
   "source": [
    "Given a collection of candidate numbers (candidates) and a target number (target), find all unique combinations in \n",
    "candidates where the candidate numbers sum to target. Each number in candidates may only be used once in the combination.\n",
    "\n",
    "Input: candidates = [10,1,2,7,6,1,5], target = 8\n",
    "Output:\n",
    "[[1,1,6],\n",
    "[1,2,5],\n",
    "[1,7],\n",
    "[2,6]\n",
    "]"
   ]
  },
  {
   "cell_type": "code",
   "execution_count": 21,
   "id": "aad464a9",
   "metadata": {},
   "outputs": [
    {
     "data": {
      "text/plain": [
       "[[1, 7], [2, 6], [1, 2, 5], [1, 1, 6]]"
      ]
     },
     "execution_count": 21,
     "metadata": {},
     "output_type": "execute_result"
    }
   ],
   "source": [
    "cn=[10,1,2,7,6,1,5]\n",
    "t=8\n",
    "\n",
    "import itertools as ii\n",
    "n=[]\n",
    "for i in range(1,len(cn)+1):\n",
    "    n.append(list(ii.combinations(cn,i)))\n",
    "    \n",
    "ll=[]\n",
    "k=sum(n,[])\n",
    "for j in k:\n",
    "    if sum(j)==t:\n",
    "        ll.append(j)    \n",
    "        \n",
    "g=[]\n",
    "for i in ll:\n",
    "    g.append(sorted(i))\n",
    "    \n",
    "q=[]\n",
    "for i in g:\n",
    "    if i not in q:\n",
    "        q.append(i)\n",
    "q"
   ]
  },
  {
   "cell_type": "code",
   "execution_count": 22,
   "id": "4ca3640c",
   "metadata": {},
   "outputs": [
    {
     "name": "stdout",
     "output_type": "stream",
     "text": [
      "['H', 'e', 'l', 'l', 'o']\n",
      "['w', 'o', 'r', 'l', 'd']\n",
      "['g', 'o', 'o', 'd']\n",
      "['a', 'f', 't', 'e', 'r']\n",
      "['n', 'o', 'o', 'n']\n"
     ]
    }
   ],
   "source": [
    "s='Hello world good after noon'\n",
    "p=s.split(' ')\n",
    "for i in p:\n",
    "    print(list(i))"
   ]
  },
  {
   "cell_type": "code",
   "execution_count": 23,
   "id": "2aa00062",
   "metadata": {},
   "outputs": [
    {
     "data": {
      "text/plain": [
       "'i ma ohw'"
      ]
     },
     "execution_count": 23,
     "metadata": {},
     "output_type": "execute_result"
    }
   ],
   "source": [
    "x= 'who am i'\n",
    "x[::-1]"
   ]
  },
  {
   "cell_type": "code",
   "execution_count": 24,
   "id": "668c75f3",
   "metadata": {},
   "outputs": [
    {
     "data": {
      "text/plain": [
       "'who am i'"
      ]
     },
     "execution_count": 24,
     "metadata": {},
     "output_type": "execute_result"
    }
   ],
   "source": [
    "# o= 'i am who'\n",
    "x= 'who am i'\n",
    "mm=x.split(' ')\n",
    "l=[]\n",
    "for i in mm:\n",
    "    l.append(i)\n",
    "    \n",
    "' '.join(l)"
   ]
  },
  {
   "cell_type": "code",
   "execution_count": 25,
   "id": "c7dd073e",
   "metadata": {},
   "outputs": [
    {
     "data": {
      "text/plain": [
       "'i am who'"
      ]
     },
     "execution_count": 25,
     "metadata": {},
     "output_type": "execute_result"
    }
   ],
   "source": [
    "x= 'who am i'\n",
    "' '.join(list(reversed(x.split(' '))))"
   ]
  },
  {
   "cell_type": "code",
   "execution_count": 26,
   "id": "ab01bf02",
   "metadata": {},
   "outputs": [
    {
     "name": "stdout",
     "output_type": "stream",
     "text": [
      "VA\n",
      "VAVAVA\n",
      "VAVAVAVAVA\n",
      "VAVAVAVAVAVAVA\n"
     ]
    }
   ],
   "source": [
    "#VA\n",
    "# VAVAVA\n",
    "# VAVAVAVAVA\n",
    "# VAVAVAVAVAVA\n",
    "\n",
    "l=[]\n",
    "p='VAMSHI'\n",
    "for i in range(3):\n",
    "    s=p[:2]\n",
    "    l.append(s)\n",
    "    p=p.replace(s,'')\n",
    "\n",
    "s='VAMSHI'[:2]\n",
    "for i in range(1,8):\n",
    "    if i%2==1:\n",
    "        print(s*i)\n",
    "    else:\n",
    "        pass"
   ]
  },
  {
   "cell_type": "code",
   "execution_count": null,
   "id": "e6cc801e",
   "metadata": {},
   "outputs": [],
   "source": [
    "# select table_A.A,table_A.M,table_B.A,table_B.N \n",
    "# from table_A \n",
    "# crossJoin  table_B\n",
    "# on table_A.A=table_B.a;"
   ]
  },
  {
   "cell_type": "code",
   "execution_count": 27,
   "id": "69fa18a7",
   "metadata": {},
   "outputs": [
    {
     "data": {
      "text/plain": [
       "(6.2, 70)"
      ]
     },
     "execution_count": 27,
     "metadata": {},
     "output_type": "execute_result"
    }
   ],
   "source": [
    "s= {'Tom': (6.2, 70), 'Roopa': (5.9, 65), 'Jessy': (6.0, 68), 'Teja': (5.8, 66)}\n",
    "max(list(s.values())) #find max value"
   ]
  },
  {
   "cell_type": "code",
   "execution_count": 28,
   "id": "ca99b09c",
   "metadata": {},
   "outputs": [
    {
     "ename": "NameError",
     "evalue": "name 'df1' is not defined",
     "output_type": "error",
     "traceback": [
      "\u001b[1;31m---------------------------------------------------------------------------\u001b[0m",
      "\u001b[1;31mNameError\u001b[0m                                 Traceback (most recent call last)",
      "\u001b[1;32m~\\AppData\\Local\\Temp\\ipykernel_29272\\447058395.py\u001b[0m in \u001b[0;36m<module>\u001b[1;34m\u001b[0m\n\u001b[1;32m----> 1\u001b[1;33m \u001b[0mdf2\u001b[0m\u001b[1;33m=\u001b[0m\u001b[1;33m~\u001b[0m\u001b[0mdf1\u001b[0m\u001b[1;33m[\u001b[0m\u001b[0mdf1\u001b[0m\u001b[1;33m[\u001b[0m\u001b[1;34m'col1'\u001b[0m\u001b[1;33m]\u001b[0m\u001b[1;33m==\u001b[0m\u001b[1;34m'?'\u001b[0m\u001b[1;33m]\u001b[0m\u001b[1;33m\u001b[0m\u001b[1;33m\u001b[0m\u001b[0m\n\u001b[0m\u001b[0;32m      2\u001b[0m \u001b[0mdf1\u001b[0m\u001b[1;33m.\u001b[0m\u001b[0mreplace\u001b[0m\u001b[1;33m(\u001b[0m\u001b[0mdf1\u001b[0m\u001b[1;33m[\u001b[0m\u001b[0mdf1\u001b[0m\u001b[1;33m[\u001b[0m\u001b[1;34m'col1'\u001b[0m\u001b[1;33m]\u001b[0m\u001b[1;33m==\u001b[0m\u001b[1;34m'?'\u001b[0m\u001b[1;33m]\u001b[0m\u001b[1;33m,\u001b[0m\u001b[0mdf2\u001b[0m\u001b[1;33m.\u001b[0m\u001b[0mmean\u001b[0m\u001b[1;33m(\u001b[0m\u001b[1;33m)\u001b[0m\u001b[1;33m)\u001b[0m\u001b[1;33m\u001b[0m\u001b[1;33m\u001b[0m\u001b[0m\n",
      "\u001b[1;31mNameError\u001b[0m: name 'df1' is not defined"
     ]
    }
   ],
   "source": [
    "df2=~df1[df1['col1']=='?']\n",
    "df1.replace(df1[df1['col1']=='?'],df2.mean())"
   ]
  },
  {
   "cell_type": "code",
   "execution_count": 29,
   "id": "3ea5f8d8",
   "metadata": {},
   "outputs": [
    {
     "data": {
      "text/plain": [
       "'Hihowareyou'"
      ]
     },
     "execution_count": 29,
     "metadata": {},
     "output_type": "execute_result"
    }
   ],
   "source": [
    "s='Hi@how#%^areyo!u'\n",
    "\n",
    "import string\n",
    "p=string.punctuation\n",
    "c=''\n",
    "for i in s:\n",
    "    if i not in p:\n",
    "        c=c+i\n",
    "c"
   ]
  },
  {
   "cell_type": "code",
   "execution_count": 30,
   "id": "762aac96",
   "metadata": {},
   "outputs": [
    {
     "name": "stdout",
     "output_type": "stream",
     "text": [
      "1 0 1 0 \t\n",
      "0 1 0 1 \t\n",
      "1 0 1 0 \t\n",
      "0 1 0 1 \t\n"
     ]
    }
   ],
   "source": [
    "# 1 0 1 0\n",
    "# 0 1 0 1\n",
    "# 1 0 1 0\n",
    "# 0 1 0 1\n",
    "\n",
    "for i in range(4):\n",
    "    if i%2==0:\n",
    "        for j in range(4):\n",
    "            if j%2==0:\n",
    "                print(1,end=' ')\n",
    "            else:\n",
    "                print(0,end=' ')\n",
    "        print('\\t')\n",
    "    else:\n",
    "        for j in range(4):\n",
    "            if j%2==0:\n",
    "                print(0,end=' ')\n",
    "            else:\n",
    "                print(1,end=' ')\n",
    "        print('\\t')"
   ]
  },
  {
   "cell_type": "code",
   "execution_count": 31,
   "id": "546f115c",
   "metadata": {},
   "outputs": [
    {
     "name": "stdout",
     "output_type": "stream",
     "text": [
      "Anagram\n"
     ]
    }
   ],
   "source": [
    "s='silent'\n",
    "s1='listen'\n",
    "\n",
    "if ''.join(sorted(s)) ==''.join(sorted(s1)):\n",
    "    print('Anagram')\n",
    "else:\n",
    "    print('Not a Anagram')"
   ]
  },
  {
   "cell_type": "code",
   "execution_count": 32,
   "id": "86dc7272",
   "metadata": {},
   "outputs": [
    {
     "name": "stdout",
     "output_type": "stream",
     "text": [
      "2002,2009,2016,2023,2037,2044,2051,2058,2072,2079,2086,2093,2107,2114,2121,2128,2142,2149,2156,2163,2177,2184,2191,2198,2212,2219,2226,2233,2247,2254,2261,2268,2282,2289,2296,2303,2317,2324,2331,2338,2352,2359,2366,2373,2387,2394,2401,2408,2422,2429,2436,2443,2457,2464,2471,2478,2492,2499,2506,2513,2527,2534,2541,2548,2562,2569,2576,2583,2597,2604,2611,2618,2632,2639,2646,2653,2667,2674,2681,2688,2702,2709,2716,2723,2737,2744,2751,2758,2772,2779,2786,2793,2807,2814,2821,2828,2842,2849,2856,2863,2877,2884,2891,2898,2912,2919,2926,2933,2947,2954,2961,2968,2982,2989,2996,3003,3017,3024,3031,3038,3052,3059,3066,3073,3087,3094,3101,3108,3122,3129,3136,3143,3157,3164,3171,3178,3192,3199,"
     ]
    },
    {
     "data": {
      "text/plain": [
       "[0,\n",
       " 0,\n",
       " 2002,\n",
       " 0,\n",
       " 0,\n",
       " 0,\n",
       " 0,\n",
       " 0,\n",
       " 0,\n",
       " 2009,\n",
       " 0,\n",
       " 0,\n",
       " 0,\n",
       " 0,\n",
       " 0,\n",
       " 0,\n",
       " 2016,\n",
       " 0,\n",
       " 0,\n",
       " 0,\n",
       " 0,\n",
       " 0,\n",
       " 0,\n",
       " 2023,\n",
       " 0,\n",
       " 0,\n",
       " 0,\n",
       " 0,\n",
       " 0,\n",
       " 0,\n",
       " 0,\n",
       " 0,\n",
       " 0,\n",
       " 0,\n",
       " 0,\n",
       " 0,\n",
       " 0,\n",
       " 2037,\n",
       " 0,\n",
       " 0,\n",
       " 0,\n",
       " 0,\n",
       " 0,\n",
       " 0,\n",
       " 2044,\n",
       " 0,\n",
       " 0,\n",
       " 0,\n",
       " 0,\n",
       " 0,\n",
       " 0,\n",
       " 2051,\n",
       " 0,\n",
       " 0,\n",
       " 0,\n",
       " 0,\n",
       " 0,\n",
       " 0,\n",
       " 2058,\n",
       " 0,\n",
       " 0,\n",
       " 0,\n",
       " 0,\n",
       " 0,\n",
       " 0,\n",
       " 0,\n",
       " 0,\n",
       " 0,\n",
       " 0,\n",
       " 0,\n",
       " 0,\n",
       " 0,\n",
       " 2072,\n",
       " 0,\n",
       " 0,\n",
       " 0,\n",
       " 0,\n",
       " 0,\n",
       " 0,\n",
       " 2079,\n",
       " 0,\n",
       " 0,\n",
       " 0,\n",
       " 0,\n",
       " 0,\n",
       " 0,\n",
       " 2086,\n",
       " 0,\n",
       " 0,\n",
       " 0,\n",
       " 0,\n",
       " 0,\n",
       " 0,\n",
       " 2093,\n",
       " 0,\n",
       " 0,\n",
       " 0,\n",
       " 0,\n",
       " 0,\n",
       " 0,\n",
       " 0,\n",
       " 0,\n",
       " 0,\n",
       " 0,\n",
       " 0,\n",
       " 0,\n",
       " 0,\n",
       " 2107,\n",
       " 0,\n",
       " 0,\n",
       " 0,\n",
       " 0,\n",
       " 0,\n",
       " 0,\n",
       " 2114,\n",
       " 0,\n",
       " 0,\n",
       " 0,\n",
       " 0,\n",
       " 0,\n",
       " 0,\n",
       " 2121,\n",
       " 0,\n",
       " 0,\n",
       " 0,\n",
       " 0,\n",
       " 0,\n",
       " 0,\n",
       " 2128,\n",
       " 0,\n",
       " 0,\n",
       " 0,\n",
       " 0,\n",
       " 0,\n",
       " 0,\n",
       " 0,\n",
       " 0,\n",
       " 0,\n",
       " 0,\n",
       " 0,\n",
       " 0,\n",
       " 0,\n",
       " 2142,\n",
       " 0,\n",
       " 0,\n",
       " 0,\n",
       " 0,\n",
       " 0,\n",
       " 0,\n",
       " 2149,\n",
       " 0,\n",
       " 0,\n",
       " 0,\n",
       " 0,\n",
       " 0,\n",
       " 0,\n",
       " 2156,\n",
       " 0,\n",
       " 0,\n",
       " 0,\n",
       " 0,\n",
       " 0,\n",
       " 0,\n",
       " 2163,\n",
       " 0,\n",
       " 0,\n",
       " 0,\n",
       " 0,\n",
       " 0,\n",
       " 0,\n",
       " 0,\n",
       " 0,\n",
       " 0,\n",
       " 0,\n",
       " 0,\n",
       " 0,\n",
       " 0,\n",
       " 2177,\n",
       " 0,\n",
       " 0,\n",
       " 0,\n",
       " 0,\n",
       " 0,\n",
       " 0,\n",
       " 2184,\n",
       " 0,\n",
       " 0,\n",
       " 0,\n",
       " 0,\n",
       " 0,\n",
       " 0,\n",
       " 2191,\n",
       " 0,\n",
       " 0,\n",
       " 0,\n",
       " 0,\n",
       " 0,\n",
       " 0,\n",
       " 2198,\n",
       " 0,\n",
       " 0,\n",
       " 0,\n",
       " 0,\n",
       " 0,\n",
       " 0,\n",
       " 0,\n",
       " 0,\n",
       " 0,\n",
       " 0,\n",
       " 0,\n",
       " 0,\n",
       " 0,\n",
       " 2212,\n",
       " 0,\n",
       " 0,\n",
       " 0,\n",
       " 0,\n",
       " 0,\n",
       " 0,\n",
       " 2219,\n",
       " 0,\n",
       " 0,\n",
       " 0,\n",
       " 0,\n",
       " 0,\n",
       " 0,\n",
       " 2226,\n",
       " 0,\n",
       " 0,\n",
       " 0,\n",
       " 0,\n",
       " 0,\n",
       " 0,\n",
       " 2233,\n",
       " 0,\n",
       " 0,\n",
       " 0,\n",
       " 0,\n",
       " 0,\n",
       " 0,\n",
       " 0,\n",
       " 0,\n",
       " 0,\n",
       " 0,\n",
       " 0,\n",
       " 0,\n",
       " 0,\n",
       " 2247,\n",
       " 0,\n",
       " 0,\n",
       " 0,\n",
       " 0,\n",
       " 0,\n",
       " 0,\n",
       " 2254,\n",
       " 0,\n",
       " 0,\n",
       " 0,\n",
       " 0,\n",
       " 0,\n",
       " 0,\n",
       " 2261,\n",
       " 0,\n",
       " 0,\n",
       " 0,\n",
       " 0,\n",
       " 0,\n",
       " 0,\n",
       " 2268,\n",
       " 0,\n",
       " 0,\n",
       " 0,\n",
       " 0,\n",
       " 0,\n",
       " 0,\n",
       " 0,\n",
       " 0,\n",
       " 0,\n",
       " 0,\n",
       " 0,\n",
       " 0,\n",
       " 0,\n",
       " 2282,\n",
       " 0,\n",
       " 0,\n",
       " 0,\n",
       " 0,\n",
       " 0,\n",
       " 0,\n",
       " 2289,\n",
       " 0,\n",
       " 0,\n",
       " 0,\n",
       " 0,\n",
       " 0,\n",
       " 0,\n",
       " 2296,\n",
       " 0,\n",
       " 0,\n",
       " 0,\n",
       " 0,\n",
       " 0,\n",
       " 0,\n",
       " 2303,\n",
       " 0,\n",
       " 0,\n",
       " 0,\n",
       " 0,\n",
       " 0,\n",
       " 0,\n",
       " 0,\n",
       " 0,\n",
       " 0,\n",
       " 0,\n",
       " 0,\n",
       " 0,\n",
       " 0,\n",
       " 2317,\n",
       " 0,\n",
       " 0,\n",
       " 0,\n",
       " 0,\n",
       " 0,\n",
       " 0,\n",
       " 2324,\n",
       " 0,\n",
       " 0,\n",
       " 0,\n",
       " 0,\n",
       " 0,\n",
       " 0,\n",
       " 2331,\n",
       " 0,\n",
       " 0,\n",
       " 0,\n",
       " 0,\n",
       " 0,\n",
       " 0,\n",
       " 2338,\n",
       " 0,\n",
       " 0,\n",
       " 0,\n",
       " 0,\n",
       " 0,\n",
       " 0,\n",
       " 0,\n",
       " 0,\n",
       " 0,\n",
       " 0,\n",
       " 0,\n",
       " 0,\n",
       " 0,\n",
       " 2352,\n",
       " 0,\n",
       " 0,\n",
       " 0,\n",
       " 0,\n",
       " 0,\n",
       " 0,\n",
       " 2359,\n",
       " 0,\n",
       " 0,\n",
       " 0,\n",
       " 0,\n",
       " 0,\n",
       " 0,\n",
       " 2366,\n",
       " 0,\n",
       " 0,\n",
       " 0,\n",
       " 0,\n",
       " 0,\n",
       " 0,\n",
       " 2373,\n",
       " 0,\n",
       " 0,\n",
       " 0,\n",
       " 0,\n",
       " 0,\n",
       " 0,\n",
       " 0,\n",
       " 0,\n",
       " 0,\n",
       " 0,\n",
       " 0,\n",
       " 0,\n",
       " 0,\n",
       " 2387,\n",
       " 0,\n",
       " 0,\n",
       " 0,\n",
       " 0,\n",
       " 0,\n",
       " 0,\n",
       " 2394,\n",
       " 0,\n",
       " 0,\n",
       " 0,\n",
       " 0,\n",
       " 0,\n",
       " 0,\n",
       " 2401,\n",
       " 0,\n",
       " 0,\n",
       " 0,\n",
       " 0,\n",
       " 0,\n",
       " 0,\n",
       " 2408,\n",
       " 0,\n",
       " 0,\n",
       " 0,\n",
       " 0,\n",
       " 0,\n",
       " 0,\n",
       " 0,\n",
       " 0,\n",
       " 0,\n",
       " 0,\n",
       " 0,\n",
       " 0,\n",
       " 0,\n",
       " 2422,\n",
       " 0,\n",
       " 0,\n",
       " 0,\n",
       " 0,\n",
       " 0,\n",
       " 0,\n",
       " 2429,\n",
       " 0,\n",
       " 0,\n",
       " 0,\n",
       " 0,\n",
       " 0,\n",
       " 0,\n",
       " 2436,\n",
       " 0,\n",
       " 0,\n",
       " 0,\n",
       " 0,\n",
       " 0,\n",
       " 0,\n",
       " 2443,\n",
       " 0,\n",
       " 0,\n",
       " 0,\n",
       " 0,\n",
       " 0,\n",
       " 0,\n",
       " 0,\n",
       " 0,\n",
       " 0,\n",
       " 0,\n",
       " 0,\n",
       " 0,\n",
       " 0,\n",
       " 2457,\n",
       " 0,\n",
       " 0,\n",
       " 0,\n",
       " 0,\n",
       " 0,\n",
       " 0,\n",
       " 2464,\n",
       " 0,\n",
       " 0,\n",
       " 0,\n",
       " 0,\n",
       " 0,\n",
       " 0,\n",
       " 2471,\n",
       " 0,\n",
       " 0,\n",
       " 0,\n",
       " 0,\n",
       " 0,\n",
       " 0,\n",
       " 2478,\n",
       " 0,\n",
       " 0,\n",
       " 0,\n",
       " 0,\n",
       " 0,\n",
       " 0,\n",
       " 0,\n",
       " 0,\n",
       " 0,\n",
       " 0,\n",
       " 0,\n",
       " 0,\n",
       " 0,\n",
       " 2492,\n",
       " 0,\n",
       " 0,\n",
       " 0,\n",
       " 0,\n",
       " 0,\n",
       " 0,\n",
       " 2499,\n",
       " 0,\n",
       " 0,\n",
       " 0,\n",
       " 0,\n",
       " 0,\n",
       " 0,\n",
       " 2506,\n",
       " 0,\n",
       " 0,\n",
       " 0,\n",
       " 0,\n",
       " 0,\n",
       " 0,\n",
       " 2513,\n",
       " 0,\n",
       " 0,\n",
       " 0,\n",
       " 0,\n",
       " 0,\n",
       " 0,\n",
       " 0,\n",
       " 0,\n",
       " 0,\n",
       " 0,\n",
       " 0,\n",
       " 0,\n",
       " 0,\n",
       " 2527,\n",
       " 0,\n",
       " 0,\n",
       " 0,\n",
       " 0,\n",
       " 0,\n",
       " 0,\n",
       " 2534,\n",
       " 0,\n",
       " 0,\n",
       " 0,\n",
       " 0,\n",
       " 0,\n",
       " 0,\n",
       " 2541,\n",
       " 0,\n",
       " 0,\n",
       " 0,\n",
       " 0,\n",
       " 0,\n",
       " 0,\n",
       " 2548,\n",
       " 0,\n",
       " 0,\n",
       " 0,\n",
       " 0,\n",
       " 0,\n",
       " 0,\n",
       " 0,\n",
       " 0,\n",
       " 0,\n",
       " 0,\n",
       " 0,\n",
       " 0,\n",
       " 0,\n",
       " 2562,\n",
       " 0,\n",
       " 0,\n",
       " 0,\n",
       " 0,\n",
       " 0,\n",
       " 0,\n",
       " 2569,\n",
       " 0,\n",
       " 0,\n",
       " 0,\n",
       " 0,\n",
       " 0,\n",
       " 0,\n",
       " 2576,\n",
       " 0,\n",
       " 0,\n",
       " 0,\n",
       " 0,\n",
       " 0,\n",
       " 0,\n",
       " 2583,\n",
       " 0,\n",
       " 0,\n",
       " 0,\n",
       " 0,\n",
       " 0,\n",
       " 0,\n",
       " 0,\n",
       " 0,\n",
       " 0,\n",
       " 0,\n",
       " 0,\n",
       " 0,\n",
       " 0,\n",
       " 2597,\n",
       " 0,\n",
       " 0,\n",
       " 0,\n",
       " 0,\n",
       " 0,\n",
       " 0,\n",
       " 2604,\n",
       " 0,\n",
       " 0,\n",
       " 0,\n",
       " 0,\n",
       " 0,\n",
       " 0,\n",
       " 2611,\n",
       " 0,\n",
       " 0,\n",
       " 0,\n",
       " 0,\n",
       " 0,\n",
       " 0,\n",
       " 2618,\n",
       " 0,\n",
       " 0,\n",
       " 0,\n",
       " 0,\n",
       " 0,\n",
       " 0,\n",
       " 0,\n",
       " 0,\n",
       " 0,\n",
       " 0,\n",
       " 0,\n",
       " 0,\n",
       " 0,\n",
       " 2632,\n",
       " 0,\n",
       " 0,\n",
       " 0,\n",
       " 0,\n",
       " 0,\n",
       " 0,\n",
       " 2639,\n",
       " 0,\n",
       " 0,\n",
       " 0,\n",
       " 0,\n",
       " 0,\n",
       " 0,\n",
       " 2646,\n",
       " 0,\n",
       " 0,\n",
       " 0,\n",
       " 0,\n",
       " 0,\n",
       " 0,\n",
       " 2653,\n",
       " 0,\n",
       " 0,\n",
       " 0,\n",
       " 0,\n",
       " 0,\n",
       " 0,\n",
       " 0,\n",
       " 0,\n",
       " 0,\n",
       " 0,\n",
       " 0,\n",
       " 0,\n",
       " 0,\n",
       " 2667,\n",
       " 0,\n",
       " 0,\n",
       " 0,\n",
       " 0,\n",
       " 0,\n",
       " 0,\n",
       " 2674,\n",
       " 0,\n",
       " 0,\n",
       " 0,\n",
       " 0,\n",
       " 0,\n",
       " 0,\n",
       " 2681,\n",
       " 0,\n",
       " 0,\n",
       " 0,\n",
       " 0,\n",
       " 0,\n",
       " 0,\n",
       " 2688,\n",
       " 0,\n",
       " 0,\n",
       " 0,\n",
       " 0,\n",
       " 0,\n",
       " 0,\n",
       " 0,\n",
       " 0,\n",
       " 0,\n",
       " 0,\n",
       " 0,\n",
       " 0,\n",
       " 0,\n",
       " 2702,\n",
       " 0,\n",
       " 0,\n",
       " 0,\n",
       " 0,\n",
       " 0,\n",
       " 0,\n",
       " 2709,\n",
       " 0,\n",
       " 0,\n",
       " 0,\n",
       " 0,\n",
       " 0,\n",
       " 0,\n",
       " 2716,\n",
       " 0,\n",
       " 0,\n",
       " 0,\n",
       " 0,\n",
       " 0,\n",
       " 0,\n",
       " 2723,\n",
       " 0,\n",
       " 0,\n",
       " 0,\n",
       " 0,\n",
       " 0,\n",
       " 0,\n",
       " 0,\n",
       " 0,\n",
       " 0,\n",
       " 0,\n",
       " 0,\n",
       " 0,\n",
       " 0,\n",
       " 2737,\n",
       " 0,\n",
       " 0,\n",
       " 0,\n",
       " 0,\n",
       " 0,\n",
       " 0,\n",
       " 2744,\n",
       " 0,\n",
       " 0,\n",
       " 0,\n",
       " 0,\n",
       " 0,\n",
       " 0,\n",
       " 2751,\n",
       " 0,\n",
       " 0,\n",
       " 0,\n",
       " 0,\n",
       " 0,\n",
       " 0,\n",
       " 2758,\n",
       " 0,\n",
       " 0,\n",
       " 0,\n",
       " 0,\n",
       " 0,\n",
       " 0,\n",
       " 0,\n",
       " 0,\n",
       " 0,\n",
       " 0,\n",
       " 0,\n",
       " 0,\n",
       " 0,\n",
       " 2772,\n",
       " 0,\n",
       " 0,\n",
       " 0,\n",
       " 0,\n",
       " 0,\n",
       " 0,\n",
       " 2779,\n",
       " 0,\n",
       " 0,\n",
       " 0,\n",
       " 0,\n",
       " 0,\n",
       " 0,\n",
       " 2786,\n",
       " 0,\n",
       " 0,\n",
       " 0,\n",
       " 0,\n",
       " 0,\n",
       " 0,\n",
       " 2793,\n",
       " 0,\n",
       " 0,\n",
       " 0,\n",
       " 0,\n",
       " 0,\n",
       " 0,\n",
       " 0,\n",
       " 0,\n",
       " 0,\n",
       " 0,\n",
       " 0,\n",
       " 0,\n",
       " 0,\n",
       " 2807,\n",
       " 0,\n",
       " 0,\n",
       " 0,\n",
       " 0,\n",
       " 0,\n",
       " 0,\n",
       " 2814,\n",
       " 0,\n",
       " 0,\n",
       " 0,\n",
       " 0,\n",
       " 0,\n",
       " 0,\n",
       " 2821,\n",
       " 0,\n",
       " 0,\n",
       " 0,\n",
       " 0,\n",
       " 0,\n",
       " 0,\n",
       " 2828,\n",
       " 0,\n",
       " 0,\n",
       " 0,\n",
       " 0,\n",
       " 0,\n",
       " 0,\n",
       " 0,\n",
       " 0,\n",
       " 0,\n",
       " 0,\n",
       " 0,\n",
       " 0,\n",
       " 0,\n",
       " 2842,\n",
       " 0,\n",
       " 0,\n",
       " 0,\n",
       " 0,\n",
       " 0,\n",
       " 0,\n",
       " 2849,\n",
       " 0,\n",
       " 0,\n",
       " 0,\n",
       " 0,\n",
       " 0,\n",
       " 0,\n",
       " 2856,\n",
       " 0,\n",
       " 0,\n",
       " 0,\n",
       " 0,\n",
       " 0,\n",
       " 0,\n",
       " 2863,\n",
       " 0,\n",
       " 0,\n",
       " 0,\n",
       " 0,\n",
       " 0,\n",
       " 0,\n",
       " 0,\n",
       " 0,\n",
       " 0,\n",
       " 0,\n",
       " 0,\n",
       " 0,\n",
       " 0,\n",
       " 2877,\n",
       " 0,\n",
       " 0,\n",
       " 0,\n",
       " 0,\n",
       " 0,\n",
       " 0,\n",
       " 2884,\n",
       " 0,\n",
       " 0,\n",
       " 0,\n",
       " 0,\n",
       " 0,\n",
       " 0,\n",
       " 2891,\n",
       " 0,\n",
       " 0,\n",
       " 0,\n",
       " 0,\n",
       " 0,\n",
       " 0,\n",
       " 2898,\n",
       " 0,\n",
       " 0,\n",
       " 0,\n",
       " 0,\n",
       " 0,\n",
       " 0,\n",
       " 0,\n",
       " 0,\n",
       " 0,\n",
       " 0,\n",
       " 0,\n",
       " 0,\n",
       " 0,\n",
       " 2912,\n",
       " 0,\n",
       " 0,\n",
       " 0,\n",
       " 0,\n",
       " 0,\n",
       " 0,\n",
       " 2919,\n",
       " 0,\n",
       " 0,\n",
       " 0,\n",
       " 0,\n",
       " 0,\n",
       " 0,\n",
       " 2926,\n",
       " 0,\n",
       " 0,\n",
       " 0,\n",
       " 0,\n",
       " 0,\n",
       " 0,\n",
       " 2933,\n",
       " 0,\n",
       " 0,\n",
       " 0,\n",
       " 0,\n",
       " 0,\n",
       " 0,\n",
       " 0,\n",
       " 0,\n",
       " 0,\n",
       " 0,\n",
       " 0,\n",
       " 0,\n",
       " 0,\n",
       " 2947,\n",
       " 0,\n",
       " 0,\n",
       " 0,\n",
       " 0,\n",
       " 0,\n",
       " 0,\n",
       " 2954,\n",
       " 0,\n",
       " 0,\n",
       " 0,\n",
       " 0,\n",
       " 0,\n",
       " 0,\n",
       " 2961,\n",
       " 0,\n",
       " 0,\n",
       " 0,\n",
       " 0,\n",
       " 0,\n",
       " 0,\n",
       " 2968,\n",
       " 0,\n",
       " 0,\n",
       " 0,\n",
       " 0,\n",
       " 0,\n",
       " 0,\n",
       " 0,\n",
       " 0,\n",
       " 0,\n",
       " 0,\n",
       " 0,\n",
       " 0,\n",
       " 0,\n",
       " 2982,\n",
       " 0,\n",
       " 0,\n",
       " 0,\n",
       " 0,\n",
       " 0,\n",
       " 0,\n",
       " 2989,\n",
       " 0,\n",
       " 0,\n",
       " 0,\n",
       " 0,\n",
       " 0,\n",
       " 0,\n",
       " 2996,\n",
       " 0,\n",
       " 0,\n",
       " 0,\n",
       " ...]"
      ]
     },
     "execution_count": 32,
     "metadata": {},
     "output_type": "execute_result"
    }
   ],
   "source": [
    "# 2) Expecting a function to find the numbers divisible by 7 but not multiple of 5 between 2000 and 3200(both included) and \n",
    "# printing a result numbers in comma separated new lines.(Not using any for-if loops)(pyspark/python lamda/ scala/  java \n",
    "# streaming API)\n",
    "\n",
    "for i in range(2000,3201):\n",
    "    if i%7==0 and i%5!=0:\n",
    "        print(i,end=',')\n",
    "        \n",
    "list(map(lambda x:x if x%7==0 and x%5!=0 else 0,list(range(2000,32001))))"
   ]
  },
  {
   "cell_type": "code",
   "execution_count": 33,
   "id": "f7cd52fd",
   "metadata": {},
   "outputs": [
    {
     "name": "stdout",
     "output_type": "stream",
     "text": [
      "CAT, CTA, ACT, ATC, TCA, TAC, A\n",
      "T\n",
      "A\n"
     ]
    }
   ],
   "source": [
    "# write a program to print the possible combinations of any given word\n",
    "# input = \"\"CAT\"\n",
    "# expected result: \"cat\", \"cta\", \"atc\", ACT\", \"tac\", \"tca\"\n",
    "    \n",
    "import itertools as it\n",
    "\n",
    "s='CAT'\n",
    "k=list(it.permutations(s))\n",
    "for i in k:\n",
    "    print(''.join(i),end=', ')\n",
    "\n",
    "s='CAT'\n",
    "k=list(s)\n",
    "for i in k:\n",
    "    l=k\n",
    "    if i in l:\n",
    "        l.remove(i)\n",
    "    for o in l:\n",
    "        print(o)"
   ]
  },
  {
   "cell_type": "code",
   "execution_count": 35,
   "id": "ba1bfdb0",
   "metadata": {},
   "outputs": [
    {
     "data": {
      "text/plain": [
       "[3, 6, 9, 12, 15]"
      ]
     },
     "execution_count": 35,
     "metadata": {},
     "output_type": "execute_result"
    }
   ],
   "source": [
    "l = [1,2,3,4,5]\n",
    "s=[]\n",
    "for i in l:\n",
    "    s.append(i*3)\n",
    "s"
   ]
  },
  {
   "cell_type": "code",
   "execution_count": 38,
   "id": "bcba7456",
   "metadata": {},
   "outputs": [
    {
     "data": {
      "text/plain": [
       "[6, 12]"
      ]
     },
     "execution_count": 38,
     "metadata": {},
     "output_type": "execute_result"
    }
   ],
   "source": [
    "s=[j for j in s if j%2==0]\n",
    "s\n",
    "\n",
    "p=list(map(lambda x:x*3,l))\n",
    "s=[j for j in p if j%2==0]\n",
    "s"
   ]
  },
  {
   "cell_type": "code",
   "execution_count": 40,
   "id": "bca4f988",
   "metadata": {},
   "outputs": [
    {
     "data": {
      "text/plain": [
       "'123456789'"
      ]
     },
     "execution_count": 40,
     "metadata": {},
     "output_type": "execute_result"
    }
   ],
   "source": [
    "string = \"Mobile number  is 123456789\"\n",
    "import re\n",
    "re.sub(r'[a-z A-Z]','',string)"
   ]
  },
  {
   "cell_type": "code",
   "execution_count": 39,
   "id": "f5618f7a",
   "metadata": {},
   "outputs": [
    {
     "name": "stdout",
     "output_type": "stream",
     "text": [
      "Hello World\n"
     ]
    }
   ],
   "source": [
    "def fun2(s):\n",
    "    def inn():\n",
    "        s()\n",
    "        print('World')\n",
    "    return inn\n",
    "\n",
    "@fun2\n",
    "def fun():\n",
    "    print('Hello ',end='')\n",
    "fun()"
   ]
  },
  {
   "cell_type": "code",
   "execution_count": 41,
   "id": "245bd6b3",
   "metadata": {},
   "outputs": [
    {
     "ename": "SyntaxError",
     "evalue": "invalid syntax (3731678980.py, line 1)",
     "output_type": "error",
     "traceback": [
      "\u001b[1;36m  File \u001b[1;32m\"C:\\Users\\vamshikrishna.n\\AppData\\Local\\Temp\\ipykernel_29272\\3731678980.py\"\u001b[1;36m, line \u001b[1;32m1\u001b[0m\n\u001b[1;33m    try\u001b[0m\n\u001b[1;37m       ^\u001b[0m\n\u001b[1;31mSyntaxError\u001b[0m\u001b[1;31m:\u001b[0m invalid syntax\n"
     ]
    }
   ],
   "source": [
    "try\n",
    "except\n",
    "else\n",
    "finally"
   ]
  },
  {
   "cell_type": "code",
   "execution_count": 42,
   "id": "55e70dfb",
   "metadata": {},
   "outputs": [],
   "source": [
    "class student(object):\n",
    "    def __init__(self,a,b):\n",
    "        self.a=a\n",
    "        self.b=b\n",
    "        \n",
    "class sub(student):\n",
    "    def __init__(self,l,a,b):\n",
    "        student.__init__(self,a,b) #super()\n",
    "        self.l=l\n",
    "        \n",
    "s=student(5,6)\n",
    "ss=sub(8,9,10)"
   ]
  },
  {
   "cell_type": "code",
   "execution_count": 43,
   "id": "7e4969d4",
   "metadata": {},
   "outputs": [
    {
     "name": "stdout",
     "output_type": "stream",
     "text": [
      "June \n",
      "9\n"
     ]
    }
   ],
   "source": [
    "date = \"June 9\"\n",
    "\n",
    "import re\n",
    "s=re.findall(r'[a-z A-Z]',date)\n",
    "month=''.join(s)\n",
    "p=re.findall(r'[0-9]',date)\n",
    "day=int(p[0])\n",
    "print(month)\n",
    "print(day)"
   ]
  },
  {
   "cell_type": "code",
   "execution_count": 45,
   "id": "e9a134ee",
   "metadata": {},
   "outputs": [
    {
     "name": "stdout",
     "output_type": "stream",
     "text": [
      "[{'state': 'Telangana', 'city': 'Sircilla'}, {'state': 'Karnataka', 'city': 'rajanna'}]\n"
     ]
    },
    {
     "data": {
      "text/plain": [
       "['Telangana', 'Sircilla']"
      ]
     },
     "execution_count": 45,
     "metadata": {},
     "output_type": "execute_result"
    }
   ],
   "source": [
    "# import sql.connector as s\n",
    "# q=s.connect()\n",
    "\n",
    "p=[{'state':'Telangana','city':'Sircilla'},{'state':'Karnataka','city':'rajanna'}]\n",
    "p1=[{'city':'sircilla','place':'A1'},{'city':'sircilla','place2':'A2'}]\n",
    "\n",
    "for j in range(len(p1)):\n",
    "    for i,k in p1[j].items():\n",
    "        if k in list(p[j].values()):\n",
    "            if i=='place':\n",
    "                p[j].update({i:k})\n",
    "print(p)\n",
    "\n",
    "list(p[0].values())"
   ]
  },
  {
   "cell_type": "code",
   "execution_count": 46,
   "id": "23fc995a",
   "metadata": {},
   "outputs": [
    {
     "data": {
      "text/plain": [
       "[('abc', 'xyz', 'qwe', 'fgh'), (20, 12, 60, 23)]"
      ]
     },
     "execution_count": 46,
     "metadata": {},
     "output_type": "execute_result"
    }
   ],
   "source": [
    "abc=[('abc',20),('xyz',12),('qwe',60),('fgh',23)]\n",
    "# abc[0]\n",
    "n=list(zip(*abc))\n",
    "n"
   ]
  },
  {
   "cell_type": "code",
   "execution_count": 48,
   "id": "888547a6",
   "metadata": {},
   "outputs": [
    {
     "data": {
      "text/plain": [
       "{'abc': 20, 'xyz': 12, 'qwe': 60, 'fgh': 23}"
      ]
     },
     "execution_count": 48,
     "metadata": {},
     "output_type": "execute_result"
    }
   ],
   "source": [
    "s=dict(abc)\n",
    "s"
   ]
  },
  {
   "cell_type": "code",
   "execution_count": 49,
   "id": "4bf38a83",
   "metadata": {},
   "outputs": [
    {
     "data": {
      "text/plain": [
       "[('qwe', 60), ('fgh', 23), ('abc', 20), ('xyz', 12)]"
      ]
     },
     "execution_count": 49,
     "metadata": {},
     "output_type": "execute_result"
    }
   ],
   "source": [
    "import collections as c\n",
    "mm=c.Counter(s)\n",
    "mm.most_common()"
   ]
  },
  {
   "cell_type": "code",
   "execution_count": 50,
   "id": "28c97539",
   "metadata": {},
   "outputs": [],
   "source": [
    "# for i in range(len(abc)):\n",
    "#     for j in range(i+0,len(abc)):\n",
    "#         if abc[i][1]>abc[j][1]:\n",
    "#             abc[i][1],abc[j][1]=abc[j][1],abc[i][1]"
   ]
  },
  {
   "cell_type": "code",
   "execution_count": 51,
   "id": "3d2b9816",
   "metadata": {},
   "outputs": [
    {
     "ename": "TypeError",
     "evalue": "__init__() takes 3 positional arguments but 4 were given",
     "output_type": "error",
     "traceback": [
      "\u001b[1;31m---------------------------------------------------------------------------\u001b[0m",
      "\u001b[1;31mTypeError\u001b[0m                                 Traceback (most recent call last)",
      "\u001b[1;32m~\\AppData\\Local\\Temp\\ipykernel_29272\\100760326.py\u001b[0m in \u001b[0;36m<module>\u001b[1;34m\u001b[0m\n\u001b[0;32m     12\u001b[0m \u001b[1;33m\u001b[0m\u001b[0m\n\u001b[0;32m     13\u001b[0m \u001b[1;33m\u001b[0m\u001b[0m\n\u001b[1;32m---> 14\u001b[1;33m \u001b[0mn\u001b[0m\u001b[1;33m=\u001b[0m\u001b[0mAircraft\u001b[0m\u001b[1;33m(\u001b[0m\u001b[1;36m5\u001b[0m\u001b[1;33m,\u001b[0m\u001b[1;36m6\u001b[0m\u001b[1;33m,\u001b[0m\u001b[1;36m4\u001b[0m\u001b[1;33m)\u001b[0m\u001b[1;33m\u001b[0m\u001b[1;33m\u001b[0m\u001b[0m\n\u001b[0m\u001b[0;32m     15\u001b[0m \u001b[0mn\u001b[0m\u001b[1;33m.\u001b[0m\u001b[0mc\u001b[0m\u001b[1;33m\u001b[0m\u001b[1;33m\u001b[0m\u001b[0m\n",
      "\u001b[1;32m~\\AppData\\Local\\Temp\\ipykernel_29272\\100760326.py\u001b[0m in \u001b[0;36m__init__\u001b[1;34m(self, c, a, b)\u001b[0m\n\u001b[0;32m      9\u001b[0m     \u001b[1;32mdef\u001b[0m \u001b[0m__init__\u001b[0m\u001b[1;33m(\u001b[0m\u001b[0mself\u001b[0m\u001b[1;33m,\u001b[0m\u001b[0mc\u001b[0m\u001b[1;33m,\u001b[0m\u001b[0ma\u001b[0m\u001b[1;33m,\u001b[0m\u001b[0mb\u001b[0m\u001b[1;33m)\u001b[0m\u001b[1;33m:\u001b[0m\u001b[1;33m\u001b[0m\u001b[1;33m\u001b[0m\u001b[0m\n\u001b[0;32m     10\u001b[0m         \u001b[0mself\u001b[0m\u001b[1;33m.\u001b[0m\u001b[0mc\u001b[0m\u001b[1;33m=\u001b[0m\u001b[0mc\u001b[0m\u001b[1;33m\u001b[0m\u001b[1;33m\u001b[0m\u001b[0m\n\u001b[1;32m---> 11\u001b[1;33m         \u001b[0msuper\u001b[0m\u001b[1;33m(\u001b[0m\u001b[1;33m)\u001b[0m\u001b[1;33m.\u001b[0m\u001b[0m__init__\u001b[0m\u001b[1;33m(\u001b[0m\u001b[0mself\u001b[0m\u001b[1;33m,\u001b[0m\u001b[0ma\u001b[0m\u001b[1;33m,\u001b[0m\u001b[0mb\u001b[0m\u001b[1;33m)\u001b[0m\u001b[1;33m\u001b[0m\u001b[1;33m\u001b[0m\u001b[0m\n\u001b[0m\u001b[0;32m     12\u001b[0m \u001b[1;33m\u001b[0m\u001b[0m\n\u001b[0;32m     13\u001b[0m \u001b[1;33m\u001b[0m\u001b[0m\n",
      "\u001b[1;31mTypeError\u001b[0m: __init__() takes 3 positional arguments but 4 were given"
     ]
    }
   ],
   "source": [
    "class FlyingMachine(object):\n",
    "    \n",
    "    def __init__(self,a,b):\n",
    "        self.a=a\n",
    "        self.b=b\n",
    "    \n",
    "class Aircraft(FlyingMachine):\n",
    "    \n",
    "    def __init__(self,c,a,b):\n",
    "        self.c=c\n",
    "        super().__init__(self,a,b)\n",
    "        \n",
    "            \n",
    "n=Aircraft(5,6,4)\n",
    "n.c"
   ]
  },
  {
   "cell_type": "code",
   "execution_count": 52,
   "id": "621a4a3e",
   "metadata": {},
   "outputs": [
    {
     "data": {
      "text/plain": [
       "[1, 8, 27]"
      ]
     },
     "execution_count": 52,
     "metadata": {},
     "output_type": "execute_result"
    }
   ],
   "source": [
    "list(map(lambda x:x**3,[1,2,3]))"
   ]
  },
  {
   "cell_type": "code",
   "execution_count": 53,
   "id": "549705e0",
   "metadata": {},
   "outputs": [
    {
     "name": "stdout",
     "output_type": "stream",
     "text": [
      "Hello Good Afternoon\n"
     ]
    }
   ],
   "source": [
    "def fun2(f):\n",
    "    def inn():\n",
    "        f()\n",
    "        print('Good Afternoon')\n",
    "    return inn\n",
    "\n",
    "@fun2\n",
    "def fun():\n",
    "    print('Hello',end=' ')\n",
    "    \n",
    "fun()"
   ]
  },
  {
   "cell_type": "code",
   "execution_count": 54,
   "id": "48ba6a7b",
   "metadata": {},
   "outputs": [
    {
     "data": {
      "text/plain": [
       "['in', 'in', 'in']"
      ]
     },
     "execution_count": 54,
     "metadata": {},
     "output_type": "execute_result"
    }
   ],
   "source": [
    "s='It rains in india'\n",
    "import re\n",
    "re.findall('in',s)"
   ]
  },
  {
   "cell_type": "code",
   "execution_count": 55,
   "id": "cde98e7a",
   "metadata": {},
   "outputs": [
    {
     "name": "stdout",
     "output_type": "stream",
     "text": [
      "notprime\n"
     ]
    }
   ],
   "source": [
    "def fun(n):\n",
    "    if n>1:\n",
    "        for i in range(2,n+1):\n",
    "            if n%i==0:\n",
    "                s=1\n",
    "            else:\n",
    "                s=0\n",
    "    elif n==1:\n",
    "        s=0\n",
    "    return s\n",
    "\n",
    "n=7           \n",
    "\n",
    "\n",
    "if fun(n)==0:\n",
    "    print('prime')\n",
    "else:\n",
    "    print('notprime')"
   ]
  },
  {
   "cell_type": "code",
   "execution_count": 56,
   "id": "8f26acea",
   "metadata": {},
   "outputs": [
    {
     "name": "stdout",
     "output_type": "stream",
     "text": [
      "key is 1 and value is A\n",
      "key is 2 and value is B\n",
      "key is 4 and value is C\n"
     ]
    }
   ],
   "source": [
    "s={1:'A',2:'B',4:'C'}\n",
    "for i,j in s.items():\n",
    "    print(f'key is {i} and value is {j}')"
   ]
  },
  {
   "cell_type": "code",
   "execution_count": 57,
   "id": "e037925c",
   "metadata": {},
   "outputs": [],
   "source": [
    "# class vehicle(object):\n",
    "#     def __init__(self,Milege,TimeCapacity):\n",
    "#         self.Milege=Milege\n",
    "#         self.TimeCapacity=TimeCapacity\n",
    "        \n",
    "#     def Maxx(self):\n",
    "#         print(self.Milege*self.TimeCapacity)\n",
    "        \n",
    "# class car(vehicle):\n",
    "#     def __init__(self,price,Milege,TimeCapacity):\n",
    "#         self.price=price\n",
    "#         super().__init__(self,Milege,TimeCapacity)\n",
    "            \n",
    "# s=car(5,6,7)\n",
    "# s"
   ]
  },
  {
   "cell_type": "code",
   "execution_count": 58,
   "id": "1eab41de",
   "metadata": {},
   "outputs": [],
   "source": [
    "# import os\n",
    "# s=os.listdir()\n",
    "# for i in s:\n",
    "#     if i.endswith('.xls#'):\n",
    "#         print(i)"
   ]
  },
  {
   "cell_type": "code",
   "execution_count": 59,
   "id": "a5b09976",
   "metadata": {},
   "outputs": [],
   "source": [
    "# Write a program that will count the number of capital letters in a file. Your code should work even if the file is too \n",
    "# big to fit in memory.\n",
    "\n",
    "with open('filename.txt','w+') as f:\n",
    "    s=f.read()\n",
    "# for i in s:\n",
    "#     if i in s.ascii_uppercase:\n",
    "#         count=count+1"
   ]
  },
  {
   "cell_type": "code",
   "execution_count": 60,
   "id": "88178fde",
   "metadata": {},
   "outputs": [],
   "source": [
    "# import os\n",
    "# os.listdir()"
   ]
  },
  {
   "cell_type": "code",
   "execution_count": 61,
   "id": "6e479965",
   "metadata": {},
   "outputs": [
    {
     "ename": "FileNotFoundError",
     "evalue": "[Errno 2] No such file or directory: '2.txt'",
     "output_type": "error",
     "traceback": [
      "\u001b[1;31m---------------------------------------------------------------------------\u001b[0m",
      "\u001b[1;31mFileNotFoundError\u001b[0m                         Traceback (most recent call last)",
      "\u001b[1;32m~\\AppData\\Local\\Temp\\ipykernel_29272\\486145987.py\u001b[0m in \u001b[0;36m<module>\u001b[1;34m\u001b[0m\n\u001b[0;32m      2\u001b[0m \u001b[1;32mimport\u001b[0m \u001b[0mstring\u001b[0m \u001b[1;32mas\u001b[0m \u001b[0ms\u001b[0m\u001b[1;33m\u001b[0m\u001b[1;33m\u001b[0m\u001b[0m\n\u001b[0;32m      3\u001b[0m \u001b[0mcount\u001b[0m\u001b[1;33m=\u001b[0m\u001b[1;36m0\u001b[0m\u001b[1;33m\u001b[0m\u001b[1;33m\u001b[0m\u001b[0m\n\u001b[1;32m----> 4\u001b[1;33m \u001b[1;32mwith\u001b[0m \u001b[0mopen\u001b[0m\u001b[1;33m(\u001b[0m\u001b[1;34m'2.txt'\u001b[0m\u001b[1;33m,\u001b[0m\u001b[1;34m'r'\u001b[0m\u001b[1;33m)\u001b[0m \u001b[1;32mas\u001b[0m \u001b[0mf\u001b[0m\u001b[1;33m:\u001b[0m\u001b[1;33m\u001b[0m\u001b[1;33m\u001b[0m\u001b[0m\n\u001b[0m\u001b[0;32m      5\u001b[0m     \u001b[0mn\u001b[0m\u001b[1;33m=\u001b[0m\u001b[0mf\u001b[0m\u001b[1;33m.\u001b[0m\u001b[0mread\u001b[0m\u001b[1;33m(\u001b[0m\u001b[1;33m)\u001b[0m\u001b[1;33m\u001b[0m\u001b[1;33m\u001b[0m\u001b[0m\n\u001b[0;32m      6\u001b[0m \u001b[1;33m\u001b[0m\u001b[0m\n",
      "\u001b[1;31mFileNotFoundError\u001b[0m: [Errno 2] No such file or directory: '2.txt'"
     ]
    }
   ],
   "source": [
    "# k=open('2.txt','r')\n",
    "import string as s\n",
    "count=0\n",
    "with open('2.txt','r') as f:\n",
    "    n=f.read()\n",
    "\n",
    "for i in n:\n",
    "    if i in s.ascii_uppercase:\n",
    "        count=count+1\n",
    "count"
   ]
  },
  {
   "cell_type": "code",
   "execution_count": 62,
   "id": "30e21fd0",
   "metadata": {},
   "outputs": [
    {
     "ename": "SyntaxError",
     "evalue": "invalid syntax (2283871389.py, line 2)",
     "output_type": "error",
     "traceback": [
      "\u001b[1;36m  File \u001b[1;32m\"C:\\Users\\vamshikrishna.n\\AppData\\Local\\Temp\\ipykernel_29272\\2283871389.py\"\u001b[1;36m, line \u001b[1;32m2\u001b[0m\n\u001b[1;33m    if i in\u001b[0m\n\u001b[1;37m            ^\u001b[0m\n\u001b[1;31mSyntaxError\u001b[0m\u001b[1;31m:\u001b[0m invalid syntax\n"
     ]
    }
   ],
   "source": [
    "for i in n:\n",
    "    if i in "
   ]
  },
  {
   "cell_type": "code",
   "execution_count": 63,
   "id": "bc281efc",
   "metadata": {},
   "outputs": [
    {
     "data": {
      "text/plain": [
       "[1, 2, 3, 4, 5, 6]"
      ]
     },
     "execution_count": 63,
     "metadata": {},
     "output_type": "execute_result"
    }
   ],
   "source": [
    "k ={}   \n",
    "k[2] = 56      \n",
    "k[1] = 2\n",
    "k[5] = 12\n",
    "k[4] = 24\n",
    "k[6] = 18     \n",
    "k[3] = 323\n",
    "sorted(k.keys())"
   ]
  },
  {
   "cell_type": "code",
   "execution_count": 65,
   "id": "917cc142",
   "metadata": {},
   "outputs": [
    {
     "data": {
      "text/plain": [
       "{1: 'Open',\n",
       " 2: 'Closed',\n",
       " 3: 'Closed',\n",
       " 4: 'Open',\n",
       " 5: 'Closed',\n",
       " 6: 'Closed',\n",
       " 7: 'Closed',\n",
       " 8: 'Closed',\n",
       " 9: 'Open',\n",
       " 10: 'Closed',\n",
       " 11: 'Closed',\n",
       " 12: 'Closed',\n",
       " 13: 'Closed',\n",
       " 14: 'Closed',\n",
       " 15: 'Closed',\n",
       " 16: 'Open',\n",
       " 17: 'Closed',\n",
       " 18: 'Closed',\n",
       " 19: 'Closed',\n",
       " 20: 'Closed',\n",
       " 21: 'Closed',\n",
       " 22: 'Closed',\n",
       " 23: 'Closed',\n",
       " 24: 'Closed',\n",
       " 25: 'Open',\n",
       " 26: 'Closed',\n",
       " 27: 'Closed',\n",
       " 28: 'Closed',\n",
       " 29: 'Closed',\n",
       " 30: 'Closed',\n",
       " 31: 'Closed',\n",
       " 32: 'Closed',\n",
       " 33: 'Closed',\n",
       " 34: 'Closed',\n",
       " 35: 'Closed',\n",
       " 36: 'Open',\n",
       " 37: 'Closed',\n",
       " 38: 'Closed',\n",
       " 39: 'Closed',\n",
       " 40: 'Closed',\n",
       " 41: 'Closed',\n",
       " 42: 'Closed',\n",
       " 43: 'Closed',\n",
       " 44: 'Closed',\n",
       " 45: 'Closed',\n",
       " 46: 'Closed',\n",
       " 47: 'Closed',\n",
       " 48: 'Closed',\n",
       " 49: 'Open',\n",
       " 50: 'Closed',\n",
       " 51: 'Closed',\n",
       " 52: 'Closed',\n",
       " 53: 'Closed',\n",
       " 54: 'Closed',\n",
       " 55: 'Closed',\n",
       " 56: 'Closed',\n",
       " 57: 'Closed',\n",
       " 58: 'Closed',\n",
       " 59: 'Closed',\n",
       " 60: 'Closed',\n",
       " 61: 'Closed',\n",
       " 62: 'Closed',\n",
       " 63: 'Closed',\n",
       " 64: 'Open',\n",
       " 65: 'Closed',\n",
       " 66: 'Closed',\n",
       " 67: 'Closed',\n",
       " 68: 'Closed',\n",
       " 69: 'Closed',\n",
       " 70: 'Closed',\n",
       " 71: 'Closed',\n",
       " 72: 'Closed',\n",
       " 73: 'Closed',\n",
       " 74: 'Closed',\n",
       " 75: 'Closed',\n",
       " 76: 'Closed',\n",
       " 77: 'Closed',\n",
       " 78: 'Closed',\n",
       " 79: 'Closed',\n",
       " 80: 'Closed',\n",
       " 81: 'Open',\n",
       " 82: 'Closed',\n",
       " 83: 'Closed',\n",
       " 84: 'Closed',\n",
       " 85: 'Closed',\n",
       " 86: 'Closed',\n",
       " 87: 'Closed',\n",
       " 88: 'Closed',\n",
       " 89: 'Closed',\n",
       " 90: 'Closed',\n",
       " 91: 'Closed',\n",
       " 92: 'Closed',\n",
       " 93: 'Closed',\n",
       " 94: 'Closed',\n",
       " 95: 'Closed',\n",
       " 96: 'Closed',\n",
       " 97: 'Closed',\n",
       " 98: 'Closed',\n",
       " 99: 'Closed',\n",
       " 100: 'Open'}"
      ]
     },
     "execution_count": 65,
     "metadata": {},
     "output_type": "execute_result"
    }
   ],
   "source": [
    "# You have 100 doors in a row that are all initially closed. you make 100 passes by the doors starting with the first door \n",
    "# every time. the first time through you visit every door and toggle the door (if the door is closed, you open it, if its \n",
    "# open, you close it). \n",
    "# the second time you only visit every 2nd door (door #2, #4, #6). \n",
    "# the third time, every 3rd door (door #3, #6, #9), ec, until you only visit the 100th door.\n",
    "\n",
    "# What state are the doors in after the last pass? Which are open which are closed?\n",
    "                                \n",
    "d={}\n",
    "l= list(range(1,101 ))\n",
    "for i in range(1,101):\n",
    "    d[i]='Closed'\n",
    "for p in range(1,101):\n",
    "    for j in range(1,101):\n",
    "        k=j*p\n",
    "        if k in l:\n",
    "            if d[k]=='Closed':\n",
    "                d[k]='Open'\n",
    "            elif d[k]=='Open':\n",
    "                d[k]='Closed'\n",
    "        else:\n",
    "            pass\n",
    "            break\n",
    "d"
   ]
  },
  {
   "cell_type": "code",
   "execution_count": null,
   "id": "304b6e9d",
   "metadata": {},
   "outputs": [],
   "source": [
    "# import collections as c\n",
    "c={1:2}\n",
    "c.get(1)\n"
   ]
  },
  {
   "cell_type": "code",
   "execution_count": 66,
   "id": "484dbee1",
   "metadata": {},
   "outputs": [],
   "source": [
    "def fun(s):\n",
    "    dic={}\n",
    "    for i in s:\n",
    "        if i in dic.keys():\n",
    "            dic[i]=dic.get(i) +1\n",
    "        else:\n",
    "            dic[i]=1\n",
    "    return dic  "
   ]
  },
  {
   "cell_type": "code",
   "execution_count": 67,
   "id": "7bbe4d5e",
   "metadata": {},
   "outputs": [
    {
     "name": "stdout",
     "output_type": "stream",
     "text": [
      "{'H': 1, 'e': 1, 'l': 3, 'o': 2, ' ': 1, 'W': 1, 'r': 1, 'd': 1}\n"
     ]
    }
   ],
   "source": [
    "s='Hello World'\n",
    "print(fun(s))"
   ]
  },
  {
   "cell_type": "code",
   "execution_count": 68,
   "id": "37793cfc",
   "metadata": {},
   "outputs": [
    {
     "name": "stdout",
     "output_type": "stream",
     "text": [
      "1 0 1 0 1 \t\n",
      "0 1 0 1 0 \t\n",
      "1 0 1 0 1 \t\n",
      "0 1 0 1 0 \t\n",
      "1 0 1 0 1 \t\n"
     ]
    }
   ],
   "source": [
    "# 1 0 1\n",
    "# 0 1 0\n",
    "# 1 0 1\n",
    "\n",
    "s=5\n",
    "n=s+1\n",
    "def fun(i,n):\n",
    "    for j in range(1,n):\n",
    "        if i%2==1:\n",
    "            if j%2==0:\n",
    "                print(0,end=' ')\n",
    "            else:\n",
    "                print(1,end=' ')\n",
    "        else:\n",
    "            if j%2==1:\n",
    "                print(0,end=' ')\n",
    "            else:\n",
    "                print(1,end=' ')\n",
    "\n",
    "\n",
    "for i in range(1,n):\n",
    "    if i%2==1:\n",
    "        fun(i,n)\n",
    "        print('\\t')\n",
    "    else:\n",
    "        fun(i,n)\n",
    "        print('\\t')"
   ]
  },
  {
   "cell_type": "code",
   "execution_count": null,
   "id": "da6f7eca",
   "metadata": {},
   "outputs": [],
   "source": [
    "# occurrences of substring in string\n",
    "import re\n",
    "str = \"GeeksforGeeks is best for Geeks\"\n",
    "sub='Geeks'\n",
    "res = [i for i in range(len(str)) if str.startswith(sub,i)]\n",
    "print(res)\n",
    "\n",
    "\n",
    "res = [i.start() for i in re.finditer(sub,str)]\n",
    "print(res)"
   ]
  },
  {
   "cell_type": "code",
   "execution_count": null,
   "id": "10adadd3",
   "metadata": {},
   "outputs": [],
   "source": [
    "# Find the ten most common words in Hamlet\n",
    "import re\n",
    "words = re.findall(r'\\w+', open('filename').read().lower())\n",
    "Counter(words).most_common(10)"
   ]
  },
  {
   "cell_type": "code",
   "execution_count": null,
   "id": "53578b81",
   "metadata": {},
   "outputs": [],
   "source": [
    "value= False\n",
    "match value:\n",
    "    case True:\n",
    "        print(\"Quitting\")\n",
    "        exit()\n",
    "    case False:\n",
    "        print(\"System is on\") \n"
   ]
  },
  {
   "cell_type": "code",
   "execution_count": null,
   "id": "dd529480",
   "metadata": {},
   "outputs": [],
   "source": [
    "import keyword\n",
    "keyword.kwlist"
   ]
  },
  {
   "cell_type": "code",
   "execution_count": 1,
   "id": "ce5c434e",
   "metadata": {},
   "outputs": [
    {
     "data": {
      "text/plain": [
       "33"
      ]
     },
     "execution_count": 1,
     "metadata": {},
     "output_type": "execute_result"
    }
   ],
   "source": [
    "0xA+0xB+0xC"
   ]
  },
  {
   "cell_type": "code",
   "execution_count": 2,
   "id": "6c31188f",
   "metadata": {},
   "outputs": [
    {
     "data": {
      "text/plain": [
       "[5, 3, 1]"
      ]
     },
     "execution_count": 2,
     "metadata": {},
     "output_type": "execute_result"
    }
   ],
   "source": [
    "t=[1,3,5]\n",
    "list(reversed(t))"
   ]
  },
  {
   "cell_type": "code",
   "execution_count": 3,
   "id": "f06deb79",
   "metadata": {},
   "outputs": [
    {
     "data": {
      "text/plain": [
       "165"
      ]
     },
     "execution_count": 3,
     "metadata": {},
     "output_type": "execute_result"
    }
   ],
   "source": [
    "0xa5"
   ]
  },
  {
   "cell_type": "code",
   "execution_count": 4,
   "id": "b41e7dd9",
   "metadata": {},
   "outputs": [
    {
     "name": "stdout",
     "output_type": "stream",
     "text": [
      "Watch your step ! Is your sight working ?\n",
      "You call it bowling ? go back to school\n",
      "YES! I'm the king of the world !\n",
      "On your face hotshot! Go get the ball\n",
      "That's what happens if you count your steps with index 0\n",
      "If you don't do anything with the ball,what's the point of playing ?\n",
      "Mere mortals can't understand this outcome\n",
      "I'm at a loss of words, are we still playing cricket ?\n"
     ]
    }
   ],
   "source": [
    "# n=input().split(' ')\n",
    "\n",
    "l=[['Yes', 'No', 'No', 'No'],['No', 'Yes', 'No', 'No'],['No', 'No', 'Yes', 'No'],['No', 'No', 'Np', 'Yes'],['Yes', 'Yes', 'No', 'No'],['No', 'No', 'No', 'No'],['No', 'No', 'Yes', 'Yes'],['For', 'Any', 'Other', 'Combos']]\n",
    "\n",
    "s=['Watch your step ! Is your sight working ?',\n",
    "'You call it bowling ? go back to school',\n",
    "'YES! I\\'m the king of the world !',\n",
    "'On your face hotshot! Go get the ball',\n",
    "'That\\'s what happens if you count your steps with index 0',\n",
    "'If you don\\'t do anything with the ball,what\\'s the point of playing ?',\n",
    "'Mere mortals can\\'t understand this outcome',\n",
    "'I\\'m at a loss of words, are we still playing cricket ?']\n",
    "for i, j in zip(l,s):\n",
    "    print(j)"
   ]
  },
  {
   "cell_type": "code",
   "execution_count": 5,
   "id": "3cca553e",
   "metadata": {},
   "outputs": [
    {
     "name": "stdout",
     "output_type": "stream",
     "text": [
      "t\n"
     ]
    }
   ],
   "source": [
    "\n",
    "def f():\n",
    "    print('t')\n",
    "f()"
   ]
  },
  {
   "cell_type": "code",
   "execution_count": 6,
   "id": "2e9b3d81",
   "metadata": {},
   "outputs": [
    {
     "name": "stdout",
     "output_type": "stream",
     "text": [
      "C\n",
      "AllocSuperClass\n",
      "D\n",
      "type 'SuperClass is not\n"
     ]
    }
   ],
   "source": [
    "class SuperClass(type):\n",
    "    def __new__(cls,name,bases,classdict):\n",
    "        try:\n",
    "            for b in bases:\n",
    "                if isinstance(b,SuperClass):\n",
    "                    raise TypeError(\"type '{0} is not\".format(type(b).__name__))\n",
    "            print(\"Alloc{0}\".format(cls.__name__))\n",
    "        except Exception as err:\n",
    "            print(err)\n",
    "        return type.__new__(cls,name,bases,dict(classdict))\n",
    "class C(metaclass=SuperClass):\n",
    "    print('C')\n",
    "    pass\n",
    "class D(C):\n",
    "    pass\n",
    "    print('D')\n"
   ]
  },
  {
   "cell_type": "code",
   "execution_count": 7,
   "id": "87ba6fe9",
   "metadata": {},
   "outputs": [
    {
     "ename": "SyntaxError",
     "evalue": "invalid syntax (3880577683.py, line 1)",
     "output_type": "error",
     "traceback": [
      "\u001b[1;36m  File \u001b[1;32m\"C:\\Users\\vamshikrishna.n\\AppData\\Local\\Temp\\ipykernel_45224\\3880577683.py\"\u001b[1;36m, line \u001b[1;32m1\u001b[0m\n\u001b[1;33m    Python supports a form of multiple inheritance as well. A class definition with multiple base classes looks like this:\u001b[0m\n\u001b[1;37m           ^\u001b[0m\n\u001b[1;31mSyntaxError\u001b[0m\u001b[1;31m:\u001b[0m invalid syntax\n"
     ]
    }
   ],
   "source": [
    "Python supports a form of multiple inheritance as well. A class definition with multiple base classes looks like this:\n",
    "\n",
    "class DerivedClassName(Base1, Base2, Base3):"
   ]
  },
  {
   "cell_type": "code",
   "execution_count": 8,
   "id": "c8715a62",
   "metadata": {},
   "outputs": [
    {
     "ename": "NameError",
     "evalue": "name 'random' is not defined",
     "output_type": "error",
     "traceback": [
      "\u001b[1;31m---------------------------------------------------------------------------\u001b[0m",
      "\u001b[1;31mNameError\u001b[0m                                 Traceback (most recent call last)",
      "\u001b[1;32m~\\AppData\\Local\\Temp\\ipykernel_45224\\326287574.py\u001b[0m in \u001b[0;36m<module>\u001b[1;34m\u001b[0m\n\u001b[1;32m----> 1\u001b[1;33m \u001b[1;34m''\u001b[0m\u001b[1;33m.\u001b[0m\u001b[0mjoin\u001b[0m\u001b[1;33m(\u001b[0m\u001b[0mrandom\u001b[0m\u001b[1;33m.\u001b[0m\u001b[0mchoices\u001b[0m\u001b[1;33m(\u001b[0m\u001b[0mstring\u001b[0m\u001b[1;33m.\u001b[0m\u001b[0mascii_uppercase\u001b[0m \u001b[1;33m+\u001b[0m \u001b[0mstring\u001b[0m\u001b[1;33m.\u001b[0m\u001b[0mdigits\u001b[0m\u001b[1;33m,\u001b[0m \u001b[0mk\u001b[0m\u001b[1;33m=\u001b[0m\u001b[1;36m6\u001b[0m\u001b[1;33m)\u001b[0m\u001b[1;33m)\u001b[0m\u001b[1;33m\u001b[0m\u001b[1;33m\u001b[0m\u001b[0m\n\u001b[0m\u001b[0;32m      2\u001b[0m \u001b[1;34m''\u001b[0m\u001b[1;33m.\u001b[0m\u001b[0mjoin\u001b[0m\u001b[1;33m(\u001b[0m\u001b[0mrandom\u001b[0m\u001b[1;33m.\u001b[0m\u001b[0mchoice\u001b[0m\u001b[1;33m(\u001b[0m\u001b[0mstring\u001b[0m\u001b[1;33m.\u001b[0m\u001b[0mascii_uppercase\u001b[0m \u001b[1;33m+\u001b[0m \u001b[0mstring\u001b[0m\u001b[1;33m.\u001b[0m\u001b[0mdigits\u001b[0m\u001b[1;33m)\u001b[0m \u001b[1;32mfor\u001b[0m \u001b[0m_\u001b[0m \u001b[1;32min\u001b[0m \u001b[0mrange\u001b[0m\u001b[1;33m(\u001b[0m\u001b[1;36m6\u001b[0m\u001b[1;33m)\u001b[0m\u001b[1;33m)\u001b[0m\u001b[1;33m\u001b[0m\u001b[1;33m\u001b[0m\u001b[0m\n\u001b[0;32m      3\u001b[0m \u001b[1;34m''\u001b[0m\u001b[1;33m.\u001b[0m\u001b[0mjoin\u001b[0m\u001b[1;33m(\u001b[0m\u001b[0mrandom\u001b[0m\u001b[1;33m.\u001b[0m\u001b[0mSystemRandom\u001b[0m\u001b[1;33m(\u001b[0m\u001b[1;33m)\u001b[0m\u001b[1;33m.\u001b[0m\u001b[0mchoice\u001b[0m\u001b[1;33m(\u001b[0m\u001b[0mstring\u001b[0m\u001b[1;33m.\u001b[0m\u001b[0mascii_uppercase\u001b[0m \u001b[1;33m+\u001b[0m \u001b[0mstring\u001b[0m\u001b[1;33m.\u001b[0m\u001b[0mdigits\u001b[0m\u001b[1;33m)\u001b[0m \u001b[1;32mfor\u001b[0m \u001b[0m_\u001b[0m \u001b[1;32min\u001b[0m \u001b[0mrange\u001b[0m\u001b[1;33m(\u001b[0m\u001b[1;36m6\u001b[0m\u001b[1;33m)\u001b[0m\u001b[1;33m)\u001b[0m\u001b[1;33m\u001b[0m\u001b[1;33m\u001b[0m\u001b[0m\n\u001b[0;32m      4\u001b[0m \u001b[1;33m[\u001b[0m\u001b[0mrandom\u001b[0m\u001b[1;33m.\u001b[0m\u001b[0mchoice\u001b[0m\u001b[1;33m(\u001b[0m\u001b[1;34m'abcde'\u001b[0m\u001b[1;33m)\u001b[0m \u001b[1;32mfor\u001b[0m \u001b[0m_\u001b[0m \u001b[1;32min\u001b[0m \u001b[0mrange\u001b[0m\u001b[1;33m(\u001b[0m\u001b[1;36m3\u001b[0m\u001b[1;33m)\u001b[0m\u001b[1;33m]\u001b[0m\u001b[1;33m\u001b[0m\u001b[1;33m\u001b[0m\u001b[0m\n\u001b[0;32m      5\u001b[0m \u001b[1;33m\u001b[0m\u001b[0m\n",
      "\u001b[1;31mNameError\u001b[0m: name 'random' is not defined"
     ]
    }
   ],
   "source": [
    "''.join(random.choices(string.ascii_uppercase + string.digits, k=6))\n",
    "''.join(random.choice(string.ascii_uppercase + string.digits) for _ in range(6))\n",
    "''.join(random.SystemRandom().choice(string.ascii_uppercase + string.digits) for _ in range(6))\n",
    "[random.choice('abcde') for _ in range(3)]\n",
    "\n",
    "import uuid\n",
    "uuid.uuid4()\n",
    "\n",
    "import itertools\n",
    "a = [['a','b'], ['c']]\n",
    "print(list(itertools.chain.from_iterable(a)))\n",
    "\n",
    "def same_cyclic(w1, w2):\n",
    "     return any(w1 == w2[i:] + w2[:i] for i in range(len(w2)))\n",
    "    \n",
    "same_cyclic(\"word\", \"ordw\")\n",
    "\n",
    "import ast\n",
    "x = '[ \"A\",\"B\",\"C\" , \" D\"]'\n",
    "x = ast.literal_eval(x)\n",
    "print(x)\n",
    "\n",
    "x = [n.strip() for n in x]\n",
    "print(x)\n"
   ]
  },
  {
   "cell_type": "code",
   "execution_count": null,
   "id": "b455f9da",
   "metadata": {},
   "outputs": [],
   "source": [
    "list1=[1,2,3,9,100,99,8]\n",
    "list2=[1,2,2,8,200]\n",
    "result = [0] * len(list1)\n",
    "for i in range(len(list1)):\n",
    "    for w in list2:\n",
    "        if w == list1[i]:\n",
    "            result[i] += 1\n",
    "\n",
    "print(result)\n",
    "\n",
    "\n",
    "import sys\n",
    "x=input(sys.argv[1])\n",
    "y=input(sys.argv[2])\n",
    "print(x+y)"
   ]
  },
  {
   "cell_type": "code",
   "execution_count": null,
   "id": "cf493e29",
   "metadata": {},
   "outputs": [],
   "source": [
    "l=[2,4,66,2,55,1,6,7]\n",
    "temp=0\n",
    "for i in range(len(l)):\n",
    "    for j in range(i+1,len(l)):\n",
    "        if l[i] > l[j]:\n",
    "            temp=l[i]\n",
    "            l[i]=l[j]\n",
    "            l[j]=temp \n",
    "print(l)"
   ]
  },
  {
   "cell_type": "code",
   "execution_count": null,
   "id": "b5568d62",
   "metadata": {},
   "outputs": [],
   "source": [
    "def perm(l):\n",
    "        # Compute the list of all permutations of l\n",
    "    if len(l) <= 1:\n",
    "                  return [l]\n",
    "    r = []\n",
    "    for i in range(len(l)):\n",
    "            s = l[:i] + l[i+1:]\n",
    "            p = perm(s)\n",
    "        for x in p:\n",
    "            r.append(l[i:i+1] + x)\n",
    "    return r\n",
    "perm(l)"
   ]
  },
  {
   "cell_type": "code",
   "execution_count": null,
   "id": "212b6a1a",
   "metadata": {},
   "outputs": [],
   "source": []
  },
  {
   "cell_type": "code",
   "execution_count": null,
   "id": "8701b8f4",
   "metadata": {},
   "outputs": [],
   "source": []
  }
 ],
 "metadata": {
  "kernelspec": {
   "display_name": "Python 3 (ipykernel)",
   "language": "python",
   "name": "python3"
  },
  "language_info": {
   "codemirror_mode": {
    "name": "ipython",
    "version": 3
   },
   "file_extension": ".py",
   "mimetype": "text/x-python",
   "name": "python",
   "nbconvert_exporter": "python",
   "pygments_lexer": "ipython3",
   "version": "3.10.9"
  }
 },
 "nbformat": 4,
 "nbformat_minor": 5
}
