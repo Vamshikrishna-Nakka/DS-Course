{
 "cells": [
  {
   "cell_type": "code",
   "execution_count": 1,
   "id": "480cd4b4",
   "metadata": {},
   "outputs": [
    {
     "ename": "SyntaxError",
     "evalue": "invalid syntax (3211440362.py, line 1)",
     "output_type": "error",
     "traceback": [
      "\u001b[1;36m  Cell \u001b[1;32mIn[1], line 1\u001b[1;36m\u001b[0m\n\u001b[1;33m    Write a python function that takes a list as input and returns a list without duplicates. Remeber that order of all the elements should not change.\u001b[0m\n\u001b[1;37m          ^\u001b[0m\n\u001b[1;31mSyntaxError\u001b[0m\u001b[1;31m:\u001b[0m invalid syntax\n"
     ]
    }
   ],
   "source": [
    "Write a python function that takes a list as input and returns a list without duplicates. Remeber that order of all the elements should not change.\n",
    "\n",
    "input: [1,5,0,5,3,2,4,3,1]\n",
    "output: [1,5,0,3,2,4]"
   ]
  },
  {
   "cell_type": "code",
   "execution_count": null,
   "id": "8e371042",
   "metadata": {},
   "outputs": [],
   "source": [
    "eval(input())  # taking user input\n",
    "[int(x) for x in input().split(',')] # taking list and converting it to int and storing as list"
   ]
  },
  {
   "cell_type": "code",
   "execution_count": null,
   "id": "cc9a385c",
   "metadata": {},
   "outputs": [],
   "source": [
    "print('string',sep,end,flush)  # flush takes no arguments and returns None"
   ]
  },
  {
   "cell_type": "code",
   "execution_count": null,
   "id": "b1650015",
   "metadata": {},
   "outputs": [],
   "source": [
    "Class had dundar methods (__eq__)"
   ]
  },
  {
   "cell_type": "code",
   "execution_count": 2,
   "id": "2a6bb151",
   "metadata": {},
   "outputs": [
    {
     "ename": "TypeError",
     "evalue": "'str' object does not support item assignment",
     "output_type": "error",
     "traceback": [
      "\u001b[1;31m---------------------------------------------------------------------------\u001b[0m",
      "\u001b[1;31mTypeError\u001b[0m                                 Traceback (most recent call last)",
      "Cell \u001b[1;32mIn[2], line 2\u001b[0m\n\u001b[0;32m      1\u001b[0m var\u001b[38;5;241m=\u001b[39m\u001b[38;5;124m'\u001b[39m\u001b[38;5;124mpankaj\u001b[39m\u001b[38;5;124m'\u001b[39m\n\u001b[1;32m----> 2\u001b[0m var[\u001b[38;5;241m0\u001b[39m:\u001b[38;5;241m5\u001b[39m:\u001b[38;5;241m1\u001b[39m]\u001b[38;5;241m=\u001b[39m\u001b[38;5;124m'\u001b[39m\u001b[38;5;124mpanka\u001b[39m\u001b[38;5;124m'\u001b[39m\n",
      "\u001b[1;31mTypeError\u001b[0m: 'str' object does not support item assignment"
     ]
    }
   ],
   "source": [
    "var='pankaj'\n",
    "var[0:5:1]='panka'"
   ]
  },
  {
   "cell_type": "code",
   "execution_count": 4,
   "id": "357981be",
   "metadata": {},
   "outputs": [
    {
     "data": {
      "text/plain": [
       "''"
      ]
     },
     "execution_count": 4,
     "metadata": {},
     "output_type": "execute_result"
    }
   ],
   "source": [
    "var[-3:-1:-1]  # empty sting\n",
    "var[2:-1:-1]   # -1 goes into opposite direction"
   ]
  },
  {
   "cell_type": "code",
   "execution_count": 5,
   "id": "9f6797c1",
   "metadata": {},
   "outputs": [
    {
     "data": {
      "text/plain": [
       "'stra'"
      ]
     },
     "execution_count": 5,
     "metadata": {},
     "output_type": "execute_result"
    }
   ],
   "source": [
    "d1={'a':\"apple\",'b':\"kiwi\"}\n",
    "d2={'b':\"stra\",\"c\":\"banaana\"}\n",
    "d1.update(d2)\n",
    "d1[\"b\"]"
   ]
  },
  {
   "cell_type": "code",
   "execution_count": null,
   "id": "9a5824ab",
   "metadata": {},
   "outputs": [],
   "source": []
  },
  {
   "cell_type": "code",
   "execution_count": 10,
   "id": "5cda7d2c",
   "metadata": {},
   "outputs": [
    {
     "name": "stdout",
     "output_type": "stream",
     "text": [
      "11\n",
      "11\n"
     ]
    }
   ],
   "source": [
    "def fi():  \n",
    "    x=10\n",
    "    def fun():\n",
    "        nonlocal x\n",
    "        print(x)\n",
    "        x=x+1\n",
    "    fun()\n",
    "    print(x)\n",
    "fi()"
   ]
  },
  {
   "cell_type": "code",
   "execution_count": null,
   "id": "68704263",
   "metadata": {},
   "outputs": [],
   "source": []
  }
 ],
 "metadata": {
  "kernelspec": {
   "display_name": "Python 3 (ipykernel)",
   "language": "python",
   "name": "python3"
  },
  "language_info": {
   "codemirror_mode": {
    "name": "ipython",
    "version": 3
   },
   "file_extension": ".py",
   "mimetype": "text/x-python",
   "name": "python",
   "nbconvert_exporter": "python",
   "pygments_lexer": "ipython3",
   "version": "3.11.4"
  }
 },
 "nbformat": 4,
 "nbformat_minor": 5
}
