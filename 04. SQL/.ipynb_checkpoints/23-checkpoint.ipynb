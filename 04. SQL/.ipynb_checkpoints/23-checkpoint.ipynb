{
 "cells": [
  {
   "cell_type": "code",
   "execution_count": null,
   "id": "87623f4b",
   "metadata": {},
   "outputs": [],
   "source": [
    "select name, email, phone_number\n",
    "from authors\n",
    "union\n",
    "select name, email, phone_number\n",
    "from editors\n",
    "\n",
    "\n",
    "\n",
    "#The MySQL UNION ALL operator is used to combine the result sets of 2 or more SELECT statements. It returns all rows from the query and it does not remove duplicate rows between the various SELECT statements.\n",
    "SELECT supplier_id\n",
    "FROM suppliers\n",
    "UNION ALL\n",
    "SELECT supplier_id\n",
    "FROM orders;\n",
    "\n",
    "\n",
    "right same as left\n",
    "\n",
    "FULL JOIN/full outer join  == left+right(the values not matched in left and right prints one after another)\n",
    "\n",
    "cross join"
   ]
  },
  {
   "cell_type": "code",
   "execution_count": null,
   "id": "d7fe9d7a",
   "metadata": {},
   "outputs": [],
   "source": [
    "inner join- from 2 tables on condition which are same those rows only prints\n",
    "\n",
    "SELECT Orders.OrderID, Customers.CustomerName, Orders.OrderDate\n",
    "FROM Orders\n",
    "INNER JOIN Customers \n",
    "ON Orders.CustomerID=Customers.CustomerID;"
   ]
  },
  {
   "cell_type": "code",
   "execution_count": null,
   "id": "f5cbb21a",
   "metadata": {},
   "outputs": [],
   "source": [
    "left join - on condition which are same it prints like select  name , column ....\n",
    "name from t1 and column from t2 on condtion only 5 of 10 column rows match then name will entirely prints but column only 5 remaining as null\n",
    "\n",
    "SELECT column_name(s)\n",
    "FROM table1\n",
    "LEFT JOIN table2\n",
    "ON table1.column_name = table2.column_name;"
   ]
  },
  {
   "cell_type": "code",
   "execution_count": null,
   "id": "a091b3fe",
   "metadata": {},
   "outputs": [],
   "source": [
    "right join --here entire right prints and on condtion which are same of left those prints remaining print as null\n",
    "\n",
    "SELECT column_name(s)\n",
    "FROM table1\n",
    "RIGHT JOIN table2\n",
    "ON table1.column_name = table2.column_name;"
   ]
  },
  {
   "cell_type": "code",
   "execution_count": null,
   "id": "306f1a88",
   "metadata": {},
   "outputs": [],
   "source": [
    "FULL JOIN or FULL OUTER JOIN keyword is used to select all records from the left table and right table. It combines both tables into\n",
    "\n",
    "SELECT column_name(s)\n",
    "FROM table1\n",
    "FULL JOIN table2\n",
    "ON table1.column_name = table2.column_name;"
   ]
  },
  {
   "cell_type": "code",
   "execution_count": null,
   "id": "96b0feb3",
   "metadata": {},
   "outputs": [],
   "source": [
    "CROSS JOIN is used to combine each row of the first table with each row of the second table.\n",
    "\n",
    "SELECT Customers.CustomerName, Orders.OrderID\n",
    "FROM Customers\n",
    "CROSS JOIN Orders\n",
    "WHERE Customers.CustomerID=Orders.CustomerID;"
   ]
  },
  {
   "cell_type": "code",
   "execution_count": null,
   "id": "67bbd40d",
   "metadata": {},
   "outputs": [],
   "source": []
  }
 ],
 "metadata": {
  "kernelspec": {
   "display_name": "Python 3 (ipykernel)",
   "language": "python",
   "name": "python3"
  },
  "language_info": {
   "codemirror_mode": {
    "name": "ipython",
    "version": 3
   },
   "file_extension": ".py",
   "mimetype": "text/x-python",
   "name": "python",
   "nbconvert_exporter": "python",
   "pygments_lexer": "ipython3",
   "version": "3.9.13"
  }
 },
 "nbformat": 4,
 "nbformat_minor": 5
}
