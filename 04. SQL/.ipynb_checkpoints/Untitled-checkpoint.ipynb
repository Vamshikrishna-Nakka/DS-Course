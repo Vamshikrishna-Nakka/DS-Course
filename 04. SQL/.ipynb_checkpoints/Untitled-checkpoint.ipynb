{
 "cells": [
  {
   "cell_type": "code",
   "execution_count": null,
   "id": "d337ab7f",
   "metadata": {},
   "outputs": [],
   "source": [
    "Aggregate functions\n",
    "AVG() – returns the average of a set.\n",
    "COUNT() – returns the number of items in a set.\n",
    "MAX() – returns the maximum value in a set.\n",
    "MIN() – returns the minimum value in a set\n",
    "SUM() – returns the sum of all or distinct values in a set.\n",
    "Except for the COUNT() function, SQL aggregate functions ignore null."
   ]
  },
  {
   "cell_type": "code",
   "execution_count": null,
   "id": "2ee1b429",
   "metadata": {},
   "outputs": [],
   "source": [
    "SELECT\n",
    "    Lastname,\n",
    "    X*Y as Z\n",
    "FROM\n",
    "    customers\n",
    "ORDER BY\n",
    "    Lastname DESC,\n",
    "    Z ASC;\n",
    "SELECT\n",
    "    orderNumber, status\n",
    "FROM\n",
    "    orders\n",
    "ORDER BY FIELD(status,\n",
    "        'In Process',\n",
    "        'On Hold',\n",
    "        'Cancelled',\n",
    "        'Resolved',\n",
    "        'Disputed',\n",
    "        'Shipped');"
   ]
  }
 ],
 "metadata": {
  "kernelspec": {
   "display_name": "Python 3 (ipykernel)",
   "language": "python",
   "name": "python3"
  },
  "language_info": {
   "codemirror_mode": {
    "name": "ipython",
    "version": 3
   },
   "file_extension": ".py",
   "mimetype": "text/x-python",
   "name": "python",
   "nbconvert_exporter": "python",
   "pygments_lexer": "ipython3",
   "version": "3.9.12"
  }
 },
 "nbformat": 4,
 "nbformat_minor": 5
}
