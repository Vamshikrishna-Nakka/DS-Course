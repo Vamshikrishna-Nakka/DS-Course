{
 "cells": [
  {
   "cell_type": "code",
   "execution_count": null,
   "id": "3273fd84",
   "metadata": {},
   "outputs": [],
   "source": [
    "#show databases"
   ]
  },
  {
   "cell_type": "code",
   "execution_count": null,
   "id": "5883cfdf",
   "metadata": {},
   "outputs": [],
   "source": [
    "# create database db;\n",
    "# CREATE DATABASE IF NOT EXISTS Baseball;"
   ]
  },
  {
   "cell_type": "code",
   "execution_count": null,
   "id": "b23067d9",
   "metadata": {},
   "outputs": [],
   "source": [
    "# Backup database db to disk =’filepath’;\n",
    "# Backup database db to disk=’filepath’ with differential;"
   ]
  },
  {
   "cell_type": "code",
   "execution_count": null,
   "id": "98bb8bef",
   "metadata": {},
   "outputs": [],
   "source": [
    "# use db;"
   ]
  },
  {
   "cell_type": "code",
   "execution_count": null,
   "id": "977d209a",
   "metadata": {},
   "outputs": [],
   "source": [
    "# Drop database db;\n",
    "# DROP DATABASE IF EXISTS Baseball;"
   ]
  },
  {
   "cell_type": "code",
   "execution_count": null,
   "id": "9b95f9f8",
   "metadata": {},
   "outputs": [],
   "source": [
    "# CREATE TABLE some_table;\n",
    "\n",
    "# create table tutorials_tbl(\n",
    "#    tid INT NOT NULL AUTO_INCREMENT,\n",
    "#    title VARCHAR(100) NOT NULL,\n",
    "#    sdate DATE,\n",
    "#    PRIMARY KEY ( tid )\n",
    "# );"
   ]
  },
  {
   "cell_type": "code",
   "execution_count": null,
   "id": "4dd4b9de",
   "metadata": {},
   "outputs": [],
   "source": [
    "# show tables;"
   ]
  },
  {
   "cell_type": "code",
   "execution_count": null,
   "id": "b56c3c28",
   "metadata": {},
   "outputs": [],
   "source": [
    "# use tname;"
   ]
  },
  {
   "cell_type": "code",
   "execution_count": null,
   "id": "ced2bdae",
   "metadata": {},
   "outputs": [],
   "source": [
    "INSERT INTO tname(title)\n",
    "VALUES(‘vamshi’),(’krishna’);\n",
    "                                       # column by column\n",
    "INSERT INTO tname(title2)\n",
    "VALUES(‘vamshi’),(’krishna’);"
   ]
  },
  {
   "cell_type": "code",
   "execution_count": 1,
   "id": "288aa0e7",
   "metadata": {},
   "outputs": [
    {
     "ename": "SyntaxError",
     "evalue": "invalid syntax (Temp/ipykernel_7276/844790497.py, line 2)",
     "output_type": "error",
     "traceback": [
      "\u001b[1;36m  File \u001b[1;32m\"C:\\Users\\nakka\\AppData\\Local\\Temp/ipykernel_7276/844790497.py\"\u001b[1;36m, line \u001b[1;32m2\u001b[0m\n\u001b[1;33m    INSERT INTO department VALUES (1,'Neha','F','1994-06-03');\u001b[0m\n\u001b[1;37m           ^\u001b[0m\n\u001b[1;31mSyntaxError\u001b[0m\u001b[1;31m:\u001b[0m invalid syntax\n"
     ]
    }
   ],
   "source": [
    "#single single row\n",
    "INSERT INTO department VALUES (1,'Neha','F','1994-06-03');\n",
    "\n",
    "#multiple rows\n",
    "INSERT INTO `my_table` (`field_1`, `field_2`) VALUES\n",
    "('data_1', 'data_2'),\n",
    "('data_1', 'data_3'),\n",
    "('data_4', 'data_5');"
   ]
  },
  {
   "cell_type": "markdown",
   "id": "1ca9aab4",
   "metadata": {},
   "source": [
    "## Querying data"
   ]
  },
  {
   "cell_type": "code",
   "execution_count": null,
   "id": "549cf5cc",
   "metadata": {},
   "outputs": [],
   "source": [
    "# Select from\n",
    "SELECT \n",
    "    lastName, \n",
    "    firstName, \n",
    "FROM\n",
    "    employees;"
   ]
  },
  {
   "cell_type": "code",
   "execution_count": null,
   "id": "cba02262",
   "metadata": {},
   "outputs": [],
   "source": [
    "# MySQL doesn’t require the FROM clause. It means that you can have a SELECT statement without the FROM clause like this:\n",
    "\n",
    "SELECT select_list;\n",
    "SELECT 1 + 1; \n",
    "SELECT NOW(); #time\n",
    "SELECT CONCAT('John',' ','Doe');"
   ]
  },
  {
   "cell_type": "code",
   "execution_count": null,
   "id": "3747cf51",
   "metadata": {},
   "outputs": [],
   "source": [
    "#dual table is a dummy table, not an actual table.\n",
    "SELECT select_list\n",
    "FROM dual;"
   ]
  },
  {
   "cell_type": "code",
   "execution_count": 2,
   "id": "920408ae",
   "metadata": {},
   "outputs": [
    {
     "ename": "SyntaxError",
     "evalue": "invalid syntax (Temp/ipykernel_7276/2512728920.py, line 1)",
     "output_type": "error",
     "traceback": [
      "\u001b[1;36m  File \u001b[1;32m\"C:\\Users\\nakka\\AppData\\Local\\Temp/ipykernel_7276/2512728920.py\"\u001b[1;36m, line \u001b[1;32m1\u001b[0m\n\u001b[1;33m    SELECT * INTO New_table_name FROM old_table_name;     #copy\u001b[0m\n\u001b[1;37m                  ^\u001b[0m\n\u001b[1;31mSyntaxError\u001b[0m\u001b[1;31m:\u001b[0m invalid syntax\n"
     ]
    }
   ],
   "source": [
    "SELECT * INTO New_table_name FROM old_table_name;     #copy"
   ]
  },
  {
   "cell_type": "code",
   "execution_count": null,
   "id": "58fa66d6",
   "metadata": {},
   "outputs": [],
   "source": [
    "#Alias\n",
    "SELECT expression AS column_alias;\n",
    "SELECT expression column_alias;\n",
    "SELECT CONCAT('John',' ','Doe') AS name;"
   ]
  },
  {
   "cell_type": "markdown",
   "id": "571cabfb",
   "metadata": {},
   "source": [
    "## Sorting data"
   ]
  },
  {
   "cell_type": "code",
   "execution_count": null,
   "id": "35f53925",
   "metadata": {},
   "outputs": [],
   "source": [
    "#Order by\n",
    "Select * from tname order by c1, c2;\n",
    "Select * from tname order by country desc;\n",
    "Select * from tname order by country asc, customername desc;\n",
    "Select * from tname order by (c1,c2) Asc;              #need to test"
   ]
  },
  {
   "cell_type": "code",
   "execution_count": null,
   "id": "a1a73db5",
   "metadata": {},
   "outputs": [],
   "source": [
    "# LIMIT [offset,] row_count;     ---  if there is only 1 number then that is rowcount  from 0 to rowcount\n",
    "\n",
    "Select * from tname limit 3;  #retrives only top 3 rows from database.\n",
    "\n",
    "SELECT * FROM users ORDER BY id ASC LIMIT 2\n",
    "\n",
    "SELECT *\n",
    "FROM Customers\n",
    "ORDER BY CustomerID\n",
    "LIMIT 3;   #Always use ORDER BY when using LIMIT; otherwise the rows you will get will be unpredictable.\n",
    "\n",
    "SELECT *\n",
    "FROM Customers\n",
    "ORDER BY CustomerID\n",
    "LIMIT 4,3; # from 4th row to 4+3 = 7th row the 4,7 middle data will retreived"
   ]
  },
  {
   "cell_type": "markdown",
   "id": "cb8ee81e",
   "metadata": {},
   "source": [
    "## Filtering data"
   ]
  },
  {
   "cell_type": "code",
   "execution_count": null,
   "id": "9023b766",
   "metadata": {},
   "outputs": [],
   "source": [
    "#Describe\n",
    "\n",
    "Describe tname;  #Show all the fields of a table\n",
    "Desc tname; # only feilds it will print no dataa\n",
    "DESCRIBE databaseName.tableName;"
   ]
  },
  {
   "cell_type": "code",
   "execution_count": null,
   "id": "3dae8aee",
   "metadata": {},
   "outputs": [],
   "source": [
    "#where\n",
    "Select * from tname where cid =1;\n",
    "select * from tname where cname=’vamshi’;\n",
    "\n",
    "SELECT \n",
    "    lastName, \n",
    "    firstName, \n",
    "    jobTitle, \n",
    "    officeCode\n",
    "FROM\n",
    "    employees\n",
    "WHERE\n",
    "    jobtitle = 'Sales Rep' OR \n",
    "    officeCode = 1\n",
    "ORDER BY \n",
    "    officeCode , \n",
    "    jobTitle;"
   ]
  },
  {
   "cell_type": "code",
   "execution_count": null,
   "id": "63f93df3",
   "metadata": {},
   "outputs": [],
   "source": [
    "#IN\n",
    "SELECT \n",
    "    firstName, \n",
    "    lastName, \n",
    "    officeCod\n",
    "FROM\n",
    "    employees\n",
    "WHERE\n",
    "    officeCode IN (1 , 2, 3)\n",
    "ORDER BY \n",
    "    officeCode;\n",
    "    \n",
    "#IS NULL\n",
    "SELECT \n",
    "    lastName, \n",
    "    firstName, \n",
    "    reportsTo\n",
    "FROM\n",
    "    employees\n",
    "WHERE\n",
    "    reportsTo IS NULL;"
   ]
  },
  {
   "cell_type": "code",
   "execution_count": null,
   "id": "bde9d062",
   "metadata": {},
   "outputs": [],
   "source": [
    "SELECT \n",
    "    lastname, \n",
    "    firstname, \n",
    "    jobtitle\n",
    "FROM\n",
    "    employees\n",
    "WHERE\n",
    "    jobtitle <> 'Sales Rep';\n",
    "    \n",
    "#Operators\n",
    "=\tEqual to. You can use it with almost any data type.\n",
    "<> or !=\tNot equal to\n",
    "<\tLess than. You typically use it with numeric and date/time data types.\n",
    ">\tGreater than.\n",
    "<=\tLess than or equal to\n",
    ">=\tGreater than or equal to"
   ]
  },
  {
   "cell_type": "code",
   "execution_count": null,
   "id": "7117432e",
   "metadata": {},
   "outputs": [],
   "source": [
    "#Like & wild cards\n",
    "%  n no. of character     \n",
    "_  single character\n",
    "\n",
    "‘%a’;                    #end with a           \n",
    "‘%po%’                   #between po should   there                                                                 \n",
    "‘_a%’ ;                  #second letter should be a                                                \n",
    "‘b__t’;                  #in middle b and t any 2 character should be there.\n",
    "\n",
    "Select * from tname where cname like ‘a%’;    #finds name starts with a \n",
    "\n",
    "\n",
    "#[Charset]%   [!Charset]%\n",
    "\n",
    "‘[p-r]%’                             #starting with p,q,r     \n",
    "‘[bsp]%’                             #starting with b,s,p\n",
    "‘[!p-r]%’                            #not start with p,q,r \n",
    "‘[!bsp]%’                            #not start with b,s,p   \n",
    "h[^oa]t                              #not should be hot ,hat any other\n",
    "\n",
    "Select * from tname where country not like ‘[bsp]%’ "
   ]
  },
  {
   "cell_type": "code",
   "execution_count": null,
   "id": "5ace15ad",
   "metadata": {},
   "outputs": [],
   "source": [
    "#Distict\n"
   ]
  },
  {
   "cell_type": "code",
   "execution_count": null,
   "id": "8a301c2d",
   "metadata": {},
   "outputs": [],
   "source": []
  },
  {
   "cell_type": "code",
   "execution_count": null,
   "id": "71173156",
   "metadata": {},
   "outputs": [],
   "source": []
  },
  {
   "cell_type": "code",
   "execution_count": null,
   "id": "d32e6935",
   "metadata": {},
   "outputs": [],
   "source": [
    "Drop table tname; #DROP command deletes the data of the table as well as removes the entire structure."
   ]
  },
  {
   "cell_type": "code",
   "execution_count": null,
   "id": "95b6f667",
   "metadata": {},
   "outputs": [],
   "source": [
    "Truncate table tname;#TRUNCATE which only deletes the data of the tables "
   ]
  },
  {
   "cell_type": "code",
   "execution_count": null,
   "id": "39207e42",
   "metadata": {},
   "outputs": [],
   "source": [
    "#Delete\n",
    "Delete from tname where cname=value;      #for deleting rows\n",
    "Delete * from tname ; or delete from tname;"
   ]
  },
  {
   "cell_type": "code",
   "execution_count": null,
   "id": "9c2561dc",
   "metadata": {},
   "outputs": [],
   "source": [
    "SELECT st.name,st.percentage,\n",
    "CASE \n",
    "    WHEN st.percentage >= 35 THEN 'Pass' ELSE 'Fail' \n",
    "END AS `Remark`\n",
    "FROM student AS st ;\n",
    "\n",
    "#or\n",
    "\n",
    "SELECT st.name,st.percentage,\n",
    "IF(st.percentage >= 35, 'Pass', 'Fail') AS `Remark`\n",
    "FROM student \n",
    "AS st ;\n",
    "\n",
    "SELECT OrderID, Quantity,\n",
    "CASE\n",
    "    WHEN Quantity > 30 THEN \"The quantity is greater than 30\"\n",
    "    WHEN Quantity = 30 THEN \"The quantity is 30\"\n",
    "    ELSE \"The quantity is under 30\"\n",
    "END\n",
    "FROM OrderDetails;"
   ]
  },
  {
   "cell_type": "code",
   "execution_count": null,
   "id": "b6b230aa",
   "metadata": {},
   "outputs": [],
   "source": [
    "#Distinct\n",
    "Select * from tname;\n",
    "Select distinct * from tname\n",
    "Select c1,c2 from tname;\n",
    "Select distinct c1,c2 from tname;"
   ]
  },
  {
   "cell_type": "markdown",
   "id": "e8dca99a",
   "metadata": {},
   "source": [
    "### And , or , not"
   ]
  },
  {
   "cell_type": "code",
   "execution_count": 4,
   "id": "016b9f82",
   "metadata": {},
   "outputs": [
    {
     "ename": "SyntaxError",
     "evalue": "invalid syntax (Temp/ipykernel_7276/4163674119.py, line 1)",
     "output_type": "error",
     "traceback": [
      "\u001b[1;36m  File \u001b[1;32m\"C:\\Users\\nakka\\AppData\\Local\\Temp/ipykernel_7276/4163674119.py\"\u001b[1;36m, line \u001b[1;32m1\u001b[0m\n\u001b[1;33m    Select c1,c2 from tname where c1=’vamshikrishna’ and c2 =’nakka’;\u001b[0m\n\u001b[1;37m           ^\u001b[0m\n\u001b[1;31mSyntaxError\u001b[0m\u001b[1;31m:\u001b[0m invalid syntax\n"
     ]
    }
   ],
   "source": [
    "Select c1,c2 from tname where c1=’vamshikrishna’ and c2 =’nakka’;\n",
    "Select c1,c2 from tname where c1=’vamshikrishna’ or c2 =’nakka’;\n",
    "Select c1,c2 from tname where not c1=’vamshikrishna’ ;"
   ]
  },
  {
   "cell_type": "markdown",
   "id": "e8b6843c",
   "metadata": {},
   "source": [
    "### between , not between"
   ]
  },
  {
   "cell_type": "code",
   "execution_count": null,
   "id": "899c5e6b",
   "metadata": {},
   "outputs": [],
   "source": [
    "select * from tname where cname between 10 and 20;\n",
    "select * from tname where cname not between 10 and 20;\n",
    "\n",
    "#WHERE id NOT BETWEEN 10 and 20 is the same asWHERE (id < 10 OR id > 20)."
   ]
  },
  {
   "cell_type": "markdown",
   "id": "dafe769f",
   "metadata": {},
   "source": [
    "### Is null , is not null: "
   ]
  },
  {
   "cell_type": "code",
   "execution_count": 5,
   "id": "0ddb18d7",
   "metadata": {},
   "outputs": [
    {
     "ename": "SyntaxError",
     "evalue": "invalid syntax (Temp/ipykernel_7276/3650342471.py, line 1)",
     "output_type": "error",
     "traceback": [
      "\u001b[1;36m  File \u001b[1;32m\"C:\\Users\\nakka\\AppData\\Local\\Temp/ipykernel_7276/3650342471.py\"\u001b[1;36m, line \u001b[1;32m1\u001b[0m\n\u001b[1;33m    Select c1,c2 from tname where c3 is null;\u001b[0m\n\u001b[1;37m           ^\u001b[0m\n\u001b[1;31mSyntaxError\u001b[0m\u001b[1;31m:\u001b[0m invalid syntax\n"
     ]
    }
   ],
   "source": [
    "Select c1,c2 from tname where c3 is null;\n",
    "Select c1,c2 from tname where c3 is not null;"
   ]
  },
  {
   "cell_type": "markdown",
   "id": "c5ef57b2",
   "metadata": {},
   "source": [
    "### Alter "
   ]
  },
  {
   "cell_type": "code",
   "execution_count": null,
   "id": "cfdffcab",
   "metadata": {},
   "outputs": [],
   "source": [
    "Alter table tname rename to newtname;\n",
    "Alter table tname add(cn datatype);\n",
    "Alter table tname add cname datatype;\n",
    "Alter table tname drop(cn); \n",
    "Alter table tname drop column cname;\n",
    "Alter table tname change oldname to newname;                 #mysql\n",
    "Alter table tname modify cname datatype;                    #for changing column datatype\n",
    "Alter table tname modify(primary key(eid));\n",
    "Alter table tname drop (primary key);"
   ]
  },
  {
   "cell_type": "markdown",
   "id": "99ee88b3",
   "metadata": {},
   "source": [
    "### Update"
   ]
  },
  {
   "cell_type": "code",
   "execution_count": 6,
   "id": "40f25f46",
   "metadata": {},
   "outputs": [
    {
     "ename": "SyntaxError",
     "evalue": "invalid syntax (Temp/ipykernel_7276/1990712355.py, line 3)",
     "output_type": "error",
     "traceback": [
      "\u001b[1;36m  File \u001b[1;32m\"C:\\Users\\nakka\\AppData\\Local\\Temp/ipykernel_7276/1990712355.py\"\u001b[1;36m, line \u001b[1;32m3\u001b[0m\n\u001b[1;33m    Update tname set c1=v1 where c2=v2;   #warning: be care if we miss where clause total table will update\u001b[0m\n\u001b[1;37m           ^\u001b[0m\n\u001b[1;31mSyntaxError\u001b[0m\u001b[1;31m:\u001b[0m invalid syntax\n"
     ]
    }
   ],
   "source": [
    "#used to modify the existing records in a table\n",
    "\n",
    "Update tname set c1=v1 where c2=v2;   #warning: be care if we miss where clause total table will update\n",
    "UPDATE mytable SET username=\"myuser\" WHERE id=8"
   ]
  },
  {
   "cell_type": "markdown",
   "id": "f413b212",
   "metadata": {},
   "source": [
    "### IN ,not In "
   ]
  },
  {
   "cell_type": "code",
   "execution_count": 7,
   "id": "909d049a",
   "metadata": {},
   "outputs": [
    {
     "ename": "SyntaxError",
     "evalue": "invalid syntax (Temp/ipykernel_7276/2322106299.py, line 1)",
     "output_type": "error",
     "traceback": [
      "\u001b[1;36m  File \u001b[1;32m\"C:\\Users\\nakka\\AppData\\Local\\Temp/ipykernel_7276/2322106299.py\"\u001b[1;36m, line \u001b[1;32m1\u001b[0m\n\u001b[1;33m    Select * from tname where country in(‘india’,’pak’,’eng’);\u001b[0m\n\u001b[1;37m             ^\u001b[0m\n\u001b[1;31mSyntaxError\u001b[0m\u001b[1;31m:\u001b[0m invalid syntax\n"
     ]
    }
   ],
   "source": [
    "Select * from tname where country in(‘india’,’pak’,’eng’);\n",
    "Select * from tname where country not in(‘india’,’pak’,’eng’);\n",
    "Select * from tname where country in ( select country from t2name);"
   ]
  },
  {
   "cell_type": "markdown",
   "id": "28879b38",
   "metadata": {},
   "source": [
    "### Group by, Having"
   ]
  },
  {
   "cell_type": "code",
   "execution_count": 1,
   "id": "60426abe",
   "metadata": {},
   "outputs": [
    {
     "ename": "SyntaxError",
     "evalue": "invalid syntax (Temp/ipykernel_12304/1357574038.py, line 1)",
     "output_type": "error",
     "traceback": [
      "\u001b[1;36m  File \u001b[1;32m\"C:\\Users\\nakka\\AppData\\Local\\Temp/ipykernel_12304/1357574038.py\"\u001b[1;36m, line \u001b[1;32m1\u001b[0m\n\u001b[1;33m    SELECT department, COUNT(*) AS \"Man_Power\"\u001b[0m\n\u001b[1;37m           ^\u001b[0m\n\u001b[1;31mSyntaxError\u001b[0m\u001b[1;31m:\u001b[0m invalid syntax\n"
     ]
    }
   ],
   "source": [
    "#We know that WHERE clause is used to place conditions on columns but what if we want to place conditions on groups?\n",
    "\n",
    "SELECT SUBJECT, YEAR, Count(*)\n",
    "FROM Student\n",
    "GROUP BY SUBJECT, YEAR;\n",
    "\n",
    "\n",
    "SELECT department, COUNT(*) AS \"Man_Power\"\n",
    "FROM employees\n",
    "GROUP BY department\n",
    "HAVING COUNT(*) >= 10;\n",
    "\n",
    "\n",
    "SELECT NAME, SUM(SALARY) FROM Employee \n",
    "GROUP BY NAME\n",
    "HAVING SUM(SALARY)>3000; "
   ]
  },
  {
   "cell_type": "code",
   "execution_count": null,
   "id": "c3f3f98d",
   "metadata": {},
   "outputs": [],
   "source": [
    "Aggregate functions\n",
    "AVG() – returns the average of a set.\n",
    "COUNT() – returns the number of items in a set.\n",
    "MAX() – returns the maximum value in a set.\n",
    "MIN() – returns the minimum value in a set\n",
    "SUM() – returns the sum of all or distinct values in a set.\n",
    "Except for the COUNT() function, SQL aggregate functions ignore null."
   ]
  },
  {
   "cell_type": "code",
   "execution_count": null,
   "id": "51f1f432",
   "metadata": {},
   "outputs": [],
   "source": []
  },
  {
   "cell_type": "code",
   "execution_count": null,
   "id": "e22361b8",
   "metadata": {},
   "outputs": [],
   "source": []
  }
 ],
 "metadata": {
  "kernelspec": {
   "display_name": "Python 3 (ipykernel)",
   "language": "python",
   "name": "python3"
  },
  "language_info": {
   "codemirror_mode": {
    "name": "ipython",
    "version": 3
   },
   "file_extension": ".py",
   "mimetype": "text/x-python",
   "name": "python",
   "nbconvert_exporter": "python",
   "pygments_lexer": "ipython3",
   "version": "3.9.13"
  }
 },
 "nbformat": 4,
 "nbformat_minor": 5
}
