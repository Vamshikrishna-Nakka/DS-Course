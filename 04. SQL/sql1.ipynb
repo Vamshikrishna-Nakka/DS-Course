{
 "cells": [
  {
   "cell_type": "code",
   "execution_count": 4,
   "id": "2b7320e4",
   "metadata": {},
   "outputs": [],
   "source": [
    "#Sql is not a case sensitive"
   ]
  },
  {
   "cell_type": "code",
   "execution_count": 5,
   "id": "afc79c78",
   "metadata": {},
   "outputs": [],
   "source": [
    "# Data Definition Language: CREATE,ALTER,DROP,TRUNCATE\n",
    "# Data Manipulation Language: INSERT,UPDATE,DELETE\n",
    "# Data Control Language : Grant, Revoke\n",
    "# Transaction Control Language:COMMIT,ROLLBACK,SAVEPOINT\n",
    "# Data Query Language: SELECT"
   ]
  },
  {
   "cell_type": "code",
   "execution_count": 6,
   "id": "d258e746",
   "metadata": {},
   "outputs": [],
   "source": [
    "# SQL - sql with tables (vertical scalable) \n",
    "#NO SQL - with documents(horizontal scalable) like Json,graph et.,"
   ]
  },
  {
   "cell_type": "code",
   "execution_count": 7,
   "id": "26119d2b",
   "metadata": {},
   "outputs": [],
   "source": [
    "# tuple or Row and record  -- row data\n",
    "#Fields and columns are different, a field is the intersection of a row and a column."
   ]
  },
  {
   "cell_type": "code",
   "execution_count": 8,
   "id": "1fa9ebdb",
   "metadata": {},
   "outputs": [],
   "source": [
    "# Schema: overall design of database is schema of db\n",
    "# physical schema\n",
    "# logical schema"
   ]
  },
  {
   "cell_type": "code",
   "execution_count": null,
   "id": "82b6f88f",
   "metadata": {},
   "outputs": [],
   "source": [
    "# Keys(constraints)\n",
    "\n",
    "# Primary key : unique of a table\n",
    "# Foreign key : to make a relation with other table which as primary will assign foreign to current table.\n",
    "\n",
    "# Single primary and more than one foreign keys allowed in a table.\n",
    "\n",
    "#A foreign key with cascade delete means that if a record in the parent table is deleted, then the corresponding records in the child table will automatically be deleted. This is called a cascade delete in SQL Server."
   ]
  },
  {
   "cell_type": "code",
   "execution_count": 9,
   "id": "88233467",
   "metadata": {},
   "outputs": [],
   "source": [
    "# Super Key: Super key is a set of over one key that can identify a record uniquely in a table, and the Primary Key is a \n",
    "                   #subset of Super Key.\n",
    "# Candidate Key:A candidate key is a set of one or more columns that can identify a record uniquely in a table.\n",
    "           #YOU can use each candidate key as a Primary Key. A candidate key is a subset of a super key.\n",
    "    \n",
    "# The UNIQUE constraint for unique ness not allowing duplicates\n",
    "# Both the UNIQUE and PRIMARY KEY constraints provide a guarantee for uniqueness for a column or set of columns.\n",
    "# A PRIMARY KEY constraint automatically has a UNIQUE constraint."
   ]
  },
  {
   "cell_type": "code",
   "execution_count": 10,
   "id": "4faf3dce",
   "metadata": {},
   "outputs": [],
   "source": [
    "# ER model(Entity relation)\n",
    "\n",
    "# -Entity\n",
    "# -Attribute\n",
    "# -Relationship"
   ]
  },
  {
   "cell_type": "code",
   "execution_count": 11,
   "id": "01eff89c",
   "metadata": {},
   "outputs": [],
   "source": [
    "# Normalization is the process to eliminate data redundancy and enhance data integrity in the table.\n",
    "\n",
    "# 1st Normal Form (1NF) : means if atomicity of the table is 1.\n",
    "#         - Each table cell should contain a single value.\n",
    "#         - Each record needs to be unique.\n",
    "        \n",
    "# 2st Normal Form (2NF):\n",
    "#     Rule 1- Be in 1NF\n",
    "#     Rule 2- Single Column Primary Key that does not functionally dependant on any subset of candidate key relation\n",
    "    \n",
    "# 3st Normal Form (3NF):\n",
    "#     Rule 1- Be in 2NF\n",
    "#     Rule 2- Has no transitive functional dependencies\n",
    " \n",
    "# Boyce Codd Normal Form:\n",
    "    \n",
    "#     Even when a database is in 3rd Normal Form, still there would be anomalies resulted if it has more than one Candidate \n",
    "#     Key. Sometimes is BCNF is also referred as 3.5 Normal Form."
   ]
  },
  {
   "cell_type": "code",
   "execution_count": null,
   "id": "765cbc1f",
   "metadata": {},
   "outputs": [],
   "source": [
    "# What is a transaction?\n",
    "# In the context of databases and data storage systems, a transaction is any operation that is treated as a single unit of \n",
    "# work, which either completes fully or does not complete at all, and leaves the storage system in a consistent state. The \n",
    "# classic example of a transaction is what occurs when you withdraw money from your bank account. Either the money has left \n",
    "# your bank account, or it has not — there cannot be an in-between state.\n",
    "\n",
    "# A.C.I.D. properties: Atomicity, Consistency, Isolation, and Durability\n",
    "\n",
    "# Atomicity - each statement in a transaction (to read, write, update or delete data) is treated as a single unit. Either the\n",
    "# entire statement is executed, or none of it is executed. This property prevents data loss and corruption from occurring if,\n",
    "# for example, if your streaming data source fails mid-stream.\n",
    "\n",
    "# Consistency -ensures that transactions only make changes to tables in predefined, predictable ways.Transactional consistency\n",
    "# ensures that corruption or errors in your data do not create unintended consequences for the integrity of your table.\n",
    "\n",
    "# Isolation - when multiple users are reading and writing from the same table all at once, isolation of their transactions \n",
    "# ensures that the concurrent transactions don’t interfere with or affect one another. Each request can occur as though they\n",
    "# were occurring one by one, even though they're actually occurring simultaneously.\n",
    "\n",
    "# Durability - ensures that changes to your data made by successfully executed transactions will be saved, even in the event \n",
    "# of system failure.\n",
    "\n",
    "# Why are ACID transactions a good thing to have?\n",
    "# ACID transactions ensure the highest possible data reliability and integrity. They ensure that your data never falls into \n",
    "# an inconsistent state because of an operation that only partially completes. For example, without ACID transactions, if you\n",
    "# were writing some data to a database table, but the power went out unexpectedly, it's possible that only some of your data \n",
    "# would have been saved, while some of it would not. Now your database is in an inconsistent state that is very difficult and\n",
    "# time-consuming to recover from.\n"
   ]
  },
  {
   "cell_type": "code",
   "execution_count": null,
   "id": "745d8bda",
   "metadata": {},
   "outputs": [],
   "source": []
  },
  {
   "cell_type": "code",
   "execution_count": null,
   "id": "487189a9",
   "metadata": {},
   "outputs": [],
   "source": []
  }
 ],
 "metadata": {
  "kernelspec": {
   "display_name": "Python 3 (ipykernel)",
   "language": "python",
   "name": "python3"
  },
  "language_info": {
   "codemirror_mode": {
    "name": "ipython",
    "version": 3
   },
   "file_extension": ".py",
   "mimetype": "text/x-python",
   "name": "python",
   "nbconvert_exporter": "python",
   "pygments_lexer": "ipython3",
   "version": "3.10.9"
  }
 },
 "nbformat": 4,
 "nbformat_minor": 5
}
