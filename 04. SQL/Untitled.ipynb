{
 "cells": [
  {
   "cell_type": "code",
   "execution_count": null,
   "id": "d337ab7f",
   "metadata": {},
   "outputs": [],
   "source": [
    "Aggregate functions\n",
    "AVG() – returns the average of a set.\n",
    "COUNT() – returns the number of items in a set.\n",
    "MAX() – returns the maximum value in a set.\n",
    "MIN() – returns the minimum value in a set\n",
    "SUM() – returns the sum of all or distinct values in a set.\n",
    "Except for the COUNT() function, SQL aggregate functions ignore null."
   ]
  },
  {
   "cell_type": "code",
   "execution_count": null,
   "id": "2ee1b429",
   "metadata": {},
   "outputs": [],
   "source": [
    "SELECT\n",
    "    Lastname,\n",
    "    X*Y as Z\n",
    "FROM\n",
    "    customers\n",
    "ORDER BY\n",
    "    Lastname DESC,\n",
    "    Z ASC;\n",
    "SELECT\n",
    "    orderNumber, status\n",
    "FROM\n",
    "    orders\n",
    "ORDER BY FIELD(status,\n",
    "        'In Process',\n",
    "        'On Hold',\n",
    "        'Cancelled',\n",
    "        'Resolved',\n",
    "        'Disputed',\n",
    "        'Shipped');"
   ]
  },
  {
   "cell_type": "code",
   "execution_count": 1,
   "id": "b421917a",
   "metadata": {},
   "outputs": [
    {
     "name": "stdout",
     "output_type": "stream",
     "text": [
      "[5, 'r', 7, 8, 9, 't', 2, 1]\n"
     ]
    }
   ],
   "source": [
    "list1 = [2,4,5,'r',7,8,12]\n",
    "\n",
    "list2 = [3,6,9,'t',2,1,6]\n",
    "\n",
    "print(list1[2:-1]+ list2[2:-1])"
   ]
  },
  {
   "cell_type": "code",
   "execution_count": 2,
   "id": "26a7329b",
   "metadata": {},
   "outputs": [
    {
     "data": {
      "text/plain": [
       "5"
      ]
     },
     "execution_count": 2,
     "metadata": {},
     "output_type": "execute_result"
    }
   ],
   "source": [
    "round(4.650)"
   ]
  },
  {
   "cell_type": "code",
   "execution_count": null,
   "id": "f41acb2b",
   "metadata": {},
   "outputs": [],
   "source": []
  }
 ],
 "metadata": {
  "kernelspec": {
   "display_name": "Python 3 (ipykernel)",
   "language": "python",
   "name": "python3"
  },
  "language_info": {
   "codemirror_mode": {
    "name": "ipython",
    "version": 3
   },
   "file_extension": ".py",
   "mimetype": "text/x-python",
   "name": "python",
   "nbconvert_exporter": "python",
   "pygments_lexer": "ipython3",
   "version": "3.9.13"
  }
 },
 "nbformat": 4,
 "nbformat_minor": 5
}
