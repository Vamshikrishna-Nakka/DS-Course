{
 "cells": [
  {
   "cell_type": "code",
   "execution_count": null,
   "id": "c1b03c2e",
   "metadata": {},
   "outputs": [],
   "source": [
    "select max(purchase_amount) from Orders;"
   ]
  },
  {
   "cell_type": "code",
   "execution_count": null,
   "id": "dd5d424c",
   "metadata": {},
   "outputs": [],
   "source": [
    "#2nd highest\n",
    "select max(purchase_amount) from Orders where purchase_amount<(select max(purchase_amount) from Orders);"
   ]
  },
  {
   "cell_type": "code",
   "execution_count": null,
   "id": "931b449e",
   "metadata": {},
   "outputs": [],
   "source": [
    "#3rd highest\n",
    "select max(purchase_amount) from Orders where purchase_amount<(select max(purchase_amount) from Orders where purchase_amount<(select max(purchase_amount) from Orders));"
   ]
  },
  {
   "cell_type": "code",
   "execution_count": null,
   "id": "54e608fb",
   "metadata": {},
   "outputs": [],
   "source": [
    "Instead of max we can use min fun to find."
   ]
  },
  {
   "cell_type": "code",
   "execution_count": null,
   "id": "e110a791",
   "metadata": {},
   "outputs": [],
   "source": [
    "select UPPER(customer_name) from customer;"
   ]
  },
  {
   "cell_type": "code",
   "execution_count": null,
   "id": "9b1d27bc",
   "metadata": {},
   "outputs": [],
   "source": [
    "select * from customer where city='New York';\n",
    "select count(*) from customer where city='New York';"
   ]
  },
  {
   "cell_type": "code",
   "execution_count": null,
   "id": "9b596301",
   "metadata": {},
   "outputs": [],
   "source": [
    "select concat(customer_name,city) as Fullname from customer;\n",
    "select concat(customer_name,' ',city) as Fullname from customer;"
   ]
  },
  {
   "cell_type": "code",
   "execution_count": null,
   "id": "291e5d0b",
   "metadata": {},
   "outputs": [],
   "source": [
    " select substring(customer_name,1,4) from customer;"
   ]
  },
  {
   "cell_type": "code",
   "execution_count": null,
   "id": "58a72fe2",
   "metadata": {},
   "outputs": [],
   "source": [
    "create table copied as select * from customer; #copy table"
   ]
  },
  {
   "cell_type": "code",
   "execution_count": null,
   "id": "c02c6239",
   "metadata": {},
   "outputs": [],
   "source": []
  },
  {
   "cell_type": "code",
   "execution_count": null,
   "id": "edb0d109",
   "metadata": {},
   "outputs": [],
   "source": [
    "select customer_name from customer where customer_name like 'J%';\n",
    "select customer_name from customer where customer_name like 'J__'; #empty set because no name of 3 letters\n",
    "select customer_name from customer where customer_name like 'J%e_';"
   ]
  },
  {
   "cell_type": "code",
   "execution_count": null,
   "id": "d463b6a8",
   "metadata": {},
   "outputs": [],
   "source": [
    "select * from customer order by customer_id ASC;\n",
    " select * from customer order by customer_id ASC limit 2; #only first 2 printss"
   ]
  },
  {
   "cell_type": "code",
   "execution_count": null,
   "id": "cd40c781",
   "metadata": {},
   "outputs": [],
   "source": [
    "drop table copied;\n",
    "drop database copied;"
   ]
  },
  {
   "cell_type": "code",
   "execution_count": null,
   "id": "2f588664",
   "metadata": {},
   "outputs": [],
   "source": [
    " select count(*) from Orders;# no. of rows"
   ]
  },
  {
   "cell_type": "code",
   "execution_count": null,
   "id": "dbfa94f0",
   "metadata": {},
   "outputs": [],
   "source": [
    "select purchase_amount from Orders where purchase_amount between 200 and 300;"
   ]
  },
  {
   "cell_type": "code",
   "execution_count": null,
   "id": "2abea251",
   "metadata": {},
   "outputs": [],
   "source": [
    "select distinct city from customer;"
   ]
  },
  {
   "cell_type": "code",
   "execution_count": null,
   "id": "d0835d49",
   "metadata": {},
   "outputs": [],
   "source": [
    "select * from customer where grade is null;"
   ]
  },
  {
   "cell_type": "code",
   "execution_count": null,
   "id": "05abe2ff",
   "metadata": {},
   "outputs": [],
   "source": [
    "select * from salesman where city in(select city from customer);"
   ]
  },
  {
   "cell_type": "code",
   "execution_count": null,
   "id": "2cb5b170",
   "metadata": {},
   "outputs": [],
   "source": [
    " select city,count(*) as Man from customer group by city having count(*)>1;"
   ]
  },
  {
   "cell_type": "code",
   "execution_count": null,
   "id": "3a75ca52",
   "metadata": {},
   "outputs": [],
   "source": [
    "select length(customer_name) from customer;\n",
    "select char_length(customer_name) from customer;"
   ]
  },
  {
   "cell_type": "code",
   "execution_count": null,
   "id": "5b75db4c",
   "metadata": {},
   "outputs": [],
   "source": [
    "select sum(purchase_amount) from Orders;"
   ]
  },
  {
   "cell_type": "code",
   "execution_count": null,
   "id": "43659d1d",
   "metadata": {},
   "outputs": [],
   "source": []
  },
  {
   "cell_type": "code",
   "execution_count": null,
   "id": "d4ca363c",
   "metadata": {},
   "outputs": [],
   "source": []
  },
  {
   "cell_type": "code",
   "execution_count": null,
   "id": "69f00769",
   "metadata": {},
   "outputs": [],
   "source": []
  },
  {
   "cell_type": "code",
   "execution_count": null,
   "id": "ebcd98bc",
   "metadata": {},
   "outputs": [],
   "source": [
    "select s.name,s.city,c.customer_name from salesman s, customer c where c.city=s.city;"
   ]
  },
  {
   "cell_type": "code",
   "execution_count": null,
   "id": "4cade10e",
   "metadata": {},
   "outputs": [],
   "source": [
    " select s.name,c.customer_name from salesman s, customer c where c.salesman_id=s.salesman_id;"
   ]
  },
  {
   "cell_type": "code",
   "execution_count": null,
   "id": "b9921927",
   "metadata": {},
   "outputs": [],
   "source": [
    "SELECT ord_no, customer_name, Orders.customer_id, Orders.salesman_id FROM salesman, customer, Orders WHERE customer.city <> salesman.city AND Orders.customer_id = customer.customer_id AND Orders.salesman_id = salesman.salesman_id;"
   ]
  },
  {
   "cell_type": "code",
   "execution_count": null,
   "id": "02b03252",
   "metadata": {},
   "outputs": [],
   "source": []
  },
  {
   "cell_type": "code",
   "execution_count": null,
   "id": "f9d42b7b",
   "metadata": {},
   "outputs": [],
   "source": []
  },
  {
   "cell_type": "code",
   "execution_count": null,
   "id": "ff0dd541",
   "metadata": {},
   "outputs": [],
   "source": []
  },
  {
   "cell_type": "code",
   "execution_count": null,
   "id": "23b20903",
   "metadata": {},
   "outputs": [],
   "source": [
    "select * from customer \n",
    "union \n",
    "select * from Orders; # it addes to below the table"
   ]
  },
  {
   "cell_type": "code",
   "execution_count": null,
   "id": "31eeef8c",
   "metadata": {},
   "outputs": [],
   "source": []
  },
  {
   "cell_type": "code",
   "execution_count": null,
   "id": "f767d92a",
   "metadata": {},
   "outputs": [],
   "source": []
  },
  {
   "cell_type": "code",
   "execution_count": null,
   "id": "ec152724",
   "metadata": {},
   "outputs": [],
   "source": []
  },
  {
   "cell_type": "code",
   "execution_count": null,
   "id": "0cefd666",
   "metadata": {},
   "outputs": [],
   "source": []
  },
  {
   "cell_type": "code",
   "execution_count": null,
   "id": "4a349a51",
   "metadata": {},
   "outputs": [],
   "source": [
    " select s.name,c.customer_name,c.grade from salesman s\n",
    "    ->inner join customer c\n",
    "    ->on s.salesman_id=c.salesman_id\n",
    "    ->;"
   ]
  },
  {
   "cell_type": "code",
   "execution_count": null,
   "id": "2a6552ca",
   "metadata": {},
   "outputs": [],
   "source": []
  },
  {
   "cell_type": "code",
   "execution_count": null,
   "id": "c4a9c279",
   "metadata": {},
   "outputs": [],
   "source": []
  },
  {
   "cell_type": "code",
   "execution_count": null,
   "id": "754a6d8c",
   "metadata": {},
   "outputs": [],
   "source": []
  },
  {
   "cell_type": "code",
   "execution_count": null,
   "id": "3ad08767",
   "metadata": {},
   "outputs": [],
   "source": []
  },
  {
   "cell_type": "code",
   "execution_count": null,
   "id": "73393c1f",
   "metadata": {},
   "outputs": [],
   "source": []
  }
 ],
 "metadata": {
  "kernelspec": {
   "display_name": "Python 3 (ipykernel)",
   "language": "python",
   "name": "python3"
  },
  "language_info": {
   "codemirror_mode": {
    "name": "ipython",
    "version": 3
   },
   "file_extension": ".py",
   "mimetype": "text/x-python",
   "name": "python",
   "nbconvert_exporter": "python",
   "pygments_lexer": "ipython3",
   "version": "3.9.13"
  }
 },
 "nbformat": 4,
 "nbformat_minor": 5
}
