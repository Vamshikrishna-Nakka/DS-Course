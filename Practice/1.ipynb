{
 "cells": [
  {
   "cell_type": "code",
   "execution_count": null,
   "id": "f5813fca",
   "metadata": {},
   "outputs": [],
   "source": [
    "Another difference is that the list.sort() method is only defined for lists. In contrast, \n",
    "the sorted() function accepts any iterable."
   ]
  },
  {
   "cell_type": "code",
   "execution_count": null,
   "id": "2ab71a35",
   "metadata": {},
   "outputs": [],
   "source": []
  },
  {
   "cell_type": "code",
   "execution_count": null,
   "id": "3a922743",
   "metadata": {},
   "outputs": [],
   "source": []
  },
  {
   "cell_type": "code",
   "execution_count": 14,
   "id": "ba944115",
   "metadata": {},
   "outputs": [
    {
     "data": {
      "text/plain": [
       "[<function __main__.<lambda>()>,\n",
       " <function __main__.<lambda>()>,\n",
       " <function __main__.<lambda>()>,\n",
       " <function __main__.<lambda>()>,\n",
       " <function __main__.<lambda>()>]"
      ]
     },
     "execution_count": 14,
     "metadata": {},
     "output_type": "execute_result"
    }
   ],
   "source": [
    "# Why do lambdas defined in a loop with different values all return the same result?¶\n",
    "\n",
    "squares = []\n",
    "for x in range(5):\n",
    "    squares.append(lambda: x**2)\n",
    "    \n",
    "squares         #This gives you a list that contains 5 lambdas that calculate x**2. You might expect that, when called, they would return, respectively, 0, 1, 4, 9, and 16. However, when you actually try you will see that they all return 16:"
   ]
  },
  {
   "cell_type": "code",
   "execution_count": 12,
   "id": "914e3a84",
   "metadata": {},
   "outputs": [
    {
     "data": {
      "text/plain": [
       "16"
      ]
     },
     "execution_count": 12,
     "metadata": {},
     "output_type": "execute_result"
    }
   ],
   "source": [
    "squares[2]()"
   ]
  },
  {
   "cell_type": "code",
   "execution_count": 13,
   "id": "bef124b1",
   "metadata": {},
   "outputs": [
    {
     "data": {
      "text/plain": [
       "16"
      ]
     },
     "execution_count": 13,
     "metadata": {},
     "output_type": "execute_result"
    }
   ],
   "source": [
    "squares[4]()"
   ]
  },
  {
   "cell_type": "code",
   "execution_count": 17,
   "id": "4a6f0753",
   "metadata": {},
   "outputs": [
    {
     "name": "stdout",
     "output_type": "stream",
     "text": [
      "4\n"
     ]
    },
    {
     "data": {
      "text/plain": [
       "16"
      ]
     },
     "execution_count": 17,
     "metadata": {},
     "output_type": "execute_result"
    }
   ],
   "source": [
    "# This happens because x is not local to the lambdas, but is defined in the outer scope, and it is accessed when the \n",
    "# lambda is called — not when it is defined. At the end of the loop, the value of x is 4, so all the functions now \n",
    "# return 4**2, i.e. 16. You can also verify this by changing the value of x and see how the results of the lambdas change:\n",
    "\n",
    "\n",
    "# In order to avoid this, you need to save the values in variables local to the lambdas, so that they don’t rely on \n",
    "# the value of the global x:\n",
    "    \n",
    "squares = []\n",
    "for x in range(5):\n",
    "    squares.append(lambda n=x: n**2)\n",
    "\n",
    "# Here, n=x creates a new variable n local to the lambda and computed when the lambda is defined so that it has the same\n",
    "# value that x had at that point in the loop. This means that the value of n will be 0 in the first lambda, 1 in the second,\n",
    "# 2 in the third, and so on. Therefore each lambda will now return the correct result:\n",
    "\n",
    "print(squares[2]())\n",
    "squares[4]()\n",
    "\n",
    "\n",
    "#Note that this behaviour is not peculiar to lambdas, but applies to regular functions too."
   ]
  },
  {
   "cell_type": "code",
   "execution_count": null,
   "id": "abd0237e",
   "metadata": {},
   "outputs": [],
   "source": [
    "# How do I share global variables across modules?\n",
    "\n",
    "# The canonical way to share information across modules within a single program is to create a special module \n",
    "# (often called config or cfg). Just import the config module in all modules of your application; the module then becomes\n",
    "# available as a global name. Because there is only one instance of each module, any changes made to the module object get\n",
    "# reflected everywhere.\n",
    "\n",
    "config.py:\n",
    "\n",
    "x = 0   # Default value of the 'x' configuration setting\n",
    "\n",
    "mod.py:\n",
    "\n",
    "import config\n",
    "config.x = 1\n",
    "\n",
    "main.py:\n",
    "\n",
    "import config\n",
    "import mod\n",
    "print(config.x)\n",
    "\n",
    "\n",
    "# Note that using a module is also the basis for implementing the singleton design pattern, for the same reason."
   ]
  },
  {
   "cell_type": "code",
   "execution_count": 26,
   "id": "3c374548",
   "metadata": {},
   "outputs": [],
   "source": [
    "# Why are default values shared between objects in Python?\n",
    "\n",
    "def foo(mydict={}):\n",
    "    ... calculate...\n",
    "    mydict[key] = value\n",
    "    return mydict\n",
    "\n",
    "We have a function. In that we have a Dictionary as a parameter with a default value. The first time you call this function,\n",
    "mydict contains a single item. The second time, mydict contains two items because when foo() begins executing, \n",
    "mydict starts out with an item already in it.\n",
    "\n",
    "We often expect that a function call creates new objects for default values. However, this is not the case.\n",
    "The Default values are created exactly once, when the function is defined. If that object is changed, like the dictionary\n",
    "in the above example, the subsequent calls to the function will refer to this changed object.\n",
    "\n",
    "\n",
    "# The default values concept in Python are based on using mutable or immutable objects. It is good programming practice\n",
    "# to not use mutable objects as default values. Instead, use None as the default value to avoid issues. \n",
    "\n",
    "# Immutable objects such as numbers, strings, tuples, and None, are safe from change.\n",
    "# Changes to mutable objects such as dictionaries, lists, and class instances can lead to confusion.\n",
    "\n",
    "def foo(mydict=None):\n",
    "    if mydict is None:\n",
    "        mydict = {}  # create a new dict for local namespace\n",
    "        \n",
    "        \n",
    "        \n",
    "This feature can be useful. When you have a function that’s time-consuming to compute, a common technique is to cache the parameters and the resulting value of each call to the function, and return the cached value if the same value is requested again. This is called “memoizing”, and can be implemented like this:\n",
    "\n",
    "# Callers can only provide two parameters and optionally pass _cache by keyword\n",
    "def expensive(arg1, arg2, *, _cache={}):\n",
    "    if (arg1, arg2) in _cache:\n",
    "        return _cache[(arg1, arg2)]\n",
    "\n",
    "    # Calculate the value\n",
    "    result = ... expensive computation ...\n",
    "    _cache[(arg1, arg2)] = result           # Store result in the cache\n",
    "    return result"
   ]
  },
  {
   "cell_type": "code",
   "execution_count": 27,
   "id": "4a1d45f7",
   "metadata": {},
   "outputs": [],
   "source": [
    "# How can I pass optional or keyword parameters from one function to another?\n",
    "\n",
    "# Collect the arguments using the * and ** specifiers in the function’s parameter list; this gives you the positional arguments as a tuple and the keyword arguments as a dictionary. You can then pass these arguments when calling another function by using * and **:\n",
    "\n",
    "def f(x, *args, **kwargs):\n",
    "    ...\n",
    "    kwargs['width'] = '14.3c'\n",
    "    ...\n",
    "    g(x, *args, **kwargs)"
   ]
  },
  {
   "cell_type": "code",
   "execution_count": null,
   "id": "12f38bd1",
   "metadata": {},
   "outputs": [],
   "source": [
    "# What is the difference between arguments and parameters?\n",
    "\n",
    "# Parameters are defined by the names that appear in a function definition, whereas arguments are the values actually passed to a function when calling it. Parameters define what kind of arguments a function can accept. For example, given the function definition:\n",
    "\n",
    "def func(foo, bar=None, **kwargs):\n",
    "    pass\n",
    "\n",
    "# foo, bar and kwargs are parameters of func. However, when calling func, for example:\n",
    "\n",
    "func(42, bar=314, extra=somevar)\n",
    "\n",
    "# the values 42, 314, and somevar are arguments.\n"
   ]
  },
  {
   "cell_type": "code",
   "execution_count": null,
   "id": "57f046cf",
   "metadata": {},
   "outputs": [],
   "source": []
  },
  {
   "cell_type": "code",
   "execution_count": 33,
   "id": "9b7f53a0",
   "metadata": {},
   "outputs": [
    {
     "name": "stdout",
     "output_type": "stream",
     "text": [
      "[10]\n",
      "[10]\n",
      "5\n",
      "6\n"
     ]
    }
   ],
   "source": [
    "# Why did changing list ‘y’ also change list ‘x’?\n",
    "\n",
    "x = []\n",
    "y = x\n",
    "y.append(10)\n",
    "print(y)\n",
    "print(x)\n",
    "\n",
    "# Beacuse of two factors that produce this result:\n",
    "\n",
    "# 1. Variables are simply names that refer to objects. Doing y = x doesn’t create a copy of the list – it creates a new\n",
    "# variable y that refers to the same object x refers to. This means that there is only one object (the list), and \n",
    "# both x and y refer to it.\n",
    "\n",
    "# 2. Lists are mutable, which means that you can change their content. After the call to append(), the content of the \n",
    "# mutable object has changed from [] to [10]. Since both the variables refer to the same object, using either name \n",
    "# accesses the modified value [10].\n",
    "\n",
    "\n",
    "# If we instead assign an immutable object to x:\n",
    "x = 5  # ints are immutable\n",
    "y = x\n",
    "x = x + 1  # 5 can't be mutated, we are creating a new object here\n",
    "\n",
    "print(y)\n",
    "print(x)  # This is because integers are immutable, \n",
    "\n",
    "# Some operations (for example y.append(10) and y.sort()) mutate the object, whereas superficially similar operations \n",
    "# (for example y = y + [10] and sorted(y)) create a new object.In general in Python (and in all cases in the standard library)\n",
    "# a method that mutates an object will return None to help avoid getting the two types of operations confused."
   ]
  },
  {
   "cell_type": "code",
   "execution_count": null,
   "id": "1d342650",
   "metadata": {},
   "outputs": [],
   "source": [
    "If you want to know if two variables refer to the same object or not, you can use the is operator,\n",
    "or the built-in function id()."
   ]
  },
  {
   "cell_type": "code",
   "execution_count": null,
   "id": "10891877",
   "metadata": {},
   "outputs": [],
   "source": [
    "# How do you make a higher order function in Python?\n",
    "\n",
    "# You have two choices: you can use nested scopes or you can use callable objects. For example, \n",
    "# suppose you wanted to define linear(a,b) which returns a function f(x) that computes the value a*x+b. Using nested scopes:\n",
    "\n",
    "def linear(a, b):\n",
    "    def result(x):\n",
    "        return a * x + b\n",
    "    return result\n",
    "\n",
    "# Or using a callable object:\n",
    "\n",
    "class linear:\n",
    "\n",
    "    def __init__(self, a, b):\n",
    "        self.a, self.b = a, b\n",
    "\n",
    "    def __call__(self, x):\n",
    "        return self.a * x + self.b\n",
    "    \n",
    "# In both cases,\n",
    "\n",
    "taxes = linear(0.3, 2)\n",
    "\n",
    "\n",
    "# The callable object approach has the disadvantage that it is a bit slower and results in slightly longer code. \n",
    "# However, note that a collection of callables can share their signature via inheritance:\n",
    "\n",
    "class exponential(linear):\n",
    "    # __init__ inherited\n",
    "    def __call__(self, x):\n",
    "        return self.a * (x ** self.b)\n",
    "    \n",
    "# Object can encapsulate state for several methods:\n",
    "\n",
    "class counter:\n",
    "\n",
    "    value = 0\n",
    "\n",
    "    def set(self, x):\n",
    "        self.value = x\n",
    "\n",
    "    def up(self):\n",
    "        self.value = self.value + 1\n",
    "\n",
    "    def down(self):\n",
    "        self.value = self.value - 1\n",
    "\n",
    "count = counter()\n",
    "inc, dec, reset = count.up, count.down, count.set\n",
    "\n",
    "# Here inc(), dec() and reset() act like functions which share the same counting variable."
   ]
  },
  {
   "cell_type": "code",
   "execution_count": null,
   "id": "9b71c15e",
   "metadata": {},
   "outputs": [],
   "source": []
  },
  {
   "cell_type": "code",
   "execution_count": null,
   "id": "dc962c42",
   "metadata": {},
   "outputs": [],
   "source": [
    "# How do I copy an object in Python?\n",
    "\n",
    "# In general, try copy.copy() or copy.deepcopy() for the general case. Not all objects can be copied, but most can.\n",
    "\n",
    "# Some objects can be copied more easily. Dictionaries have a copy() method:\n",
    "\n",
    "newdict = olddict.copy()\n",
    "# Sequences can be copied by slicing:\n",
    "\n",
    "new_l = l[:]"
   ]
  },
  {
   "cell_type": "code",
   "execution_count": null,
   "id": "f016ba52",
   "metadata": {},
   "outputs": [],
   "source": []
  },
  {
   "cell_type": "code",
   "execution_count": null,
   "id": "65b74e3a",
   "metadata": {},
   "outputs": [],
   "source": [
    "How can I find the methods or attributes of an object?  dir(x) "
   ]
  },
  {
   "cell_type": "code",
   "execution_count": 47,
   "id": "fcfb9558",
   "metadata": {},
   "outputs": [
    {
     "data": {
      "text/plain": [
       "True"
      ]
     },
     "execution_count": 47,
     "metadata": {},
     "output_type": "execute_result"
    }
   ],
   "source": []
  },
  {
   "cell_type": "code",
   "execution_count": 48,
   "id": "6f13eef0",
   "metadata": {},
   "outputs": [],
   "source": []
  },
  {
   "cell_type": "code",
   "execution_count": null,
   "id": "7f735b41",
   "metadata": {},
   "outputs": [],
   "source": [
    "How do I specify hexadecimal and octal integers?\n",
    "\n",
    "0o10   or  0O10      # octal value with a zero, and then a lower or uppercase “o”.\n",
    "\n",
    "a = 0xa5             # precede the hexadecimal number with a zero, and then a lower or uppercase “x”.\n",
    "b = 0XB2"
   ]
  },
  {
   "cell_type": "code",
   "execution_count": 29,
   "id": "48d3ca48",
   "metadata": {},
   "outputs": [
    {
     "name": "stdout",
     "output_type": "stream",
     "text": [
      "2\n",
      "-3\n",
      "2\n",
      "-1\n"
     ]
    },
    {
     "data": {
      "text/plain": [
       "True"
      ]
     },
     "execution_count": 29,
     "metadata": {},
     "output_type": "execute_result"
    }
   ],
   "source": []
  },
  {
   "cell_type": "code",
   "execution_count": 41,
   "id": "e8a70ef1",
   "metadata": {},
   "outputs": [
    {
     "data": {
      "text/plain": [
       "'0.333'"
      ]
     },
     "execution_count": 41,
     "metadata": {},
     "output_type": "execute_result"
    }
   ],
   "source": [
    "int('144')\n",
    "float('144')\n",
    "\n",
    "# Do not use the built-in function eval() if all you need is to convert strings to numbers. \n",
    "# eval() will be significantly slower and it presents a security risk:\n",
    "# eval() also has the effect of interpreting numbers as Python expressions, \n",
    "# so that e.g. eval('09') gives a syntax error because Python does not allow leading ‘0’ in a decimal number (except ‘0’).\n",
    "\n",
    "\n",
    "# For fancy formatting, see the f-strings and Format String Syntax sections, \n",
    "\"{:04d}\".format(144)      # yields '0144' \n",
    "\"{:.3f}\".format(1.0/3.0)  # yields '0.333'."
   ]
  },
  {
   "cell_type": "code",
   "execution_count": 3,
   "id": "8f3acc24",
   "metadata": {},
   "outputs": [
    {
     "name": "stdout",
     "output_type": "stream",
     "text": [
      "Hello, world All\n",
      "Hello, world All\n",
      "7\n",
      "6\n",
      "Hello, there!All\n",
      "array('u', 'Hello, world All')\n",
      "array('u', 'yello, world All')\n"
     ]
    },
    {
     "data": {
      "text/plain": [
       "'yello, world All'"
      ]
     },
     "execution_count": 3,
     "metadata": {},
     "output_type": "execute_result"
    }
   ],
   "source": [
    "# How do I modify a string in place?\n",
    "\n",
    "# You can’t, because strings are immutable. In most situations, you should simply construct a new string from \n",
    "# the various parts you want to assemble it from. However, if you need an object with the ability to modify in-place\n",
    "# unicode data, try using an io.StringIO object or the array module:\n",
    "\n",
    "import io\n",
    "s = \"Hello, world All\"\n",
    "sio = io.StringIO(s)\n",
    "print(sio.read())      #Reading file using StringIO\n",
    "print(sio.getvalue())\n",
    "print(sio.seek(7))\n",
    "print(sio.write(\"there!\"))\n",
    "print(sio.getvalue())\n",
    "\n",
    "\n",
    "\n",
    "\n",
    "import array\n",
    "a = array.array('u', s)\n",
    "print(a)\n",
    "\n",
    "a[0] = 'y'\n",
    "print(a)\n",
    "\n",
    "a.tounicode()"
   ]
  },
  {
   "cell_type": "code",
   "execution_count": 13,
   "id": "2be50d40",
   "metadata": {},
   "outputs": [
    {
     "ename": "SyntaxError",
     "evalue": "unterminated string literal (detected at line 3) (410726696.py, line 3)",
     "output_type": "error",
     "traceback": [
      "\u001b[1;36m  Cell \u001b[1;32mIn[13], line 3\u001b[1;36m\u001b[0m\n\u001b[1;33m    r'C:\\this\\will\\not\\work\\'\u001b[0m\n\u001b[1;37m    ^\u001b[0m\n\u001b[1;31mSyntaxError\u001b[0m\u001b[1;31m:\u001b[0m unterminated string literal (detected at line 3)\n"
     ]
    }
   ],
   "source": [
    "# A raw string ending with an odd number of backslashes will escape the string’s quote:\n",
    "\n",
    "r'C:\\this\\will\\not\\work\\'"
   ]
  },
  {
   "cell_type": "code",
   "execution_count": 19,
   "id": "6707c30a",
   "metadata": {},
   "outputs": [
    {
     "data": {
      "text/plain": [
       "\"backslash\\\\'preserved\""
      ]
     },
     "execution_count": 19,
     "metadata": {},
     "output_type": "execute_result"
    }
   ],
   "source": [
    "'C:\\\\this\\\\will\\\\work\\\\'     # One is to use regular strings and double the backslashes:\n",
    "r'C:\\this\\will\\work' '\\\\'    #Another is to concatenate a regular string containing an escaped backslash to the raw string:\n",
    "import os\n",
    "os.path.join(r'C:\\this\\will\\work', '')     # It is also possible to use os.path.join() to append a backslash on Windows:\n",
    "\n",
    "r'backslash\\'preserved'    #while a backslash will “escape” a quote for the purposes of determining where the raw string ends, no escaping occurs when interpreting the value of the raw string. That is, the backslash remains present in the value of the raw string:"
   ]
  },
  {
   "cell_type": "code",
   "execution_count": null,
   "id": "f1dcf048",
   "metadata": {},
   "outputs": [],
   "source": []
  },
  {
   "cell_type": "code",
   "execution_count": null,
   "id": "2d980134",
   "metadata": {},
   "outputs": [],
   "source": []
  },
  {
   "cell_type": "code",
   "execution_count": null,
   "id": "b4b985c3",
   "metadata": {},
   "outputs": [],
   "source": []
  }
 ],
 "metadata": {
  "kernelspec": {
   "display_name": "Python 3 (ipykernel)",
   "language": "python",
   "name": "python3"
  },
  "language_info": {
   "codemirror_mode": {
    "name": "ipython",
    "version": 3
   },
   "file_extension": ".py",
   "mimetype": "text/x-python",
   "name": "python",
   "nbconvert_exporter": "python",
   "pygments_lexer": "ipython3",
   "version": "3.11.5"
  }
 },
 "nbformat": 4,
 "nbformat_minor": 5
}
