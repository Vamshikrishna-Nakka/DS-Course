{
 "cells": [
  {
   "cell_type": "code",
   "execution_count": null,
   "id": "777ff25a",
   "metadata": {},
   "outputs": [],
   "source": [
    "What are unit tests in Python?\n",
    "Unit test is a unit testing framework of Python.\n",
    "Unit testing means testing different components of software separately. Can you think about why unit testing is important?\n",
    "Imagine a scenario, you are building software that uses three components namely A,B,and C. Now, suppose your software \n",
    "breaksat a point time. How will you find which component was responsible for breaking the software? Maybe it was component\n",
    "A that failed, which in turn failed component B, and this actually failed the software. There can be many such combinations.\n",
    "This is why it is necessary to test each and every component properly so that we know which component might be highly \n",
    "responsible for the failure of the software.\n",
    "15. What is docstring in Python?"
   ]
  },
  {
   "cell_type": "code",
   "execution_count": null,
   "id": "f45cca41",
   "metadata": {},
   "outputs": [],
   "source": [
    "How is memory managed in Python?\n",
    "Memory management in Python is handled by the Python Memory Manager. The memory allocated by the manager is in form of a \n",
    "private heap space dedicated to Python. All Python objects are stored in this heap and being private, it is inaccessible\n",
    "to the programmer. Though, python does provide some core API functions to work upon the private heap space.\n",
    "Additionally, Python has an in-built garbage collection to recycle the unused memory for the private heap space.\n"
   ]
  },
  {
   "cell_type": "code",
   "execution_count": null,
   "id": "06a3ea06",
   "metadata": {},
   "outputs": [],
   "source": [
    "xrange() and range() are quite similar in terms of functionality. They both generate a sequence of integers, \n",
    "with the only difference that range() returns a Python list, whereas, xrange() returns an xrange object.\n",
    "\n",
    "So how does that make a difference? It sure does, because unlike range(), xrange() doesn't generate a static list,\n",
    "it creates the value on the go. This technique is commonly used with an object-type generator and has been termed\n",
    "as \"yielding\".\n",
    "\n",
    "Yielding is crucial in applications where memory is a constraint. Creating a static list as in range() can lead to\n",
    "a Memory Error in such conditions, while, xrange() can handle it optimally by using just enough memory for the generator\n",
    "(significantly less in comparison)."
   ]
  },
  {
   "cell_type": "code",
   "execution_count": null,
   "id": "d9525998",
   "metadata": {},
   "outputs": [],
   "source": [
    "How are arguments passed by value or by reference in python?\n",
    "Pass by value: Copy of the actual object is passed. Changing the value of the copy of the object will not \n",
    "    change the value of the original object.\n",
    "Pass by reference: Reference to the actual object is passed. Changing the value of the new object will change the value\n",
    "    of the original object.\n",
    "In Python, arguments are passed by reference, i.e., reference to the actual object is passed.\n",
    "\n",
    "def appendNumber(arr):\n",
    "   arr.append(4)\n",
    "arr = [1, 2, 3]\n",
    "print(arr)  #Output: => [1, 2, 3]\n",
    "appendNumber(arr)\n",
    "print(arr)  #Output: => [1, 2, 3, 4]"
   ]
  },
  {
   "cell_type": "code",
   "execution_count": null,
   "id": "ad85cd42",
   "metadata": {},
   "outputs": [],
   "source": []
  },
  {
   "cell_type": "code",
   "execution_count": null,
   "id": "cb399738",
   "metadata": {},
   "outputs": [],
   "source": [
    "Is it possible to call parent class without its instance creation?\n",
    "Yes, it is possible if the base class is instantiated by other child classes or if the base class is a static method."
   ]
  },
  {
   "cell_type": "code",
   "execution_count": null,
   "id": "6b860e4d",
   "metadata": {},
   "outputs": [],
   "source": [
    "How is an empty class created in python?\n",
    "An empty class does not have any members defined in it. It is created by using the pass keyword (the pass command does nothing in python). We can create objects for this class outside the class.\n",
    "For example-\n",
    "\n",
    "class EmptyClassDemo:\n",
    "   pass\n",
    "obj=EmptyClassDemo()\n",
    "obj.name=\"Interviewbit\"\n",
    "print(\"Name created= \",obj.name)"
   ]
  },
  {
   "cell_type": "code",
   "execution_count": null,
   "id": "4774df34",
   "metadata": {},
   "outputs": [],
   "source": []
  },
  {
   "cell_type": "code",
   "execution_count": null,
   "id": "72271c59",
   "metadata": {},
   "outputs": [],
   "source": [
    "What Is the Difference Between Del and Remove() on Lists?"
   ]
  },
  {
   "cell_type": "code",
   "execution_count": null,
   "id": "84e249bc",
   "metadata": {},
   "outputs": [],
   "source": []
  },
  {
   "cell_type": "code",
   "execution_count": null,
   "id": "f680d996",
   "metadata": {},
   "outputs": [],
   "source": [
    "Q:Python code to find key from a dictionary containing k,v pair\n",
    "Where v>100 with explanation\n",
    "\n",
    "# Sample dictionary\n",
    "my_map = {\n",
    " 'a': 150,\n",
    " 'b': 75,\n",
    " 'c': 200,\n",
    " 'd': 50,\n",
    " 'e': 300\n",
    "}\n",
    "\n",
    "# Initialize an empty list to store keys with values > 100\n",
    "result_keys = []\n",
    "\n",
    "# Iterate through the dictionary items\n",
    "for key, value in my_map.items():\n",
    " if value > 100:\n",
    " result_keys.append(key)\n",
    "\n",
    "# Print the keys with values > 100\n",
    "print(\"Keys with values > 100:\", result_keys)"
   ]
  },
  {
   "cell_type": "code",
   "execution_count": 16,
   "id": "f8a395c2",
   "metadata": {},
   "outputs": [
    {
     "ename": "NameError",
     "evalue": "name 'sort' is not defined",
     "output_type": "error",
     "traceback": [
      "\u001b[1;31m---------------------------------------------------------------------------\u001b[0m",
      "\u001b[1;31mNameError\u001b[0m                                 Traceback (most recent call last)",
      "Cell \u001b[1;32mIn[16], line 6\u001b[0m\n\u001b[0;32m      4\u001b[0m s\u001b[38;5;241m=\u001b[39m[]\n\u001b[0;32m      5\u001b[0m \u001b[38;5;28;01mfor\u001b[39;00m i,j \u001b[38;5;129;01min\u001b[39;00m d\u001b[38;5;241m.\u001b[39mitems():\n\u001b[1;32m----> 6\u001b[0m     \u001b[38;5;28mprint\u001b[39m(\u001b[43msort\u001b[49m(\u001b[38;5;28mlen\u001b[39m(j)))\n",
      "\u001b[1;31mNameError\u001b[0m: name 'sort' is not defined"
     ]
    }
   ],
   "source": [
    "# lenth of value strings and get the keys.\n",
    "\n",
    "d={1:'abc',4:'krishna',5:'nk'}\n",
    "s=[]\n",
    "for i,j in d.items():\n",
    "    print(sort(len(j)))"
   ]
  },
  {
   "cell_type": "code",
   "execution_count": 20,
   "id": "abae124f",
   "metadata": {},
   "outputs": [
    {
     "name": "stdout",
     "output_type": "stream",
     "text": [
      "30\n"
     ]
    }
   ],
   "source": [
    "def sum1(n1, n2=0):\n",
    "    print(n1+n2)\n",
    "\n",
    "sum1(10,20)"
   ]
  },
  {
   "cell_type": "code",
   "execution_count": null,
   "id": "f3f1e220",
   "metadata": {},
   "outputs": [],
   "source": []
  }
 ],
 "metadata": {
  "kernelspec": {
   "display_name": "Python 3 (ipykernel)",
   "language": "python",
   "name": "python3"
  },
  "language_info": {
   "codemirror_mode": {
    "name": "ipython",
    "version": 3
   },
   "file_extension": ".py",
   "mimetype": "text/x-python",
   "name": "python",
   "nbconvert_exporter": "python",
   "pygments_lexer": "ipython3",
   "version": "3.10.9"
  }
 },
 "nbformat": 4,
 "nbformat_minor": 5
}
