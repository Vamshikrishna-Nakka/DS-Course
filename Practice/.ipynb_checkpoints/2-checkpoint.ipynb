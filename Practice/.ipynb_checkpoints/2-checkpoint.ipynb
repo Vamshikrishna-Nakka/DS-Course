{
 "cells": [
  {
   "cell_type": "code",
   "execution_count": 5,
   "id": "da62ed65",
   "metadata": {},
   "outputs": [
    {
     "name": "stdout",
     "output_type": "stream",
     "text": [
      "['m', 'y', '_', 's', 't', 'r', 'i', 'n', 'g', 's'] my_strings\n"
     ]
    },
    {
     "ename": "NameError",
     "evalue": "name 'my_bytes_objects' is not defined",
     "output_type": "error",
     "traceback": [
      "\u001b[1;31m---------------------------------------------------------------------------\u001b[0m",
      "\u001b[1;31mNameError\u001b[0m                                 Traceback (most recent call last)",
      "Cell \u001b[1;32mIn[5], line 14\u001b[0m\n\u001b[0;32m     12\u001b[0m \u001b[38;5;66;03m#bytes\u001b[39;00m\n\u001b[0;32m     13\u001b[0m result \u001b[38;5;241m=\u001b[39m \u001b[38;5;28mbytearray\u001b[39m()\n\u001b[1;32m---> 14\u001b[0m \u001b[38;5;28;01mfor\u001b[39;00m b \u001b[38;5;129;01min\u001b[39;00m my_bytes_objects:\n\u001b[0;32m     15\u001b[0m     result \u001b[38;5;241m+\u001b[39m\u001b[38;5;241m=\u001b[39m b\n",
      "\u001b[1;31mNameError\u001b[0m: name 'my_bytes_objects' is not defined"
     ]
    }
   ],
   "source": [
    "# What is the most efficient way to concatenate many strings together?\n",
    "# str and bytes objects are immutable, therefore concatenating many strings together is inefficient as each concatenation\n",
    "# creates a new object. In the general case, the total runtime cost is quadratic in the total string length.\n",
    "\n",
    "\n",
    "#str\n",
    "chunks = []\n",
    "for s in 'my_strings':\n",
    "    chunks.append(s)\n",
    "result1 = ''.join(chunks)\n",
    "print(chunks, result1)\n",
    "\n",
    "#bytes\n",
    "result = bytearray()\n",
    "for b in my_bytes_objects:\n",
    "    result += b"
   ]
  },
  {
   "cell_type": "code",
   "execution_count": 6,
   "id": "3ab7b253",
   "metadata": {},
   "outputs": [
    {
     "data": {
      "text/plain": [
       "(1, 2, 3)"
      ]
     },
     "execution_count": 6,
     "metadata": {},
     "output_type": "execute_result"
    }
   ],
   "source": [
    "# How do I convert between tuples and lists?¶\n",
    "\n",
    "tuple([1, 2, 3]) #yields same order(1, 2, 3) If the argument is a tuple, it does not make a copy but returns the same \n",
    "                 # object, so it is cheap to call tuple() when you aren’t sure that an object is already a tuple.\n",
    "\n",
    "list(seq) #If the argument is a list, it makes a copy just like seq[:] would."
   ]
  },
  {
   "cell_type": "code",
   "execution_count": 8,
   "id": "439eb6e9",
   "metadata": {},
   "outputs": [
    {
     "name": "stdout",
     "output_type": "stream",
     "text": [
      "22\n",
      "7\n",
      "5\n",
      "2\n",
      "5\n",
      "1\n"
     ]
    }
   ],
   "source": [
    "l=[1,5,2,5,7,22]\n",
    "for i in reversed(l):  # This won’t touch your original sequence, but build a new copy with reversed order to iterate over.\n",
    "    print(i)"
   ]
  },
  {
   "cell_type": "code",
   "execution_count": 11,
   "id": "feb11a5d",
   "metadata": {},
   "outputs": [
    {
     "data": {
      "text/plain": [
       "[1, 2, 5, 7, 22]"
      ]
     },
     "execution_count": 11,
     "metadata": {},
     "output_type": "execute_result"
    }
   ],
   "source": [
    "# How do you remove duplicates from a list?\n",
    "mylist=[1,5,2,5,7,22]\n",
    "if mylist:\n",
    "    mylist.sort()\n",
    "    last = mylist[-1]\n",
    "    for i in range(len(mylist)-2, -1, -1):\n",
    "        if last == mylist[i]:\n",
    "            del mylist[i]\n",
    "        else:\n",
    "            last = mylist[i]\n",
    "mylist"
   ]
  },
  {
   "cell_type": "code",
   "execution_count": 14,
   "id": "f259e462",
   "metadata": {},
   "outputs": [
    {
     "name": "stdout",
     "output_type": "stream",
     "text": [
      "1 2 3 "
     ]
    }
   ],
   "source": [
    "import array                      # How do you make an array in Python?\n",
    "a = array.array('i', [1, 2, 3])\n",
    "for i in range(0, 3):\n",
    "    print(a[i], end=\" \")"
   ]
  },
  {
   "cell_type": "code",
   "execution_count": 20,
   "id": "ace835eb",
   "metadata": {},
   "outputs": [
    {
     "name": "stdout",
     "output_type": "stream",
     "text": [
      "[[None, None], [None, None], [None, None]]\n",
      "[[5, None], [5, None], [5, None]]\n"
     ]
    }
   ],
   "source": [
    "A = [[None] * 2] * 3    # How do I create a multidimensional list?\n",
    "print(A)\n",
    "\n",
    "A[0][0] = 5\n",
    "print(A)       #The reason is that replicating a list with * doesn’t create copies, it only creates references to the existing objects."
   ]
  },
  {
   "cell_type": "code",
   "execution_count": 22,
   "id": "978233ec",
   "metadata": {},
   "outputs": [
    {
     "data": {
      "text/plain": [
       "[[None, None], [None, None], [None, None]]"
      ]
     },
     "execution_count": 22,
     "metadata": {},
     "output_type": "execute_result"
    }
   ],
   "source": [
    "A = [None] * 3\n",
    "for i in range(3):\n",
    "    A[i] = [None] * 2\n",
    "A"
   ]
  },
  {
   "cell_type": "code",
   "execution_count": 24,
   "id": "439eb27e",
   "metadata": {},
   "outputs": [
    {
     "data": {
      "text/plain": [
       "[[None, None], [None, None], [None, None]]"
      ]
     },
     "execution_count": 24,
     "metadata": {},
     "output_type": "execute_result"
    }
   ],
   "source": [
    "w, h = 2, 3\n",
    "A = [[None] * w for i in range(h)]\n",
    "A"
   ]
  },
  {
   "cell_type": "code",
   "execution_count": null,
   "id": "0c247e3b",
   "metadata": {},
   "outputs": [],
   "source": [
    "How do I apply a method or function to a sequence of objects?\n",
    "\n",
    "result = [obj.method() for obj in mylist]\n",
    "result = [function(obj) for obj in mylist]"
   ]
  },
  {
   "cell_type": "code",
   "execution_count": 25,
   "id": "27d02a63",
   "metadata": {},
   "outputs": [
    {
     "ename": "TypeError",
     "evalue": "'tuple' object does not support item assignment",
     "output_type": "error",
     "traceback": [
      "\u001b[1;31m---------------------------------------------------------------------------\u001b[0m",
      "\u001b[1;31mTypeError\u001b[0m                                 Traceback (most recent call last)",
      "Cell \u001b[1;32mIn[25], line 2\u001b[0m\n\u001b[0;32m      1\u001b[0m a_tuple \u001b[38;5;241m=\u001b[39m (\u001b[38;5;241m1\u001b[39m, \u001b[38;5;241m2\u001b[39m)\n\u001b[1;32m----> 2\u001b[0m a_tuple[\u001b[38;5;241m0\u001b[39m] \u001b[38;5;241m+\u001b[39m\u001b[38;5;241m=\u001b[39m \u001b[38;5;241m1\u001b[39m\n",
      "\u001b[1;31mTypeError\u001b[0m: 'tuple' object does not support item assignment"
     ]
    }
   ],
   "source": [
    "# a_tuple = (1, 2)\n",
    "# a_tuple[0] += 1    We cant chnage tuple"
   ]
  },
  {
   "cell_type": "code",
   "execution_count": 27,
   "id": "dba72468",
   "metadata": {},
   "outputs": [],
   "source": [
    "a_list = []\n",
    "a_list += [1]\n",
    "a_list\n",
    "\n",
    "\n",
    "#above equivalent to belw\n",
    "result = a_list.__iadd__([1])\n",
    "a_list = result"
   ]
  },
  {
   "cell_type": "code",
   "execution_count": 31,
   "id": "cb8b974e",
   "metadata": {},
   "outputs": [
    {
     "name": "stdout",
     "output_type": "stream",
     "text": [
      "[(\"I'm\", 'else'), ('by', 'sort'), ('sorting', 'to'), ('what', 'something')]\n",
      "['else', 'sort', 'to', 'something']\n"
     ]
    }
   ],
   "source": [
    "# How can I sort one list by values from another list?\n",
    "\n",
    "list1 = [\"what\", \"I'm\", \"sorting\", \"by\"]\n",
    "list2 = [\"something\", \"else\", \"to\", \"sort\"]\n",
    "pairs = zip(list1, list2)\n",
    "pairs = sorted(pairs)\n",
    "print(pairs)\n",
    "\n",
    "result = [x[1] for x in pairs]\n",
    "print(result)"
   ]
  },
  {
   "cell_type": "code",
   "execution_count": null,
   "id": "9e189502",
   "metadata": {},
   "outputs": [],
   "source": [
    "# What is self?\n",
    "# Self is merely a conventional name for the first argument of a method. A method defined as meth(self, a, b, c) \n",
    "# should be called as x.meth(a, b, c) for some instance x of the class in which the definition occurs; the called \n",
    "# method will think it is called as meth(x, a, b, c)."
   ]
  },
  {
   "cell_type": "code",
   "execution_count": 34,
   "id": "2710bc75",
   "metadata": {},
   "outputs": [
    {
     "data": {
      "text/plain": [
       "True"
      ]
     },
     "execution_count": 34,
     "metadata": {},
     "output_type": "execute_result"
    }
   ],
   "source": [
    "# How do I check if an object is an instance of a given class or of a subclass of it?  \n",
    "# #isinstance(obj, cls)\n",
    "\n",
    "obj=1\n",
    "isinstance(obj, (int, float, complex))"
   ]
  },
  {
   "cell_type": "code",
   "execution_count": null,
   "id": "b2e5505f",
   "metadata": {},
   "outputs": [],
   "source": []
  },
  {
   "cell_type": "code",
   "execution_count": 36,
   "id": "8a55829a",
   "metadata": {},
   "outputs": [
    {
     "data": {
      "text/plain": [
       "False"
      ]
     },
     "execution_count": 36,
     "metadata": {},
     "output_type": "execute_result"
    }
   ],
   "source": [
    "#  isinstance() also checks for virtual inheritance from an abstract base class. So, the test will return True for a registered class even if hasn’t directly or indirectly inherited from it. To test for “true inheritance”, scan the MRO of the class:\n",
    "from collections.abc import Mapping\n",
    "\n",
    "class P:\n",
    "     pass\n",
    "\n",
    "class C(P):\n",
    "    pass\n",
    "\n",
    "Mapping.register(P)\n",
    "\n",
    "c = C()\n",
    "isinstance(c, C)        # direct\n",
    "\n",
    "isinstance(c, P)        # indirect\n",
    "\n",
    "isinstance(c, Mapping)  # virtual\n",
    "\n",
    "type(c).__mro__\n",
    "\n",
    "Mapping in type(c).__mro__"
   ]
  },
  {
   "cell_type": "code",
   "execution_count": 37,
   "id": "d420618e",
   "metadata": {},
   "outputs": [
    {
     "ename": "NameError",
     "evalue": "name 'Base' is not defined",
     "output_type": "error",
     "traceback": [
      "\u001b[1;31m---------------------------------------------------------------------------\u001b[0m",
      "\u001b[1;31mNameError\u001b[0m                                 Traceback (most recent call last)",
      "Cell \u001b[1;32mIn[37], line 5\u001b[0m\n\u001b[0;32m      1\u001b[0m \u001b[38;5;66;03m# How do I call a method defined in a base class from a derived class that extends it?¶\u001b[39;00m\n\u001b[0;32m      2\u001b[0m \n\u001b[0;32m      3\u001b[0m \u001b[38;5;66;03m# Use the built-in super() function:\u001b[39;00m\n\u001b[1;32m----> 5\u001b[0m \u001b[38;5;28;01mclass\u001b[39;00m \u001b[38;5;21;01mDerived\u001b[39;00m(Base):\n\u001b[0;32m      6\u001b[0m     \u001b[38;5;28;01mdef\u001b[39;00m \u001b[38;5;21mmeth\u001b[39m(\u001b[38;5;28mself\u001b[39m):\n\u001b[0;32m      7\u001b[0m         \u001b[38;5;28msuper\u001b[39m()\u001b[38;5;241m.\u001b[39mmeth()\n",
      "\u001b[1;31mNameError\u001b[0m: name 'Base' is not defined"
     ]
    }
   ],
   "source": [
    "# How do I call a method defined in a base class from a derived class that extends it?¶\n",
    "\n",
    "# Use the built-in super() function:\n",
    "\n",
    "class Derived(Base):\n",
    "    def meth(self):\n",
    "        super().meth()  # calls Base.meth\n",
    "        \n",
    "# In the example, super() will automatically determine the instance from which it was called (the self value), look up the method resolution order (MRO) with type(self).__mro__, and return the next in line after Derived in the MRO: Base."
   ]
  },
  {
   "cell_type": "code",
   "execution_count": 39,
   "id": "50ab016d",
   "metadata": {},
   "outputs": [
    {
     "name": "stdout",
     "output_type": "stream",
     "text": [
      "Object `operator` not found.\n"
     ]
    },
    {
     "data": {
      "text/plain": [
       "False"
      ]
     },
     "execution_count": 39,
     "metadata": {},
     "output_type": "execute_result"
    }
   ],
   "source": [
    "When can I rely on identity tests with the is operator?\n",
    "\n",
    "# is operator tests for object identity. The test a is b is equivalent to id(a) == id(b).\n",
    "    \n",
    "a = 1000\n",
    "b = 500\n",
    "c = b + 500\n",
    "a is c\n",
    "\n",
    "\n",
    "a = 'Python'\n",
    "b = 'Py'\n",
    "c = b + 'thon'\n",
    "a is c\n",
    "\n",
    "a = []\n",
    "b = []\n",
    "a is b"
   ]
  },
  {
   "cell_type": "code",
   "execution_count": null,
   "id": "d4a280d7",
   "metadata": {},
   "outputs": [],
   "source": [
    "How do I cache method calls?\n",
    "\n",
    "The two principal tools for caching methods are functools.cached_property() and functools.lru_cache(). The former stores results at the instance level and the latter at the class level.\n",
    "\n",
    "The cached_property approach only works with methods that do not take any arguments. It does not create a reference to the instance. The cached method result will be kept only as long as the instance is alive.\n",
    "\n",
    "The advantage is that when an instance is no longer used, the cached method result will be released right away. The disadvantage is that if instances accumulate, so too will the accumulated method results. They can grow without bound.\n",
    "\n",
    "The lru_cache approach works with methods that have hashable arguments. It creates a reference to the instance unless special efforts are made to pass in weak references.\n",
    "\n",
    "The advantage of the least recently used algorithm is that the cache is bounded by the specified maxsize. The disadvantage is that instances are kept alive until they age out of the cache or until the cache is cleared.\n",
    "\n",
    "\n"
   ]
  },
  {
   "cell_type": "code",
   "execution_count": 40,
   "id": "006a9809",
   "metadata": {},
   "outputs": [
    {
     "ename": "NameError",
     "evalue": "name 'cached_property' is not defined",
     "output_type": "error",
     "traceback": [
      "\u001b[1;31m---------------------------------------------------------------------------\u001b[0m",
      "\u001b[1;31mNameError\u001b[0m                                 Traceback (most recent call last)",
      "Cell \u001b[1;32mIn[40], line 1\u001b[0m\n\u001b[1;32m----> 1\u001b[0m \u001b[38;5;28;01mclass\u001b[39;00m \u001b[38;5;21;01mWeather\u001b[39;00m:\n\u001b[0;32m      2\u001b[0m     \u001b[38;5;124m\"\u001b[39m\u001b[38;5;124mLookup weather information on a government website\u001b[39m\u001b[38;5;124m\"\u001b[39m\n\u001b[0;32m      4\u001b[0m     \u001b[38;5;28;01mdef\u001b[39;00m \u001b[38;5;21m__init__\u001b[39m(\u001b[38;5;28mself\u001b[39m, station_id):\n",
      "Cell \u001b[1;32mIn[40], line 13\u001b[0m, in \u001b[0;36mWeather\u001b[1;34m()\u001b[0m\n\u001b[0;32m      9\u001b[0m     \u001b[38;5;124m\"\u001b[39m\u001b[38;5;124mLatest hourly observation\u001b[39m\u001b[38;5;124m\"\u001b[39m\n\u001b[0;32m     10\u001b[0m     \u001b[38;5;66;03m# Do not cache this because old results\u001b[39;00m\n\u001b[0;32m     11\u001b[0m     \u001b[38;5;66;03m# can be out of date.\u001b[39;00m\n\u001b[1;32m---> 13\u001b[0m \u001b[38;5;129m@cached_property\u001b[39m\n\u001b[0;32m     14\u001b[0m \u001b[38;5;28;01mdef\u001b[39;00m \u001b[38;5;21mlocation\u001b[39m(\u001b[38;5;28mself\u001b[39m):\n\u001b[0;32m     15\u001b[0m     \u001b[38;5;124m\"\u001b[39m\u001b[38;5;124mReturn the longitude/latitude coordinates of the station\u001b[39m\u001b[38;5;124m\"\u001b[39m\n\u001b[0;32m     16\u001b[0m     \u001b[38;5;66;03m# Result only depends on the station_id\u001b[39;00m\n",
      "\u001b[1;31mNameError\u001b[0m: name 'cached_property' is not defined"
     ]
    }
   ],
   "source": [
    "class Weather:\n",
    "    \"Lookup weather information on a government website\"\n",
    "\n",
    "    def __init__(self, station_id):\n",
    "        self._station_id = station_id\n",
    "        # The _station_id is private and immutable\n",
    "\n",
    "    def current_temperature(self):\n",
    "        \"Latest hourly observation\"\n",
    "        # Do not cache this because old results\n",
    "        # can be out of date.\n",
    "\n",
    "    @cached_property\n",
    "    def location(self):\n",
    "        \"Return the longitude/latitude coordinates of the station\"\n",
    "        # Result only depends on the station_id\n",
    "\n",
    "    @lru_cache(maxsize=20)\n",
    "    def historic_rainfall(self, date, units='mm'):\n",
    "        \"Rainfall on a given date\"\n",
    "        # Depends on the station_id, date, and units.\n",
    "        \n",
    "To make the lru_cache approach work when the station_id is mutable, the class needs to define the __eq__() and __hash__() methods so that the cache can detect relevant attribute updates:"
   ]
  },
  {
   "cell_type": "code",
   "execution_count": 43,
   "id": "48b8ec01",
   "metadata": {},
   "outputs": [
    {
     "data": {
      "text/plain": [
       "'__pycache__\\\\mod.cpython-311.pyc'"
      ]
     },
     "execution_count": 43,
     "metadata": {},
     "output_type": "execute_result"
    }
   ],
   "source": [
    "import py_compile\n",
    "py_compile.compile('mod.py')  # This will write the .pyc to a __pycache__ subdirectory in the same location as foo.py "
   ]
  },
  {
   "cell_type": "code",
   "execution_count": null,
   "id": "94ae8180",
   "metadata": {},
   "outputs": [],
   "source": [
    "You can also automatically compile all files in a directory or directories using the compileall module. You can do it from the shell prompt by running compileall.py and providing the path of a directory containing Python files to compile:\n",
    "\n",
    "python -m compileall ."
   ]
  },
  {
   "cell_type": "code",
   "execution_count": null,
   "id": "01ad4d99",
   "metadata": {},
   "outputs": [],
   "source": []
  }
 ],
 "metadata": {
  "kernelspec": {
   "display_name": "Python 3 (ipykernel)",
   "language": "python",
   "name": "python3"
  },
  "language_info": {
   "codemirror_mode": {
    "name": "ipython",
    "version": 3
   },
   "file_extension": ".py",
   "mimetype": "text/x-python",
   "name": "python",
   "nbconvert_exporter": "python",
   "pygments_lexer": "ipython3",
   "version": "3.11.4"
  }
 },
 "nbformat": 4,
 "nbformat_minor": 5
}
