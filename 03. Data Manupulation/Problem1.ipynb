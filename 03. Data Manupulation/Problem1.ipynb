{
 "cells": [
  {
   "cell_type": "code",
   "execution_count": 1,
   "id": "e30aae0f",
   "metadata": {},
   "outputs": [],
   "source": [
    "import requests\n",
    "import pandas as pd\n",
    "import io"
   ]
  },
  {
   "cell_type": "markdown",
   "id": "f53a53e3",
   "metadata": {},
   "source": [
    "### Part 1 - Retrieving exchange rates"
   ]
  },
  {
   "cell_type": "code",
   "execution_count": 11,
   "id": "e4912305",
   "metadata": {},
   "outputs": [],
   "source": [
    "def get_exchange_rate(source: str, target: str = 'EUR') -> pd.DataFrame:\n",
    "    '''\n",
    "    Returns a dataframe with columns time_period and obs_value\n",
    "    Parameters:\n",
    "        source(str) : A source currency\n",
    "        target(str) : A target currency, default currency is EUR\n",
    "    return:\n",
    "    \n",
    "        data(dataframe) : Returns a dataframe with column Time_period and ob_value\n",
    "    '''\n",
    "    url = 'https://sdw-wsrest.ecb.europa.eu/service/data/EXR/'\n",
    "    \n",
    "    currency = 'M'+'.'+source+'.'+target+'.'+'SP00'+'.'+'A'+'?detail=dataonly'\n",
    "    request_url = url+currency\n",
    "    response = requests.get(request_url, headers={'Accept': 'text/csv'})\n",
    "    data = pd.read_csv(io.StringIO(response.text), usecols=['TIME_PERIOD', 'OBS_VALUE'])\n",
    "    return data"
   ]
  },
  {
   "cell_type": "code",
   "execution_count": 12,
   "id": "7967cb34",
   "metadata": {},
   "outputs": [
    {
     "name": "stdout",
     "output_type": "stream",
     "text": [
      "    TIME_PERIOD  OBS_VALUE\n",
      "0       1999-01   0.702913\n",
      "1       1999-02   0.688505\n",
      "2       1999-03   0.671270\n",
      "3       1999-04   0.665018\n",
      "4       1999-05   0.658252\n",
      "..          ...        ...\n",
      "276     2022-01   0.835034\n",
      "277     2022-02   0.837873\n",
      "278     2022-03   0.836383\n",
      "279     2022-04   0.836550\n",
      "280     2022-05   0.849685\n",
      "\n",
      "[281 rows x 2 columns]\n"
     ]
    }
   ],
   "source": [
    "try:\n",
    "    print(get_exchange_rate('GBP'))\n",
    "except Exception as ex:\n",
    "    print(ex)"
   ]
  },
  {
   "cell_type": "markdown",
   "id": "fbbab6e6",
   "metadata": {},
   "source": [
    "### Part 2 - Retrieving other data"
   ]
  },
  {
   "cell_type": "code",
   "execution_count": 4,
   "id": "265e3ac5",
   "metadata": {},
   "outputs": [],
   "source": [
    "def get_raw_data(identifier: str) -> pd.DataFrame:\n",
    "    '''\n",
    "    Returns a dataframe with columns time_period and obs_value\n",
    "    Parameters:\n",
    "        identifier(str) : Data Identifier\n",
    "    return:\n",
    "        data(dataframe) : Returns a dataframe with column Time_period and ob_value\n",
    "    '''\n",
    "    url = 'https://sdw-wsrest.ecb.europa.eu/service/data/BP6/'\n",
    "    key = identifier+'?detail=dataonly'\n",
    "    requested_url = url+key\n",
    "    response = requests.get(requested_url, headers={'Accept': 'text/csv'})\n",
    "    data = pd.read_csv(io.StringIO(response.text), usecols=['TIME_PERIOD', 'OBS_VALUE'])\n",
    "    return data"
   ]
  },
  {
   "cell_type": "code",
   "execution_count": 5,
   "id": "3ac7c5ee",
   "metadata": {},
   "outputs": [
    {
     "name": "stdout",
     "output_type": "stream",
     "text": [
      "    TIME_PERIOD    OBS_VALUE\n",
      "0       1999-01  1427.666667\n",
      "1       1999-02   379.666667\n",
      "2       1999-03 -1597.333333\n",
      "3       1999-04 -3788.666667\n",
      "4       1999-05  1690.333333\n",
      "..          ...          ...\n",
      "275     2021-12  4303.554729\n",
      "276     2022-01  3780.888021\n",
      "277     2022-02 -1033.570596\n",
      "278     2022-03 -1855.347220\n",
      "279     2022-04  8696.701376\n",
      "\n",
      "[280 rows x 2 columns]\n"
     ]
    }
   ],
   "source": [
    "try:\n",
    "    print(get_raw_data('M.N.I8.W1.S1.S1.T.N.FA.F.F7.T.EUR._T.T.N'))\n",
    "except Exception as ex:\n",
    "    print(ex)"
   ]
  },
  {
   "cell_type": "markdown",
   "id": "78a60b6f",
   "metadata": {},
   "source": [
    "### Part 3 - Data transformation"
   ]
  },
  {
   "cell_type": "code",
   "execution_count": 25,
   "id": "76563b3d",
   "metadata": {},
   "outputs": [],
   "source": [
    "def get_data(identifier: str,target_currency:str=None) -> pd.DataFrame:\n",
    "    '''\n",
    "    Returns a dataframe with columns time_period and obs_value\n",
    "    Parameters:\n",
    "        identifier(str) : Data Identifier\n",
    "        target_currency : A target currency, default currency is None\n",
    "    return:\n",
    "        data(dataframe) : Returns a dataframe with column Time_period and ob_value\n",
    "        \n",
    "    '''\n",
    "    if target_currency != None:\n",
    "        return get_exchange_rate(target_currency)\n",
    "    else:\n",
    "        return get_raw_data(identifier)"
   ]
  },
  {
   "cell_type": "code",
   "execution_count": 26,
   "id": "d7c771a1",
   "metadata": {},
   "outputs": [
    {
     "name": "stdout",
     "output_type": "stream",
     "text": [
      "    TIME_PERIOD  OBS_VALUE\n",
      "0       1999-01   0.702913\n",
      "1       1999-02   0.688505\n",
      "2       1999-03   0.671270\n",
      "3       1999-04   0.665018\n",
      "4       1999-05   0.658252\n",
      "..          ...        ...\n",
      "276     2022-01   0.835034\n",
      "277     2022-02   0.837873\n",
      "278     2022-03   0.836383\n",
      "279     2022-04   0.836550\n",
      "280     2022-05   0.849685\n",
      "\n",
      "[281 rows x 2 columns]\n"
     ]
    }
   ],
   "source": [
    "try:\n",
    "    print(get_data('M.N.I8.W1.S1.S1.T.N.FA.F.F7.T.EUR._T.T.N', 'GBP'))\n",
    "except Exception as ex:\n",
    "    print(ex)"
   ]
  },
  {
   "cell_type": "code",
   "execution_count": null,
   "id": "2a42dfdd",
   "metadata": {},
   "outputs": [],
   "source": []
  },
  {
   "cell_type": "code",
   "execution_count": null,
   "id": "e899ac04",
   "metadata": {},
   "outputs": [],
   "source": []
  },
  {
   "cell_type": "code",
   "execution_count": null,
   "id": "4c732639",
   "metadata": {},
   "outputs": [],
   "source": []
  },
  {
   "cell_type": "code",
   "execution_count": null,
   "id": "31e5707b",
   "metadata": {},
   "outputs": [],
   "source": []
  }
 ],
 "metadata": {
  "kernelspec": {
   "display_name": "Python 3 (ipykernel)",
   "language": "python",
   "name": "python3"
  },
  "language_info": {
   "codemirror_mode": {
    "name": "ipython",
    "version": 3
   },
   "file_extension": ".py",
   "mimetype": "text/x-python",
   "name": "python",
   "nbconvert_exporter": "python",
   "pygments_lexer": "ipython3",
   "version": "3.9.7"
  }
 },
 "nbformat": 4,
 "nbformat_minor": 5
}
