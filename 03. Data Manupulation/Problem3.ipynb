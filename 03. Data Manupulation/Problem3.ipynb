{
 "cells": [
  {
   "cell_type": "code",
   "execution_count": 1,
   "id": "8046f560",
   "metadata": {},
   "outputs": [],
   "source": [
    "import requests\n",
    "import pandas as pd\n",
    "import io"
   ]
  },
  {
   "cell_type": "markdown",
   "id": "9deb793e",
   "metadata": {},
   "source": [
    "### Part 1 - Retrieving transaction data"
   ]
  },
  {
   "cell_type": "code",
   "execution_count": 2,
   "id": "8400701f",
   "metadata": {},
   "outputs": [],
   "source": [
    "def get_transactions(identifier: str) -> pd.DataFrame:\n",
    "    '''\n",
    "    Returns a dataframe with columns 'IDENTIFIER','TIME_PERIOD','OBS_VALUE'\n",
    "    Parameters:\n",
    "        identifier(str) : Data Identifier\n",
    "    return:\n",
    "        data(dataframe) : Returns a dataframe with column 'IDENTIFIER','TIME_PERIOD','OBS_VALUE'\n",
    "    '''\n",
    "    url = 'https://sdw-wsrest.ecb.europa.eu/service/data/BP6/'\n",
    "    key = identifier+'?detail=dataonly'\n",
    "    requested_url = url+key\n",
    "    response = requests.get(requested_url, headers={'Accept': 'text/csv'})\n",
    "    data = pd.read_csv(io.StringIO(response.text))\n",
    "    data['IDENTIFIER']=identifier\n",
    "#     d=data[['IDENTIFIER','TIME_PERIOD','OBS_VALUE']]\n",
    "    d=data[['IDENTIFIER','TIME_PERIOD','OBS_VALUE']]\n",
    "#     data=data.replace({'IDENTIFIER':'BP6.',},'',inplace=True)\n",
    "    return d\n"
   ]
  },
  {
   "cell_type": "code",
   "execution_count": 3,
   "id": "88d7f8c8",
   "metadata": {},
   "outputs": [
    {
     "name": "stdout",
     "output_type": "stream",
     "text": [
      "                                   IDENTIFIER TIME_PERIOD      OBS_VALUE\n",
      "0   Q.N.I8.W1.S1.S1.T.A.FA.D.F._Z.EUR._T._X.N     1999-Q1   55420.181862\n",
      "1   Q.N.I8.W1.S1.S1.T.A.FA.D.F._Z.EUR._T._X.N     1999-Q2   87003.970961\n",
      "2   Q.N.I8.W1.S1.S1.T.A.FA.D.F._Z.EUR._T._X.N     1999-Q3   40331.868800\n",
      "3   Q.N.I8.W1.S1.S1.T.A.FA.D.F._Z.EUR._T._X.N     1999-Q4  190788.918229\n",
      "4   Q.N.I8.W1.S1.S1.T.A.FA.D.F._Z.EUR._T._X.N     2000-Q1   97279.053100\n",
      "..                                        ...         ...            ...\n",
      "88  Q.N.I8.W1.S1.S1.T.A.FA.D.F._Z.EUR._T._X.N     2021-Q1  127494.694321\n",
      "89  Q.N.I8.W1.S1.S1.T.A.FA.D.F._Z.EUR._T._X.N     2021-Q2    -485.698879\n",
      "90  Q.N.I8.W1.S1.S1.T.A.FA.D.F._Z.EUR._T._X.N     2021-Q3   45756.140798\n",
      "91  Q.N.I8.W1.S1.S1.T.A.FA.D.F._Z.EUR._T._X.N     2021-Q4  -24103.552317\n",
      "92  Q.N.I8.W1.S1.S1.T.A.FA.D.F._Z.EUR._T._X.N     2022-Q1   66657.274676\n",
      "\n",
      "[93 rows x 3 columns]\n"
     ]
    }
   ],
   "source": [
    "try:\n",
    "    print(get_transactions('Q.N.I8.W1.S1.S1.T.A.FA.D.F._Z.EUR._T._X.N'))\n",
    "except Exception as ex:\n",
    "    print(ex)"
   ]
  },
  {
   "cell_type": "markdown",
   "id": "bc401098",
   "metadata": {},
   "source": [
    "### Part 2 - Retrieving data for the formula"
   ]
  },
  {
   "cell_type": "code",
   "execution_count": 92,
   "id": "27aa4904",
   "metadata": {},
   "outputs": [],
   "source": [
    "def get_formula_data(formula: str) -> pd.DataFrame:\n",
    "\n",
    "    '''\n",
    "    Takes \n",
    "    '''\n",
    "    x=formula.split('=')\n",
    "    if '+' in x[1]:\n",
    "        n=x[1].split('+')\n",
    "    elif '-' in x:\n",
    "        n=x[1].split('-')\n",
    "        \n",
    "    p=get_transactions(n[0])\n",
    "    q=get_transactions(n[1])\n",
    "    p.rename(columns={'OBS_VALUE':n[0]}, inplace = True)\n",
    "    p[n[1]]=q['OBS_VALUE']\n",
    "    p.drop('IDENTIFIER',axis=1,inplace =True)\n",
    "    p.set_index('TIME_PERIOD',inplace=True)\n",
    "    return p"
   ]
  },
  {
   "cell_type": "code",
   "execution_count": 93,
   "id": "0a8e00b4",
   "metadata": {},
   "outputs": [
    {
     "name": "stdout",
     "output_type": "stream",
     "text": [
      "             Q.N.I8.W1.S1P.S1.T.A.FA.D.F._Z.EUR._T._X.N  \\\n",
      "TIME_PERIOD                                               \n",
      "2008-Q1                                   158849.702543   \n",
      "2008-Q2                                    55317.060368   \n",
      "2008-Q3                                   136186.079719   \n",
      "2008-Q4                                    19164.430917   \n",
      "2009-Q1                                    81747.492243   \n",
      "2009-Q2                                     4359.016090   \n",
      "2009-Q3                                    97404.319922   \n",
      "2009-Q4                                   101643.610182   \n",
      "2010-Q1                                    88749.530838   \n",
      "2010-Q2                                   132526.124345   \n",
      "2010-Q3                                   112994.937630   \n",
      "2010-Q4                                    16926.193848   \n",
      "2011-Q1                                   164778.610574   \n",
      "2011-Q2                                    66837.705827   \n",
      "2011-Q3                                   101404.079957   \n",
      "2011-Q4                                   164334.913637   \n",
      "2012-Q1                                   169722.186722   \n",
      "2012-Q2                                   117239.335351   \n",
      "2012-Q3                                   133626.431744   \n",
      "2012-Q4                                   140848.462567   \n",
      "2013-Q1                                   138388.828821   \n",
      "2013-Q2                                   144192.643373   \n",
      "2013-Q3                                    88088.489966   \n",
      "2013-Q4                                   242041.466429   \n",
      "2014-Q1                                    54212.399505   \n",
      "2014-Q2                                    26641.229152   \n",
      "2014-Q3                                   106861.559073   \n",
      "2014-Q4                                    59604.099749   \n",
      "2015-Q1                                   370161.044006   \n",
      "2015-Q2                                   142614.592243   \n",
      "2015-Q3                                   175379.413382   \n",
      "2015-Q4                                   352086.157166   \n",
      "2016-Q1                                   180557.230165   \n",
      "2016-Q2                                    70593.969401   \n",
      "2016-Q3                                    88720.990044   \n",
      "2016-Q4                                    81070.606253   \n",
      "2017-Q1                                   251676.575337   \n",
      "2017-Q2                                   137155.860125   \n",
      "2017-Q3                                  -106186.749274   \n",
      "2017-Q4                                    48947.025517   \n",
      "2018-Q1                                    74065.815517   \n",
      "2018-Q2                                    28328.305631   \n",
      "2018-Q3                                   -97283.996926   \n",
      "2018-Q4                                  -319678.695677   \n",
      "2019-Q1                                   145070.021743   \n",
      "2019-Q2                                  -160005.144186   \n",
      "2019-Q3                                   181221.163061   \n",
      "2019-Q4                                  -168947.195090   \n",
      "2020-Q1                                   -51147.157016   \n",
      "2020-Q2                                    47926.737922   \n",
      "2020-Q3                                    27044.374238   \n",
      "2020-Q4                                   -42402.067170   \n",
      "2021-Q1                                   126771.125293   \n",
      "2021-Q2                                     5450.255014   \n",
      "2021-Q3                                    42567.052328   \n",
      "2021-Q4                                   -25835.392215   \n",
      "2022-Q1                                             NaN   \n",
      "\n",
      "             Q.N.I8.W1.S1Q.S1.T.A.FA.D.F._Z.EUR._T._X.N  \n",
      "TIME_PERIOD                                              \n",
      "2008-Q1                                   158813.745366  \n",
      "2008-Q2                                    55136.813191  \n",
      "2008-Q3                                   136268.122542  \n",
      "2008-Q4                                    20203.473740  \n",
      "2009-Q1                                    81847.793872  \n",
      "2009-Q2                                     4460.404719  \n",
      "2009-Q3                                    97584.621551  \n",
      "2009-Q4                                   102102.934811  \n",
      "2010-Q1                                    88631.982291  \n",
      "2010-Q2                                   132497.565798  \n",
      "2010-Q3                                   113067.389083  \n",
      "2010-Q4                                    16908.611301  \n",
      "2011-Q1                                   164649.384132  \n",
      "2011-Q2                                    66581.579385  \n",
      "2011-Q3                                   101453.853515  \n",
      "2011-Q4                                   164375.733195  \n",
      "2012-Q1                                   169297.991022  \n",
      "2012-Q2                                   117163.013651  \n",
      "2012-Q3                                   133730.347044  \n",
      "2012-Q4                                   140860.361867  \n",
      "2013-Q1                                   138371.753430  \n",
      "2013-Q2                                   144062.318905  \n",
      "2013-Q3                                    87702.442548  \n",
      "2013-Q4                                   241987.477502  \n",
      "2014-Q1                                    54102.920963  \n",
      "2014-Q2                                    24960.803510  \n",
      "2014-Q3                                   107398.182549  \n",
      "2014-Q4                                    59472.719817  \n",
      "2015-Q1                                   370245.874029  \n",
      "2015-Q2                                   142687.542671  \n",
      "2015-Q3                                   175401.176835  \n",
      "2015-Q4                                   351626.326332  \n",
      "2016-Q1                                   180705.633075  \n",
      "2016-Q2                                    70721.878110  \n",
      "2016-Q3                                    88862.995634  \n",
      "2016-Q4                                    81034.706972  \n",
      "2017-Q1                                   251749.430608  \n",
      "2017-Q2                                   137363.689582  \n",
      "2017-Q3                                  -106046.428961  \n",
      "2017-Q4                                    49156.193621  \n",
      "2018-Q1                                    74026.110322  \n",
      "2018-Q2                                    28382.936285  \n",
      "2018-Q3                                   -97192.733862  \n",
      "2018-Q4                                  -319556.212061  \n",
      "2019-Q1                                   145014.010984  \n",
      "2019-Q2                                  -159933.230739  \n",
      "2019-Q3                                   181289.097134  \n",
      "2019-Q4                                  -168855.822006  \n",
      "2020-Q1                                   -51082.669281  \n",
      "2020-Q2                                    48001.705196  \n",
      "2020-Q3                                    27130.357017  \n",
      "2020-Q4                                   -42532.442352  \n",
      "2021-Q1                                   126710.255896  \n",
      "2021-Q2                                     5386.310761  \n",
      "2021-Q3                                    42625.681438  \n",
      "2021-Q4                                   -25793.606177  \n",
      "2022-Q1                                    64463.866001  \n"
     ]
    }
   ],
   "source": [
    "try:   \n",
    "    print(get_formula_data('Q.N.I8.W1.S1.S1.T.A.FA.D.F._Z.EUR._T._X.N =Q.N.I8.W1.S1P.S1.T.A.FA.D.F._Z.EUR._T._X.N +Q.N.I8.W1.S1Q.S1.T.A.FA.D.F._Z.EUR._T._X.N'))\n",
    "except Exception as ex:\n",
    "    print(ex)"
   ]
  },
  {
   "cell_type": "markdown",
   "id": "c89b5004",
   "metadata": {},
   "source": [
    "### Part 3 - Computing the aggregates"
   ]
  },
  {
   "cell_type": "code",
   "execution_count": 110,
   "id": "d33e45f8",
   "metadata": {},
   "outputs": [],
   "source": [
    "def compute_aggregates(formula: str) -> pd.DataFrame:\n",
    "    df=get_transactions(formula)\n",
    "    \n",
    "    x=formula.split('=')\n",
    "    if '+' in x[1]:\n",
    "        n=x[1].split('+')\n",
    "    elif '-' in x:\n",
    "        n=x[1].split('-')\n",
    "        \n",
    "    df[x[0]]=df[n[0]]+df[n[1]]\n",
    "    print(df)"
   ]
  },
  {
   "cell_type": "code",
   "execution_count": 112,
   "id": "d2341d37",
   "metadata": {},
   "outputs": [],
   "source": [
    "compute_aggregates('Q.N.I8.W1.S1.S1.T.A.FA.D.F._Z.EUR._T._X.N =Q.N.I8.W1.S1P.S1.T.A.FA.D.F._Z.EUR._T._X.N +Q.N.I8.W1.S1Q.S1.T.A.FA.D.F._Z.EUR._T._X.N')"
   ]
  },
  {
   "cell_type": "code",
   "execution_count": null,
   "id": "ecaac796",
   "metadata": {},
   "outputs": [],
   "source": []
  }
 ],
 "metadata": {
  "kernelspec": {
   "display_name": "Python 3 (ipykernel)",
   "language": "python",
   "name": "python3"
  },
  "language_info": {
   "codemirror_mode": {
    "name": "ipython",
    "version": 3
   },
   "file_extension": ".py",
   "mimetype": "text/x-python",
   "name": "python",
   "nbconvert_exporter": "python",
   "pygments_lexer": "ipython3",
   "version": "3.9.7"
  }
 },
 "nbformat": 4,
 "nbformat_minor": 5
}
