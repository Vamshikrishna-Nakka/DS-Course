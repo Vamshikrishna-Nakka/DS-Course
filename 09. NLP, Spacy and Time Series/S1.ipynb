{
 "cells": [
  {
   "cell_type": "code",
   "execution_count": 1,
   "id": "2fc99b53",
   "metadata": {},
   "outputs": [],
   "source": [
    "# spaCy-is an open-source adv NLP,developed by Matthew Honnibal and Ines Montani."
   ]
  },
  {
   "cell_type": "code",
   "execution_count": null,
   "id": "7d9698c5",
   "metadata": {},
   "outputs": [],
   "source": [
    "# !pip install spacy"
   ]
  },
  {
   "cell_type": "code",
   "execution_count": 108,
   "id": "0a5288b3",
   "metadata": {},
   "outputs": [],
   "source": [
    "import spacy\n",
    "import pandas as pd\n",
    "import sys\n",
    "import re\n",
    "from collections import Counter\n",
    "import warnings\n",
    "warnings.filterwarnings(\"ignore\")"
   ]
  },
  {
   "cell_type": "code",
   "execution_count": 3,
   "id": "830b29b0",
   "metadata": {},
   "outputs": [],
   "source": [
    "# Containers are spaCy objects that contain a large quantity of data about a text. the list are below\n",
    "# Doc, DocBin, Example, Language, Lexeme, Span, SpanGroup, Token\n",
    "\n",
    "# Doc −it is an object in spaCy’s architecture and owns the sequence of tokens along with all their annotations.\n",
    "\n",
    "# Span - slicing a part in doc[start : end]\n",
    "\n",
    "# Token - An individual token — i.e. a word, punctuation symbol, whitespace, etc.\n"
   ]
  },
  {
   "cell_type": "code",
   "execution_count": 4,
   "id": "59854707",
   "metadata": {},
   "outputs": [],
   "source": [
    "# spaCy first tokenizes the text to produce a Doc object. The Doc is then processed in several different steps – this is also \n",
    "# referred to as the processing pipeline. The pipeline used by the trained pipelines typically include pretrained models \n",
    "# a \"tagger, a lemmatizer,a parser and an entity recognizer\"."
   ]
  },
  {
   "cell_type": "code",
   "execution_count": 5,
   "id": "0ce56232",
   "metadata": {},
   "outputs": [],
   "source": [
    "# spaCy’s trained pipelines can be installed as Python packages.\n",
    "\n",
    "# !python -m spacy download en_core_web_sm\n",
    "# !python -m spacy download en_core_web_md\n",
    "# !python -m spacy download de_core_news_sm"
   ]
  },
  {
   "cell_type": "code",
   "execution_count": 6,
   "id": "c72835e4",
   "metadata": {},
   "outputs": [],
   "source": [
    "# nlp = spacy.load(\"en\") #shortcut link\n",
    "nlp= spacy.load(\"en_core_web_sm\") #package (English small model)\n",
    "# nlp= spacy.load(\"/path/to/en\") #Unicode path\n",
    "# nlp= spacy.load(Path(\"/path/to/en\")) #pathlib path\n",
    "# nlp= spacy.load(\"en_core_web_sm\", disable=[\"parser\", \"tagger\"]) #with all the arguments\n",
    "# import en_core_web_sm\n",
    "# nlp= en_core_web_sm.load()"
   ]
  },
  {
   "cell_type": "code",
   "execution_count": 50,
   "id": "1412902f",
   "metadata": {},
   "outputs": [
    {
     "name": "stdout",
     "output_type": "stream",
     "text": [
      "Pipeline: ['tok2vec', 'tagger', 'parser', 'attribute_ruler', 'lemmatizer', 'ner']\n"
     ]
    }
   ],
   "source": [
    "# nlp.disable_pipes('tagger', 'parser')\n",
    "nlp.analyze_pipes() # with syntax of pipes\n",
    "#nlp.add_pipe(nlp.create_pipe(\"merge\"),after=\"tagger\") #creating pipes and adding to existing list. postion mentioned.\n",
    "# nlp.lang  # the language used\n",
    "print(\"Pipeline:\", nlp.pipe_names) # all pipes"
   ]
  },
  {
   "cell_type": "code",
   "execution_count": 8,
   "id": "bdffe127",
   "metadata": {},
   "outputs": [],
   "source": [
    "#If a trained pipeline is available for a language, you can download it as above and load\n",
    "#In order to use languages that don’t yet come with a trained pipeline, you have to import them directly, or with blank:\n",
    " \n",
    "from spacy.lang.en import English\n",
    "nlp = English()# use directly\n",
    "\n",
    "# nlp = spacy.blank(\"en\")  # creating blank model with 2 letter language code,the object comes with tokenizer"
   ]
  },
  {
   "cell_type": "code",
   "execution_count": 9,
   "id": "75eef8f9",
   "metadata": {},
   "outputs": [
    {
     "name": "stdout",
     "output_type": "stream",
     "text": [
      "hello  False \n",
      "everyone  True \n",
      ",  False \n",
      "it  True \n",
      "'s  True \n",
      "a  True \n",
      "wonderful  False \n",
      "day  False \n",
      "today  False \n",
      "--------------------------------\n",
      "hello hello False INTJ\n",
      "everyone everyone True PRON\n",
      ", , False PUNCT\n",
      "it it True PRON\n",
      "'s be True AUX\n",
      "a a True DET\n",
      "wonderful wonderful False ADJ\n",
      "day day False NOUN\n",
      "today today False NOUN\n"
     ]
    }
   ],
   "source": [
    "# difference\n",
    "n1 = spacy.blank(\"en\")\n",
    "for i in n1(\"hello everyone, it's a wonderful day today\"):\n",
    "    print(i.text, i.lemma_, i.is_stop, i.pos_)\n",
    "print(\"--------------------------------\")\n",
    "n = spacy.load(\"en_core_web_sm\") \n",
    "for i in n(\"hello everyone, it's a wonderful day today\"):\n",
    "    print(i.text, i.lemma_, i.is_stop, i.pos_)"
   ]
  },
  {
   "cell_type": "code",
   "execution_count": 10,
   "id": "83f14356",
   "metadata": {},
   "outputs": [],
   "source": [
    "# spacy.info()    #provides information nlp.meta\n",
    "# spacy.info(\"en_core_web_sm\")\n",
    "# spacy.info(\"en_core_web_sm\", markdown=True)"
   ]
  },
  {
   "cell_type": "code",
   "execution_count": 11,
   "id": "485e53de",
   "metadata": {},
   "outputs": [],
   "source": [
    "# spacy.explain(\"NORP\") #give us a description"
   ]
  },
  {
   "cell_type": "code",
   "execution_count": 12,
   "id": "2e723760",
   "metadata": {},
   "outputs": [],
   "source": [
    "# spacy.prefer_gpu(), spacy.require_gpu() used for gpu mode."
   ]
  },
  {
   "cell_type": "code",
   "execution_count": 32,
   "id": "918b12ea",
   "metadata": {},
   "outputs": [],
   "source": [
    "s= \"\"\"The economic situation of the \n",
    "country is on edge , as the stock \n",
    "market crashed causing loss of millions.name : Shashank age: 54 email: shank@rediffmail.com Citizens who had their main 19% investment \n",
    "in the share-market are facing a great loss. Many 2000 companies might lay off \n",
    "thousands of people to 2009 reduce labor cost, name : pratham parmar age: 15 email : parmar15@yahoo.com\n",
    "                 \"\"\""
   ]
  },
  {
   "cell_type": "code",
   "execution_count": 114,
   "id": "3ecedba0",
   "metadata": {},
   "outputs": [
    {
     "data": {
      "text/plain": [
       "'five'"
      ]
     },
     "execution_count": 114,
     "metadata": {},
     "output_type": "execute_result"
    }
   ],
   "source": [
    "#lowercase the text to reduce the size of the vocabulary of our text data\n",
    "s.lower()\n",
    "\n",
    "#We can remove numbers.\n",
    "result = re.sub(r'\\d+', '', s)\\\n",
    "\n",
    "#convert the numbers into their textual representations.\n",
    "\n",
    "import inflect\n",
    "p = inflect.engine()\n",
    "p.number_to_words(5)"
   ]
  },
  {
   "cell_type": "code",
   "execution_count": 33,
   "id": "57d4026a",
   "metadata": {},
   "outputs": [],
   "source": [
    "#Creating a Doc Container\n",
    "doc=nlp(s)"
   ]
  },
  {
   "cell_type": "code",
   "execution_count": 67,
   "id": "7ad2fb42",
   "metadata": {},
   "outputs": [
    {
     "name": "stdout",
     "output_type": "stream",
     "text": [
      "<class 'spacy.tokens.doc.Doc'>\n",
      "<class 'spacy.tokens.span.Span'>\n",
      "<class 'spacy.tokens.token.Token'>\n"
     ]
    }
   ],
   "source": [
    "print(type(doc))\n",
    "print(type(doc[:5]))\n",
    "token=doc[2]\n",
    "print(type(token))"
   ]
  },
  {
   "attachments": {
    "Screenshot%202022-07-31%20150139.png": {
     "image/png": "[encoded data removed]"
    }
   },
   "cell_type": "markdown",
   "id": "a3d0e6db",
   "metadata": {},
   "source": [
    "![Screenshot%202022-07-31%20150139.png](attachment:Screenshot%202022-07-31%20150139.png)"
   ]
  },
  {
   "cell_type": "code",
   "execution_count": 16,
   "id": "754dd976",
   "metadata": {},
   "outputs": [
    {
     "data": {
      "text/plain": [
       "The economic situation of the \n",
       "country is on edge , as the stock \n",
       "market crashed causing loss of millions.name : Shashank age: 54 email: shank@rediffmail.com Citizens who had their main 19% investment \n",
       "in the share-market are facing a great loss. Many 2000 companies might lay off \n",
       "thousands of people to 2009 reduce labor cost, name : pratham parmar age: 15 email : parmar15@yahoo.com\n",
       "                 "
      ]
     },
     "execution_count": 16,
     "metadata": {},
     "output_type": "execute_result"
    }
   ],
   "source": [
    "doc"
   ]
  },
  {
   "cell_type": "code",
   "execution_count": 17,
   "id": "f71f59a8",
   "metadata": {},
   "outputs": [
    {
     "name": "stdout",
     "output_type": "stream",
     "text": [
      "403\n",
      "76\n"
     ]
    }
   ],
   "source": [
    "#Tokenization :Tokenization is the task of splitting a text into meaningful segments, called tokens.\n",
    "print(len(s))\n",
    "print(len(doc)) # all are tokens"
   ]
  },
  {
   "cell_type": "code",
   "execution_count": 18,
   "id": "4c661852",
   "metadata": {},
   "outputs": [
    {
     "name": "stdout",
     "output_type": "stream",
     "text": [
      "T\n",
      "h\n",
      "e\n",
      " \n",
      "e\n",
      "c\n",
      "o\n",
      "n\n",
      "o\n",
      "m\n",
      "i\n",
      "c\n",
      " \n",
      "s\n",
      "i\n",
      "----------\n",
      "The\n",
      "economic\n",
      "situation\n",
      "of\n",
      "the\n",
      "\n",
      "country\n",
      "is\n",
      "on\n",
      "edge\n",
      ",\n"
     ]
    }
   ],
   "source": [
    "for i in s[:15]: # by slicing\n",
    "    print(i)\n",
    "print(\"----------\")\n",
    "for token in s.split(' ')[:10]: #using split() by whitespace. this wont remove all\n",
    "    print(token)"
   ]
  },
  {
   "cell_type": "code",
   "execution_count": 19,
   "id": "aa3e590b",
   "metadata": {},
   "outputs": [
    {
     "name": "stdout",
     "output_type": "stream",
     "text": [
      "The\n",
      "economic\n",
      "situation\n",
      "of\n",
      "the\n",
      "\n",
      "\n",
      "country\n",
      "is\n"
     ]
    }
   ],
   "source": [
    "for i in doc[:8]:\n",
    "    print(i) #Tokens are something that has syntactic purpose in a sentence and is self-contained.\n",
    "             #These removes all white spaces, punctuations ..etc., but not newlines and some other for that we do textcleaning\n",
    "             # lets look after cleaning of the lengths len and see after cleaning in the below."
   ]
  },
  {
   "cell_type": "code",
   "execution_count": 20,
   "id": "4af3091c",
   "metadata": {},
   "outputs": [
    {
     "name": "stdout",
     "output_type": "stream",
     "text": [
      "economic\n",
      "situation\n",
      "country\n",
      "edge\n",
      "stock\n",
      "len--> 76\n",
      "len--> 39\n"
     ]
    }
   ],
   "source": [
    "#Text Cleaning or Preprocessing:you have punctuation like commas, brackets,, full stop and some extra white spaces too.\n",
    "doc_c = [token for token in doc if not token.is_stop and not token.is_punct and not token.is_space]\n",
    "\n",
    "for token in doc_c[:5]:\n",
    "    print(token.text)\n",
    "    \n",
    "print(\"len-->\",len(doc))\n",
    "print(\"len-->\",len(doc_c))\n",
    "\n",
    "\n",
    "# #Token Attributes\n",
    "\n",
    "# token.text  : Verbatim text content\n",
    "# token.head  : syntactic parent, or “governor”, of this token\n",
    "# token.left_edge  : leftmost token of this token’s syntactic descendants\n",
    "# token.right_edge  : rightmost token of this token’s syntactic descendants\n",
    "# token.ent_type  : Named entity type: return an integer that corresponds to an entity type\n",
    "# token.ent_type_  : Named entity type: _ will give you the string equivalent\n",
    "# token.ent_iob_  : IOB code of named entity tag. “B” means the token begins an entity, “I” means it is inside an entity, “O” means it is outside an entity, and \"\" means no entity tag is set.\n",
    "# token.lemma_  : Base form of the token, with no inflectional suffixes\n",
    "# token.pos_  : Coarse-grained part-of-speech from the Universal POS tag set\n",
    "# token.dep_  : Syntactic dependency relation\n",
    "# token.lang_  : Language of the parent document’s vocabulary\n",
    "# token.morph  : Morphological analysis\n",
    "\n",
    "# token.is_stop\n",
    "# token.idx      :token id\n",
    "# token.is_punct :punctuation\n",
    "# token.is_space : space\n",
    "# token.is_alpha : Returns True if the token is an alphabet\n",
    "# token.is_ascii : Returns True if the token belongs to ascii characters\n",
    "# token.is_digit : Returns True if the token is a number(0-9)\n",
    "# token.is_upper : Returns True if the token is upper case alphabet\n",
    "# token.is_lower : Returns True if the token is lower case alphabet\n",
    "# token.is_space : Returns True if the token is a space ‘ ‘\n",
    "# token.is_bracket : Returns True if the token is a bracket\n",
    "# token.is_quote : Returns True if the token is a quotation mark\n",
    "# token.like_url : Returns True if the token is similar to a URl (link to website)\n",
    "# token.like_email\n",
    "# token.like_num\n",
    "# token.tag_  :detailed POS tag, how words are dependeded on each other\n",
    "# token.shape_\n",
    "# token.text_with_ws :\n",
    "# token.is_bracket\n",
    "# token.is_quote\n",
    "# token.is_currency\n",
    "# token.Sentiment\n",
    "# token.Rank\n",
    "# token._  #user space for adding custom attribute extensions."
   ]
  },
  {
   "cell_type": "code",
   "execution_count": 46,
   "id": "2ef0b4ee",
   "metadata": {},
   "outputs": [
    {
     "name": "stdout",
     "output_type": "stream",
     "text": [
      "[(economic, 1), (situation, 1), (country, 1), (edge, 1), (stock, 1)]\n",
      "[economic, situation, country, edge, stock, market, crashed, causing, loss, millions.name, Shashank, age, 54, email, shank@rediffmail.com, Citizens, main, 19, investment, share, market, facing, great, loss, 2000, companies, lay, thousands, people, 2009, reduce, labor, cost, pratham, parmar, age, 15, email, parmar15@yahoo.com]\n"
     ]
    }
   ],
   "source": [
    "# Word Frequency: common words or unique words in the text\n",
    "word_freq = Counter(doc_c)\n",
    "# 5 commonly occurring words with their frequencies\n",
    "common_words = word_freq.most_common(5)\n",
    "print(common_words)\n",
    "# Unique words\n",
    "unique_words = [word for (word, freq) in word_freq.items() if freq == 1]\n",
    "print (unique_words)"
   ]
  },
  {
   "cell_type": "code",
   "execution_count": 41,
   "id": "dd23741c",
   "metadata": {},
   "outputs": [
    {
     "name": "stdout",
     "output_type": "stream",
     "text": [
      "        text   POS     Explain tag    Dep Shape  Alpha  stopword\n",
      "0        The   DET  determiner  DT    det   Xxx   True      True\n",
      "1   economic   ADJ   adjective  JJ   amod  xxxx   True     False\n",
      "2  situation  NOUN        noun  NN  nsubj  xxxx   True     False\n",
      "3         of   ADP  adposition  IN   prep    xx   True      True\n",
      "4        the   DET  determiner  DT    det   xxx   True      True\n"
     ]
    }
   ],
   "source": [
    "#Part of Speech Tagging (POS)\n",
    "rows=[]\n",
    "cols = (\"text\",\"POS\",\"Explain\",\"tag\",\"Dep\",\"Shape\",\"Alpha\",\"stopword\")\n",
    "for token in doc:\n",
    "    row=token.text,token.pos_,spacy.explain(token.pos_),token.tag_,token.dep_,token.shape_,token.is_alpha,token.is_stop\n",
    "    rows.append(row)\n",
    "df = pd.DataFrame(rows,columns=cols)\n",
    "print(df[:5])"
   ]
  },
  {
   "cell_type": "code",
   "execution_count": 40,
   "id": "460a2108",
   "metadata": {},
   "outputs": [
    {
     "name": "stdout",
     "output_type": "stream",
     "text": [
      "+------+-------+--------------------------+-----+-------+-------+-------+------+\n",
      "| text |  POS  |         Explain          | tag |  Dep  | Shape | Alpha | stop |\n",
      "|      |       |                          |     |       |       |       | word |\n",
      "+------+-------+--------------------------+-----+-------+-------+-------+------+\n",
      "| The  |  DET  |        determiner        | DT  |  det  |  Xxx  |   1   |  1   |\n",
      "+------+-------+--------------------------+-----+-------+-------+-------+------+\n",
      "| econ |  ADJ  | adjective (English), oth | JJ  | amod  | xxxx  |   1   |  0   |\n",
      "| omic |       | er noun-modifier (Chines |     |       |       |       |      |\n",
      "|      |       |            e)            |     |       |       |       |      |\n",
      "+------+-------+--------------------------+-----+-------+-------+-------+------+\n",
      "| situ | NOUN  |  noun, singular or mass  | NN  | nsubj | xxxx  |   1   |  0   |\n",
      "| atio |       |                          |     |       |       |       |      |\n",
      "|  n   |       |                          |     |       |       |       |      |\n",
      "+------+-------+--------------------------+-----+-------+-------+-------+------+\n",
      "|  of  |  ADP  | conjunction, subordinati | IN  | prep  |  xx   |   1   |  1   |\n",
      "|      |       |    ng or preposition     |     |       |       |       |      |\n",
      "+------+-------+--------------------------+-----+-------+-------+-------+------+\n",
      "| the  |  DET  |        determiner        | DT  |  det  |  xxx  |   1   |  1   |\n",
      "+------+-------+--------------------------+-----+-------+-------+-------+------+\n",
      "|      | SPACE |        whitespace        | _SP |  dep  |       |   0   |  0   |\n",
      "|      |       |                          |     |       |       |       |      |\n",
      "+------+-------+--------------------------+-----+-------+-------+-------+------+\n",
      "| coun | NOUN  |  noun, singular or mass  | NN  | pobj  | xxxx  |   1   |  0   |\n",
      "| try  |       |                          |     |       |       |       |      |\n",
      "+------+-------+--------------------------+-----+-------+-------+-------+------+\n",
      "|  is  |  AUX  | verb, 3rd person singula | VBZ | ROOT  |  xx   |   1   |  1   |\n",
      "|      |       |        r present         |     |       |       |       |      |\n",
      "+------+-------+--------------------------+-----+-------+-------+-------+------+\n",
      "|  on  |  ADP  | conjunction, subordinati | IN  | prep  |  xx   |   1   |  1   |\n",
      "|      |       |    ng or preposition     |     |       |       |       |      |\n",
      "+------+-------+--------------------------+-----+-------+-------+-------+------+\n",
      "| edge | NOUN  |  noun, singular or mass  | NN  | pobj  | xxxx  |   1   |  0   |\n",
      "+------+-------+--------------------------+-----+-------+-------+-------+------+\n"
     ]
    }
   ],
   "source": [
    "# pip install beatifultable\n",
    "from beautifultable import BeautifulTable\n",
    "table=BeautifulTable()\n",
    "# table.rows.header = [\"1\", \"2\", \"3\", \"4\", \"5\"....] # if needed index we can specify\n",
    "table.columns.header = [\"text\",\"POS\",\"Explain\",\"tag\",\"Dep\",\"Shape\",\"Alpha\",\"stopword\"]\n",
    "for token in doc:\n",
    "    table.rows.append([token.text,token.pos_,spacy.explain(token.tag_),token.tag_,token.dep_,token.shape_,token.is_alpha,token.is_stop])\n",
    "\n",
    "print(table[:10])"
   ]
  },
  {
   "cell_type": "code",
   "execution_count": 62,
   "id": "b086a740",
   "metadata": {},
   "outputs": [
    {
     "name": "stdout",
     "output_type": "stream",
     "text": [
      "is\n",
      "Mood=Ind|Number=Sing|Person=3|Tense=Pres|VerbForm=Fin\n",
      "['Pres']\n",
      "Mood=Ind|Number=Sing|Person=3|Tense=Pres|VerbForm=Fin\n",
      "AUX\n"
     ]
    }
   ],
   "source": [
    "# Morphology: Inflectional morphology is the process by which a root form of a word is modified by adding prefixes or suffixes \n",
    "# that specify its grammatical function but do not change its part-of-speech. We say that a lemma (root form) is inflected \n",
    "# (modified/combined) with one or more morphological features to create a surface form.\n",
    "\n",
    "# Morphological features are stored in the MorphAnalysis under Token.morph which allows you to access individual morphological features.\n",
    "token = doc[7]\n",
    "print(token.text)\n",
    "print(token.morph)  \n",
    "print(token.morph.get(\"Tense\"))\n",
    "\n",
    "#Rule-based morphology  :it uses the token text and fine-grained POS tags to produce coarse-grained POS tags and morphological features.\n",
    "print(token.morph)\n",
    "print(token.pos_) "
   ]
  },
  {
   "cell_type": "code",
   "execution_count": 120,
   "id": "b1655334",
   "metadata": {},
   "outputs": [
    {
     "name": "stdout",
     "output_type": "stream",
     "text": [
      "Connects ---> connect\n",
      "Connecting ---> connect\n",
      "Connections ---> connect\n",
      "Connected ---> connect\n",
      "Connection ---> connect\n",
      "Connectings ---> connect\n",
      "Connect ---> connect\n"
     ]
    }
   ],
   "source": [
    "#Stemming\n",
    "from nltk.stem import PorterStemmer\n",
    "p = PorterStemmer()\n",
    "words = ['Connects','Connecting','Connections','Connected','Connection','Connectings','Connect']\n",
    "for word in words:\n",
    "    print(word,\"--->\",p.stem(word))"
   ]
  },
  {
   "cell_type": "code",
   "execution_count": 146,
   "id": "684599e1",
   "metadata": {},
   "outputs": [
    {
     "name": "stdout",
     "output_type": "stream",
     "text": [
      "The <----> the\n",
      "economic <----> economic\n",
      "situation <----> situation\n",
      "of <----> of\n",
      "the <----> the\n",
      "['lemmatizer']\n",
      "rule\n",
      "rule\n"
     ]
    }
   ],
   "source": [
    "#Lemmatization is the method of converting a token to it’s root/base form. “played”, “playing”, “plays”, “play”.\n",
    "\n",
    "for token in doc[:5]:\n",
    "    print(token.text,\"<---->\",token.lemma_)\n",
    "    \n",
    "#two pipeline components for lemmatization.\n",
    "# -> Lemmatizer : provides lookup and rule-based lemmatization methods in a configurable component. \n",
    "# -> EditTreeLemmatizer\n",
    "\n",
    "print(nlp.pipe_names)\n",
    "print(nlp.get_pipe(\"lemmatizer\").mode)\n",
    "\n",
    "#Lookup lemmatizer :For pipelines without a tagger or morphologizer, a lookup lemmatizer can be added to the pipeline as \n",
    "                    #long as a lookup table is provided.it looks up the token surface form in the lookup table without \n",
    "                    #reference to the token’s part-of-speech or context.\n",
    "\n",
    "# nlp = spacy.blank(\"en\")\n",
    "# nlp.add_pipe(\"lemmatizer\", config={\"mode\": \"lookup\"}).initialize()\n",
    "# print(nlp.get_pipe(\"lemmatizer\").mode)\n",
    "\n",
    "# Rulebased lemmatizer :it maps the surface form to a lemma in light of the previously assigned coarse-grained pos and \n",
    "                       # morphological information, without consulting the context of the token. The rule-based lemmatizer\n",
    "                       # also accepts list-based exception files. For English, these are acquired from WordNet.\n",
    "        \n",
    "# nlp = spacy.blank(\"en\")\n",
    "# nlp.add_pipe(\"lemmatizer\", config={\"mode\": \"rule\"}).initialize()\n",
    "# print(nlp.get_pipe(\"lemmatizer\").mode)\n",
    "\n",
    "\n",
    "#EditTreeLemmatizer(Trainable lemmatizer): can learn form-to-lemma transformations from a training corpus that includes \n",
    "                        #lemma annotations. This removes the need to write language-specific rules and can (in many cases) \n",
    "                        #provide higher accuracies than lookup and rule-based lemmatizers.\n",
    "        \n",
    "# nlp = spacy.blank(\"de\")\n",
    "# nlp.add_pipe(\"trainable_lemmatizer\", name=\"lemmatizer\")"
   ]
  },
  {
   "cell_type": "code",
   "execution_count": 101,
   "id": "fda25401",
   "metadata": {},
   "outputs": [
    {
     "name": "stdout",
     "output_type": "stream",
     "text": [
      "=> The economic situation of the \n",
      "country is on edge , as the stock \n",
      "market crashed causing loss of millions.name : Shashank age: 54 email: shank@rediffmail.com\n",
      "0 29\n",
      "the economic situation of the \n",
      "country be on edge , as the stock \n",
      "market crash cause loss of millions.name : Shashank age: 54 email: shank@rediffmail.com\n",
      "=> Citizens who had their main 19% investment \n",
      "in the share-market are facing a great loss.\n",
      "29 49\n",
      "citizen who have their main 19% investment \n",
      "in the share-market be face a great loss.\n",
      "=> Many 2000 companies might lay off \n",
      "thousands of people to 2009 reduce labor cost, name : pratham parmar age: 15 email : parmar15@yahoo.com\n",
      "                 \n",
      "49 76\n",
      "many 2000 company might lay off \n",
      "thousand of people to 2009 reduce labor cost, name : pratham parmar age: 15 email : parmar15@yahoo.com\n"
     ]
    }
   ],
   "source": [
    "#Sentence Boundary Detection (SBD) - identification of sentences Doc container, we can use the attribute sents.\n",
    "sents =list(doc.sents)#sents attribute is a generator.we can usually iterate over generators by converting them into a list.\n",
    "for sent in sents:\n",
    "    print(\"=>\", sent)\n",
    "    print(sent.start,sent.end)\n",
    "    print(sent.lemma_)        # sentence lemmatization"
   ]
  },
  {
   "cell_type": "code",
   "execution_count": 102,
   "id": "1d0b795c",
   "metadata": {},
   "outputs": [
    {
     "name": "stdout",
     "output_type": "stream",
     "text": [
      "The\n",
      "economic\n",
      "situation\n",
      "country\n",
      "edge\n",
      "stock\n",
      "market\n",
      "crashed\n",
      "causing\n",
      "loss\n",
      "millions.name\n",
      "Shashank\n",
      "age\n",
      "54\n",
      "email\n",
      "shank@rediffmail.com\n"
     ]
    }
   ],
   "source": [
    "#StopWords\n",
    "from spacy.lang.en.stop_words import STOP_WORDS\n",
    "stopwords=list(STOP_WORDS)\n",
    "for sent in sents:\n",
    "    for token in sent: \n",
    "        if token.text not in stopwords:\n",
    "            if token.is_space == False and not token.is_punct:\n",
    "                print(token)\n",
    "    break  # -- working on single sentense so wont move to next"
   ]
  },
  {
   "cell_type": "code",
   "execution_count": null,
   "id": "fd54709b",
   "metadata": {},
   "outputs": [],
   "source": []
  },
  {
   "cell_type": "code",
   "execution_count": null,
   "id": "822643af",
   "metadata": {},
   "outputs": [],
   "source": []
  },
  {
   "cell_type": "code",
   "execution_count": null,
   "id": "2ec18005",
   "metadata": {},
   "outputs": [],
   "source": []
  }
 ],
 "metadata": {
  "kernelspec": {
   "display_name": "Python 3 (ipykernel)",
   "language": "python",
   "name": "python3"
  },
  "language_info": {
   "codemirror_mode": {
    "name": "ipython",
    "version": 3
   },
   "file_extension": ".py",
   "mimetype": "text/x-python",
   "name": "python",
   "nbconvert_exporter": "python",
   "pygments_lexer": "ipython3",
   "version": "3.9.12"
  }
 },
 "nbformat": 4,
 "nbformat_minor": 5
}
