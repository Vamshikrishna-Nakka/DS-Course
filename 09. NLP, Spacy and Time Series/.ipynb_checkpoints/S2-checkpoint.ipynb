{
 "cells": [
  {
   "cell_type": "code",
   "execution_count": 1,
   "id": "79cb99e8",
   "metadata": {},
   "outputs": [],
   "source": [
    "import spacy\n",
    "import pandas as pd\n",
    "import sys\n",
    "import re\n",
    "from collections import Counter\n",
    "import warnings\n",
    "warnings.filterwarnings(\"ignore\")\n",
    "from spacy import displacy"
   ]
  },
  {
   "cell_type": "code",
   "execution_count": 16,
   "id": "b8e531df",
   "metadata": {},
   "outputs": [],
   "source": [
    "nlp= spacy.load(\"en_core_web_sm\")\n",
    "s= \"\"\"The economic situation of the \n",
    "country is on edge , as the stock \n",
    "market crashed causing loss of millions. name : Shashank age: 54 email: shank@rediffmail.com Citizens who had their main 19% investment \n",
    "in the share-market are facing a great loss. Many 2000 companies might lay off \n",
    "thousands of people to 2009 reduce labor cost, name : pratham parmar age: 15 email : parmar15@yahoo.com\n",
    "                 \"\"\""
   ]
  },
  {
   "cell_type": "code",
   "execution_count": 17,
   "id": "6145ac60",
   "metadata": {},
   "outputs": [
    {
     "data": {
      "text/plain": [
       "True"
      ]
     },
     "execution_count": 17,
     "metadata": {},
     "output_type": "execute_result"
    }
   ],
   "source": [
    "doc=nlp(s)\n",
    "\n",
    "doc.has_annotation(\"DEP\") #which checks whether the attribute Token.dep has been set returns a boolean value."
   ]
  },
  {
   "cell_type": "code",
   "execution_count": 4,
   "id": "3967e03b",
   "metadata": {},
   "outputs": [
    {
     "name": "stdout",
     "output_type": "stream",
     "text": [
      "Token           | Relation | Head            | Tag        | Children  \n",
      "----------------------------------------------------------------------\n",
      "The             | det      | situation       | DT         | []        \n",
      "economic        | amod     | situation       | JJ         | []        \n",
      "situation       | nsubj    | is              | NN         | [The, economic, of]\n",
      "of              | prep     | situation       | IN         | [country] \n",
      "the             | det      | country         | DT         | [\n",
      "]       \n"
     ]
    }
   ],
   "source": [
    "#Dependency Parsing :It defines the dependency relationship between headwords and their dependents.\n",
    "\n",
    "# the process of generating the relationship among different words of a sentence and describing their syntactic roles\n",
    "# The head of a sentence has no dependency and is called the root of the sentence.The verb is usually the head of the \n",
    "# sentence. All other words are linked to the headword.\n",
    "\n",
    "# Dependency parsing helps you know what role a word plays in the text and how different words relate to each other. \n",
    "# It’s also used in \"shallow parsing\" and \"named entity recognition\".\n",
    "    \n",
    "print (\"{:<15} | {:<8} | {:<15} | {:<10} | {:<10}\".format('Token','Relation','Head','Tag', 'Children'))\n",
    "print (\"-\" * 70)\n",
    "\n",
    "for token in doc[:5]:\n",
    "  # Print the token, dependency nature, head and all dependents of the token\n",
    "  print (\"{:<15} | {:<8} | {:<15} | {:<10} | {:<10}\"\n",
    "         .format(str(token.text), str(token.dep_), str(token.head.text),str(token.tag_),str([child for child in token.children])))"
   ]
  },
  {
   "cell_type": "code",
   "execution_count": 5,
   "id": "3a37d168",
   "metadata": {},
   "outputs": [
    {
     "name": "stdout",
     "output_type": "stream",
     "text": [
      "                     text  Root text Root dep Root_head_text\n",
      "0  The economic situation  situation    nsubj             is\n",
      "1           the \\ncountry    country     pobj             of\n",
      "2                    edge       edge     pobj             on\n",
      "3      the stock \\nmarket     market    nsubj        crashed\n",
      "4                    loss       loss     dobj        causing\n",
      "5                millions   millions     pobj             of\n",
      "6                    name       name     ROOT           name\n",
      "7            Shashank age        age     ROOT            age\n",
      "8                54 email      email    appos            age\n",
      "9                Citizens   Citizens    nsubj         facing\n"
     ]
    }
   ],
   "source": [
    "# Shallow parsing, or chunking\n",
    "\n",
    "#noun_chunks : You can think of noun chunks as a noun plus the words describing the noun \n",
    "rows=[]\n",
    "cols = (\"text\",\"Root text\",\"Root dep\",\"Root_head_text\")\n",
    "for chunk in doc.noun_chunks:\n",
    "    row=chunk.text, chunk.root.text, chunk.root.dep_,chunk.root.head.text\n",
    "    rows.append(row)\n",
    "df = pd.DataFrame(rows,columns=cols)\n",
    "print(df[:10])"
   ]
  },
  {
   "cell_type": "code",
   "execution_count": null,
   "id": "60156a56",
   "metadata": {},
   "outputs": [],
   "source": []
  },
  {
   "cell_type": "code",
   "execution_count": null,
   "id": "94a39622",
   "metadata": {},
   "outputs": [],
   "source": []
  },
  {
   "cell_type": "code",
   "execution_count": null,
   "id": "c58ccd17",
   "metadata": {},
   "outputs": [],
   "source": []
  },
  {
   "cell_type": "code",
   "execution_count": 6,
   "id": "f7a2a871",
   "metadata": {},
   "outputs": [],
   "source": [
    "# Visualizing\n",
    "\n",
    "# options = {\"compact\": True, \"bg\": \"#09a3d5\",\n",
    "#            \"color\": \"red\", \"font\": \"Source Sans Pro\"}\n",
    "\n",
    "# displacy.serve(doc, style=\"dep\", options=options)\n",
    "# displacy.render(doc, style=\"dep\")\n",
    "\n",
    "\n",
    "\n",
    "# Serve arguements:\n",
    "# Docs\tlist, doc, Span\tIt represents the document to visualize.\t\n",
    "# Style\tUnicode\tWe have two visualization style namely ‘dep’, or ‘ent’.\tThe default value is ‘dep’.\n",
    "# Page\tbool\tIt will render the markup as full HTML page.\tThe default value is true.\n",
    "# minify\tbool\tThis argument will minify the HTML markup.\tThe default value is false.\n",
    "# options\tdict\tIt represents the visualizers-specific options. For example, colors.\t{}\n",
    "# manual\tbool\tThis argument will not parse Doc and instead, expect a dict or list of dicts.\tThe default value is false.\n",
    "# Port\tint\tIt is the port number to serve visualization.\t5000\n",
    "# Host\tunicode\tIt is the Host number to serve visualization.\t'0.0.0.0'\n",
    "\n",
    "\n",
    "\n",
    "# Render arguements:(excluding port and host from serve arguments + below one)\n",
    "# jupyter\tBool\tTo return markup ready to be rendered in a notebook, this argument will explicitly enable or disable the Jupyter mode. If we will not provide this argument, it will automatically detect.\tNone\n",
    "\n",
    "\n",
    "\n",
    "# Dependency Visualizer options\n",
    "\n",
    "# fine_grained    \tbool\tPut the value of this argument True, if you want to use fine-grained part-of-speech tags (Token.tag_), instead of coarse-grained tags (Token.pos_).\tThe default value is False.\n",
    "# add_lemma       \tbool\tIntroduced in version 2.2.4, this argument prints the lemma’s in a separate row below the token texts.\tThe default value is False.\n",
    "# collapse_punct  \tbool\tIt attaches punctuation to the tokens.\tThe default value is True.\n",
    "# collapse_phrases\tbool\tThis argument merges the noun phrases into one token.\tThe default value is False.\n",
    "# compact         \tbool\tIf you will take this argument as true, you will get the “Compact mode” with square arrows that takes up less space.\tThe default value is False.\n",
    "# color           \tunicode \tAs name implies, this argument is for the text color (HEX, RGB or color names).\t'#000000'\n",
    "# bg              \tunicode\tAs name implies, this argument is for the Background color (HEX, RGB or color names).\t'#ffffff'\n",
    "# font            \tunicode\tIt is for the font name.\tDefault value is 'Arial'.\n",
    "# offset_x        \tint\tThis argument is used for spacing on left side of the SVG in px.\tThe default value of this argument is 50.\n",
    "# arrow_stroke    \tint\tThis argument is used for adjusting the width of arrow path in px.\tThe default value of this argument is 2.\n",
    "# arrow_width     \tint\tThis argument is used for adjusting the width of arrow head in px.\tThe default value of this argument is 10 / 8 (compact).\n",
    "# arrow_spacing   \tint\tThis argument is used for adjusting the spacing between arrows in px to avoid overlaps.\tThe default value of this argument is 20 / 12 (compact).\n",
    "# word_spacing    \tint\tThis argument is used for adjusting the vertical spacing between words and arcs in px.\tThe default value of this argument is 45.\n",
    "# distance        \tint\tThis argument is used for adjusting the distance between words in px.\tThe default value of this argument is 175 / 150 (compact).\n",
    "\n",
    "\n",
    "\n",
    "# Named Entity Visualizer options:\n",
    "\n",
    "# ents\tlist\tIt represents the entity types to highlight. Put None for all types.\tThe default value is None.\n",
    "# colors\tDict\tAs name implies, it is use for color overrides. The entity types in uppercase must mapped to color name.\t{}"
   ]
  },
  {
   "cell_type": "code",
   "execution_count": 7,
   "id": "26984906",
   "metadata": {},
   "outputs": [
    {
     "data": {
      "text/html": [
       "<span class=\"tex2jax_ignore\"><div class=\"entities\" style=\"line-height: 2.5; direction: ltr\">The economic situation of the </br>country is on edge , as the stock </br>market crashed causing loss of millions. name : Shashank age: 54 email: shank@rediffmail.com Citizens who had their main 19% investment </br>in the share-market are facing a great loss. Many 2000 companies might lay off </br>thousands of people to 2009 reduce labor cost, name : \n",
       "<mark class=\"entity\" style=\"background: linear-gradient(90deg, #aa9cfc, #fc9ce7); padding: 0.45em 0.6em; margin: 0 0.25em; line-height: 1; border-radius: 0.35em;\">\n",
       "    pratham parmar age\n",
       "    <span style=\"font-size: 0.8em; font-weight: bold; line-height: 1; border-radius: 0.35em; vertical-align: middle; margin-left: 0.5rem\">ORG</span>\n",
       "</mark>\n",
       ": 15 email : parmar15@yahoo.com</br>                 </div></span>"
      ],
      "text/plain": [
       "<IPython.core.display.HTML object>"
      ]
     },
     "metadata": {},
     "output_type": "display_data"
    }
   ],
   "source": [
    "colors = {\"ORG\": \"linear-gradient(90deg, #aa9cfc, #fc9ce7)\"}\n",
    "options = {\"ents\": [\"ORG\"], \"colors\": colors}\n",
    "displacy.render(doc, style=\"ent\", options=options)"
   ]
  },
  {
   "cell_type": "code",
   "execution_count": 8,
   "id": "04e25577",
   "metadata": {},
   "outputs": [
    {
     "data": {
      "text/html": [
       "<span class=\"tex2jax_ignore\"><svg xmlns=\"http://www.w3.org/2000/svg\" xmlns:xlink=\"http://www.w3.org/1999/xlink\" xml:lang=\"en\" id=\"4957e26d980f456c9468df8b1f16e29f-0\" class=\"displacy\" width=\"500\" height=\"212.0\" direction=\"ltr\" style=\"max-width: none; height: 212.0px; color: red; background: #09a3d5; font-family: Source Sans Pro; direction: ltr\">\n",
       "<text class=\"displacy-token\" fill=\"currentColor\" text-anchor=\"middle\" y=\"122.0\">\n",
       "    <tspan class=\"displacy-word\" fill=\"currentColor\" x=\"50\">This</tspan>\n",
       "    <tspan class=\"displacy-tag\" dy=\"2em\" fill=\"currentColor\" x=\"50\">PRON</tspan>\n",
       "</text>\n",
       "\n",
       "<text class=\"displacy-token\" fill=\"currentColor\" text-anchor=\"middle\" y=\"122.0\">\n",
       "    <tspan class=\"displacy-word\" fill=\"currentColor\" x=\"200\">is</tspan>\n",
       "    <tspan class=\"displacy-tag\" dy=\"2em\" fill=\"currentColor\" x=\"200\">AUX</tspan>\n",
       "</text>\n",
       "\n",
       "<text class=\"displacy-token\" fill=\"currentColor\" text-anchor=\"middle\" y=\"122.0\">\n",
       "    <tspan class=\"displacy-word\" fill=\"currentColor\" x=\"350\">krishna.com.</tspan>\n",
       "    <tspan class=\"displacy-tag\" dy=\"2em\" fill=\"currentColor\" x=\"350\">X</tspan>\n",
       "</text>\n",
       "\n",
       "<g class=\"displacy-arrow\">\n",
       "    <path class=\"displacy-arc\" id=\"arrow-4957e26d980f456c9468df8b1f16e29f-0-0\" stroke-width=\"2px\" d=\"M62,77.0 62,52.0 200.0,52.0 200.0,77.0\" fill=\"none\" stroke=\"currentColor\"/>\n",
       "    <text dy=\"1.25em\" style=\"font-size: 0.8em; letter-spacing: 1px\">\n",
       "        <textPath xlink:href=\"#arrow-4957e26d980f456c9468df8b1f16e29f-0-0\" class=\"displacy-label\" startOffset=\"50%\" side=\"left\" fill=\"currentColor\" text-anchor=\"middle\">nsubj</textPath>\n",
       "    </text>\n",
       "    <path class=\"displacy-arrowhead\" d=\"M62,79.0 L58,71.0 66,71.0\" fill=\"currentColor\"/>\n",
       "</g>\n",
       "\n",
       "<g class=\"displacy-arrow\">\n",
       "    <path class=\"displacy-arc\" id=\"arrow-4957e26d980f456c9468df8b1f16e29f-0-1\" stroke-width=\"2px\" d=\"M212,77.0 212,52.0 350.0,52.0 350.0,77.0\" fill=\"none\" stroke=\"currentColor\"/>\n",
       "    <text dy=\"1.25em\" style=\"font-size: 0.8em; letter-spacing: 1px\">\n",
       "        <textPath xlink:href=\"#arrow-4957e26d980f456c9468df8b1f16e29f-0-1\" class=\"displacy-label\" startOffset=\"50%\" side=\"left\" fill=\"currentColor\" text-anchor=\"middle\">attr</textPath>\n",
       "    </text>\n",
       "    <path class=\"displacy-arrowhead\" d=\"M350.0,79.0 L354.0,71.0 346.0,71.0\" fill=\"currentColor\"/>\n",
       "</g>\n",
       "</svg></span>"
      ],
      "text/plain": [
       "<IPython.core.display.HTML object>"
      ]
     },
     "metadata": {},
     "output_type": "display_data"
    }
   ],
   "source": [
    "doc = nlp(\"This is krishna.com.\")\n",
    "options = {\"compact\": True, \"bg\": \"#09a3d5\",\n",
    "           \"color\": \"red\", \"font\": \"Source Sans Pro\"}\n",
    "displacy.render(doc, style=\"dep\", options=options)"
   ]
  },
  {
   "cell_type": "code",
   "execution_count": 9,
   "id": "5bff3ed7",
   "metadata": {},
   "outputs": [
    {
     "data": {
      "text/plain": [
       "'auxiliary'"
      ]
     },
     "execution_count": 9,
     "metadata": {},
     "output_type": "execute_result"
    }
   ],
   "source": [
    "spacy.explain(\"AUX\")"
   ]
  },
  {
   "cell_type": "code",
   "execution_count": 44,
   "id": "1bbdeec2",
   "metadata": {},
   "outputs": [
    {
     "name": "stdout",
     "output_type": "stream",
     "text": [
      "entity          | start character | end character   | specifies the category | Explanation\n",
      "------------------------------------------------------------------------------------------\n",
      "millions        | 97              | 105             | CARDINAL             | Numerals that do not fall under another type\n",
      "Shashank        | 114             | 122             | PERSON               | People, including fictional\n",
      "54              | 128             | 130             | CARDINAL             | Numerals that do not fall under another type\n",
      "Citizens        | 159             | 167             | PERSON               | People, including fictional\n",
      "19%             | 187             | 190             | PERCENT              | Percentage, including \"%\"\n",
      "2000            | 253             | 257             | DATE                 | Absolute or relative dates or periods\n",
      "thousands       | 283             | 292             | CARDINAL             | Numerals that do not fall under another type\n",
      "2009            | 306             | 310             | DATE                 | Absolute or relative dates or periods\n",
      "pratham parmar age | 337             | 355             | ORG                  | Companies, agencies, institutions, etc.\n",
      "15              | 357             | 359             | CARDINAL             | Numerals that do not fall under another type\n"
     ]
    }
   ],
   "source": [
    "# Named Entity Recognition\n",
    "print (\"{:<15} | {:<8} | {:<15} | {:<20} | {:<10}\".format(\"entity\",\"start character\",\"end character\",\"specifies the category\",\"Explanation\"))\n",
    "print (\"-\" * 90)\n",
    "\n",
    "for ent in doc.ents:\n",
    "    print (\"{:<15} | {:<15} | {:<15} | {:<20} | {:15}\"\n",
    "         .format(str(ent.text), str(ent.start_char), str(ent.end_char),str(ent.label_),str(spacy.explain(ent.label_))))"
   ]
  },
  {
   "cell_type": "code",
   "execution_count": 46,
   "id": "4284cd73",
   "metadata": {},
   "outputs": [
    {
     "name": "stdout",
     "output_type": "stream",
     "text": [
      "millions 20 21 97 105 CARDINAL\n",
      "Shashank 24 25 114 122 PERSON\n",
      "54 27 28 128 130 CARDINAL\n",
      "Citizens 31 32 159 167 PERSON\n",
      "19% 36 38 187 190 PERCENT\n",
      "2000 52 53 253 257 DATE\n",
      "thousands 58 59 283 292 CARDINAL\n",
      "2009 62 63 306 310 DATE\n",
      "pratham parmar age 69 72 337 355 ORG\n",
      "15 73 74 357 359 CARDINAL\n"
     ]
    }
   ],
   "source": [
    "for ent in doc.ents: \n",
    "    print(ent.text, ent.start, ent.end, ent.start_char, ent.end_char, ent.label_)"
   ]
  },
  {
   "cell_type": "code",
   "execution_count": 39,
   "id": "00dbd1ae",
   "metadata": {},
   "outputs": [
    {
     "data": {
      "text/html": [
       "<span class=\"tex2jax_ignore\"><div class=\"entities\" style=\"line-height: 2.5; direction: ltr\">The economic situation of the </br>country is on edge , as the stock </br>market crashed causing loss of \n",
       "<mark class=\"entity\" style=\"background: #e4e7d2; padding: 0.45em 0.6em; margin: 0 0.25em; line-height: 1; border-radius: 0.35em;\">\n",
       "    millions\n",
       "    <span style=\"font-size: 0.8em; font-weight: bold; line-height: 1; border-radius: 0.35em; vertical-align: middle; margin-left: 0.5rem\">CARDINAL</span>\n",
       "</mark>\n",
       ". name : \n",
       "<mark class=\"entity\" style=\"background: #aa9cfc; padding: 0.45em 0.6em; margin: 0 0.25em; line-height: 1; border-radius: 0.35em;\">\n",
       "    Shashank\n",
       "    <span style=\"font-size: 0.8em; font-weight: bold; line-height: 1; border-radius: 0.35em; vertical-align: middle; margin-left: 0.5rem\">PERSON</span>\n",
       "</mark>\n",
       " age: \n",
       "<mark class=\"entity\" style=\"background: #e4e7d2; padding: 0.45em 0.6em; margin: 0 0.25em; line-height: 1; border-radius: 0.35em;\">\n",
       "    54\n",
       "    <span style=\"font-size: 0.8em; font-weight: bold; line-height: 1; border-radius: 0.35em; vertical-align: middle; margin-left: 0.5rem\">CARDINAL</span>\n",
       "</mark>\n",
       " email: shank@rediffmail.com \n",
       "<mark class=\"entity\" style=\"background: #aa9cfc; padding: 0.45em 0.6em; margin: 0 0.25em; line-height: 1; border-radius: 0.35em;\">\n",
       "    Citizens\n",
       "    <span style=\"font-size: 0.8em; font-weight: bold; line-height: 1; border-radius: 0.35em; vertical-align: middle; margin-left: 0.5rem\">PERSON</span>\n",
       "</mark>\n",
       " who had their main \n",
       "<mark class=\"entity\" style=\"background: #e4e7d2; padding: 0.45em 0.6em; margin: 0 0.25em; line-height: 1; border-radius: 0.35em;\">\n",
       "    19%\n",
       "    <span style=\"font-size: 0.8em; font-weight: bold; line-height: 1; border-radius: 0.35em; vertical-align: middle; margin-left: 0.5rem\">PERCENT</span>\n",
       "</mark>\n",
       " investment </br>in the share-market are facing a great loss. Many \n",
       "<mark class=\"entity\" style=\"background: #bfe1d9; padding: 0.45em 0.6em; margin: 0 0.25em; line-height: 1; border-radius: 0.35em;\">\n",
       "    2000\n",
       "    <span style=\"font-size: 0.8em; font-weight: bold; line-height: 1; border-radius: 0.35em; vertical-align: middle; margin-left: 0.5rem\">DATE</span>\n",
       "</mark>\n",
       " companies might lay off </br>\n",
       "<mark class=\"entity\" style=\"background: #e4e7d2; padding: 0.45em 0.6em; margin: 0 0.25em; line-height: 1; border-radius: 0.35em;\">\n",
       "    thousands\n",
       "    <span style=\"font-size: 0.8em; font-weight: bold; line-height: 1; border-radius: 0.35em; vertical-align: middle; margin-left: 0.5rem\">CARDINAL</span>\n",
       "</mark>\n",
       " of people to \n",
       "<mark class=\"entity\" style=\"background: #bfe1d9; padding: 0.45em 0.6em; margin: 0 0.25em; line-height: 1; border-radius: 0.35em;\">\n",
       "    2009\n",
       "    <span style=\"font-size: 0.8em; font-weight: bold; line-height: 1; border-radius: 0.35em; vertical-align: middle; margin-left: 0.5rem\">DATE</span>\n",
       "</mark>\n",
       " reduce labor cost, name : \n",
       "<mark class=\"entity\" style=\"background: #7aecec; padding: 0.45em 0.6em; margin: 0 0.25em; line-height: 1; border-radius: 0.35em;\">\n",
       "    pratham parmar age\n",
       "    <span style=\"font-size: 0.8em; font-weight: bold; line-height: 1; border-radius: 0.35em; vertical-align: middle; margin-left: 0.5rem\">ORG</span>\n",
       "</mark>\n",
       ": \n",
       "<mark class=\"entity\" style=\"background: #e4e7d2; padding: 0.45em 0.6em; margin: 0 0.25em; line-height: 1; border-radius: 0.35em;\">\n",
       "    15\n",
       "    <span style=\"font-size: 0.8em; font-weight: bold; line-height: 1; border-radius: 0.35em; vertical-align: middle; margin-left: 0.5rem\">CARDINAL</span>\n",
       "</mark>\n",
       " email : parmar15@yahoo.com</br>                 </div></span>"
      ],
      "text/plain": [
       "<IPython.core.display.HTML object>"
      ]
     },
     "metadata": {},
     "output_type": "display_data"
    }
   ],
   "source": [
    "displacy.render(doc, style=\"ent\")"
   ]
  },
  {
   "cell_type": "code",
   "execution_count": 52,
   "id": "d7bac18b",
   "metadata": {},
   "outputs": [
    {
     "name": "stdout",
     "output_type": "stream",
     "text": [
      "['The', 'O', '']\n",
      "['economic', 'O', '']\n"
     ]
    }
   ],
   "source": [
    "# token level\n",
    "ent_san = [doc[0].text, doc[0].ent_iob_, doc[0].ent_type_]\n",
    "ent_francisco = [doc[1].text, doc[1].ent_iob_, doc[1].ent_type_]\n",
    "print(ent_san)\n",
    "print(ent_francisco)"
   ]
  },
  {
   "cell_type": "code",
   "execution_count": 53,
   "id": "0966948a",
   "metadata": {},
   "outputs": [
    {
     "data": {
      "text/plain": [
       "economic"
      ]
     },
     "execution_count": 53,
     "metadata": {},
     "output_type": "execute_result"
    }
   ],
   "source": []
  },
  {
   "cell_type": "code",
   "execution_count": null,
   "id": "7d77a406",
   "metadata": {},
   "outputs": [],
   "source": []
  }
 ],
 "metadata": {
  "kernelspec": {
   "display_name": "Python 3 (ipykernel)",
   "language": "python",
   "name": "python3"
  },
  "language_info": {
   "codemirror_mode": {
    "name": "ipython",
    "version": 3
   },
   "file_extension": ".py",
   "mimetype": "text/x-python",
   "name": "python",
   "nbconvert_exporter": "python",
   "pygments_lexer": "ipython3",
   "version": "3.9.12"
  },
  "vscode": {
   "interpreter": {
    "hash": "be3bd2ac910530f2b3f0d48447eda6cba001e56068be88d50b404ca8ede32526"
   }
  }
 },
 "nbformat": 4,
 "nbformat_minor": 5
}
