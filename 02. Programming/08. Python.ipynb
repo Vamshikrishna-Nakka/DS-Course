{
 "cells": [
  {
   "cell_type": "markdown",
   "id": "58aef104",
   "metadata": {},
   "source": [
    "## Json"
   ]
  },
  {
   "cell_type": "code",
   "execution_count": null,
   "id": "0b550ad1",
   "metadata": {},
   "outputs": [],
   "source": [
    "# JavaScript Object Notation (JSON) is a standard text-based format for representing structured data based on JavaScript object syntax.\n",
    "# It's common to transmit and receive data between a server and web application in JSON format."
   ]
  },
  {
   "cell_type": "code",
   "execution_count": 1,
   "id": "04daa592",
   "metadata": {},
   "outputs": [],
   "source": [
    "s={\n",
    "  \"squadName\": \"Super hero squad\",\n",
    "  \"formed\": 2016,\n",
    "  \"members\": [\n",
    "    {\n",
    "      \"name\": \"Molecule Man\",\n",
    "      \"age\": 29,\n",
    "      \"powers\": [\"Radiation resistance\", \"Turning tiny\", \"Radiation blast\"]\n",
    "    },\n",
    "    {\n",
    "      \"name\": \"Eternal Flame\",\n",
    "      \"age\": 1000000,\n",
    "      \"powers\": [\n",
    "        \"Immortality\",\n",
    "        \"Heat Immunity\",\n",
    "      ]\n",
    "    }\n",
    "  ]\n",
    "}"
   ]
  },
  {
   "cell_type": "code",
   "execution_count": 4,
   "id": "3da830bd",
   "metadata": {},
   "outputs": [
    {
     "data": {
      "text/plain": [
       "'Super hero squad'"
      ]
     },
     "execution_count": 4,
     "metadata": {},
     "output_type": "execute_result"
    }
   ],
   "source": [
    "s[\"squadName\"]"
   ]
  },
  {
   "cell_type": "code",
   "execution_count": 11,
   "id": "6420e0b1",
   "metadata": {},
   "outputs": [
    {
     "data": {
      "text/plain": [
       "29"
      ]
     },
     "execution_count": 11,
     "metadata": {},
     "output_type": "execute_result"
    }
   ],
   "source": [
    "s[\"members\"][0]['age']"
   ]
  },
  {
   "cell_type": "code",
   "execution_count": 12,
   "id": "4510024b",
   "metadata": {},
   "outputs": [],
   "source": [
    "import json"
   ]
  },
  {
   "cell_type": "code",
   "execution_count": 14,
   "id": "c7d1019c",
   "metadata": {},
   "outputs": [],
   "source": [
    "# json.dumps(obj, *, skipkeys=False, ensure_ascii=True, check_circular=True, allow_nan=True, cls=None, indent=None,separators=None, default=None, sort_keys=False, **kw)\n",
    "# --> convert a python object(dictionary) to JSON string using json.dumps() method."
   ]
  },
  {
   "cell_type": "code",
   "execution_count": 17,
   "id": "243476b3",
   "metadata": {},
   "outputs": [],
   "source": [
    "jk=json.dumps(s)    # since s is not string type so dumps will convert to str."
   ]
  },
  {
   "cell_type": "code",
   "execution_count": 18,
   "id": "622295cf",
   "metadata": {},
   "outputs": [
    {
     "data": {
      "text/plain": [
       "'{\"squadName\": \"Super hero squad\", \"formed\": 2016, \"members\": [{\"name\": \"Molecule Man\", \"age\": 29, \"powers\": [\"Radiation resistance\", \"Turning tiny\", \"Radiation blast\"]}, {\"name\": \"Eternal Flame\", \"age\": 1000000, \"powers\": [\"Immortality\", \"Heat Immunity\"]}]}'"
      ]
     },
     "execution_count": 18,
     "metadata": {},
     "output_type": "execute_result"
    }
   ],
   "source": [
    "jk"
   ]
  },
  {
   "cell_type": "code",
   "execution_count": 19,
   "id": "4ae895ae",
   "metadata": {},
   "outputs": [
    {
     "name": "stdout",
     "output_type": "stream",
     "text": [
      "{\n",
      "  \"squadName\": \"Super hero squad\",\n",
      "  \"formed\": 2016,\n",
      "  \"members\": [\n",
      "    {\n",
      "      \"name\": \"Molecule Man\",\n",
      "      \"age\": 29,\n",
      "      \"powers\": [\n",
      "        \"Radiation resistance\",\n",
      "        \"Turning tiny\",\n",
      "        \"Radiation blast\"\n",
      "      ]\n",
      "    },\n",
      "    {\n",
      "      \"name\": \"Eternal Flame\",\n",
      "      \"age\": 1000000,\n",
      "      \"powers\": [\n",
      "        \"Immortality\",\n",
      "        \"Heat Immunity\"\n",
      "      ]\n",
      "    }\n",
      "  ]\n",
      "}\n"
     ]
    }
   ],
   "source": [
    "print(json.dumps(s,indent=2))  # Setting indentation to get prettier output"
   ]
  },
  {
   "cell_type": "code",
   "execution_count": 20,
   "id": "f4b5fadb",
   "metadata": {},
   "outputs": [
    {
     "name": "stdout",
     "output_type": "stream",
     "text": [
      "{\"formed\": 2016, \"members\": [{\"age\": 29, \"name\": \"Molecule Man\", \"powers\": [\"Radiation resistance\", \"Turning tiny\", \"Radiation blast\"]}, {\"age\": 1000000, \"name\": \"Eternal Flame\", \"powers\": [\"Immortality\", \"Heat Immunity\"]}], \"squadName\": \"Super hero squad\"}\n"
     ]
    }
   ],
   "source": [
    "print(json.dumps(s, sort_keys=True))  # Sorting keys alphabetically to get consistent outputBy default"
   ]
  },
  {
   "cell_type": "code",
   "execution_count": 21,
   "id": "2528e922",
   "metadata": {},
   "outputs": [
    {
     "name": "stdout",
     "output_type": "stream",
     "text": [
      "{\"squadName\":\"Super hero squad\",\"formed\":2016,\"members\":[{\"name\":\"Molecule Man\",\"age\":29,\"powers\":[\"Radiation resistance\",\"Turning tiny\",\"Radiation blast\"]},{\"name\":\"Eternal Flame\",\"age\":1000000,\"powers\":[\"Immortality\",\"Heat Immunity\"]}]}\n"
     ]
    }
   ],
   "source": [
    "print(json.dumps(s, separators=(',', ':')))   #We might want to get rid of the unnecessary spaces, which is done by setting separator strings different from thedefault ', ' and ': ':"
   ]
  },
  {
   "cell_type": "code",
   "execution_count": null,
   "id": "0233046d",
   "metadata": {},
   "outputs": [],
   "source": [
    "# Python objects and their equivalent conversion to JSON.\n",
    "\n",
    "# Python            JSON Equivalent\n",
    "# dict              object\n",
    "# list, tuple       array\n",
    "# str               string\n",
    "# int, float, int   number\n",
    "# True              true\n",
    "# False             false\n",
    "# None              null"
   ]
  },
  {
   "cell_type": "code",
   "execution_count": null,
   "id": "0d06d74c",
   "metadata": {},
   "outputs": [],
   "source": [
    "# json.loads()---> You can parse a JSON string using json.loads() method. The method returns a dictionary."
   ]
  },
  {
   "cell_type": "code",
   "execution_count": 23,
   "id": "0b7b3f40",
   "metadata": {},
   "outputs": [
    {
     "data": {
      "text/plain": [
       "{'squadName': 'Super hero squad',\n",
       " 'formed': 2016,\n",
       " 'members': [{'name': 'Molecule Man',\n",
       "   'age': 29,\n",
       "   'powers': ['Radiation resistance', 'Turning tiny', 'Radiation blast']},\n",
       "  {'name': 'Eternal Flame',\n",
       "   'age': 1000000,\n",
       "   'powers': ['Immortality', 'Heat Immunity']}]}"
      ]
     },
     "execution_count": 23,
     "metadata": {},
     "output_type": "execute_result"
    }
   ],
   "source": [
    "json.loads(jk)      # back to data format from string."
   ]
  },
  {
   "cell_type": "code",
   "execution_count": null,
   "id": "bc588546",
   "metadata": {},
   "outputs": [],
   "source": [
    "# json.dump()  --> method can be used for writing to JSON file.\n",
    "# json.dump(obj, fp, *, skipkeys=False, ensure_ascii=True, check_circular=True, allow_nan=True, cls=None, indent=None, separators=None, default=None, sort_keys=False, **kw)"
   ]
  },
  {
   "cell_type": "code",
   "execution_count": 24,
   "id": "0e7c4595",
   "metadata": {},
   "outputs": [],
   "source": [
    "with open('person.txt', 'w') as json_file:      # to text file\n",
    "    json.dump(s, json_file)"
   ]
  },
  {
   "cell_type": "code",
   "execution_count": 35,
   "id": "92699787",
   "metadata": {},
   "outputs": [],
   "source": [
    "with open('person.json', 'w') as json_file:     # to json file\n",
    "    json.dump(s, json_file)"
   ]
  },
  {
   "cell_type": "code",
   "execution_count": null,
   "id": "68797b66",
   "metadata": {},
   "outputs": [],
   "source": [
    "# json.load()  --> method for converting a JSON file object into a standard python object."
   ]
  },
  {
   "cell_type": "code",
   "execution_count": 33,
   "id": "62058f6f",
   "metadata": {},
   "outputs": [],
   "source": [
    "with open('D:\\\\Personal\\\\coding\\\\Training\\\\person.txt', 'r') as f:    # with text file\n",
    "    data = json.load(f)"
   ]
  },
  {
   "cell_type": "code",
   "execution_count": 37,
   "id": "e2b0ff67",
   "metadata": {},
   "outputs": [],
   "source": [
    "with open('D:\\\\Personal\\\\coding\\\\Training\\\\person.json', 'r') as f:    # with json file\n",
    "    data1 = json.load(f)"
   ]
  },
  {
   "cell_type": "code",
   "execution_count": 39,
   "id": "82d5af6b",
   "metadata": {},
   "outputs": [
    {
     "data": {
      "text/plain": [
       "{'squadName': 'Super hero squad',\n",
       " 'formed': 2016,\n",
       " 'members': [{'name': 'Molecule Man',\n",
       "   'age': 29,\n",
       "   'powers': ['Radiation resistance', 'Turning tiny', 'Radiation blast']},\n",
       "  {'name': 'Eternal Flame',\n",
       "   'age': 1000000,\n",
       "   'powers': ['Immortality', 'Heat Immunity']}]}"
      ]
     },
     "execution_count": 39,
     "metadata": {},
     "output_type": "execute_result"
    }
   ],
   "source": [
    "data1"
   ]
  },
  {
   "cell_type": "markdown",
   "id": "209b86ee",
   "metadata": {},
   "source": [
    "## Requests"
   ]
  },
  {
   "cell_type": "code",
   "execution_count": null,
   "id": "69fc0183",
   "metadata": {},
   "outputs": [],
   "source": [
    "# The requests module allows you to send HTTP requests using Python. \n",
    "# The HTTP request returns a Response Object with all the response data (content, encoding, status, etc).\n",
    "# The Requests library provides a simple API for interacting with HTTP operations such as GET, POST, etc.\n",
    "# It simplifies the process of sending and receiving data from websites by providing a uniform interface for both \n",
    "  # GET and POST methods."
   ]
  },
  {
   "cell_type": "code",
   "execution_count": null,
   "id": "2639ffb3",
   "metadata": {},
   "outputs": [],
   "source": [
    "# What is HTTP?\n",
    "# The Hypertext Transfer Protocol (HTTP) is a request/response protocol based on the client-server architecture that relies\n",
    "# on TCP/IP connections for exchanging request and response messages.\n",
    "\n",
    "# HTTP clients such as web browsers or mobile applications send requests to an HTTP server, and the server responds to them\n",
    "# with messages containing a status line, a header, and a body.\n",
    "\n",
    "# The Requests library can automatically validate server SSL certificates, supports Client-Side certificates, and\n",
    "# has built-in support for International Domain Names, URLs, and Unicode response bodies.\n",
    "\n",
    "# Python has a built-in urllib3 module for handling HTTP requests with similar functionality, but almost all use Python\n",
    "# Requests as the code is simple and easy to read."
   ]
  },
  {
   "cell_type": "code",
   "execution_count": null,
   "id": "71dec90b",
   "metadata": {},
   "outputs": [],
   "source": [
    "# This URLS can be access through the HTTP(Hypertext Transfer Protocol) methods.\n",
    "# GET    - retrieve information \n",
    "# POST   - adds new data to the server. \n",
    "# PUT    - used to send data to a server to create/update a resource.\n",
    "# DELETE - deletes existing information"
   ]
  },
  {
   "cell_type": "code",
   "execution_count": 1,
   "id": "311afe5b",
   "metadata": {},
   "outputs": [
    {
     "name": "stdout",
     "output_type": "stream",
     "text": [
      "<Response [200]>\n"
     ]
    }
   ],
   "source": [
    "import requests\n",
    "response = requests.get('https://google.com/')\n",
    "print(response)"
   ]
  },
  {
   "cell_type": "code",
   "execution_count": 2,
   "id": "1728debd",
   "metadata": {},
   "outputs": [
    {
     "name": "stdout",
     "output_type": "stream",
     "text": [
      "<class 'requests.models.Response'>\n"
     ]
    }
   ],
   "source": [
    "print(type(response))"
   ]
  },
  {
   "cell_type": "code",
   "execution_count": 3,
   "id": "a4ed71fd",
   "metadata": {},
   "outputs": [],
   "source": [
    "# --- Response Methods ---\n",
    "# response.headers               # returns a dictionary of response headers.\n",
    "# response.encoding              # returns the encoding used to decode response.content.\n",
    "# response.elapsed               # returns a timedelta object with the time elapsed from sending the request to the arrival of the response.\n",
    "# response.close()               # closes the connection to the server.\n",
    "# response.content               # returns the content of the response, in bytes.\n",
    "# response.cookies               # returns a CookieJar object with the cookies sent back from the server.\n",
    "# response.history               # returns a list of response objects holding the history of request (url).\n",
    "# response.is_permanent_redirect # returns True if the response is the permanent redirected url, otherwise False.\n",
    "# response.is_redirect           # returns True if the response was redirected, otherwise False.\n",
    "# response.iter_content()        # iterates over the response.content.\n",
    "# response.json()                # returns a JSON object of the result (if the result was written in JSON format, if not it raises an error).\n",
    "# response.url                   # returns the URL of the response.\n",
    "# response.text                  # returns the content of the response, in unicode.\n",
    "# response.status_code           # returns a number that indicates the status (200 is OK, 404 is Not Found).\n",
    "# response.request               # returns the request object that requested this response.\n",
    "# response.reason                # returns a text corresponding to the status code.\n",
    "# response.raise_for_status()    # returns an HTTPError object if an error has occurred during the process.\n",
    "# response.ok                    # returns True if status_code is less than 200, otherwise False.\n",
    "# response.links                 # returns the header links."
   ]
  },
  {
   "cell_type": "code",
   "execution_count": 4,
   "id": "db3594c3",
   "metadata": {},
   "outputs": [],
   "source": [
    "# Status Codes\n",
    "# 200 – OK. The request was successful. The answer itself depends on the method used (GET, POST, etc.)\n",
    "# 204 – No Content. The server successfully processed the request and did not return any content.\n",
    "# 301 – Moved Permanently.The server responds that the requested page (endpoint) has been moved to another address and redirects to this address.\n",
    "# 400 – Bad Request. The server cannot process the request because the client-side errors (incorrect request format).\n",
    "# 401 – Unauthorized. Occurs when authentication was failed, due to incorrect credentials or even their absence.\n",
    "# 403 – Forbidden. Access to the specified resource is denied.\n",
    "# 404 – Not Found. The requested resource was not found on the server. \n",
    "# 500 – Internal Server Error. Occurs when an unknown error has occurred on the server."
   ]
  },
  {
   "cell_type": "code",
   "execution_count": 45,
   "id": "f2e00219",
   "metadata": {},
   "outputs": [
    {
     "name": "stdout",
     "output_type": "stream",
     "text": [
      "200\n"
     ]
    }
   ],
   "source": [
    "print(response.status_code)"
   ]
  },
  {
   "cell_type": "code",
   "execution_count": 46,
   "id": "ed72d304",
   "metadata": {},
   "outputs": [
    {
     "name": "stdout",
     "output_type": "stream",
     "text": [
      "Request is successful.\n"
     ]
    }
   ],
   "source": [
    "# status code was True if between 200 and 400, and False otherwise.\n",
    "if response:\n",
    "    print('Request is successful.')\n",
    "else:\n",
    "    print('Request returned an error.')"
   ]
  },
  {
   "cell_type": "markdown",
   "id": "7b6d189a",
   "metadata": {},
   "source": [
    "#### Get Method"
   ]
  },
  {
   "cell_type": "code",
   "execution_count": null,
   "id": "681a7650",
   "metadata": {},
   "outputs": [],
   "source": [
    "# requests.get(URL, params={key: value}, headers=[headers], cookies=[cookies], auth[auth], timeout[timeout], arguments)\n",
    "\n",
    "# The GET request method is used to request a resource from the server using the provided URL. \n",
    "# The HTTP GET method is one of nine standard methods of Hypertext Transfer Protocol (HTTP). \n",
    "# The GET method should only be used to retrieve data from the server. \n",
    "# GET requests cannot send data to the server in the body of a GET message and cannot change the server's state."
   ]
  },
  {
   "cell_type": "code",
   "execution_count": 64,
   "id": "7783bfb7",
   "metadata": {},
   "outputs": [
    {
     "name": "stdout",
     "output_type": "stream",
     "text": [
      "Response Code: 200\n",
      "Response Headers:\n",
      " {'Date': 'Thu, 25 May 2023 15:49:36 GMT', 'Content-Type': 'application/json', 'Content-Length': '429', 'Connection': 'keep-alive', 'Server': 'gunicorn/19.9.0', 'Access-Control-Allow-Origin': '*', 'Access-Control-Allow-Credentials': 'true'}\n",
      "Response Content:\n",
      " {\n",
      "  \"slideshow\": {\n",
      "    \"author\": \"Yours Truly\", \n",
      "    \"date\": \"date of publication\", \n",
      "    \"slides\": [\n",
      "      {\n",
      "        \"title\": \"Wake up to WonderWidgets!\", \n",
      "        \"type\": \"all\"\n",
      "      }, \n",
      "      {\n",
      "        \"items\": [\n",
      "          \"Why <em>WonderWidgets</em> are great\", \n",
      "          \"Who <em>buys</em> WonderWidgets\"\n",
      "        ], \n",
      "        \"title\": \"Overview\", \n",
      "        \"type\": \"all\"\n",
      "      }\n",
      "    ], \n",
      "    \"title\": \"Sample Slide Show\"\n",
      "  }\n",
      "}\n",
      "\n",
      "http://httpbin.org/json?website=dataquest.io&courses=Python&courses=SQL\n"
     ]
    },
    {
     "data": {
      "text/plain": [
       "'application/json; charset=utf-8'"
      ]
     },
     "execution_count": 64,
     "metadata": {},
     "output_type": "execute_result"
    }
   ],
   "source": [
    "url = 'http://httpbin.org/json'\n",
    "\n",
    "payload = {\n",
    "    'website':'dataquest.io',\n",
    "    'courses':['Python','SQL']\n",
    "    }\n",
    "\n",
    "r = requests.get(url, params=payload)\n",
    "\n",
    "print('Response Code:', r.status_code)\n",
    "print('Response Headers:\\n', r.headers)\n",
    "print('Response Content:\\n',r.text)         \n",
    "response.headers['Content-Type']      # headers property returns a special dictionary made for only HTTP headers, so you can access each item simply using its key"
   ]
  },
  {
   "cell_type": "code",
   "execution_count": 5,
   "id": "9ad3971a",
   "metadata": {},
   "outputs": [
    {
     "name": "stdout",
     "output_type": "stream",
     "text": [
      "<!DOCTYPE html>\n",
      "<!--[if lt IE 7]> <html class=\"no-js ie6 oldie\" lang=\"en-US\"> <![endif]-->\n",
      "<!--[if IE 7]>    <html class=\"no-js ie7 oldie\" lang=\"en-US\"> <![endif]-->\n",
      "<!--[if IE 8]>    <html class=\"no-js ie8 oldie\" lang=\"en-US\"> <![endif]-->\n",
      "<!--[if gt IE 8]><!--> <html class=\"no-js\" lang=\"en-US\"> <!--<![endif]-->\n",
      "<head>\n",
      "<title>Attention Required! | Cloudflare</title>\n",
      "<meta charset=\"UTF-8\" />\n",
      "<meta http-equiv=\"Content-Type\" content=\"text/html; charset=UTF-8\" />\n",
      "<meta http-equiv=\"X-UA-Compatible\" content=\"IE=Edge\" />\n",
      "<meta name=\"robots\" content=\"noindex, nofollow\" />\n",
      "<meta name=\"viewport\" content=\"width=device-width,initial-scale=1\" />\n",
      "<link rel=\"stylesheet\" id=\"cf_styles-css\" href=\"/cdn-cgi/styles/cf.errors.css\" />\n",
      "<!--[if lt IE 9]><link rel=\"stylesheet\" id='cf_styles-ie-css' href=\"/cdn-cgi/styles/cf.errors.ie.css\" /><![endif]-->\n",
      "<style>body{margin:0;padding:0}</style>\n",
      "\n",
      "\n",
      "<!--[if gte IE 10]><!-->\n",
      "<script>\n",
      "  if (!navigator.cookieEnabled) {\n",
      "    window.addEventListener('DOMContentLoaded', function () {\n",
      "      var cookieEl = document.getElementById('cookie-alert');\n",
      "      cookieEl.style.display = 'block';\n",
      "    })\n",
      "  }\n",
      "</script>\n",
      "<!--<![endif]-->\n",
      "\n",
      "\n",
      "</head>\n",
      "<body>\n",
      "  <div id=\"cf-wrapper\">\n",
      "    <div class=\"cf-alert cf-alert-error cf-cookie-error\" id=\"cookie-alert\" data-translate=\"enable_cookies\">Please enable cookies.</div>\n",
      "    <div id=\"cf-error-details\" class=\"cf-error-details-wrapper\">\n",
      "      <div class=\"cf-wrapper cf-header cf-error-overview\">\n",
      "        <h1 data-translate=\"block_headline\">Sorry, you have been blocked</h1>\n",
      "        <h2 class=\"cf-subheadline\"><span data-translate=\"unable_to_access\">You are unable to access</span> reqbin.com</h2>\n",
      "      </div><!-- /.header -->\n",
      "\n",
      "      <div class=\"cf-section cf-highlight\">\n",
      "        <div class=\"cf-wrapper\">\n",
      "          <div class=\"cf-screenshot-container cf-screenshot-full\">\n",
      "            \n",
      "              <span class=\"cf-no-screenshot error\"></span>\n",
      "            \n",
      "          </div>\n",
      "        </div>\n",
      "      </div><!-- /.captcha-container -->\n",
      "\n",
      "      <div class=\"cf-section cf-wrapper\">\n",
      "        <div class=\"cf-columns two\">\n",
      "          <div class=\"cf-column\">\n",
      "            <h2 data-translate=\"blocked_why_headline\">Why have I been blocked?</h2>\n",
      "\n",
      "            <p data-translate=\"blocked_why_detail\">This website is using a security service to protect itself from online attacks. The action you just performed triggered the security solution. There are several actions that could trigger this block including submitting a certain word or phrase, a SQL command or malformed data.</p>\n",
      "          </div>\n",
      "\n",
      "          <div class=\"cf-column\">\n",
      "            <h2 data-translate=\"blocked_resolve_headline\">What can I do to resolve this?</h2>\n",
      "\n",
      "            <p data-translate=\"blocked_resolve_detail\">You can email the site owner to let them know you were blocked. Please include what you were doing when this page came up and the Cloudflare Ray ID found at the bottom of this page.</p>\n",
      "          </div>\n",
      "        </div>\n",
      "      </div><!-- /.section -->\n",
      "\n",
      "      <div class=\"cf-error-footer cf-wrapper w-240 lg:w-full py-10 sm:py-4 sm:px-8 mx-auto text-center sm:text-left border-solid border-0 border-t border-gray-300\">\n",
      "  <p class=\"text-13\">\n",
      "    <span class=\"cf-footer-item sm:block sm:mb-1\">Cloudflare Ray ID: <strong class=\"font-semibold\">7cdccc105fe6f4a8</strong></span>\n",
      "    <span class=\"cf-footer-separator sm:hidden\">&bull;</span>\n",
      "    <span id=\"cf-footer-item-ip\" class=\"cf-footer-item hidden sm:block sm:mb-1\">\n",
      "      Your IP:\n",
      "      <button type=\"button\" id=\"cf-footer-ip-reveal\" class=\"cf-footer-ip-reveal-btn\">Click to reveal</button>\n",
      "      <span class=\"hidden\" id=\"cf-footer-ip\">110.235.224.126</span>\n",
      "      <span class=\"cf-footer-separator sm:hidden\">&bull;</span>\n",
      "    </span>\n",
      "    <span class=\"cf-footer-item sm:block sm:mb-1\"><span>Performance &amp; security by</span> <a rel=\"noopener noreferrer\" href=\"https://www.cloudflare.com/5xx-error-landing\" id=\"brand_link\" target=\"_blank\">Cloudflare</a></span>\n",
      "    \n",
      "  </p>\n",
      "  <script>(function(){function d(){var b=a.getElementById(\"cf-footer-item-ip\"),c=a.getElementById(\"cf-footer-ip-reveal\");b&&\"classList\"in b&&(b.classList.remove(\"hidden\"),c.addEventListener(\"click\",function(){c.classList.add(\"hidden\");a.getElementById(\"cf-footer-ip\").classList.remove(\"hidden\")}))}var a=document;document.addEventListener&&a.addEventListener(\"DOMContentLoaded\",d)})();</script>\n",
      "</div><!-- /.error-footer -->\n",
      "\n",
      "\n",
      "    </div><!-- /#cf-error-details -->\n",
      "  </div><!-- /#cf-wrapper -->\n",
      "\n",
      "  <script>\n",
      "  window._cf_translation = {};\n",
      "  \n",
      "  \n",
      "</script>\n",
      "\n",
      "</body>\n",
      "</html>\n",
      "\n"
     ]
    }
   ],
   "source": [
    "from requests.auth import HTTPBasicAuth                          # user auth\n",
    "\n",
    "r = requests.get('https://reqbin.com/echo/get/json', auth=HTTPBasicAuth('login', 'password'))\n",
    "print(r.text)"
   ]
  },
  {
   "cell_type": "markdown",
   "id": "fe778c8d",
   "metadata": {},
   "source": [
    "#### Post Method"
   ]
  },
  {
   "cell_type": "code",
   "execution_count": null,
   "id": "9ef25d3a",
   "metadata": {},
   "outputs": [],
   "source": [
    "# POST\n",
    "\n",
    "# requests.post(URL,data={key: value}, json={key: value}, headers=[headers], cert, allow_redirects, files, cookies=[cookies], auth[auth], timeout[timeout], verify, stream, proxies, arguments)\n",
    "# post() method is used when you want to send some data to the server. where data are shared\n",
    "# via the body of a request. In the request.post() function, data are sent with the \n",
    "# data parameter, which accepts a dictionary, a list of tuples, bytes or a file object."
   ]
  },
  {
   "cell_type": "code",
   "execution_count": 9,
   "id": "21f42274",
   "metadata": {},
   "outputs": [
    {
     "name": "stdout",
     "output_type": "stream",
     "text": [
      "{\n",
      "  \"args\": {}, \n",
      "  \"data\": \"\", \n",
      "  \"files\": {}, \n",
      "  \"form\": {\n",
      "    \"website\": \"datagy.io\"\n",
      "  }, \n",
      "  \"headers\": {\n",
      "    \"Accept\": \"*/*\", \n",
      "    \"Accept-Encoding\": \"gzip, deflate, br\", \n",
      "    \"Content-Length\": \"17\", \n",
      "    \"Content-Type\": \"application/x-www-form-urlencoded\", \n",
      "    \"Host\": \"httpbin.org\", \n",
      "    \"User-Agent\": \"python-requests/2.28.1\", \n",
      "    \"X-Amzn-Trace-Id\": \"Root=1-6471e41a-6db3af5a4e13212a07462833\"\n",
      "  }, \n",
      "  \"json\": null, \n",
      "  \"origin\": \"110.235.224.126\", \n",
      "  \"url\": \"https://httpbin.org/post\"\n",
      "}\n",
      "\n"
     ]
    }
   ],
   "source": [
    "resp = requests.post('https://httpbin.org/post', data={'website': 'datagy.io'})\n",
    "print(resp.text)"
   ]
  },
  {
   "cell_type": "code",
   "execution_count": 10,
   "id": "71124b69",
   "metadata": {},
   "outputs": [
    {
     "name": "stdout",
     "output_type": "stream",
     "text": [
      "{\n",
      "  \"args\": {}, \n",
      "  \"data\": \"\", \n",
      "  \"files\": {}, \n",
      "  \"form\": {}, \n",
      "  \"headers\": {\n",
      "    \"Accept\": \"*/*\", \n",
      "    \"Accept-Encoding\": \"gzip, deflate, br\", \n",
      "    \"Content-Length\": \"0\", \n",
      "    \"Cookie\": \"key=value\", \n",
      "    \"Host\": \"httpbin.org\", \n",
      "    \"User-Agent\": \"python-requests/2.28.1\", \n",
      "    \"X-Amzn-Trace-Id\": \"Root=1-6471e435-23e15eba13bbf80d662061f8\"\n",
      "  }, \n",
      "  \"json\": null, \n",
      "  \"origin\": \"110.235.224.126\", \n",
      "  \"url\": \"https://httpbin.org/post\"\n",
      "}\n",
      "\n"
     ]
    }
   ],
   "source": [
    "r = requests.post('https://httpbin.org/post', cookies={\"key\": \"value\"})  # sending cookies\n",
    "print(r.text)"
   ]
  },
  {
   "cell_type": "code",
   "execution_count": 7,
   "id": "8925693e",
   "metadata": {},
   "outputs": [
    {
     "data": {
      "text/plain": [
       "{'userId': 1, 'title': 'Buy milk', 'completed': False, 'id': 201}"
      ]
     },
     "execution_count": 7,
     "metadata": {},
     "output_type": "execute_result"
    }
   ],
   "source": [
    "api_url = \"https://jsonplaceholder.typicode.com/todos\"\n",
    "todo = {\"userId\": 1, \"title\": \"Buy milk\", \"completed\": False}\n",
    "response = requests.post(api_url, json=todo)\n",
    "response.json()s"
   ]
  },
  {
   "cell_type": "code",
   "execution_count": 12,
   "id": "ef800826",
   "metadata": {},
   "outputs": [
    {
     "name": "stdout",
     "output_type": "stream",
     "text": [
      "<Response [200]>\n"
     ]
    }
   ],
   "source": [
    "import json\n",
    "resp = requests.post(\n",
    "    'https://httpbin.org/post', \n",
    "    data=json.dumps({'website': 'datagy.io'}),\n",
    "    headers={\"Content-Type\": \"application/json\"})\n",
    "\n",
    "print(resp)"
   ]
  },
  {
   "cell_type": "code",
   "execution_count": 70,
   "id": "254ea58d",
   "metadata": {},
   "outputs": [
    {
     "data": {
      "text/plain": [
       "{}"
      ]
     },
     "execution_count": 70,
     "metadata": {},
     "output_type": "execute_result"
    }
   ],
   "source": [
    "# DELETE\n",
    "\n",
    "# The delete() method sends a DELETE request to the specified url.\n",
    "# DELETE requests are made for deleting the specified resource (file, record etc)."
   ]
  },
  {
   "cell_type": "code",
   "execution_count": 18,
   "id": "8aafc6b4",
   "metadata": {},
   "outputs": [
    {
     "name": "stdout",
     "output_type": "stream",
     "text": [
      "<Response [200]>\n",
      "{'args': {}, 'data': '', 'files': {}, 'form': {'key': 'value'}, 'headers': {'Accept': '*/*', 'Accept-Encoding': 'gzip, deflate, br', 'Content-Length': '9', 'Content-Type': 'application/x-www-form-urlencoded', 'Host': 'httpbin.org', 'User-Agent': 'python-requests/2.28.1', 'X-Amzn-Trace-Id': 'Root=1-6471e783-71bf10683507eb8248fe9d1b'}, 'json': None, 'origin': '110.235.224.126', 'url': 'https://httpbin.org/delete'}\n"
     ]
    }
   ],
   "source": [
    "r = requests.delete('https://httpbin.org/delete', data ={'key':'value'})\n",
    "print(r)                          # success code - 20\n",
    "print(r.json())                   # print content of request"
   ]
  },
  {
   "cell_type": "code",
   "execution_count": null,
   "id": "a0e64f4a",
   "metadata": {},
   "outputs": [],
   "source": [
    "# PUT\n",
    "\n",
    "# put() method can take in various parameters. These parameters allow a user to communicate \n",
    "# additional information to the web server, such as data or JSON to send in the request body\n",
    "# in order to create or update a resource."
   ]
  },
  {
   "cell_type": "code",
   "execution_count": 21,
   "id": "38e1da3a",
   "metadata": {},
   "outputs": [
    {
     "name": "stdout",
     "output_type": "stream",
     "text": [
      "{'userId': 1, 'id': 10, 'title': 'illo est ratione doloremque quia maiores aut', 'completed': True}\n"
     ]
    },
    {
     "data": {
      "text/plain": [
       "{'userId': '1', 'title': 'Wash car', 'completed': 'True', 'id': 10}"
      ]
     },
     "execution_count": 21,
     "metadata": {},
     "output_type": "execute_result"
    }
   ],
   "source": [
    "api_url = \"https://jsonplaceholder.typicode.com/todos/10\"\n",
    "response = requests.get(api_url)\n",
    "print(response.json())\n",
    "todo = {\"userId\": 1, \"title\": \"Wash car\", \"completed\": True}\n",
    "response = requests.put(api_url, todo)\n",
    "response.json()                       # overrides with same key data"
   ]
  },
  {
   "cell_type": "code",
   "execution_count": 22,
   "id": "f0db63cf",
   "metadata": {},
   "outputs": [
    {
     "name": "stdout",
     "output_type": "stream",
     "text": [
      "<html>\r\n",
      "<head><title>504 Gateway Time-out</title></head>\r\n",
      "<body>\r\n",
      "<center><h1>504 Gateway Time-out</h1></center>\r\n",
      "</body>\r\n",
      "</html>\r\n",
      "\n"
     ]
    }
   ],
   "source": [
    "# Session Objects\n",
    "\n",
    "import requests\n",
    "s = requests.Session()\n",
    "s.get('https://httpbin.org/cookies/set/sessioncookie/123456789')\n",
    "r = s.get('https://httpbin.org/cookies')\n",
    "print(r.text)"
   ]
  },
  {
   "cell_type": "code",
   "execution_count": 23,
   "id": "dd793d0c",
   "metadata": {},
   "outputs": [
    {
     "data": {
      "text/plain": [
       "{'page': 1,\n",
       " 'per_page': 10,\n",
       " 'total': 41,\n",
       " 'total_pages': 5,\n",
       " 'data': [{'title': 'A Message to Our Customers',\n",
       "   'url': 'http://www.apple.com/customer-letter/',\n",
       "   'author': 'epaga',\n",
       "   'num_comments': 967,\n",
       "   'story_id': None,\n",
       "   'story_title': None,\n",
       "   'story_url': None,\n",
       "   'parent_id': None,\n",
       "   'created_at': 1455698317},\n",
       "  {'title': '“Was isolated from 1999 to 2006 with a 486. Built my own late 80s OS”',\n",
       "   'url': 'http://imgur.com/gallery/hRf2trV',\n",
       "   'author': 'epaga',\n",
       "   'num_comments': 265,\n",
       "   'story_id': None,\n",
       "   'story_title': None,\n",
       "   'story_url': None,\n",
       "   'parent_id': None,\n",
       "   'created_at': 1418517626},\n",
       "  {'title': 'Apple’s declining software quality',\n",
       "   'url': 'http://sudophilosophical.com/2016/02/04/apples-declining-software-quality/',\n",
       "   'author': 'epaga',\n",
       "   'num_comments': 705,\n",
       "   'story_id': None,\n",
       "   'story_title': None,\n",
       "   'story_url': None,\n",
       "   'parent_id': None,\n",
       "   'created_at': 1454596037},\n",
       "  {'title': None,\n",
       "   'url': None,\n",
       "   'author': 'patricktomas',\n",
       "   'num_comments': 376,\n",
       "   'story_id': None,\n",
       "   'story_title': 'Steve Jobs has passed away.',\n",
       "   'story_url': 'http://www.apple.com/stevejobs/',\n",
       "   'parent_id': None,\n",
       "   'created_at': 1317858143},\n",
       "  {'title': 'Google Is Eating Our Mail',\n",
       "   'url': 'https://www.tablix.org/~avian/blog/archives/2019/04/google_is_eating_our_mail/',\n",
       "   'author': 'saintamh',\n",
       "   'num_comments': 685,\n",
       "   'story_id': None,\n",
       "   'story_title': None,\n",
       "   'story_url': None,\n",
       "   'parent_id': None,\n",
       "   'created_at': 1556274921},\n",
       "  {'title': 'Why I’m Suing the US Government',\n",
       "   'url': 'https://www.bunniestudios.com/blog/?p=4782',\n",
       "   'author': 'saintamh',\n",
       "   'num_comments': 305,\n",
       "   'story_id': None,\n",
       "   'story_title': None,\n",
       "   'story_url': None,\n",
       "   'parent_id': None,\n",
       "   'created_at': 1469106658},\n",
       "  {'title': 'F.C.C. Repeals Net Neutrality Rules',\n",
       "   'url': 'https://www.nytimes.com/2017/12/14/technology/net-neutrality-repeal-vote.html',\n",
       "   'author': 'panny',\n",
       "   'num_comments': 1397,\n",
       "   'story_id': None,\n",
       "   'story_title': None,\n",
       "   'story_url': None,\n",
       "   'parent_id': None,\n",
       "   'created_at': 1513275215},\n",
       "  {'title': 'Show HN: This up votes itself',\n",
       "   'url': 'http://news.ycombinator.com/vote?for=3742902&dir=up&whence=%6e%65%77%65%73%74',\n",
       "   'author': 'olalonde',\n",
       "   'num_comments': 83,\n",
       "   'story_id': None,\n",
       "   'story_title': None,\n",
       "   'story_url': None,\n",
       "   'parent_id': None,\n",
       "   'created_at': 1332463239},\n",
       "  {'title': None,\n",
       "   'url': None,\n",
       "   'author': 'olalonde',\n",
       "   'num_comments': None,\n",
       "   'story_id': None,\n",
       "   'story_title': 'Guacamole – A clientless remote desktop gateway',\n",
       "   'story_url': 'https://guacamole.incubator.apache.org/',\n",
       "   'parent_id': 6547669,\n",
       "   'created_at': 1381763543},\n",
       "  {'title': None,\n",
       "   'url': None,\n",
       "   'author': 'WisNorCan',\n",
       "   'num_comments': 981,\n",
       "   'story_id': None,\n",
       "   'story_title': 'Switch from Chrome to Firefox',\n",
       "   'story_url': 'https://www.mozilla.org/en-US/firefox/switch/',\n",
       "   'parent_id': None,\n",
       "   'created_at': 1559232559}]}"
      ]
     },
     "execution_count": 23,
     "metadata": {},
     "output_type": "execute_result"
    }
   ],
   "source": [
    "import json\n",
    "url='https://jsonmock.hackerrank.com/api/articles?page='+str(1)\n",
    "response=requests.request('GET',url,headers={},data={})\n",
    "r=json.loads(response.text.encode('utf8'))\n",
    "r"
   ]
  },
  {
   "cell_type": "code",
   "execution_count": null,
   "id": "c0f377ce",
   "metadata": {},
   "outputs": [],
   "source": []
  },
  {
   "cell_type": "code",
   "execution_count": null,
   "id": "06eb96fb",
   "metadata": {},
   "outputs": [],
   "source": []
  },
  {
   "cell_type": "code",
   "execution_count": 68,
   "id": "15820e14",
   "metadata": {},
   "outputs": [],
   "source": []
  },
  {
   "cell_type": "code",
   "execution_count": null,
   "id": "73c5115f",
   "metadata": {},
   "outputs": [],
   "source": []
  }
 ],
 "metadata": {
  "kernelspec": {
   "display_name": "Python 3 (ipykernel)",
   "language": "python",
   "name": "python3"
  },
  "language_info": {
   "codemirror_mode": {
    "name": "ipython",
    "version": 3
   },
   "file_extension": ".py",
   "mimetype": "text/x-python",
   "name": "python",
   "nbconvert_exporter": "python",
   "pygments_lexer": "ipython3",
   "version": "3.10.9"
  }
 },
 "nbformat": 4,
 "nbformat_minor": 5
}
