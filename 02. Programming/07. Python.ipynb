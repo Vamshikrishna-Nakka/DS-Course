{
 "cells": [
  {
   "cell_type": "markdown",
   "id": "a9d6eded",
   "metadata": {},
   "source": [
    "### Regular expressions"
   ]
  },
  {
   "cell_type": "code",
   "execution_count": 1,
   "id": "d72bcf6d",
   "metadata": {},
   "outputs": [],
   "source": [
    "import re  "
   ]
  },
  {
   "cell_type": "code",
   "execution_count": 2,
   "id": "817d3d65",
   "metadata": {},
   "outputs": [],
   "source": [
    "#https://regex101.com/"
   ]
  },
  {
   "cell_type": "code",
   "execution_count": null,
   "id": "ea4cecc0",
   "metadata": {},
   "outputs": [],
   "source": [
    "findall()            Return a Python list of matches\n",
    "search()             Return a Match object if the match is found in the string\n",
    "sub()                Find and replace a string with a match\n",
    "split()              Return a Python list split at each match point"
   ]
  },
  {
   "cell_type": "code",
   "execution_count": null,
   "id": "a0361f1d",
   "metadata": {},
   "outputs": [],
   "source": [
    "re{ n}         Matches exactly n number of occurrences of preceding expression.\n",
    "re{ n,}        Matches n or more occurrences of preceding expression.\n",
    "re{ n, m}      Matches at least n and at most m occurrences of preceding expression.\n",
    "a| b           Matches either a or b.\n",
    "(re)           Groups regular expressions and remembers matched text.\n",
    "(?imx)         Temporarily toggles on i, m, or x options within a regular expression. If in parentheses, only that area is affected.\n",
    "(?-imx)        Temporarily toggles off i, m, or x options within a regular expression. If in parentheses, only that area is affected.\n",
    "(?: re)        Groups regular expressions without remembering matched text.\n",
    "(?imx: re)     Temporarily toggles on i, m, or x options within parentheses.\n",
    "(?-imx: re)    Temporarily toggles off i, m, or x options within parentheses.\n",
    "(?#...)        Comment.\n",
    "(?= re)        Specifies position using a pattern. Doesn't have a range.\n",
    "(?! re)        Specifies position using pattern negation. Doesn't have a range.\n",
    "(?> re)        Matches independent pattern without backtracking.\n",
    "\\A             Matches beginning of string.\n",
    "\\Z             Matches end of string. If a newline exists, it matches just before newline.\n",
    "\\z             Matches end of string.\n",
    "\\G             Matches point where last match finished.\n",
    "\\b             Matches word boundaries when outside brackets. Matches backspace (0x08) when inside brackets.\n",
    "\\B             Matches nonword boundaries.\n",
    "\\n, \\t, etc.   Matches newlines, carriage returns, tabs, etc.\n",
    "\\1...\\9        Matches nth grouped subexpression.\n",
    "\\10            Matches nth grouped subexpression if it matched already. Otherwise refers to the octal representation of a character code."
   ]
  },
  {
   "cell_type": "code",
   "execution_count": null,
   "id": "ad7baad5",
   "metadata": {},
   "outputs": [],
   "source": [
    "^              Matches beginning of line.\n",
    "$              Matches end of line.\n",
    "[...]          Matches any single character in brackets.\n",
    "[^...]         Matches any single character not in brackets\n",
    "\n",
    "\n",
    "# [aeiou]                ,    [^aeiou]              --     any one matches \"a\", \"e\", \"i\", \"o\" or \"u\"\n",
    "# [0-9] or \\d            ,    [^0-9] or \\D          --     single digit number \n",
    "# [A-Za-z]               ,    [^a-z]                --     matches any\n",
    "# [ \\n\\r\\t\\f] or \\s      ,    [^ \\n\\r\\t\\f] or \\S    --     \n",
    "# [a-zA-Z0-9_] or \\w     ,    [^a-zA-Z0-9_] or \\W   --     any alphanumeric and underscore\n",
    "\n"
   ]
  },
  {
   "cell_type": "code",
   "execution_count": null,
   "id": "c2d2eec7",
   "metadata": {},
   "outputs": [],
   "source": [
    "[0-5][0-9]                 # 2 digits between ranges.\n",
    "^[mts][aeiou]              # Searches for words that start with m, t or s. Then immediately followed by a vowel.\n",
    "[^n]g$                     # string should end with g, but not ng.\n",
    "^g.+g$                     # Matches. Word would start and end with g. Any number of letters in between.\n",
    "'#(\\w+)'                   # Start with # and any alpha numeric word\n",
    "[0-9]+                     # Any number of any no of digits\n",
    "\"\\d{4}.\\d{7}|\\d{5}.\\d{6}\"  # \n",
    "\"[a-zA-Z0-9_.+-]+@[a-zA-Z0-9-]+\\.[a-zA-Z0-9-.]+\"      # email id \n",
    "[!@#\\\\$%\\\\^\\\\&*\\\\)\\\\(+=._-]$                         ends with a special character\n",
    "^[a-zA-Z]+$                    Matches abc(stirng abc given for match)\n",
    "^[abc]$                        Matches a or b or c"
   ]
  },
  {
   "cell_type": "code",
   "execution_count": null,
   "id": "6c6a9fce",
   "metadata": {},
   "outputs": [],
   "source": [
    ".       Matches any single character except newline.Using m option allows it to match newline as well \"he..o\" Same as [^\\n]\n",
    "re*     Matches 0 or more occurrences of preceding expression \"he.*o\"\n",
    "re+     Matches 1 or more occurrence of preceding expression  \"he.+o\"\n",
    "re?     Matches 0 or 1 occurrence of preceding expression     \"he.?o\"\n",
    "\n",
    "\n",
    "{} Exactly the specified number of occurrences \"he.{2}o\"\n",
    "{n}  Repeat the previous symbol exactly n times\n",
    "a{6} is the same as aaaaaa\n",
    "{n,} Repeat the previous symbol n or more times\n",
    "{min,max}  Repeat the previous symbol between min and max times, both included\n",
    "\n",
    "\n",
    "{m,n}: m to n (both inclusive)\n",
    "{m}: exactly m times\n",
    "{m,}: m or more (m+)\n",
    "    \n",
    "* is the same as {0,}, + is the same as {1,}, and ? is the same as {0,1}\n",
    "\n",
    "#Occurrence Indicators (or Repetition Operators)\n",
    "+: one or more [0-9]+ matches one or more digits such as '123', '000'.\n",
    "*: zero or more (0+), e.g., [0-9]* matches zero or more digits. It accepts all those in [0-9]+ plus the empty string.\n",
    "?: zero or one (optional), e.g., [+-]? matches an optional \"+\", \"-\", or an empty string."
   ]
  },
  {
   "cell_type": "code",
   "execution_count": null,
   "id": "1cc59d37",
   "metadata": {},
   "outputs": [],
   "source": [
    "X(?=Y)  Match X but only if it is followed by Y\n",
    "X(?!Y)  Match X but only if it is NOT followed by Y\n",
    "(?<=Y)X Match X if there is Y before it\n",
    "(?<!Y)X Match X if there is NO Y before it"
   ]
  },
  {
   "cell_type": "code",
   "execution_count": null,
   "id": "11f7bc50",
   "metadata": {},
   "outputs": [],
   "source": [
    "#ESCAPE CHAR\n",
    "\\. or \\+ or \\\\ or \\n for Escape Sequences (\\char) for matching newline or dot or slash\n",
    "\n",
    "#OR\n",
    "four|4 accepts matchces strings \"four\" or \"4\" either\n",
    "X | Y   Match either X or Y"
   ]
  },
  {
   "cell_type": "code",
   "execution_count": null,
   "id": "c47c4f0d",
   "metadata": {},
   "outputs": [],
   "source": [
    "^a...s$            start with a end with s of 5 letter word  or same as ^a.{3}s$\n",
    "e...l    same as  e.{3}l\n",
    "[89][0-9]{9} start with 8or9 remainting 0to 9 numbers of 9times\n",
    "[A-Z][a-z]*[0-9][a-z]    first cap char next smallcase\n",
    "r\"\\n\\w\" instead of \"\\\\n\\\\w\"\n",
    "r\"([a-zA-Z]+) (\\d+)\""
   ]
  },
  {
   "cell_type": "code",
   "execution_count": null,
   "id": "1838ca68",
   "metadata": {},
   "outputs": [],
   "source": [
    "hello             contains {hello}\n",
    "gray|grey         contains {gray, grey}\n",
    "gr(a|e)y          contains {gray, grey}\n",
    "gr[ae]y           contains {gray, grey}\n",
    "b[aeiou]bble      contains {babble, bebble, bibble, bobble, bubble}\n",
    "[b-chm-pP]at|ot   contains {bat, cat, hat, mat, nat, oat, pat, Pat, ot}\n",
    "colou?r           contains {color, colour}\n",
    "rege(x(es)?|xps?)   contains {regex, regexes, regexp, regexps}\n",
    "go*gle            contains {ggle, gogle, google, gooogle, goooogle, ...}\n",
    "go+gle            contains {gogle, google, gooogle, goooogle, ...}\n",
    "g(oog)+le         contains {google, googoogle, googoogoogle, googoogoogoogle, ...}\n",
    "z{3}              contains {zzz}\n",
    "z{3,6}            contains {zzz, zzzz, zzzzz, zzzzzz}\n",
    "z{3,}             contains {zzz, zzzz, zzzzz, ...}\n",
    "[Bb]rainf\\*\\*k    contains {Brainf**k, brainf**k}\n",
    "\\d                contains {0,1,2,3,4,5,6,7,8,9}\n",
    "\\d{5}(-\\d{4})?    contains a United States zip code\n",
    "1\\d{10}           contains an 11-digit string starting with a 1\n",
    "[2-9]|[12]\\d|3[0-6]   contains an integer in the range 2..36 inclusive\n",
    "Hello\\nworld      contains Hello followed by a newline followed by world\n",
    "mi.....ft         contains a nine-character (sub)string beginning with mi and ending with ft (Note: depending on context, the dot stands either for “any character at all” or “any character except a newline”.) Each dot is allowed to match a different character, so both microsoft and minecraft will match.\n",
    "\\d+(\\.\\d\\d)?      contains a positive integer or a floating point number with exactly two characters after the decimal point.\n",
    "[^i*&2@]          contains any character other than an i, asterisk, ampersand, 2, or at-sign.\n",
    "//[^\\r\\n]*[\\r\\n]  contains a Java or C# slash-slash comment\n",
    "^dog              begins with \"dog\"\n",
    "dog$              ends with \"dog\"\n",
    "^dog$             is exactly \"dog\""
   ]
  },
  {
   "cell_type": "code",
   "execution_count": null,
   "id": "b2774343",
   "metadata": {},
   "outputs": [],
   "source": [
    "phone_number_pattern = \".?(\\\\d{3}).*(\\\\d{3}).*(\\\\d{4})\"\n",
    "date_pattern = \"(\\\\d{2}).(\\\\d{2}).(\\\\d{4})\"\n",
    "name_pattern = \"(\\\\w+),\\\\s(Mr|Ms|Mrs|Dr).?\\\\s(\\\\w+)\"\n",
    "url_pattern = \"(https?)://(www)?.?(\\\\w+).(\\\\w+)/?(\\\\w+)?\"\n",
    "email_pattern = \"([a-zA-Z0-9\\\\_\\\\-\\\\.]+)@([a-zA-Z]+).(.+)\"\n",
    "address_pattern = \"(\\\\d*)\\\\s?(.+),\\\\s(.+)\\\\s([A-Z]{2,3})\\\\s(\\\\d{4})\"\n"
   ]
  },
  {
   "cell_type": "code",
   "execution_count": null,
   "id": "41644900",
   "metadata": {},
   "outputs": [],
   "source": []
  },
  {
   "cell_type": "code",
   "execution_count": null,
   "id": "db240315",
   "metadata": {},
   "outputs": [],
   "source": [
    "s='Hello,22, good1 krishna .345.'\n",
    "re.findall(r'[0-9]',s)  # or   \\d      # single digit number\n",
    "re.findall(r'\\d+',s)     # any number of digit - numbers\n",
    "re.findall(r'[0-5][0-9]',s)   # for 2 digits we can use\n",
    "re.findall(r'\\w+',s)          # takes words first non available as word"
   ]
  },
  {
   "cell_type": "code",
   "execution_count": 3,
   "id": "e1059319",
   "metadata": {},
   "outputs": [
    {
     "ename": "NameError",
     "evalue": "name 's' is not defined",
     "output_type": "error",
     "traceback": [
      "\u001b[1;31m---------------------------------------------------------------------------\u001b[0m",
      "\u001b[1;31mNameError\u001b[0m                                 Traceback (most recent call last)",
      "\u001b[1;32m~\\AppData\\Local\\Temp\\ipykernel_44432\\179888187.py\u001b[0m in \u001b[0;36m<module>\u001b[1;34m\u001b[0m\n\u001b[0;32m      1\u001b[0m \u001b[0mpattern\u001b[0m \u001b[1;33m=\u001b[0m \u001b[0mre\u001b[0m\u001b[1;33m.\u001b[0m\u001b[0mcompile\u001b[0m\u001b[1;33m(\u001b[0m\u001b[1;34mr'[aeoui]'\u001b[0m\u001b[1;33m)\u001b[0m     \u001b[1;31m# equal to\u001b[0m\u001b[1;33m\u001b[0m\u001b[1;33m\u001b[0m\u001b[0m\n\u001b[1;32m----> 2\u001b[1;33m \u001b[0mpattern\u001b[0m\u001b[1;33m.\u001b[0m\u001b[0mfindall\u001b[0m\u001b[1;33m(\u001b[0m\u001b[0ms\u001b[0m\u001b[1;33m)\u001b[0m\u001b[1;33m\u001b[0m\u001b[1;33m\u001b[0m\u001b[0m\n\u001b[0m\u001b[0;32m      3\u001b[0m \u001b[1;33m\u001b[0m\u001b[0m\n\u001b[0;32m      4\u001b[0m \u001b[1;33m\u001b[0m\u001b[0m\n\u001b[0;32m      5\u001b[0m \u001b[0mpattern\u001b[0m \u001b[1;33m=\u001b[0m \u001b[1;34mr'[aeoui]'\u001b[0m\u001b[1;33m\u001b[0m\u001b[1;33m\u001b[0m\u001b[0m\n",
      "\u001b[1;31mNameError\u001b[0m: name 's' is not defined"
     ]
    }
   ],
   "source": [
    "pattern = re.compile(r'[aeoui]')     # equal to\n",
    "pattern.findall(s)\n",
    "\n",
    "\n",
    "pattern = r'[aeoui]'\n",
    "re.findall(pattern,s)"
   ]
  },
  {
   "cell_type": "code",
   "execution_count": null,
   "id": "10ae8f4a",
   "metadata": {},
   "outputs": [],
   "source": [
    "txt = \"The rain in Spain\"\n",
    "\n",
    "x = re.search(\"in\", txt)    # matched \n",
    "print(x)                    #true\n",
    "print('Start Index:', x.start())\n",
    "print('End Index:', x.end())       \n",
    "print(x.span()) #start- and end-position) of the first match occurrence.\n",
    "print(x.string)#string passed into the function:\n",
    "print(x.group()) #returns the part of the string where there was a match"
   ]
  },
  {
   "cell_type": "code",
   "execution_count": null,
   "id": "e2e97891",
   "metadata": {},
   "outputs": [],
   "source": [
    "p = re.search(r'\\s', txt)  #matched space\n",
    "print(p)   "
   ]
  },
  {
   "cell_type": "code",
   "execution_count": null,
   "id": "d9856290",
   "metadata": {},
   "outputs": [],
   "source": [
    "result = prog.match(string)    # result = re.match(pattern, string)"
   ]
  },
  {
   "cell_type": "code",
   "execution_count": null,
   "id": "1ae032e0",
   "metadata": {},
   "outputs": [],
   "source": [
    "s = 'Readability counts.'\n",
    "pattern = r'[aeoui]'\n",
    "\n",
    "matches = re.finditer(pattern, s)\n",
    "for match in matches:\n",
    "    print(match)"
   ]
  },
  {
   "cell_type": "code",
   "execution_count": null,
   "id": "293a7af7",
   "metadata": {},
   "outputs": [],
   "source": [
    "txt = \"The rain in Spain\"\n",
    "x = re.findall(\"ai\", txt)\n",
    "print(x)"
   ]
  },
  {
   "cell_type": "code",
   "execution_count": null,
   "id": "3a5084d4",
   "metadata": {},
   "outputs": [],
   "source": [
    "x = re.split(\"\\s\", txt)\n",
    "y = re.split(\"\\s\", txt, 1)\n",
    "print(x)\n",
    "print(y)"
   ]
  },
  {
   "cell_type": "code",
   "execution_count": null,
   "id": "52acb4a9",
   "metadata": {},
   "outputs": [],
   "source": [
    "x = re.sub(\"\\s\", \"9\", txt)\n",
    "print(x)"
   ]
  },
  {
   "cell_type": "code",
   "execution_count": null,
   "id": "97da8207",
   "metadata": {},
   "outputs": [],
   "source": [
    "a=\"kr13is5h2na21nak537ka21v0am4shi\"\n",
    "pattern = r'[0-9]'\n",
    "n = re.sub(pattern, '', a)\n",
    "n"
   ]
  },
  {
   "cell_type": "code",
   "execution_count": null,
   "id": "b8c67d68",
   "metadata": {},
   "outputs": [],
   "source": [
    "re.match(\"c\", \"abcdef\")    # No match\n",
    "re.search(\"c\", \"abcdef\")   # Match "
   ]
  },
  {
   "cell_type": "code",
   "execution_count": null,
   "id": "844ed939",
   "metadata": {},
   "outputs": [],
   "source": [
    "re.match(pattern, string, flags=0)\n",
    "\n",
    "re.fullmatch(pattern, string, flags=0)"
   ]
  },
  {
   "cell_type": "code",
   "execution_count": null,
   "id": "671949e6",
   "metadata": {},
   "outputs": [],
   "source": [
    "re.subn(pattern, repl, string, count=0, flags=0) #same operation as sub(), but return a tuple"
   ]
  },
  {
   "cell_type": "code",
   "execution_count": null,
   "id": "0c572092",
   "metadata": {},
   "outputs": [],
   "source": [
    " print(re.escape('https://www.python.org')) #"
   ]
  },
  {
   "cell_type": "code",
   "execution_count": null,
   "id": "141699cc",
   "metadata": {},
   "outputs": [],
   "source": [
    "my_string = \"The session was amazing! @Vib!n @Ar&&n @jyothi30\"\n",
    "# output = ['@Vib!n', '@Ar&&n', '@jyothi30']\n",
    "\n",
    "import re\n",
    "re.findall(r'[@]\\S+',my_string) "
   ]
  },
  {
   "cell_type": "code",
   "execution_count": null,
   "id": "f51d16f3",
   "metadata": {},
   "outputs": [],
   "source": []
  },
  {
   "cell_type": "markdown",
   "id": "974c76ac",
   "metadata": {},
   "source": [
    "### Itertools functools"
   ]
  },
  {
   "cell_type": "code",
   "execution_count": null,
   "id": "925a54ab",
   "metadata": {},
   "outputs": [],
   "source": [
    "#Infinite iterators"
   ]
  },
  {
   "cell_type": "code",
   "execution_count": null,
   "id": "0649b757",
   "metadata": {},
   "outputs": [],
   "source": []
  },
  {
   "cell_type": "code",
   "execution_count": 4,
   "id": "fc92374d",
   "metadata": {},
   "outputs": [
    {
     "name": "stdout",
     "output_type": "stream",
     "text": [
      "5 10 15 20 25 30 "
     ]
    }
   ],
   "source": [
    "import itertools\n",
    "   \n",
    "# for in loop\n",
    "for i in itertools.count(5, 5): # count(start, step)\n",
    "    if i == 35:\n",
    "        break\n",
    "    else:\n",
    "        print(i, end =\" \")"
   ]
  },
  {
   "cell_type": "code",
   "execution_count": 5,
   "id": "6b3f529c",
   "metadata": {},
   "outputs": [
    {
     "name": "stdout",
     "output_type": "stream",
     "text": [
      "A B A B A B "
     ]
    }
   ],
   "source": [
    "count = 0\n",
    "   \n",
    "# for in loop\n",
    "for i in itertools.cycle('AB'):\n",
    "    #print(i)\n",
    "    if count > 5:\n",
    "        break\n",
    "    else:\n",
    "        print(i, end = \" \")\n",
    "        count += 1"
   ]
  },
  {
   "cell_type": "code",
   "execution_count": 7,
   "id": "8a10b2bd",
   "metadata": {},
   "outputs": [
    {
     "data": {
      "text/plain": [
       "'A'"
      ]
     },
     "execution_count": 7,
     "metadata": {},
     "output_type": "execute_result"
    }
   ],
   "source": [
    "i=itertools.cycle('AB')\n",
    "next(i)"
   ]
  },
  {
   "cell_type": "code",
   "execution_count": 8,
   "id": "343f0a07",
   "metadata": {},
   "outputs": [
    {
     "name": "stdout",
     "output_type": "stream",
     "text": [
      "[25, 25, 25, 25]\n"
     ]
    }
   ],
   "source": [
    "print (list(itertools.repeat(25, 4)))"
   ]
  },
  {
   "cell_type": "code",
   "execution_count": 9,
   "id": "7c9f4d0e",
   "metadata": {},
   "outputs": [
    {
     "name": "stdout",
     "output_type": "stream",
     "text": [
      "[('A', 'A'), ('A', 'B'), ('A', 'C'), ('A', 'D'), ('B', 'A'), ('B', 'B'), ('B', 'C'), ('B', 'D'), ('C', 'A'), ('C', 'B'), ('C', 'C'), ('C', 'D'), ('D', 'A'), ('D', 'B'), ('D', 'C'), ('D', 'D')]\n"
     ]
    }
   ],
   "source": [
    "import itertools\n",
    "print(list(itertools.product('ABCD',repeat=2)))"
   ]
  },
  {
   "cell_type": "code",
   "execution_count": 10,
   "id": "3889b9ef",
   "metadata": {},
   "outputs": [
    {
     "name": "stdout",
     "output_type": "stream",
     "text": [
      "[('A', 'N', 'I', 'I'), ('A', 'N', 'I', 'I'), ('A', 'I', 'N', 'I'), ('A', 'I', 'I', 'N'), ('A', 'I', 'N', 'I'), ('A', 'I', 'I', 'N'), ('N', 'A', 'I', 'I'), ('N', 'A', 'I', 'I'), ('N', 'I', 'A', 'I'), ('N', 'I', 'I', 'A'), ('N', 'I', 'A', 'I'), ('N', 'I', 'I', 'A'), ('I', 'A', 'N', 'I'), ('I', 'A', 'I', 'N'), ('I', 'N', 'A', 'I'), ('I', 'N', 'I', 'A'), ('I', 'I', 'A', 'N'), ('I', 'I', 'N', 'A'), ('I', 'A', 'N', 'I'), ('I', 'A', 'I', 'N'), ('I', 'N', 'A', 'I'), ('I', 'N', 'I', 'A'), ('I', 'I', 'A', 'N'), ('I', 'I', 'N', 'A')]\n"
     ]
    }
   ],
   "source": [
    "print(list(itertools.permutations('ANII')))"
   ]
  },
  {
   "cell_type": "code",
   "execution_count": 11,
   "id": "a966e918",
   "metadata": {},
   "outputs": [
    {
     "name": "stdout",
     "output_type": "stream",
     "text": [
      "[('O', 'P'), ('O', 'Q'), ('O', 'R'), ('P', 'Q'), ('P', 'R'), ('Q', 'R')]\n",
      "[('O', 'O'), ('O', 'P'), ('O', 'Q'), ('O', 'R'), ('P', 'P'), ('P', 'Q'), ('P', 'R'), ('Q', 'Q'), ('Q', 'R'), ('R', 'R')]\n"
     ]
    }
   ],
   "source": [
    "print(list(itertools.combinations('OPQR', 2)))\n",
    "print(list(itertools.combinations_with_replacement('OPQR', 2)))"
   ]
  },
  {
   "cell_type": "code",
   "execution_count": 12,
   "id": "824c32fa",
   "metadata": {},
   "outputs": [
    {
     "name": "stdout",
     "output_type": "stream",
     "text": [
      "[2, 6, 11]\n",
      "[2, 8, 40]\n"
     ]
    }
   ],
   "source": [
    "import operator\n",
    "l1=[2,4,5]\n",
    "l2=[1,6]\n",
    "l3=[8,9]\n",
    "print (list(itertools.accumulate(l1)))  # accumulate(iter, func) #p0, p0+p1, p0+p1+p2, …\n",
    "print (list(itertools.accumulate(l1, operator.mul)))"
   ]
  },
  {
   "cell_type": "code",
   "execution_count": 13,
   "id": "409cb61c",
   "metadata": {},
   "outputs": [
    {
     "name": "stdout",
     "output_type": "stream",
     "text": [
      "[2, 4, 5, 1, 6, 8, 9]\n",
      "[2, 4, 5, 1, 6, 8, 9]\n"
     ]
    }
   ],
   "source": [
    "print (list(itertools.chain(l1, l2, l3))) #chain(iter1, iter2..)\n",
    "l4 = [l1, l2, l3]\n",
    "print (list(itertools.chain.from_iterable(l4))) #chain.from_iterable()"
   ]
  },
  {
   "cell_type": "code",
   "execution_count": 14,
   "id": "52397cda",
   "metadata": {},
   "outputs": [
    {
     "name": "stdout",
     "output_type": "stream",
     "text": [
      "['G', 'K', 'O']\n"
     ]
    }
   ],
   "source": [
    "print (list(itertools.compress('GEEKSFORGEEKS', [1, 0, 0, 1, 0, 0, 1, 0, 0]))) #compress(iter, selector)"
   ]
  },
  {
   "cell_type": "code",
   "execution_count": 15,
   "id": "2dc51f35",
   "metadata": {},
   "outputs": [
    {
     "name": "stdout",
     "output_type": "stream",
     "text": [
      "[5]\n"
     ]
    }
   ],
   "source": [
    "#The values that return false to function.\n",
    "print (list(itertools.dropwhile(lambda x : x % 2 == 0, l1)))# dropwhile(func, seq)"
   ]
  },
  {
   "cell_type": "code",
   "execution_count": 16,
   "id": "156d87a7",
   "metadata": {},
   "outputs": [
    {
     "name": "stdout",
     "output_type": "stream",
     "text": [
      "[5]\n"
     ]
    }
   ],
   "source": [
    "print (list(itertools.filterfalse(lambda x : x % 2 == 0, l1)))#filterfalse(func, seq)"
   ]
  },
  {
   "cell_type": "code",
   "execution_count": 17,
   "id": "7d6ae3ed",
   "metadata": {},
   "outputs": [
    {
     "name": "stdout",
     "output_type": "stream",
     "text": [
      "[4]\n"
     ]
    }
   ],
   "source": [
    "print (list(itertools.islice(l1, 1, 6, 2))) #islice(iterable, start, stop, step)"
   ]
  },
  {
   "cell_type": "code",
   "execution_count": 18,
   "id": "585992ed",
   "metadata": {},
   "outputs": [
    {
     "name": "stdout",
     "output_type": "stream",
     "text": [
      "[2, 4]\n"
     ]
    }
   ],
   "source": [
    "print (list(itertools.takewhile(lambda x : x % 2 == 0, l1 ))) #opposite of dropwhile"
   ]
  },
  {
   "cell_type": "code",
   "execution_count": 19,
   "id": "658cc90c",
   "metadata": {},
   "outputs": [
    {
     "name": "stdout",
     "output_type": "stream",
     "text": [
      "('G', 'e') ('e', 'k') ('s', 'f') ('o', 'r') ('G', 'e') ('e', 'k') ('s', '_')\n"
     ]
    }
   ],
   "source": [
    "print (*(itertools.zip_longest('GesoGes', 'ekfrek', fillvalue ='_' )))#zip_longest( iterable1, iterable2, fillval):"
   ]
  },
  {
   "cell_type": "code",
   "execution_count": 20,
   "id": "88d1eb4f",
   "metadata": {},
   "outputs": [
    {
     "name": "stdout",
     "output_type": "stream",
     "text": [
      "[2, 4, 5]\n",
      "[2, 4, 5]\n",
      "[2, 4, 5]\n"
     ]
    }
   ],
   "source": [
    "#tee(iterator, count) -- splits the container into a number of iterators of same values\n",
    "it = iter(l1) \n",
    "it = itertools.tee(it, 3)\n",
    "for i in range (0, 3):\n",
    "    print (list(it[i]))"
   ]
  },
  {
   "cell_type": "code",
   "execution_count": 23,
   "id": "32d704d2",
   "metadata": {},
   "outputs": [
    {
     "name": "stdout",
     "output_type": "stream",
     "text": [
      "[('a', <itertools._grouper object at 0x000002BE949A8FA0>), ('b', <itertools._grouper object at 0x000002BE949A8A00>), ('c', <itertools._grouper object at 0x000002BE949A8E20>), ('d', <itertools._grouper object at 0x000002BE949A8550>)]\n"
     ]
    }
   ],
   "source": [
    "a = \"aaabbbccccd\"\n",
    "x = itertools.groupby(a)\n",
    "print(list(x))"
   ]
  },
  {
   "cell_type": "code",
   "execution_count": null,
   "id": "17c43c3b",
   "metadata": {},
   "outputs": [],
   "source": []
  },
  {
   "cell_type": "markdown",
   "id": "9b42b5c9",
   "metadata": {},
   "source": [
    "### Warnings"
   ]
  },
  {
   "cell_type": "code",
   "execution_count": 24,
   "id": "922a1a37",
   "metadata": {},
   "outputs": [],
   "source": [
    "import warnings"
   ]
  },
  {
   "cell_type": "code",
   "execution_count": null,
   "id": "9d1d4eb7",
   "metadata": {},
   "outputs": [],
   "source": [
    "# Warnings are provided to warn the developer of situations that aren’t necessarily exceptions. Usually, a warning occurs\n",
    "# when there is some obsolete of certain programming elements, such as keyword, function or class, etc. A warning in \n",
    "# a program is distinct from an error. Python program terminates immediately if an error occurs. Conversely, a warning\n",
    "# is not critical. It shows some message, but the program runs."
   ]
  },
  {
   "cell_type": "code",
   "execution_count": 25,
   "id": "433c6bc0",
   "metadata": {},
   "outputs": [
    {
     "name": "stderr",
     "output_type": "stream",
     "text": [
      "C:\\Users\\vamshikrishna.n\\AppData\\Local\\Temp\\ipykernel_44432\\2869518799.py:1: UserWarning: Warning Message: 4\n",
      "  warnings.warn('Warning Message: 4')   # displaying the warning message\n"
     ]
    }
   ],
   "source": [
    "warnings.warn('Warning Message: 4')   # displaying the warning message "
   ]
  },
  {
   "cell_type": "code",
   "execution_count": 28,
   "id": "89387045",
   "metadata": {},
   "outputs": [
    {
     "name": "stderr",
     "output_type": "stream",
     "text": [
      "C:\\Users\\vamshikrishna.n\\AppData\\Local\\Temp\\ipykernel_44432\\2147468531.py:4: UserWarning: Geeks 4 Geeks !\n",
      "  warnings.warn('Geeks 4 Geeks !')\n"
     ]
    }
   ],
   "source": [
    "warnings.filterwarnings('ignore', '.*do not.*', )\n",
    "\n",
    "# displaying warinings\n",
    "warnings.warn('Geeks 4 Geeks !')\n",
    "  \n",
    "# this warning will not be displayed\n",
    "warnings.warn('Do not show this message')      # Since we mentioned dont in filtering this is not displaying."
   ]
  },
  {
   "cell_type": "code",
   "execution_count": 30,
   "id": "2adf7fcb",
   "metadata": {},
   "outputs": [],
   "source": [
    "warnings.filterwarnings('ignore')\n",
    "\n",
    "warnings.warn('Geeks 4 Geeks !')               # No warnings will display."
   ]
  },
  {
   "cell_type": "code",
   "execution_count": 31,
   "id": "8b427fc9",
   "metadata": {},
   "outputs": [
    {
     "ename": "UserWarning",
     "evalue": "This is a warning message",
     "output_type": "error",
     "traceback": [
      "\u001b[1;31m---------------------------------------------------------------------------\u001b[0m",
      "\u001b[1;31mUserWarning\u001b[0m                               Traceback (most recent call last)",
      "\u001b[1;32m~\\AppData\\Local\\Temp\\ipykernel_44432\\3491694125.py\u001b[0m in \u001b[0;36m<module>\u001b[1;34m\u001b[0m\n\u001b[0;32m      3\u001b[0m \u001b[1;33m\u001b[0m\u001b[0m\n\u001b[0;32m      4\u001b[0m \u001b[1;31m# displaying the warning\u001b[0m\u001b[1;33m\u001b[0m\u001b[1;33m\u001b[0m\u001b[0m\n\u001b[1;32m----> 5\u001b[1;33m \u001b[0mwarnings\u001b[0m\u001b[1;33m.\u001b[0m\u001b[0mwarn\u001b[0m\u001b[1;33m(\u001b[0m\u001b[1;34m'This is a warning message'\u001b[0m\u001b[1;33m)\u001b[0m\u001b[1;33m\u001b[0m\u001b[1;33m\u001b[0m\u001b[0m\n\u001b[0m",
      "\u001b[1;31mUserWarning\u001b[0m: This is a warning message"
     ]
    }
   ],
   "source": [
    "# adding a single entry into warnings filter\n",
    "warnings.simplefilter('error', UserWarning)\n",
    "  \n",
    "# displaying the warning\n",
    "warnings.warn('This is a warning message')"
   ]
  },
  {
   "cell_type": "markdown",
   "id": "65073d59",
   "metadata": {},
   "source": [
    "### Bisect"
   ]
  },
  {
   "cell_type": "code",
   "execution_count": 35,
   "id": "3af58d03",
   "metadata": {},
   "outputs": [
    {
     "name": "stdout",
     "output_type": "stream",
     "text": [
      "The rightmost index to insert, so list remains sorted is  :  5\n",
      "The leftmost index to insert, so list remains sorted is  :  2\n",
      "The rightmost index to insert, so list remains sorted is  :  4\n"
     ]
    }
   ],
   "source": [
    "#Bisect Algorithm Functions\n",
    "#bisect(list, num, beg, end):returns the position in the sorted list, where the number passed in argument can be placed \n",
    "#so as to maintain the resultant list in sorted order.\n",
    "\n",
    "import bisect\n",
    "\n",
    "li = [1, 3, 4, 4, 4, 6, 7]\n",
    "\n",
    "print (\"The rightmost index to insert, so list remains sorted is  : \", bisect.bisect(li, 4))\n",
    "print (\"The leftmost index to insert, so list remains sorted is  : \",bisect.bisect_left(li, 4))\n",
    "print (\"The rightmost index to insert, so list remains sorted is  : \",bisect.bisect_right(li, 4, 0, 4))\n",
    "#bisect() similar to bisect_right()"
   ]
  },
  {
   "cell_type": "code",
   "execution_count": 36,
   "id": "b8b9e0b1",
   "metadata": {},
   "outputs": [
    {
     "name": "stdout",
     "output_type": "stream",
     "text": [
      "1 0 1\n",
      "6 1 6\n",
      "2 6 2\n",
      "4 2 4\n",
      "1 4 1\n",
      "5 1 4\n",
      "8 8 8\n"
     ]
    }
   ],
   "source": [
    "#returns the sorted list after inserting number in appropriate position, if the element is already present in the list, \n",
    "#the element is inserted at the rightmost possible position.\n",
    "li1 = [1, 6, 2, 4, 1, 8, 7]\n",
    "li2 = [1, 6, 2, 4, 1, 8, 7]\n",
    "li3 = [1, 6, 2, 4, 1, 8, 7]\n",
    "bisect.insort(li1, 5)\n",
    "bisect.insort_left(li2, 0)\n",
    "bisect.insort_right(li3, 4, 0, 5)\n",
    "for i in range(0, 7):\n",
    "    print(li1[i],li2[i],li3[i])"
   ]
  },
  {
   "cell_type": "code",
   "execution_count": 37,
   "id": "5be48eea",
   "metadata": {},
   "outputs": [
    {
     "name": "stdout",
     "output_type": "stream",
     "text": [
      "LATIN SMALL LETTER E WITH CIRCUMFLEX\n",
      "ê\n"
     ]
    }
   ],
   "source": [
    "import unicodedata\n",
    "print(unicodedata.name(\"ê\"))\n",
    "print(unicodedata.normalize(\"NFKD\", 'ê'))"
   ]
  },
  {
   "cell_type": "code",
   "execution_count": 38,
   "id": "75e617e8",
   "metadata": {},
   "outputs": [
    {
     "name": "stdout",
     "output_type": "stream",
     "text": [
      "[200, 150, 100, 50]\n",
      "[1, 2, 4, 8]\n"
     ]
    }
   ],
   "source": [
    "import heapq\n",
    "numbers = [1, 4, 2, 100, 20, 50, 32, 200, 150, 8]\n",
    "print(heapq.nlargest(4, numbers)) # [200, 150, 100, 50]\n",
    "print(heapq.nsmallest(4, numbers)) # [200, 150, 100, 50]\n",
    "heapq.heappop(numbers)\n",
    "heapq.heapify(numbers)"
   ]
  },
  {
   "cell_type": "code",
   "execution_count": 39,
   "id": "c0a82c65",
   "metadata": {},
   "outputs": [
    {
     "ename": "ModuleNotFoundError",
     "evalue": "No module named 'inflect'",
     "output_type": "error",
     "traceback": [
      "\u001b[1;31m---------------------------------------------------------------------------\u001b[0m",
      "\u001b[1;31mModuleNotFoundError\u001b[0m                       Traceback (most recent call last)",
      "\u001b[1;32m~\\AppData\\Local\\Temp\\ipykernel_44432\\1872017572.py\u001b[0m in \u001b[0;36m<module>\u001b[1;34m\u001b[0m\n\u001b[1;32m----> 1\u001b[1;33m \u001b[1;32mimport\u001b[0m \u001b[0minflect\u001b[0m \u001b[1;32mas\u001b[0m \u001b[0mi\u001b[0m\u001b[1;33m\u001b[0m\u001b[1;33m\u001b[0m\u001b[0m\n\u001b[0m\u001b[0;32m      2\u001b[0m \u001b[0ms\u001b[0m\u001b[1;33m=\u001b[0m\u001b[0mi\u001b[0m\u001b[1;33m.\u001b[0m\u001b[0mengine\u001b[0m\u001b[1;33m(\u001b[0m\u001b[1;33m)\u001b[0m\u001b[1;33m\u001b[0m\u001b[1;33m\u001b[0m\u001b[0m\n\u001b[0;32m      3\u001b[0m \u001b[0mn\u001b[0m\u001b[1;33m=\u001b[0m\u001b[0minput\u001b[0m\u001b[1;33m(\u001b[0m\u001b[1;33m)\u001b[0m\u001b[1;33m[\u001b[0m\u001b[1;33m:\u001b[0m\u001b[1;36m10\u001b[0m\u001b[1;33m]\u001b[0m\u001b[1;33m\u001b[0m\u001b[1;33m\u001b[0m\u001b[0m\n\u001b[0;32m      4\u001b[0m \u001b[1;32mfor\u001b[0m \u001b[0mi\u001b[0m \u001b[1;32min\u001b[0m \u001b[0mn\u001b[0m\u001b[1;33m:\u001b[0m\u001b[1;33m\u001b[0m\u001b[1;33m\u001b[0m\u001b[0m\n\u001b[0;32m      5\u001b[0m     \u001b[0mp\u001b[0m\u001b[1;33m=\u001b[0m\u001b[0mint\u001b[0m\u001b[1;33m(\u001b[0m\u001b[0mi\u001b[0m\u001b[1;33m)\u001b[0m\u001b[1;33m\u001b[0m\u001b[1;33m\u001b[0m\u001b[0m\n",
      "\u001b[1;31mModuleNotFoundError\u001b[0m: No module named 'inflect'"
     ]
    }
   ],
   "source": [
    "import inflect as i\n",
    "s=i.engine()\n",
    "n=input()[:10]\n",
    "for i in n:\n",
    "    p=int(i)\n",
    "    print(s.number_to_words(p))"
   ]
  },
  {
   "cell_type": "code",
   "execution_count": 40,
   "id": "b47df196",
   "metadata": {},
   "outputs": [],
   "source": [
    "#inspect module helps in checking the objects present in the code that we have written.\n",
    "# As Python is an OOP language and all the code that is written is basically an interaction between these objects, \n",
    "# hence the inspect module becomes very useful in inspecting certain modules or certain objects. \n",
    "\n",
    "# inspect module provides a lot of methods, these methods can be classified into two categories \n",
    "# i.e. methods to verify the type of token and methods to retrieve the source of token."
   ]
  },
  {
   "cell_type": "code",
   "execution_count": 41,
   "id": "21072d24",
   "metadata": {},
   "outputs": [],
   "source": [
    "# Methods to verify the type of token:\n",
    "# isclass()\n",
    "# ismodule()\n",
    "# isfunction()\n",
    "# ismethod()\n",
    "\n",
    "\n",
    "# Methods to retrieve the source of token:\n",
    "# getclasstree()\n",
    "# getmembers()\n",
    "# signature()\n",
    "# stack()\n",
    "# getsource()\n",
    "# getmodule()\n",
    "# getdoc()"
   ]
  },
  {
   "cell_type": "code",
   "execution_count": null,
   "id": "a32643e7",
   "metadata": {},
   "outputs": [],
   "source": []
  }
 ],
 "metadata": {
  "kernelspec": {
   "display_name": "Python 3 (ipykernel)",
   "language": "python",
   "name": "python3"
  },
  "language_info": {
   "codemirror_mode": {
    "name": "ipython",
    "version": 3
   },
   "file_extension": ".py",
   "mimetype": "text/x-python",
   "name": "python",
   "nbconvert_exporter": "python",
   "pygments_lexer": "ipython3",
   "version": "3.9.13"
  }
 },
 "nbformat": 4,
 "nbformat_minor": 5
}
