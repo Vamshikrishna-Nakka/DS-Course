{
 "cells": [
  {
   "cell_type": "markdown",
   "id": "7944ad06",
   "metadata": {},
   "source": [
    "### File handling"
   ]
  },
  {
   "cell_type": "code",
   "execution_count": 39,
   "id": "30139b0f",
   "metadata": {},
   "outputs": [],
   "source": [
    "# Types of File\n",
    "# 1.Text File    : Text file usually we use to store character data. For example, test.txt\n",
    "# 2.Binary File  : The binary files are used to store binary data such as images, video files, audio files, etc"
   ]
  },
  {
   "cell_type": "code",
   "execution_count": 40,
   "id": "93543ce6",
   "metadata": {},
   "outputs": [],
   "source": [
    "# Types of File Path\n",
    "# Absolute path: which always begins with the root folder.\n",
    "# Relative path: which is relative to the programs current working directory.\n",
    "\n",
    "# /user/Pynative/data/sales.txt    ---> Full file path\n",
    "# /user/Pynative/data/             ---> Directory path\n",
    "# sales.txt                        ---> Filename"
   ]
  },
  {
   "cell_type": "code",
   "execution_count": null,
   "id": "b43a7b1d",
   "metadata": {},
   "outputs": [],
   "source": [
    "open('file_Path', 'access_mode','buffering')\n",
    "\n",
    "# -------Access_mode--------\n",
    "\"r\" - Read - Default value. Opens a file for reading, error if the file does not exist\n",
    "\"r+\"- Both reading and writing\n",
    "\"a\" - Append - Opens a file for appending, creates the file if it does not exist and append/add a new data to the existing\n",
    "      file from the end, after the existing data.\n",
    "\"w\" - Write - Opens a file for writing, creates the file if it does not exist\n",
    "\"x\" - Create - Creates the specified file, returns an error if the file exists\n",
    "\"t\" - Text - Default value. Text mode\n",
    "\"b\" - Binary - Binary mode (e.g. images)\n",
    "\"+\" - it adds write or read with mode\n",
    "# Buffering\n",
    "If the buffering value is set to 0, no buffering takes place. If the buffering value is 1, line buffering is performed\n",
    "while accessing a file.If negative, the buffer size is the system default(default behavior)."
   ]
  },
  {
   "cell_type": "code",
   "execution_count": null,
   "id": "6b5941dc",
   "metadata": {},
   "outputs": [],
   "source": []
  },
  {
   "cell_type": "code",
   "execution_count": null,
   "id": "eab41685",
   "metadata": {},
   "outputs": [],
   "source": []
  },
  {
   "cell_type": "code",
   "execution_count": null,
   "id": "d182bdd2",
   "metadata": {},
   "outputs": [],
   "source": []
  },
  {
   "cell_type": "code",
   "execution_count": null,
   "id": "3fd13763",
   "metadata": {},
   "outputs": [],
   "source": []
  },
  {
   "cell_type": "code",
   "execution_count": null,
   "id": "aa00d312",
   "metadata": {},
   "outputs": [],
   "source": []
  },
  {
   "cell_type": "code",
   "execution_count": null,
   "id": "9d641aba",
   "metadata": {},
   "outputs": [],
   "source": []
  },
  {
   "cell_type": "code",
   "execution_count": null,
   "id": "44cf3f70",
   "metadata": {},
   "outputs": [],
   "source": []
  },
  {
   "cell_type": "markdown",
   "id": "93cee935",
   "metadata": {},
   "source": [
    "### OS"
   ]
  },
  {
   "cell_type": "code",
   "execution_count": 36,
   "id": "a2eb973b",
   "metadata": {},
   "outputs": [],
   "source": [
    "import os"
   ]
  },
  {
   "cell_type": "code",
   "execution_count": 37,
   "id": "1d41a78f",
   "metadata": {},
   "outputs": [
    {
     "name": "stdout",
     "output_type": "stream",
     "text": [
      "D:\\Personal\\coding\\Training\n",
      "<built-in function getcwd>\n"
     ]
    },
    {
     "ename": "FileExistsError",
     "evalue": "[WinError 183] Cannot create a file when that file already exists: 'testdir'",
     "output_type": "error",
     "traceback": [
      "\u001b[1;31m---------------------------------------------------------------------------\u001b[0m",
      "\u001b[1;31mFileExistsError\u001b[0m                           Traceback (most recent call last)",
      "\u001b[1;32m~\\AppData\\Local\\Temp\\ipykernel_42520\\1515611835.py\u001b[0m in \u001b[0;36m<module>\u001b[1;34m\u001b[0m\n\u001b[0;32m     10\u001b[0m                                    \u001b[1;31m# have currently been registered: 'posix', 'nt', 'java'.\u001b[0m\u001b[1;33m\u001b[0m\u001b[1;33m\u001b[0m\u001b[0m\n\u001b[0;32m     11\u001b[0m \u001b[1;33m\u001b[0m\u001b[0m\n\u001b[1;32m---> 12\u001b[1;33m \u001b[0mprint\u001b[0m\u001b[1;33m(\u001b[0m\u001b[0mos\u001b[0m\u001b[1;33m.\u001b[0m\u001b[0mmkdir\u001b[0m\u001b[1;33m(\u001b[0m\u001b[1;34m'testdir'\u001b[0m\u001b[1;33m)\u001b[0m\u001b[1;33m)\u001b[0m         \u001b[1;31m# Create new folder By default we wont specify path creates in cwd\u001b[0m\u001b[1;33m\u001b[0m\u001b[1;33m\u001b[0m\u001b[0m\n\u001b[0m\u001b[0;32m     13\u001b[0m                                    \u001b[1;31m# if specify creates in path, if exits same folder raises FileExistsError.\u001b[0m\u001b[1;33m\u001b[0m\u001b[1;33m\u001b[0m\u001b[0m\n\u001b[0;32m     14\u001b[0m \u001b[0mos\u001b[0m\u001b[1;33m.\u001b[0m\u001b[0mrmdir\u001b[0m\u001b[1;33m(\u001b[0m\u001b[1;34m'testdir'\u001b[0m\u001b[1;33m)\u001b[0m                \u001b[1;31m# used to remove or delete an empty directory.\u001b[0m\u001b[1;33m\u001b[0m\u001b[1;33m\u001b[0m\u001b[0m\n",
      "\u001b[1;31mFileExistsError\u001b[0m: [WinError 183] Cannot create a file when that file already exists: 'testdir'"
     ]
    }
   ],
   "source": [
    "print(os.getcwd())                 # returns the current working directory\n",
    "print(os.getcwd)   \n",
    "os.getcwdb()                       # byte string cwd\n",
    "\n",
    "# os.chdir(\"C:\\MyPythonProject\")    # changing current workign directory\n",
    "# os.chdir(\"C:\\\\\")                  # change the current working directory to a drive\n",
    "# os.chdir(\"..\")                    # set the current directory to the parent directory use \"..\"\n",
    "\n",
    "os.name                            # name of the operating system dependent module imported. The following names\n",
    "                                   # have currently been registered: 'posix', 'nt', 'java'.\n",
    "    \n",
    "print(os.mkdir('testdir'))         # Create new folder By default we wont specify path creates in cwd\n",
    "                                   # if specify creates in path, if exits same folder raises FileExistsError.\n",
    "\n",
    "os.mkdir('level1dir/level2dir')    # We get an Error. for creating folder inside folder. to overcome we use os.makedirs()\n",
    "\n",
    "os.makedirs('level1dir/level2dir') # used to create a directory recursively.\n",
    "\n",
    "os.makedirs(new_dir_path_recursive, exist_ok=True)   # If you set exist_ok=True, you can specify an existing directory \n",
    "                                                     # without encountering an error. Note default value is exist_ok=False.\n",
    "    \n",
    "try:\n",
    "    os.makedirs(new_dir_path_recursive)\n",
    "except FileExistsError:\n",
    "    pass\n",
    "\n",
    "os.listdir()                       # returns the list of all files and directories in the specified directory\n",
    "                                   # if dont specify will returncwd files and folders.\n",
    "    \n",
    "# os.listdir('path')"
   ]
  },
  {
   "cell_type": "code",
   "execution_count": null,
   "id": "ad881eec",
   "metadata": {},
   "outputs": [],
   "source": [
    "# os.remove() removes a file.\n",
    "# os.rmdir() removes an empty directory.\n",
    "# shutil.rmtree() deletes a directory and all its contents.\n",
    "# pathlib.Path.unlink() removes a file or symbolic link.\n",
    "# pathlib.Path.rmdir() removes an empty directory.\n",
    "\n",
    "os.rmdir('testdir')                  # used to remove or delete an empty directory. \n",
    "\n",
    "#os.remove()                         # remove or delete a file. we should be careful while using this otherwise removes all\n",
    "                                     # all data of file path.\n",
    "os.removedirs('level1dir/level2dir') # Remove rested directories."
   ]
  },
  {
   "cell_type": "code",
   "execution_count": 38,
   "id": "6b27c922",
   "metadata": {},
   "outputs": [
    {
     "ename": "FileNotFoundError",
     "evalue": "[WinError 2] The system cannot find the file specified: 'sales.txt' -> 'new.txt'",
     "output_type": "error",
     "traceback": [
      "\u001b[1;31m---------------------------------------------------------------------------\u001b[0m",
      "\u001b[1;31mFileNotFoundError\u001b[0m                         Traceback (most recent call last)",
      "\u001b[1;32m~\\AppData\\Local\\Temp\\ipykernel_42520\\1343606631.py\u001b[0m in \u001b[0;36m<module>\u001b[1;34m\u001b[0m\n\u001b[1;32m----> 1\u001b[1;33m \u001b[0mos\u001b[0m\u001b[1;33m.\u001b[0m\u001b[0mrename\u001b[0m\u001b[1;33m(\u001b[0m\u001b[1;34m\"sales.txt\"\u001b[0m\u001b[1;33m,\u001b[0m\u001b[1;34m\"new.txt\"\u001b[0m\u001b[1;33m)\u001b[0m        \u001b[1;31m# A file old.txt can be renamed to new.txt if file exits\u001b[0m\u001b[1;33m\u001b[0m\u001b[1;33m\u001b[0m\u001b[0m\n\u001b[0m\u001b[0;32m      2\u001b[0m \u001b[0mos\u001b[0m\u001b[1;33m.\u001b[0m\u001b[0merror\u001b[0m                                \u001b[1;31m# All functions in this module raise OSError- os.error is an alias for\u001b[0m\u001b[1;33m\u001b[0m\u001b[1;33m\u001b[0m\u001b[0m\n\u001b[0;32m      3\u001b[0m                                         \u001b[1;31m# built-in OSError exception.\u001b[0m\u001b[1;33m\u001b[0m\u001b[1;33m\u001b[0m\u001b[0m\n\u001b[0;32m      4\u001b[0m \u001b[1;33m\u001b[0m\u001b[0m\n\u001b[0;32m      5\u001b[0m \u001b[0ms\u001b[0m\u001b[1;33m=\u001b[0m\u001b[0mos\u001b[0m\u001b[1;33m.\u001b[0m\u001b[0mgetcwd\u001b[0m\u001b[1;33m(\u001b[0m\u001b[1;33m)\u001b[0m\u001b[1;33m\u001b[0m\u001b[1;33m\u001b[0m\u001b[0m\n",
      "\u001b[1;31mFileNotFoundError\u001b[0m: [WinError 2] The system cannot find the file specified: 'sales.txt' -> 'new.txt'"
     ]
    }
   ],
   "source": [
    "os.rename(\"sales.txt\",\"new.txt\")        # A file old.txt can be renamed to new.txt if file exits\n",
    "os.error                                # All functions in this module raise OSError- os.error is an alias for\n",
    "                                        # built-in OSError exception.\n",
    "    \n",
    "s=os.getcwd()\n",
    "os.stat(s)                              #  stat feature to make a system call for the specific path.\n",
    "\n",
    "os.close()                              # closes a given file descriptor\n"
   ]
  },
  {
   "cell_type": "code",
   "execution_count": 34,
   "id": "dc613d91",
   "metadata": {},
   "outputs": [
    {
     "data": {
      "text/plain": [
       "False"
      ]
     },
     "execution_count": 34,
     "metadata": {},
     "output_type": "execute_result"
    }
   ],
   "source": [
    "os.path.join(os.getcwd(), \"main_file.py\")     # 'D:\\\\Personal\\\\coding\\\\Training\\\\main_file.py'\n",
    "\n",
    "path = \"/Home\"\n",
    "os.path.join(path, \"tutorials\", \"a.py\")       # '/Home\\\\tutorials\\\\a.py'\n",
    "\n",
    "path = '/home/john/temp' \n",
    "os.path.exists(path)                          # to check if the given path exists\n",
    "\n",
    "dirname = '/home/john/python'\n",
    "os.path.isdir(dirname)                        # to check if the given path is a directory\n",
    "\n",
    "filename = dirname + 'main.py'\n",
    "os.path.isfile(filename)                      # to check if the given path is a file\n",
    "\n",
    "symlink = dirname + 'some_sym_link' \n",
    "os.path.islink(symlink)                       # to check if the given path is symbolic link\n",
    "\n",
    "mount_path = '/home'\n",
    "os.path.ismount(mount_path)                   # to check if the given path is a mount point"
   ]
  },
  {
   "cell_type": "code",
   "execution_count": 35,
   "id": "47db7e39",
   "metadata": {},
   "outputs": [
    {
     "name": "stdout",
     "output_type": "stream",
     "text": [
      "4096\n"
     ]
    },
    {
     "data": {
      "text/plain": [
       "<nt.ScandirIterator at 0x19dc9b417c0>"
      ]
     },
     "execution_count": 35,
     "metadata": {},
     "output_type": "execute_result"
    }
   ],
   "source": [
    "print(os.path.getsize(os.getcwd()))   # get the size of a file in bytes ex: os.path.getsize('data/src/lena_square.png')\n",
    "\n",
    "os.scandir()                          # to get the total size of files in a directory"
   ]
  },
  {
   "cell_type": "code",
   "execution_count": 23,
   "id": "fd51d75d",
   "metadata": {},
   "outputs": [
    {
     "data": {
      "text/plain": [
       "8"
      ]
     },
     "execution_count": 23,
     "metadata": {},
     "output_type": "execute_result"
    }
   ],
   "source": [
    "os.pardir                 # constant string used by the operating system to refer to the parent directory. \n",
    "os.curdir                 # constant string used by the operating system to refer to the current directory.\n",
    "os.sep                    # character used by the operating system to separate pathname components.\n",
    "os.altsep                 # An alternative character used by the operating system to separate pathname components, or None if only one separator character exists.\n",
    "os.extsep                 # character which separates the base filename from the extension; for example, the '.' in os.py\n",
    "os.linesep                # string used to separate (or, rather, terminate) lines on the current platform, single characters '\\n' multiple characters '\\r\\n'\n",
    "os.cpu_count()            # Return the number of CPUs in the system. Returns None if undetermined."
   ]
  },
  {
   "cell_type": "code",
   "execution_count": 44,
   "id": "49e0b227",
   "metadata": {},
   "outputs": [
    {
     "name": "stdout",
     "output_type": "stream",
     "text": [
      ".\\.ipynb_checkpoints\\1. Python-checkpoint.ipynb\n",
      ".\\.ipynb_checkpoints\\11-checkpoint.ipynb\n",
      ".\\.ipynb_checkpoints\\2. Python-checkpoint.ipynb\n",
      ".\\.ipynb_checkpoints\\3. Python-checkpoint.ipynb\n",
      ".\\.ipynb_checkpoints\\3. SQL-checkpoint.ipynb\n",
      ".\\.ipynb_checkpoints\\4. Python-checkpoint.ipynb\n",
      ".\\.ipynb_checkpoints\\5. Python-checkpoint.ipynb\n",
      ".\\.ipynb_checkpoints\\6. Python-checkpoint.ipynb\n",
      ".\\.ipynb_checkpoints\\Untitled-checkpoint.ipynb\n",
      ".\\level1dir\\level2dir\n",
      ".\\testdir\\New Text Document.txt\n",
      ".\\1. Python.ipynb\n",
      ".\\11.ipynb\n",
      ".\\2. Python.ipynb\n",
      ".\\3. Python.ipynb\n",
      ".\\4. Python.ipynb\n",
      ".\\5. Python.ipynb\n",
      ".\\6. Python.ipynb\n",
      ".\\file.txt\n",
      ".\\filename.txt\n",
      ".\\MyData\n",
      ".\\new.txt\n",
      ".\\sales_2.txt\n",
      ".\\some_file\n",
      ".\\test.txt\n",
      ".\\Untitled.ipynb\n",
      ".\\.ipynb_checkpoints\n",
      ".\\level1dir\n",
      ".\\testdir\n"
     ]
    }
   ],
   "source": [
    "#os.walk(top[, topdown=True[, onerror=None[, followlinks=False]]])\n",
    "# top − Each directory rooted at directory, yields 3-tuples, i.e., (dirpath, dirnames, filenames)\n",
    "# topdown − If optional argument topdown is True or not specified, directories are scanned from top-down. \n",
    "#           If topdown is set to False, directories are scanned from bottom-up.\n",
    "# onerror − This can show error to continue with the walk, or raise the exception to abort the walk.\n",
    "# followlinks − This visits directories pointed to by symlinks, if set to true.\n",
    "\n",
    "\n",
    "for root, dirs, files in os.walk(\".\", topdown=False):\n",
    "    for name in files:\n",
    "        print(os.path.join(root, name))\n",
    "    for name in dirs:\n",
    "        print(os.path.join(root, name))"
   ]
  },
  {
   "cell_type": "markdown",
   "id": "7923b5f9",
   "metadata": {},
   "source": [
    "### Sys"
   ]
  },
  {
   "cell_type": "code",
   "execution_count": 60,
   "id": "c72ab89b",
   "metadata": {},
   "outputs": [
    {
     "name": "stdout",
     "output_type": "stream",
     "text": [
      "3.9.13 (main, Aug 25 2022, 23:51:50) [MSC v.1916 64 bit (AMD64)]\n",
      "C:\\Users\\vamshikrishna.n\\Anaconda3\\python.exe\n"
     ]
    }
   ],
   "source": [
    "import sys\n",
    "print(sys.version)                 # interpreter version,additional information about the system and interpreter. \n",
    "print(sys.executable)              # It’s a string that tells you where your filesystem or your python interpreter exists.\n",
    "print(sys.getdefaultencoding())    # It returns the default string encoding.\n",
    "print(sys.exit)                    # If you want to force quit the application or stop it from executing at any point\n",
    "print(sys.maxsize)                 # largest integer a variable can take.\n",
    "sys.builtin_module_names           # understand which all are the built-in modules available in python. One need not to download these modules\n",
    "sys.path                           # to know where all your Python modules are downloaded and installed\n",
    "sys.platform                       #  Everyone wants their program to run irrespective of the platform.\n",
    "sys.platform.startswith('win')     # to check starts with\n",
    "sys.exc_clear()                    # to clear all information related to current or previous exceptions.\n",
    "sys.getrefcount()                  # method is used to get the reference count for any given object"
   ]
  },
  {
   "cell_type": "code",
   "execution_count": 58,
   "id": "386e34dd",
   "metadata": {},
   "outputs": [
    {
     "name": "stdout",
     "output_type": "stream",
     "text": [
      "3\n",
      "C:\\Users\\vamshikrishna.n\\Anaconda3\\lib\\site-packages\\ipykernel_launcher.py -f C:\\Users\\vamshikrishna.n\\AppData\\Roaming\\jupyter\\runtime\\kernel-85f904ae-9526-49b2-bb69-a10462833337.json\n",
      "C:\\Users\\vamshikrishna.n\\Anaconda3\\lib\\site-packages\\ipykernel_launcher.py -f C:\\Users\\vamshikrishna.n\\AppData\\Roaming\\jupyter\\runtime\\kernel-85f904ae-9526-49b2-bb69-a10462833337.json\n"
     ]
    }
   ],
   "source": [
    "# Command Line arguments with sys\n",
    "\n",
    "print(len(sys.argv))                                      \n",
    "print(*sys.argv)\n",
    "print(sys.argv[0],sys.argv[1],sys.argv[2])      "
   ]
  },
  {
   "cell_type": "code",
   "execution_count": 68,
   "id": "80004113",
   "metadata": {},
   "outputs": [
    {
     "name": "stdout",
     "output_type": "stream",
     "text": [
      "You have entered −> \n"
     ]
    }
   ],
   "source": [
    "data = sys.stdin.readline()\n",
    "print('You have entered −> '+ data)     # Input() is not the only way to read user input. You can use the sys module’s stdin function to read input as well."
   ]
  },
  {
   "cell_type": "code",
   "execution_count": 71,
   "id": "f4651e4e",
   "metadata": {},
   "outputs": [
    {
     "name": "stdout",
     "output_type": "stream",
     "text": [
      "<_io.TextIOWrapper name='<stdin>' mode='r' encoding='cp1252'>\n",
      "<ipykernel.iostream.OutStream object at 0x0000019DCA5CF7F0>\n",
      "<ipykernel.iostream.OutStream object at 0x0000019DCA5CFA90>\n"
     ]
    }
   ],
   "source": [
    "for j in (sys.stdin, sys.stdout, sys.stderr):\n",
    "    print (j)"
   ]
  },
  {
   "cell_type": "markdown",
   "id": "a637f564",
   "metadata": {},
   "source": [
    "### Logging"
   ]
  },
  {
   "cell_type": "code",
   "execution_count": 74,
   "id": "a0742dd4",
   "metadata": {},
   "outputs": [],
   "source": [
    "import logging"
   ]
  },
  {
   "cell_type": "code",
   "execution_count": null,
   "id": "89146352",
   "metadata": {},
   "outputs": [],
   "source": [
    "# Logging is a means of tracking events that happen when some software runs.\n",
    "# Logging is important for software developing,debugging, and running. If you don’t have any logging record and your\n",
    "# program crashes, there are very few chances that youdetect the cause of the problem. And if you detect the cause, it\n",
    "# will consume a lot of time. With logging, you can leave atrail of breadcrumbs so that if something goes wrong, we can\n",
    "# determine the cause of the problem."
   ]
  },
  {
   "cell_type": "code",
   "execution_count": 75,
   "id": "d88b2389",
   "metadata": {},
   "outputs": [],
   "source": [
    "# “Why not just use printing?”\n",
    "# Printing can help debug simpler scripts, but as your code gets more and more complex, printing lacks the flexibility and\n",
    "# robustness that logging has."
   ]
  },
  {
   "cell_type": "code",
   "execution_count": 76,
   "id": "8dd5f908",
   "metadata": {},
   "outputs": [],
   "source": [
    "# Levels of Log Message\n",
    "# There are five built-in levels of the log message.  \n",
    "\n",
    "# Debug : These are used to give Detailed information, typically of interest only when diagnosing problems.\n",
    "# Info : These are used to confirm that things are working as expected\n",
    "# Warning : These are used an indication that something unexpected happened, or is indicative of some problem in the near future\n",
    "# Error : This tells that due to a more serious problem, the software has not been able to perform some function\n",
    "# Critical : This tells serious error, indicating that the program itself may be unable to continue running\n",
    "\n",
    "# logging.debug('This is a debug message')\n",
    "# logging.info('This is an info message')\n",
    "# logging.warning('This is a warning message')\n",
    "# logging.error('This is an error message')\n",
    "# logging.critical('This is a critical message')"
   ]
  },
  {
   "cell_type": "code",
   "execution_count": null,
   "id": "2d2f6c5b",
   "metadata": {},
   "outputs": [],
   "source": [
    "# You can use the basicConfig(**kwargs) method to configure the logging, Some of the commonly used parameters for basicConfig() are\n",
    "\n",
    "# level: The root logger will be set to the specified severity level.\n",
    "# filename: This specifies the file.\n",
    "# filemode: If filename is given, the file is opened in this mode. The default is a, which means append.\n",
    "# format: This is the format of the log message."
   ]
  },
  {
   "cell_type": "code",
   "execution_count": 77,
   "id": "c21094e1",
   "metadata": {},
   "outputs": [
    {
     "name": "stderr",
     "output_type": "stream",
     "text": [
      "DEBUG:root:This will get logged\n"
     ]
    }
   ],
   "source": [
    "# By using the level parameter, you can set what level of log messages you want to record.\n",
    "logging.basicConfig(level=logging.DEBUG)\n",
    "logging.debug('This will get logged')"
   ]
  },
  {
   "cell_type": "code",
   "execution_count": 78,
   "id": "c9059417",
   "metadata": {},
   "outputs": [
    {
     "name": "stderr",
     "output_type": "stream",
     "text": [
      "WARNING:root:This will get logged to a file\n"
     ]
    }
   ],
   "source": [
    "# Similarly, for logging to a file rather than the console, filename and filemode can be used, and you can decide\n",
    "# the format of the message using format.\n",
    "\n",
    "logging.basicConfig(filename='app.log', filemode='w', format='%(name)s - %(levelname)s - %(message)s')\n",
    "logging.warning('This will get logged to a file')"
   ]
  },
  {
   "cell_type": "code",
   "execution_count": 79,
   "id": "08c4fc1b",
   "metadata": {},
   "outputs": [
    {
     "name": "stderr",
     "output_type": "stream",
     "text": [
      "WARNING:root:This is a Warning\n"
     ]
    }
   ],
   "source": [
    "logging.basicConfig(format='%(process)d-%(levelname)s-%(message)s')\n",
    "logging.warning('This is a Warning')"
   ]
  },
  {
   "cell_type": "code",
   "execution_count": 80,
   "id": "0a0b8cff",
   "metadata": {},
   "outputs": [
    {
     "name": "stderr",
     "output_type": "stream",
     "text": [
      "INFO:root:Admin logged in\n"
     ]
    }
   ],
   "source": [
    "logging.basicConfig(format='%(asctime)s - %(message)s', level=logging.INFO)\n",
    "logging.info('Admin logged in')"
   ]
  },
  {
   "cell_type": "code",
   "execution_count": 81,
   "id": "ffd8cf50",
   "metadata": {},
   "outputs": [
    {
     "name": "stderr",
     "output_type": "stream",
     "text": [
      "ERROR:root:John raised an error\n"
     ]
    }
   ],
   "source": [
    "name = 'John'\n",
    "\n",
    "logging.error('%s raised an error', name)"
   ]
  },
  {
   "cell_type": "code",
   "execution_count": 83,
   "id": "1514435e",
   "metadata": {},
   "outputs": [
    {
     "name": "stderr",
     "output_type": "stream",
     "text": [
      "ERROR:root:Exception occurred\n",
      "Traceback (most recent call last):\n",
      "  File \"C:\\Users\\vamshikrishna.n\\AppData\\Local\\Temp\\ipykernel_42520\\1562185338.py\", line 4, in <module>\n",
      "    c = a / b\n",
      "ZeroDivisionError: division by zero\n"
     ]
    }
   ],
   "source": [
    "a = 5\n",
    "b = 0\n",
    "try:\n",
    "    c = a / b\n",
    "except Exception as e:\n",
    "    logging.error(\"Exception occurred\", exc_info=True)"
   ]
  },
  {
   "cell_type": "code",
   "execution_count": 84,
   "id": "8890b6c5",
   "metadata": {},
   "outputs": [
    {
     "name": "stderr",
     "output_type": "stream",
     "text": [
      "ERROR:root:Exception occurred\n",
      "Traceback (most recent call last):\n",
      "  File \"C:\\Users\\vamshikrishna.n\\AppData\\Local\\Temp\\ipykernel_42520\\2929620505.py\", line 4, in <module>\n",
      "    c = a / b\n",
      "ZeroDivisionError: division by zero\n"
     ]
    }
   ],
   "source": [
    "a = 5\n",
    "b = 0\n",
    "try:\n",
    "  c = a / b\n",
    "except Exception as e:\n",
    "  logging.exception(\"Exception occurred\")"
   ]
  },
  {
   "cell_type": "code",
   "execution_count": 85,
   "id": "195aa3b5",
   "metadata": {},
   "outputs": [
    {
     "name": "stderr",
     "output_type": "stream",
     "text": [
      "WARNING:example_logger:This is a warning\n"
     ]
    }
   ],
   "source": [
    "logger = logging.getLogger('example_logger')\n",
    "logger.warning('This is a warning')"
   ]
  },
  {
   "cell_type": "code",
   "execution_count": 86,
   "id": "f7f1dfef",
   "metadata": {},
   "outputs": [
    {
     "name": "stderr",
     "output_type": "stream",
     "text": [
      "__main__ - WARNING - This is a warning\n",
      "WARNING:__main__:This is a warning\n",
      "__main__ - ERROR - This is an error\n",
      "ERROR:__main__:This is an error\n"
     ]
    }
   ],
   "source": [
    "# Create a custom logger\n",
    "logger = logging.getLogger(__name__)\n",
    "\n",
    "# Create handlers\n",
    "c_handler = logging.StreamHandler()\n",
    "f_handler = logging.FileHandler('file.log')\n",
    "c_handler.setLevel(logging.WARNING)\n",
    "f_handler.setLevel(logging.ERROR)\n",
    "\n",
    "# Create formatters and add it to handlers\n",
    "c_format = logging.Formatter('%(name)s - %(levelname)s - %(message)s')\n",
    "f_format = logging.Formatter('%(asctime)s - %(name)s - %(levelname)s - %(message)s')\n",
    "c_handler.setFormatter(c_format)\n",
    "f_handler.setFormatter(f_format)\n",
    "\n",
    "# Add handlers to the logger\n",
    "logger.addHandler(c_handler)\n",
    "logger.addHandler(f_handler)\n",
    "\n",
    "logger.warning('This is a warning')\n",
    "logger.error('This is an error')"
   ]
  },
  {
   "cell_type": "code",
   "execution_count": null,
   "id": "9978e869",
   "metadata": {},
   "outputs": [],
   "source": []
  }
 ],
 "metadata": {
  "kernelspec": {
   "display_name": "Python 3 (ipykernel)",
   "language": "python",
   "name": "python3"
  },
  "language_info": {
   "codemirror_mode": {
    "name": "ipython",
    "version": 3
   },
   "file_extension": ".py",
   "mimetype": "text/x-python",
   "name": "python",
   "nbconvert_exporter": "python",
   "pygments_lexer": "ipython3",
   "version": "3.10.9"
  }
 },
 "nbformat": 4,
 "nbformat_minor": 5
}
