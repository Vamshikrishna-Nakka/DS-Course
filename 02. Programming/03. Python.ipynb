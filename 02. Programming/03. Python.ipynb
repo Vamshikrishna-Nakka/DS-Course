{
 "cells": [
  {
   "cell_type": "markdown",
   "id": "5446605d",
   "metadata": {},
   "source": [
    "## Dictionaries\n",
    "\n",
    "Dictionaries are structures which can contain multiple data types, and\n",
    "is ordered with key-value pairs: for each (unique) key, the dictionary\n",
    "outputs one value. Keys can be strings, numbers, or tuples, while the\n",
    "corresponding values can be any Python object. Dictionaries are:\n",
    "unordered, iterable, mutable"
   ]
  },
  {
   "cell_type": "code",
   "execution_count": 77,
   "id": "440bbd40",
   "metadata": {},
   "outputs": [
    {
     "data": {
      "text/plain": [
       "3"
      ]
     },
     "execution_count": 77,
     "metadata": {},
     "output_type": "execute_result"
    }
   ],
   "source": [
    "e = {}                                        # create an empty dictionary (two ways)\n",
    "e = dict()\n",
    "\n",
    "f = {'dad':'h', 'mom':'m', 'size':6}          # create a dictionary (two ways)\n",
    "f = dict(dad='h', mom='m', size=6)\n",
    "\n",
    "t = [('dad','h'), ('mom','m'), ('size', 6)]   # convert a list of tuples into a dictionary\n",
    "f= dict(t)\n",
    "\n",
    "len(f)         # returns 3"
   ]
  },
  {
   "cell_type": "markdown",
   "id": "7e54fd60",
   "metadata": {},
   "source": [
    "Because lists are mutable, dict keys (and set members) need to be hashable, hashable is a feature of Python objects that tells ifthe object has a hash value or not. If the object has a hash value then it can be used as a key for a dictionary or as an element in a set. An object is hashable if it has a hash value that does not change during its entire lifetime."
   ]
  },
  {
   "cell_type": "code",
   "execution_count": 13,
   "id": "90de79e8",
   "metadata": {},
   "outputs": [],
   "source": [
    "f['cat'] = 'snowball'               # add a new entry or edit an existing entry\n",
    "f['kids'] = ['bart', 'lisa']        # value can be a list\n",
    "\n",
    "f['mom']                            # accessing returns 'marge'\n",
    "f['kids'][0]                        # returns 'bart'  accessing a list element within a dictionary\n",
    "f.get('mom')                        # same thing\n",
    "f.get('grandma', 'not found')       # Return the value for key if key is in the dictionary, else default. If default is \n",
    "                                         # not given,it defaults to None,so that this method never raises a KeyError\n",
    "\n",
    "f.keys()                            # returns list: ['dad', 'mom', 'size']\n",
    "f.values()                          # returns list: ['homer', 'marge', 6]\n",
    "f.items()                           # returns list of tuples: [('dad', 'homer'), ('mom', 'marge'), ('size', 6)]\n",
    "\n",
    "f['kids'].remove('lisa')            # removes 'lisa'\n",
    "f.pop('dad')                        # removes an entry and returns the value ('homer')\n",
    "f.popitem()                         # last element\n",
    "del f['cat']                        # delete an entry"
   ]
  },
  {
   "cell_type": "code",
   "execution_count": 5,
   "id": "c5418620",
   "metadata": {},
   "outputs": [],
   "source": [
    "# modify a dictionary (does not return the dictionary)\n",
    "f.update({'baby':'maggie', 'grandpa':'abe'})   # add multiple entries\n",
    "f.setdefault(4,5)                              # If key is in the dictionary, return its value. If not, insert key with\n",
    "                                                    # a value of default and return default. default defaults to None."
   ]
  },
  {
   "cell_type": "code",
   "execution_count": 10,
   "id": "c29d181c",
   "metadata": {},
   "outputs": [],
   "source": [
    "b=f.copy()\n",
    "b.clear()\n",
    "# dict.fromkeys(x,y)                                # dict.fromkeys(keys, value) #from keys of it takes "
   ]
  },
  {
   "cell_type": "code",
   "execution_count": 21,
   "id": "7e4a142e",
   "metadata": {},
   "outputs": [
    {
     "name": "stdout",
     "output_type": "stream",
     "text": [
      "youngest child is maggie\n"
     ]
    }
   ],
   "source": [
    "# string substitution using a dictionary\n",
    "print('youngest child is %(baby)s' % family)   # returns 'youngest child is maggie'"
   ]
  },
  {
   "cell_type": "code",
   "execution_count": 14,
   "id": "82d34dc2",
   "metadata": {},
   "outputs": [
    {
     "name": "stdout",
     "output_type": "stream",
     "text": [
      "{6: 'h', 2: 4, 9: 33}\n"
     ]
    }
   ],
   "source": [
    "l={6:23,2:33,9:33}\n",
    "p={2:4,6:'h'}\n",
    "ff={**l,**p}                # merging dictionaries, if keys are same overrides with sec dic element of same key.\n",
    "print(ff)"
   ]
  },
  {
   "cell_type": "code",
   "execution_count": 22,
   "id": "066bf80e",
   "metadata": {},
   "outputs": [
    {
     "name": "stdout",
     "output_type": "stream",
     "text": [
      "[(2, 33), (6, 23), (9, 33)]\n"
     ]
    },
    {
     "data": {
      "text/plain": [
       "[(2, 33), (9, 33), (6, 23)]"
      ]
     },
     "execution_count": 22,
     "metadata": {},
     "output_type": "execute_result"
    }
   ],
   "source": [
    "print(sorted(l.items()))                            # sorting based on key\n",
    "sorted(l.items(), key=lambda x: x[1], reverse=True) # sort based on value with out using builtin func"
   ]
  },
  {
   "cell_type": "code",
   "execution_count": 53,
   "id": "44e80c17",
   "metadata": {},
   "outputs": [
    {
     "name": "stdout",
     "output_type": "stream",
     "text": [
      "OrderedDict([('a', 1), ('b', 2), ('c', 3)])\n",
      "Default dictionary {'a': 1, 'b': 2, 'c': 3}\n"
     ]
    }
   ],
   "source": [
    "#OrderedDict \n",
    "\n",
    "# dictionary is a unordered so to keep the data ordered need to relie on other data structures to overcome that we have \n",
    "# OrderedDict is a dictionary that ensures its order is maintained.For example,if the keys are inserted in a specific order,\n",
    "# then the order is maintained.Even if you change the value of the key later,the position will remain the same.\n",
    "\n",
    "from collections import OrderedDict \n",
    "\n",
    "order = OrderedDict()            # numbers = OrderedDict([(\"one\", 1), (\"two\", 2), (\"three\", 3)])\n",
    "order['a'] = 1                   # letters = OrderedDict({(\"a\", 1), (\"b\", 2), (\"c\", 3)})\n",
    "order['b'] = 2   \n",
    "order['c'] = 3  \n",
    "print(order)  \n",
    "\n",
    "#unordered dictionary\n",
    "unordered=dict()\n",
    "unordered['a'] = 1  \n",
    "unordered['b'] = 2  \n",
    "unordered['c'] = 3 \n",
    "print(\"Default dictionary\", unordered)"
   ]
  },
  {
   "cell_type": "code",
   "execution_count": 34,
   "id": "262d300d",
   "metadata": {},
   "outputs": [
    {
     "name": "stdout",
     "output_type": "stream",
     "text": [
      "Not available\n"
     ]
    }
   ],
   "source": [
    "# DefaultDict\n",
    "\n",
    "# Defaultdict is exactly like a dictionary in python. The only difference is that it does not give an exception/key error \n",
    "# when you try to access the non-existent key.\n",
    "\n",
    "# we create a Python function that returns a default value for any keys that aren’t initialized.\n",
    "\n",
    "from collections import defaultdict\n",
    "\n",
    "def defaultvalue():\n",
    "    return 'Not available'\n",
    "\n",
    "ad=defaultdict(defaultvalue)       # or  ad = defaultdict(lambda: \"Not Available\")\n",
    "ad['x']=31\n",
    "ad['y']=42\n",
    "ad['z']=53\n",
    "print(ad['g'])                     # Since no 'g' key the default value retrives"
   ]
  },
  {
   "cell_type": "code",
   "execution_count": 48,
   "id": "c4ef6ae9",
   "metadata": {},
   "outputs": [
    {
     "name": "stdout",
     "output_type": "stream",
     "text": [
      "defaultdict(<class 'int'>, {'a': 1, 'b': 2, 'c': 3})\n",
      "0\n",
      "0\n"
     ]
    }
   ],
   "source": [
    "n = defaultdict(int)  \n",
    "n['a'] = 1  \n",
    "n['b'] = 2\n",
    "n['c'] = 3 \n",
    "print(n)\n",
    "print(n['d'])\n",
    "print(n.__missing__('d'))"
   ]
  },
  {
   "cell_type": "code",
   "execution_count": 49,
   "id": "f61cd81b",
   "metadata": {},
   "outputs": [
    {
     "name": "stdout",
     "output_type": "stream",
     "text": [
      "dict_items([('m', 1), ('i', 4), ('s', 4), ('p', 2)])\n",
      "dict_keys(['m', 'i', 's', 'p'])\n",
      "dict_values([1, 4, 4, 2])\n"
     ]
    }
   ],
   "source": [
    "s = 'mississippi'\n",
    "d = defaultdict(int)\n",
    "for k in s:\n",
    "    d[k] += 1\n",
    "print(d.items())\n",
    "print(d.keys())\n",
    "print(d.values())"
   ]
  },
  {
   "cell_type": "code",
   "execution_count": 30,
   "id": "adb11ba8",
   "metadata": {},
   "outputs": [
    {
     "ename": "RuntimeError",
     "evalue": "Deletion not allowed",
     "output_type": "error",
     "traceback": [
      "\u001b[1;31m---------------------------------------------------------------------------\u001b[0m",
      "\u001b[1;31mRuntimeError\u001b[0m                              Traceback (most recent call last)",
      "\u001b[1;32m~\\AppData\\Local\\Temp\\ipykernel_33480\\1241815857.py\u001b[0m in \u001b[0;36m<module>\u001b[1;34m\u001b[0m\n\u001b[0;32m     27\u001b[0m     'c': 3})\n\u001b[0;32m     28\u001b[0m \u001b[1;33m\u001b[0m\u001b[0m\n\u001b[1;32m---> 29\u001b[1;33m \u001b[0md\u001b[0m\u001b[1;33m.\u001b[0m\u001b[0mpop\u001b[0m\u001b[1;33m(\u001b[0m\u001b[1;36m1\u001b[0m\u001b[1;33m)\u001b[0m\u001b[1;33m\u001b[0m\u001b[1;33m\u001b[0m\u001b[0m\n\u001b[0m",
      "\u001b[1;32m~\\AppData\\Local\\Temp\\ipykernel_33480\\1241815857.py\u001b[0m in \u001b[0;36mpop\u001b[1;34m(self, s)\u001b[0m\n\u001b[0;32m     15\u001b[0m     \u001b[1;31m# dictionary\u001b[0m\u001b[1;33m\u001b[0m\u001b[1;33m\u001b[0m\u001b[0m\n\u001b[0;32m     16\u001b[0m     \u001b[1;32mdef\u001b[0m \u001b[0mpop\u001b[0m\u001b[1;33m(\u001b[0m\u001b[0mself\u001b[0m\u001b[1;33m,\u001b[0m \u001b[0ms\u001b[0m \u001b[1;33m=\u001b[0m \u001b[1;32mNone\u001b[0m\u001b[1;33m)\u001b[0m\u001b[1;33m:\u001b[0m\u001b[1;33m\u001b[0m\u001b[1;33m\u001b[0m\u001b[0m\n\u001b[1;32m---> 17\u001b[1;33m         \u001b[1;32mraise\u001b[0m \u001b[0mRuntimeError\u001b[0m\u001b[1;33m(\u001b[0m\u001b[1;34m\"Deletion not allowed\"\u001b[0m\u001b[1;33m)\u001b[0m\u001b[1;33m\u001b[0m\u001b[1;33m\u001b[0m\u001b[0m\n\u001b[0m\u001b[0;32m     18\u001b[0m \u001b[1;33m\u001b[0m\u001b[0m\n\u001b[0;32m     19\u001b[0m     \u001b[1;31m# Function to stop popitem\u001b[0m\u001b[1;33m\u001b[0m\u001b[1;33m\u001b[0m\u001b[0m\n",
      "\u001b[1;31mRuntimeError\u001b[0m: Deletion not allowed"
     ]
    }
   ],
   "source": [
    "#UserDict\n",
    "\n",
    "from collections import UserDict\n",
    "    \n",
    "# Creating a Dictionary where \n",
    "# deletion is not allowed \n",
    "class MyDict(UserDict): \n",
    "        \n",
    "    # Function to stop deletion \n",
    "    # from dictionary \n",
    "    def __del__(self): \n",
    "        raise RuntimeError(\"Deletion not allowed\") \n",
    "            \n",
    "    # Function to stop pop from  \n",
    "    # dictionary \n",
    "    def pop(self, s = None): \n",
    "        raise RuntimeError(\"Deletion not allowed\") \n",
    "            \n",
    "    # Function to stop popitem  \n",
    "    # from Dictionary \n",
    "    def popitem(self, s = None): \n",
    "        raise RuntimeError(\"Deletion not allowed\") \n",
    "        \n",
    "# Driver's code \n",
    "d = MyDict({'a':1, \n",
    "    'b': 2, \n",
    "    'c': 3})\n",
    "    \n",
    "d.pop(1)"
   ]
  },
  {
   "cell_type": "code",
   "execution_count": 54,
   "id": "32a332d2",
   "metadata": {},
   "outputs": [
    {
     "name": "stdout",
     "output_type": "stream",
     "text": [
      "ChainMap({'pen': 15, 'eraser': 22}, {'marker': 10, 'eraser': 40})\n",
      "22\n",
      "22\n",
      "30\n",
      "30\n",
      "ChainMap({'book': 40}, {'pen': 15, 'eraser': 22}, {'marker': 10, 'eraser': 40})\n",
      "[{'book': 40}, {'pen': 15, 'eraser': 22}, {'marker': 10, 'eraser': 40}]\n"
     ]
    }
   ],
   "source": [
    "# ChainMap\n",
    "\n",
    "# It encapsulates many dictionaries into a single unit and returns a list of dictionaries.\n",
    "\n",
    "# The .get() method, which returns None if a key doesn’t exist in any of the dictionaries, or a default value if its passed in.\n",
    "# The [] indexing method, which will cause a KeyError if a key doesn’t exist.\n",
    "\n",
    "# ChainMap can be effectively used when we are dealing with multiple dictionaries simultaneously.\n",
    "\n",
    "from collections import ChainMap \n",
    "A = { \"pen\" : 15, \"eraser\" : 22 }\n",
    "B = { \"marker\" : 10, \"eraser\" : 40 }\n",
    "\n",
    "chain = ChainMap(A, B)\n",
    "print(chain)\n",
    "\n",
    "print(A[\"eraser\"])\n",
    "print(chain.get(\"eraser\"))  # if we access a key with get from chainmap it retrives first occurance \n",
    "\n",
    "\n",
    "apparel = {\"book\": 40, \"scale\":30}    # adding a new item in chain\n",
    "new_chain = chain.new_child(apparel)  # new_child() function and pass the new dictionary to add newdata to our ChainMapcollection\n",
    "print(new_chain[\"scale\"])  \n",
    "\n",
    "\n",
    "print(new_chain.pop(\"scale\"))       # deleting an object\n",
    "print(new_chain)\n",
    "\n",
    "print(new_chain.maps) "
   ]
  },
  {
   "cell_type": "markdown",
   "id": "81115030",
   "metadata": {},
   "source": [
    "## Sets\n",
    "\n",
    "Like dictionaries, but with unique keys(no duplicates) only (no corresponding values).\n",
    "They are: unordered, iterable, mutable, can contain multiple data types\n",
    "made up of unique elements (strings, numbers, or tuples)\n"
   ]
  },
  {
   "cell_type": "code",
   "execution_count": 57,
   "id": "74ffe7a3",
   "metadata": {},
   "outputs": [],
   "source": [
    "empty_set = set()        # create an empty set\n",
    "\n",
    "l= {2,3,4,5,5,3}         # create a set directly\n",
    "b= set([8,9])            # create a set from a list"
   ]
  },
  {
   "cell_type": "code",
   "execution_count": 61,
   "id": "fb48b173",
   "metadata": {},
   "outputs": [],
   "source": [
    "l.add(8)                 # If the element already exists it ignored, no error else it addss\n",
    "l.update(b)              # add multiple elements (can also pass a list or set)\n",
    "c=l.copy()               # copy the set to another as backup"
   ]
  },
  {
   "cell_type": "code",
   "execution_count": 65,
   "id": "12e7e34e",
   "metadata": {},
   "outputs": [
    {
     "ename": "KeyError",
     "evalue": "9",
     "output_type": "error",
     "traceback": [
      "\u001b[1;31m---------------------------------------------------------------------------\u001b[0m",
      "\u001b[1;31mKeyError\u001b[0m                                  Traceback (most recent call last)",
      "\u001b[1;32m~\\AppData\\Local\\Temp\\ipykernel_33480\\3068291085.py\u001b[0m in \u001b[0;36m<module>\u001b[1;34m\u001b[0m\n\u001b[0;32m      1\u001b[0m \u001b[0mc\u001b[0m\u001b[1;33m.\u001b[0m\u001b[0mclear\u001b[0m\u001b[1;33m(\u001b[0m\u001b[1;33m)\u001b[0m                \u001b[1;31m# only clears data empty set will available\u001b[0m\u001b[1;33m\u001b[0m\u001b[1;33m\u001b[0m\u001b[0m\n\u001b[1;32m----> 2\u001b[1;33m \u001b[0ml\u001b[0m\u001b[1;33m.\u001b[0m\u001b[0mremove\u001b[0m\u001b[1;33m(\u001b[0m\u001b[1;36m9\u001b[0m\u001b[1;33m)\u001b[0m              \u001b[1;31m# if wont find element raises an error\u001b[0m\u001b[1;33m\u001b[0m\u001b[1;33m\u001b[0m\u001b[0m\n\u001b[0m\u001b[0;32m      3\u001b[0m \u001b[0ml\u001b[0m\u001b[1;33m.\u001b[0m\u001b[0mdiscard\u001b[0m\u001b[1;33m(\u001b[0m\u001b[1;36m5\u001b[0m\u001b[1;33m)\u001b[0m             \u001b[1;31m# removes an element if present, but ignored otherwise\u001b[0m\u001b[1;33m\u001b[0m\u001b[1;33m\u001b[0m\u001b[0m\n\u001b[0;32m      4\u001b[0m \u001b[0ml\u001b[0m\u001b[1;33m.\u001b[0m\u001b[0mpop\u001b[0m\u001b[1;33m(\u001b[0m\u001b[1;33m)\u001b[0m                  \u001b[1;31m# random item will pop and returns an arbitrary element\u001b[0m\u001b[1;33m\u001b[0m\u001b[1;33m\u001b[0m\u001b[0m\n",
      "\u001b[1;31mKeyError\u001b[0m: 9"
     ]
    }
   ],
   "source": [
    "c.clear()                # only clears data empty set will available\n",
    "l.remove(9)              # if wont find element raises an error\n",
    "l.discard(5)             # removes an element if present, but ignored otherwise\n",
    "l.pop()                  # random item will pop and returns an arbitrary element"
   ]
  },
  {
   "cell_type": "code",
   "execution_count": 122,
   "id": "ae6d0888",
   "metadata": {},
   "outputs": [
    {
     "name": "stderr",
     "output_type": "stream",
     "text": [
      "Exception ignored in: <function MyDict.__del__ at 0x0000015A5A261040>\n",
      "Traceback (most recent call last):\n",
      "  File \"C:\\Users\\vamshikrishna.n\\AppData\\Local\\Temp\\ipykernel_33480\\1241815857.py\", line 12, in __del__\n",
      "RuntimeError: Deletion not allowed\n"
     ]
    },
    {
     "name": "stdout",
     "output_type": "stream",
     "text": [
      "{'c', 'b', 'd', 'a', 'e'}\n",
      "{'c', 'b', 'd', 'a', 'e'}\n",
      "{'c', 'b', 'f', 'd', 'a', 'e', 'g'}\n",
      "{'c', 'b', 'f', 'd', 'a', 'e', 'g'}\n",
      "{'c'}\n",
      "{'c'}\n",
      "None\n",
      "set()\n",
      "set()\n",
      "None\n",
      "{'e', 'd'}\n",
      "None\n",
      "False\n",
      "True\n",
      "False\n"
     ]
    }
   ],
   "source": [
    "l = {\"a\", \"b\", \"c\"}\n",
    "b = {\"c\", \"d\", \"e\"}\n",
    "d = {\"f\", \"g\", \"c\",\"a\"}\n",
    "\n",
    "print(l.union(b))                        # returns union:{3, 5, 6, 7, 8, 9}\n",
    "print(l | b)                             # union\n",
    "print(l.union(b,d))                      # multiple dicts union\n",
    "print(l | b | d)\n",
    "\n",
    "print(l.intersection(b))                 # returns intersection: {8, 6}  comon retrives as new set\n",
    "print(l & b)                             # intersection\n",
    "print(l.intersection_update(b))          # removes the items that is not present in both sets\n",
    "                                         # method removes the unwanted items from the original set\n",
    "\n",
    "print(l.difference(b))                   # l will not change just prints l-b same elements in b subtracts and gives new dict\n",
    "print(l.difference(b,d))                 # it returns l-(b,d) same elemts from b,d eleminates from  l and gives dict.\n",
    "print(A.difference_update(B))            # difference gives new set of l-b but l set wont change but here l will change. \n",
    "\n",
    "print(l.symmetric_difference(b))         # union -intersection\n",
    "print(l.symmetric_difference_update(b))  # method updates set by keeping only elements found ineither set,but not in both\n",
    "\n",
    "print(b.isdisjoint(l))                   # if both set values are same true else false\n",
    "print(l.issubset(b))                     # if l values in b true else false\n",
    "print(l.issuperset(b))                   # Return True if all items set b are present in set l"
   ]
  },
  {
   "cell_type": "code",
   "execution_count": 133,
   "id": "be0ac708",
   "metadata": {},
   "outputs": [
    {
     "data": {
      "text/plain": [
       "[0, 1, 2, 9]"
      ]
     },
     "execution_count": 133,
     "metadata": {},
     "output_type": "execute_result"
    }
   ],
   "source": [
    "# {{1,2}, {3,4}}  we cannot create set of sets instead use frozenset for creating.\n",
    "\n",
    "a={frozenset({1, 2}), frozenset({3, 4})}  # set([frozenset([1,2]), frozenset([2,3])])\n",
    "\n",
    "l={5,6,7,8,9}                             # we can't retreive values from set like a[1][1] or l[1] gets an error.\n",
    "\n",
    "[*l][0]                                   # 7-symbol expression, with this we can retrive values\n",
    "\n",
    "p=iter(l)\n",
    "next(p)\n",
    "\n",
    "# a={3,{1, 2}}\n",
    "# [*a][0][0]   #This will not work\n",
    "\n",
    "sorted(set([9, 0, 2, 1, 0]))             # returns [0, 1, 2, 9]  # get a sorted list of unique elements from a list"
   ]
  },
  {
   "cell_type": "markdown",
   "id": "049e4b02",
   "metadata": {},
   "source": [
    "## Strings\n",
    "\n",
    "A sequence of characters, they are iterable, immutable"
   ]
  },
  {
   "cell_type": "code",
   "execution_count": null,
   "id": "70f490e4",
   "metadata": {},
   "outputs": [],
   "source": [
    "#this a index positive and negative\n",
    "-7  -6 -5 -4 -3 -2 -1  \n",
    "K   R  I  S  H  N  A\n",
    "0   1  2  3  4  5  6"
   ]
  },
  {
   "cell_type": "code",
   "execution_count": 188,
   "id": "b0ed1a9f",
   "metadata": {},
   "outputs": [
    {
     "ename": "TypeError",
     "evalue": "'str' object is not callable",
     "output_type": "error",
     "traceback": [
      "\u001b[1;31m---------------------------------------------------------------------------\u001b[0m",
      "\u001b[1;31mTypeError\u001b[0m                                 Traceback (most recent call last)",
      "\u001b[1;32m~\\AppData\\Local\\Temp\\ipykernel_33480\\2598181692.py\u001b[0m in \u001b[0;36m<module>\u001b[1;34m\u001b[0m\n\u001b[1;32m----> 1\u001b[1;33m \u001b[0mss\u001b[0m \u001b[1;33m=\u001b[0m \u001b[0mstr\u001b[0m\u001b[1;33m(\u001b[0m\u001b[1;36m42\u001b[0m\u001b[1;33m)\u001b[0m         \u001b[1;31m# convert another data type into a string\u001b[0m\u001b[1;33m\u001b[0m\u001b[1;33m\u001b[0m\u001b[0m\n\u001b[0m\u001b[0;32m      2\u001b[0m \u001b[0ms\u001b[0m \u001b[1;33m=\u001b[0m \u001b[1;34m'i liKe yOu'\u001b[0m\u001b[1;33m\u001b[0m\u001b[1;33m\u001b[0m\u001b[0m\n",
      "\u001b[1;31mTypeError\u001b[0m: 'str' object is not callable"
     ]
    }
   ],
   "source": [
    "# ss = str(42)         # convert another data type into a string\n",
    "s = 'i liKe yOu'"
   ]
  },
  {
   "cell_type": "code",
   "execution_count": 189,
   "id": "10701391",
   "metadata": {},
   "outputs": [
    {
     "name": "stdout",
     "output_type": "stream",
     "text": [
      "g\n",
      "d\n",
      "Reallygood\n",
      "goodgoodgood\n",
      "ood\n",
      "\n",
      "\n",
      "good\n",
      "go\n",
      "doog\n"
     ]
    },
    {
     "data": {
      "text/plain": [
       "'S'"
      ]
     },
     "execution_count": 189,
     "metadata": {},
     "output_type": "execute_result"
    }
   ],
   "source": [
    "len(s)                                # length of string\n",
    "print(s[0])                           # Indexing\n",
    "print(s[-1])                          # Negative Indexing\n",
    "\n",
    "print('Really'+s)                     # concatination\n",
    "print(s * 3)                          # Repetition\n",
    "\n",
    "                                      # -------slicing----------\n",
    "print(s[1:4])                         # range\n",
    "print(s[:-7])                         # start to up to position\n",
    "print(s[7:])                          # position to end\n",
    "print(s[:])                           # full string\n",
    "print(s[-5:-2])                       # negative inexing\n",
    "print(s[::-1])                        # Reversing the string\n",
    "'KRISHNA'[3]                          # same as above directing from string but above with varible"
   ]
  },
  {
   "cell_type": "code",
   "execution_count": 191,
   "id": "2f243c7e",
   "metadata": {},
   "outputs": [
    {
     "ename": "TypeError",
     "evalue": "'str' object does not support item assignment",
     "output_type": "error",
     "traceback": [
      "\u001b[1;31m---------------------------------------------------------------------------\u001b[0m",
      "\u001b[1;31mTypeError\u001b[0m                                 Traceback (most recent call last)",
      "\u001b[1;32m~\\AppData\\Local\\Temp\\ipykernel_33480\\2032108611.py\u001b[0m in \u001b[0;36m<module>\u001b[1;34m\u001b[0m\n\u001b[0;32m      1\u001b[0m \u001b[0mk\u001b[0m\u001b[1;33m=\u001b[0m\u001b[1;34m'good'\u001b[0m\u001b[1;33m\u001b[0m\u001b[1;33m\u001b[0m\u001b[0m\n\u001b[1;32m----> 2\u001b[1;33m \u001b[0mk\u001b[0m\u001b[1;33m[\u001b[0m\u001b[1;36m2\u001b[0m\u001b[1;33m]\u001b[0m\u001b[1;33m=\u001b[0m\u001b[1;34m'p'\u001b[0m               \u001b[1;31m# since string are imutable we cannot change\u001b[0m\u001b[1;33m\u001b[0m\u001b[1;33m\u001b[0m\u001b[0m\n\u001b[0m\u001b[0;32m      3\u001b[0m \u001b[1;33m\u001b[0m\u001b[0m\n\u001b[0;32m      4\u001b[0m \u001b[1;32mdel\u001b[0m \u001b[0mk\u001b[0m\u001b[1;33m[\u001b[0m\u001b[1;36m3\u001b[0m\u001b[1;33m]\u001b[0m               \u001b[1;31m# we can't delete\u001b[0m\u001b[1;33m\u001b[0m\u001b[1;33m\u001b[0m\u001b[0m\n",
      "\u001b[1;31mTypeError\u001b[0m: 'str' object does not support item assignment"
     ]
    }
   ],
   "source": [
    "k='good'\n",
    "k[2]='p'               # since string are imutable we cannot change\n",
    "\n",
    "del k[3]               # we can't delete"
   ]
  },
  {
   "cell_type": "code",
   "execution_count": 192,
   "id": "4710c233",
   "metadata": {},
   "outputs": [
    {
     "name": "stdout",
     "output_type": "stream",
     "text": [
      "I like you\n",
      "i like you\n",
      "I LIKE YOU\n",
      "i like you\n",
      "I Like You\n",
      "I LIkE YoU\n"
     ]
    }
   ],
   "source": [
    "p='i liKe yOu'\n",
    "print(p.capitalize())            # converts first letter to cap and remaining to small\n",
    "print(p.lower())                 # lowercase\n",
    "print(p.upper())                 # uppercase\n",
    "print(p.casefold())              # convert to lower exam. German lowercase letter 'ß' is equivalent to 'ss' \n",
    "print(p.title())                 # first letter of each word to cap and remaining to small\n",
    "print(p.swapcase())              # opposite"
   ]
  },
  {
   "cell_type": "code",
   "execution_count": 216,
   "id": "bc5efa4c",
   "metadata": {},
   "outputs": [
    {
     "name": "stdout",
     "output_type": "stream",
     "text": [
      "False\n",
      "False\n",
      "-1\n",
      "5\n",
      "2\n",
      "0\n",
      "i liKe yOu\n",
      "John#Peter#Vicky\n",
      "i liKe ypu\n",
      "i liKe yOu\n",
      "     i liKe yOu     \n",
      "['i', 'liKe', 'yOu']\n",
      "['Thi', ' i', ' a sentence.']\n",
      "['One line', '']\n",
      "('I love ', 't', 'o watch TV shows')\n"
     ]
    }
   ],
   "source": [
    "print(p.startswith('h'))           \n",
    "print(p.endswith('O')) \n",
    "print(p.find('h'))                   # if not found -1\n",
    "print(p.find(\"e\", 5, 10))            # finding in range \n",
    "print(p.index('l'))                  # char is not found, it raises an exception.\n",
    "print(p.count('v'))\n",
    "print(''.join(p))\n",
    "my = [\"John\", \"Peter\", \"Vicky\"]        # joins with specified one\n",
    "x = \"#\".join(my)\n",
    "print(x)\n",
    "print(p.replace('O','p'))             # it replace but but it won't affect in orginal string\n",
    "print(p.replace(\"one\", \"three\", 2))   # replace with first 2 occurance\n",
    "print(p.center(20))                   # 20 space\n",
    "print(p.split(' '))\n",
    "print(\"This is a sentence.\".split('s', maxsplit=2))\n",
    "\n",
    "S = 'One line\\n'\n",
    "x = S.split('\\n')\n",
    "print(x)\n",
    "\n",
    "string = 'I love to watch TV shows'\n",
    "print(string.partition('t'))           # when separator parameter is found it then string before separator, sep, after sep\n",
    "                                       # if has 2 sep in same string takes first occurance\n",
    "                                       # if separator not found then a tuple with string and 2 empty strings"
   ]
  },
  {
   "cell_type": "code",
   "execution_count": 207,
   "id": "d781a91d",
   "metadata": {},
   "outputs": [
    {
     "name": "stdout",
     "output_type": "stream",
     "text": [
      "banana\n",
      "Hello World\n",
      "tutorialsteacher.com\n",
      "Hello World\n",
      "bc\n"
     ]
    }
   ],
   "source": [
    "txt = \",,,,,rrttgg.....banana....rrr\"       # removes mentioned from string\n",
    "x = txt.strip(\",.grt\")\n",
    "print(x)\n",
    "mystr = '     Hello World     '\n",
    "print(mystr.strip())\n",
    "print('www.tutorialsteacher.com/'.strip('/w.'))\n",
    "print('#$2Hello World#$2'.strip('$2#'))\n",
    "print('ābcā'.strip('ā'))                    # remove Unicode char"
   ]
  },
  {
   "cell_type": "code",
   "execution_count": 208,
   "id": "1420a7cf",
   "metadata": {},
   "outputs": [
    {
     "name": "stdout",
     "output_type": "stream",
     "text": [
      "350\n",
      "0000000350\n",
      "-0350\n"
     ]
    }
   ],
   "source": [
    "print('350'.zfill(2))      # Returns the numeric string left filled with zeros in a string of specified length\n",
    "print('350'.zfill(10))     # output will match the width we provided. if string is greater and width provided less then it \n",
    "print('-350'.zfill(5))     # prints the same string length itself"
   ]
  },
  {
   "cell_type": "code",
   "execution_count": 209,
   "id": "183b2c18",
   "metadata": {},
   "outputs": [
    {
     "name": "stdout",
     "output_type": "stream",
     "text": [
      "['i liKe yOu']\n",
      "['Hello There !    ', 'My name is', 'krishna']\n",
      "['First', 'Second', 'Third', 'Fourth']\n",
      "['First line\\n', 'Second line']\n"
     ]
    }
   ],
   "source": [
    "print(p.splitlines())      # generates a list of strings obtained by splitting the given string at specified line breaks.\n",
    "para = \"\"\"Hello There !    \n",
    "My name is\n",
    "krishna\n",
    "\"\"\"\n",
    "\n",
    "print(para.splitlines())    # Consider a scenario where you are given a task to find the sentence having the largest number \n",
    "                            # of words from a given paragraph. For accomplishing this task, the first and foremost step is \n",
    "                            # to extract all the sentences from the paragraph, i.e., we need a function to split the \n",
    "                            # paragraph or multi-line string into a collection of sentences.\n",
    "\n",
    "S = 'First\\nSecond\\r\\nThird\\fFourth'\n",
    "x = S.splitlines()\n",
    "print(x)\n",
    "\n",
    "S = 'First line\\nSecond line'  # Keep Line Breaks in Result\n",
    "x = S.splitlines(True)\n",
    "print(x)"
   ]
  },
  {
   "cell_type": "code",
   "execution_count": 219,
   "id": "a3b45425",
   "metadata": {},
   "outputs": [
    {
     "name": "stdout",
     "output_type": "stream",
     "text": [
      "Hello world How are you\n",
      "Th2 q53ck br4wn f4x j5mps 4v2r th2 l1zy d4g\n"
     ]
    }
   ],
   "source": [
    "# translate() function requires a translation table as input, which maps each character to its corresponding replacement \n",
    "# character. This table can be created using the maketrans() function, which takes two arguments:\n",
    "\n",
    "# the set of characters to be replaced, and\n",
    "# the set of replacement characters.\n",
    "\n",
    "import string\n",
    "str1 = \"Hello, world! How are you?\"\n",
    "translator = str.maketrans(\"\", \"\", string.punctuation)     # Removing Punctuation from a String\n",
    "new_str = str1.translate(translator)\n",
    "print(new_str)\n",
    "\n",
    "\n",
    "input_str = \"The quick brown fox jumps over the lazy dog\"\n",
    "translator = str.maketrans(\"aeiou\", \"12345\")               # Replacing Characters with a Mapping Table\n",
    "new_str = input_str.translate(translator)\n",
    "print(new_str)\n",
    "\n",
    "\n",
    "input_str1 = \"The 5th of May is a special day\"\n",
    "translator = str.maketrans(\"\", \"\", \"0123456789\")           # Removing Digits from a String\n",
    "new_str = input_str1.translate(translator)\n",
    "print(new_str)"
   ]
  },
  {
   "cell_type": "code",
   "execution_count": 153,
   "id": "6b91b016",
   "metadata": {},
   "outputs": [
    {
     "name": "stdout",
     "output_type": "stream",
     "text": [
      "False\n",
      "False\n",
      "False\n",
      "False\n",
      "True\n",
      "False\n",
      "False\n",
      "False\n",
      "False\n",
      "True\n",
      "False\n",
      "False\n"
     ]
    }
   ],
   "source": [
    "print(p.islower())                    # Returns True if all characters in the string are lower case\n",
    "print(p.isupper())                    # Returns True if all characters in the string are upper case\n",
    "print(p.isalpha())                    # Returns True if all characters in the string are in the alphabet\n",
    "print(p.isalnum())                    # Returns True if all characters in the string are alphanumeric\n",
    "print(p.isascii())                    # Returns True if all characters in the string are ascii characters\n",
    "print(p.isdecimal())                  # Returns True if all characters in the string are decimals\n",
    "print(p.isdigit())                    # Returns True if all characters in the string are digits\n",
    "print(p.isidentifier())               # Returns True if the string is an identifier\n",
    "print(p.isnumeric())                  # Returns True if all characters in the string are numeric\n",
    "print(p.isprintable())                # Returns True if all characters in the string are printable\n",
    "print(p.isspace())                    # Returns True if all characters in the string are whitespaces\n",
    "print(p.istitle())                    # Returns True if the string follows the rules of a titleprint("
   ]
  },
  {
   "cell_type": "code",
   "execution_count": null,
   "id": "8160190c",
   "metadata": {},
   "outputs": [],
   "source": [
    "ljust()                     # Returns a left justified version of the string\n",
    "lstrip()                    # Returns a left trim version of the string\n",
    "rfind()                     # Searches the string for a specified value and returns the last position of where it was found\n",
    "rindex()                    # Searches the string for a specified value and returns the last position of where it was found\n",
    "rjust()                     # Returns a right justified version of the string\n",
    "rpartition()                # Returns a tuple where the string is parted into three parts\n",
    "rsplit()                    # Splits the string at the specified separator, and returns a list\n",
    "rstrip()                    # Returns a right trim version of the string\n",
    "encode()                    # Returns an encoded version of the string\n",
    "expandtabs()                # Sets the tab size of the string\n",
    "\n",
    "Three methods are provided that offer the ability to strip leading and trailing characters from a string: str.strip,\n",
    "str.rstrip and str.lstrip.\n",
    "\n",
    "s = b'first line\\nsecond line'\n",
    "print(s)\n",
    "\n",
    "print(s.decode('utf-8').split())"
   ]
  },
  {
   "cell_type": "code",
   "execution_count": 146,
   "id": "4f4f529d",
   "metadata": {},
   "outputs": [
    {
     "name": "stdout",
     "output_type": "stream",
     "text": [
      "abcdefghijklmnopqrstuvwxyzABCDEFGHIJKLMNOPQRSTUVWXYZ\n",
      "abcdefghijklmnopqrstuvwxyz\n",
      "ABCDEFGHIJKLMNOPQRSTUVWXYZ\n",
      "0123456789\n",
      "0123456789abcdefABCDEF\n",
      "01234567\n",
      "!\"#$%&'()*+,-./:;<=>?@[\\]^_`{|}~\n",
      " \t\n",
      "\r",
      "\u000b",
      "\f",
      "\n",
      "0123456789abcdefghijklmnopqrstuvwxyzABCDEFGHIJKLMNOPQRSTUVWXYZ!\"#$%&'()*+,-./:;<=>?@[\\]^_`{|}~ \t\n",
      "\r",
      "\u000b",
      "\f",
      "\n",
      "Hello World\n"
     ]
    }
   ],
   "source": [
    "import string as s\n",
    "p=\"hello wOrld\"\n",
    "print(s.ascii_letters)\n",
    "print(s.ascii_lowercase)\n",
    "print(s.ascii_uppercase)\n",
    "print(s.digits)\n",
    "print(s.hexdigits)\n",
    "print(s.octdigits)\n",
    "print(s.punctuation)\n",
    "print(s.whitespace)\n",
    "print(s.printable)\n",
    "print(s.capwords(p))"
   ]
  },
  {
   "cell_type": "code",
   "execution_count": 147,
   "id": "b13fad1a",
   "metadata": {},
   "outputs": [
    {
     "name": "stdout",
     "output_type": "stream",
     "text": [
      "\"Zi0nQ1=c6\n"
     ]
    }
   ],
   "source": [
    "from string import punctuation, ascii_letters, digits\n",
    "import random\n",
    "# from random import SystemRandom\n",
    "# secure_rand_gen = SystemRandom()\n",
    "symbols = ascii_letters + digits + punctuation\n",
    "secure_random = random.SystemRandom()\n",
    "password = \"\".join(secure_random.choice(symbols) for i in range(10))\n",
    "print(password)"
   ]
  },
  {
   "cell_type": "markdown",
   "id": "12068199",
   "metadata": {},
   "source": [
    "## Counter"
   ]
  },
  {
   "cell_type": "code",
   "execution_count": 26,
   "id": "3ae7b2a1",
   "metadata": {},
   "outputs": [
    {
     "name": "stdout",
     "output_type": "stream",
     "text": [
      "Counter({'f': 9, 'a': 5, 'r': 3, 'n': 3, 'b': 2, 'd': 1, 's': 1, 'e': 1, 'g': 1})\n",
      "Counter({1: 3, 6: 3, 2: 2, 9: 1, 8: 1, 7: 1, 4: 1})\n",
      "Counter({' ': 8, 't': 5, 's': 4, 'e': 4, 'o': 3, 'i': 3, 'f': 2, 'l': 2, 'A': 1, 'w': 1, 'r': 1, 'd': 1, 'h': 1, 'a': 1, 'c': 1, 'm': 1, 'p': 1, 'n': 1})\n",
      "Counter({'blue': 3, 'red': 2, 'green': 1})\n",
      "3\n"
     ]
    }
   ],
   "source": [
    "from collections import Counter\n",
    "\n",
    "s = \"dsfffffarfaerarfaffbbgnnan\"\n",
    "print(Counter(s))\n",
    "\n",
    "l = [ 9, 1, 8, 1, 2, 1, 7, 6, 4, 6, 6, 2 ]\n",
    "print(Counter(l))\n",
    "\n",
    "s = \"A set of words that is complete in itself\"\n",
    "print(Counter(s))\n",
    "\n",
    "cnt =Counter()\n",
    "for i in ['red', 'blue', 'red', 'green', 'blue', 'blue']:\n",
    "    cnt[i]= cnt[i]+1\n",
    "print(cnt)\n",
    "\n",
    "st = \"GeeksforGeeks is best for Geeks\"\n",
    "print(st.count('Geeks'))"
   ]
  },
  {
   "cell_type": "code",
   "execution_count": 19,
   "id": "23369f93",
   "metadata": {},
   "outputs": [
    {
     "name": "stdout",
     "output_type": "stream",
     "text": [
      "[(2, 33), (9, 33), (6, 23)]\n",
      "[(6, 23), (9, 33), (2, 33)]\n"
     ]
    }
   ],
   "source": [
    "#sorting based on value\n",
    "from collections import Counter\n",
    "c=Counter(l)                       # dictionary\n",
    "kk=c.most_common()                 # hight to low\n",
    "print(kk)\n",
    "print(kk[::-1]  )                  # low to high"
   ]
  },
  {
   "cell_type": "code",
   "execution_count": 127,
   "id": "054bc3af",
   "metadata": {},
   "outputs": [
    {
     "name": "stdout",
     "output_type": "stream",
     "text": [
      "Counter({1: 4, 2: 3, 3: 1})\n",
      "Counter({3: 6, 1: 5, 2: 3})\n"
     ]
    }
   ],
   "source": [
    "import collections\n",
    "coun = collections.Counter() #empty counter \n",
    "coun.update([1, 2, 3, 1, 2, 1, 1, 2]) #updated via update() method\n",
    "\n",
    "print(coun)\n",
    "\n",
    "coun.update({1: 1, 3:5})\n",
    "print(coun)"
   ]
  },
  {
   "cell_type": "code",
   "execution_count": 128,
   "id": "1cbd7b41",
   "metadata": {},
   "outputs": [
    {
     "data": {
      "text/plain": [
       "Counter({'A': -6, 'B': 0, 'C': 6})"
      ]
     },
     "execution_count": 128,
     "metadata": {},
     "output_type": "execute_result"
    }
   ],
   "source": [
    "c1 = Counter(A=4,  B=3, C=10)\n",
    "c2 = Counter(A=10, B=3, C=4)\n",
    " \n",
    "c1.subtract(c2)\n",
    "c1"
   ]
  },
  {
   "cell_type": "code",
   "execution_count": 129,
   "id": "2f9dce99",
   "metadata": {},
   "outputs": [
    {
     "name": "stdout",
     "output_type": "stream",
     "text": [
      "[1, 1, 1, 1, 1, 2, 2, 2, 3, 3, 3, 3, 3, 3]\n"
     ]
    }
   ],
   "source": [
    "print(list(coun.elements()))"
   ]
  },
  {
   "cell_type": "code",
   "execution_count": 130,
   "id": "dd32e389",
   "metadata": {},
   "outputs": [
    {
     "name": "stdout",
     "output_type": "stream",
     "text": [
      "[(3, 6), (1, 5), (2, 3)]\n"
     ]
    },
    {
     "data": {
      "text/plain": [
       "[(3, 6)]"
      ]
     },
     "execution_count": 130,
     "metadata": {},
     "output_type": "execute_result"
    }
   ],
   "source": [
    "print(coun.most_common())\n",
    "coun.most_common(1) #in order of frequency."
   ]
  },
  {
   "cell_type": "code",
   "execution_count": 132,
   "id": "6d9c48d7",
   "metadata": {},
   "outputs": [
    {
     "name": "stdout",
     "output_type": "stream",
     "text": [
      "[1, -2, 3, 12, 4, 0, 5, 2, 6, 7, 356, -84]\n",
      "{0, 1, 2, 3, 4, 5, 6, 7, 356, 12, -84, -2}\n",
      "{1: 4, -2: 1, 3: 2, 12: 1, 4: 1, 0: 1, 5: 2, 2: 1, 6: 1, 7: 1, 356: 1, -84: 1}\n",
      "dict_items([(1, 4), (-2, 1), (3, 2), (12, 1), (4, 1), (0, 1), (5, 2), (2, 1), (6, 1), (7, 1), (356, 1), (-84, 1)])\n",
      "Counter({1: 4, 3: 2, 5: 2, -2: 1, 12: 1, 4: 1, 0: 1, 2: 1, 6: 1, 7: 1, 356: 1, -84: 1})\n",
      "None\n"
     ]
    }
   ],
   "source": [
    "c = collections.Counter() #empty counter \n",
    "c.update([1,-2,3,1,12,3,4,1,0,5,2,5,6,7,356,-84,1])\n",
    "\n",
    "#c.total()                       # total of all counts\n",
    "print(list(c) )                    # list unique elements\n",
    "print(set(c) )                 # convert to a set\n",
    "print(dict(c)            )             # convert to a regular dictionary\n",
    "print(c.items()             )          # convert to a list of (elem, cnt) pairs\n",
    "print(+c)                              # remove zero and negative counts\n",
    "print(c.clear()) "
   ]
  }
 ],
 "metadata": {
  "kernelspec": {
   "display_name": "Python 3 (ipykernel)",
   "language": "python",
   "name": "python3"
  },
  "language_info": {
   "codemirror_mode": {
    "name": "ipython",
    "version": 3
   },
   "file_extension": ".py",
   "mimetype": "text/x-python",
   "name": "python",
   "nbconvert_exporter": "python",
   "pygments_lexer": "ipython3",
   "version": "3.10.9"
  }
 },
 "nbformat": 4,
 "nbformat_minor": 5
}
