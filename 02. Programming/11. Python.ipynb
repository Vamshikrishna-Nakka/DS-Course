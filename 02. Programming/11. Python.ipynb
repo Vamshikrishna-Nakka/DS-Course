{
 "cells": [
  {
   "cell_type": "code",
   "execution_count": 27,
   "id": "cb337424",
   "metadata": {},
   "outputs": [
    {
     "name": "stdout",
     "output_type": "stream",
     "text": [
      "10\n"
     ]
    }
   ],
   "source": [
    "# STACK\n",
    "\n",
    "# A stack is a linear data structure that stores items in a Last-In/First-Out (LIFO) or First-In/Last-Out (FILO) manner. \n",
    "# In stack, a new element is added at one end and an element is removed from that end only. \n",
    "# The insert and delete operations are often called push and pop.\n",
    "\n",
    "# The functions associated with stack are:\n",
    "# empty() – Returns whether the stack is empty – Time Complexity: O(1)\n",
    "# size() – Returns the size of the stack – Time Complexity: O(1)\n",
    "# top() / peek() – Returns a reference to the topmost element of the stack – Time Complexity: O(1)\n",
    "# push(a) – Inserts the element ‘a’ at the top of the stack – Time Complexity: O(1)\n",
    "# pop() – Deletes the topmost element of the stack – Time Complexity: O(1)\n",
    "\n",
    "# Stack in Python can be implemented using the following ways: \n",
    "# 1.list\n",
    "# 2.Collections.deque\n",
    "# 3.queue.LifoQueue"
   ]
  },
  {
   "cell_type": "code",
   "execution_count": 31,
   "id": "c3d526cd",
   "metadata": {},
   "outputs": [
    {
     "name": "stdout",
     "output_type": "stream",
     "text": [
      "b\n",
      "a\n"
     ]
    },
    {
     "data": {
      "text/plain": [
       "[]"
      ]
     },
     "execution_count": 31,
     "metadata": {},
     "output_type": "execute_result"
    }
   ],
   "source": [
    "stack = []\n",
    "stack.append('a')\n",
    "stack.append('b')\n",
    "print(stack.pop())\n",
    "print(stack.pop())\n",
    "stack"
   ]
  },
  {
   "cell_type": "code",
   "execution_count": 32,
   "id": "94954d30",
   "metadata": {},
   "outputs": [
    {
     "name": "stdout",
     "output_type": "stream",
     "text": [
      "b\n",
      "a\n"
     ]
    },
    {
     "data": {
      "text/plain": [
       "deque([])"
      ]
     },
     "execution_count": 32,
     "metadata": {},
     "output_type": "execute_result"
    }
   ],
   "source": [
    "from collections import deque\n",
    " \n",
    "stack = deque()\n",
    "stack.append('a')\n",
    "stack.append('b')\n",
    "print(stack.pop())\n",
    "print(stack.pop())\n",
    "stack"
   ]
  },
  {
   "cell_type": "code",
   "execution_count": 33,
   "id": "b75aa6eb",
   "metadata": {},
   "outputs": [
    {
     "name": "stdout",
     "output_type": "stream",
     "text": [
      "0\n",
      "Full:  True\n",
      "Size:  3\n",
      "c\n",
      "b\n",
      "a\n",
      "\n",
      "Empty:  True\n"
     ]
    }
   ],
   "source": [
    "from queue import LifoQueue\n",
    "\n",
    "stack = LifoQueue(maxsize=3)             # Initializing a stack\n",
    "print(stack.qsize())                     # qsize() show the number of elements in the stack\n",
    "\n",
    "stack.put('a')                           # put() function to push element in the stack\n",
    "stack.put('b')\n",
    "stack.put('c')\n",
    " \n",
    "print(\"Full: \", stack.full())\n",
    "print(\"Size: \", stack.qsize())\n",
    "\n",
    "print(stack.get())                       # get() function to pop element from stack in LIFO order\n",
    "print(stack.get())\n",
    "print(stack.get())\n",
    " \n",
    "print(\"\\nEmpty: \", stack.empty())"
   ]
  },
  {
   "cell_type": "code",
   "execution_count": null,
   "id": "2225c062",
   "metadata": {},
   "outputs": [],
   "source": [
    "# QUEUE\n",
    "\n",
    "# Like stack, queue is a linear data structure that stores items in First In First Out (FIFO) manner. \n",
    "# With a queue the least recently added item is removed first. \n",
    "# A good example of queue is any queue of consumers for a resource where the consumer that came first is served first.\n",
    "\n",
    "# Operations associated with queue are: \n",
    "# Enqueue: Adds an item to the queue. If the queue is full, then it is said to be an Overflow condition – Time Complexity : O(1)\n",
    "# Dequeue: Removes an item from the queue. The items are popped in the same order in which they are pushed. If the queue is empty, then it is said to be an Underflow condition – Time Complexity : O(1)\n",
    "# Front: Get the front item from queue – Time Complexity : O(1)\n",
    "# Rear: Get the last item from queue – Time Complexity : O(1)\n",
    "\n",
    "# Queue in Python can be implemented by the following ways:\n",
    "# 1. list\n",
    "# 2. collections.deque\n",
    "# 3. queue.Queue"
   ]
  },
  {
   "cell_type": "code",
   "execution_count": 37,
   "id": "7cae490f",
   "metadata": {},
   "outputs": [
    {
     "name": "stdout",
     "output_type": "stream",
     "text": [
      "a\n",
      "c\n",
      "['d']\n"
     ]
    }
   ],
   "source": [
    "queue = []\n",
    "  \n",
    "# Adding elements to the queue\n",
    "queue.append('a')\n",
    "queue.append('c')\n",
    "queue.append('d')\n",
    "\n",
    "print(queue.pop(0))\n",
    "print(queue.pop(0))\n",
    "print(queue)"
   ]
  },
  {
   "cell_type": "code",
   "execution_count": 40,
   "id": "0052f1dd",
   "metadata": {},
   "outputs": [
    {
     "name": "stdout",
     "output_type": "stream",
     "text": [
      "a\n",
      "b\n"
     ]
    },
    {
     "data": {
      "text/plain": [
       "deque([])"
      ]
     },
     "execution_count": 40,
     "metadata": {},
     "output_type": "execute_result"
    }
   ],
   "source": [
    "from collections import deque\n",
    " \n",
    "queue = deque()\n",
    "queue.append('a')\n",
    "queue.append('b')\n",
    "print(queue.popleft())\n",
    "print(queue.popleft())\n",
    "queue"
   ]
  },
  {
   "cell_type": "code",
   "execution_count": 41,
   "id": "77e6cdbb",
   "metadata": {},
   "outputs": [
    {
     "name": "stdout",
     "output_type": "stream",
     "text": [
      "0\n",
      "\n",
      "Full:  True\n",
      "a\n",
      "b\n",
      "c\n",
      "\n",
      "Empty:  True\n",
      "\n",
      "Empty:  False\n",
      "Full:  False\n"
     ]
    }
   ],
   "source": [
    "from queue import Queue\n",
    "q = Queue(maxsize = 3)\n",
    "\n",
    "print(q.qsize()) \n",
    "q.put('a')\n",
    "q.put('b')\n",
    "q.put('c')\n",
    "\n",
    "print(\"\\nFull: \", q.full()) \n",
    "\n",
    "print(q.get())\n",
    "print(q.get())\n",
    "print(q.get())\n",
    "\n",
    "print(\"\\nEmpty: \", q.empty())\n",
    "  \n",
    "q.put(1)\n",
    "print(\"\\nEmpty: \", q.empty()) \n",
    "print(\"Full: \", q.full())"
   ]
  },
  {
   "cell_type": "code",
   "execution_count": null,
   "id": "8d8450d6",
   "metadata": {},
   "outputs": [],
   "source": [
    "# LINKED LIST\n",
    "\n",
    "# Like arrays, a Linked List is a linear data structure. Unlike arrays, linked list elements are not stored at \n",
    "# a contiguous location; the elements are linked using pointers. They include a series of connected nodes. \n",
    "# Here, each node stores the data and the address of the next node.\n",
    "# You can think of it as an actual chain, where each ring or node is connected.\n",
    "\n"
   ]
  },
  {
   "cell_type": "code",
   "execution_count": 43,
   "id": "ee565556",
   "metadata": {},
   "outputs": [],
   "source": [
    "class Node:    \n",
    "    def __init__(self,value):        \n",
    "        self.value = value        \n",
    "        self.next = None\n",
    "        \n",
    "class linkedList:\n",
    "    def __init__(self):\n",
    "        self.head=None"
   ]
  },
  {
   "cell_type": "code",
   "execution_count": 44,
   "id": "66e9ab30",
   "metadata": {},
   "outputs": [],
   "source": [
    "def insertAtBeginning(self,data):\n",
    "        temp=Node(data)\n",
    "        if self.head==None:\n",
    "            self.head=temp\n",
    "        else:\n",
    "            temp.next=self.head\n",
    "            self.head=temp"
   ]
  },
  {
   "cell_type": "code",
   "execution_count": 45,
   "id": "dd9f5cc4",
   "metadata": {},
   "outputs": [],
   "source": [
    "def insertAtEnd(self,data):\n",
    "        temp=Node(data)\n",
    "        if self.head==None:\n",
    "            self.head=temp\n",
    "        else:\n",
    "            curr=self.head\n",
    "            while curr.next!=None:\n",
    "                curr=curr.next\n",
    "            curr.next=temp"
   ]
  },
  {
   "cell_type": "code",
   "execution_count": 46,
   "id": "79ef9750",
   "metadata": {},
   "outputs": [],
   "source": [
    "def insertAtGivenPosition(self,data,position):\n",
    "        count=1\n",
    "        curr=self.head\n",
    "        while count<position-1 and curr!=None:\n",
    "            curr=curr.next\n",
    "            count+=1\n",
    "        temp=Node(data)\n",
    "        temp.next=curr.next\n",
    "        curr.next=temp"
   ]
  },
  {
   "cell_type": "code",
   "execution_count": 47,
   "id": "e5edd95f",
   "metadata": {},
   "outputs": [],
   "source": [
    "def traverse(self):\n",
    "        curr=self.head\n",
    "        while curr!=None:\n",
    "            print(curr.data)\n",
    "            curr=curr.next"
   ]
  },
  {
   "cell_type": "code",
   "execution_count": 48,
   "id": "be5bee7f",
   "metadata": {},
   "outputs": [],
   "source": [
    "def delFromBeginning(self):\n",
    "        try:\n",
    "            if self.head==None:\n",
    "                raise Exception(\"Empty Linked List\")\n",
    "            else:\n",
    "                temp=self.head\n",
    "                self.head=self.head.next\n",
    "                del temp\n",
    "        except Exception as e:\n",
    "            print(str(e))"
   ]
  },
  {
   "cell_type": "code",
   "execution_count": 49,
   "id": "b7cc062c",
   "metadata": {},
   "outputs": [],
   "source": [
    "def delFromEnd(self):\n",
    "        try:\n",
    "            if self.head==None:\n",
    "                raise Exception(\"Empty Linked List\")\n",
    "            else:\n",
    "                curr=self.head\n",
    "                prev=None\n",
    "                while curr.next!=None:\n",
    "                    prev=curr\n",
    "                    curr=curr.next\n",
    "                prev.next=curr.next\n",
    "                del curr\n",
    "        except Exception as e:\n",
    "            print(str(e))"
   ]
  },
  {
   "cell_type": "code",
   "execution_count": 50,
   "id": "3c45829a",
   "metadata": {},
   "outputs": [],
   "source": [
    "def delAtPos(self,position):\n",
    "        try:\n",
    "            if self.head==None:\n",
    "                raise Exception(\"Empty Linked List\")\n",
    "            else:\n",
    "                curr=self.head\n",
    "                prev=None\n",
    "                count=1\n",
    "                while curr!=None and count<position:\n",
    "                    prev=curr\n",
    "                    curr=curr.next\n",
    "                    count+=1\n",
    "                prev.next=curr.next\n",
    "                del curr\n",
    "        except Exception as e:\n",
    "            print(str(e))"
   ]
  },
  {
   "cell_type": "code",
   "execution_count": null,
   "id": "bfbf5398",
   "metadata": {},
   "outputs": [],
   "source": []
  },
  {
   "cell_type": "code",
   "execution_count": null,
   "id": "2a5cb6d7",
   "metadata": {},
   "outputs": [],
   "source": []
  },
  {
   "cell_type": "code",
   "execution_count": null,
   "id": "9ce78de8",
   "metadata": {},
   "outputs": [],
   "source": []
  },
  {
   "cell_type": "code",
   "execution_count": null,
   "id": "0593aef1",
   "metadata": {},
   "outputs": [],
   "source": []
  }
 ],
 "metadata": {
  "kernelspec": {
   "display_name": "Python 3 (ipykernel)",
   "language": "python",
   "name": "python3"
  },
  "language_info": {
   "codemirror_mode": {
    "name": "ipython",
    "version": 3
   },
   "file_extension": ".py",
   "mimetype": "text/x-python",
   "name": "python",
   "nbconvert_exporter": "python",
   "pygments_lexer": "ipython3",
   "version": "3.9.13"
  }
 },
 "nbformat": 4,
 "nbformat_minor": 5
}
