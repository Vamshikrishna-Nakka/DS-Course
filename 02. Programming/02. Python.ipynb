{
 "cells": [
  {
   "cell_type": "markdown",
   "id": "d80d7a11",
   "metadata": {},
   "source": [
    "## Input Output formatting"
   ]
  },
  {
   "cell_type": "code",
   "execution_count": 5,
   "id": "e818c701",
   "metadata": {},
   "outputs": [
    {
     "name": "stdout",
     "output_type": "stream",
     "text": [
      "23\n"
     ]
    },
    {
     "data": {
      "text/plain": [
       "'23'"
      ]
     },
     "execution_count": 5,
     "metadata": {},
     "output_type": "execute_result"
    }
   ],
   "source": [
    "input()          # By default it returns a string, if we give list it takes list as string\n",
    "                 # 23 --->'23' , [1,2,3] --->'[1,2,3]'"
   ]
  },
  {
   "cell_type": "code",
   "execution_count": 6,
   "id": "d0b842a4",
   "metadata": {},
   "outputs": [
    {
     "name": "stdout",
     "output_type": "stream",
     "text": [
      "Enter your value: 3\n",
      "3\n",
      "First Name: Name\n",
      "Last Name: 532\n"
     ]
    }
   ],
   "source": [
    "print(input(\"Enter your value: \"))                        # these take as single but not list\n",
    "x, y = input(\"First Name: \"), input(\"Last Name: \")"
   ]
  },
  {
   "cell_type": "code",
   "execution_count": 1,
   "id": "0df250ad",
   "metadata": {},
   "outputs": [
    {
     "name": "stdout",
     "output_type": "stream",
     "text": [
      "enter 2 3\n",
      "['2', '3']\n",
      "d 44 sfdf\n",
      "['d', '44', 'sfdf']\n",
      "5,bm,i\n",
      "['5', 'bm', 'i']\n"
     ]
    }
   ],
   "source": [
    "print(input('enter ').split())                 # we can pass any with space separation() and gives as list,\n",
    "                                               # if give comma entire take as one string.\n",
    "print(input().split(' '))                      # telling to takes as space, give only string without quotes\n",
    "print(input().split(','))                      # with comma sep "
   ]
  },
  {
   "cell_type": "code",
   "execution_count": 11,
   "id": "e76a1414",
   "metadata": {},
   "outputs": [
    {
     "name": "stdout",
     "output_type": "stream",
     "text": [
      "1 2 3 4 5\n",
      "3 4 5  6 7 8 \n"
     ]
    },
    {
     "data": {
      "text/plain": [
       "([1, 2, 3], ['3', '4', '5'])"
      ]
     },
     "execution_count": 11,
     "metadata": {},
     "output_type": "execute_result"
    }
   ],
   "source": [
    "a=list(map(int,input().split(' ')))[0:3]   # takes the elements of int type and 3 slice\n",
    "b=input().split(' ')[0:3]                  # takes the elements as str and of 3 slice\n",
    "a,b"
   ]
  },
  {
   "cell_type": "code",
   "execution_count": 31,
   "id": "1f897195",
   "metadata": {},
   "outputs": [
    {
     "name": "stdout",
     "output_type": "stream",
     "text": [
      "good60evening90\n",
      "{ krishna }\n",
      "good60evening\n",
      "Nakka and Krishna\n",
      "For, Geeks\n",
      "dog, rat, and fight.\n"
     ]
    }
   ],
   "source": [
    "i=60;s='90'\n",
    "print(f'good{i}evening{s}')                                         # f strings\n",
    "\n",
    "print('{{ {0} }}'.format('krishna'))\n",
    "print('good{}evening'.format(i))                                    # single placeholder\n",
    "print('{1} and {0}'.format('Krishna', 'Nakka'))                     # Positional formatting with multiple placeholders\n",
    "print('{q}, {p}'.format(p='Geeks',q= 'For'))                        # With Name Placeholders\n",
    "print('{0}, {1}, and {other}.'.format('dog', 'rat', other ='fight'))# Combination"
   ]
  },
  {
   "cell_type": "code",
   "execution_count": 2,
   "id": "7e2e2864",
   "metadata": {},
   "outputs": [
    {
     "name": "stdout",
     "output_type": "stream",
     "text": [
      "0.515567% of the data\n",
      "0.5156% of the data\n",
      "I have 4.000 Rupees!\n",
      "A: 12,B:    0.55\n",
      "Second argument:  11, first one:   47.42\n",
      "Geeks:   453,  Portal:    59.06\n"
     ]
    }
   ],
   "source": [
    "print(\"{0:f}% of the {1}\". format(0.5155675, \"data\")) \n",
    "print(\"{0:.4f}% of the {1}\".format(0.5155675, \"data\"))              # float 4 decimals\n",
    "\n",
    "n=3.462678\n",
    "format(n, \".3f\")\n",
    "\n",
    "txt = \"I have {an:.3f} Rupees!\"\n",
    "print(txt.format(an = 4))\n",
    "\n",
    "print(\"A:{s:3d},B:{r:8.2f}\".format(s=12,r= 00.546)) # 8.2f - 8length before dot but prints white space and 2 precision after dot\n",
    "\n",
    "print(\"Second argument: {1:3d}, first one: {0:7.2f}\".format(47.42, 11)) # Changing positional argument \n",
    "print(\"Geeks: {a:5d},  Portal: {p:8.2f}\".format(a = 453, p = 59.058)) "
   ]
  },
  {
   "cell_type": "code",
   "execution_count": 67,
   "id": "52db1dad",
   "metadata": {},
   "outputs": [
    {
     "name": "stdout",
     "output_type": "stream",
     "text": [
      "Geeks: 4127; For: 4098;Geeks: 8637678\n",
      "I love GeeksForGeeks computer Portal\n",
      "I love GeeksForGeeks computer Portal\n"
     ]
    }
   ],
   "source": [
    "tab = {'geeks': 4127, 'for': 4098, 'geek': 8637678}                             # using format() in dictionary \n",
    "print('Geeks: {0[geeks]:d}; For: {0[for]:d};' 'Geeks: {0[geek]:d}'.format(tab))\n",
    "\n",
    "data = dict(fun =\"GeeksForGeeks\", adj =\"Portal\")                                # using format() in dictionary \n",
    "\n",
    "print(\"I love {fun} computer {adj}\".format(**data))\n",
    "\n",
    "a=\"I love {fun} computer {adj}\"                                                 # we can or write as\n",
    "print(a.format(**data))"
   ]
  },
  {
   "cell_type": "markdown",
   "id": "2368147b",
   "metadata": {},
   "source": [
    "%s                    - String (or any object with a string representation, like numbers)<br>\n",
    "%d or %i              - Integers<br>\n",
    "%f                    - Floating point numbers<br>\n",
    "%.<number of digits>f - Floating point numbers with a fixed amount of digits to the right of the dot.<br>\n",
    "%x / %X               - Integers in hex representation (lowercase/uppercase)<br>\n",
    "%[flags][width][.precision]type -The general syntax for a format placeholder like “%2d” and “%5.2f”."
   ]
  },
  {
   "cell_type": "code",
   "execution_count": 68,
   "id": "1c47b805",
   "metadata": {},
   "outputs": [
    {
     "name": "stdout",
     "output_type": "stream",
     "text": [
      "Hello, Krishna!\n",
      "Krishna is 23 years old.\n",
      "A list: [1, 2, 3]\n",
      " 1,45.34\n",
      "    031\n",
      " 3.561E+02\n",
      "hello:240,hi:120\n"
     ]
    }
   ],
   "source": [
    "a=\"Krishna\";b= 23;c=045.33523;d = [1,2,3]\n",
    "print(\"Hello, %s!\" % a)\n",
    "print(\"%s is %d years old.\" % (a, b))\n",
    "print(\"A list: %s\" % d)\n",
    "print(\"%2d,%5.2f\" %(1, c))                 # \n",
    "print(\"% 7.3o\"% (25))                      # octal value \n",
    "print(\"% 10.3E\"% (356.08977))              # exponential value \n",
    "print(\"hello:%3d,hi:%2d\" %(240, 120))"
   ]
  },
  {
   "cell_type": "markdown",
   "id": "907c8999",
   "metadata": {},
   "source": [
    "## Functions"
   ]
  },
  {
   "cell_type": "markdown",
   "id": "1a4005dd",
   "metadata": {},
   "source": [
    "A function is a group of related statements that performs a specific task.\n",
    "functions help to break our program into smaller chunks."
   ]
  },
  {
   "cell_type": "code",
   "execution_count": 83,
   "id": "dce7857d",
   "metadata": {},
   "outputs": [
    {
     "data": {
      "text/plain": [
       "'hello vamshi'"
      ]
     },
     "execution_count": 83,
     "metadata": {},
     "output_type": "execute_result"
    }
   ],
   "source": [
    "def krishna(name):                       # simple funtion\n",
    "    return \"hello \"+name                 # A return is used to end the execution of the function call and “returns” the result.\n",
    "                                         # if won't give return then it will return None. after return no data is executed.\n",
    "\n",
    "krishna('vamshi')"
   ]
  },
  {
   "cell_type": "code",
   "execution_count": 88,
   "id": "e61fa479",
   "metadata": {},
   "outputs": [
    {
     "name": "stdout",
     "output_type": "stream",
     "text": [
      "[1, 2, 3]\n",
      "{1: 'a', 2: 'b'}\n"
     ]
    }
   ],
   "source": [
    "def fun(a):               # passing list as an argument\n",
    "    print(a)\n",
    "l=[1,2,3]\n",
    "fun(l)\n",
    "\n",
    "def fun(a):               # passing dictionary as an argument\n",
    "    print(a)\n",
    "l={1:'a',2:'b'}\n",
    "fun(l)"
   ]
  },
  {
   "cell_type": "code",
   "execution_count": 3,
   "id": "0f937d83",
   "metadata": {},
   "outputs": [
    {
     "name": "stdout",
     "output_type": "stream",
     "text": [
      "1 2 3\n"
     ]
    }
   ],
   "source": [
    "def fun(a,b,c):                       # unpacking -- * unpacked list to different arguments.\n",
    "    print(a,b,c)\n",
    "l=[1,2,3]\n",
    "fun(*l)"
   ]
  },
  {
   "cell_type": "code",
   "execution_count": 6,
   "id": "ac7c3811",
   "metadata": {},
   "outputs": [
    {
     "name": "stdout",
     "output_type": "stream",
     "text": [
      "a b c\n"
     ]
    }
   ],
   "source": [
    "def fun(g,d,f):\n",
    "    print(g,d,f)\n",
    "                                      # unpacking on dict\n",
    "ll={'a':1,'b':2,'c':3}                # if * prints keys ** prints values if same name as keys of arguments\n",
    "\n",
    "fun(*ll)"
   ]
  },
  {
   "cell_type": "code",
   "execution_count": 9,
   "id": "e898dc04",
   "metadata": {},
   "outputs": [
    {
     "name": "stdout",
     "output_type": "stream",
     "text": [
      "1 2 3\n",
      "my full name is Vamshi Nakka   "
     ]
    }
   ],
   "source": [
    "def fun(a,b,c):\n",
    "    print(a,b,c)\n",
    "                                      # unpacking on dict\n",
    "ll={'a':1,'b':2,'c':3}               \n",
    "fun(**ll)\n",
    "\n",
    "\n",
    "\n",
    "def F(Firstname,Lastname):\n",
    "    print(\"my full name is\", Firstname, end=' ')\n",
    "    print(Lastname, \" \", end=' ')\n",
    "\n",
    "d = {\"Firstname\": \"Vamshi\", \"Lastname\": \"Nakka\"}\n",
    "F(**d)"
   ]
  },
  {
   "cell_type": "code",
   "execution_count": 107,
   "id": "5e1bac05",
   "metadata": {},
   "outputs": [
    {
     "name": "stdout",
     "output_type": "stream",
     "text": [
      "Value of a : 4\n",
      "Value of b : 7\n",
      "Value of a : (4, 7)\n",
      "Value of b : None\n",
      "Value of a : 4\n",
      "Value of b : 7\n"
     ]
    }
   ],
   "source": [
    "#Passing tuple as Arguments\n",
    "             #Case 1: fnc(a, b) – Sends a and b as separate elements to fnc.\n",
    "             #Case 2: fnc((a, b)) – Sends (a, b), whole tuple as 1 single entity, one element.\n",
    "             #Case 3: fnc(*(a, b)) – Sends both, a and b as in Case 1, as separate integers.\n",
    "\n",
    "def fnc(a=None, b=None): \n",
    "    print(\"Value of a : \" + str(a)) \n",
    "    print(\"Value of b : \" + str(b)) \n",
    "  \n",
    " # Driver code \n",
    "if __name__ == \"__main__\" : \n",
    "    a = 4;b = 7\n",
    "fnc(a, b) # passing as integers \n",
    "fnc((a, b)) # Passing as tuple \n",
    "fnc(*(a, b)) # passing as pack/unpack operator, as integer "
   ]
  },
  {
   "cell_type": "markdown",
   "id": "5e28008f",
   "metadata": {},
   "source": [
    "### Arbitrary Arguments, *args(Non Keyword Arguments)"
   ]
  },
  {
   "cell_type": "markdown",
   "id": "3a86bef5",
   "metadata": {},
   "source": [
    "If we pass greaterthan or less than number of parameters it gets TypeError of missing to handle we use arbitrary Arguments."
   ]
  },
  {
   "cell_type": "code",
   "execution_count": 113,
   "id": "ad5806b5",
   "metadata": {},
   "outputs": [
    {
     "name": "stdout",
     "output_type": "stream",
     "text": [
      "The youngest child is Tobias\n"
     ]
    }
   ],
   "source": [
    "# def my_function(fname, lname):\n",
    "#     print(fname + \" \" + lname)\n",
    "\n",
    "# my_function(\"Emil\")\n",
    "\n",
    "\n",
    "def my_f(*kids):                              # *args(Non Keyword Arguments)\n",
    "  print(\"The youngest child is \" + kids[1])   # by certain index\n",
    "\n",
    "my_f(\"Emil\", \"Tobias\", \"Linus\")"
   ]
  },
  {
   "cell_type": "code",
   "execution_count": 114,
   "id": "4002a58f",
   "metadata": {},
   "outputs": [
    {
     "name": "stdout",
     "output_type": "stream",
     "text": [
      "Hello\n",
      "Welcome\n",
      "to\n",
      "Krishna\n"
     ]
    }
   ],
   "source": [
    "def myFun(*argv):  \n",
    "    for arg in argv:  \n",
    "        print (arg) \n",
    "    \n",
    "myFun('Hello', 'Welcome', 'to', 'Krishna')  # Using loop"
   ]
  },
  {
   "cell_type": "markdown",
   "id": "00ebfbf9",
   "metadata": {},
   "source": [
    "### Arbitrary Keyword Arguments, **kwargs(Keyword Arguments)"
   ]
  },
  {
   "cell_type": "code",
   "execution_count": 116,
   "id": "bee7e963",
   "metadata": {},
   "outputs": [
    {
     "name": "stdout",
     "output_type": "stream",
     "text": [
      "His last name is Refsnes\n"
     ]
    }
   ],
   "source": [
    "# def my_function(snack3, snack2, snack1):\n",
    "#   print(\"The favorite snack is \" + snack3)\n",
    "\n",
    "# my_function(snack1 = \"chocolate\", snack2 = \"biscuit\")\n",
    "\n",
    "\n",
    "def my_function(**kid):                              \n",
    "  print(\"His last name is \" + kid[\"lname\"])\n",
    "\n",
    "my_function(fname = \"Tobias\", lname = \"Refsnes\")"
   ]
  },
  {
   "cell_type": "markdown",
   "id": "0ae21962",
   "metadata": {},
   "source": [
    "### Docstrings"
   ]
  },
  {
   "cell_type": "markdown",
   "id": "09ac2979",
   "metadata": {},
   "source": [
    "docstring is a string used to document a Python module, class, function or method, so programmers can understand what it does without having to read the details of the implementation."
   ]
  },
  {
   "cell_type": "code",
   "execution_count": 2,
   "id": "20973b31",
   "metadata": {},
   "outputs": [
    {
     "name": "stdout",
     "output_type": "stream",
     "text": [
      "Returns arg1 raised to power arg2.\n"
     ]
    }
   ],
   "source": [
    "def power(a, b):                            # we can write in both oneline and multiple line \n",
    "                                            #  line length should be limited to 72 characters. \n",
    "                                            # We cannot create multiple doc strings for single func\n",
    "    \"\"\"Returns arg1 raised to power arg2.\"\"\"\n",
    "    return a**b\n",
    "  \n",
    "print(power.__doc__)"
   ]
  },
  {
   "cell_type": "code",
   "execution_count": 123,
   "id": "f3973d7f",
   "metadata": {},
   "outputs": [
    {
     "name": "stdout",
     "output_type": "stream",
     "text": [
      "3\n",
      "5\n",
      "[10, 2, 3]\n",
      "[10, 2, 3]\n"
     ]
    }
   ],
   "source": [
    "# Arguments passed by value or reference  ---- pass by reference\n",
    "\n",
    "# pass by value mean copy of actual object is passed. changing copy object wont effect on orginal\n",
    "# pass by reference it affects on both.\n",
    "\n",
    "def pas(a):\n",
    "    a=3\n",
    "    print(a)\n",
    "    \n",
    "a=5\n",
    "pas(a)     # we are passing the copy of the a so its not reflecting on orginal  # pass by value\n",
    "print(a)\n",
    "\n",
    "\n",
    "l=[1,2,3]\n",
    "def fun(x):\n",
    "    x[0]=10\n",
    "    print(x)\n",
    "    \n",
    "fun(l)\n",
    "print(l)  # reflecting on both it is pass by reference"
   ]
  },
  {
   "cell_type": "code",
   "execution_count": 124,
   "id": "20952c7b",
   "metadata": {},
   "outputs": [
    {
     "data": {
      "text/plain": [
       "120"
      ]
     },
     "execution_count": 124,
     "metadata": {},
     "output_type": "execute_result"
    }
   ],
   "source": [
    "# Recurssion:function can call itself. maximum depth of recursion is 1000.If the limit is crossed,it results in RecursionError.\n",
    "def factorial(n):\n",
    "    if n == 1 or n==0:\n",
    "        return 1\n",
    "    else:\n",
    "        return n * factorial(n-1)\n",
    "    \n",
    "factorial(5)"
   ]
  },
  {
   "cell_type": "code",
   "execution_count": 125,
   "id": "c99ee8c1",
   "metadata": {},
   "outputs": [
    {
     "name": "stdout",
     "output_type": "stream",
     "text": [
      "16\n",
      "Older\n"
     ]
    }
   ],
   "source": [
    "#lambdafunction(anonymous function means that a function is without a name)\n",
    "# pros --> The code is simple and clear, No additional variables are added.\n",
    "\n",
    "# corns --> can’t have a docstring, they don’t have a name and no return statement, contain only one statement.\n",
    "g=lambda r:r>0\n",
    "g(6)\n",
    "\n",
    "\n",
    "\n",
    "# Lambda function with if-else\n",
    "square = lambda x : x*x if(x > 0) else None  # we should definately use else if not it gets error\n",
    "print(square(4))\n",
    "\n",
    "x = lambda age: 'Older' if age > 30 else 'Younger'\n",
    "print(x(40))\n",
    "\n",
    "\n",
    "\n",
    "eval_op = {\n",
    "    '|'  : lambda x,y: eval(y) if (eval(x)==0) else eval(x),\n",
    "    '&'  : lambda x,y: 0 if (eval(x)==0) else eval(y),\n",
    "    '<'  : lambda x,y: 1 if (eval(x)<eval(y)) else 0,\n",
    "    '>'  : lambda x,y: 1 if (eval(x)>eval(y)) else 0,\n",
    "}"
   ]
  },
  {
   "cell_type": "code",
   "execution_count": 126,
   "id": "82c7dca5",
   "metadata": {},
   "outputs": [
    {
     "data": {
      "text/plain": [
       "['man', 'thats', 'right', 'awesome']"
      ]
     },
     "execution_count": 126,
     "metadata": {},
     "output_type": "execute_result"
    }
   ],
   "source": [
    "# List comprehensions : used for creating new list from iterables.\n",
    "l= [c for c in 'Geeks 4 Geeks!']\n",
    "l\n",
    "# we can also use nested list comprehension.\n",
    "\n",
    "#pros - fewer lines of code. More time-efficient and space-efficient,  This is twice faster than for-loop.\n",
    "##corns - We cant use return,\n",
    "\n",
    "tags = [u'man', u'you', u'are', u'awesome']\n",
    "entries = [[u'man', u'thats'],[ u'right',u'awesome']]\n",
    "retun=[entry for tag in tags for entry in entries if tag in entry for entry in entry]\n",
    "retun"
   ]
  },
  {
   "cell_type": "code",
   "execution_count": 127,
   "id": "56092242",
   "metadata": {},
   "outputs": [
    {
     "name": "stdout",
     "output_type": "stream",
     "text": [
      "{1: 1, 2: 4, 3: 9, 4: 16, 5: 25}\n"
     ]
    }
   ],
   "source": [
    "#dictionary comprehension\n",
    "m = {x: x**2 for x in [1,2,3,4,5]}\n",
    "print (m)"
   ]
  },
  {
   "cell_type": "markdown",
   "id": "f5a8bdea",
   "metadata": {},
   "source": [
    "### Data structures"
   ]
  },
  {
   "cell_type": "code",
   "execution_count": null,
   "id": "7434cf53",
   "metadata": {},
   "outputs": [],
   "source": [
    "# Array is a container which can hold a fix number of items and these items should be of the same type.\n",
    "from array import *\n",
    "array1 = array('i', [10,20,30,40,50])\n",
    "\n",
    "array1[0]                           # Accessing\n",
    "array1.insert(1,60)                 # Insertion\n",
    "array1.remove(40)                   # Deletion\n",
    "array1.index(40)                    # Search\n",
    "array1[2] = 80                      # Update\n",
    "\n",
    "for x in array1:                    # Printing    \n",
    "    print(x)"
   ]
  },
  {
   "cell_type": "markdown",
   "id": "df67afaf",
   "metadata": {},
   "source": [
    "## Tuples\n",
    "\n",
    "Like lists, but their size cannot change: ordered, iterable, immutable,\n",
    "can contain multiple data types"
   ]
  },
  {
   "cell_type": "code",
   "execution_count": 136,
   "id": "de8f6f4c",
   "metadata": {},
   "outputs": [
    {
     "ename": "TypeError",
     "evalue": "'tuple' object does not support item assignment",
     "output_type": "error",
     "traceback": [
      "\u001b[1;31m---------------------------------------------------------------------------\u001b[0m",
      "\u001b[1;31mTypeError\u001b[0m                                 Traceback (most recent call last)",
      "\u001b[1;32m~\\AppData\\Local\\Temp\\ipykernel_4364\\751360671.py\u001b[0m in \u001b[0;36m<module>\u001b[1;34m\u001b[0m\n\u001b[0;32m      2\u001b[0m \u001b[0mt\u001b[0m\u001b[1;33m=\u001b[0m\u001b[0mtuple\u001b[0m\u001b[1;33m(\u001b[0m\u001b[1;33m[\u001b[0m\u001b[1;36m1\u001b[0m\u001b[1;33m,\u001b[0m\u001b[1;36m2\u001b[0m\u001b[1;33m,\u001b[0m\u001b[1;36m3\u001b[0m\u001b[1;33m]\u001b[0m\u001b[1;33m)\u001b[0m\u001b[1;33m\u001b[0m\u001b[1;33m\u001b[0m\u001b[0m\n\u001b[0;32m      3\u001b[0m \u001b[0mt1\u001b[0m\u001b[1;33m=\u001b[0m\u001b[1;33m(\u001b[0m\u001b[1;36m4\u001b[0m\u001b[1;33m,\u001b[0m\u001b[1;36m5\u001b[0m\u001b[1;33m)\u001b[0m\u001b[1;33m\u001b[0m\u001b[1;33m\u001b[0m\u001b[0m\n\u001b[1;32m----> 4\u001b[1;33m \u001b[0mt\u001b[0m\u001b[1;33m[\u001b[0m\u001b[1;36m2\u001b[0m\u001b[1;33m]\u001b[0m\u001b[1;33m=\u001b[0m\u001b[1;36m0\u001b[0m\u001b[1;33m\u001b[0m\u001b[1;33m\u001b[0m\u001b[0m\n\u001b[0m",
      "\u001b[1;31mTypeError\u001b[0m: 'tuple' object does not support item assignment"
     ]
    }
   ],
   "source": [
    "#tuple\n",
    "t=tuple([1,2,3])\n",
    "t1=(4,5)           \n",
    "t[2]=0                 # we cannot add or assign any thing to alredy created list."
   ]
  },
  {
   "cell_type": "code",
   "execution_count": 137,
   "id": "ef7ea5ac",
   "metadata": {},
   "outputs": [
    {
     "ename": "TypeError",
     "evalue": "'tuple' object doesn't support item deletion",
     "output_type": "error",
     "traceback": [
      "\u001b[1;31m---------------------------------------------------------------------------\u001b[0m",
      "\u001b[1;31mTypeError\u001b[0m                                 Traceback (most recent call last)",
      "\u001b[1;32m~\\AppData\\Local\\Temp\\ipykernel_4364\\3548227854.py\u001b[0m in \u001b[0;36m<module>\u001b[1;34m\u001b[0m\n\u001b[1;32m----> 1\u001b[1;33m \u001b[1;32mdel\u001b[0m \u001b[0mt\u001b[0m\u001b[1;33m[\u001b[0m\u001b[1;36m0\u001b[0m\u001b[1;33m]\u001b[0m  \u001b[1;31m# del t  # it wont support item deletion but supports tuple deletion\u001b[0m\u001b[1;33m\u001b[0m\u001b[1;33m\u001b[0m\u001b[0m\n\u001b[0m",
      "\u001b[1;31mTypeError\u001b[0m: 'tuple' object doesn't support item deletion"
     ]
    }
   ],
   "source": [
    "del t[0]  # del t  # it wont support item deletion but supports tuple deletion"
   ]
  },
  {
   "cell_type": "code",
   "execution_count": 138,
   "id": "eb6ad48e",
   "metadata": {},
   "outputs": [
    {
     "data": {
      "text/plain": [
       "(1, 2, 3, 4, 5)"
      ]
     },
     "execution_count": 138,
     "metadata": {},
     "output_type": "execute_result"
    }
   ],
   "source": [
    "t3=t+t1  #We can concatinate but we can't modify\n",
    "t3"
   ]
  },
  {
   "cell_type": "code",
   "execution_count": 141,
   "id": "aaa8c338",
   "metadata": {},
   "outputs": [
    {
     "ename": "TypeError",
     "evalue": "unsupported operand type(s) for -: 'tuple' and 'tuple'",
     "output_type": "error",
     "traceback": [
      "\u001b[1;31m---------------------------------------------------------------------------\u001b[0m",
      "\u001b[1;31mTypeError\u001b[0m                                 Traceback (most recent call last)",
      "\u001b[1;32m~\\AppData\\Local\\Temp\\ipykernel_4364\\2002376078.py\u001b[0m in \u001b[0;36m<module>\u001b[1;34m\u001b[0m\n\u001b[0;32m      1\u001b[0m \u001b[0mt\u001b[0m\u001b[1;33m=\u001b[0m\u001b[1;33m(\u001b[0m\u001b[1;36m1\u001b[0m\u001b[1;33m,\u001b[0m\u001b[1;36m2\u001b[0m\u001b[1;33m,\u001b[0m\u001b[1;36m4\u001b[0m\u001b[1;33m,\u001b[0m\u001b[1;36m5\u001b[0m\u001b[1;33m)\u001b[0m\u001b[1;33m\u001b[0m\u001b[1;33m\u001b[0m\u001b[0m\n\u001b[0;32m      2\u001b[0m \u001b[0mt1\u001b[0m\u001b[1;33m=\u001b[0m\u001b[1;33m(\u001b[0m\u001b[1;36m1\u001b[0m\u001b[1;33m,\u001b[0m\u001b[1;36m2\u001b[0m\u001b[1;33m,\u001b[0m\u001b[1;36m5\u001b[0m\u001b[1;33m)\u001b[0m\u001b[1;33m\u001b[0m\u001b[1;33m\u001b[0m\u001b[0m\n\u001b[1;32m----> 3\u001b[1;33m \u001b[0mt\u001b[0m\u001b[1;33m-\u001b[0m\u001b[0mt1\u001b[0m\u001b[1;33m\u001b[0m\u001b[1;33m\u001b[0m\u001b[0m\n\u001b[0m",
      "\u001b[1;31mTypeError\u001b[0m: unsupported operand type(s) for -: 'tuple' and 'tuple'"
     ]
    }
   ],
   "source": [
    "t=(1,2,4,5)\n",
    "t1=(1,2,5)\n",
    "t-t1"
   ]
  },
  {
   "cell_type": "code",
   "execution_count": 132,
   "id": "fd969468",
   "metadata": {},
   "outputs": [],
   "source": [
    "# create a tuple\n",
    "digits = (0, 1, 'two')          # create a tuple directly\n",
    "digits = tuple([0, 1, 'two'])   # create a tuple from a list\n",
    "zero = (0,)                     # trailing comma is required to indicate it's a tuple\n",
    "\n",
    "# examine a tuple\n",
    "digits[2]           # returns 'two'\n",
    "len(digits)         # returns 3\n",
    "digits.count(0)     # counts the number of instances of that value (1)\n",
    "digits.index(1)     # returns the index of the first instance of that value (1)\n",
    "\n",
    "# elements of a tuple cannot be modified\n",
    "# digits[2] = 2       # throws an error\n",
    "\n",
    "# concatenate tuples\n",
    "digits = digits + (3, 4)\n",
    "\n",
    "# create a single tuple with elements repeated (also works with lists)\n",
    "(3, 4) * 2          # returns (3, 4, 3, 4)\n",
    "\n",
    "# tuple unpacking\n",
    "bart = ('male', 10, 'simpson')  # create a tuple"
   ]
  },
  {
   "cell_type": "code",
   "execution_count": 139,
   "id": "f6cfb911",
   "metadata": {},
   "outputs": [
    {
     "name": "stdout",
     "output_type": "stream",
     "text": [
      "(10, 20, 30, 40, 50, 60)\n"
     ]
    },
    {
     "data": {
      "text/plain": [
       "(10, 20, 30, 40, 50, 60)"
      ]
     },
     "execution_count": 139,
     "metadata": {},
     "output_type": "execute_result"
    }
   ],
   "source": [
    "t1 = (10, 20, 30)\n",
    "t2 = (40, 50, 60)\n",
    "res = sum((t1, t2), ())\n",
    "print(t1+t2)\n",
    "t1+t2\n",
    "res"
   ]
  },
  {
   "cell_type": "code",
   "execution_count": 140,
   "id": "df3a0a2d",
   "metadata": {},
   "outputs": [
    {
     "name": "stdout",
     "output_type": "stream",
     "text": [
      "(1, 2, 5)\n"
     ]
    }
   ],
   "source": [
    "t=(1,2,4,5)\n",
    "t= t[:2] + t[3:]\n",
    "print(t)"
   ]
  },
  {
   "cell_type": "code",
   "execution_count": 143,
   "id": "700a5398",
   "metadata": {},
   "outputs": [
    {
     "name": "stdout",
     "output_type": "stream",
     "text": [
      "11\n",
      "krishna\n",
      "06081997\n"
     ]
    }
   ],
   "source": [
    "from collections import namedtuple\n",
    "\n",
    "Ctuple =namedtuple('Student', ['name', 'age', 'DOB'])\n",
    "\n",
    "v1 = Ctuple('krishna',11,'06081997') #instantiate with positional argument\n",
    "\n",
    "# Access using index,name,getattr\n",
    "print(v1[1])\n",
    "print(v1.name)\n",
    "print(getattr(v1, 'DOB'))"
   ]
  },
  {
   "cell_type": "code",
   "execution_count": 157,
   "id": "56fd8bb6",
   "metadata": {},
   "outputs": [
    {
     "name": "stdout",
     "output_type": "stream",
     "text": [
      "Student(name='Manjeet', age='19', DOB='411997')\n",
      "{'name': 'Nandini', 'age': '19', 'DOB': '2541997'}\n",
      "Student(name='Nikhil', age=19, DOB='1391997')\n",
      "('name', 'age', 'DOB')\n",
      "Student(name='Manjeet', age='19', DOB='2541997')\n"
     ]
    }
   ],
   "source": [
    "# Conversion Operations\n",
    "\n",
    "# _make() , _asdict() ,**\n",
    "Student = namedtuple('Student',['name', 'age', 'DOB'])\n",
    "S = Student('Nandini', '19', '2541997')\n",
    "li = ['Manjeet', '19', '411997']\n",
    "di = {'name': \"Nikhil\", 'age': 19, 'DOB': '1391997'}\n",
    "print(Student._make(li))                                   # Clone a coord from an existing iterable\n",
    "print(S._asdict())                                         # returns the OrderedDict() as constructed from the mapped values of namedtuple()\n",
    "print(Student(**di))                                       # used to convert a dictionary into the namedtuple().\n",
    "\n",
    "\n",
    "# _fields ,S._replace\n",
    "Student = namedtuple('Student', ['name', 'age', 'DOB'])\n",
    "S = Student('Nandini', '19', '2541997') \n",
    "print(S._fields)                                          # return all the keynames of the namespace declared.\n",
    "print(S._replace(name='Manjeet'))                         # is like str.replace() but targets named fields( does not modify the original values)"
   ]
  },
  {
   "cell_type": "markdown",
   "id": "c28bbb05",
   "metadata": {},
   "source": [
    "## Lists\n",
    "\n",
    "Different objects categorized along a certain ordered sequence, lists\n",
    "are ordered, iterable, mutable (adding or removing objects changes the\n",
    "list size), can contain multiple data types."
   ]
  },
  {
   "cell_type": "code",
   "execution_count": 159,
   "id": "d9805758",
   "metadata": {},
   "outputs": [
    {
     "name": "stdout",
     "output_type": "stream",
     "text": [
      "Krishna\n"
     ]
    }
   ],
   "source": [
    "# create an empty list (two ways)\n",
    "empty_list = []\n",
    "empty_list = list()\n",
    "\n",
    "# create a list\n",
    "simpsons = ['homer', 'marge', 'bart']\n",
    "\n",
    "# examine a list\n",
    "simpsons[0]     # print element 0 ('homer')\n",
    "len(simpsons)   # returns the length (3)\n",
    "\n",
    "# modify a list (does not return the list)\n",
    "simpsons.append('lisa')                 # append element to end\n",
    "simpsons.extend(['itchy', 'scratchy'])  # append multiple elements to end\n",
    "simpsons.insert(0, 'maggie')            # insert element at index 0 (shifts everything right)\n",
    "simpsons.remove('bart')                 # searches for first instance and removes it\n",
    "simpsons.pop(0)                         # removes element 0 and returns it\n",
    "del simpsons[0]                         # removes element 0 (does not return it)\n",
    "simpsons[0] = 'krusty'                  # replace element 0\n",
    "simpsons.reverse()                      # reverse the list if we print simsons\n",
    "\n",
    "# concatenate lists (slower than 'extend' method)\n",
    "neighbors = simpsons + ['ned','rod','todd']\n",
    "\n",
    "# find elements in a list\n",
    "'lisa' in simpsons\n",
    "simpsons.count('lisa')      # counts the number of instances\n",
    "simpsons.index('itchy')     # returns index of first instance\n",
    "\n",
    "# list slicing [start:end:stride]\n",
    "weekdays = ['mon','tues','wed','thurs','fri']\n",
    "weekdays[0]         # element 0\n",
    "weekdays[0:3]       # elements 0, 1, 2\n",
    "weekdays[:3]        # elements 0, 1, 2\n",
    "weekdays[3:]        # elements 3, 4\n",
    "weekdays[-1]        # last element (element 4)\n",
    "weekdays[::2]       # every 2nd element (0, 2, 4)\n",
    "weekdays[::-1]      # backwards (4, 3, 2, 1, 0)\n",
    "\n",
    "# alternative method for returning the list backwards\n",
    "list(reversed(weekdays))\n",
    "\n",
    "# sort a list in place (modifies but does not return the list)\n",
    "simpsons.sort()\n",
    "simpsons.sort(reverse=True)     # sort in reverse\n",
    "simpsons.sort(key=len)          # sort by a key\n",
    "\n",
    "# return a sorted list (but does not modify the original list)\n",
    "sorted(simpsons)\n",
    "sorted(simpsons, reverse=True)\n",
    "sorted(simpsons, key=len)\n",
    "\n",
    "# create a second reference to the same list\n",
    "num = [1, 2, 3]\n",
    "same_num = num\n",
    "same_num[0] = 0         # modifies both 'num' and 'same_num'\n",
    "\n",
    "# copy a list (three ways)\n",
    "new_num = num.copy()\n",
    "new_num = num[:]\n",
    "new_num = list(num)\n",
    "\n",
    "# examine objects\n",
    "id(num) == id(same_num) # returns True\n",
    "id(num) == id(new_num)  # returns False\n",
    "num is same_num         # returns True\n",
    "num is new_num          # returns False\n",
    "num == same_num         # returns True\n",
    "num == new_num          # returns True (their contents are equivalent)\n",
    "\n",
    "# conatenate +, replicate *\n",
    "[1, 2, 3] + [4, 5, 6]\n",
    "[\"a\"] * 2 + [\"b\"] * 3\n",
    "\n",
    "# Removes all the elements from the list\n",
    "simpsons.clear()\n",
    "\n",
    "# Multi-Dimensional List using \n",
    "List = [['Nakka', 'For'], ['Krishna']]\n",
    "print(List[1][0])"
   ]
  },
  {
   "cell_type": "code",
   "execution_count": 162,
   "id": "07d134e9",
   "metadata": {},
   "outputs": [
    {
     "name": "stdout",
     "output_type": "stream",
     "text": [
      "deque([9, (4, 5, 6), 6, 1, 2, 3, 4, 5])\n"
     ]
    }
   ],
   "source": [
    "#Deque\n",
    "from collections import deque\n",
    "\n",
    "dq = deque([1,2,3,4,5])\n",
    "\n",
    "dq.appendleft(6)\n",
    "dq.extendleft([9,0])\n",
    "dq.insert(2,(4,5,6))\n",
    "dq.popleft()\n",
    "\n",
    "#dq.maxlen()\n",
    "#print(dq.rotate(-3))      #This function rotates the deque by the number specified in arguments. \n",
    "                           # If the number specified is negative, rotation occurs to the left. Else rotation is to right.\n",
    "#print(dq.reverse())\n",
    "\n",
    "# dq.clear()\n",
    "print(dq)"
   ]
  },
  {
   "cell_type": "code",
   "execution_count": 172,
   "id": "08ac2924",
   "metadata": {},
   "outputs": [
    {
     "name": "stdout",
     "output_type": "stream",
     "text": [
      "[1, 2, 3, 4, 5]\n",
      "<class 'collections.UserList'>\n",
      "Insertion..\n",
      "[10, 20, 30, 5]\n"
     ]
    },
    {
     "ename": "RuntimeError",
     "evalue": "Deletion not allowed",
     "output_type": "error",
     "traceback": [
      "\u001b[1;31m---------------------------------------------------------------------------\u001b[0m",
      "\u001b[1;31mRuntimeError\u001b[0m                              Traceback (most recent call last)",
      "\u001b[1;32m~\\AppData\\Local\\Temp\\ipykernel_4364\\78956126.py\u001b[0m in \u001b[0;36m<module>\u001b[1;34m\u001b[0m\n\u001b[0;32m     19\u001b[0m \u001b[0mprint\u001b[0m\u001b[1;33m(\u001b[0m\u001b[0mmylist\u001b[0m\u001b[1;33m)\u001b[0m\u001b[1;33m\u001b[0m\u001b[1;33m\u001b[0m\u001b[0m\n\u001b[0;32m     20\u001b[0m \u001b[1;33m\u001b[0m\u001b[0m\n\u001b[1;32m---> 21\u001b[1;33m \u001b[0mmylist\u001b[0m\u001b[1;33m.\u001b[0m\u001b[0mpop\u001b[0m\u001b[1;33m(\u001b[0m\u001b[1;33m)\u001b[0m\u001b[1;33m\u001b[0m\u001b[1;33m\u001b[0m\u001b[0m\n\u001b[0m",
      "\u001b[1;32m~\\AppData\\Local\\Temp\\ipykernel_4364\\78956126.py\u001b[0m in \u001b[0;36mpop\u001b[1;34m(self, s)\u001b[0m\n\u001b[0;32m     11\u001b[0m \u001b[1;33m\u001b[0m\u001b[0m\n\u001b[0;32m     12\u001b[0m     \u001b[1;32mdef\u001b[0m \u001b[0mpop\u001b[0m\u001b[1;33m(\u001b[0m\u001b[0mself\u001b[0m\u001b[1;33m,\u001b[0m \u001b[0ms\u001b[0m \u001b[1;33m=\u001b[0m \u001b[1;32mNone\u001b[0m\u001b[1;33m)\u001b[0m\u001b[1;33m:\u001b[0m                           \u001b[1;31m# it acts an a wrapper class for a customized list ‘mylist’.\u001b[0m\u001b[1;33m\u001b[0m\u001b[1;33m\u001b[0m\u001b[0m\n\u001b[1;32m---> 13\u001b[1;33m         \u001b[1;32mraise\u001b[0m \u001b[0mRuntimeError\u001b[0m\u001b[1;33m(\u001b[0m\u001b[1;34m\"Deletion not allowed\"\u001b[0m\u001b[1;33m)\u001b[0m\u001b[1;33m\u001b[0m\u001b[1;33m\u001b[0m\u001b[0m\n\u001b[0m\u001b[0;32m     14\u001b[0m \u001b[1;33m\u001b[0m\u001b[0m\n\u001b[0;32m     15\u001b[0m \u001b[0mmylist\u001b[0m \u001b[1;33m=\u001b[0m \u001b[0mmydata\u001b[0m\u001b[1;33m(\u001b[0m\u001b[1;33m[\u001b[0m\u001b[1;36m10\u001b[0m\u001b[1;33m,\u001b[0m\u001b[1;36m20\u001b[0m\u001b[1;33m,\u001b[0m\u001b[1;36m30\u001b[0m\u001b[1;33m]\u001b[0m\u001b[1;33m)\u001b[0m\u001b[1;33m\u001b[0m\u001b[1;33m\u001b[0m\u001b[0m\n",
      "\u001b[1;31mRuntimeError\u001b[0m: Deletion not allowed"
     ]
    }
   ],
   "source": [
    "#Userlist\n",
    "from collections import UserList\n",
    "lst = [1,2,3,4,5]\n",
    "user_list = UserList(lst)            \n",
    "print(user_list.data)\n",
    "print(type(user_list))\n",
    "\n",
    "\n",
    "\n",
    "class mydata(UserList):                                # customized list\n",
    "                                                       \n",
    "    def pop(self, s = None):                           # it acts an a wrapper class for a customized list ‘mylist’.\n",
    "        raise RuntimeError(\"Deletion not allowed\")    \n",
    "     \n",
    "mylist = mydata([10,20,30])\n",
    " \n",
    "mylist.append(5)\n",
    "print(\"Insertion..\")\n",
    "print(mylist)\n",
    " \n",
    "mylist.pop()"
   ]
  }
 ],
 "metadata": {
  "kernelspec": {
   "display_name": "Python 3 (ipykernel)",
   "language": "python",
   "name": "python3"
  },
  "language_info": {
   "codemirror_mode": {
    "name": "ipython",
    "version": 3
   },
   "file_extension": ".py",
   "mimetype": "text/x-python",
   "name": "python",
   "nbconvert_exporter": "python",
   "pygments_lexer": "ipython3",
   "version": "3.11.5"
  }
 },
 "nbformat": 4,
 "nbformat_minor": 5
}
