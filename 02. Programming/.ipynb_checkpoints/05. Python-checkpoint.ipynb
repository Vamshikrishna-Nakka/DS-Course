{
 "cells": [
  {
   "cell_type": "markdown",
   "id": "6e2d217e",
   "metadata": {},
   "source": [
    "## Object, Class, Self"
   ]
  },
  {
   "cell_type": "code",
   "execution_count": null,
   "id": "9b87c3b1",
   "metadata": {},
   "outputs": [],
   "source": [
    "# class Dog:    class is a blueprint or Template to define a logical grouping of data and functions.\n",
    "# Class Variable: A class variable is nothing but a variable that is defined outside the constructor. \n",
    "# A class variable is also called as a static variable.\n",
    "\n",
    "# obj = Dog()   An object is an instance of the class \n",
    "\n",
    "# Accessor(Getters): If you want to fetch the value from an instance variable we call them accessors.\n",
    "# Mutator(Setters): If you want to modify the value we call them mutators."
   ]
  },
  {
   "cell_type": "code",
   "execution_count": null,
   "id": "8509c4a0",
   "metadata": {},
   "outputs": [],
   "source": [
    "class computer:\n",
    "    \n",
    "    def config(self):\n",
    "        print(\"i5, 16gb, 1TB\")\n",
    "\n",
    "x = 9\n",
    "print(type(x))             # type of x is an object of class which is inbuilt class(object)\n",
    "\n",
    "\n",
    "a = '8'\n",
    "print(type(a))\n",
    "\n",
    "#object creation\n",
    "com1 = computer()          # like computer() is constructor \n",
    "com2 = computer()          # com1,com2 are referencee variables\n",
    "\n",
    "print(type(com1))          # but this our class --which is created computer class\n",
    "\n",
    "\n",
    "# object calling\n",
    "\n",
    "computer.config(com1)      # call method because it is in class we call with class name\n",
    "                           # comp1 is because with which object you are calling\n",
    "computer.config(com2)\n",
    "\n",
    "\n",
    "com1.config()   # from above you can see this differece because when this computer.config(com1) executes the com1 takes as\n",
    "                # as parameter and passes to function that is why there is self as parameter available\n",
    "com2.config()   # this is the most usage one rather than above"
   ]
  },
  {
   "cell_type": "code",
   "execution_count": null,
   "id": "635c8262",
   "metadata": {},
   "outputs": [],
   "source": [
    "# Self\n",
    "\n",
    "# -- It is an instance of class which points to the object. By using the “self”  we can access the attributes and methods\n",
    "#    of the class in python. It binds the attributes with the given arguments.\n",
    "# -- The self parameter doesn't have to be named “self,” as you can call it by any other name.However, the self parameter\n",
    "#     must always be the first parameter of any class function, regardless of the name chosen. So instead of self, you could\n",
    "#     use “Mine” or “Ours” or anything else.\n",
    "# --  Self is a convention and not a Python keyword .\n",
    "        \n",
    "# if __name__ == \"__main__\"\n",
    "# def __init__(self):           # it is a default constructor for initializing values.\n",
    "# def __init__(self, f, s):     # parameterized constructor when we pass arguments"
   ]
  },
  {
   "cell_type": "code",
   "execution_count": 22,
   "id": "6514c56f",
   "metadata": {},
   "outputs": [
    {
     "name": "stdout",
     "output_type": "stream",
     "text": [
      "{'name': 'harshit', 'salary': 1234, 'id': 1000, 'age': 22}\n"
     ]
    }
   ],
   "source": [
    "class employee():\n",
    "    def __init__(self,name,age,id,salary):  # creating a function\n",
    "        self.name = name                    # self is an instance of a class\n",
    "        self.salary = salary                # no need of order as function defination.\n",
    "        self.id = id\n",
    "        self.age = age\n",
    "\n",
    "emp1 = employee(\"harshit\",22,1000,1234)     # creating objects\n",
    "emp2 = employee(\"arjun\",23,2000,2234)\n",
    "print(emp1.__dict__)                        # Prints as dictionary"
   ]
  },
  {
   "cell_type": "markdown",
   "id": "eb8e4d64",
   "metadata": {},
   "source": [
    "### Instance, Class, Static"
   ]
  },
  {
   "cell_type": "code",
   "execution_count": null,
   "id": "9d1ad6bf",
   "metadata": {},
   "outputs": [],
   "source": [
    "# namespace is the area where you create and store object/variable\n",
    "# if it created in instance variable -- instance namespace\n",
    "# if it created in class variable   ---- class namespace"
   ]
  },
  {
   "cell_type": "code",
   "execution_count": 8,
   "id": "7968aa72",
   "metadata": {},
   "outputs": [
    {
     "name": "stdout",
     "output_type": "stream",
     "text": [
      "15.0\n",
      "Class method\n",
      "Static method\n",
      "Class method\n"
     ]
    }
   ],
   "source": [
    "# Instance methods: Used to access or modify the object state. If we use instance variables inside a method, such methods\n",
    "#     are called instance methods. It must have a self parameter to refer to the current object.\n",
    "# Class methods: Used to access or modify the class state. In method implementation, if we use only class variables,then such\n",
    "#     type of methods we should declare as a class method. The class method has a cls parameter which refers to the class.\n",
    "# Static Methods:A static method does not receive an implicit first argument. A static method is also a method that is\n",
    "#     bound to the class and not the object of the class. This method can’t access or modify the class state. It is present\n",
    "#     in a class because it makes sense for the method to be present in class.\n",
    "\n",
    "\n",
    "class Student:\n",
    "    name = 'Class method'\n",
    "    def __init__(self, a,b):               # constructor\n",
    "        self.a = a                         # Instance variable\n",
    "        self.b = b\n",
    "    \n",
    "    def avg(self):                         # instance method access instance variable\n",
    "        return (self.a + self.b) / 2\n",
    "    \n",
    "    @classmethod                           # decorator flag\n",
    "    def inf(cls):\n",
    "        return cls.name\n",
    "    \n",
    "    @staticmethod\n",
    "    def info():                            # no need to pass cls argument\n",
    "        return \"Static method\"\n",
    "    \n",
    "s1 = Student(10, 20) \n",
    "print(s1.avg() )                           # call instance method\n",
    "print(Student.inf())                       #  Class method  \n",
    "print(Student.info())                      #  Static method\n",
    "print(s1.name)"
   ]
  },
  {
   "cell_type": "markdown",
   "id": "66a56164",
   "metadata": {},
   "source": [
    "## Inner class\n",
    ". Suppose you have two classes Car and Engine. Every Car needs an Engine. But, Engine won't be used without a Car. So, you make the Engine an inner class to the Car. It helps save code.<br>\n",
    ". You can access the inner class in the outer class using the self keyword. So, you can quickly create an instance of the inner class and perform operations in the outer class as you see fit. You can't, however, access the outer class in an inner class."
   ]
  },
  {
   "cell_type": "code",
   "execution_count": 19,
   "id": "9a3cff6e",
   "metadata": {},
   "outputs": [
    {
     "name": "stdout",
     "output_type": "stream",
     "text": [
      "Calling Inner class function from Outer class\n",
      "Calling the Inner class method directly\n",
      "Just Print It!\n"
     ]
    }
   ],
   "source": [
    "class Outer:\n",
    "    \"\"\"Outer Class\"\"\"\n",
    "\n",
    "    def __init__(self):\n",
    "        ## instantiating the 'Inner' class\n",
    "        self.inner = self.Inner()\n",
    "\n",
    "    def reveal(self):\n",
    "        ## calling the 'Inner' class function display\n",
    "        self.inner.inner_display(\"Calling Inner class function from Outer class\")\n",
    "\n",
    "    class Inner:\n",
    "        \"\"\"Inner Class\"\"\"\n",
    "\n",
    "        def inner_display(self, msg):\n",
    "            print(msg)\n",
    "            \n",
    "## creating an instance of the 'Outer' class\n",
    "outer = Outer()\n",
    "## calling the 'reveal()' method\n",
    "outer.reveal()\n",
    "\n",
    "\n",
    "#Calling the Inner class method directly\n",
    "Outer().Inner().inner_display(\"Calling the Inner class method directly\")\n",
    "\n",
    "## instantiating the inner class\n",
    "inner = outer.Inner() ## inner = Outer().Inner() or inner = outer.inner\n",
    "inner.inner_display(\"Just Print It!\")"
   ]
  },
  {
   "cell_type": "code",
   "execution_count": 27,
   "id": "5b8088bf",
   "metadata": {},
   "outputs": [
    {
     "name": "stdout",
     "output_type": "stream",
     "text": [
      "Name: Green\n",
      "Inner Name: green\n",
      "Inner Code: 234\n",
      "Inner Name: green\n",
      "Inner Code: 234\n"
     ]
    }
   ],
   "source": [
    "#INNER CLASS\n",
    "# A class defined in another class is known as an inner class or nested class.\n",
    "class Color(object):\n",
    "    def __init__(self,name):\n",
    "        self.name = name\n",
    "        self.lg = self.Lightgreen() #inner call mentioning\n",
    "\n",
    "    def show(self):\n",
    "        print(\"Name:\", self.name)\n",
    "        self.lg.display()          #calling inner class method\n",
    "\n",
    "    class Lightgreen:\n",
    "        def __init__(self):\n",
    "            self.name = 'green'\n",
    "            self.code = '234'\n",
    "\n",
    "        def display(self):\n",
    "            print(\"Inner Name:\", self.name)\n",
    "            print(\"Inner Code:\", self.code)\n",
    "\n",
    "outer = Color('Green') #outer class object\n",
    "\n",
    "g = outer.Lightgreen() #inner class object\n",
    "\n",
    "outer.show()\n",
    "\n",
    "g.display()"
   ]
  },
  {
   "cell_type": "code",
   "execution_count": 20,
   "id": "1c9d90e0",
   "metadata": {},
   "outputs": [
    {
     "name": "stdout",
     "output_type": "stream",
     "text": [
      "Navin 2\n",
      "Hp i5 8\n",
      "Hp i5 8\n"
     ]
    }
   ],
   "source": [
    "class Student:\n",
    "\n",
    "    def __init__(self,name,rollno):\n",
    "        self.name = name\n",
    "        self.rollno = rollno\n",
    "        self.lap = self.Laptop()\n",
    "\n",
    "    def show(self):\n",
    "        print(self.name , self.rollno)\n",
    "        self.lap.show()\n",
    "\n",
    "    class Laptop:\n",
    "\n",
    "        def __init__(self):\n",
    "            self.brand = \"Hp\"\n",
    "            self.cpu = 'i5'\n",
    "            self.ram = 8\n",
    "\n",
    "        def show(self):\n",
    "            print(self.brand,self.cpu,self.ram)\n",
    "\n",
    "\n",
    "s1 = Student('Navin',2)\n",
    "s2 = Student('Jenny',3)\n",
    "\n",
    "s1.show()\n",
    "\n",
    "# lap1 = s2.lap\n",
    "s2.lap.show()  # direct printing innner show method\n",
    "\n",
    "#lap1 = Student.Laptop()     -- creating a object of inner class in outer class\n",
    "\n",
    "# print(id(lap1))\n",
    "# print(id(lap2))"
   ]
  },
  {
   "cell_type": "code",
   "execution_count": 21,
   "id": "bd728714",
   "metadata": {},
   "outputs": [
    {
     "name": "stdout",
     "output_type": "stream",
     "text": [
      "Sum of numbers 30\n",
      "Product of numbers 200\n",
      "Instance variable is 10\n"
     ]
    }
   ],
   "source": [
    "# innner methods\n",
    "\n",
    "class NestedMethods:\n",
    "    # define class variable\n",
    "    x = 10\n",
    "    def outer_method(self, c, d):\n",
    "        # define inner method\n",
    "        def operations(a, b):\n",
    "            print(\"Sum of numbers\", a+b)\n",
    "            print(\"Product of numbers\", a * b)\n",
    "            # access instance variable \n",
    "            print(\"Instance variable is\", self.x)\n",
    "        # call inner method\n",
    "        operations(10, 20)\n",
    " \n",
    "# create class instance\n",
    "obj = NestedMethods()\n",
    "# call outer method\n",
    "o = obj.outer_method(2,3)"
   ]
  },
  {
   "cell_type": "markdown",
   "id": "c02effd4",
   "metadata": {},
   "source": [
    "## Init"
   ]
  },
  {
   "cell_type": "code",
   "execution_count": null,
   "id": "2ea8946a",
   "metadata": {},
   "outputs": [],
   "source": []
  },
  {
   "cell_type": "code",
   "execution_count": 10,
   "id": "6f4bad79",
   "metadata": {},
   "outputs": [
    {
     "name": "stdout",
     "output_type": "stream",
     "text": [
      "Three\n"
     ]
    }
   ],
   "source": [
    "class example:\n",
    "                                 # If multiple __init__ methods are written for the same class, then the latest one \n",
    "                                 # overwrites all the previous constructors.\n",
    "    def __init__(self):\n",
    "        print(\"One\")\n",
    "  \n",
    "    def __init__(self):\n",
    "        print(\"Two\")\n",
    "  \n",
    "    def __init__(self):\n",
    "        print(\"Three\")\n",
    "\n",
    "e = example()"
   ]
  },
  {
   "cell_type": "markdown",
   "id": "4d30d9f3",
   "metadata": {},
   "source": [
    "## Four pillars of OOPS"
   ]
  },
  {
   "cell_type": "code",
   "execution_count": 13,
   "id": "4ff57d68",
   "metadata": {},
   "outputs": [],
   "source": [
    "# What are the 5 paradigms of OOP?\n",
    "# Imperative, procedural, functional, declarative, and object oriented."
   ]
  },
  {
   "cell_type": "code",
   "execution_count": null,
   "id": "4e6e016b",
   "metadata": {},
   "outputs": [],
   "source": [
    "# 1.Inheritance.\n",
    "# 2.Abstraction.\n",
    "# 3.Encapsulation.\n",
    "# 4.Polymorphism."
   ]
  },
  {
   "cell_type": "markdown",
   "id": "80ace979",
   "metadata": {},
   "source": [
    "#### Inheritance"
   ]
  },
  {
   "cell_type": "code",
   "execution_count": 11,
   "id": "cbf424c0",
   "metadata": {},
   "outputs": [],
   "source": [
    "# Yes, there are two ways to call the method in the class without creating the object of the class.\n",
    "\n",
    "#1. The class gets extended by another child class, the child class will inherit all properties and methods of the parent\n",
    "#   class and thus by creating the object of the child class, we can call the method in the parent class.\n",
    "#2. The method is made static. Static methods are not called through objects instead we use the class name to call the\n",
    "#   static methods."
   ]
  },
  {
   "cell_type": "code",
   "execution_count": 17,
   "id": "125ba01e",
   "metadata": {},
   "outputs": [
    {
     "name": "stdout",
     "output_type": "stream",
     "text": [
      "vamshi 200000\n",
      "vamshi\n"
     ]
    }
   ],
   "source": [
    "# Inheritance  : aquiring properties from parent.\n",
    "\n",
    "class Person(object):\n",
    "    def __init__(self, name):\n",
    "        self.name = name\n",
    "class Employee(Person):\n",
    "    def __init__(self,salary,name):\n",
    "        self.salary = salary\n",
    "        Person.__init__(self, name)        # super().__init__(self, name)\n",
    "    def fun(self):\n",
    "        print(self.name,self.salary)\n",
    "        \n",
    "a = Employee(200000,'vamshi')\n",
    "\n",
    "a.fun()\n",
    "print(a.name)"
   ]
  },
  {
   "cell_type": "code",
   "execution_count": 24,
   "id": "0e62c0fe",
   "metadata": {},
   "outputs": [
    {
     "name": "stdout",
     "output_type": "stream",
     "text": [
      "A init called\n",
      "B init called\n"
     ]
    }
   ],
   "source": [
    "#__init__ with inheritance\n",
    "\n",
    "class A(object): \n",
    "    def __init__(self, something): \n",
    "        print(\"A init called\") \n",
    "        self.something = something \n",
    "          \n",
    "class B(A): \n",
    "    def __init__(self, something): \n",
    "        # Calling init of parent class \n",
    "        A.__init__(self, something) \n",
    "        print(\"B init called\") \n",
    "        self.something = something \n",
    "          \n",
    "obj = B(\"Something\")"
   ]
  },
  {
   "cell_type": "code",
   "execution_count": 25,
   "id": "4cb28fb2",
   "metadata": {},
   "outputs": [
    {
     "name": "stdout",
     "output_type": "stream",
     "text": [
      "This is Init A\n",
      "Feature 1 working\n"
     ]
    }
   ],
   "source": [
    "# Constructor in inheritance\n",
    "class A:\n",
    "    \n",
    "    def __init__(self):\n",
    "        print(\"This is Init A\")\n",
    "        \n",
    "    def feature1(self):\n",
    "        print(\"Feature 1 working\")\n",
    "class B(A):\n",
    "    def feature2(self):\n",
    "        print(\"Feature 2 working\")  \n",
    "        \n",
    "a1 = B()    # this is not a1 or b1 what constructor we are creating is important\n",
    "    # when we are object of B(subclass) but construct of A(parentclass) is printing because in B(subclass) there is no \n",
    "    # constructor after checking on B(subclass) it will go to up.if B(subclass) is haveing constructor then it gives \n",
    "    # priority to B(subclass) not for A(parentclass).Check in below example\n",
    "\n",
    "a1.feature1()"
   ]
  },
  {
   "cell_type": "code",
   "execution_count": 26,
   "id": "7cdfd3e9",
   "metadata": {},
   "outputs": [
    {
     "name": "stdout",
     "output_type": "stream",
     "text": [
      "Hi I am first Parent\n",
      "Hi I am first Parent\n"
     ]
    }
   ],
   "source": [
    "# Types\n",
    "# Single Inheritance. A-B\n",
    "# Multiple Inheritance.A,B -C\n",
    "# Multilevel Inheritance. A-B-C\n",
    "# Hierarchical Inheritance.A-B,C,D\n",
    "# Hybrid Inheritance. All mixed\n",
    "\n",
    "\n",
    "# Unlike other object-oriented programming languages like Java, Python supports all types of inheritance, even multiple inheritance!\n",
    "# 2 times the first parent smoke will print\n",
    "class Parent1:\n",
    "    def smoke(self):\n",
    "        print(\"Hi I am first Parent\")\n",
    "\n",
    "# Parent class2\n",
    "class Parent2:\n",
    "    def smoke(self):\n",
    "        print(\"Hi I am second Parent\")\n",
    "\n",
    "# Child class\n",
    "class Child(Parent1, Parent2):\n",
    "    def child_func(self):\n",
    "        self.smoke()\n",
    "        self.smoke()\n",
    "\n",
    "# Driver's code\n",
    "obj1 = Child()\n",
    "obj1.child_func()"
   ]
  },
  {
   "cell_type": "code",
   "execution_count": null,
   "id": "168044f1",
   "metadata": {},
   "outputs": [],
   "source": [
    "# What is MRO in Python? How does it work? SENIOR\n",
    "\n",
    "# Method Resolution Order (MRO) it denotes the way a programming language resolves a method or attribute. \n",
    "# Python supports classes inheriting from other classes. The class being inherited is called the Parent or Superclass,\n",
    "# while the class that inherits is called the Child or Subclass.\n",
    "\n",
    "# In Python, method resolution order defines the order in which the base classes are searched when executing a method. \n",
    "# First, the method or attribute is searched within a class and then it follows the order we specified while inheriting. \n",
    "# This order is also called Linearization of a class and set of rules are called MRO (Method Resolution Order). While \n",
    "# inheriting from another class, the interpreter needs a way to resolve the methods that are being called via an instance. \n",
    "# Thus we need the method resolution order.\n",
    "\n",
    "# Python resolves method and attribute lookups using the C3 linearisation of the class and its parents. The C3 linearisation\n",
    "# is neither depth-first nor breadth-first in complex multiple inheritance hierarchies.\n",
    "\n",
    "\n",
    "\n",
    "# Method resolution order(MRO)\n",
    "class A:\n",
    "    def __init__(self):\n",
    "        print(\"This is Init A\")\n",
    "        \n",
    "    def feature1(self):\n",
    "        print(\"Feature 1 working\")\n",
    "class B:\n",
    "    def __init__(self):\n",
    "        print(\"This is Init B\")\n",
    "        \n",
    "    def feature2(self):\n",
    "        print(\"Feature 2 working\")\n",
    "class C(A,B):\n",
    "    def __init__(self):\n",
    "        super().__init__()        # we aquired both b and a parent classes but Whwn we call super we are getting only A because of\n",
    "        print(\"This is Init C\")   # MRO this follows the Left to right (A created first then B --- A B) so takes A\n",
    "        \n",
    "    def feature3(self):\n",
    "        super().feature1()        # same with methods as well\n",
    "        super().feature2()\n",
    "        print(\"Feature 3 working\")\n",
    "\n",
    "c1 = C()\n",
    "c1.feature3()"
   ]
  },
  {
   "cell_type": "markdown",
   "id": "f3100371",
   "metadata": {},
   "source": [
    "#### Abstraction"
   ]
  },
  {
   "cell_type": "code",
   "execution_count": 28,
   "id": "31b7105a",
   "metadata": {},
   "outputs": [
    {
     "name": "stdout",
     "output_type": "stream",
     "text": [
      "I am going to sleep in a while\n",
      "I can meow\n",
      "I am going to sleep in a while\n",
      "I can hiss\n"
     ]
    }
   ],
   "source": [
    "# Data abstraction \n",
    "# Data Abstraction allows you to provide only the required details and hides the implementation from world. \n",
    "#   that \"shows\" only essential attributes or information and \"hides\" unnecessary information. \n",
    "# It can be easily acheived in python by using interfaces and abstract classes.\n",
    "\n",
    "# Why use Abstract Base Classes(ABC) : \n",
    "\n",
    "\n",
    "\n",
    "from abc import ABC,abstractmethod\n",
    "class Animal(ABC):                 # From ABC class it is inheriting so it becomes Abstract class\n",
    "    \n",
    "    def sleep(self):      \n",
    "        print(\"I am going to sleep in a while\")\n",
    " \n",
    "    @abstractmethod\n",
    "    def sound(self):\n",
    "        print(\"This function is for defining the sound by any animal\")\n",
    "        pass\n",
    "    \n",
    "class Snake(Animal):\n",
    "    def sound(self):\n",
    "        print(\"I can hiss\")    \n",
    "class Cat(Animal):\n",
    "    def sound(self):\n",
    "        print(\"I can meow\")\n",
    "        \n",
    "c = Cat()\n",
    "c.sleep()\n",
    "c.sound()\n",
    " \n",
    "p = Snake()\n",
    "p.sleep()\n",
    "p.sound()"
   ]
  },
  {
   "cell_type": "markdown",
   "id": "2069bf2b",
   "metadata": {},
   "source": [
    "##### Encapsulation"
   ]
  },
  {
   "cell_type": "code",
   "execution_count": 29,
   "id": "2f1bfb0a",
   "metadata": {},
   "outputs": [
    {
     "name": "stdout",
     "output_type": "stream",
     "text": [
      "John\n",
      "Public Data Member:  John\n",
      "Protected Data Member:  20\n",
      "Private Data Member:  170\n",
      "20\n",
      "Protected Data Member:  20\n",
      "Private Data Member:  170\n"
     ]
    }
   ],
   "source": [
    "#Encapsulation :Wraping up the data and methods within a single unit. \n",
    "\n",
    "#class is an example because it binds all the data(variables and methods) to one\n",
    "\n",
    "# When you log into your email accounts such as Gmail, Yahoo Mail, or Rediff mail, there is a lot of internal processes taking place in the backend and you have no control over it.\n",
    "# When you enter the password for logging, they are retrieved in an encrypted form and verified, and then you are given access to your account.\n",
    "# You do not have control over it that how the password has been verified. Thus, it keeps our account safe from being misused.\n",
    "\n",
    "# Encapsulation provides security this can be achieved through the access modifiers.\n",
    "\n",
    "# Public Member: Accessible anywhere from otside oclass. \n",
    "# Private Member: Accessible within the class. double underscore\n",
    "# Protected Member: Accessible within the class and its sub-classes. single underscore \n",
    "\n",
    "class Person:\n",
    "    def __init__(self, name, age, height):\n",
    "        self.name     = name   # public\n",
    "        self._age     = age    # protected\n",
    "        self.__height = height # private\n",
    "        \n",
    "    def P(self):\n",
    "        print(\"Public Data Member: \", self.name)\n",
    "        print(\"Protected Data Member: \", self._age)\n",
    "        print(\"Private Data Member: \", self.__height)\n",
    "        \n",
    "    def _Pr(self):\n",
    "          print(\"Protected Data Member: \", self._age)\n",
    "            \n",
    "    def Pri(self):\n",
    "          print(\"Private Data Member: \", self.__height)\n",
    "        \n",
    "    def __Pri(self):\n",
    "          print(\"Private Data Member: \", self.name) \n",
    "         \n",
    "\n",
    "p1 = Person(\"John\", 20, 170)\n",
    "\n",
    "print(p1.name)        # public: can be accessed\n",
    "p1.P()\n",
    "\n",
    "\n",
    "print(p1._age)        # protected: can be accessed but not advised\n",
    "p1._Pr()\n",
    "\n",
    "\n",
    "# private: accessed with in class not outside\n",
    "\n",
    "# print(p1.__height)   #here we can't access but we can access this varibale in noraml method.\n",
    "p1.Pri()\n",
    "\n",
    "#p1.__pri() same as varibale this method accessed in normal method"
   ]
  },
  {
   "cell_type": "markdown",
   "id": "7a17ad8f",
   "metadata": {},
   "source": [
    "##### Polymorphism"
   ]
  },
  {
   "cell_type": "code",
   "execution_count": 33,
   "id": "6bb2c142",
   "metadata": {},
   "outputs": [
    {
     "name": "stdout",
     "output_type": "stream",
     "text": [
      "7 HelloWorld\n"
     ]
    },
    {
     "data": {
      "text/plain": [
       "'If it walks like a duck, swims like a duck, and quacks like a duck, then it probably is a duck.'"
      ]
     },
     "execution_count": 33,
     "metadata": {},
     "output_type": "execute_result"
    }
   ],
   "source": [
    "# Polymorphism : refer to a generic function name that may be used for several kinds.\n",
    "\n",
    "# Operator Overloading\n",
    "print(2+5,'Hello'+'World') # same operator used as diffeernt forms\n",
    "# a person acts as an employee in the office, a customer in the shopping mall, a passenger in bus/train, a student in school, and a son at home.\n",
    "\n",
    "# Method Overloading     #same method name with different signature   --compile time polymorphism.\n",
    "# Method Overriding      #same name and same signature     ----runtime polymorphism\n",
    "\n",
    "#hence overriding method in same class is not possible, where as if we want to use same method name we can overload method by changing signature.\n",
    "\n",
    "#Ducktyping\n",
    "\n",
    "\"If it walks like a duck, swims like a duck, and quacks like a duck, then it probably is a duck.\"\n",
    "\n",
    "#Duck Typing is a dynamically typed programming languages and polymorphism. The idea behind this principle is that the code \n",
    "#itself does not care about whether an object is a duck, but instead it does only care about whether it quacks."
   ]
  },
  {
   "cell_type": "code",
   "execution_count": 31,
   "id": "4f78ebb6",
   "metadata": {},
   "outputs": [
    {
     "name": "stdout",
     "output_type": "stream",
     "text": [
      "Hello \n",
      "Hello krishna\n"
     ]
    }
   ],
   "source": [
    "# over loading\n",
    "class Human:\n",
    "    def sayHello(self, name=None):\n",
    "    \n",
    "        if name is None:\n",
    "            print('Hello ' )\n",
    "        else:\n",
    "            print('Hello '+ name)\n",
    "    \n",
    "# Create instance\n",
    "obj = Human()\n",
    "    \n",
    "# Call the method\n",
    "obj.sayHello()\n",
    "    \n",
    "# Call the method with a parameter\n",
    "obj.sayHello('krishna')"
   ]
  },
  {
   "cell_type": "code",
   "execution_count": 32,
   "id": "da256222",
   "metadata": {},
   "outputs": [
    {
     "name": "stdout",
     "output_type": "stream",
     "text": [
      "I have 4 sides. I am from Square class\n",
      "I am a 2D object. I am from shape class\n",
      "I have teal color. I am from Square class.\n"
     ]
    }
   ],
   "source": [
    "# overridiing\n",
    "class Shape:\n",
    "    data1 = \"abc\"\n",
    "    def no_of_sides(self):\n",
    "        print(\"My sides need to be defined. I am from shape class.\")\n",
    "    def two_dimensional(self):\n",
    "        print(\"I am a 2D object. I am from shape class\")\n",
    "class Square (Shape):\n",
    "    data2 = \"XYZ\"\n",
    "\n",
    "    def no_of_sides (self):\n",
    "        print(\"I have 4 sides. I am from Square class\")\n",
    "\n",
    "    def color(self):\n",
    "        print(\"I have teal color. I am from Square class.\")\n",
    "\n",
    "sq = Square() \n",
    "sq.no_of_sides() ## Override the no_of_sides of parent class \n",
    "sq.two_dimensional() \n",
    "sq.color()"
   ]
  },
  {
   "cell_type": "markdown",
   "id": "99c2a7dd",
   "metadata": {},
   "source": [
    "#### __name__ == \"__main__\""
   ]
  },
  {
   "cell_type": "code",
   "execution_count": null,
   "id": "7784b91e",
   "metadata": {},
   "outputs": [],
   "source": [
    "# __name__ == \"__main__\""
   ]
  },
  {
   "cell_type": "code",
   "execution_count": 46,
   "id": "1b9ad802",
   "metadata": {},
   "outputs": [
    {
     "name": "stdout",
     "output_type": "stream",
     "text": [
      "Krishna\n"
     ]
    }
   ],
   "source": [
    "def main():\n",
    "     print (\"hello world!\")\n",
    "print (\"Krishna\")"
   ]
  },
  {
   "cell_type": "code",
   "execution_count": 47,
   "id": "19db52d4",
   "metadata": {},
   "outputs": [
    {
     "name": "stdout",
     "output_type": "stream",
     "text": [
      "hello world!\n",
      "Krishna\n"
     ]
    }
   ],
   "source": [
    "def main():\n",
    "     print (\"hello world!\")\n",
    "\n",
    "if __name__ == \"__main__\":\n",
    "    main()\n",
    "    \n",
    "print (\"Krishna\")"
   ]
  },
  {
   "cell_type": "code",
   "execution_count": 48,
   "id": "94547b66",
   "metadata": {},
   "outputs": [
    {
     "name": "stdout",
     "output_type": "stream",
     "text": [
      "__main__\n"
     ]
    }
   ],
   "source": [
    "print(__name__)"
   ]
  },
  {
   "cell_type": "code",
   "execution_count": 49,
   "id": "21b69e23",
   "metadata": {},
   "outputs": [
    {
     "name": "stdout",
     "output_type": "stream",
     "text": [
      "Always executed\n",
      "Executed when invoked directly\n"
     ]
    }
   ],
   "source": [
    "print(\"Always executed\")\n",
    "  \n",
    "if __name__ == \"__main__\": \n",
    "    print(\"Executed when invoked directly\")\n",
    "else: \n",
    "    print(\"Executed when imported\")"
   ]
  },
  {
   "cell_type": "code",
   "execution_count": 50,
   "id": "4a672c3c",
   "metadata": {},
   "outputs": [
    {
     "name": "stdout",
     "output_type": "stream",
     "text": [
      "I am inside function\n"
     ]
    }
   ],
   "source": [
    "# file 1 name        ----- myscripy\n",
    "\n",
    "def my_function(): \n",
    "      print (\"I am inside function\")\n",
    "        \n",
    "# We can test function by calling it. \n",
    "my_function()"
   ]
  },
  {
   "cell_type": "code",
   "execution_count": 51,
   "id": "0264f59c",
   "metadata": {},
   "outputs": [
    {
     "name": "stdout",
     "output_type": "stream",
     "text": [
      "I am inside function\n"
     ]
    },
    {
     "ename": "ModuleNotFoundError",
     "evalue": "No module named 'myscripy'",
     "output_type": "error",
     "traceback": [
      "\u001b[1;31m---------------------------------------------------------------------------\u001b[0m",
      "\u001b[1;31mModuleNotFoundError\u001b[0m                       Traceback (most recent call last)",
      "\u001b[1;32m~\\AppData\\Local\\Temp\\ipykernel_30176\\3213908984.py\u001b[0m in \u001b[0;36m<module>\u001b[1;34m\u001b[0m\n\u001b[0;32m      3\u001b[0m \u001b[1;32mif\u001b[0m \u001b[0m__name__\u001b[0m \u001b[1;33m==\u001b[0m \u001b[1;34m\"__main__\"\u001b[0m\u001b[1;33m:\u001b[0m\u001b[1;33m\u001b[0m\u001b[1;33m\u001b[0m\u001b[0m\n\u001b[0;32m      4\u001b[0m     \u001b[0mmy_function\u001b[0m\u001b[1;33m(\u001b[0m\u001b[1;33m)\u001b[0m\u001b[1;33m\u001b[0m\u001b[1;33m\u001b[0m\u001b[0m\n\u001b[1;32m----> 5\u001b[1;33m \u001b[1;32mimport\u001b[0m \u001b[0mmyscripy\u001b[0m  \u001b[1;31m#imported from ablove module\u001b[0m\u001b[1;33m\u001b[0m\u001b[1;33m\u001b[0m\u001b[0m\n\u001b[0m",
      "\u001b[1;31mModuleNotFoundError\u001b[0m: No module named 'myscripy'"
     ]
    }
   ],
   "source": [
    "# file 2\n",
    "\n",
    "if __name__ == \"__main__\": \n",
    "    my_function()  \n",
    "import myscripy            # imported from ablove module"
   ]
  },
  {
   "cell_type": "markdown",
   "id": "d77ba246",
   "metadata": {},
   "source": [
    "## Exception handling"
   ]
  },
  {
   "cell_type": "code",
   "execution_count": 34,
   "id": "37506e54",
   "metadata": {},
   "outputs": [
    {
     "name": "stdout",
     "output_type": "stream",
     "text": [
      "Can't divide by zero.Error:integer division or modulo by zero\n",
      "This is always executed\n"
     ]
    }
   ],
   "source": [
    "try: # catch  exceptions\n",
    "    print(5//0)\n",
    "except Exception as b: # handle the exception\n",
    "    print(f\"Can't divide by zero.Error:{b}\")\n",
    "else: #which must be present after all the except clauses.code enters else block only if the try clause doesn't raise an exception.\n",
    "    print(\"Hello\")\n",
    "finally:#always executed after the try and except blocks it wont depend on try except.\n",
    "    print('This is always executed')"
   ]
  },
  {
   "cell_type": "code",
   "execution_count": 40,
   "id": "481626e2",
   "metadata": {},
   "outputs": [
    {
     "name": "stdout",
     "output_type": "stream",
     "text": [
      "Key c is missing. Add it with empty value\n",
      "{'a': [1, 2], 'b': [4, 5], 'c': []}\n"
     ]
    }
   ],
   "source": [
    "dct = dict(a=[1, 2], b=[4, 5])\n",
    "\n",
    "key = 'c'\n",
    "try:\n",
    "    dct[key]\n",
    "except:\n",
    "    print(\"Key %s is missing. Add it with empty value\" % key)\n",
    "    dct['c'] = []\n",
    "\n",
    "print(dct)"
   ]
  },
  {
   "cell_type": "code",
   "execution_count": 35,
   "id": "0477d078",
   "metadata": {},
   "outputs": [
    {
     "name": "stdout",
     "output_type": "stream",
     "text": [
      "An exception\n"
     ]
    },
    {
     "ename": "NameError",
     "evalue": "Hi there",
     "output_type": "error",
     "traceback": [
      "\u001b[1;31m---------------------------------------------------------------------------\u001b[0m",
      "\u001b[1;31mNameError\u001b[0m                                 Traceback (most recent call last)",
      "\u001b[1;32m~\\AppData\\Local\\Temp\\ipykernel_30176\\1432870778.py\u001b[0m in \u001b[0;36m<module>\u001b[1;34m\u001b[0m\n\u001b[0;32m      1\u001b[0m \u001b[1;32mtry\u001b[0m\u001b[1;33m:\u001b[0m\u001b[1;33m\u001b[0m\u001b[1;33m\u001b[0m\u001b[0m\n\u001b[1;32m----> 2\u001b[1;33m     \u001b[1;32mraise\u001b[0m \u001b[0mNameError\u001b[0m\u001b[1;33m(\u001b[0m\u001b[1;34m\"Hi there\"\u001b[0m\u001b[1;33m)\u001b[0m \u001b[1;31m# programmer to force a specific exception to occur.\u001b[0m\u001b[1;33m\u001b[0m\u001b[1;33m\u001b[0m\u001b[0m\n\u001b[0m\u001b[0;32m      3\u001b[0m \u001b[1;32mexcept\u001b[0m \u001b[0mNameError\u001b[0m\u001b[1;33m:\u001b[0m\u001b[1;33m\u001b[0m\u001b[1;33m\u001b[0m\u001b[0m\n\u001b[0;32m      4\u001b[0m     \u001b[0mprint\u001b[0m \u001b[1;33m(\u001b[0m\u001b[1;34m\"An exception\"\u001b[0m\u001b[1;33m)\u001b[0m\u001b[1;33m\u001b[0m\u001b[1;33m\u001b[0m\u001b[0m\n\u001b[0;32m      5\u001b[0m     \u001b[1;32mraise\u001b[0m  \u001b[1;31m# To determine whether the exception was raised or not\u001b[0m\u001b[1;33m\u001b[0m\u001b[1;33m\u001b[0m\u001b[0m\n",
      "\u001b[1;31mNameError\u001b[0m: Hi there"
     ]
    }
   ],
   "source": [
    "try:\n",
    "    raise NameError(\"Hi there\") # programmer to force a specific exception to occur.\n",
    "except NameError:\n",
    "    print (\"An exception\")\n",
    "    raise  # To determine whether the exception was raised or not"
   ]
  },
  {
   "cell_type": "code",
   "execution_count": 36,
   "id": "a0dab64e",
   "metadata": {},
   "outputs": [
    {
     "ename": "NameError",
     "evalue": "name 'exc' is not defined",
     "output_type": "error",
     "traceback": [
      "\u001b[1;31m---------------------------------------------------------------------------\u001b[0m",
      "\u001b[1;31mNameError\u001b[0m                                 Traceback (most recent call last)",
      "\u001b[1;32m~\\AppData\\Local\\Temp\\ipykernel_30176\\3636923158.py\u001b[0m in \u001b[0;36m<module>\u001b[1;34m\u001b[0m\n\u001b[1;32m----> 1\u001b[1;33m \u001b[1;32mraise\u001b[0m \u001b[0mRuntimeError\u001b[0m \u001b[1;32mfrom\u001b[0m \u001b[0mexc\u001b[0m   \u001b[1;31m#Exception chaining\u001b[0m\u001b[1;33m\u001b[0m\u001b[1;33m\u001b[0m\u001b[0m\n\u001b[0m\u001b[0;32m      2\u001b[0m \u001b[1;32mraise\u001b[0m \u001b[0mRuntimeError\u001b[0m \u001b[1;32mfrom\u001b[0m \u001b[1;32mNone\u001b[0m\u001b[1;33m\u001b[0m\u001b[1;33m\u001b[0m\u001b[0m\n",
      "\u001b[1;31mNameError\u001b[0m: name 'exc' is not defined"
     ]
    }
   ],
   "source": [
    "raise RuntimeError from exc   #Exception chaining\n",
    "raise RuntimeError from None  "
   ]
  },
  {
   "cell_type": "code",
   "execution_count": 37,
   "id": "667a6768",
   "metadata": {},
   "outputs": [
    {
     "name": "stdout",
     "output_type": "stream",
     "text": [
      "Goodbye, world!\n"
     ]
    },
    {
     "ename": "KeyboardInterrupt",
     "evalue": "",
     "output_type": "error",
     "traceback": [
      "\u001b[1;31m---------------------------------------------------------------------------\u001b[0m",
      "\u001b[1;31mKeyboardInterrupt\u001b[0m                         Traceback (most recent call last)",
      "\u001b[1;32m~\\AppData\\Local\\Temp\\ipykernel_30176\\163421838.py\u001b[0m in \u001b[0;36m<module>\u001b[1;34m\u001b[0m\n\u001b[0;32m      1\u001b[0m \u001b[1;32mtry\u001b[0m\u001b[1;33m:\u001b[0m\u001b[1;33m\u001b[0m\u001b[1;33m\u001b[0m\u001b[0m\n\u001b[1;32m----> 2\u001b[1;33m     \u001b[1;32mraise\u001b[0m \u001b[0mKeyboardInterrupt\u001b[0m\u001b[1;33m\u001b[0m\u001b[1;33m\u001b[0m\u001b[0m\n\u001b[0m\u001b[0;32m      3\u001b[0m \u001b[1;32mfinally\u001b[0m\u001b[1;33m:\u001b[0m\u001b[1;33m\u001b[0m\u001b[1;33m\u001b[0m\u001b[0m\n\u001b[0;32m      4\u001b[0m     \u001b[0mprint\u001b[0m\u001b[1;33m(\u001b[0m\u001b[1;34m'Goodbye, world!'\u001b[0m\u001b[1;33m)\u001b[0m\u001b[1;33m\u001b[0m\u001b[1;33m\u001b[0m\u001b[0m\n",
      "\u001b[1;31mKeyboardInterrupt\u001b[0m: "
     ]
    }
   ],
   "source": [
    "try:\n",
    "    raise KeyboardInterrupt\n",
    "finally:\n",
    "    print('Goodbye, world!')"
   ]
  },
  {
   "cell_type": "code",
   "execution_count": 38,
   "id": "4a7352ef",
   "metadata": {},
   "outputs": [
    {
     "ename": "Exception",
     "evalue": "Sorry, no numbers below zero",
     "output_type": "error",
     "traceback": [
      "\u001b[1;31m---------------------------------------------------------------------------\u001b[0m",
      "\u001b[1;31mException\u001b[0m                                 Traceback (most recent call last)",
      "\u001b[1;32m~\\AppData\\Local\\Temp\\ipykernel_30176\\885689478.py\u001b[0m in \u001b[0;36m<module>\u001b[1;34m\u001b[0m\n\u001b[0;32m      2\u001b[0m \u001b[1;33m\u001b[0m\u001b[0m\n\u001b[0;32m      3\u001b[0m \u001b[1;32mif\u001b[0m \u001b[0mx\u001b[0m \u001b[1;33m<\u001b[0m \u001b[1;36m0\u001b[0m\u001b[1;33m:\u001b[0m\u001b[1;33m\u001b[0m\u001b[1;33m\u001b[0m\u001b[0m\n\u001b[1;32m----> 4\u001b[1;33m     \u001b[1;32mraise\u001b[0m \u001b[0mException\u001b[0m\u001b[1;33m(\u001b[0m\u001b[1;34m\"Sorry, no numbers below zero\"\u001b[0m\u001b[1;33m)\u001b[0m \u001b[1;31m# you can see our raised exception\u001b[0m\u001b[1;33m\u001b[0m\u001b[1;33m\u001b[0m\u001b[0m\n\u001b[0m",
      "\u001b[1;31mException\u001b[0m: Sorry, no numbers below zero"
     ]
    }
   ],
   "source": [
    "x = -1\n",
    "\n",
    "if x < 0:\n",
    "    raise Exception(\"Sorry, no numbers below zero\") # you can see our raised exception"
   ]
  },
  {
   "cell_type": "code",
   "execution_count": 39,
   "id": "f4ff4034",
   "metadata": {},
   "outputs": [
    {
     "name": "stdout",
     "output_type": "stream",
     "text": [
      "Enter a number: 1\n"
     ]
    },
    {
     "ename": "AssertionError",
     "evalue": "Enter number is less than five",
     "output_type": "error",
     "traceback": [
      "\u001b[1;31m---------------------------------------------------------------------------\u001b[0m",
      "\u001b[1;31mAssertionError\u001b[0m                            Traceback (most recent call last)",
      "\u001b[1;32m~\\AppData\\Local\\Temp\\ipykernel_30176\\4291130840.py\u001b[0m in \u001b[0;36m<module>\u001b[1;34m\u001b[0m\n\u001b[0;32m      2\u001b[0m \u001b[1;31m#if condition returns True, AssertionError is raised:\u001b[0m\u001b[1;33m\u001b[0m\u001b[1;33m\u001b[0m\u001b[0m\n\u001b[0;32m      3\u001b[0m \u001b[0mnum\u001b[0m\u001b[1;33m=\u001b[0m\u001b[0mint\u001b[0m\u001b[1;33m(\u001b[0m\u001b[0minput\u001b[0m\u001b[1;33m(\u001b[0m\u001b[1;34m'Enter a number: '\u001b[0m\u001b[1;33m)\u001b[0m\u001b[1;33m)\u001b[0m\u001b[1;33m\u001b[0m\u001b[1;33m\u001b[0m\u001b[0m\n\u001b[1;32m----> 4\u001b[1;33m \u001b[1;32massert\u001b[0m \u001b[0mnum\u001b[0m\u001b[1;33m>=\u001b[0m\u001b[1;36m5\u001b[0m\u001b[1;33m,\u001b[0m\u001b[1;34m\"Enter number is less than five\"\u001b[0m\u001b[1;33m\u001b[0m\u001b[1;33m\u001b[0m\u001b[0m\n\u001b[0m\u001b[0;32m      5\u001b[0m \u001b[0mprint\u001b[0m\u001b[1;33m(\u001b[0m\u001b[1;34m'You entered: '\u001b[0m\u001b[1;33m,\u001b[0m \u001b[0mnum\u001b[0m\u001b[1;33m)\u001b[0m\u001b[1;33m\u001b[0m\u001b[1;33m\u001b[0m\u001b[0m\n",
      "\u001b[1;31mAssertionError\u001b[0m: Enter number is less than five"
     ]
    }
   ],
   "source": [
    "# assert keyword is used when debugging code.\n",
    "#if condition returns True, AssertionError is raised:\n",
    "num=int(input('Enter a number: '))\n",
    "assert num>=5,\"Enter number is less than five\"\n",
    "print('You entered: ', num)"
   ]
  },
  {
   "cell_type": "markdown",
   "id": "627a9f4c",
   "metadata": {},
   "source": [
    "## "
   ]
  },
  {
   "cell_type": "code",
   "execution_count": 41,
   "id": "c5704b6a",
   "metadata": {},
   "outputs": [
    {
     "name": "stdout",
     "output_type": "stream",
     "text": [
      "4\n"
     ]
    }
   ],
   "source": [
    "# Multitasking performing multiple tasks simultaneously. ex: os to perform different tasks at a time - downloading,watching.\n",
    "# this helps to save time but also increases productivity.\n",
    "# two types of multitasking in an OS:\n",
    "# -Process-based\n",
    "# -Thread-based       Will discuss this now\n",
    "\n",
    "# A process is a program under execution i.e an active program.\n",
    "# A single process can consist of multiple threads. a thread is a lightweight process and independent flow of execution.\n",
    "# Each thread in a program performs a particular task.\n",
    "# Ex:Pubg game(whole is single process) and its music, userinput, voice  exchange are different threads.\n",
    "\n",
    "#Every process will have atleast one thread always running i.e,Main thread. this mainthread will create new child thread objects.\n",
    "\n",
    "\n",
    "#prefer thread or process\n",
    "# Sharing information between processes is slower than sharing between threads as processes do not share memory space.\n",
    "# Context switches between threads are faster than between processes.\n",
    "\n",
    "#difference\n",
    "# threads run in the same memory space, while processes have separate memory.\n",
    "\n",
    "# Processes speed up Python operations that are CPU intensive because they benefit from multiple cores and avoid the GIL.\n",
    "# Threads are best for I/O tasks involving external systems because threads can combine their work more efficiently. Processes need to pickle their results to combine them which takes time.\n",
    "# Threads provide no benefit in python for CPU intensive tasks because of the GIL.\n",
    "\n",
    "\n",
    "# Two processes can execute code simultaneously in the same python program\n",
    "# Two threads cannot execute code simultaneously in the same python program\n",
    "\n",
    "# Multithreading refers to concurrently executing multiple threads by rapidly switching the control of the CPU between \n",
    "#threads (called context switching). This can be done with GIL\n",
    "\n",
    "# Global Interpreter Lock (GIL) is a mutex that allows running a single thread at a time even if we have multiple cores in machine.\n",
    "# GIL restricts parallel programming and reduces efficiency.\n",
    "\n",
    "\n",
    "# Why does python need GIL?\n",
    "# Python has a feature “reference-counter”, which is used for memory management.\n",
    "#When an object is declared in python, there’s a reference-counter variable dedicated to it. \n",
    "#This will keep track of the number of references that point to the particular object.\n",
    "#When the reference counts reach zero, the assigned memory of the object is released.\n",
    "#This reference counter needs to be protected in order for it from being accidentally released from memory, which is what GIL does.\n",
    "\n",
    "import sys #1 declare\n",
    "a = 'apple' #2 initialize\n",
    "b=a #3 assign\n",
    "print(sys.getrefcount(a)) #4\n",
    "\n",
    "# there is a possibility that the two threads might increase or decrease the counter’s value at the same time.\n",
    "# Because of this, the variable might be incorrectly released from the memory while a reference to that object still exists.\n",
    "# It can cause leaked memory, even end up in system crash or numerous bugs. \n",
    "# Hence, GIL protects the reference counter by disabling multi-threading in Python."
   ]
  },
  {
   "cell_type": "code",
   "execution_count": 42,
   "id": "c968ea51",
   "metadata": {},
   "outputs": [],
   "source": [
    "# Multiple threads can exist within one process where:\n",
    "\n",
    "# Each thread contains its own register set and local variables (stored in stack).\n",
    "# All thread of a process share global variables (stored in heap) and the program code."
   ]
  },
  {
   "cell_type": "code",
   "execution_count": 43,
   "id": "8daf93a3",
   "metadata": {},
   "outputs": [
    {
     "name": "stdout",
     "output_type": "stream",
     "text": [
      "Square: 100Cube: 1000\n",
      "\n",
      "Done!\n"
     ]
    }
   ],
   "source": [
    "import threading\n",
    "def cube(num):\n",
    "    print(\"Cube: {}\".format(num * num * num))\n",
    "\n",
    "def square(num):\n",
    "    print(\"Square: {}\".format(num * num))\n",
    "\n",
    "t1 = threading.Thread(target=square, args=(10,))\n",
    "t2 = threading.Thread(target=cube, args=(10,))\n",
    "t1.start()\n",
    "t2.start()\n",
    "\n",
    "t1.join()#stop execution of current program until a thread is complete, we use join method.\n",
    "t2.join()\n",
    "\n",
    "print(\"Done!\")"
   ]
  },
  {
   "cell_type": "code",
   "execution_count": 44,
   "id": "3c2d5669",
   "metadata": {},
   "outputs": [
    {
     "name": "stdout",
     "output_type": "stream",
     "text": [
      "helo\n"
     ]
    },
    {
     "data": {
      "text/plain": [
       "'MainThread'"
      ]
     },
     "execution_count": 44,
     "metadata": {},
     "output_type": "execute_result"
    }
   ],
   "source": [
    "import threading\n",
    "def f():\n",
    "    print('helo')\n",
    "\n",
    "t=threading.Thread(target=f)\n",
    "t.start()\n",
    "threading.current_thread().getName()"
   ]
  },
  {
   "cell_type": "code",
   "execution_count": 45,
   "id": "0598bf2d",
   "metadata": {},
   "outputs": [
    {
     "data": {
      "text/plain": [
       "'MainThread'"
      ]
     },
     "execution_count": 45,
     "metadata": {},
     "output_type": "execute_result"
    }
   ],
   "source": [
    "threading.current_thread().getName()"
   ]
  },
  {
   "cell_type": "code",
   "execution_count": null,
   "id": "0081feb8",
   "metadata": {},
   "outputs": [],
   "source": []
  }
 ],
 "metadata": {
  "kernelspec": {
   "display_name": "Python 3 (ipykernel)",
   "language": "python",
   "name": "python3"
  },
  "language_info": {
   "codemirror_mode": {
    "name": "ipython",
    "version": 3
   },
   "file_extension": ".py",
   "mimetype": "text/x-python",
   "name": "python",
   "nbconvert_exporter": "python",
   "pygments_lexer": "ipython3",
   "version": "3.10.9"
  }
 },
 "nbformat": 4,
 "nbformat_minor": 5
}
