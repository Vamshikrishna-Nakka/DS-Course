{
 "cells": [
  {
   "cell_type": "markdown",
   "id": "75e5bb40",
   "metadata": {},
   "source": [
    "## Iterators"
   ]
  },
  {
   "cell_type": "code",
   "execution_count": 16,
   "id": "d108392e",
   "metadata": {},
   "outputs": [
    {
     "name": "stdout",
     "output_type": "stream",
     "text": [
      "1\n",
      "2\n",
      "3\n",
      "4\n",
      "5\n",
      "<list_iterator object at 0x0000021BB9ABBF70>\n"
     ]
    }
   ],
   "source": [
    "# Iterator in Python is an object that is used to iterate over iterable objects like lists, tuples, dicts, and sets.\n",
    "# iterator object is initialized using the iter() method. It uses the next() method for iteration.\n",
    "\n",
    "l=[1,2,3,4,5,6]  # iterators are iterable objects with iter function we neeed to initiatize.\n",
    "p=iter(l)\n",
    "print(next(p))\n",
    "print(next(p))\n",
    "print(next(p))\n",
    "print(next(p))\n",
    "print(next(p))\n",
    "print(p)"
   ]
  },
  {
   "cell_type": "code",
   "execution_count": 17,
   "id": "5c9e3624",
   "metadata": {},
   "outputs": [
    {
     "ename": "TypeError",
     "evalue": "'str' object is not an iterator",
     "output_type": "error",
     "traceback": [
      "\u001b[1;31m---------------------------------------------------------------------------\u001b[0m",
      "\u001b[1;31mTypeError\u001b[0m                                 Traceback (most recent call last)",
      "\u001b[1;32m~\\AppData\\Local\\Temp\\ipykernel_12072\\2214109680.py\u001b[0m in \u001b[0;36m<module>\u001b[1;34m\u001b[0m\n\u001b[0;32m      1\u001b[0m \u001b[0ma\u001b[0m \u001b[1;33m=\u001b[0m \u001b[1;34m\"hello\"\u001b[0m \u001b[1;31m#defining a string\u001b[0m\u001b[1;33m\u001b[0m\u001b[1;33m\u001b[0m\u001b[0m\n\u001b[1;32m----> 2\u001b[1;33m \u001b[0mprint\u001b[0m\u001b[1;33m(\u001b[0m\u001b[0mnext\u001b[0m\u001b[1;33m(\u001b[0m\u001b[0ma\u001b[0m\u001b[1;33m)\u001b[0m\u001b[1;33m)\u001b[0m\u001b[1;33m\u001b[0m\u001b[1;33m\u001b[0m\u001b[0m\n\u001b[0m",
      "\u001b[1;31mTypeError\u001b[0m: 'str' object is not an iterator"
     ]
    }
   ],
   "source": [
    "a = \"hello\"         # defining a string\n",
    "print(next(a))      # If we use a variable that is not iterable in the next method then we get 'TypeError'"
   ]
  },
  {
   "cell_type": "code",
   "execution_count": 18,
   "id": "2448fdad",
   "metadata": {},
   "outputs": [
    {
     "name": "stdout",
     "output_type": "stream",
     "text": [
      "0\n",
      "1\n",
      "0\n",
      "1\n"
     ]
    }
   ],
   "source": [
    "class ModOfTwo:\n",
    "    def __init__(self, max=0):\n",
    "        self.max = max\n",
    " \n",
    "    def __iter__(self):\n",
    "        self.n = 0\n",
    "        return self\n",
    " \n",
    "    def __next__(self):\n",
    "        if self.n <= self.max:\n",
    "            result = self.n % 2\n",
    "            self.n += 1\n",
    "            return result\n",
    "        else:\n",
    "            raise StopIteration\n",
    " \n",
    " \n",
    "# creating an object\n",
    "numbers = ModOfTwo(3)\n",
    " \n",
    "# creating an iterator object\n",
    "i = iter(numbers)\n",
    " \n",
    "print(next(i))\n",
    "print(next(i))\n",
    "print(next(i))\n",
    "print(next(i))"
   ]
  },
  {
   "cell_type": "code",
   "execution_count": null,
   "id": "5505e8b2",
   "metadata": {},
   "outputs": [],
   "source": [
    "# Iterator vs Iterable in Python\n",
    "\n",
    "# An iterator is an object which consists of __iter__() and __next__() (collectively these are known as iterator protocol).\n",
    "# An iterable is anything we can loop over using a loop."
   ]
  },
  {
   "cell_type": "code",
   "execution_count": 19,
   "id": "aabf8862",
   "metadata": {},
   "outputs": [
    {
     "name": "stdout",
     "output_type": "stream",
     "text": [
      "1\n",
      "2\n",
      "3\n",
      "4\n",
      "5\n",
      "1\n",
      "2\n",
      "3\n",
      "4\n"
     ]
    }
   ],
   "source": [
    "# How for loop uses Iterators in Python\n",
    "nums = [1, 2, 3, 4, 5]\n",
    "for i in nums:\n",
    "    print(i)\n",
    "\n",
    "\n",
    "# This is what happens behind the scenes\n",
    "nums = [1, 2, 3, 4]\n",
    "nums_iter_obj = iter(nums)\n",
    " \n",
    "while True:\n",
    "    try:\n",
    "        print(next(nums_iter_obj))\n",
    "    except StopIteration:\n",
    "        break"
   ]
  },
  {
   "cell_type": "markdown",
   "id": "693ad4d0",
   "metadata": {},
   "source": [
    "## Generators"
   ]
  },
  {
   "cell_type": "code",
   "execution_count": 11,
   "id": "1f8fe234",
   "metadata": {},
   "outputs": [
    {
     "name": "stdout",
     "output_type": "stream",
     "text": [
      "[1, 2]\n",
      "['1', 'b']\n",
      "3\n",
      "Received on next():  0\n",
      "Received on next():  1\n",
      "Received on next():  2\n",
      "Received on next():  3\n",
      "Received on next():  4\n"
     ]
    }
   ],
   "source": [
    "# Generators are same like normal function but instead of return uses yield because it won't terminate it iterates the \n",
    "# values like iterators,Generators are useful when we want to produce a large sequence of values, but we dont want to store\n",
    "# all of them in memory at once.\n",
    "\n",
    "\n",
    "# return --- returns only once because all the local variables are destroyed and the resulting value is given back (returned) \n",
    "#            to the caller. Should the same function be called some time later, the function will get a fresh new set of variables.\n",
    "# yield ---  returns multiple times because But what if the local variables arent thrown away when we exit a function? This\n",
    "#            implies that we can resume the function where we left off. This is where the concept of generators are \n",
    "#            introduced and the yield statement resumes where the function left off.\n",
    "\n",
    "# function resumes when next() is issued to the iterator object. The function finally terminates when next() encounters the\n",
    "# StopIteration error.\n",
    "\n",
    "# Generator Function\n",
    "def Gen():\n",
    "    a=[1,2]\n",
    "    yield a\n",
    "    b=['1','b']\n",
    "    yield b\n",
    "    yield 3     #return returns only once but yield returns multiple until ends the\n",
    "x = Gen()\n",
    "print(next(x))\n",
    "print(next(x))\n",
    "print(next(x))\n",
    "\n",
    "# Generator Function Using for Loop\n",
    "def square_of_sequence(x):\n",
    "    for i in range(x):\n",
    "        yield i\n",
    "        \n",
    "gen=square_of_sequence(5)\n",
    "while True:\n",
    "    try:\n",
    "        print (\"Received on next(): \", next(gen))\n",
    "    except StopIteration:\n",
    "        break"
   ]
  },
  {
   "cell_type": "code",
   "execution_count": 12,
   "id": "cfc3803e",
   "metadata": {},
   "outputs": [
    {
     "name": "stdout",
     "output_type": "stream",
     "text": [
      "4 6 "
     ]
    }
   ],
   "source": [
    "def p(t) :\n",
    "    for i in t:\n",
    "        if i % 2 == 0:\n",
    "            yield i\n",
    "            \n",
    "            \n",
    "t= [1, 4, 5, 6, 7]\n",
    "g= p(t)\n",
    "\n",
    "for j in g:\n",
    "    print (j, end = \" \")"
   ]
  },
  {
   "cell_type": "code",
   "execution_count": 13,
   "id": "def3f03d",
   "metadata": {},
   "outputs": [
    {
     "data": {
      "text/plain": [
       "[[0, 1, 2, 3, 4],\n",
       " [5, 6, 7, 8, 9],\n",
       " [10, 11, 12, 13, 14],\n",
       " [15, 16, 17, 18, 19],\n",
       " [20, 21, 22, 23, 24],\n",
       " [25, 26, 27, 28, 29],\n",
       " [30, 31, 32, 33, 34]]"
      ]
     },
     "execution_count": 13,
     "metadata": {},
     "output_type": "execute_result"
    }
   ],
   "source": [
    "# Example\n",
    "import itertools\n",
    "def fun():\n",
    "    l=[]\n",
    "    b=[]\n",
    "    for i in range(50):\n",
    "        l.append(i)\n",
    "    for i in itertools.count(0,5):\n",
    "        if i==35:\n",
    "            break\n",
    "        else:\n",
    "            yield l[i:i+5]\n",
    "b=fun()\n",
    "list(b)"
   ]
  },
  {
   "cell_type": "markdown",
   "id": "2ca461a1",
   "metadata": {},
   "source": [
    "## Coroutines"
   ]
  },
  {
   "cell_type": "code",
   "execution_count": null,
   "id": "08dbc142",
   "metadata": {},
   "outputs": [],
   "source": [
    "# We all are familiar with function which is also known as a subroutine, procedure, subprocess etc. A function is a sequence\n",
    "# of instructions packed as a unit to perform a certain task. When the logic of a complex function is divided into several\n",
    "# self-contained steps that are themselves functions, then these functions are called helper functions or subroutines."
   ]
  },
  {
   "cell_type": "code",
   "execution_count": null,
   "id": "ecb5a29b",
   "metadata": {},
   "outputs": [],
   "source": [
    "# Coroutines are similar to generators with a few differences. The main differences are:\n",
    "# 1) generators are data producers\n",
    "# 2) coroutines are data consumers\n",
    "\n",
    "# coroutines are first-class concepts that can be used to develop asynchronous programs.\n",
    "\n",
    "# Coroutine function: A function or method which is defined using async def.\n",
    "# A coroutine is a function that can pause and resume its execution.\n",
    "\n",
    "# Coroutine object: It is an object that is outputted by calling a coroutine function.\n",
    "# Asynchronous generator function: a function which is defined using async def and which uses the yield statement."
   ]
  },
  {
   "cell_type": "code",
   "execution_count": null,
   "id": "515baca2",
   "metadata": {},
   "outputs": [],
   "source": [
    "# Now you might be thinking how coroutine is different from threads, both seem to do the same job. \n",
    "# In the case of threads,it’s an operating system (or run time environment) that switches between threads according to the \n",
    "# scheduler. While in the case of a coroutine, it’s the programmer and programming language which decides when to switch \n",
    "# coroutines.\n",
    "\n",
    "# Coroutines work cooperatively multitask by suspending and resuming at set points by the programmer."
   ]
  },
  {
   "cell_type": "code",
   "execution_count": 1,
   "id": "dfeec325",
   "metadata": {},
   "outputs": [
    {
     "name": "stdout",
     "output_type": "stream",
     "text": [
      "Searching prefix:Dear\n",
      "Dear Atul\n",
      "Closing coroutine!!\n"
     ]
    }
   ],
   "source": [
    "def print_name(prefix):\n",
    "    print(\"Searching prefix:{}\".format(prefix))\n",
    "    try :\n",
    "        while True:\n",
    "                name = (yield)\n",
    "                if prefix in name:\n",
    "                    print(name)\n",
    "    except GeneratorExit:\n",
    "            print(\"Closing coroutine!!\")\n",
    " \n",
    "corou = print_name(\"Dear\")\n",
    "corou.__next__()\n",
    "corou.send(\"Atul\")\n",
    "corou.send(\"Dear Atul\")\n",
    "corou.close()"
   ]
  },
  {
   "cell_type": "code",
   "execution_count": null,
   "id": "94ca45fa",
   "metadata": {},
   "outputs": [],
   "source": [
    "# defining\n",
    "async def fun():\n",
    "    print(\"Hello\")\n",
    "\n",
    "fun() # this will return a coroutine object it is not executed\n",
    "\n",
    "#pausing executing\n",
    "async def fun1():\n",
    "    await awaitable_object    #awaitable_objects are Tasks, coroutines and Futures.\n",
    "    print(\"krishna\")\n",
    "\n",
    "fun1() # here we use await to stop this function and to execute awaitable_object after completion this remainaing will execute.\n",
    "\n",
    "#Tasks are used to schedule coroutines concurrently.\n",
    "#A Future is a special low-level awaitable object that represents an eventual result of an asynchronous operation."
   ]
  },
  {
   "cell_type": "markdown",
   "id": "bc0fae84",
   "metadata": {},
   "source": [
    "## Decorators"
   ]
  },
  {
   "cell_type": "code",
   "execution_count": null,
   "id": "928666ba",
   "metadata": {},
   "outputs": [],
   "source": [
    "# Decorators are functions,which takes a function as argument and modifies the functionality of functions or class and \n",
    "# returns the function. this helps to make our code shorter and more Pythonic.\n",
    "\n",
    "# This is also called metaprogramming because a part of the program tries to modify another part of the program at compile time.\n",
    "\n",
    "# decorator function can be applied over a function using the @decorator syntax.\n",
    "\n",
    "# The reason decorators are useful is because they allow you to quickly and easily change the behavior of a function, \n",
    "# without having to directly modify a function.\n",
    "\n",
    "# built in decorators are\n",
    "# 1.@property       ---> Declares a method as a property's setter or getter methods.\n",
    "# 2.@classmethod    ---> Declares a method as a class's method that can be called using the class name.\n",
    "# 3.@staticmethod   ---> Declares a method as a static method.\n",
    "\n",
    "# Decorators only work on functions, and This is a Higher-order functions."
   ]
  },
  {
   "cell_type": "code",
   "execution_count": 2,
   "id": "29028ef1",
   "metadata": {},
   "outputs": [
    {
     "name": "stdout",
     "output_type": "stream",
     "text": [
      "Hello\n",
      "Hello! How are you?\n"
     ]
    }
   ],
   "source": [
    "# Functions are objects\n",
    "# In Python everything is an object, including functions. This means functions can be passed around and returned. When you\n",
    "# see it, it may look odd at first:\n",
    "# Call the methods either message() or hello() and they have the same output. That’s because they refer to the same object.\n",
    "\n",
    "    \n",
    "def hello():                                                                                                \n",
    "    print(\"Hello\")                                                                                          \n",
    "                                                                                                                                                                       \n",
    "message = hello                   # even functions are objects                                                                                                                                                     \n",
    "message()                         # call new function   \n",
    "\n",
    "\n",
    "# Functions are decorators\n",
    "# Example:\n",
    "def mydec(fn):\n",
    "    def inner_function():        \n",
    "        fn()\n",
    "        print('How are you?')\n",
    "    return inner_function\n",
    "\n",
    "@mydec\n",
    "def greet():\n",
    "    print('Hello! ', end='')\n",
    "\n",
    "greet()"
   ]
  },
  {
   "cell_type": "code",
   "execution_count": 1,
   "id": "4a293d4b",
   "metadata": {},
   "outputs": [
    {
     "name": "stdout",
     "output_type": "stream",
     "text": [
      "Before decorating:\n",
      "a toy\n",
      "<function gift at 0x000001CE9BD6D790>\n",
      "After decorating:\n",
      "wrapping\n",
      "a toy\n",
      "with a Christmas-y wrapper\n",
      "<function christmas_decorator.<locals>.wrapper at 0x000001CE9BD900D0>\n"
     ]
    }
   ],
   "source": [
    "def christmas_decorator(func):\n",
    "    def wrapper():\n",
    "        print(\"wrapping\")\n",
    "        func()\n",
    "        print(\"with a Christmas-y wrapper\")\n",
    "    return wrapper\n",
    "\n",
    "def gift():\n",
    "    print(\"a toy\")\n",
    "\n",
    "print(\"Before decorating:\")\n",
    "gift()\n",
    "print(gift) # <function gift at 0x7f12ffd0c1f0>\n",
    "\n",
    "print(\"After decorating:\")\n",
    "gift = christmas_decorator(gift)\n",
    "gift()\n",
    "print(gift)"
   ]
  },
  {
   "cell_type": "code",
   "execution_count": 4,
   "id": "12a3e502",
   "metadata": {},
   "outputs": [
    {
     "name": "stdout",
     "output_type": "stream",
     "text": [
      "We wish you a Merry Christmas...\n",
      "We wish you a Merry Christmas...\n",
      "We wish you a Merry Christmas...\n",
      "Happy New Year, Josiah Wang!\n",
      "Happy New Year, Josiah Wang!\n",
      "Happy New Year, Josiah Wang!\n",
      "Happy New Year, Josiah Wang!\n",
      "Happy New Year, Josiah Wang!\n",
      "<function n_repeat.<locals>.repeat.<locals>.wrapper at 0x000001CE9BD90430>\n"
     ]
    }
   ],
   "source": [
    "# Decorators with parameters\n",
    "def n_repeat(times):\n",
    "    def repeat(func):\n",
    "        def wrapper(*args, **kwargs):\n",
    "            for i in range(times):\n",
    "                func(*args, **kwargs)\n",
    "        return wrapper\n",
    "    return repeat\n",
    "\n",
    "@n_repeat(5)                                      # Pass in times as argument\n",
    "def greet(message, firstname, lastname):\n",
    "    print(f\"{message}, {firstname} {lastname}!\")\n",
    "\n",
    "@n_repeat(times=3)                                # You can also use keyword arguments\n",
    "def sing(line):\n",
    "    print(line)\n",
    "\n",
    "sing(\"We wish you a Merry Christmas...\")\n",
    "greet(\"Happy New Year\", \"Josiah\", \"Wang\")\n",
    "\n",
    "print(sing)"
   ]
  },
  {
   "cell_type": "code",
   "execution_count": 9,
   "id": "58cd9ffa",
   "metadata": {},
   "outputs": [
    {
     "name": "stdout",
     "output_type": "stream",
     "text": [
      "<html>\n",
      "<body>\n",
      "This is my text\n",
      "</body>\n",
      "</html>\n"
     ]
    }
   ],
   "source": [
    "# decorate a function with multiple decorators. They will be executed in the order that they are listed.\n",
    "\n",
    "def html(func):\n",
    "    def wrapper(*args, **kwargs):\n",
    "        print(\"<html>\")\n",
    "        func(*args, **kwargs)\n",
    "        print(\"</html>\")\n",
    "    return wrapper\n",
    "\n",
    "def body(func):\n",
    "    def wrapper(*args, **kwargs):\n",
    "        print(\"<body>\")\n",
    "        func(*args, **kwargs)\n",
    "        print(\"</body>\")\n",
    "    return wrapper\n",
    "\n",
    "@html\n",
    "@body\n",
    "def text_printer(text):        # decorated function will be equivalent to: text_printer = html(body(text_printer))\n",
    "    print(text)\n",
    "\n",
    "text_printer(\"This is my text\")"
   ]
  },
  {
   "cell_type": "markdown",
   "id": "6d9a8639",
   "metadata": {},
   "source": [
    "## Context manager"
   ]
  },
  {
   "cell_type": "code",
   "execution_count": 10,
   "id": "1983ffa0",
   "metadata": {},
   "outputs": [],
   "source": [
    "# In  programming we use file operations or databases - once we open them the file gets executed at end we close that if in\n",
    "# case there is an error in middle, then cursor wont move to close statement then the data leakage will happen.\n",
    "\n",
    "# We can manage such issues with excepting handling also but for automation stepup we have concept as context managers.\n",
    "\n",
    "# Context managers allow us to allocate and release resources precisely when we want to. i.e, locking and unlocking \n",
    "# resources and closing opened files.\n",
    "\n",
    "# this is an object that defines a runtime context executing within the \"with\" statement.\n",
    "\n",
    "\n",
    "#  When creating context managers using classes, user need to ensure that the class has the methods: __enter__() and \n",
    "# __exit__(). The __enter__() returns the resource that needs to be managed and the __exit__() does not return anything \n",
    "# but performs the cleanup operations.\n",
    "\n",
    "\n",
    "# Case1\n",
    "with open('some_file', 'w') as opened_file:    # opens the file, writes some data to it and then closes it. If an error\n",
    "    opened_file.write('Hola!')                 #  occurs while writing the data to the file, it tries to close it.\n",
    "                                               # main advantage of using a with statement is that it makes sure our file is \n",
    "                                               # closed without paying attention to how the nested block exits.\n",
    "# Case2\n",
    "file = open('some_file', 'w')                  \n",
    "try:                                          \n",
    "    file.write('Hola!')\n",
    "finally:\n",
    "    file.close()\n",
    "    \n",
    "# Case1 and Case2 both are same one with context manager and another with exception handling."
   ]
  },
  {
   "cell_type": "code",
   "execution_count": 11,
   "id": "4b6a0185",
   "metadata": {},
   "outputs": [
    {
     "name": "stdout",
     "output_type": "stream",
     "text": [
      "True\n"
     ]
    }
   ],
   "source": [
    "# Implementing a Context Manager as a Class:\n",
    "\n",
    "# Let’s make our own file-opening Context Manager by defining __enter__ and __exit__ methods we can use our new class in\n",
    "# a with statement.\n",
    "\n",
    "# __exit__ method accepts three arguments,They are required by every __exit__ method which is a part of a Context Manager class.\n",
    "# with statement stores the __exit__ method of the File class.\n",
    "\n",
    "\n",
    "# with statement stores the __exit__ method of the File class. Then opens __enter__ method.\n",
    "\n",
    "class FileManager():\n",
    "    def __init__(self, filename, mode):\n",
    "        self.filename = filename\n",
    "        self.mode = mode\n",
    "        self.file = None\n",
    "         \n",
    "    def __enter__(self):\n",
    "        self.file = open(self.filename, self.mode)\n",
    "        return self.file\n",
    "     \n",
    "    def __exit__(self, exc_type, exc_value, exc_traceback):\n",
    "        self.file.close()\n",
    "\n",
    "# loading a file\n",
    "with FileManager('test.txt', 'w') as f:  \n",
    "    f.write('Test')                      \n",
    "\n",
    "print(f.closed)"
   ]
  },
  {
   "cell_type": "markdown",
   "id": "94d14166",
   "metadata": {},
   "source": [
    "## Function Caching"
   ]
  },
  {
   "cell_type": "code",
   "execution_count": 16,
   "id": "f300de76",
   "metadata": {},
   "outputs": [
    {
     "name": "stdout",
     "output_type": "stream",
     "text": [
      "Now running some work\n",
      "Called one\n",
      "Called two\n",
      "Called three\n",
      "Done... Calling again\n",
      "Called again\n",
      "CacheInfo(hits=1, misses=4, maxsize=20, currsize=4)\n"
     ]
    }
   ],
   "source": [
    "# Function Caching\n",
    "\n",
    "# Caching means storing the data in a place from where it can be served faster.\n",
    "\n",
    "# Function caching allows us to cache the return values of a function depending on the arguments. It can save time when an \n",
    "# I/O bound function is periodically called with the same arguments. Before Python 3.2 we had to write a custom \n",
    "# implementation. In Python 3.2+ there is an lru_cache decorator in fuctools which allows us to quickly cache and uncache \n",
    "# the return values of a function.\n",
    "\n",
    "# we can also mention the max size which mean how many times this cache function can be used. in a program we are using \n",
    "# 5 times but we mentioned max size 3 then first time takes time next 3 times it will be fast at a time due to cache and\n",
    "# remaining 1 it will take same time as first one.\n",
    "\n",
    "\n",
    "# functionname.cache_clear()     ----> for uncache we use this.\n",
    "\n",
    "import time\n",
    "from functools import lru_cache\n",
    "\n",
    "@lru_cache(maxsize=20)\n",
    "def some_work(n):\n",
    "    # Some task taking n seconds\n",
    "    time.sleep(n)\n",
    "    return n\n",
    "\n",
    "if __name__ == '__main__':\n",
    "    print(\"Now running some work\")\n",
    "    some_work(3)\n",
    "    print(\"Called one\")\n",
    "    some_work(1)\n",
    "    print(\"Called two\")\n",
    "    some_work(6)\n",
    "    print(\"Called three\")\n",
    "    some_work(2)\n",
    "    print(\"Done... Calling again\")\n",
    "    some_work(3)\n",
    "    print(\"Called again\")\n",
    "    \n",
    "print(some_work.cache_info())\n",
    "some_work.cache_clear()  "
   ]
  },
  {
   "cell_type": "code",
   "execution_count": 17,
   "id": "e24731a3",
   "metadata": {},
   "outputs": [
    {
     "name": "stdout",
     "output_type": "stream",
     "text": [
      "[0, 1, 1, 2, 3, 5, 8, 13, 21, 34]\n"
     ]
    }
   ],
   "source": [
    "@lru_cache(maxsize=32)\n",
    "def fib(n):\n",
    "    if n < 2:\n",
    "        return n\n",
    "    return fib(n-1) + fib(n-2)\n",
    "\n",
    "print([fib(n) for n in range(10)])\n",
    "\n",
    "\n",
    "fib.cache_clear() "
   ]
  },
  {
   "cell_type": "code",
   "execution_count": null,
   "id": "174def20",
   "metadata": {},
   "outputs": [],
   "source": [
    "# There are a couple of ways to achieve the same effect. You can create any type of caching mechanism. It entirely \n",
    "# depends upon your needs. Here is a generic cache:\n",
    "\n",
    "from functools import wraps\n",
    "def memoize(function):\n",
    "    memo = {}\n",
    "    @wraps(function)\n",
    "    def wrapper(*args):\n",
    "        try:\n",
    "            return memo[args]\n",
    "        except KeyError:\n",
    "            rv = function(*args)\n",
    "            memo[args] = rv\n",
    "            return rv\n",
    "    return wrapper\n",
    "\n",
    "@memoize\n",
    "def fibonacci(n):\n",
    "    if n < 2: return n\n",
    "    return fibonacci(n - 1) + fibonacci(n - 2)\n",
    "\n",
    "fibonacci(25)"
   ]
  },
  {
   "cell_type": "markdown",
   "id": "90aa8228",
   "metadata": {},
   "source": [
    "## Picking and Unpickling"
   ]
  },
  {
   "cell_type": "code",
   "execution_count": 12,
   "id": "b623ced0",
   "metadata": {},
   "outputs": [
    {
     "name": "stdout",
     "output_type": "stream",
     "text": [
      "['a', 'b', 'c', 'd']\n"
     ]
    }
   ],
   "source": [
    "# The process to converts any kind of python objects (list, dict, etc.) into byte streams (0s and 1s) is called \n",
    "# pickling or serialization\n",
    "\n",
    "#this can be done with dump() and load()\n",
    "\n",
    "import pickle\n",
    "mylist = ['a', 'b', 'c', 'd']\n",
    "\n",
    "with open('file.txt', 'wb') as fh:\n",
    "    pickle.dump(mylist, fh)              # pickling or serialization\n",
    "    \n",
    "     \n",
    "with open('file.txt', 'rb') as f:        # unpicking or deserialization \n",
    "    print(pickle.load(f))"
   ]
  },
  {
   "cell_type": "markdown",
   "id": "fd0890c5",
   "metadata": {},
   "source": [
    "## Zip and unzip"
   ]
  },
  {
   "cell_type": "code",
   "execution_count": 15,
   "id": "b45504ee",
   "metadata": {},
   "outputs": [
    {
     "name": "stdout",
     "output_type": "stream",
     "text": [
      "[('Joe', 'Schmoe', 23), ('Earnst', 'Ehlmann', 65), ('Thomas', 'Fischer', 11), ('Martin', 'Walter', 36), ('Charles', 'Rogan', 83)]\n",
      "Joe Schmoe is 23 years old\n",
      "Earnst Ehlmann is 65 years old\n",
      "Thomas Fischer is 11 years old\n",
      "Martin Walter is 36 years old\n",
      "Charles Rogan is 83 years old\n",
      "first name: ('Joe', 'Earnst', 'Thomas', 'Martin', 'Charles')\n",
      "last name: ('Schmoe', 'Ehlmann', 'Fischer', 'Walter', 'Rogan') \n",
      "age: (23, 65, 11, 36, 83)\n"
     ]
    }
   ],
   "source": [
    "# Zip is a useful function that allows you to combine two lists easily. After calling zip, an iterator is returned. \n",
    "# In order to see the content wrapped inside, we need to first convert it to a list. One advantage of zip is that it \n",
    "# improves readability of for loops.\n",
    "\n",
    "first_name = ['Joe','Earnst','Thomas','Martin','Charles']\n",
    "last_name = ['Schmoe','Ehlmann','Fischer','Walter','Rogan','Green']\n",
    "age = [23, 65, 11, 36, 83]\n",
    "\n",
    "print(list(zip(first_name,last_name, age)))                              # Example 1\n",
    "\n",
    "for first_name, last_name, age in zip(first_name, last_name, age):       # Example 2 \n",
    "    print(f\"{first_name} {last_name} is {age} years old\")                # instead of needing multiple inputs, one zip\n",
    "    \n",
    "\n",
    "# Unzip We can use the zip function to unzip a list as well.This time,we need an input of a list with an asterisk before it\n",
    "\n",
    "full_name_list = [('Joe', 'Schmoe', 23),\n",
    "                  ('Earnst', 'Ehlmann', 65),\n",
    "                  ('Thomas', 'Fischer', 11),\n",
    "                  ('Martin', 'Walter', 36),\n",
    "                  ('Charles', 'Rogan', 83)]\n",
    "\n",
    "first_name, last_name, age = list(zip(*full_name_list))\n",
    "print(f\"first name: {first_name}\\nlast name: {last_name} \\nage: {age}\")"
   ]
  },
  {
   "cell_type": "markdown",
   "id": "55295062",
   "metadata": {},
   "source": [
    "## Annotations"
   ]
  },
  {
   "cell_type": "code",
   "execution_count": 18,
   "id": "af832b45",
   "metadata": {},
   "outputs": [
    {
     "name": "stdout",
     "output_type": "stream",
     "text": [
      "{'num1': <class 'int'>, 'num2': <class 'int'>, 'return': <class 'int'>}\n",
      "{'my_var': <class 'int'>}\n"
     ]
    }
   ],
   "source": [
    "# # static typed\n",
    "# int var;         # var is declared as integer\n",
    "# var = 10;        # integer 10 is assigned to var\n",
    "# var = 'hello';   # this throws error as you can't change the type\n",
    "\n",
    "# # dynamic typed\n",
    "# var = 10        # var is reference to integer object\n",
    "# var = 'hello'   # var can now reference to string object\n",
    "\n",
    "# One of the issues with dynamically typed language is that type errors are caught only in the run-time. Python provides a \n",
    "# way to handle this with the help of annotations.\n",
    "\n",
    "# annotations are Python features that hint developers about the data types of the variables or function parameters and \n",
    "# return type so that type errors are caught before the run time. They also increase the readability of your Python program.\n",
    "\n",
    "# 2 Types of annotations:\n",
    "# 1. Functional\n",
    "# 2. Variable(type)\n",
    "\n",
    "def func2(num1: int, num2: int) -> int: # def func(a: <expression>, b: <expression>) -> <expression or return type expect>:\n",
    "    return num1 + num2\n",
    "\n",
    "func2(2,5)\n",
    "print(func2.__annotations__)            # accessing them because they stored over here.\n",
    "\n",
    "\n",
    "# Variable\n",
    "\n",
    "# There should be no space before the colon.\n",
    "# There should be one space after the colon.\n",
    "\n",
    "my_var:int=10\n",
    "print(__annotations__)\n",
    "\n",
    "\n",
    "# this supports nested parameters, excess parameters(*args,**kwargs)"
   ]
  },
  {
   "cell_type": "markdown",
   "id": "f730f5dd",
   "metadata": {},
   "source": [
    "## Descriptors "
   ]
  },
  {
   "cell_type": "code",
   "execution_count": null,
   "id": "11c4657d",
   "metadata": {},
   "outputs": [],
   "source": [
    "# a descriptor is an object attribute with “binding behavior”, one whose attribute access has been overridden by methods\\\n",
    "# in the descriptor protocol.\n",
    "# Python descriptors were introduced in Python 2.2, along with new style classes, yet they remain widely unused. \n",
    "# Python descriptors are a way to create managed attributes. Among their many advantages, managed attributes are used to\n",
    "# protect an attribute from changes or to automatically update the values of a dependant attribute.\n",
    "# Descriptors increase an understanding of Python, and improve coding skills."
   ]
  },
  {
   "cell_type": "code",
   "execution_count": null,
   "id": "793c0072",
   "metadata": {},
   "outputs": [],
   "source": [
    "# Descriptors protocol:----\n",
    "\n",
    "# Python descriptor protocol is simply a way to specify what happens when an attribute is referenced on a model. It allows\n",
    "# a programmer to easily and efficiently manage attribute access:\n",
    "\n",
    "# 1. set\n",
    "# 2. get\n",
    "# 3. delete\n",
    "\n",
    "# In other programming languages, descriptors are referred to as setter and getter, where public functions are used to \n",
    "# Get and Set a private variable. Python doesnt have a private variables concept, and descriptor protocol can be considered\n",
    "# as a Pythonic way to achieve something similar.\n",
    "\n",
    "# In general, a descriptor is an object attribute with a binding behavior, one whose attribute access is overridden by\n",
    "# methods in the descriptor protocol. Those methods are __get__, __set__, and __delete__. If any of these methods are\n",
    "# defined for an object, it is said to be a descriptor. Take a closer look at these methods\n",
    "\n",
    "# ----Descriptor methods-----\n",
    "\n",
    "# get(self, instance, owner)  # accesses the attribute. It returns the value of the attribute, or raise the AttributeError\n",
    "                            # exception if a requested attribute is not present.\n",
    "# set(self, instance, value)  # is called in an attribute assignment operation. Returns nothing.\n",
    "# delete(self, instance)      # controls a delete operation. Returns nothing.\n",
    "\n",
    "# It is important to note that descriptors are assigned to a class, not an instance. Modifying the class overwrites or\n",
    "# deletes the descriptor itself, rather than triggering its code."
   ]
  },
  {
   "cell_type": "code",
   "execution_count": null,
   "id": "545026bd",
   "metadata": {},
   "outputs": [],
   "source": [
    "# When descriptors are needed ??\n",
    "\n",
    "# Consider an email attribute. Verification of the correct email format is necessary before assigning a value to that\n",
    "# attribute. This descriptor allows email to be processed through a regular expression and its format validated before\n",
    "# assigning it to an attribute.\n",
    "\n",
    "# In many other cases, Python protocol descriptors control access to attributes, such as protection of the name attribute."
   ]
  },
  {
   "cell_type": "code",
   "execution_count": 4,
   "id": "0e891a21",
   "metadata": {},
   "outputs": [],
   "source": [
    "# Creating descriptors using class methods\n",
    "           \n",
    "class Descriptor(object):\n",
    "\n",
    "    def init(self):\n",
    "        self.name = ''\n",
    "\n",
    "    def get(self, instance, owner):\n",
    "        print(\"Getting: %s\" % self.name)\n",
    "        return self.name\n",
    "\n",
    "    def _set(self, instance, name):\n",
    "        print(\"Setting: %s\" % name)\n",
    "        self._name = name.title()\n",
    "\n",
    "    def __delete(self, instance):\n",
    "        print(\"Deleting: %s\" %self._name)\n",
    "        del self._name\n",
    "\n",
    "class Person(object):\n",
    "    name = Descriptor()"
   ]
  },
  {
   "cell_type": "markdown",
   "id": "3b229388",
   "metadata": {},
   "source": [
    "## Dunder or magic methods"
   ]
  },
  {
   "cell_type": "code",
   "execution_count": null,
   "id": "02976a5c",
   "metadata": {},
   "outputs": [],
   "source": [
    "# Dunder (derived from double underscore) methods are special/magic predefined methods in Python, with names that start and \n",
    "# end with a double underscore. There  nothing really magical about them. \n",
    "\n",
    "# Examples of these include:\n",
    "\n",
    "# __init__ - constructor\n",
    "# __str__, __repr__ - object representation (casting to string, printing)\n",
    "# __len__, __next__... - generators\n",
    "# __enter__, __exit__ - context managers\n",
    "# __eq__, __lt__, __gt__ - operator overloading"
   ]
  },
  {
   "cell_type": "code",
   "execution_count": 2,
   "id": "3adb2a18",
   "metadata": {},
   "outputs": [
    {
     "name": "stdout",
     "output_type": "stream",
     "text": [
      "Object: Hello\n"
     ]
    }
   ],
   "source": [
    "class String:\n",
    "      \n",
    "    # magic method to initiate object\n",
    "    def __init__(self, string):\n",
    "        self.string = string\n",
    "          \n",
    "    # print our string object\n",
    "    def __repr__(self):\n",
    "        return 'Object: {}'.format(self.string)\n",
    "    \n",
    "# Driver Code\n",
    "if __name__ == '__main__':\n",
    "      \n",
    "    # object creation\n",
    "    string1 = String('Hello')\n",
    "  \n",
    "    # print object location\n",
    "    print(string1)"
   ]
  },
  {
   "cell_type": "markdown",
   "id": "546a7491",
   "metadata": {},
   "source": [
    "## Shallow copy and Deep Copy"
   ]
  },
  {
   "cell_type": "code",
   "execution_count": 23,
   "id": "78cee1cf",
   "metadata": {},
   "outputs": [
    {
     "name": "stdout",
     "output_type": "stream",
     "text": [
      "[1, 100, 3, 4, 5] 1986888790464\n",
      "[1, 100, 3, 4, 5] 1986888790464\n"
     ]
    }
   ],
   "source": [
    "import copy\n",
    "\n",
    "# Using = operator\n",
    "l1= [1,2,3,4,5] \n",
    "l2=l1                           \n",
    "l2[1]=100\n",
    "print(l1, id(l1))          # changed on both varibales refering to same memory- one change other change.\n",
    "print(l2, id(l2))"
   ]
  },
  {
   "cell_type": "code",
   "execution_count": 24,
   "id": "d17f8caf",
   "metadata": {},
   "outputs": [
    {
     "name": "stdout",
     "output_type": "stream",
     "text": [
      "[1, 2, 3, 4, 5] 1986889656384\n",
      "[1, 500, 3, 4, 5] 1986889396608\n"
     ]
    }
   ],
   "source": [
    "# Shallow copy operation with copy()\n",
    "l1= [1,2,3,4,5] \n",
    "l2=copy.copy(l1) \n",
    "l2[1]=500\n",
    "print(l1, id(l1))\n",
    "print(l2, id(l2))          # both are refereing to different memory"
   ]
  },
  {
   "cell_type": "code",
   "execution_count": 25,
   "id": "58bcda49",
   "metadata": {},
   "outputs": [
    {
     "name": "stdout",
     "output_type": "stream",
     "text": [
      "chnages made on nested [[1, 2], [3, 500, 5]] 1986889397504\n",
      "chnages made on nested [[1, 2], [3, 500, 5]] 1986888895488\n",
      "chnages made at index of single [[1, 2], [3, 500, 5]] 1986889397504\n",
      "chnages made at index of single [[1, 2], 300] 1986888895488\n",
      "appended [[1, 2], [3, 4, 5]] 1986889360000\n",
      "appended [[1, 2], [3, 4, 5], [7, 8, 9]] 1986889396608\n"
     ]
    }
   ],
   "source": [
    "l1= [[1,2],[3,4,5]] \n",
    "l2=copy.copy(l1)  \n",
    "l2[1][1]=500\n",
    "print('chnages made on nested',l1, id(l1))          # when we change it reflected in both the list although id is different.\n",
    "print('chnages made on nested',l2, id(l2))\n",
    "l2[1]=300\n",
    "print('chnages made at index of single',l1, id(l1)) # but in single level change won't reflect on both because\n",
    "print('chnages made at index of single',l2, id(l2)) # when we create nested list it acts as collection of objects.\n",
    "\n",
    "\n",
    "# on appending\n",
    "l1= [[1,2],[3,4,5]] \n",
    "l2=c.copy(l1)\n",
    "l2.append([7,8,9])                                  # when we appened that elemets are not copying to both \n",
    "print('appended',l1, id(l1))\n",
    "print('appended',l2, id(l2))"
   ]
  },
  {
   "cell_type": "code",
   "execution_count": 26,
   "id": "1b187123",
   "metadata": {},
   "outputs": [
    {
     "name": "stdout",
     "output_type": "stream",
     "text": [
      "[1, 2, 3, 4, 5] 1986889375488\n",
      "[1, 500, 3, 4, 5] 1986889387392\n"
     ]
    }
   ],
   "source": [
    "# Deep copy operation with deepcopy()\n",
    "l1= [1,2,3,4,5] \n",
    "l2=c.deepcopy(l1) \n",
    "l2[1]=500\n",
    "print(l1, id(l1))\n",
    "print(l2, id(l2))              # this acting same like a shallow copy with single dimentional list. shallow == deepcopy"
   ]
  },
  {
   "cell_type": "code",
   "execution_count": 27,
   "id": "c97f75d6",
   "metadata": {},
   "outputs": [
    {
     "name": "stdout",
     "output_type": "stream",
     "text": [
      "[[1, 2], [3, 4, 5]] 1986889671104\n",
      "[[1, 2], [3, 4, 500]] 1986889606848\n",
      "appended [[1, 2], [3, 4, 5]] 1986889671104\n",
      "appended [[1, 2], [3, 4, 500], [7, 8, 9]] 1986889606848\n"
     ]
    }
   ],
   "source": [
    "l1= [[1,2],[3,4,5]] \n",
    "l2=c.deepcopy(l1)  \n",
    "l2[1][2]=500\n",
    "print(l1, id(l1)) \n",
    "print(l2, id(l2))\n",
    "\n",
    "l2.append([7,8,9])\n",
    "print('appended',l1, id(l1))    # shallow != deepcopy.\n",
    "print('appended',l2, id(l2))"
   ]
  },
  {
   "cell_type": "markdown",
   "id": "3bd08754",
   "metadata": {},
   "source": [
    "## Closures"
   ]
  },
  {
   "cell_type": "code",
   "execution_count": null,
   "id": "aecf23ba",
   "metadata": {},
   "outputs": [],
   "source": [
    "# Python closure is a nested function that allows us to access variables of the outer function even after the outer \n",
    "# function is closed.\n",
    "\n",
    "# Python Closures are these inner functions that are enclosed within the outer function. Closures can access variables\n",
    "# present in the outer function scope. It can access these variables even after the outer function has completed\n",
    "# its execution."
   ]
  },
  {
   "cell_type": "code",
   "execution_count": 5,
   "id": "869333dd",
   "metadata": {},
   "outputs": [
    {
     "name": "stdout",
     "output_type": "stream",
     "text": [
      "TechVidvan\n"
     ]
    }
   ],
   "source": [
    "# Scope of Variables in Nested Functions\n",
    "\n",
    "def outer(name):                 # this is the enclosing function\n",
    "    def inner():                 # this is the enclosed function\n",
    "        print(name)              # the inner function accessing the outer function's variable 'name'\n",
    "    inner()\n",
    "outer('TechVidvan')              # call the enclosing function\n",
    "\n",
    "\n",
    "# “Enclosed functions can access the variables of enclosing functions.”"
   ]
  },
  {
   "cell_type": "code",
   "execution_count": 6,
   "id": "f26e8e93",
   "metadata": {},
   "outputs": [
    {
     "name": "stdout",
     "output_type": "stream",
     "text": [
      "TechVidvan\n"
     ]
    }
   ],
   "source": [
    "# In the example above, we have called the inner function inside the outer function. The inner function becomes \n",
    "# a closure when we return the inner function instead of calling it.\n",
    "\n",
    "# So we have a closure in Python if satisfies below \n",
    "\n",
    "# 1. We have a nested function, i.e. function within a function\n",
    "# 2. The nested function refers to a variable of the outer function\n",
    "# 3. The enclosing function returns the enclosed function\n",
    "\n",
    "\n",
    "def outer(name):                 # this is the enclosing function\n",
    "    def inner():                 # this is the enclosed function\n",
    "        print(name)              # the inner function accessing the outer function's variable 'name'\n",
    "    return inner\n",
    "\n",
    "myFunction = outer('TechVidvan') # call the enclosing function\n",
    "myFunction()"
   ]
  },
  {
   "cell_type": "code",
   "execution_count": null,
   "id": "4085073d",
   "metadata": {},
   "outputs": [],
   "source": [
    "# Do you see what just happened here? \n",
    "# Even after ‘outer’ finishes its execution and all its variables go out of scope, the value passed to its argument is \n",
    "# still remembered.\n",
    "\n",
    "\n",
    "# When and Why do you need to use Closures in Python?\n",
    "# --To replace the unnecessary use of class: Suppose you have a class that contains just one method besides \n",
    "#     the __init__ method. In such cases, it is often more elegant to use a closure instead of a class.\n",
    "# --To avoid the use of the global scope: If you have global variables which only one function in your program will use,\n",
    "#     think closure. Define the variables in the outer function and use them in the inner function.\n",
    "# --To implement data hiding: The only way to access the enclosed function is by calling the enclosing function. There is\n",
    "#     no way to access the inner function directly.\n",
    "# --To remember a function environment even after it completes its execution: You can then access the variables of this\n",
    "#     environment later in your program."
   ]
  },
  {
   "cell_type": "code",
   "execution_count": null,
   "id": "0c7bcfec",
   "metadata": {},
   "outputs": [],
   "source": []
  },
  {
   "cell_type": "code",
   "execution_count": null,
   "id": "9604d2f8",
   "metadata": {},
   "outputs": [],
   "source": []
  },
  {
   "cell_type": "code",
   "execution_count": null,
   "id": "54b9d771",
   "metadata": {},
   "outputs": [],
   "source": []
  },
  {
   "cell_type": "code",
   "execution_count": null,
   "id": "fa0e120e",
   "metadata": {},
   "outputs": [],
   "source": []
  }
 ],
 "metadata": {
  "kernelspec": {
   "display_name": "Python 3 (ipykernel)",
   "language": "python",
   "name": "python3"
  },
  "language_info": {
   "codemirror_mode": {
    "name": "ipython",
    "version": 3
   },
   "file_extension": ".py",
   "mimetype": "text/x-python",
   "name": "python",
   "nbconvert_exporter": "python",
   "pygments_lexer": "ipython3",
   "version": "3.10.9"
  }
 },
 "nbformat": 4,
 "nbformat_minor": 5
}
