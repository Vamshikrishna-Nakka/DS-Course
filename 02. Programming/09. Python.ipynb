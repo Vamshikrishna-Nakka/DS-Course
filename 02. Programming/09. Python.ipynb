{
 "cells": [
  {
   "cell_type": "code",
   "execution_count": 3,
   "metadata": {},
   "outputs": [],
   "source": [
    "# primepi(n): It returns the number of prime numbers less than or equal to n.\n",
    "# prime(nth) : It returns the nth prime, with the primes indexed as prime(1) = 2. The nth prime is approximately n*log(n) and can never be larger than 2**n.\n",
    "# sieve.primerange(a, b): It generates all prime numbers in the range [a, b), implemented as a dynamically growing sieve of Eratosthenes."
   ]
  },
  {
   "cell_type": "code",
   "execution_count": 4,
   "metadata": {},
   "outputs": [
    {
     "name": "stdout",
     "output_type": "stream",
     "text": [
      "False\n",
      "[47, 53, 59, 61, 67, 71, 73, 79, 83, 89, 97]\n",
      "71\n",
      "47\n",
      "53\n"
     ]
    }
   ],
   "source": [
    "import sympy as s\n",
    "print(s.isprime(44)) # returns true or false\n",
    "print(list(s.primerange(44,100))) #list of all prime numbers\n",
    "print(s.prevprime(73)) #previous  prime\n",
    "print(s.nextprime(44)) #next prime\n",
    "print(s.randprime(44,70))# random prime in between"
   ]
  },
  {
   "cell_type": "code",
   "execution_count": 10,
   "metadata": {},
   "outputs": [
    {
     "name": "stdout",
     "output_type": "stream",
     "text": [
      "Matrix([[0, 0, 0], [0, 0, 0]])\n",
      "Matrix([[1, 1, 1], [1, 1, 1]])\n",
      "Matrix([[1, 0, 0], [0, 1, 0], [0, 0, 1]])\n",
      "Matrix([[1, 0, 0], [0, 2, 0], [0, 0, 3]])\n",
      "154\n"
     ]
    }
   ],
   "source": [
    "import sympy\n",
    "print(sympy.zeros(2, 3))\n",
    "print(sympy.ones(2, 3))\n",
    "print(sympy.eye(3))#identity matrix \n",
    "print(sympy.diag(1, 2, 3))\n",
    "\n",
    "print(sympy.lcm(22,77))"
   ]
  },
  {
   "cell_type": "code",
   "execution_count": 3,
   "metadata": {},
   "outputs": [
    {
     "ename": "NameError",
     "evalue": "name 'M' is not defined",
     "output_type": "error",
     "traceback": [
      "\u001b[1;31m---------------------------------------------------------------------------\u001b[0m",
      "\u001b[1;31mNameError\u001b[0m                                 Traceback (most recent call last)",
      "Cell \u001b[1;32mIn[3], line 1\u001b[0m\n\u001b[1;32m----> 1\u001b[0m \u001b[43mM\u001b[49m\u001b[38;5;241m.\u001b[39meigenvals()\n\u001b[0;32m      2\u001b[0m M\u001b[38;5;241m.\u001b[39mcolumnspace()\n\u001b[0;32m      3\u001b[0m M\u001b[38;5;241m.\u001b[39meigenvects()\n",
      "\u001b[1;31mNameError\u001b[0m: name 'M' is not defined"
     ]
    }
   ],
   "source": [
    "M.eigenvals()\n",
    "M.columnspace()\n",
    "M.eigenvects()"
   ]
  },
  {
   "cell_type": "code",
   "execution_count": 2,
   "metadata": {},
   "outputs": [
    {
     "ename": "NameError",
     "evalue": "name 'python' is not defined",
     "output_type": "error",
     "traceback": [
      "\u001b[1;31m---------------------------------------------------------------------------\u001b[0m",
      "\u001b[1;31mNameError\u001b[0m                                 Traceback (most recent call last)",
      "Cell \u001b[1;32mIn[2], line 1\u001b[0m\n\u001b[1;32m----> 1\u001b[0m \u001b[43mpython\u001b[49m \u001b[38;5;241m-\u001b[39m\u001b[38;5;241m-\u001b[39mversion\n",
      "\u001b[1;31mNameError\u001b[0m: name 'python' is not defined"
     ]
    }
   ],
   "source": [
    "python --version"
   ]
  },
  {
   "cell_type": "code",
   "execution_count": null,
   "metadata": {},
   "outputs": [],
   "source": []
  }
 ],
 "metadata": {
  "interpreter": {
   "hash": "2ac21883b9071dd4ff4c462118cd782761a92edefb482082c84be5deb50e9118"
  },
  "kernelspec": {
   "display_name": "Python 3 (ipykernel)",
   "language": "python",
   "name": "python3"
  },
  "language_info": {
   "codemirror_mode": {
    "name": "ipython",
    "version": 3
   },
   "file_extension": ".py",
   "mimetype": "text/x-python",
   "name": "python",
   "nbconvert_exporter": "python",
   "pygments_lexer": "ipython3",
   "version": "3.10.9"
  }
 },
 "nbformat": 4,
 "nbformat_minor": 2
}
