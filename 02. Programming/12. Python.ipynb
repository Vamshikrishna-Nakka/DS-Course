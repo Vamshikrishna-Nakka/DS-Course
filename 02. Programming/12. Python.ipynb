{
 "cells": [
  {
   "cell_type": "code",
   "execution_count": 4,
   "id": "c598b059",
   "metadata": {},
   "outputs": [],
   "source": [
    "import time\n",
    "import calendar\n",
    "import timeit\n",
    "import datetime\n",
    "import pytz"
   ]
  },
  {
   "cell_type": "markdown",
   "id": "b96ab628",
   "metadata": {},
   "source": [
    "### Time"
   ]
  },
  {
   "cell_type": "code",
   "execution_count": 2,
   "id": "33dcc790",
   "metadata": {},
   "outputs": [
    {
     "data": {
      "text/plain": [
       "time.struct_time(tm_year=1970, tm_mon=1, tm_mday=1, tm_hour=0, tm_min=0, tm_sec=0, tm_wday=3, tm_yday=1, tm_isdst=0)"
      ]
     },
     "execution_count": 2,
     "metadata": {},
     "output_type": "execute_result"
    }
   ],
   "source": [
    "# What is epoch?\n",
    "# The epoch is the point where the time starts, It is January 1, 1970, 00:00:00 (UTC) on all Os platforms.\n",
    "# then at midnight on January 2, 1970 UTC as 86400 seconds since the epoch. i.e, 60 sec * 60 min * 24 hr = 86400\n",
    "# leap seconds are not counted towards the time in seconds since the epoch.\n",
    "\n",
    "\n",
    "time.gmtime(0) # to determine your system’s epoch:"
   ]
  },
  {
   "cell_type": "code",
   "execution_count": 3,
   "id": "3121895f",
   "metadata": {},
   "outputs": [
    {
     "name": "stdout",
     "output_type": "stream",
     "text": [
      "1686250219.3961654\n",
      "Fri Jun  9 00:20:19 2023\n"
     ]
    }
   ],
   "source": [
    "t=time.time()                 # returns the number of seconds that have passed since the epoch\n",
    "print(t)\n",
    "print(time.ctime(t))          # if we want to see current time as string,so we can pass time() seconds or any sec to it.\n",
    "                              # If you don’t pass an argument, then ctime() uses the return value of time() by default."
   ]
  },
  {
   "cell_type": "code",
   "execution_count": 4,
   "id": "ecbcef31",
   "metadata": {},
   "outputs": [],
   "source": [
    "# string representation of time, also known as a timestamp, returned by ctime() is formatted with the following structure:\n",
    "# Day of the week: Month of the year: Day of the month: Hours, minutes, and seconds using the 24-hour clock notation: Year:\n",
    "\n",
    "# outputs are different locations are different because the timestamp returned by ctime() depends on your geographical location.\n",
    "\n",
    "# representation of time dependent on your physical location is called local time and makes use of a concept called time zones."
   ]
  },
  {
   "cell_type": "code",
   "execution_count": 5,
   "id": "4f48418a",
   "metadata": {},
   "outputs": [],
   "source": [
    "# A time zone is a region of the world that conforms to a standardized time. Time zones are defined by their offset \n",
    "# from Coordinated Universal Time (UTC) and, potentially, the inclusion of daylight savings time.\n",
    "\n",
    "# UTC time is precisely measured using astronomical time, referring to the Earth’s rotation, and atomic clocks.\n",
    "\n",
    "# Every county is having different time zone, for UTC it mentions in the notation like UTC-5:00 or UTC+6:00"
   ]
  },
  {
   "cell_type": "code",
   "execution_count": 6,
   "id": "9ca14ca3",
   "metadata": {},
   "outputs": [],
   "source": [
    "# Daylight Savings Time\n",
    "\n",
    "# Summer months generally experience more daylight hours than winter months. Because of this, some areas observe daylight\n",
    "# savings time (DST) during the spring and summer to make better use of those daylight hours.\n",
    "\n",
    "# For places that observe DST, their clocks will jump ahead one hour at the beginning of spring (effectively losing an hour). \n",
    "# Then, in the fall, the clocks will be reset to standard time.\n",
    "\n",
    "# When you represent time as a tuple, each element in your tuple corresponds to a specific element of time:\n",
    "\n",
    "# 1.Year\n",
    "# 2.Month as an integer, ranging between 1 (January) and 12 (December)\n",
    "# 3.Day of the month\n",
    "# 4.Hour as an integer, ranging between 0 (12 A.M.) and 23 (11 P.M.)\n",
    "# 5.Minute\n",
    "# 6.Second\n",
    "# 7.Day of the week as an integer, ranging between 0 (Monday) and 6 (Sunday)\n",
    "# 8.Day of the year\n",
    "# 9.Daylight savings time as an integer with the following values:\n",
    "#        1 is daylight savings time.\n",
    "#        0 is standard time.\n",
    "#       -1 is unknown.\n"
   ]
  },
  {
   "cell_type": "code",
   "execution_count": 7,
   "id": "d3070091",
   "metadata": {},
   "outputs": [
    {
     "name": "stdout",
     "output_type": "stream",
     "text": [
      "time.struct_time(tm_year=2019, tm_mon=2, tm_mday=26, tm_hour=7, tm_min=6, tm_sec=55, tm_wday=1, tm_yday=57, tm_isdst=0)\n",
      "2019\n"
     ]
    }
   ],
   "source": [
    "from time import struct_time\n",
    "time_tuple = (2019, 2, 26, 7, 6, 55, 1, 57, 0)         # Tuple to struct_time\n",
    "time_obj = struct_time(time_tuple)\n",
    "print(time_obj)\n",
    "print(time_obj.tm_year)                                #  to know about year                           "
   ]
  },
  {
   "cell_type": "code",
   "execution_count": 8,
   "id": "1fe6392f",
   "metadata": {},
   "outputs": [
    {
     "name": "stdout",
     "output_type": "stream",
     "text": [
      "time.struct_time(tm_year=1970, tm_mon=1, tm_mday=1, tm_hour=0, tm_min=0, tm_sec=0, tm_wday=3, tm_yday=1, tm_isdst=0)\n",
      "time.struct_time(tm_year=1970, tm_mon=1, tm_mday=1, tm_hour=0, tm_min=0, tm_sec=1, tm_wday=3, tm_yday=1, tm_isdst=0)\n",
      "time.struct_time(tm_year=2023, tm_mon=6, tm_mday=8, tm_hour=18, tm_min=50, tm_sec=19, tm_wday=3, tm_yday=159, tm_isdst=0)\n",
      "1686250219\n"
     ]
    }
   ],
   "source": [
    "# Converting Python Time in Seconds to an Object\n",
    "\n",
    "# To convert a Python time float to a UTC-based struct_time, the Python time module provides a function called gmtime().\n",
    "print(time.gmtime(0))    # you’ve passed 0 as the number of seconds, meaning you’re trying to find the epoch, itself,in UTC.\n",
    "\n",
    "print(time.gmtime(1.99)) # number of seconds you passed was very close to 2, the .99 fractional seconds were simply ignored, as shown by tm_sec=1.\n",
    "\n",
    "print(time.gmtime())     # will provide the current time in UTC:\n",
    "\n",
    "print(calendar.timegm(time.gmtime())) # timegm() takes a tuple and returns the corresponding number of seconds since the epoch."
   ]
  },
  {
   "cell_type": "code",
   "execution_count": 9,
   "id": "0e69eb57",
   "metadata": {},
   "outputs": [
    {
     "name": "stdout",
     "output_type": "stream",
     "text": [
      "Fri Jun  9 00:20:19 2023\n",
      "None\n",
      "time.struct_time(tm_year=2023, tm_mon=6, tm_mday=9, tm_hour=0, tm_min=20, tm_sec=21, tm_wday=4, tm_yday=160, tm_isdst=0)\n"
     ]
    }
   ],
   "source": [
    "time.time()                     #  returns the number of seconds passed since epoch (the point where time begins).\n",
    "\n",
    "print(time.ctime(time.time()))  # takes seconds passed since epoch as an argument and returns a string representing local time.\n",
    "print(time.sleep(2.4))          # suspends (delays) execution of the current thread for the given number of seconds.\n",
    "\n",
    "print(time.localtime(time.time()))  # takes the number of seconds passed since epochs"
   ]
  },
  {
   "cell_type": "code",
   "execution_count": 10,
   "id": "935fa22e",
   "metadata": {},
   "outputs": [
    {
     "name": "stdout",
     "output_type": "stream",
     "text": [
      "year: 2023\n",
      "hour: 0\n",
      "India Standard Time\n",
      "19800\n",
      "0\n"
     ]
    }
   ],
   "source": [
    "l = time.localtime()\n",
    "print(\"year:\", l.tm_year)\n",
    "print(\"hour:\", l.tm_hour)\n",
    "print(l.tm_zone)\n",
    "print(l.tm_gmtoff)\n",
    "print(l.tm_isdst)"
   ]
  },
  {
   "cell_type": "code",
   "execution_count": 11,
   "id": "9b0ba05c",
   "metadata": {},
   "outputs": [
    {
     "data": {
      "text/plain": [
       "1686230421.0"
      ]
     },
     "execution_count": 11,
     "metadata": {},
     "output_type": "execute_result"
    }
   ],
   "source": [
    "# Converting a Local Time Object to Seconds use mktime()\n",
    "\n",
    "time.mktime(time.gmtime())      # convert strcut tuple to seconds"
   ]
  },
  {
   "cell_type": "code",
   "execution_count": 12,
   "id": "f1d9be02",
   "metadata": {},
   "outputs": [
    {
     "name": "stdout",
     "output_type": "stream",
     "text": [
      "Thu Jun  8 18:50:21 2023\n",
      "Fri Jun  9 00:20:21 2023\n",
      "2023-06-09\n",
      "Thu, 08 Jun 2023 18:50:21 +0000\n",
      "time.struct_time(tm_year=2023, tm_mon=7, tm_mday=14, tm_hour=0, tm_min=0, tm_sec=0, tm_wday=4, tm_yday=195, tm_isdst=-1)\n"
     ]
    }
   ],
   "source": [
    "# Converting a Python Time Object to a String  \n",
    "\n",
    "print(time.asctime(time.gmtime()))                    # UTC\n",
    "print(time.asctime(time.localtime()))                 # Local time\n",
    "\n",
    "\n",
    "print(time.strftime('%Y-%m-%d', time.localtime()))\n",
    "print(time.strftime(\"%a, %d %b %Y %H:%M:%S +0000\", time.gmtime()))\n",
    "\n",
    "\n",
    "# Converting a Python Time String to an Object\n",
    "\n",
    "t = \"14 July, 2023\"\n",
    "result = time.strptime(t, \"%d %B, %Y\")\n",
    "print(result)\n",
    "\n",
    "# %Y - year\n",
    "# %m - month\n",
    "# %d - day date\n",
    "# %H - hour\n",
    "# %M - minutes\n",
    "# %S - second"
   ]
  },
  {
   "cell_type": "code",
   "execution_count": 13,
   "id": "18595f57",
   "metadata": {},
   "outputs": [],
   "source": [
    "# import locale                              # change local time to chinese time\n",
    "# locale.setlocale(locale.LC_TIME, 'zh_HK')  # Chinese - Hong Kong \n",
    "# time.strftime('%c', time.localtime())"
   ]
  },
  {
   "cell_type": "code",
   "execution_count": 14,
   "id": "39688878",
   "metadata": {},
   "outputs": [
    {
     "data": {
      "text/plain": [
       "3.001930199970957"
      ]
     },
     "execution_count": 14,
     "metadata": {},
     "output_type": "execute_result"
    }
   ],
   "source": [
    "# Measuring Performance\n",
    "from time import perf_counter\n",
    "def longrunning_function():\n",
    "    for i in range(1, 11):\n",
    "        time.sleep(i / i ** 2)\n",
    "\n",
    "start = perf_counter()             # place a counter before your code begins execution\n",
    "longrunning_function()\n",
    "end = perf_counter()               # place a counter after your code begins execution\n",
    "execution_time = (end - start)\n",
    "execution_time"
   ]
  },
  {
   "cell_type": "markdown",
   "id": "40a7d614",
   "metadata": {},
   "source": [
    "### Timeit"
   ]
  },
  {
   "cell_type": "code",
   "execution_count": 15,
   "id": "b1b153f6",
   "metadata": {},
   "outputs": [],
   "source": [
    "# Measure execution time of small code snippets"
   ]
  },
  {
   "cell_type": "code",
   "execution_count": 16,
   "id": "10e2bd2e",
   "metadata": {},
   "outputs": [
    {
     "name": "stdout",
     "output_type": "stream",
     "text": [
      "0.014465500018559396\n",
      "The time taken is  0.03579310001805425\n"
     ]
    }
   ],
   "source": [
    "mysetup = \"5+5\"\n",
    "print(timeit.timeit(mysetup))\n",
    "print(\"The time taken is \",timeit.timeit\n",
    "                      (stmt='x=15;y=15;sum=x+y'))"
   ]
  },
  {
   "cell_type": "code",
   "execution_count": 17,
   "id": "bd096163",
   "metadata": {},
   "outputs": [
    {
     "name": "stdout",
     "output_type": "stream",
     "text": [
      "0.0009898000280372798\n"
     ]
    }
   ],
   "source": [
    "mysetup = \"from math import sqrt\"\n",
    "mycode = '''\n",
    "def example():\n",
    "    mylist = []\n",
    "    for x in range(100):\n",
    "        mylist.append(sqrt(x))\n",
    "'''\n",
    "print(timeit.timeit(setup=mysetup,\n",
    "                    stmt=mycode,\n",
    "                    number=10000))"
   ]
  },
  {
   "cell_type": "code",
   "execution_count": 27,
   "id": "8e0eab33",
   "metadata": {},
   "outputs": [
    {
     "data": {
      "text/plain": [
       "0.18368689995259047"
      ]
     },
     "execution_count": 27,
     "metadata": {},
     "output_type": "execute_result"
    }
   ],
   "source": [
    "timeit.timeit(lambda: \"-\".join(map(str, range(100))), number=10000)"
   ]
  },
  {
   "cell_type": "code",
   "execution_count": 18,
   "id": "b10c3cd9",
   "metadata": {},
   "outputs": [],
   "source": [
    "# timeit.default_timer() : This will return the default time when executed.\n",
    "# timeit.repeat(stmt, setup, timer, repeat, number) : same as timeit() , but with repeat the timeit() is called the number\n",
    "   # of times repeat is given."
   ]
  },
  {
   "cell_type": "code",
   "execution_count": 19,
   "id": "65118110",
   "metadata": {},
   "outputs": [
    {
     "name": "stdout",
     "output_type": "stream",
     "text": [
      "The start time is : 522370.4451973\n",
      "The difference of time is : 0.00016300001880154014\n"
     ]
    }
   ],
   "source": [
    "# default_timer()\n",
    "import random\n",
    "\n",
    "def fun():\n",
    "    return random.randint(100, 800)\n",
    " \n",
    "start = timeit.default_timer()\n",
    "print(\"The start time is :\", start)\n",
    "fun()\n",
    "print(\"The difference of time is :\",\n",
    "              timeit.default_timer() - start)"
   ]
  },
  {
   "cell_type": "code",
   "execution_count": 20,
   "id": "f32709f7",
   "metadata": {},
   "outputs": [
    {
     "name": "stdout",
     "output_type": "stream",
     "text": [
      "[0.10624160000588745, 0.11238170001888648, 0.093767799960915, 0.09359770000446588, 0.09393789997557178]\n"
     ]
    }
   ],
   "source": [
    "# timeit.repeat()\n",
    "import_module = \"import random\"\n",
    "testcode = ''' \n",
    "def test(): \n",
    "    return random.randint(10, 100)\n",
    "'''\n",
    "print(timeit.repeat(stmt=testcode, setup=import_module, repeat=5))"
   ]
  },
  {
   "cell_type": "markdown",
   "id": "7cef7cfc",
   "metadata": {},
   "source": [
    "### Calendar"
   ]
  },
  {
   "cell_type": "code",
   "execution_count": 57,
   "id": "0176d443",
   "metadata": {},
   "outputs": [],
   "source": [
    "import calendar"
   ]
  },
  {
   "cell_type": "code",
   "execution_count": 66,
   "id": "0321b5e3",
   "metadata": {},
   "outputs": [
    {
     "name": "stdout",
     "output_type": "stream",
     "text": [
      "    August 2022\n",
      "Tu We Th Fr Sa Su Mo\n",
      "                   1\n",
      " 2  3  4  5  6  7  8\n",
      " 9 10 11 12 13 14 15\n",
      "16 17 18 19 20 21 22\n",
      "23 24 25 26 27 28 29\n",
      "30 31\n",
      "\n",
      "    August 2022\n",
      "Tu We Th Fr Sa Su Mo\n",
      "                   1\n",
      " 2  3  4  5  6  7  8\n",
      " 9 10 11 12 13 14 15\n",
      "16 17 18 19 20 21 22\n",
      "23 24 25 26 27 28 29\n",
      "30 31\n",
      "None\n"
     ]
    }
   ],
   "source": [
    "print(calendar.month(2022,8))          # displays month\n",
    "print(calendar.prmonth(2022,8))        # same\n",
    "# print(calendar.calendar(2023))       # displays the year calender\n",
    "# print(calendar.prcal(2016))            # same "
   ]
  },
  {
   "cell_type": "code",
   "execution_count": 59,
   "id": "515d6235",
   "metadata": {},
   "outputs": [
    {
     "name": "stdout",
     "output_type": "stream",
     "text": [
      "True\n",
      "2\n",
      "['Monday', 'Tuesday', 'Wednesday', 'Thursday', 'Friday', 'Saturday', 'Sunday']\n",
      "['Mon', 'Tue', 'Wed', 'Thu', 'Fri', 'Sat', 'Sun']\n",
      "['', 'January', 'February', 'March', 'April', 'May', 'June', 'July', 'August', 'September', 'October', 'November', 'December']\n",
      "['', 'Jan', 'Feb', 'Mar', 'Apr', 'May', 'Jun', 'Jul', 'Aug', 'Sep', 'Oct', 'Nov', 'Dec']\n",
      "0\n",
      "1\n",
      "2\n",
      "3\n",
      "4\n",
      "5\n",
      "6\n"
     ]
    }
   ],
   "source": [
    "print(calendar.isleap(2016))          # to check the year is leap or not.\n",
    "print(calendar.leapdays(2016, 2022))  # no. of leap days.\n",
    "\n",
    "print(list(calendar.day_name))                   # gives all days\n",
    "print(list(calendar.day_abbr))                   # its abbrs\n",
    "print(list(calendar.month_name))                 # months\n",
    "print(list(calendar.month_abbr))                 # its abbs\n",
    "\n",
    "print(calendar.MONDAY)\n",
    "print(calendar.TUESDAY)\n",
    "print(calendar.WEDNESDAY)\n",
    "print(calendar.THURSDAY)\n",
    "print(calendar.FRIDAY)\n",
    "print(calendar.SATURDAY)\n",
    "print(calendar.SUNDAY)"
   ]
  },
  {
   "cell_type": "code",
   "execution_count": 60,
   "id": "98877569",
   "metadata": {},
   "outputs": [
    {
     "name": "stdout",
     "output_type": "stream",
     "text": [
      "1\n",
      "None\n",
      "None\n"
     ]
    }
   ],
   "source": [
    "print(calendar.firstweekday())                   # Returns the current setting for the weekday to start each week.\n",
    "print(calendar.setfirstweekday(calendar.SUNDAY)) # change week day start with other day\n",
    "print(calendar.setfirstweekday(1))"
   ]
  },
  {
   "cell_type": "code",
   "execution_count": 62,
   "id": "dc399eab",
   "metadata": {},
   "outputs": [
    {
     "name": "stdout",
     "output_type": "stream",
     "text": [
      "6\n",
      "Tue Wed Thu Fri Sat Sun Mon\n",
      "(6, 31)\n",
      "[[0, 0, 0, 0, 0, 1, 2], [3, 4, 5, 6, 7, 8, 9], [10, 11, 12, 13, 14, 15, 16], [17, 18, 19, 20, 21, 22, 23], [24, 25, 26, 27, 28, 29, 30], [31, 0, 0, 0, 0, 0, 0]]\n"
     ]
    }
   ],
   "source": [
    "print(calendar.weekday(2016, 5, 15))        # returns day in number\n",
    "print(calendar.weekheader(3))               # Specifies the width in characters for one weekday.\n",
    "print(calendar.monthrange(2016,5))          # get weekday of first day of the month and number of days in month(5)\n",
    "print(calendar.monthcalendar(2016,5))       # matrix representing a month’s calendar. Each row represents a week;"
   ]
  },
  {
   "cell_type": "code",
   "execution_count": 46,
   "id": "65f21698",
   "metadata": {},
   "outputs": [],
   "source": [
    "# calendar.timegm(tuple)                             # from tuple9 of time to seconds  "
   ]
  },
  {
   "cell_type": "code",
   "execution_count": 71,
   "id": "3825ab1c",
   "metadata": {},
   "outputs": [],
   "source": [
    "# tc= calendar.HTMLCalendar(firstweekday=0)\n",
    "# print(tc.formatmonth(2016, 5))                     # used to get a month’s calendar as an HTML table."
   ]
  },
  {
   "cell_type": "code",
   "execution_count": 72,
   "id": "0670ff06",
   "metadata": {},
   "outputs": [],
   "source": [
    "# tc= calendar.HTMLCalendar(firstweekday=0) \n",
    "# print(tc.formatyear(2016, 3))                      # used to get a year’s calendar as an HTML table."
   ]
  },
  {
   "cell_type": "code",
   "execution_count": 74,
   "id": "1eaee865",
   "metadata": {},
   "outputs": [],
   "source": [
    "# tc= calendar.HTMLCalendar(firstweekday=0)\n",
    "# print(tc.formatyearpage(2016, 3))                    # used to get a year’s calendar as a complete HTML page."
   ]
  },
  {
   "cell_type": "code",
   "execution_count": 113,
   "id": "c0c50044",
   "metadata": {},
   "outputs": [],
   "source": [
    "# cal= calendar.Calendar(firstweekday=1)\n",
    "# for x in cal.iterweekdays():                           # directly iteration days\n",
    "#     print(x)"
   ]
  },
  {
   "cell_type": "code",
   "execution_count": 90,
   "id": "1b3cd81b",
   "metadata": {},
   "outputs": [],
   "source": [
    "# for x in cal.itermonthdates(2016, 5):\n",
    "#     print(x)"
   ]
  },
  {
   "cell_type": "code",
   "execution_count": 91,
   "id": "82723029",
   "metadata": {},
   "outputs": [],
   "source": [
    "# for x in cal.itermonthdays2(2016, 5):\n",
    "#     print(x)"
   ]
  },
  {
   "cell_type": "code",
   "execution_count": 92,
   "id": "ae1bf98e",
   "metadata": {},
   "outputs": [],
   "source": [
    "# for x in cal.itermonthdays(2016, 5):\n",
    "#     print(x)"
   ]
  },
  {
   "cell_type": "code",
   "execution_count": 105,
   "id": "a99b735e",
   "metadata": {},
   "outputs": [],
   "source": [
    "# print(cal.monthdatescalendar(2016, 5))\n",
    "# print(cal.monthdays2calendar(2016, 5))\n",
    "# print(cal.monthdayscalendar(2016, 5))\n",
    "# print(cal.yeardatescalendar(2016, 3))\n",
    "# print(cal.yeardays2calendar(2016, 5))\n",
    "# print(cal.yeardayscalendar(2016, 5))"
   ]
  },
  {
   "cell_type": "code",
   "execution_count": 112,
   "id": "173905fe",
   "metadata": {},
   "outputs": [],
   "source": [
    "# tc= calendar.TextCalendar(firstweekday=0)\n",
    "# print(tc.formatmonth(2016, 5))\n",
    "\n",
    "# tc= calendar.TextCalendar(firstweekday=0)\n",
    "# print(tc.prmonth(2016, 5))"
   ]
  },
  {
   "cell_type": "code",
   "execution_count": 111,
   "id": "f5406046",
   "metadata": {},
   "outputs": [],
   "source": [
    "# tc= calendar.TextCalendar(firstweekday=0)\n",
    "# print(tc.formatyear(2016, 5))\n",
    "\n",
    "# tc= calendar.TextCalendar(firstweekday=0)\n",
    "# print(tc.pryear(2016, 5))"
   ]
  },
  {
   "cell_type": "markdown",
   "id": "19e47037",
   "metadata": {},
   "source": [
    "### DateTime"
   ]
  },
  {
   "cell_type": "code",
   "execution_count": 117,
   "id": "37eedbbf",
   "metadata": {},
   "outputs": [
    {
     "name": "stdout",
     "output_type": "stream",
     "text": [
      "['MAXYEAR', 'MINYEAR', '__all__', '__builtins__', '__cached__', '__doc__', '__file__', '__loader__', '__name__', '__package__', '__spec__', 'date', 'datetime', 'datetime_CAPI', 'sys', 'time', 'timedelta', 'timezone', 'tzinfo']\n"
     ]
    }
   ],
   "source": [
    "print(dir(datetime))"
   ]
  },
  {
   "cell_type": "code",
   "execution_count": 120,
   "id": "b83057dd",
   "metadata": {},
   "outputs": [
    {
     "name": "stdout",
     "output_type": "stream",
     "text": [
      "1\n",
      "9999\n"
     ]
    }
   ],
   "source": [
    "print(datetime.MINYEAR)   \n",
    "print(datetime.MAXYEAR)\n",
    "\n",
    "# First of all, we have to represent them in a standard, universally accepted format. Fortunately, the \n",
    "# International Organization for Standardization (ISO) developed a worldwide standard ISO 8601, which represents \n",
    "# date- and time-related objects as YYYY-MM-DD HH:MM:SS with information ranging from the most important (years,YYYY) \n",
    "# to the least important (seconds, SS). Each piece of this format is represented as a four- or two-digit number.\n",
    "\n",
    "The datetime module in Python has 5 main classes (parts of the module):\n",
    "\n",
    "1. date      -- to manipulate date objects, by default assumes Georgian calendar.\n",
    "                year, month, day\n",
    "    \n",
    "2. time      -- to manipulate time objects, that is every day has **24*60*60 seconds**. \n",
    "                hour, minute, second, microsecond, tzinfo\n",
    "    \n",
    "3. datetime  -- is a combination of date and time\n",
    "                year, month, day, hour, minute, second, microsecond, tzinfo\n",
    "    \n",
    "4. timedelta -- allows us to work with time duration\n",
    "\n",
    "5. tzinfo    -- allows us to work with timezones\n",
    "\n",
    "Additionally, we will use the \"zoneinfo\" module, which provides us a modern way of working with time zones, and the \n",
    "\"dateutil\" package, which contains plenty of useful functions to work with dates and times."
   ]
  },
  {
   "cell_type": "code",
   "execution_count": 154,
   "id": "4bf5aa01",
   "metadata": {},
   "outputs": [
    {
     "name": "stdout",
     "output_type": "stream",
     "text": [
      "2020-12-11\n",
      "Year: 2020\n",
      "Month: 12\n",
      "Day: 11\n",
      "2023-06-09\n",
      "0001-01-01\n",
      "9999-12-31\n",
      "2023-06-09\n",
      "Weekday using weekday(): 4\n",
      "Weekday using isoweekday(): 5\n",
      "proleptic Gregorian ordinal: 738680\n",
      "Date from ordinal 2018-11-02\n",
      "1 day, 0:00:00\n"
     ]
    }
   ],
   "source": [
    "# datetime.date\n",
    "\n",
    "my_date = datetime.date(2020, 12, 11)\n",
    "print(my_date)\n",
    "print(\"Year:\", my_date.year)\n",
    "print(\"Month:\",my_date.month)\n",
    "print(\"Day:\", my_date.day)\n",
    "\n",
    "my_date.replace(day=26)                             # \n",
    "\n",
    "t= datetime.date.today()                            # gives today date\n",
    "print(t)\n",
    "print(datetime.date.min)                            # min date       \n",
    "print(datetime.date.max)                            # max date\n",
    "print(datetime.date.isoformat(t))                   # Converting the date to the string\n",
    "print(\"Weekday using weekday():\", t.weekday())\n",
    "print(\"Weekday using isoweekday():\", t.isoweekday())\n",
    "print(\"proleptic Gregorian ordinal:\", t.toordinal())\n",
    "print(\"Date from ordinal\", datetime.date.fromordinal(737000))\n",
    "\n",
    "print(datetime.date.resolution)           # smallest possible difference between non-equal date objects, timedelta(days=1)."
   ]
  },
  {
   "cell_type": "code",
   "execution_count": 176,
   "id": "72066aeb",
   "metadata": {},
   "outputs": [
    {
     "name": "stdout",
     "output_type": "stream",
     "text": [
      "Hour:  12\n",
      "Minute:  14\n",
      "Second:  36\n",
      "MicroSecond:  0\n",
      "00:12:00\n",
      "00:00:00\n"
     ]
    }
   ],
   "source": [
    "# datetime.time\n",
    "   \n",
    "tt = datetime.time(12, 14, 36)\n",
    "print(\"Hour: \", tt.hour)\n",
    "print(\"Minute: \", tt.minute)\n",
    "print(\"Second: \", tt.second)\n",
    "print(\"MicroSecond: \",tt.microsecond)\n",
    "\n",
    "\n",
    "print(datetime.time(minute = 12))    \n",
    "print(datetime.time()) "
   ]
  },
  {
   "cell_type": "code",
   "execution_count": 200,
   "id": "8c5e1f12",
   "metadata": {},
   "outputs": [
    {
     "name": "stdout",
     "output_type": "stream",
     "text": [
      "2020-12-11 12:13:12.000111\n",
      "2023-06-10 14:19:17.793043\n",
      "Year:  2023\n",
      "Month:  6\n",
      "Dat:  10\n",
      "Hour:  14\n",
      "Minute:  19\n",
      "Second:  17\n",
      "MicroSecond:  793043\n",
      "Fold:  0\n",
      "TimeZone info:  None\n",
      "TimeZone info:  UTC\n"
     ]
    }
   ],
   "source": [
    "# datetime.datetime\n",
    "\n",
    "\n",
    "# MINYEAR(1) <= year <= MAXYEAR(9999)\n",
    "# 1 <= month <= 12\n",
    "# 1 <= day <= number of days in the given month and year\n",
    "# 0 <= hour < 24\n",
    "# 0 <= minute < 60\n",
    "# 0 <= second < 60\n",
    "# 0 <= microsecond < 1000000\n",
    "# fold in [0, 1]\n",
    "\n",
    "print(datetime.datetime(2020, 12, 11, 12, 13, 12, 111))\n",
    "\n",
    "f = datetime.datetime.today()                        # Return local DateTime with tzinfo as None\n",
    "print(f)\n",
    "print(\"Year: \", f.year)\n",
    "print(\"Month: \", f.month)\n",
    "print(\"Dat: \", f.day)\n",
    "print(\"Hour: \", f.hour)\n",
    "print(\"Minute: \", f.minute)\n",
    "print(\"Second: \", f.second)\n",
    "print(\"MicroSecond: \",f.microsecond)\n",
    "print(\"Fold: \", f.fold)\n",
    "print(\"TimeZone info: \", f.tzinfo)              # Before\n",
    "\n",
    "\n",
    "f=f.replace(tzinfo=datetime.timezone.utc)\n",
    "print(\"TimeZone info: \", f.tzinfo)              # After"
   ]
  },
  {
   "cell_type": "code",
   "execution_count": 204,
   "id": "8e16d33f",
   "metadata": {},
   "outputs": [
    {
     "name": "stdout",
     "output_type": "stream",
     "text": [
      "2023-06-10 14:24:06.241427\n",
      "2023-06-10 08:54:06.245767\n",
      "2029-10-25 21:47:48\n",
      "2029-10-25 16:17:48\n",
      "2021-07-23 00:00:00\n",
      "2012-02-12 01:30:00\n"
     ]
    }
   ],
   "source": [
    "print(datetime.datetime.now())                          # Returns current local date and time with tz parameter\n",
    "print(datetime.datetime.utcnow())                       # Return the current UTC date and time, with tzinfo None.\n",
    "print(datetime.datetime.fromtimestamp(1887639468))      # Getting Datetime from timestamp\n",
    "print(datetime.datetime.utcfromtimestamp(1887639468))   # Getting Datetime from utc timestamp\n",
    "print(datetime.datetime.fromordinal(737994))            # Getting Datetime from ordinal\n",
    "\n",
    "dt = datetime.datetime(2012, 2, 12)\n",
    "tm = datetime.time(1, 30)\n",
    "\n",
    "print(datetime.datetime.combine(dt, tm))                # combine,   combine(date, time, tzinfo=self.tzinfo)"
   ]
  },
  {
   "cell_type": "code",
   "execution_count": 30,
   "id": "43c0d233",
   "metadata": {},
   "outputs": [
    {
     "data": {
      "text/plain": [
       "datetime.datetime(2023, 6, 14, 16, 33, 0, 422074, tzinfo=datetime.timezone.utc)"
      ]
     },
     "execution_count": 30,
     "metadata": {},
     "output_type": "execute_result"
    }
   ],
   "source": []
  },
  {
   "cell_type": "code",
   "execution_count": 220,
   "id": "cc141fbc",
   "metadata": {},
   "outputs": [
    {
     "name": "stdout",
     "output_type": "stream",
     "text": [
      "2011-11-04 00:05:23\n",
      "2011-11-04 00:05:23.283000+00:00\n",
      "2023-02-07 00:00:00\n",
      "0:00:00.000001\n"
     ]
    }
   ],
   "source": [
    "# .fromisoformat(), Return a datetime corresponding to a date_string in any valid ISO 8601 format, with the following exceptions:\n",
    "# --Time zone offsets may have fractional seconds.\n",
    "# --The T separator may be replaced by any single unicode character.\n",
    "# --Ordinal dates are not currently supported.\n",
    "# --Fractional hours and minutes are not supported.\n",
    "\n",
    "print(datetime.datetime.fromisoformat('2011-11-04T00:05:23'))\n",
    "print(datetime.datetime.fromisoformat('2011-11-04 00:05:23.283+00:00'))     \n",
    "\n",
    "print(datetime.datetime.fromisocalendar(2023, 6, 2))   # Return a datetime corresponding to the ISO calendar date specified by year, week and day.\n",
    "print(datetime.datetime.resolution)                    #  smallest possible difference between non-equal datetime objects, timedelta(microseconds=1)."
   ]
  },
  {
   "cell_type": "code",
   "execution_count": 38,
   "id": "f38ed763",
   "metadata": {},
   "outputs": [
    {
     "name": "stdout",
     "output_type": "stream",
     "text": [
      "2021-08-03 10:11:12.000013+05:30\n",
      "10:11:12.000013\n",
      "Timezone: IST\n",
      "2021-08-03 10:11:12.000013+05:30\n",
      "None\n"
     ]
    }
   ],
   "source": [
    "A = datetime.datetime(2021, 8, 3, 10, 11, 12, 13)\n",
    "\n",
    "timezone = pytz.timezone(\"Asia/Kolkata\")      # Adding a timezone for asia /kolkate\n",
    "AA = timezone.localize(A)                     # getting the timezone using localize method\n",
    "print(AA)\n",
    "print(AA.timetz())                            # only returns time part\n",
    "print(\"Timezone:\", AA.tzname())               # Returns timezone name\n",
    "\n",
    "print(A.astimezone())          # used to return a DateTime instance according to the specified time zone parameter tz. \n",
    "print(A.utcoffset())"
   ]
  },
  {
   "cell_type": "code",
   "execution_count": 56,
   "id": "2f074dd4",
   "metadata": {},
   "outputs": [
    {
     "name": "stdout",
     "output_type": "stream",
     "text": [
      "2023-06-14 22:14:33.064664\n",
      "1686761073.064664\n",
      "2019-05-18 15:17:00+00:00\n",
      "2023-06-14 16:44:33.065668+00:00\n"
     ]
    }
   ],
   "source": [
    "now =  datetime.datetime.now()                # current date and time\n",
    "print(now)\n",
    "print(datetime.datetime.timestamp(now))        # convert from datetime to timestamp\n",
    "\n",
    "print(datetime.datetime(2019, 5, 18, 15, 17, tzinfo=datetime.timezone.utc))\n",
    "print(datetime.datetime.now(datetime.timezone.utc))"
   ]
  },
  {
   "cell_type": "code",
   "execution_count": 57,
   "id": "7d8e06f7",
   "metadata": {},
   "outputs": [],
   "source": [
    "# datetime.datetime.dst('IST')\n",
    "\n",
    "\n",
    "\n"
   ]
  },
  {
   "cell_type": "code",
   "execution_count": null,
   "id": "7336e7bb",
   "metadata": {},
   "outputs": [],
   "source": []
  },
  {
   "cell_type": "code",
   "execution_count": null,
   "id": "26df6235",
   "metadata": {},
   "outputs": [],
   "source": []
  },
  {
   "cell_type": "code",
   "execution_count": null,
   "id": "086c7c67",
   "metadata": {},
   "outputs": [],
   "source": []
  },
  {
   "cell_type": "code",
   "execution_count": 59,
   "id": "a8505913",
   "metadata": {},
   "outputs": [
    {
     "ename": "TypeError",
     "evalue": "unbound method timedelta.total_seconds() needs an argument",
     "output_type": "error",
     "traceback": [
      "\u001b[1;31m---------------------------------------------------------------------------\u001b[0m",
      "\u001b[1;31mTypeError\u001b[0m                                 Traceback (most recent call last)",
      "Cell \u001b[1;32mIn[59], line 1\u001b[0m\n\u001b[1;32m----> 1\u001b[0m \u001b[43mdatetime\u001b[49m\u001b[38;5;241;43m.\u001b[39;49m\u001b[43mtimedelta\u001b[49m\u001b[38;5;241;43m.\u001b[39;49m\u001b[43mtotal_seconds\u001b[49m\u001b[43m(\u001b[49m\u001b[43m)\u001b[49m\n",
      "\u001b[1;31mTypeError\u001b[0m: unbound method timedelta.total_seconds() needs an argument"
     ]
    }
   ],
   "source": [
    "datetime.timedelta.total_seconds()"
   ]
  },
  {
   "cell_type": "code",
   "execution_count": 66,
   "id": "e73e53fd",
   "metadata": {},
   "outputs": [
    {
     "name": "stdout",
     "output_type": "stream",
     "text": [
      "31 days, 0:00:00\n",
      "2020-01-07 00:00:00\n",
      "2019-12-19 00:00:00\n"
     ]
    }
   ],
   "source": [
    "# datetime.Timedelta\n",
    "\n",
    "\n",
    "date1 = datetime.datetime(2020, 1, 3)\n",
    "date2 = datetime.datetime(2020, 2, 3)\n",
    " \n",
    "\n",
    "print(date2 - date1)                               # difference between dates\n",
    "print(date1 + datetime.timedelta(days = 4))        # Adding days to date1\n",
    "print(date1 - datetime.timedelta(15))              # Subtracting days from date1"
   ]
  },
  {
   "cell_type": "code",
   "execution_count": 68,
   "id": "82b519f6",
   "metadata": {},
   "outputs": [
    {
     "name": "stdout",
     "output_type": "stream",
     "text": [
      "3600.0\n",
      "60.0\n",
      "86400.0\n"
     ]
    }
   ],
   "source": [
    "# Getting minimum value\n",
    "obj = datetime.timedelta(hours=1)\n",
    "print(obj.total_seconds())\n",
    " \n",
    "obj = datetime.timedelta(minutes=1)\n",
    "print(obj.total_seconds())\n",
    " \n",
    "obj = datetime.timedelta(days=1)\n",
    "print(obj.total_seconds())"
   ]
  },
  {
   "cell_type": "code",
   "execution_count": 72,
   "id": "f3fbd64f",
   "metadata": {},
   "outputs": [
    {
     "name": "stdout",
     "output_type": "stream",
     "text": [
      "Original timedelta: 1 day, 0:00:00\n",
      "After Multiplication: 5 days, 12:00:00\n",
      "After Subtraction: 4 days, 12:00:00\n",
      "After Addition: 10 days, 0:00:00\n",
      "After division: 2 days, 4:48:00\n",
      "After floor division: 2 days, 18:00:00\n",
      "After Modulo: 2 days, 12:00:00\n"
     ]
    }
   ],
   "source": [
    "# creating the timedelta object\n",
    "t1 = datetime.timedelta(days=1)\n",
    "print(\"Original timedelta:\", t1)\n",
    "# multiplication\n",
    "t2 = t1*5.5\n",
    "print(\"After Multiplication:\", t2)\n",
    "# Subtraction\n",
    "res = t2 - t1\n",
    "print(\"After Subtraction:\", res)\n",
    "# addition\n",
    "res += t2\n",
    "print(\"After Addition:\", res)\n",
    "# division\n",
    "res = t2/2.5\n",
    "print(\"After division:\", res)\n",
    "# floor division\n",
    "res = t2 //2\n",
    "print(\"After floor division:\", res)\n",
    "# Modulo\n",
    "res = t2%datetime.timedelta(days=3)\n",
    "print(\"After Modulo:\", res)"
   ]
  },
  {
   "cell_type": "code",
   "execution_count": 74,
   "id": "16785060",
   "metadata": {},
   "outputs": [
    {
     "name": "stdout",
     "output_type": "stream",
     "text": [
      "Original timedelta: 1 day, 0:00:00\n",
      "After Negation: -1 day, 0:00:00\n",
      "Absolute Value: 1 day, 0:00:00\n",
      "String representation: 1 day, 0:00:00\n",
      "Constructor call: datetime.timedelta(days=1)\n"
     ]
    }
   ],
   "source": [
    "t1 = datetime.timedelta(days=1)\n",
    "print(\"Original timedelta:\", t1)\n",
    "# Negation of timedelta object\n",
    "t1 = -(t1)\n",
    "print(\"After Negation:\", t1)\n",
    "# Getting Absolute value\n",
    "t1 = abs(t1)\n",
    "print(\"Absolute Value:\", t1)\n",
    "# Getting string representation\n",
    "print(\"String representation:\", str(t1))\n",
    "# Getting Constructor call\n",
    "print(\"Constructor call:\", repr(t1))"
   ]
  },
  {
   "cell_type": "code",
   "execution_count": null,
   "id": "b9d8f353",
   "metadata": {},
   "outputs": [],
   "source": []
  },
  {
   "cell_type": "markdown",
   "id": "d504c103",
   "metadata": {},
   "source": [
    "### Pytz"
   ]
  },
  {
   "cell_type": "code",
   "execution_count": 19,
   "id": "c6a2bf74",
   "metadata": {},
   "outputs": [],
   "source": [
    "# pytz.all_timezones                      # To access a list of all the timezones stored in the pytz module\n",
    "# pytz.all_timezones_set                  # \n",
    "# pytz.common_timezones\n",
    "# pytz.common_timezones_set"
   ]
  },
  {
   "cell_type": "code",
   "execution_count": 20,
   "id": "40a6b673",
   "metadata": {},
   "outputs": [],
   "source": [
    "# for key, val in pytz.country_names.items():\n",
    "#     print(key, '=', val, end=', ')\n",
    "    \n",
    "# pytz.country_names['IN']"
   ]
  },
  {
   "cell_type": "code",
   "execution_count": 21,
   "id": "1f493b61",
   "metadata": {},
   "outputs": [],
   "source": [
    "# for key, val in pytz.country_timezones.items():\n",
    "#     print(key, '=', val, end=', ')"
   ]
  },
  {
   "cell_type": "code",
   "execution_count": 25,
   "id": "d5c9da4b",
   "metadata": {},
   "outputs": [
    {
     "name": "stdout",
     "output_type": "stream",
     "text": [
      "Europe/Kiev\n",
      "UTC\n"
     ]
    }
   ],
   "source": [
    "print(pytz.timezone('Europe/Kiev'))      # getting timezone by name\n",
    "print(pytz.utc)                          # getting utc timezone"
   ]
  },
  {
   "cell_type": "code",
   "execution_count": 26,
   "id": "0ea109b7",
   "metadata": {},
   "outputs": [
    {
     "name": "stdout",
     "output_type": "stream",
     "text": [
      "UTC Time = 2023-06-14 11:02:30.846121+00:00\n"
     ]
    },
    {
     "ename": "AttributeError",
     "evalue": "module 'pytz' has no attribute 'kiev_tz'",
     "output_type": "error",
     "traceback": [
      "\u001b[1;31m---------------------------------------------------------------------------\u001b[0m",
      "\u001b[1;31mAttributeError\u001b[0m                            Traceback (most recent call last)",
      "Cell \u001b[1;32mIn[26], line 2\u001b[0m\n\u001b[0;32m      1\u001b[0m \u001b[38;5;28mprint\u001b[39m(\u001b[38;5;124m'\u001b[39m\u001b[38;5;124mUTC Time =\u001b[39m\u001b[38;5;124m'\u001b[39m, datetime\u001b[38;5;241m.\u001b[39mdatetime\u001b[38;5;241m.\u001b[39mnow(tz\u001b[38;5;241m=\u001b[39mpytz\u001b[38;5;241m.\u001b[39mutc))\n\u001b[1;32m----> 2\u001b[0m \u001b[38;5;28mprint\u001b[39m(\u001b[38;5;124m'\u001b[39m\u001b[38;5;124mIST Time =\u001b[39m\u001b[38;5;124m'\u001b[39m, datetime\u001b[38;5;241m.\u001b[39mdatetime\u001b[38;5;241m.\u001b[39mnow(tz\u001b[38;5;241m=\u001b[39m\u001b[43mpytz\u001b[49m\u001b[38;5;241;43m.\u001b[39;49m\u001b[43mkiev_tz\u001b[49m))\n",
      "\u001b[1;31mAttributeError\u001b[0m: module 'pytz' has no attribute 'kiev_tz'"
     ]
    }
   ],
   "source": [
    "print('UTC Time =', datetime.datetime.now(tz=pytz.utc))\n",
    "print('IST Time =', datetime.datetime.now(tz=pytz.kiev_tz))"
   ]
  },
  {
   "cell_type": "code",
   "execution_count": 28,
   "id": "38ccced2",
   "metadata": {},
   "outputs": [
    {
     "ename": "AttributeError",
     "evalue": "module 'pytz' has no attribute 'astimezone'",
     "output_type": "error",
     "traceback": [
      "\u001b[1;31m---------------------------------------------------------------------------\u001b[0m",
      "\u001b[1;31mAttributeError\u001b[0m                            Traceback (most recent call last)",
      "Cell \u001b[1;32mIn[28], line 3\u001b[0m\n\u001b[0;32m      1\u001b[0m pytz\u001b[38;5;241m.\u001b[39mutc                        \u001b[38;5;66;03m# Get the standard UTC timezone\u001b[39;00m\n\u001b[0;32m      2\u001b[0m \u001b[38;5;66;03m# pytz.timezone('region')         # Create the timezone object of a particular region\u001b[39;00m\n\u001b[1;32m----> 3\u001b[0m \u001b[43mpytz\u001b[49m\u001b[38;5;241;43m.\u001b[39;49m\u001b[43mastimezone\u001b[49m()\n",
      "\u001b[1;31mAttributeError\u001b[0m: module 'pytz' has no attribute 'astimezone'"
     ]
    }
   ],
   "source": [
    "pytz.utc                        # Get the standard UTC timezone\n",
    "# pytz.timezone('region')         # Create the timezone object of a particular region\n",
    "pytz.astimezone()               # Convert the time of a particular time zone into another time zone"
   ]
  },
  {
   "cell_type": "code",
   "execution_count": null,
   "id": "4a346ef0",
   "metadata": {},
   "outputs": [],
   "source": []
  },
  {
   "cell_type": "code",
   "execution_count": 7,
   "id": "bcd42505",
   "metadata": {},
   "outputs": [
    {
     "name": "stdout",
     "output_type": "stream",
     "text": [
      "2022-01-31 23:59:59.999999\n"
     ]
    }
   ],
   "source": [
    "print(datetime.datetime.strptime('31/01/22 23:59:59.999999','%d/%m/%y %H:%M:%S.%f'))\n",
    "\n",
    "# _.strftime('%a %d %b %Y, %I:%M%p')"
   ]
  },
  {
   "cell_type": "code",
   "execution_count": null,
   "id": "b7bdab45",
   "metadata": {},
   "outputs": [],
   "source": []
  }
 ],
 "metadata": {
  "kernelspec": {
   "display_name": "Python 3 (ipykernel)",
   "language": "python",
   "name": "python3"
  },
  "language_info": {
   "codemirror_mode": {
    "name": "ipython",
    "version": 3
   },
   "file_extension": ".py",
   "mimetype": "text/x-python",
   "name": "python",
   "nbconvert_exporter": "python",
   "pygments_lexer": "ipython3",
   "version": "3.10.9"
  }
 },
 "nbformat": 4,
 "nbformat_minor": 5
}
