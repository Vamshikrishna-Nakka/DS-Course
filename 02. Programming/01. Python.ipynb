{
 "cells": [
  {
   "cell_type": "code",
   "execution_count": 1,
   "id": "0cc7bf3a",
   "metadata": {},
   "outputs": [],
   "source": [
    "# History\n",
    "# Functional vs Object oriented\n",
    "# Variables\n",
    "# Keywords\n",
    "# Datatypes\n",
    "# Operators\n",
    "# control statements\n",
    "# Loops\n",
    "# Loop Control Statements\n",
    "# Print\n",
    "# Type Conversion\n",
    "# Escape characters\n",
    "# Built-in Types\n",
    "# Map, Filter, Reduce\n",
    "# Str, repr, eval ,exec"
   ]
  },
  {
   "cell_type": "markdown",
   "id": "c7ff31c7",
   "metadata": {},
   "source": [
    "# History"
   ]
  },
  {
   "cell_type": "code",
   "execution_count": 2,
   "id": "fbe968c9",
   "metadata": {},
   "outputs": [
    {
     "ename": "SyntaxError",
     "evalue": "invalid syntax (2789229864.py, line 2)",
     "output_type": "error",
     "traceback": [
      "\u001b[1;36m  Cell \u001b[1;32mIn[2], line 2\u001b[1;36m\u001b[0m\n\u001b[1;33m    A high-level language is user-oriented, any programmer can understand, compile, and interpret.\u001b[0m\n\u001b[1;37m      ^\u001b[0m\n\u001b[1;31mSyntaxError\u001b[0m\u001b[1;31m:\u001b[0m invalid syntax\n"
     ]
    }
   ],
   "source": [
    "# high vs low -------\n",
    "A high-level language is user-oriented, any programmer can understand, compile, and interpret. \n",
    "Example: C, C++, Java, Python.\n",
    "    \n",
    "A low-level language is machine-oriented thus, very difficult to understand and learn by any human. \n",
    "Example: Machine and Assembly language."
   ]
  },
  {
   "cell_type": "code",
   "execution_count": 1,
   "id": "8cbdc8dc",
   "metadata": {},
   "outputs": [
    {
     "ename": "SyntaxError",
     "evalue": "invalid character '’' (U+2019) (2805659407.py, line 10)",
     "output_type": "error",
     "traceback": [
      "\u001b[1;36m  Cell \u001b[1;32mIn[1], line 10\u001b[1;36m\u001b[0m\n\u001b[1;33m    administration rather than writing on C or Bourne shell. since Amoeba had its own system call interface which wasn’t\u001b[0m\n\u001b[1;37m                                                                                                                      ^\u001b[0m\n\u001b[1;31mSyntaxError\u001b[0m\u001b[1;31m:\u001b[0m invalid character '’' (U+2019)\n"
     ]
    }
   ],
   "source": [
    "#history-------\n",
    "Python is created by Guido van Rossum\n",
    "\n",
    "He worked as implementer for an interpreted language in the ABC group at Centrum Wiskunde & Informatica(CWI). \n",
    "and from working with the group he learned the language design. That is the orgin of main python feature like indentation,\n",
    "high-level data types etc,.\n",
    "\n",
    "Later, when working in the Amoeba distributed operating system group at CWI. they needed a better way to do system \n",
    "administration rather than writing on C or Bourne shell. since Amoeba had its own system call interface which wasn’t \n",
    "easily accessible from the Bourne shell. So with his experience in error handling he thought the importance of exceptions\n",
    "as a programming language feature.\n",
    "\n",
    "So, He decided to create a scripting language with a syntax like ABC but with access to the Amoeba system calls.\n",
    "During 1989 Christmas holidays He gave a try, Next year he used in Amoeba project with increasing success, and \n",
    "the feedback from colleagues made me add many early improvements. \n",
    "\n",
    "In February 1991, after just over a year of development, I decided to post to USENET. The rest is in the Misc/HISTORY file"
   ]
  },
  {
   "cell_type": "code",
   "execution_count": 9,
   "id": "cb55da3b",
   "metadata": {},
   "outputs": [
    {
     "ename": "SyntaxError",
     "evalue": "invalid character '“' (U+201C) (2869229045.py, line 3)",
     "output_type": "error",
     "traceback": [
      "\u001b[1;36m  Cell \u001b[1;32mIn[9], line 3\u001b[1;36m\u001b[0m\n\u001b[1;33m    While he implementing Python, he used to read published scripts  from “Monty Python’s Flying Circus”,\u001b[0m\n\u001b[1;37m                                                                          ^\u001b[0m\n\u001b[1;31mSyntaxError\u001b[0m\u001b[1;31m:\u001b[0m invalid character '“' (U+201C)\n"
     ]
    }
   ],
   "source": [
    "# name came from-------\n",
    "\n",
    "While he implementing Python, he used to read published scripts  from “Monty Python’s Flying Circus”, a BBC comedy series\n",
    "from the 1970s. he needed a name that was short, unique, and slightly mysterious, so he decided to call Python."
   ]
  },
  {
   "cell_type": "code",
   "execution_count": 10,
   "id": "dae4a58e",
   "metadata": {},
   "outputs": [
    {
     "ename": "SyntaxError",
     "evalue": "invalid syntax (3354848970.py, line 3)",
     "output_type": "error",
     "traceback": [
      "\u001b[1;36m  Cell \u001b[1;32mIn[10], line 3\u001b[1;36m\u001b[0m\n\u001b[1;33m    Free and Open Source\u001b[0m\n\u001b[1;37m                  ^\u001b[0m\n\u001b[1;31mSyntaxError\u001b[0m\u001b[1;31m:\u001b[0m invalid syntax\n"
     ]
    }
   ],
   "source": [
    "# Features-------\n",
    "\n",
    "Free and Open Source\n",
    "Simple, Easy to understand\n",
    "Case sensitive language\n",
    "Portable: (Platform Independent) it runs on many Unix variants including Linux and macOS, and on Windows.\n",
    "Dynamically Typed(Type-checking(datatypes) is done during execution automatically, but Java is statically typed)\n",
    "Interpreted and object-oriented language\n",
    "It supports multiple programming paradigms beyond object-oriented programming, such as procedural and functional programming."
   ]
  },
  {
   "cell_type": "code",
   "execution_count": 11,
   "id": "ece7ca92",
   "metadata": {},
   "outputs": [
    {
     "ename": "SyntaxError",
     "evalue": "unterminated string literal (detected at line 12) (2046179277.py, line 12)",
     "output_type": "error",
     "traceback": [
      "\u001b[1;36m  Cell \u001b[1;32mIn[11], line 12\u001b[1;36m\u001b[0m\n\u001b[1;33m    so that the programmer doesn't get onto unnecessary complexity.\u001b[0m\n\u001b[1;37m                                ^\u001b[0m\n\u001b[1;31mSyntaxError\u001b[0m\u001b[1;31m:\u001b[0m unterminated string literal (detected at line 12)\n"
     ]
    }
   ],
   "source": [
    "#py vs Pyc -------\n",
    "\n",
    "source file .py => interpreter => machine understandable code.\n",
    "\n",
    "Interpreter stage-----> compiler => Bytecode .pyc => python virtual machine\n",
    "\n",
    ".py --  source code files.\n",
    ".pyc -- bytecode files. All the generated pyc files will be stored in the __pycache__ folder.  \n",
    "\n",
    "So Python is both compiled as well as an interpreted language, which means when we run a python code, it is first compiled and\n",
    "then interprets its statements line by line. The compile part gets deleted as soon as the code gets executed in Python \n",
    "so that the programmer doesn't get onto unnecessary complexity."
   ]
  },
  {
   "cell_type": "code",
   "execution_count": null,
   "id": "7de6601d",
   "metadata": {},
   "outputs": [],
   "source": [
    "#Compiled vs Interpreted -------\n",
    "\n",
    "- With Complied language, code we enter is                      - With interpreted language, the code is saved \n",
    "reduced to a set of machine-specific instructions                 in the same format that you entered.\n",
    "before being saved as an executable file.\n",
    "\n",
    "- Compiled programs generally run faster than interpreted ones because interpreted programs must be reduced to machine \n",
    "instructions at run-time. It is usually easier to develop applications in an interpreted environment because you don’t \n",
    "have to recompile your application each time you want to test a small section.\n",
    " \n",
    "- compiled languages, Sourcecode(C/C++)                         - Interpreted languages, must be parsed, interpreted,\n",
    "  are translated by running the source                             and executed each time the program is run.\n",
    "  code through a compiler. \n",
    "\n",
    "- Compiler is more benificial than an interpreter for translating a high level language program into machine language\n",
    "program because compilation process of a compiler is nearly 5 to 25 times faster than interpreter."
   ]
  },
  {
   "cell_type": "markdown",
   "id": "f56d1a8e",
   "metadata": {},
   "source": [
    "# Functional vs Object oriented"
   ]
  },
  {
   "cell_type": "code",
   "execution_count": 12,
   "id": "797334ac",
   "metadata": {},
   "outputs": [
    {
     "data": {
      "text/plain": [
       "66"
      ]
     },
     "execution_count": 12,
     "metadata": {},
     "output_type": "execute_result"
    }
   ],
   "source": [
    "# python is hybrid supports both functional(procedural) + object oriented language.\n",
    "\n",
    "# Functional programming relies on functions, whereas object-oriented programming is based on classes and respective objects.\n",
    "\n",
    "# Python follows oops paradigms like having classes, inheritance and other usual concepts of oops. But it is not fully object \n",
    "# oriented language because it doesnt support Encapsulation i.e, Access modifiers (public, private, protected, etc) for \n",
    "# class-based programming. It is just a feature, like multiple inheritance.\n",
    "\n",
    "class Person: \n",
    "      def __init__(self, name, __age):\n",
    "        self.name = name \n",
    "        self.__age = __age \n",
    "        \n",
    "me = Person(\"Antonio\", 33)\n",
    "\n",
    "# print(me.__age)  #error\n",
    "\n",
    "me.__age=66 # when access private it gives error but when we assign other value and access it give. it shouldnt be in oops\n",
    "me.__age"
   ]
  },
  {
   "cell_type": "code",
   "execution_count": 13,
   "id": "19d64d9a",
   "metadata": {},
   "outputs": [],
   "source": [
    "# What is PYTHONPATH => tells Python Interpreter where to locate the module files imported into a program.\n",
    "\n",
    "# PEP8 - Python Enhancement Proposal => This is document Which contains new features, Guidlines, Design and style.\n",
    "\n",
    "# PIP stands for Python Installer Package\n",
    "\n",
    "# NZEC error\n",
    "# In python, generally, multiple inputs are separated by commas and we read them using input() or int(input()), \n",
    "# but most of the online coding platforms while testing gives input separated by space and in those cases, int(input()) \n",
    "# is not able to read the input properly and shows error like NZEC."
   ]
  },
  {
   "cell_type": "code",
   "execution_count": 14,
   "id": "90663ffd",
   "metadata": {},
   "outputs": [
    {
     "name": "stdout",
     "output_type": "stream",
     "text": [
      "3.11.4\n"
     ]
    }
   ],
   "source": [
    "import platform as p\n",
    "print(p.python_version())"
   ]
  },
  {
   "cell_type": "markdown",
   "id": "78fa27b1",
   "metadata": {},
   "source": [
    "# Variables"
   ]
  },
  {
   "cell_type": "markdown",
   "id": "baf4e214",
   "metadata": {},
   "source": [
    "It is name for a memory location. names are case-sensitive, must start with a letter or the underscore."
   ]
  },
  {
   "cell_type": "code",
   "execution_count": 2,
   "id": "56f43efc",
   "metadata": {},
   "outputs": [
    {
     "data": {
      "text/plain": [
       "3"
      ]
     },
     "execution_count": 2,
     "metadata": {},
     "output_type": "execute_result"
    }
   ],
   "source": [
    "x, y, z = 2,\"Hello\" ,3.5 \n",
    "p = q = r = 5          # same to all\n",
    "x = y = [7, 8, 9] \n",
    "             # comma gives syntax error when along with values but only varibles wont give error.\n",
    "a, b, _ = 1, 2, 3      # unpacking\n",
    "_"
   ]
  },
  {
   "cell_type": "markdown",
   "id": "9f434769",
   "metadata": {},
   "source": [
    "Namespace/ Scope: The space where we define variables.<br>\n",
    "Types: Local, Global and Nonlocal variables."
   ]
  },
  {
   "cell_type": "code",
   "execution_count": 11,
   "id": "6262a75c",
   "metadata": {},
   "outputs": [
    {
     "name": "stdout",
     "output_type": "stream",
     "text": [
      "10\n"
     ]
    },
    {
     "ename": "UnboundLocalError",
     "evalue": "cannot access local variable 'x' where it is not associated with a value",
     "output_type": "error",
     "traceback": [
      "\u001b[1;31m---------------------------------------------------------------------------\u001b[0m",
      "\u001b[1;31mUnboundLocalError\u001b[0m                         Traceback (most recent call last)",
      "Cell \u001b[1;32mIn[11], line 16\u001b[0m\n\u001b[0;32m     13\u001b[0m     x \u001b[38;5;241m+\u001b[39m\u001b[38;5;241m=\u001b[39m \u001b[38;5;241m1\u001b[39m\n\u001b[0;32m     14\u001b[0m     \u001b[38;5;28mprint\u001b[39m(x)\n\u001b[1;32m---> 16\u001b[0m foo()\n",
      "Cell \u001b[1;32mIn[11], line 13\u001b[0m, in \u001b[0;36mfoo\u001b[1;34m()\u001b[0m\n\u001b[0;32m     12\u001b[0m \u001b[38;5;28;01mdef\u001b[39;00m \u001b[38;5;21mfoo\u001b[39m():\n\u001b[1;32m---> 13\u001b[0m     x \u001b[38;5;241m+\u001b[39m\u001b[38;5;241m=\u001b[39m \u001b[38;5;241m1\u001b[39m\n\u001b[0;32m     14\u001b[0m     \u001b[38;5;28mprint\u001b[39m(x)\n",
      "\u001b[1;31mUnboundLocalError\u001b[0m: cannot access local variable 'x' where it is not associated with a value"
     ]
    }
   ],
   "source": [
    "# UnboundLocalError\n",
    "\n",
    "x = 10\n",
    "def bar():\n",
    "    print(x)\n",
    "\n",
    "bar()     # works fine\n",
    "\n",
    "#-----------------------------------\n",
    "\n",
    "x = 10\n",
    "def foo():\n",
    "    x += 1\n",
    "    print(x)\n",
    "\n",
    "foo()       # gives unboundlocal error beacause when we use assignment to variable that variable becomes local to that scope\n",
    "            # shadows any similarly named variable in the outer scope. so complier think as local variable so results error."
   ]
  },
  {
   "cell_type": "code",
   "execution_count": null,
   "id": "318becc3",
   "metadata": {},
   "outputs": [],
   "source": [
    "# Global---------------\n",
    "\n",
    "# To avoid above we can access the outer scope variable by declaring it global:\n",
    "x = 10\n",
    "def foobar():\n",
    "    global x\n",
    "    x += 1\n",
    "    print(x)\n",
    "\n",
    "foobar()\n",
    "\n",
    "# This explicit declaration is required in order to remind you that (unlike the superficially analogous situation \n",
    "# with class and instance variables) you are actually modifying the value of the variable in the outer scope:"
   ]
  },
  {
   "cell_type": "code",
   "execution_count": 17,
   "id": "b599d228",
   "metadata": {},
   "outputs": [
    {
     "name": "stdout",
     "output_type": "stream",
     "text": [
      "10\n",
      "11\n"
     ]
    }
   ],
   "source": [
    "# Nonlocal ---------------\n",
    "\n",
    "# You can do a similar thing in a nested scope using the nonlocal keyword\n",
    "\n",
    "def foo():\n",
    "    x = 10\n",
    "    def bar():\n",
    "        nonlocal x\n",
    "        print(x)\n",
    "        x += 1\n",
    "    bar()\n",
    "    print(x)\n",
    "\n",
    "foo()"
   ]
  },
  {
   "cell_type": "code",
   "execution_count": 15,
   "id": "3d4a6f5e",
   "metadata": {},
   "outputs": [
    {
     "name": "stdout",
     "output_type": "stream",
     "text": [
      "hello\n"
     ]
    }
   ],
   "source": [
    "# globals() vs  locals()  ---------\n",
    "\n",
    "# locals() a method returns a dictionary with all the local variables and symbols for the current program.\n",
    "# globals() a method returns a dictionary with all the global variables and symbols for the current program.\n",
    "\n",
    "# print(locals()) \n",
    "# print(globals())\n",
    "\n",
    "x=10\n",
    "def myFunc():        # How do I use strings to call functions/methods?\n",
    "    print(\"hello\")\n",
    "\n",
    "fname = \"myFunc\"\n",
    "\n",
    "f = locals()[fname]\n",
    "f()"
   ]
  },
  {
   "cell_type": "code",
   "execution_count": 50,
   "id": "3416ae50",
   "metadata": {},
   "outputs": [
    {
     "name": "stdout",
     "output_type": "stream",
     "text": [
      "{'name1': 'Arun', 'num2': 46, 'name3': 'Rishab'}\n"
     ]
    }
   ],
   "source": [
    "# vars() returns either a dictionary of the current namespace (if called with no argument) or the dictionary of the argument of \n",
    "# single class where it used\n",
    "    \n",
    "class Geeks:\n",
    "    def __init__(self, name1 = \"Arun\", num2 = 46, name3 = \"Rishab\"):\n",
    "        self.name1 = name1\n",
    "        self.num2 = num2\n",
    "        self.name3 = name3\n",
    "\n",
    "G = Geeks()\n",
    "print(vars(G))"
   ]
  },
  {
   "cell_type": "markdown",
   "id": "21477fcd",
   "metadata": {},
   "source": [
    "# Keywords"
   ]
  },
  {
   "cell_type": "code",
   "execution_count": 20,
   "id": "f40514e5",
   "metadata": {},
   "outputs": [
    {
     "name": "stdout",
     "output_type": "stream",
     "text": [
      "['False', 'None', 'True', 'and', 'as', 'assert', 'async', 'await', 'break', 'class', 'continue', 'def', 'del', 'elif', 'else', 'except', 'finally', 'for', 'from', 'global', 'if', 'import', 'in', 'is', 'lambda', 'nonlocal', 'not', 'or', 'pass', 'raise', 'return', 'try', 'while', 'with', 'yield']\n",
      "True\n",
      "['_', 'case', 'match']\n",
      "True\n"
     ]
    }
   ],
   "source": [
    "import keyword as k\n",
    "print(k.kwlist)                      # List of keywords 35\n",
    "print(k.iskeyword('or'))             # To check the provided keyword is true or false\n",
    "print(k.softkwlist)                  # List of soft keywords i.e, match, case and _\n",
    "print(k.issoftkeyword('_'))          # To check the provided soft keyword is true or false"
   ]
  },
  {
   "cell_type": "markdown",
   "id": "a9edcc80",
   "metadata": {},
   "source": [
    "# Data types"
   ]
  },
  {
   "cell_type": "code",
   "execution_count": 21,
   "id": "44d45a85",
   "metadata": {},
   "outputs": [],
   "source": [
    "# Numeric            :  int, float, complex\n",
    "# Sequence types     :  list,tuple, str, range\n",
    "# Boolean            :  bool(True or False)\n",
    "# Dictionary or Map  :  dict\n",
    "# Set                :  set, frozenset\n",
    "# Binary Types       :  bytes, bytearray, memoryview"
   ]
  },
  {
   "cell_type": "code",
   "execution_count": 22,
   "id": "8ebe95c0",
   "metadata": {},
   "outputs": [],
   "source": [
    "import operator"
   ]
  },
  {
   "cell_type": "markdown",
   "id": "ec17b407",
   "metadata": {},
   "source": [
    "# Operators"
   ]
  },
  {
   "cell_type": "code",
   "execution_count": 23,
   "id": "d1d3b36c",
   "metadata": {},
   "outputs": [
    {
     "ename": "SyntaxError",
     "evalue": "invalid syntax (185214916.py, line 57)",
     "output_type": "error",
     "traceback": [
      "\u001b[1;36m  Cell \u001b[1;32mIn[23], line 57\u001b[1;36m\u001b[0m\n\u001b[1;33m    a~=b             #                                                        iinv(),\u001b[0m\n\u001b[1;37m     ^\u001b[0m\n\u001b[1;31mSyntaxError\u001b[0m\u001b[1;31m:\u001b[0m invalid syntax\n"
     ]
    }
   ],
   "source": [
    "#Arithmetic\n",
    "10 + 4          # add (returns 14)                                      add()\n",
    "10 - 4          # subtract (returns 6)                                  sub()\n",
    "10 * 4          # multiply (returns 40)                                 mul()\n",
    "10 ** 4         # exponent (returns 10000)                              pow()   \n",
    "10 / float(4)   # divide (returns 2.5)\n",
    "10 / 4          # true division (returns 2.5)                           truediv()\n",
    "10 // 4         # floor division (returns 2)                            floordiv()\n",
    "10 // float(4)  # divide (returns 2.0)\n",
    "5 % 4           # modulo (returns 1) - also known as the remainder      mod()\n",
    "\n",
    "#Comparison\n",
    "5 > 3           # greaterthan (returns True)                            gt()\n",
    "5 >= 3          # greaterthan or equal to (returns True)                ge()\n",
    "5 < 3           # lessthan(returns False)                               lt()\n",
    "5 <= 3          # lessthan or equal to(returns False)                   le()\n",
    "5 != 3          # not equal(returns False)                              ne()\n",
    "5 == 5          # equal to(returns True)                                eq()\n",
    "\n",
    "#Logical\n",
    "x=6\n",
    "5>3 and 6>3     # Conjunction                                        \n",
    "5>3 or 6>3      # Disjunction\n",
    "not False       # Negation (opposite)\n",
    "False or not False and True     # evaluation order: not, and, or\n",
    "\n",
    "\n",
    "#Bitwise\n",
    "a = 10          # 1010 (Binary)  \n",
    "b = 4           # 0100 (Binary)\n",
    "\n",
    "a & b           # bitwise AND(Returns 1 if both the bits are 1 else 0)   and_()  \n",
    "a | b           # bitwise OR(returns 14)                                 or_()\n",
    "~a              # bitwise NOT(returns -11)                               inv()\n",
    "a ^ b           # bitwise XOR(returns 14)                                xor()\n",
    "a >> 1          # right shift(returns 5)                                 rshift(g,2)\n",
    "a << 1          # left shift(returns 20)                                 lshift(g,2)\n",
    "\n",
    "#Identity\n",
    "a is b          # returns True if both variables are the same object     is_()\n",
    "a is not b      # returns True if both variables are the same object     is_not()\n",
    "\n",
    "#Membership\n",
    "a in b          # returns True if a present in b \n",
    "a not in b      # returns True if a not present in b\n",
    "\n",
    "#Assignment\n",
    "a+=b             #                                                        iadd(),\n",
    "a-=b             #                                                        isub(),\n",
    "a*=b             #                                                        imul(),\n",
    "a/=b             #                                                        itruediv(),\n",
    "a%=b             #                                                        imod(),\n",
    "a**=b            #                                                        ipow(),\n",
    "a//=b            #                                                        ifloordiv(),\n",
    "a&=b             #                                                        iand_(),\n",
    "a|=b             #                                                        ior_(),\n",
    "a~=b             #                                                        iinv(),\n",
    "a^=b             #                                                        ixor(),\n",
    "a<<=b            #                                                        ilshift(g,2),\n",
    "a>>=b            #                                                        irshift(g,2)"
   ]
  },
  {
   "cell_type": "code",
   "execution_count": 20,
   "id": "439f4690",
   "metadata": {},
   "outputs": [
    {
     "name": "stdout",
     "output_type": "stream",
     "text": [
      "2\n",
      "-3\n",
      "-2\n",
      "2\n",
      "-1\n"
     ]
    },
    {
     "data": {
      "text/plain": [
       "True"
      ]
     },
     "execution_count": 20,
     "metadata": {},
     "output_type": "execute_result"
    }
   ],
   "source": [
    "# Why does -22 // 10 return -3?\n",
    "\n",
    "print(22//10)     # Anything in place of 22 or 10 gives different result\n",
    "print(-22 // 10)\n",
    "print(-11 // 10)\n",
    "\n",
    "\n",
    "i=2\n",
    "j=3\n",
    "k=-3\n",
    "print(i % j)\n",
    "print(i % k)\n",
    "\n",
    "i == (i // j) * j + (i % j)"
   ]
  },
  {
   "cell_type": "code",
   "execution_count": 23,
   "id": "6a6a1cfb",
   "metadata": {},
   "outputs": [
    {
     "name": "stdout",
     "output_type": "stream",
     "text": [
      "False\n",
      "140727778710760 140727778710600\n",
      "False\n",
      "True\n",
      "2340079721840 2340079722416 2340079722416\n",
      "False\n",
      "False\n"
     ]
    }
   ],
   "source": [
    "# Is vs == (“identical” and “equal”)\n",
    "\n",
    "# == operator for value equality. It's used to know if two objects have the same value.\n",
    "# is operator for reference equality. t's used to know if two references point to the same object in memory. \n",
    "\n",
    "k = 15\n",
    "l = 10\n",
    "print(k == l)         \n",
    "print(id(k), id(l))\n",
    "\n",
    "\n",
    "\n",
    "b = 500\n",
    "c = b + 500\n",
    "d=c\n",
    "print( b is c)\n",
    "print( d is c)\n",
    "print(id(b), id(c),id(d))  # same location\n",
    "\n",
    "a = 'Python'\n",
    "b = 'Py'\n",
    "c = b + 'thon'\n",
    "print(a is c)\n",
    "\n",
    "a = []\n",
    "b = []\n",
    "print(a is b)\n"
   ]
  },
  {
   "cell_type": "code",
   "execution_count": 54,
   "id": "d7fe9b44",
   "metadata": {},
   "outputs": [
    {
     "data": {
      "text/plain": [
       "True"
      ]
     },
     "execution_count": 54,
     "metadata": {},
     "output_type": "execute_result"
    }
   ],
   "source": [
    "# Comma is not an operator, but a separator between expressions\n",
    "\"a\" in \"b\", \"a\"    #False\n",
    "\"a\" in (\"b\", \"a\")  #True"
   ]
  },
  {
   "cell_type": "code",
   "execution_count": 46,
   "id": "68770518",
   "metadata": {},
   "outputs": [
    {
     "name": "stdout",
     "output_type": "stream",
     "text": [
      "1\n",
      "2\n",
      "0\n",
      "1.0\n",
      "True\n",
      "False\n",
      "False\n",
      "False\n",
      "0\n",
      "0.5\n",
      "8.5\n"
     ]
    }
   ],
   "source": [
    "# True=1 False=0\n",
    "print(True*True)\n",
    "print(True+True)\n",
    "print(True-True)\n",
    "print(True/True)\n",
    "print(True and True)\n",
    "print(False and False)\n",
    "print(True and False)\n",
    "print(False and True)\n",
    "print(False*False)\n",
    "\n",
    "print((False+5+True+True*5)/2%5)         #0.5\n",
    "print(False+5+True+True*5/2%5)           #8.5"
   ]
  },
  {
   "cell_type": "code",
   "execution_count": 47,
   "id": "de31820d",
   "metadata": {},
   "outputs": [],
   "source": [
    "# Python Operators Precedence Rule - PEMDAS\n",
    "# P – Parentheses.     ()\n",
    "# E – Exponentiation.  **\n",
    "# M – Multiplication.  *\n",
    "# D – Division.        /\n",
    "# A – Addition.        +\n",
    "# S – Subtraction.     -"
   ]
  },
  {
   "cell_type": "code",
   "execution_count": 55,
   "id": "9ea6121b",
   "metadata": {},
   "outputs": [
    {
     "name": "stdout",
     "output_type": "stream",
     "text": [
      "30\n",
      "0\n",
      "[10, 20, 30]\n",
      "[10, 30, 50]\n",
      "(0, [10, 20, 30], 50)\n",
      "one\n",
      "('two', 'one')\n"
     ]
    }
   ],
   "source": [
    "# operator.itemgetter(): Get the item from an object\n",
    "\n",
    "l = [0, 10, 20, 30, 40, 50]\n",
    "d ={'k1': 'one', 'k2': 'two', 'k3': 'three'}\n",
    "alist=[1,2,3,4]\n",
    "f = operator.itemgetter(3)\n",
    "print(f(l))\n",
    "print(operator.itemgetter(0)(l))\n",
    "print(operator.itemgetter(slice(1, 4))(l))                               #slice a list, string, tuple\n",
    "print(operator.itemgetter(slice(1, None, 2))(l))\n",
    "print(operator.itemgetter(0, slice(1, 4), -1)(l))                        # multiole values as tuple\n",
    "print(operator.itemgetter('k1')(d))                                      # from dictionary\n",
    "print(operator.itemgetter('k2', 'k1')(d))"
   ]
  },
  {
   "cell_type": "code",
   "execution_count": null,
   "id": "e7e1c07b",
   "metadata": {},
   "outputs": [],
   "source": [
    "# operator.attrgetter(): Get the attribute of an object\n",
    "\n",
    "\n",
    "# operator.methodcaller(): Call the method of an object"
   ]
  },
  {
   "cell_type": "code",
   "execution_count": null,
   "id": "8cdb9f8e",
   "metadata": {},
   "outputs": [],
   "source": [
    "# print(sorted(alist, key=operator.itemgetter(1)(l), reverse=True))\n",
    "# print(sorted(alist, key=operator.itemgetter(2,0)))\n",
    "\n",
    "\n",
    "\n",
    "\n",
    "\n",
    "\n",
    "\n",
    "# print(list(filter(lambda x: x.startswith('d'), alist)))\n",
    "# print(list(filter(operator.methodcaller('startswith', 'd'), alist))  ) # same as lambda and faster\n",
    "lst_pop = operator.methodcaller('pop')  # calling pop method\n",
    "print(lst_pop(alist))                   # instead of pop we call method do the functionality\n",
    "\n",
    "\n",
    "\n",
    "\n",
    "# print(sorted(sampleDict, key=operator.attrgetter('Company')))"
   ]
  },
  {
   "cell_type": "markdown",
   "id": "dffa04b1",
   "metadata": {},
   "source": [
    "## Control statements"
   ]
  },
  {
   "cell_type": "code",
   "execution_count": null,
   "id": "2656715a",
   "metadata": {},
   "outputs": [],
   "source": [
    "x = 3\n",
    "# if statement\n",
    "if x > 0:\n",
    "    print('positive')\n",
    "\n",
    "# if/else statement\n",
    "if x > 0:\n",
    "    print('positive')\n",
    "else:\n",
    "    print('zero or negative')\n",
    "\n",
    "# if/elif/else statement\n",
    "if x > 0:\n",
    "    print('positive')\n",
    "elif x == 0:\n",
    "    print('zero')\n",
    "else:\n",
    "    print('negative')\n",
    "\n",
    "# single-line if statement (sometimes discouraged)\n",
    "if x > 0: print('positive')\n",
    "\n",
    "# single-line if/else statement (sometimes discouraged)  known as a 'ternary operator'\n",
    "sign = 'positive' if x > 0 else 'zero or negative'\n",
    "\n",
    "x, y = 50, 25\n",
    "small = x if x < y else y"
   ]
  },
  {
   "cell_type": "markdown",
   "id": "70f4b319",
   "metadata": {},
   "source": [
    "## Loops"
   ]
  },
  {
   "cell_type": "markdown",
   "id": "370bc518",
   "metadata": {},
   "source": [
    "Loops are a set of instructions which repeat until termination conditions are met. This can include iterating through all values in an object, go through a range of values, etc"
   ]
  },
  {
   "cell_type": "code",
   "execution_count": 1,
   "id": "65273706",
   "metadata": {},
   "outputs": [
    {
     "name": "stdout",
     "output_type": "stream",
     "text": [
      "APPLE\n",
      "BANANA\n",
      "CHERRY\n",
      "APPLE\n",
      "BANANA\n",
      "CHERRY\n",
      "Hello Geek\n",
      "Hello Geek\n"
     ]
    }
   ],
   "source": [
    "# range returns a list of integers\n",
    "range(0, 3)     # returns [0, 1, 2]: includes first value but excludes second value\n",
    "range(3)        # same thing: starting at zero is the default\n",
    "range(0, 5, 2)  # returns [0, 2, 4]: third argument specifies the 'stride'\n",
    "list(range(10,90,-2)) # if step is negative then range should high to low, if it is low to then result empty.\n",
    "list(range(20,10,4)) # viceversa.\n",
    "\n",
    "# for loop\n",
    "fruits = ['apple', 'banana', 'cherry']\n",
    "for i in range(len(fruits)):\n",
    "    print(fruits[i].upper())\n",
    "\n",
    "# alternative for loop (recommended style)\n",
    "for fruit in fruits:\n",
    "    print(fruit.upper())\n",
    "\n",
    "# use range when iterating over a large sequence to avoid actually creating the integer list in memory\n",
    "v = 0\n",
    "for i in range(10 ** 6):\n",
    "    v += 1\n",
    "    \n",
    "# while loop\n",
    "count = 0\n",
    "while (count < 2):\n",
    "    count = count + 1\n",
    "    print(\"Hello Geek\")"
   ]
  },
  {
   "cell_type": "markdown",
   "id": "b2d67240",
   "metadata": {},
   "source": [
    "Why does python use 'else' after for and while loops?\n",
    "beacause it suggests the code in question only runs if the for block does not complete. We can also use nested else. else only executes if for block executes."
   ]
  },
  {
   "cell_type": "code",
   "execution_count": null,
   "id": "aa6f51b6",
   "metadata": {},
   "outputs": [],
   "source": [
    "# for/ else loop    \n",
    "list = [\"geeks\", \"for\", \"geeks\"]\n",
    "for index in range(len(list)):\n",
    "    print(list[index])\n",
    "else:\n",
    "    print(\"Inside Else Block\")\n",
    "    \n",
    "# while/ else loop\n",
    "count = 0\n",
    "while (count < 3):\n",
    "    count = count + 1\n",
    "    print(\"Hello Geek\")\n",
    "else:\n",
    "    print(\"In Else Block\")\n",
    "\n",
    "#nested loop  :  we can put any type of loop inside of any other type of loop.\n",
    "x = [1, 2]\n",
    "y = [4, 5]\n",
    "for i in x:\n",
    "    for j in y:\n",
    "        print(i, j)"
   ]
  },
  {
   "cell_type": "code",
   "execution_count": null,
   "id": "8976e17d",
   "metadata": {},
   "outputs": [],
   "source": [
    "#__future__ module is a built-in module in Python that is used to inherit new features that will be available in the new Python\n",
    "# versions.. \n",
    "\n",
    "from __future__ import print_function\n",
    "for i in range(1, 5):\n",
    "    for j in range(i):\n",
    "        print(i, end=' ')\n",
    "    print()"
   ]
  },
  {
   "cell_type": "markdown",
   "id": "9677f66b",
   "metadata": {},
   "source": [
    "### Loop Control Statements"
   ]
  },
  {
   "cell_type": "code",
   "execution_count": null,
   "id": "cb985369",
   "metadata": {},
   "outputs": [],
   "source": [
    "#pass represents a null operation in Python,when no statements to avoid error we can also use Statements after pass to execute\n",
    "#break terminate entire loop wont execute remaining\n",
    "#continue terminates the current iteration,skips the rest of the code in the current iteration. moves to next iteration continue\n",
    "\n",
    "list1 = [1, 3, 2, 1, 2, 3, 1, 0, 1, 5]\n",
    "for p in list1:\n",
    "    pass                       \n",
    "    if (p == 0):               \n",
    "        print(f'Hello is {p}')\n",
    "        break                       \n",
    "    elif (p % 2 == 0):\n",
    "        print('skiped') \n",
    "        continue\n",
    "        print('cant come down')\n",
    "    print(p)"
   ]
  },
  {
   "cell_type": "markdown",
   "id": "d116641c",
   "metadata": {},
   "source": [
    "# Print"
   ]
  },
  {
   "cell_type": "markdown",
   "id": "8200cd2f",
   "metadata": {},
   "source": [
    "print (object(s), sep=separator, end=\\n, file=file, flush=flush)"
   ]
  },
  {
   "cell_type": "code",
   "execution_count": null,
   "id": "95f6256a",
   "metadata": {},
   "outputs": [],
   "source": [
    "print('Namsthe')                          #automatically goes to new line by default end=\\n\n",
    "print('Good morning',end='\\n')            #same\n",
    "print('Namsthe',end='')                   #edited end to space so no newline"
   ]
  },
  {
   "cell_type": "code",
   "execution_count": null,
   "id": "88c92bad",
   "metadata": {},
   "outputs": [],
   "source": [
    "a=[1,2,3]\n",
    "print('G','F','G', sep='')\n",
    "print('09','12','2016', sep='-')\n",
    "print(a,a,sep='&')\n",
    "print('eggs', 'ham', sep='\\t')\n",
    "print('vamshi','krishna', sep='', end='@')"
   ]
  },
  {
   "cell_type": "code",
   "execution_count": null,
   "id": "5c12c9e1",
   "metadata": {},
   "outputs": [],
   "source": [
    "#concatenation\n",
    "3 * 'un' + 'ium'"
   ]
  },
  {
   "cell_type": "code",
   "execution_count": null,
   "id": "50a79e3d",
   "metadata": {},
   "outputs": [],
   "source": [
    "'a' 'b'"
   ]
  },
  {
   "cell_type": "code",
   "execution_count": null,
   "id": "ac6ec44c",
   "metadata": {},
   "outputs": [],
   "source": [
    "prefix='py'\n",
    "prefix  'thon'   # we can't concate variable and literals this way"
   ]
  },
  {
   "cell_type": "code",
   "execution_count": null,
   "id": "5989e528",
   "metadata": {},
   "outputs": [],
   "source": [
    "prefix='py'\n",
    "prefix + 'thon' #variable + literal"
   ]
  },
  {
   "cell_type": "code",
   "execution_count": null,
   "id": "7e5dfef3",
   "metadata": {},
   "outputs": [],
   "source": [
    "#Declared using Continuation Character (\\):\n",
    "s = 1 + 2 + 3 + \\\n",
    "    4 + 5 + 6 + \\\n",
    "    7 + 8 + 9"
   ]
  },
  {
   "cell_type": "code",
   "execution_count": null,
   "id": "e522a1d2",
   "metadata": {},
   "outputs": [],
   "source": [
    "#Declared using parentheses () :\n",
    "n = (1 * 2 * 3 + 7 + 8 + 9)"
   ]
  },
  {
   "cell_type": "code",
   "execution_count": null,
   "id": "086de9d1",
   "metadata": {},
   "outputs": [],
   "source": [
    "#Declared using square brackets [] :\n",
    "footballer = ['MESSI',\n",
    "          'NEYMAR',\n",
    "          'SUAREZ']"
   ]
  },
  {
   "cell_type": "code",
   "execution_count": null,
   "id": "117c3b75",
   "metadata": {},
   "outputs": [],
   "source": [
    "#Declared using braces {} :\n",
    "x = {1 + 2 + 3 + 4 + 5 + 6 +\n",
    "     7 + 8 + 9}"
   ]
  },
  {
   "cell_type": "code",
   "execution_count": null,
   "id": "f82c631e",
   "metadata": {},
   "outputs": [],
   "source": [
    "#Declared using semicolons(;) :\n",
    "flag = 2; ropes = 3; pole = 4;print(\"Hi all\")"
   ]
  },
  {
   "cell_type": "markdown",
   "id": "7b2787ba",
   "metadata": {},
   "source": [
    "## Type Conversion"
   ]
  },
  {
   "cell_type": "code",
   "execution_count": null,
   "id": "661031b0",
   "metadata": {},
   "outputs": [],
   "source": [
    "# determine the type of an object\n",
    "type(2)         # returns 'int'\n",
    "type(2.0)       # returns 'float'\n",
    "type('two')     # returns 'str'\n",
    "type(True)      # returns 'bool'\n",
    "type(None)      # returns 'NoneType'\n",
    "\n",
    "# convert an object to a given type\n",
    "int(2.9)        # returns '2'\n",
    "float(2)        # returns 2.0\n",
    "complex(8)      # returns '(8+0j)'\n",
    "complex(8,2)    # returns '(8+2j)'\n",
    "\n",
    "bin(4)          # returns '0b100'\n",
    "oct(56)         # returns 0o70\n",
    "hex(56)         # returns 0x38\n",
    "\n",
    "chr(77)           # returns 'M' corresponding ASCII character. \n",
    "ord('s')          # returns '115'\n",
    "\n",
    "# convert an object to its sequence type\n",
    "tuple('pen')    # returns ('p', 'e', 'n')\n",
    "list('dog')     # returns ['d', 'o', 'g']\n",
    "set('pen')      # returns {'p', 'e', 'n'}\n",
    "str(7)          # returns '7'\n",
    "dict((('a', 1) ,('f', 2)))\n",
    "\n",
    "# zero, None, and empty containers are converted to False\n",
    "bool(0)\n",
    "bool(None)\n",
    "bool('')    # empty string\n",
    "bool([])    # empty list\n",
    "bool({})    # empty dictionary\n",
    "\n",
    "# non-empty containers and non-zeros are converted to True\n",
    "bool(2)\n",
    "bool('two')\n",
    "bool([2])"
   ]
  },
  {
   "cell_type": "markdown",
   "id": "e17e400b",
   "metadata": {},
   "source": [
    "## Escape characters"
   ]
  },
  {
   "cell_type": "code",
   "execution_count": null,
   "id": "ce7f2ccf",
   "metadata": {},
   "outputs": [],
   "source": [
    "# \\'    # Single Quote\n",
    "# \\\"    # Double Quote\n",
    "# \\\\    # Backslash\n",
    "# \\n    # New Line\n",
    "# \\r    # Carriage Return\n",
    "# \\t    # Tab\n",
    "# \\b    # Backspace\n",
    "# \\f    # Form Feed\n",
    "# \\ooo  #Octal value\n",
    "# \\xhh  #Hex value\n",
    "# \\0    #\n",
    "\n",
    "print('Hi\\nHello')\n",
    "print('Hi\\\\nHello')                           # using escape char\n",
    "print(r'Hi\\nHello')                           # using raw string"
   ]
  },
  {
   "cell_type": "markdown",
   "id": "c49d93de",
   "metadata": {},
   "source": [
    "# Built-in Types"
   ]
  },
  {
   "cell_type": "code",
   "execution_count": null,
   "id": "92141ba5",
   "metadata": {},
   "outputs": [],
   "source": [
    "# id()  -- Gives id of memory location\n",
    "# dir()  --- list of methods of any library or class\n",
    "# help()  --- for infor\n",
    "print(type(4.5))\n",
    "print(abs(-4/3))                             # returns the absolute value of a numeric value i.e, 1.33\n",
    "print(round(4.6))\n",
    "print(round(4.4))                            # rounded value of a numeric value\n",
    "print(round(-4/3))"
   ]
  },
  {
   "cell_type": "code",
   "execution_count": null,
   "id": "b23b417f",
   "metadata": {},
   "outputs": [],
   "source": [
    "l=[1,2,3,6,0,9]\n",
    "x=[False, False, False, False]\n",
    "print(any(l))                                # Returns true if any of the items is True.\n",
    "print(any(x))\n",
    "print(all(l))                                # Returns true if all of the items are True\n",
    "print(all(x))"
   ]
  },
  {
   "cell_type": "code",
   "execution_count": null,
   "id": "84d6ba96",
   "metadata": {},
   "outputs": [],
   "source": [
    "print(len('Hello!'))                           # returns 6\n",
    "print(pow(5,2))                                # returns 25\n",
    "print(pow(0, 0))                               # returns 1\n",
    "print(min('c','a','b'))                        # returns a\n",
    "print(max('c','a','b'))                        # returns c\n",
    "print(sum([4/3, 2/3, 1/3, 1/3, 1/3]))          # returns 3.0000000000000004\n",
    "print(sum([[1,2], [2,7], [3]], []))            # multiple lists to single list i.e, [1, 2, 2, 7, 3]\n",
    "print(divmod(7, 2))                            # divmod(dividend, divisor) : returns a tuple with quotient, remainder\n",
    "print(divmod(7, 2)[1])                         # accessing from tuple"
   ]
  },
  {
   "cell_type": "code",
   "execution_count": null,
   "id": "af26764a",
   "metadata": {},
   "outputs": [],
   "source": [
    "nn=[1,2];mm=['a','b']\n",
    "print(list(zip(nn,mm)))                       # returns [(1, 'a'), (2, 'b')]\n",
    "\n",
    "ll=[[1,2],['a','b']]\n",
    "print(list(zip(ll)))                          # returns [([1, 2],), (['a', 'b'],)]\n",
    "print(list(zip(*ll)))                         # returns [(1, 'a'), (2, 'b')]"
   ]
  },
  {
   "cell_type": "code",
   "execution_count": null,
   "id": "6edbd8f5",
   "metadata": {},
   "outputs": [],
   "source": [
    "l=['a','b','c','d'] \n",
    "print(list(enumerate(l)))                     # returns [(0, 'a'), (1, 'b'), (2, 'c'), (3, 'd')]\n",
    "print(list(enumerate(l, 2)))                  # start index value from 2 +> returns [(2, 'a'), (3, 'b'), (4, 'c'), (5, 'd')]\n",
    "\n",
    "for i in enumerate(l):                        # returns tuples\n",
    "    print(i)\n",
    "    \n",
    "for i,j in enumerate(l):                      # returns desired output from tuple\n",
    "    print(i,j) "
   ]
  },
  {
   "cell_type": "code",
   "execution_count": null,
   "id": "0929af5c",
   "metadata": {},
   "outputs": [],
   "source": [
    "v=['a','x','2']\n",
    "print(sorted(v))                                # sorted(iterable, key=None, reverse=False)\n",
    "\n",
    "pt = {'e': 1, 'a': 2, 'u': 3, 'o': 4, 'i': 5}\n",
    "print(sorted(pt, reverse=True))\n",
    "\n",
    "L = [\"cccc\", \"b\", \"dd\", \"aaa\"]\n",
    "print(sorted(L, key=len))                       # sort according to len\n",
    "\n",
    "x=[(2, \"one\", 3), (3,\"three\",4), (0, \"two\", 1)]\n",
    "print(sorted(x,key=lambda x:x[2]))                # sort based on 3rd element of each tuple\n",
    "\n",
    "sample = [(2, 4, 7), (3, 0, 1), (3, 0, 0)]\n",
    "print(sorted(sample, key=lambda x: (x[1], x[2]))) # Sort a List of Tuples using 2 elements\n",
    "\n",
    "st = ('g', 'e', 'e', 'k', 's')\n",
    "print(list(reversed(st)))                         # reverse tuple of strings to list\n",
    "\n",
    "str = \"Krishna\"\n",
    "print(reversed(str))                              # reverse string\n",
    "\n",
    "class gfg:                                        # reversed() in custom objects\n",
    "    vowels = ['a', 'e', 'i', 'o', 'u']\n",
    "    def __reversed__(self):\n",
    "        return reversed(self.vowels)  \n",
    "if __name__ == '__main__':\n",
    "    obj = gfg()\n",
    "    print(list(reversed(obj)))"
   ]
  },
  {
   "cell_type": "code",
   "execution_count": null,
   "id": "00156368",
   "metadata": {},
   "outputs": [],
   "source": [
    "c=complex(8,2)\n",
    "print(c.imag)          # returns 2.0\n",
    "print(c.real)          # returns 8.0\n",
    "print(c.conjugate())   # returns (8-2j)\n",
    "\n",
    "\n",
    "# Slicing with fun\n",
    "a = (\"a\", \"b\", \"c\", \"d\", \"e\", \"f\", \"g\", \"h\")\n",
    "x = slice(2)\n",
    "y = slice(0, 8, 3)\n",
    "print(a[x],a[y])\n",
    "\n",
    "\n",
    "# ascii() function returns a readable version of any object (Strings, Tuples, Lists, etc).\n",
    "  # function will replace any non-ascii characters with escape characters: å will be replaced with \\xe5\\\n",
    "print(ascii(\"My name is Ståle\"))"
   ]
  },
  {
   "cell_type": "code",
   "execution_count": null,
   "id": "9cdaa2ae",
   "metadata": {},
   "outputs": [],
   "source": [
    "class Vehicles:\n",
    "    def __init__(self, txt):\n",
    "        self.message = txt\n",
    "        \n",
    "    def printmessage(self):\n",
    "        print(self.message)\n",
    "class Car(Vehicles):\n",
    "     def __init__(self, txt):\n",
    "        super().__init__(txt)   # used to give access to methods and properties of a parent or sibling class.\n",
    "        \n",
    "x = Car(\"Hello, and welcome!\")\n",
    "x.printmessage()\n",
    "\n",
    "\n",
    "\n",
    "print(isinstance(5,int))              # Checks if a Object is an Instance of Class\n",
    "print(issubclass(Car, Vehicles))      # Checks if a Class is Subclass of another Class\n",
    "# print(issubclass(defaultdict, dict))\n"
   ]
  },
  {
   "cell_type": "code",
   "execution_count": null,
   "id": "7f90b25f",
   "metadata": {},
   "outputs": [],
   "source": [
    "# What is a memoryview()? \n",
    "# A memory view is a safe way to expose the buffer protocol in Python. It allows you to access the internal buffers of\n",
    "# an object by creating a memory view object.\n",
    "byte_array = bytearray('XYZ', 'utf-8')\n",
    "mv = memoryview(byte_array)          # memoryview(obj)   obj ---> A Bytes object or a Bytearray object.\n",
    "print(mv[0])\n",
    "print(bytes(mv[0:1]))\n",
    "\n"
   ]
  },
  {
   "cell_type": "code",
   "execution_count": null,
   "id": "836615eb",
   "metadata": {},
   "outputs": [],
   "source": [
    "# getattr(),setattr(),hasattr(),delattr()\n",
    "# bytearray()\n",
    "# bytes()\n",
    "# callable()\n",
    "# classmethod()\n",
    "# compile()  \n",
    "# hash()object()property()\n",
    "# staticmethod()__import__()"
   ]
  },
  {
   "cell_type": "code",
   "execution_count": null,
   "id": "d7e1429e",
   "metadata": {},
   "outputs": [],
   "source": [
    "print(str('banana')) #user friendly description of object\n",
    "print(repr('banana')) #string representation of an object for machine.\n",
    "\n",
    "# str() function is meant to representations of values which are fairly human-readable--output for end user\n",
    "# repr() is meant to generate representations which can be read by the interpreter-- used for debugging and development.\n",
    "#'!a' applies ascii(), '!s' applies str(), and '!r' applies repr():\n",
    "s = 'Hello, Good morning.'\n",
    "print (str(s))\n",
    "print (repr(s))\n",
    "print(f'Hi {s!r}.')"
   ]
  },
  {
   "cell_type": "code",
   "execution_count": null,
   "id": "25078e81",
   "metadata": {},
   "outputs": [],
   "source": [
    "import functools\n",
    "\n",
    "l=[1,2,3,4,5]\n",
    "\n",
    "print(list(map(lambda a:a+2,l)))\n",
    "print(list(filter(lambda a:a%2==0,l)))\n",
    "print(list(filter(lambda a:a%2,l))  )                        # not provided ==0 so false statements returning\n",
    "print(functools.reduce(lambda a, b: a+b, l))                 # it is part of functools now #this return single value\n",
    "print(functools.reduce(lambda a, b: a if a > b else b, l))"
   ]
  },
  {
   "cell_type": "code",
   "execution_count": null,
   "id": "1eac5c94",
   "metadata": {},
   "outputs": [],
   "source": [
    "exec('print(\"Hello\")')# method executes the Python code block passed as a string or a code object.\n",
    "\n",
    "#evaluates the specified expression, if the expression is a legal Python statement, it will be executed.\n",
    "eval('print(2+3)')"
   ]
  },
  {
   "cell_type": "code",
   "execution_count": null,
   "id": "12ed954b",
   "metadata": {},
   "outputs": [],
   "source": []
  },
  {
   "cell_type": "code",
   "execution_count": null,
   "id": "5d53a7da",
   "metadata": {},
   "outputs": [],
   "source": [
    "Are there tools to help find bugs or perform static analysis\n",
    "\n",
    "Yes, Pylint and Pyflakes do basic checking that will help you catch bugs sooner.\n",
    "Static type checkers such as Mypy, Pyre, and Pytype can check type hints in Python source code.\n",
    "\n",
    "pylint gfg.py\n",
    "pylint --const-rgx='[a-z\\_][a-z0-9\\_]{2, 30}$' filename.py"
   ]
  }
 ],
 "metadata": {
  "kernelspec": {
   "display_name": "Python 3 (ipykernel)",
   "language": "python",
   "name": "python3"
  },
  "language_info": {
   "codemirror_mode": {
    "name": "ipython",
    "version": 3
   },
   "file_extension": ".py",
   "mimetype": "text/x-python",
   "name": "python",
   "nbconvert_exporter": "python",
   "pygments_lexer": "ipython3",
   "version": "3.11.5"
  }
 },
 "nbformat": 4,
 "nbformat_minor": 5
}
