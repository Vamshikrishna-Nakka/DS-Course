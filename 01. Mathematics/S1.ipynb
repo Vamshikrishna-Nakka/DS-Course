{
 "cells": [
  {
   "cell_type": "code",
   "execution_count": 1,
   "id": "cf8edd2b",
   "metadata": {},
   "outputs": [],
   "source": [
    "# Understand the Type of  Data Analytics\n",
    "\n",
    "# Descriptive Statistics -describes the problem where it is loosing and when it loosing. It tells the problem locates it or isolates it.\n",
    "# tells us what happened in the past and helps a business understand how it is performing by providing context to help stakeholders interpret information.\n",
    "\n",
    "# Diagnostic Statistics or Analytics takes descriptive data a step further and helps you understand why something happened in the past.\n",
    "\n",
    "# Predictive Statistics - look the data give me an idea what might happen or what would happen if i change this that(predicting analysis)\n",
    "# EX: if i reduce prices will more people buy them \n",
    "#     if i make my watches luxary items increase price and remove low branded, make a decorative luxary brand item if i do this what will happen. \n",
    "    \n",
    "# Prescriptive Statistics: based on predictive analysis we prescribe the data (what to do)\n",
    "    \n",
    "\n",
    "# Data comes from Descriptive, we analysis and  the problem is in predictive, then we prescriptive what to do.\n",
    "# ex: patient problem and with domain knowledge of doctor and model is translated into an action to do something."
   ]
  },
  {
   "cell_type": "code",
   "execution_count": 2,
   "id": "f144d0f6",
   "metadata": {},
   "outputs": [],
   "source": [
    "# Statistics is a branch of Sciece dealing with the collection, analysis, interpretation, and presentation of numerical\n",
    "# data. It is basically a collection of quantitative data.\n",
    "\n",
    "# Types of Statistics:\n",
    "#     Theoretical Statistics\n",
    "#     Applied Statistics\n",
    "    \n",
    "#     Types of Applied Statistics:\n",
    "#         Descriptive statistics\n",
    "#         Inferential statistics"
   ]
  },
  {
   "cell_type": "code",
   "execution_count": null,
   "id": "4bc6207a",
   "metadata": {},
   "outputs": [],
   "source": [
    "# Descriptive statistics   \n",
    "#     It consists of Organizing and summarizing data through numerical values or graphical visualization.\n",
    "#     It helps us identify and understand some key properties in our data. It includes concepts such as central tendency, dispersion, boxplots, histograms, and so on.\n",
    "#     It is used to describe a situation.\n",
    "#     It can be achieved with the help of charts, graphs, tables, etc.\n",
    "\n",
    "# Inferential statistics\n",
    "#     It helps us to make decisions or predictions based on the data that we have gathered(small sample instead of working on the whole population).\n",
    "#     It can be achieved by probability.\n",
    "#     It is used to explain the chance of occurrence of an event.\n",
    "#     It includes concepts such as hypothesis, probability, and so forth."
   ]
  },
  {
   "cell_type": "code",
   "execution_count": null,
   "id": "94feb4fa",
   "metadata": {},
   "outputs": [],
   "source": [
    "Data is a collection of facts, such as numbers, words, measurements, observations etc.\n",
    "\n",
    "- Random varibale is a name for storing something ex X={1,2,3}\n",
    "    \n",
    "Types of Data\n",
    "'Quantitative data' is expressed in numbers and graphs and is analyzed through statistical methods(represents amounts).\n",
    "'Qualitative data(Categorical data)' is expressed in words and analyzed through interpretations and categorizations(represents groupings).\n"
   ]
  },
  {
   "cell_type": "code",
   "execution_count": null,
   "id": "e871c631",
   "metadata": {},
   "outputs": [],
   "source": [
    "Types of Quantitative data:\n",
    "\n",
    "    Discrete(integer variables) - has a particular fixed value. It can be counted  \n",
    "        Example :the number of books in a collection, age 27\n",
    "    Continuous(ratio variables)- is not fixed but has a range of data. It can be measured. \n",
    "\n",
    "            \n",
    "        Box plot, Histogram (single variable)\n",
    "            \n",
    "Types of Qualitative data(Categorical data):\n",
    "    Binary variables(dichotomou variables) - Yes/no outcomes ex: \n",
    "    Nominal variables -\n",
    "    Ordinal variables -\n",
    "    \n",
    "    Bar chart , pie chart(single variable)\n",
    "    \n",
    "\n",
    "multiple variables graphs\n",
    "\n",
    "Scatter plots: 2 quantitative variables\n",
    "boxplots: one categorical with one quantitative varible\n",
    "contigency tables: 2 categorical variables with frequency occurance of same theme.\n"
   ]
  },
  {
   "cell_type": "code",
   "execution_count": null,
   "id": "8b0f2b12",
   "metadata": {},
   "outputs": [],
   "source": [
    "There are 4 levels of measurement:\n",
    "\n",
    "Nominal: the data can only be categorized\n",
    "Ordinal: the data can be categorized and ranked\n",
    "Interval: the data can be categorized, ranked, and evenly spaced\n",
    "Ratio: the data can be categorized, ranked, evenly spaced, and has a natural zero.\n",
    "    "
   ]
  },
  {
   "cell_type": "markdown",
   "id": "2883938d",
   "metadata": {},
   "source": [
    "Population: the source of data to be collected.\n",
    "    Greek lowercase(μ) = (Σ * X)/ N\n",
    "\n",
    "Sample: a portion of the population\n",
    "    x̄ = ( Σ xi ) / n\n",
    "    \n",
    "μ is almost equal to x̄"
   ]
  },
  {
   "cell_type": "code",
   "execution_count": 4,
   "id": "3b9fbc8a",
   "metadata": {},
   "outputs": [],
   "source": [
    "# Structured data:\n",
    "#     Each variable must have its own column\n",
    "#     Each observation must have its own row \n",
    "# Unstructured data:\n",
    "    "
   ]
  },
  {
   "cell_type": "code",
   "execution_count": null,
   "id": "fc1a7ed4",
   "metadata": {},
   "outputs": [],
   "source": [
    "'Data cleansing' involves spotting and resolving potential data inconsistencies or errors to improve your data quality. \n",
    "An error is any value (e.g., recorded weight) that doesn’t reflect the true value (e.g., actual weight) of whatever is \n",
    "being measured. Data cleansing is also called 'data cleaning' or 'data scrubbing'.\n",
    "\n",
    "Data cleansing workflow\n",
    "    Data validation (Apply data validation techniques to prevent dirty data entry)\n",
    "    Data screening( Screen your dataset for errors or inconsistencies )\n",
    "    Data diagnosing (Diagnose your data entries)\n",
    "    Develop codes for mapping your data into valid values\n",
    "    Transform or remove your data based on standardized procedures"
   ]
  },
  {
   "cell_type": "code",
   "execution_count": null,
   "id": "8de1575a",
   "metadata": {},
   "outputs": [],
   "source": [
    "we’ll focus on ways to deal with common problems in dirty data:\n",
    "\n",
    "Duplicate data (copies)\n",
    "Invalid data(unrelated )\n",
    "Missing values(blanks)\n",
    "Outliers(Outliers are extreme values that differ from most other data points in a dataset. Outliers can be true values or errors)"
   ]
  },
  {
   "cell_type": "code",
   "execution_count": null,
   "id": "e8faf547",
   "metadata": {},
   "outputs": [],
   "source": []
  }
 ],
 "metadata": {
  "kernelspec": {
   "display_name": "Python 3 (ipykernel)",
   "language": "python",
   "name": "python3"
  },
  "language_info": {
   "codemirror_mode": {
    "name": "ipython",
    "version": 3
   },
   "file_extension": ".py",
   "mimetype": "text/x-python",
   "name": "python",
   "nbconvert_exporter": "python",
   "pygments_lexer": "ipython3",
   "version": "3.10.9"
  }
 },
 "nbformat": 4,
 "nbformat_minor": 5
}
