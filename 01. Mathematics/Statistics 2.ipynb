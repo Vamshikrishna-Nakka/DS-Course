{
 "cells": [
  {
   "cell_type": "code",
   "execution_count": null,
   "id": "17dc9752",
   "metadata": {},
   "outputs": [],
   "source": [
    "#probability\n",
    "\n",
    "Probability of event to happen P(E) = Number of favourable outcomes(x)/Total Number of outcomes(n)\n",
    "\n",
    "Experiment: A trial or an operation conducted to produce an outcome is called an experiment.\n",
    "    \n",
    "    \n",
    "There are three major types of probabilities:\n",
    "Theoretical Probability\n",
    "Experimental Probability\n",
    "Axiomatic Probability\n",
    "\n",
    "If A is an event, then the complement rule is given as:\n",
    "P(A) + P(A’) = 1.\n",
    "\n",
    "probability of 0 represents that the event will not happen.\n"
   ]
  },
  {
   "cell_type": "code",
   "execution_count": null,
   "id": "16527117",
   "metadata": {},
   "outputs": [],
   "source": [
    "Population: the source of data to be collected.\n",
    "Sample: a portion of the population.\n",
    "Variable: any data item that can be measured or counted.\n",
    "Quantitative analysis (statistical): collecting and interpreting data with patterns and data visualization.\n",
    "Qualitative analysis (non-statistical): producing generic information from other non-data forms of media.\n",
    "Descriptive statistics: characteristics of a population.\n",
    "Inferential statistics: predictions for a population.\n",
    "Central tendency (measures of the center): mean (average of all values), median (central value of a data set), and mode (the most recurrent value in a data set).\n",
    "Measures of the spread:\n",
    "Range: the distance between each value in a data set.\n",
    "Variance: the distance between a variable and its expected value.\n",
    "Standard deviation: the dispersion of a data set from the mean."
   ]
  },
  {
   "cell_type": "code",
   "execution_count": null,
   "id": "d00564c9",
   "metadata": {},
   "outputs": [],
   "source": []
  }
 ],
 "metadata": {
  "kernelspec": {
   "display_name": "Python 3 (ipykernel)",
   "language": "python",
   "name": "python3"
  },
  "language_info": {
   "codemirror_mode": {
    "name": "ipython",
    "version": 3
   },
   "file_extension": ".py",
   "mimetype": "text/x-python",
   "name": "python",
   "nbconvert_exporter": "python",
   "pygments_lexer": "ipython3",
   "version": "3.10.9"
  }
 },
 "nbformat": 4,
 "nbformat_minor": 5
}
