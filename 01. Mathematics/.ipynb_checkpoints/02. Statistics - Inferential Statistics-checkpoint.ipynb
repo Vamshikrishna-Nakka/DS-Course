{
 "cells": [
  {
   "cell_type": "markdown",
   "id": "d55d6178",
   "metadata": {},
   "source": [
    "What is the relation between Statistics and Probability?\n",
    "\n",
    "Probability and Statistics and related fields. Probability is a mathematical method used for statistical analysis. Therefore we can say that probability and statistics are interconnected branches of mathematics that deal with analyzing the relative frequency of events.\n",
    "\n",
    "## Probability\n",
    "Probability denotes the possibility of the outcome of any random event. It is a mathematical concept that predicts how likely an event will occur. To be more precise probability is the ratio of desired outcomes to total outcomes.\n",
    "\n",
    " - For example, when we flip a coin in the air, what is the possibility of getting a head? The answer to this question is based on the number of possible outcomes. Here the possibility is either head or tail will be the outcome. So, the probability of a head to come as a result is 1/2. \n",
    "\n",
    "\n",
    "$P(E)=\\frac{Number of Favourable Outcomes}{Number of total outcomes}$<br>\n",
    "$P(E)=\\frac{n(E)}{n(S)}$\n",
    "\n",
    "Here,<br>\n",
    "&emsp;&emsp;n(E) = Number of event favourable to event E<br>\n",
    "&emsp;&emsp;n(S) = Total number of outcomes\n",
    "\n",
    " - The probability values are expressed between 0 and 1, that says how likely something is to occur:\n",
    " - 0 ≤ P(E) ≤ 1<br>\n",
    "0 means it’s impossible or event will not happen..<br>\n",
    "1 means it’s certain.\n",
    "  - If A is an event, then the complement rule is given as:  P(A) + P(A’) = 1.\n",
    "<table><tr>\n",
    "<td> <img src=\"probability-line.png\" style=\"width: 300px;\"/> </td>\n",
    "<td> <img src=\"probability-line-fracs.png\" style=\"width: 250px;\"/> </td>\n",
    "</tr></table>\n",
    "\n",
    "- There are three major types of probabilities:\n",
    "    - <b>Theoretical Probability</b> : this focuses on how likely an event is to occur and is based on the foundation of reasoning. Using theory, the outcome is the expected value. Using the head and tails example, the theoretical probability of landing on heads is 0.5 or 50%. \n",
    "    - <b>Experimental Probability</b> : this focuses on how frequently an event occurs during an experiment duration. Using the head and tails example - if we were to toss a coin 10 times and it landed on heads 6 times, the experimental probability of the coin landing on heads would be 6/10 or 60%."
   ]
  },
  {
   "cell_type": "markdown",
   "id": "f45c7a8b",
   "metadata": {},
   "source": [
    "### Terminologies In Probability\n",
    "Before you dive deep into the concepts of probability, it is important that you understand the basic terminologies used in probability:\n",
    "\n",
    "- <b>Experiment</b>: An experiment is a type of action with unknown outcomes. There are a few positive outcomes and a few negative consequences in every experiment.\n",
    "    Example: Rolling a die, tossing a coin\n",
    " - <b>Random Experiment</b>: An experiment or a process for which the outcome cannot be predicted with certainty.<br>\n",
    " - <b>Sample space</b>: The entire possible set of outcomes of a random experiment is the sample space of that experiment.<br>\n",
    "- <b>Event</b>: One or more outcomes of an experiment is called an event. It is a subset of sample space. There are two types of events in probability:<br>\n",
    "    - <b>Disjoint Event</b>: Disjoint Events do not have any common outcomes. For example, a single card drawn from a deck cannot be a king and a queen<br>\n",
    "    - <b>NonDisjoint Event</b>: Non-Disjoint Events can have common outcomes. For example, a student can get 100 marks in statistics and 100 marks in probability\n",
    "\n",
    "- <b>Trial</b>: Any particular performance of a random experiment\n",
    "- <b>Outcome</b>: Possible result of a trial/experiment.\n",
    "- <b>Sample Point</b>:It is one of the possible results\n",
    "    - Example: In a deck of Cards: 4 of hearts is a sample point.\n",
    "- <b>Equally likely Outcomes</b>:An experiment in which each of the outcomes has an equal probability, such outcomes are referred to as equally likely outcomes.\n",
    "- <b>Complementary Events</b>: Complementary events occur when there are just two outcomes, and one event is exactly opposite to another event. For an event with probability P(A), its compliment is P(¯A).  P(A)+P(¯A)=1.\n",
    "In an examination, the event of success and the event of failure are complementary events. P(Success)+P(¯Failure)=1\n",
    "    - Example: In a standard 52-card deck, A = Draw a heart, then A’ = Don’t draw a heart\n",
    "- <b>Mutually Exclusive Events</b>: Two events such that the happening of one event prevents the happening of another event are referred to as mutually exclusive events. In other words, two events are said to be mutually exclusive events, if they cannot occur at the same time.\n",
    "    - Example: tossing a coin can result in either heads or tails. Both cannot be seen at the same time."
   ]
  },
  {
   "cell_type": "markdown",
   "id": "4916038e",
   "metadata": {},
   "source": [
    "### Probability Distribution\n",
    "There are two types of probability distributions:\n",
    "\n",
    "1. Discrete probability distributions\n",
    "2. Continuous probability distributions"
   ]
  },
  {
   "cell_type": "markdown",
   "id": "37e7afa0",
   "metadata": {},
   "source": []
  },
  {
   "cell_type": "code",
   "execution_count": null,
   "id": "115d953e",
   "metadata": {},
   "outputs": [],
   "source": []
  },
  {
   "cell_type": "code",
   "execution_count": null,
   "id": "65f70d87",
   "metadata": {},
   "outputs": [],
   "source": []
  },
  {
   "cell_type": "code",
   "execution_count": null,
   "id": "5e971b41",
   "metadata": {},
   "outputs": [],
   "source": [
    "Probability Density Function\n",
    "\n",
    "Discrete distributions Continuous distributions\n",
    "Uniform distribution\tNormal distribution\n",
    "Binomial distribution\tStandard Normal distribution\n",
    "Bernoulli distribution\tStudent’s T distribution\n",
    "Poisson distribution\tChi-squared  distribution\n",
    "\n",
    "Before deep-diving into the types of distributions, it is important to revise the fundamental concepts like Probability Density Function (PDF), Probability Mass Function (PMF), and Cumulative Density Function (CDF)."
   ]
  },
  {
   "cell_type": "code",
   "execution_count": null,
   "id": "b1b7e47e",
   "metadata": {},
   "outputs": [],
   "source": []
  },
  {
   "cell_type": "code",
   "execution_count": null,
   "id": "20c8b173",
   "metadata": {},
   "outputs": [],
   "source": []
  },
  {
   "cell_type": "code",
   "execution_count": null,
   "id": "7a30d95c",
   "metadata": {},
   "outputs": [],
   "source": []
  },
  {
   "cell_type": "code",
   "execution_count": null,
   "id": "4906da71",
   "metadata": {},
   "outputs": [],
   "source": []
  },
  {
   "cell_type": "code",
   "execution_count": null,
   "id": "62a4ea61",
   "metadata": {},
   "outputs": [],
   "source": []
  }
 ],
 "metadata": {
  "kernelspec": {
   "display_name": "Python 3 (ipykernel)",
   "language": "python",
   "name": "python3"
  },
  "language_info": {
   "codemirror_mode": {
    "name": "ipython",
    "version": 3
   },
   "file_extension": ".py",
   "mimetype": "text/x-python",
   "name": "python",
   "nbconvert_exporter": "python",
   "pygments_lexer": "ipython3",
   "version": "3.10.9"
  }
 },
 "nbformat": 4,
 "nbformat_minor": 5
}
