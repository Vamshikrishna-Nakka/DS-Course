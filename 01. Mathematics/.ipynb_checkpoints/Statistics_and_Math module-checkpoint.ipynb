{
 "cells": [
  {
   "cell_type": "markdown",
   "metadata": {},
   "source": [
    "Statistics module"
   ]
  },
  {
   "cell_type": "code",
   "execution_count": 2,
   "metadata": {},
   "outputs": [],
   "source": [
    "import pandas as pd\n",
    "import statistics as st"
   ]
  },
  {
   "cell_type": "markdown",
   "metadata": {},
   "source": [
    "Mean"
   ]
  },
  {
   "cell_type": "markdown",
   "metadata": {},
   "source": [
    "Standard deviation and Variance"
   ]
  },
  {
   "cell_type": "code",
   "execution_count": 5,
   "metadata": {},
   "outputs": [
    {
     "name": "stdout",
     "output_type": "stream",
     "text": [
      "2.857142857142857\n",
      "2.5\n",
      "1.6903085094570331\n",
      "1.5811388300841898\n"
     ]
    }
   ],
   "source": []
  },
  {
   "cell_type": "markdown",
   "metadata": {},
   "source": [
    "Covarinace ,correlationc, Linear regreesion   ----#New in version 3.10."
   ]
  },
  {
   "cell_type": "code",
   "execution_count": 19,
   "metadata": {},
   "outputs": [
    {
     "ename": "AttributeError",
     "evalue": "module 'statistics' has no attribute 'covariance'",
     "output_type": "error",
     "traceback": [
      "\u001b[1;31m---------------------------------------------------------------------------\u001b[0m",
      "\u001b[1;31mAttributeError\u001b[0m                            Traceback (most recent call last)",
      "\u001b[1;32m~\\AppData\\Local\\Temp/ipykernel_1432/2618008684.py\u001b[0m in \u001b[0;36m<module>\u001b[1;34m\u001b[0m\n\u001b[0;32m      1\u001b[0m \u001b[0mx\u001b[0m \u001b[1;33m=\u001b[0m \u001b[1;33m[\u001b[0m\u001b[1;36m1\u001b[0m\u001b[1;33m,\u001b[0m \u001b[1;36m2\u001b[0m\u001b[1;33m,\u001b[0m \u001b[1;36m3\u001b[0m\u001b[1;33m,\u001b[0m \u001b[1;36m4\u001b[0m\u001b[1;33m,\u001b[0m \u001b[1;36m5\u001b[0m\u001b[1;33m,\u001b[0m \u001b[1;36m6\u001b[0m\u001b[1;33m,\u001b[0m \u001b[1;36m7\u001b[0m\u001b[1;33m,\u001b[0m \u001b[1;36m8\u001b[0m\u001b[1;33m,\u001b[0m \u001b[1;36m9\u001b[0m\u001b[1;33m]\u001b[0m\u001b[1;33m\u001b[0m\u001b[1;33m\u001b[0m\u001b[0m\n\u001b[0;32m      2\u001b[0m \u001b[0my\u001b[0m \u001b[1;33m=\u001b[0m \u001b[1;33m[\u001b[0m\u001b[1;36m1\u001b[0m\u001b[1;33m,\u001b[0m \u001b[1;36m2\u001b[0m\u001b[1;33m,\u001b[0m \u001b[1;36m3\u001b[0m\u001b[1;33m,\u001b[0m \u001b[1;36m1\u001b[0m\u001b[1;33m,\u001b[0m \u001b[1;36m2\u001b[0m\u001b[1;33m,\u001b[0m \u001b[1;36m3\u001b[0m\u001b[1;33m,\u001b[0m \u001b[1;36m1\u001b[0m\u001b[1;33m,\u001b[0m \u001b[1;36m2\u001b[0m\u001b[1;33m,\u001b[0m \u001b[1;36m3\u001b[0m\u001b[1;33m]\u001b[0m\u001b[1;33m\u001b[0m\u001b[1;33m\u001b[0m\u001b[0m\n\u001b[1;32m----> 3\u001b[1;33m \u001b[0mst\u001b[0m\u001b[1;33m.\u001b[0m\u001b[0mcovariance\u001b[0m\u001b[1;33m(\u001b[0m\u001b[0mx\u001b[0m\u001b[1;33m,\u001b[0m \u001b[0my\u001b[0m\u001b[1;33m)\u001b[0m\u001b[1;33m\u001b[0m\u001b[1;33m\u001b[0m\u001b[0m\n\u001b[0m\u001b[0;32m      4\u001b[0m \u001b[0mst\u001b[0m\u001b[1;33m.\u001b[0m\u001b[0mcorrelation\u001b[0m\u001b[1;33m(\u001b[0m\u001b[0mx\u001b[0m\u001b[1;33m,\u001b[0m \u001b[0mx\u001b[0m\u001b[1;33m)\u001b[0m\u001b[1;33m\u001b[0m\u001b[1;33m\u001b[0m\u001b[0m\n\u001b[0;32m      5\u001b[0m \u001b[1;33m\u001b[0m\u001b[0m\n",
      "\u001b[1;31mAttributeError\u001b[0m: module 'statistics' has no attribute 'covariance'"
     ]
    }
   ],
   "source": [
    "x = [1, 2, 3, 4, 5, 6, 7, 8, 9]\n",
    "y = [1, 2, 3, 1, 2, 3, 1, 2, 3]\n",
    "st.covariance(x, y)                      \n",
    "st.correlation(x, x)\n",
    "\n",
    "year = [1971, 1975, 1979, 1982, 1983]\n",
    "films_total = [1, 2, 3, 4, 5]\n",
    "slope, intercept = linear_regression(year, films_total)\n",
    "round(slope * 2019 + intercept)"
   ]
  },
  {
   "cell_type": "markdown",
   "metadata": {},
   "source": [
    "Decimal fraction"
   ]
  },
  {
   "cell_type": "code",
   "execution_count": 6,
   "metadata": {},
   "outputs": [
    {
     "name": "stdout",
     "output_type": "stream",
     "text": [
      "1/2\n",
      "0.5\n"
     ]
    }
   ],
   "source": [
    "from fractions import Fraction as F\n",
    "from decimal import Decimal as D\n",
    "f=F(1, 2)\n",
    "print(f)\n",
    "print(D(\"0.5\"))"
   ]
  },
  {
   "cell_type": "markdown",
   "metadata": {},
   "source": [
    "Round"
   ]
  },
  {
   "cell_type": "code",
   "execution_count": 7,
   "metadata": {
    "scrolled": true
   },
   "outputs": [
    {
     "name": "stdout",
     "output_type": "stream",
     "text": [
      "6\n",
      "5\n"
     ]
    }
   ],
   "source": [
    "print(round(5.6) )\n",
    "print(round(5.4) )"
   ]
  },
  {
   "cell_type": "markdown",
   "metadata": {},
   "source": [
    "Quartiles, Deciles, Percentiles, Range, Inter Quartile,Quantile\n",
    "\n",
    "Quantile indicates a point in distribution below which, a portion of the data lies. Quantile is also called as Fractile\n",
    "\n",
    "Quartiles: distribution is divided into quarters. Quintiles: distribution is divided into fifths. Deciles: distribution is divided into tenths.  Percentile: distribution is divided into hundredths."
   ]
  },
  {
   "cell_type": "code",
   "execution_count": 8,
   "metadata": {},
   "outputs": [
    {
     "name": "stdout",
     "output_type": "stream",
     "text": [
      "range 4.4399999999999995\n",
      "Lower quartile(Q1):2.34,\n",
      "Median(Q2):3.45,\n",
      "Upper quartile(Q3):4.56,\n",
      "4th quartile(Q4):5.67\n",
      "interquartile range (IQR) 2.2199999999999998\n",
      "Quartile deviation or semi interquartile range (IQR) 1.1099999999999999\n"
     ]
    }
   ],
   "source": [
    "import pandas as pd\n",
    "import numpy as np\n",
    "from numpy import percentile\n",
    "\n",
    "a=[1.23,2.34,3.45,4.56,5.67]\n",
    "range=max(a)-min(a)    \n",
    "print('range',range)\n",
    "\n",
    "aa=sorted(a)\n",
    "Q=percentile(aa,[25,50,75,100])\n",
    "\n",
    "print('Lower quartile(Q1):{},\\nMedian(Q2):{},\\nUpper quartile(Q3):{},\\n4th quartile(Q4):{}'.format(Q[0],Q[1],Q[2],Q[3]))\n",
    "\n",
    "print('interquartile range (IQR)',Q[2]-Q[0])\n",
    "print('Quartile deviation or semi interquartile range (IQR)',(Q[2]-Q[0])/2)"
   ]
  },
  {
   "cell_type": "code",
   "execution_count": 17,
   "metadata": {},
   "outputs": [
    {
     "data": {
      "text/plain": [
       "[77.5, 86.6, 90.8, 99.2, 103.0, 105.0, 109.1, 111.0, 126.0]"
      ]
     },
     "execution_count": 17,
     "metadata": {},
     "output_type": "execute_result"
    }
   ],
   "source": [
    "data = [105, 129, 87, 86, 111, 111, 89, 81, 108, 92, 110,\n",
    "        100, 75, 105, 103, 109, 76, 119, 99, 91, 103, 129]\n",
    "aa=sorted(data)\n",
    "st.quantiles(aa, n=10)"
   ]
  },
  {
   "cell_type": "code",
   "execution_count": 14,
   "metadata": {},
   "outputs": [
    {
     "name": "stdout",
     "output_type": "stream",
     "text": [
      "Q1 quantile of arr :  2.34\n",
      "Q2 quantile of arr :  3.45\n",
      "Q3 quantile of arr :  4.56\n",
      "100th quantile of arr :  1.674\n"
     ]
    }
   ],
   "source": [
    "a=[1.23,2.34,3.45,4.56,5.67]\n",
    "aa=sorted(a)\n",
    "print(\"Q1 quantile of arr : \", np.quantile(aa, .25))\n",
    "print(\"Q2 quantile of arr : \", np.quantile(aa, .50))\n",
    "print(\"Q3 quantile of arr : \", np.quantile(aa, .75))\n",
    "print(\"100th quantile of arr : \", np.quantile(aa, .1)) "
   ]
  },
  {
   "cell_type": "markdown",
   "metadata": {},
   "source": [
    "Math Module"
   ]
  },
  {
   "cell_type": "code",
   "execution_count": 2,
   "metadata": {},
   "outputs": [
    {
     "name": "stdout",
     "output_type": "stream",
     "text": [
      "5\n",
      "6\n",
      "120\n",
      "5.7\n",
      "10\n",
      "20\n",
      "22\n",
      "5.0\n",
      "229.1831180523293\n",
      "132\n"
     ]
    }
   ],
   "source": [
    "import math\n",
    "\n",
    "print(math.floor(5.7))\n",
    "print(math.ceil(5.7))\n",
    "print(math.factorial(5))\n",
    "print(math.fabs(-5.7)) #absoulate value\n",
    "print(math.comb(5, 2)) #combinations  number of ways to choose k items from n items without repetition and without order.\n",
    "print(math.perm(5, 2))\n",
    "#print(math.fsum(4.4399999999999995))\n",
    "print(math.gcd(22,44))\n",
    "print(math.sqrt(25))\n",
    "print(math.degrees(4))\n",
    "print(math.lcm(33,4))"
   ]
  },
  {
   "cell_type": "code",
   "execution_count": 8,
   "metadata": {},
   "outputs": [
    {
     "data": {
      "text/plain": [
       "(1.2246467991473532e-16+2j)"
      ]
     },
     "execution_count": 8,
     "metadata": {},
     "output_type": "execute_result"
    }
   ],
   "source": [
    "import cmath  #complex maths\n",
    "\n",
    "z = 2+3j # A complex number \n",
    "cmath.phase(z) #calculate the phase of a complex number, in radians\n",
    "\n",
    "#conversion between the cartesian (rectangular) and polar representations of complex numbers:\n",
    "cmath.polar(z) # (3.605551275463989, 0.982793723247329)\n",
    "cmath.rect(2, cmath.pi/2) # (0+2j)\n",
    "\n"
   ]
  },
  {
   "cell_type": "code",
   "execution_count": 11,
   "metadata": {},
   "outputs": [
    {
     "data": {
      "text/plain": [
       "(2+1.3643763538418412j)"
      ]
     },
     "execution_count": 11,
     "metadata": {},
     "output_type": "execute_result"
    }
   ],
   "source": [
    "#Exponential and logarithmic functions\n",
    "cmath.exp(z) # (-7.315110094901103+1.0427436562359045j)\n",
    "cmath.log(z) # (1.2824746787307684+0.982793723247329j)\n",
    "cmath.log10(-100) # (2+1.3643763538418412j)"
   ]
  },
  {
   "cell_type": "code",
   "execution_count": 12,
   "metadata": {},
   "outputs": [
    {
     "data": {
      "text/plain": [
       "(1.6741492280355401+0.8959774761298381j)"
      ]
     },
     "execution_count": 12,
     "metadata": {},
     "output_type": "execute_result"
    }
   ],
   "source": [
    "#Square roots:\n",
    "cmath.sqrt(z) # (1.6741492280355401+0.8959774761298381j)"
   ]
  },
  {
   "cell_type": "code",
   "execution_count": 13,
   "metadata": {},
   "outputs": [
    {
     "data": {
      "text/plain": [
       "(1-1.4210854715202004e-14j)"
      ]
     },
     "execution_count": 13,
     "metadata": {},
     "output_type": "execute_result"
    }
   ],
   "source": [
    "# Trigonometric functions and their inverses:\n",
    "cmath.sin(z) # (9.15449914691143-4.168906959966565j)\n",
    "cmath.cos(z) # (-4.189625690968807-9.109227893755337j)\n",
    "cmath.tan(z) # (-0.003764025641504249+1.00323862735361j)\n",
    "cmath.asin(z) # (0.5706527843210994+1.9833870299165355j)\n",
    "cmath.acos(z) # (1.0001435424737972-1.9833870299165355j)\n",
    "cmath.atan(z) # (1.4099210495965755+0.22907268296853878j)\n",
    "cmath.sin(z)**2 + cmath.cos(z)**2 # (1+0j)"
   ]
  },
  {
   "cell_type": "code",
   "execution_count": 14,
   "metadata": {},
   "outputs": [
    {
     "data": {
      "text/plain": [
       "0j"
      ]
     },
     "execution_count": 14,
     "metadata": {},
     "output_type": "execute_result"
    }
   ],
   "source": [
    "# Hyperbolic functions and their inverses:\n",
    "cmath.sinh(z) # (-3.59056458998578+0.5309210862485197j)\n",
    "cmath.cosh(z) # (-3.7245455049153224+0.5118225699873846j)\n",
    "cmath.tanh(z) # (0.965385879022133-0.009884375038322495j)\n",
    "cmath.asinh(z) # (0.5706527843210994+1.9833870299165355j)\n",
    "cmath.acosh(z) # (1.9833870299165355+1.0001435424737972j)\n",
    "cmath.atanh(z) # (0.14694666622552977+1.3389725222944935j)\n",
    "cmath.cosh(z)**2 - cmath.sin(z)**2 # (1+0j)\n",
    "cmath.cosh((0+1j)*z) - cmath.cos(z) # 0j"
   ]
  },
  {
   "cell_type": "code",
   "execution_count": 15,
   "metadata": {},
   "outputs": [
    {
     "data": {
      "text/plain": [
       "(2-3j)"
      ]
     },
     "execution_count": 15,
     "metadata": {},
     "output_type": "execute_result"
    }
   ],
   "source": [
    "z = 2+3j # A complex number\n",
    "w = 1-7j # Another complex number\n",
    "\n",
    "\n",
    "# Complex numbers can be summed, subtracted, multiplied, divided and exponentiated:\n",
    "\n",
    "z + w # (3-4j)\n",
    "z - w # (1+10j)\n",
    "z * w # (23-11j)\n",
    "z / w # (-0.38+0.34j)\n",
    "z**3 # (-46+9j)\n",
    "\n",
    "\n",
    "# Python can also extract the real and imaginary parts of complex numbers, and calculate their absolute value and conjugate:\n",
    "    \n",
    "    \n",
    "z.real # 2.0\n",
    "z.imag # 3.0\n",
    "abs(z) # 3.605551275463989\n",
    "z.conjugate() # (2-3j)"
   ]
  },
  {
   "cell_type": "code",
   "execution_count": null,
   "metadata": {},
   "outputs": [],
   "source": []
  }
 ],
 "metadata": {
  "interpreter": {
   "hash": "2ac21883b9071dd4ff4c462118cd782761a92edefb482082c84be5deb50e9118"
  },
  "kernelspec": {
   "display_name": "Python 3 (ipykernel)",
   "language": "python",
   "name": "python3"
  },
  "language_info": {
   "codemirror_mode": {
    "name": "ipython",
    "version": 3
   },
   "file_extension": ".py",
   "mimetype": "text/x-python",
   "name": "python",
   "nbconvert_exporter": "python",
   "pygments_lexer": "ipython3",
   "version": "3.10.9"
  }
 },
 "nbformat": 4,
 "nbformat_minor": 2
}
