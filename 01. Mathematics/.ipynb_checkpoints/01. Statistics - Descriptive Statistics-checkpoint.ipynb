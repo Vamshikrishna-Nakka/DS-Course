{
 "cells": [
  {
   "attachments": {},
   "cell_type": "markdown",
   "id": "32de070d",
   "metadata": {},
   "source": [
    "# Data\n",
    "\n",
    "Data refers to any set of information that can be collected, observed, or recorded. It can be in various forms, such as numbers, text, images, audio, or video. Data is the foundation of statistical analysis and provides the raw material for generating insights and making informed decisions. It can also be visualized by using statistical models and graphs.\n",
    "\n",
    "<img src=\"What-Is-Data-Statistics-and-Probability-Edureka-768x292.png\" style=\"width: 400px;\"/>\n",
    "\n",
    "Here are some types of data:<br>\n",
    "1. <b>Quantitative data (Numerical data):</b> Numerical data consists of numerical values and can be further classified into two subtypes:\n",
    "    - <b>a. Discrete Data(Integer variables):</b> It has a particular fixed value. It can be countable, Finite and nondivisible.<br>\n",
    "        - Examples : the number of students in a classroom, The number of tickets sold in a day, The result of rolling a die.\n",
    "    - <b>b. Continuous Data(Ratio variables):</b> It is not fixed. It can take on any value within a certain range of data. It can be measured.<br>\n",
    "        - Examples : weight 76.753.. , temperature 27.32..., or stock prices.\n",
    "2. <b>Qualitative data (Categorical data):</b> Categorical data represents qualities or characteristics and is divided into different categories or groups. It can be further classified into two subtypes:\n",
    "    - <b>a. Binary Data(Dichotomou variables):</b> Yes/no outcomes<br>\n",
    "        - Examples : Heads/tails in a coin flip, Win/lose in a football game\n",
    "    - <b>b. Nominal Data:</b> Nominal data consists of categories with no inherent order or ranking. if you would change the order of its values, the meaning would not change.<br>\n",
    "        - Examples:Gender (male/female), marital status (single/married/divorced), or types of cars(sedan/sports/utility).\n",
    "    - <b>c. Ordinal Data:</b> Ordinal data represents categories with a natural order or ranking. It is therefore nearly\n",
    "         the same as nominal data, except that its ordering matters.<br>\n",
    "        - Examples : Educational levels (elementary school/middle school/high school/college), customer satisfaction ratings (poor/fair/good/excellent), or income brackets(low/middle/high).\n",
    "\n",
    "\n",
    "# Statistics\n",
    "\n",
    "Statistics is a branch of mathematics that deals with the collection, analysis, interpretation,\n",
    "presentation, and organization of data. It provides tools and methods for understanding and\n",
    "making inferences from data to aid in decision-making and understanding patterns and\n",
    "relationships in various fields.\n",
    "\n",
    "    \n",
    "## Population (N) :\n",
    "Population Data is the entire group that you want to draw conclusions about. where N is the cardinality (the number of elements) of the population.\n",
    "\n",
    "$Population Mean(\\mu)=\\frac{\\sum \\limits _{i=1} ^{N} x_{i}}{N} $  <br>\n",
    "$Population Variance(\\sigma^2)=\\frac{\\sum \\limits _{i=1} ^{N} (x_{i}-\\mu)^2}{N}$  <br>\n",
    "$Population StandardDeviation(\\sigma)=\\sqrt{\\frac{\\sum \\limits _{i=1} ^{N} (x_{i}-\\mu)^2}{N}}$\n",
    "\n",
    "## Sample (n) :\n",
    "Sample is the group (part of population) from which you’ll collect data.\n",
    "\n",
    "$Sample Mean(\\bar x) =\\frac{\\sum \\limits _{i=1} ^{n} x_{i}}{n} $ <br>\n",
    "$Sample Variance(s^2)=\\frac{\\sum \\limits _{i=1} ^{n} (x_{i}-\\bar x)^2}{n-1}$<br>\n",
    "$Sample Variance(s)=\\sqrt{\\frac{\\sum \\limits _{i=1} ^{n} (x_{i}-\\bar x)^2}{n-1}}$<br>\n",
    "\n",
    "\n",
    "μ is almost equal to x̄\n",
    "\n",
    "<img src=\"populationvssample.png\" style=\"width: 300px;\"/>\n",
    "\n",
    "## Sampling Techniques\n",
    "Sampling is a statistical method that deals with the selection of individual observations within a population. It is performed to infer statistical knowledge about a population.\n",
    "\n",
    "      Example: Consider a scenario wherein you’re asked to perform a survey about the eating habits of teenagers in the US. There are over 42 million teens in the US at present and this number is growing as you read this blog. Is it possible to survey each of these 42 million individuals about their health? Obviously not! That’s why sampling is used. It is a method wherein a sample of the population is studied in order to draw inference about the entire population.\n",
    "\n",
    "There are two main types of Sampling techniques:\n",
    "\n",
    "1. Probability Sampling\n",
    "2. Non-Probability Sampling\n",
    "\n",
    "<img src=\"Sampling-Techniques-Statistics-and-Probability-Edureka.png\" style=\"width: 500px;\"/>\n",
    "\n",
    "## Different Types of Probability Sampling Methods\n",
    "\n",
    "1. <b>Simple Random Sampling:</b> A random sample is where every member of the population has an equal chance to be chosen.\n",
    "2. <b>Systematic Sampling :</b> Similar to random sampling but individuals choosen at regular intervals.\n",
    "3. <b>Stratified Sampling:</b> A stratified sample is where the population is split into smaller groups called 'strata' based on  the characteristics(e.g., gender, age, etc.,). Then using Random or Systematic sampling to select sample from each subgroup.\n",
    "4. <b>Cluster Sampling:</b> A clustered sample is where the population is split into smaller groups called 'clusters'. but each subgroup should have same attributes to the whole sample. Instead of sampling individuals from each subgroup, you randomly select entire subgroups.\n",
    "\n",
    "<img src=\"Sampling.png\" style=\"width: 400px;\"/>"
   ]
  },
  {
   "cell_type": "markdown",
   "id": "dc392b69",
   "metadata": {},
   "source": [
    "Types of Statistics:\n",
    "1. Theoretical Statistics\n",
    "2. Applied Statistics<br>\n",
    "    a. Descriptive statistics<br>\n",
    "    b. Inferential statistics\n",
    "\n",
    "# Descriptive statistics: \n",
    "\n",
    "Descriptive statistics involves organizing, summarizing, and describing the main features of a dataset by using mean, median, mode, variance etc. It provides a way to understand and present data in a meaningful and concise manner with the help of charts, graphs, tables, etc.<br>\n",
    "\n",
    "- We work on Exploratory Data Analysis (EDA), Data Preprocessing, Feature Engineering\n",
    "\n",
    "There are four major types of descriptive statistics:"
   ]
  },
  {
   "cell_type": "markdown",
   "id": "934d3655",
   "metadata": {},
   "source": [
    "1. <b>Measures of Central Tendency</b>: Describe the center of the dataset. Use this when you want to show how an average or most commonly indicated response.\n",
    "\n",
    "    - <b>Mean</b>: The arithmetic average of a set of numerical values<br>\n",
    "        &emsp;&emsp;&emsp;&emsp;&emsp;&emsp;&emsp;&emsp;&emsp;&emsp;&emsp;$\\bar x =\\frac{\\sum \\limits _{i=1} ^{n} x_{i}}{n} $ <br>\n",
    "        - For example, the mean of [5, 7, 8, 7, 10, 12], n=6 is (5+7+8+7+10+12)/6 = 8.167.\n",
    "    - <b>Median</b>: The middle value in a sorted set of numerical values.<br>\n",
    "      &emsp;&emsp;&emsp;&emsp;&emsp;If n is odd, then M =$(\\frac{n+1}{2})^{th} $term<br>\n",
    "      &emsp;&emsp;&emsp;&emsp;&emsp;If n is even, then M =$\\frac{(\\frac{n}{2})^{th}term+(\\frac{n+1}{2})^{th}term}{2} $<br>\n",
    "        - For example, the median of [5, 7, 8, 7, 10, 12], n=6 is 7.5\n",
    "    - <b>Mode</b>: The value which occurs most frequently. In distribution high peak is always mode.<br>\n",
    "        - For example, the mode of [1, 2, 1,2, 3, 4, 3] is 1<br>\n",
    "        - A distribution of values with only one mode is called unimodal.<br>\n",
    "        - A distribution of values with two modes is called bimodal. <br>\n",
    "        - In general, a distribution with more than one mode is called multimodal."
   ]
  },
  {
   "cell_type": "code",
   "execution_count": 8,
   "id": "44804b35",
   "metadata": {},
   "outputs": [
    {
     "name": "stdout",
     "output_type": "stream",
     "text": [
      "Arithmetic Mean: 8.167\n",
      "Geometric Mean: 7.856688829473374\n",
      "Harmonic Mean: 7.556221889055473\n",
      "Median When Even: 7.5\n",
      "Median When Odd: 2\n",
      "Median When Even the Low value: 7\n",
      "Median When Even the High value: 8\n",
      "Median Grouped: 7.5\n",
      "Mode: 1\n",
      "Multi Mode: [1, 2, 3]\n"
     ]
    }
   ],
   "source": [
    "# code implementation\n",
    "import statistics\n",
    "\n",
    "data1 = [5, 7, 8, 7, 10, 12]\n",
    "data2=[1, 2, 1, 2, 3, 4, 3]\n",
    "\n",
    "#Mean\n",
    "print(\"Arithmetic Mean:\", round(statistics.mean(data1),3))\n",
    "print(\"Geometric Mean:\",statistics.geometric_mean(data1))\n",
    "print(\"Harmonic Mean:\",statistics.harmonic_mean(data1))\n",
    "\n",
    "#Median\n",
    "print(\"Median When Even:\", statistics.median(data1))\n",
    "print(\"Median When Odd:\", statistics.median(data2))\n",
    "print(\"Median When Even the Low value:\",statistics.median_low(data1))\n",
    "print(\"Median When Even the High value:\",statistics.median_high(data1))\n",
    "print(\"Median Grouped:\",statistics.median_grouped(data1))\n",
    "\n",
    "#Mode\n",
    "print(\"Mode:\", statistics.mode(data2))\n",
    "print(\"Multi Mode:\", statistics.multimode(data2))"
   ]
  },
  {
   "cell_type": "markdown",
   "id": "469dd282",
   "metadata": {},
   "source": [
    "### Symmetric distribution\n",
    "\n",
    "A <b>symmetric distribution</b> is one in which the 2 \"halves\"(50% and 50%) of the data appear as mirror-images of one another. where the left side of the distribution mirrors the right side. It is never skewed and also a unimodal distribution(it has one peak).<br>\n",
    "- It looks as Bell shaped curve.\n",
    "\n",
    "\n",
    "<img src=\"Symmetric.png\" style=\"width: 250px;\"/>\n",
    "\n",
    "A skewed (non-symmetric) distribution is a distribution in which there is no such mirror-imaging.\n",
    "\n",
    "Lets assume we take a midpoint (Median) and at that center with an instrument we are balancing, where can i put that point of instrument so that will balance the both(center of gravity of data). If we push little data to right Median won't change its already divided but mean will change. i.e, Skewness.\n",
    "\n",
    "The important measures of a distribution’s shape.\n",
    "1) Skewness\n",
    "2) Kurtosis\n",
    "\n",
    "### Skewness\n",
    "\n",
    "Skewness measures the asymmetry of the distribution. Positive skewness indicates a longer tail on the right side, while negative skewness indicates a longer tail on the left side.\n",
    "\n",
    "Skewness measures the asymmetry of a distribution.<br>\n",
    "\n",
    "- <b>Skewness Formula</b>:  3(mean-median)/SD<br>\n",
    "- <b>Right skew</b>: mean - median = postive or mean > median  (some data is pushed to right, more variation in right)<br>\n",
    "- <b>Left skew</b>: mean - median = negative or mean < median  (some data is pushed to left, more variation in left)\n",
    "\n",
    "\n",
    "<img src=\"sk.png\" style=\"width: 450px;\"/>"
   ]
  },
  {
   "cell_type": "code",
   "execution_count": 56,
   "id": "6d0762de",
   "metadata": {},
   "outputs": [
    {
     "data": {
      "image/png": "[encoded data removed]",
      "text/plain": [
       "<Figure size 200x200 with 1 Axes>"
      ]
     },
     "metadata": {},
     "output_type": "display_data"
    },
    {
     "data": {
      "image/png": "[encoded data removed]",
      "text/plain": [
       "<Figure size 200x200 with 1 Axes>"
      ]
     },
     "metadata": {},
     "output_type": "display_data"
    },
    {
     "name": "stdout",
     "output_type": "stream",
     "text": [
      "Skewness: -0.796938685841155\n",
      "Left skew distribution\n",
      "Skewness: 0.5368500349438866\n",
      "Right skew distribution\n"
     ]
    }
   ],
   "source": [
    "import numpy as np\n",
    "import matplotlib.pyplot as plt\n",
    "import seaborn as sns\n",
    "from scipy.stats import skew\n",
    "# Calculate skewness\n",
    "def skewkness(data):\n",
    "    data_skewness = skew(data)\n",
    "    print(\"Skewness:\", data_skewness)\n",
    "    if data_skewness< 0:\n",
    "        print(\"Left skew distribution\")\n",
    "    elif data_skewness > 0 :\n",
    "        print(\"Right skew distribution\")\n",
    "    else:\n",
    "        print(\"Symmetrical distribution\")\n",
    "        \n",
    "# Example data\n",
    "data1 = np.array([1.0, 1.5, 2.0, 2.4, 2.8, 3.2, 3.4, 3.6, 3.8, 4.0, 4.15, 4.3, 4.45, 4.6, 4.75,4.9,5.0, 5.1,\n",
    "                  5.2, 5.3, 5.4, 5.5, 5.6, 5.7, 5.8])\n",
    "data2 = np.array([1.0, 1.2, 1.3, 1.4, 1.5, 1.6, 1.7,1.8, 1.9,2.0, 2.2, 2.4, 2.6,2.8, 2.9, 3.1, 3.3, 3.5, 3.7,\n",
    "                  3.9, 4.1, 4.4, 4.8, 5.2, 5.6])\n",
    "\n",
    "# Right Skew (Positive Skew)\n",
    "plt.figure(figsize=(2,2))\n",
    "plt.hist(data1)\n",
    "plt.xlabel(\"Values\")\n",
    "plt.ylabel(\"Frequency\")\n",
    "plt.title(\"Left Skew (Negative Skew) \")#\n",
    "plt.show()\n",
    "\n",
    "# Left Skew (Negative Skew)\n",
    "plt.figure(figsize=(2,2))\n",
    "plt.hist(data2)\n",
    "plt.xlabel(\"Values\")\n",
    "plt.ylabel(\"Frequency\")\n",
    "plt.title(\"Right Skew (Positive Skew)\")\n",
    "plt.show()\n",
    "result1 = skewkness(data1)\n",
    "result2 = skewkness(data2)"
   ]
  },
  {
   "cell_type": "markdown",
   "id": "cf483ad7",
   "metadata": {},
   "source": [
    "### Kurtosis:\n",
    "Kurtosis measures the heaviness of a distribution’s tails relative to a normal distribution(peakedness or flatness). High kurtosis indicates a more peaked distribution, while low kurtosis indicates a flatter distribution.\n",
    "\n",
    "<img src=\"kurtosis.png\" style=\"width: 350px;\"/>"
   ]
  },
  {
   "cell_type": "code",
   "execution_count": 58,
   "id": "6a85694b",
   "metadata": {},
   "outputs": [
    {
     "name": "stdout",
     "output_type": "stream",
     "text": [
      "Kurtosis: -1.2009603841536614\n",
      "platykurtic (lighter tail) \n",
      "Kurtosis: 1.2530497009967272\n",
      "leptokurtic (heavier tail)\n"
     ]
    }
   ],
   "source": [
    "from scipy.stats import kurtosis\n",
    "# Calculate kurtosis\n",
    "def calculate_kurtosis(data):\n",
    "    data_kurtosis = kurtosis(data)\n",
    "    print(\"Kurtosis:\", data_kurtosis)\n",
    "    if data_kurtosis < 0:\n",
    "        print(\"platykurtic (lighter tail) \")\n",
    "    elif data_kurtosis > 0 :\n",
    "        print(\"leptokurtic (heavier tail)\")\n",
    "    else:\n",
    "        print(\"Mesokurtic distribution\")\n",
    "data1 = np.array(list(range(50)))\n",
    "data2 = np.array([1, 1, 1, 2, 2, 2, 2, 2, 2, 3, 3, 3, 3, 3, 3, 3,\n",
    "3, 3,3, 3, 3, 3, 3, 3, 3, 3, 3, 3, 3, 3, 3, 3, 3,\n",
    "3, 3, 3, 3, 3, 3, 3, 3, 4, 4, 4, 4, 4, 4, 4, 5, 5])\n",
    "result1 = calculate_kurtosis(data1)\n",
    "result2 = calculate_kurtosis(data2)"
   ]
  },
  {
   "cell_type": "code",
   "execution_count": 60,
   "id": "a967b80c",
   "metadata": {},
   "outputs": [
    {
     "data": {
      "image/png": "[encoded data removed]",
      "text/plain": [
       "<Figure size 200x200 with 1 Axes>"
      ]
     },
     "metadata": {},
     "output_type": "display_data"
    }
   ],
   "source": [
    "plt.figure(figsize=(2,2))\n",
    "sns.kdeplot(data1)\n",
    "plt.title('Platykurtic (Kurtosis < 0)')\n",
    "plt.show()"
   ]
  },
  {
   "cell_type": "code",
   "execution_count": 62,
   "id": "2793fb38",
   "metadata": {},
   "outputs": [
    {
     "data": {
      "image/png": "[encoded data removed]",
      "text/plain": [
       "<Figure size 200x200 with 1 Axes>"
      ]
     },
     "metadata": {},
     "output_type": "display_data"
    }
   ],
   "source": [
    "plt.figure(figsize=(2,2))\n",
    "sns.kdeplot(data2)\n",
    "plt.title('Leptokurtic (Kurtosis > 0)')\n",
    "plt.show()"
   ]
  },
  {
   "cell_type": "markdown",
   "id": "110f5861",
   "metadata": {},
   "source": [
    "2. <b>Measures of Dispersion or Variation</b>: Sense of how spread out the response values are. The range, standard deviation and variance each reflect different aspects of spread.\n",
    "    - <b>Variance</b>: It measures how far each data point in a dataset is from the mean(average), and thus from every other data point in the dataset. The more spread the data, the larger the variance is in relation to the mean.<br>\n",
    "    \n",
    "        - For example, the Variance of [5, 7, 8, 7, 10, 12] is 6.167.<br>\n",
    "      &emsp;&emsp;&emsp;&emsp;&emsp;&emsp;variance = $\\frac{\\sum \\limits _{i=1} ^{n} (x_{i}-\\bar x)^2}{n-1}$<br>\n",
    "      \n",
    "    - <b>Standard Deviation</b>: The square root of the variance. It measures the dispersion of values around the mean.<br>\n",
    "        - For example, the standard deviation of [5, 7, 8, 7, 10, 12] is 2.483.<br>\n",
    "      &emsp;&emsp;&emsp;standard deviation=$\\sqrt{\\frac{\\sum \\limits _{i=1} ^{n} (x_{i}-\\bar x)^2}{n-1}}$ \n",
    "            \n",
    "      &emsp;&emsp;&emsp;&emsp;&emsp;standard deviation=$\\sqrt{\\frac{(x_{1}-\\bar x)^2 +(x_{2}-\\bar x)^2 +....+(x_{n}-\\bar x)^2 }{n-1}}$ <br>\n",
    "      \n",
    "        - This show how far every point from middle. If more far then more deviation(Variance), if less far then less deviation. As we see in below the percentage increase the increase in variation from mean(center).\n",
    "        \n",
    "      <img src=\"SD.png\" style=\"width: 350px;\"/>\n",
    "      \n",
    "     - <b>Coefficient of Variation (CV)</b>: \n",
    "         \n",
    "         - It is also known as relative standard deviation (RSD), It is a standardized measure of the dispersion of a probability distribution or frequency distribution. It is often expressed as a percentage, and is defined as the ratio of the standard deviation $\\sigma$  to the mean $\\mu$ (or its absolute value,$\\mu$). When the value of the coefficient of variation is lower, it means the data has less variability and high stability.<br>\n",
    "         <br>\n",
    "          &emsp;&emsp;&emsp;&emsp;&emsp;&emsp;CV = $\\frac{\\sigma}{\\mu}$\n",
    "    - <b>standard deviation vs coefficient of variation</b>: The standard deviation measures how far the average value lies from the mean.The standard deviation is used more often when we want to measure the spread of values in a single dataset. The coefficient of variation measures the ratio of the standard deviation to the mean. The coefficient of variation is used more often when we want to compare the variation between two different datasets."
   ]
  },
  {
   "cell_type": "code",
   "execution_count": 19,
   "id": "c352d4b1",
   "metadata": {},
   "outputs": [
    {
     "name": "stdout",
     "output_type": "stream",
     "text": [
      "Variance: 6.167\n",
      "Population Variance: 5.139\n",
      "Standard Deviation: 2.483\n",
      "Population Standard Deviation: 2.267\n",
      "Coefficient of Variation : 0.3041\n"
     ]
    }
   ],
   "source": [
    "print(\"Variance:\", round(statistics.variance(data1),3))\n",
    "print(\"Population Variance:\", round(statistics.pvariance(data1),3))\n",
    "print(\"Standard Deviation:\", round(statistics.stdev(data1),3))\n",
    "print(\"Population Standard Deviation:\", round(statistics.pstdev(data1),3))\n",
    "print(\"Coefficient of Variation :\",round(statistics.stdev(data1)/statistics.mean(data1),4))"
   ]
  },
  {
   "cell_type": "markdown",
   "id": "fad39c0b",
   "metadata": {},
   "source": [
    "3. <b>Measures of Position</b>: Describes how scores fall in relation to one another. Relies on standardized scores Use this when you need to compare scores to a normalized score (e.g., a national norm).\n",
    "    - <b>Range</b>: The difference between the maximum and minimum values in a dataset. the spread of your data from the lowest to the highest value in the distribution. <br>\n",
    "      For example, the range of [5, 7, 8, 7, 10, 12] is 12 - 5 = 7.\n",
    "    - <b>Quantile (Fractile)</b>: A quartile is a type of quantile. Quantiles are values that split sorted data or a probability distribution into equal parts. In general terms, a q-quantile divides sorted data into q parts.\n",
    "    - <b>Quartiles(4-quantiles)</b>: Three quartiles split the distribution of  data into four parts(quarters). Q1 or the lowest quartile or 25th percentile, Q2 or median or 50% percentile, Q3 or the upper quartile or 75th percentile. \n",
    "    - <b>Quintiles</b>: distribution is divided into fifths(5 parts). \n",
    "    - <b>Deciles(10-quantiles)</b>: Nine deciles split the distribution of data into 10 parts.\n",
    "    - <b>Percentiles (100-quantiles)</b>: 99 percentiles split the distribution of data into 100 parts\n",
    "    - <b>Inter Quartile Range</b>: The data lies between Q3 -Q1, This data will be 75%(Q3) - 25%(Q1)= 50%.\n",
    "<table><tr>\n",
    "<td> <img src=\"img_histogram_range.png\" style=\"width: 300px;\"/> </td>\n",
    "<td> <img src=\"abc.png\" style=\"width: 250px;\"/> </td>\n",
    "<td> <img src=\"qO8wGJQ.png\" style=\"width: 250px;\"/> </td>\n",
    "</tr></table>"
   ]
  },
  {
   "cell_type": "code",
   "execution_count": 44,
   "id": "61fd7bd6",
   "metadata": {},
   "outputs": [
    {
     "name": "stdout",
     "output_type": "stream",
     "text": [
      "Range: 54\n",
      "Q1(Lower quartile) :89.5,\n",
      "Q2(Median)         :103.0,\n",
      "Q3(Upper quartile) :109.75,\n",
      "Q4(4th quartile)   :129.0\n",
      "InterQuartileRange(IQR) : 20.25\n"
     ]
    }
   ],
   "source": [
    "import numpy\n",
    "data3 = [105, 129, 87, 86, 111, 111, 89, 81, 108, 92, 110,100, 75, 105, 103, 109, 76, 119, 99, 91, 103, 129]\n",
    "\n",
    "print('Range:',max(data3)-min(data3))\n",
    "\n",
    "data4=sorted(data3)\n",
    "\n",
    "Q = numpy.percentile(data4,[25,50,75,100])\n",
    "print('Q1(Lower quartile) :{},\\nQ2(Median)         :{},\\nQ3(Upper quartile) :{},\\nQ4(4th quartile)   :{}'.format(Q[0],Q[1],Q[2],Q[3]))\n",
    "\n",
    "print('InterQuartileRange(IQR) :',Q[2]-Q[0])"
   ]
  },
  {
   "cell_type": "code",
   "execution_count": 43,
   "id": "57ce37c9",
   "metadata": {},
   "outputs": [
    {
     "name": "stdout",
     "output_type": "stream",
     "text": [
      "[77.5, 86.6, 90.8, 99.2, 103.0, 105.0, 109.1, 111.0, 126.0]\n",
      "Q1 quantile of arr :  89.5\n",
      "Q2 quantile of arr :  103.0\n",
      "Q3 quantile of arr :  109.75\n",
      "100th quantile of arr :  81.5\n"
     ]
    }
   ],
   "source": [
    "print(statistics.quantiles(data4, n=10))\n",
    "\n",
    "print(\"Q1 quantile of arr : \", numpy.quantile(data4, .25))\n",
    "print(\"Q2 quantile of arr : \", numpy.quantile(data4, .50))\n",
    "print(\"Q3 quantile of arr : \", numpy.quantile(data4, .75))\n",
    "print(\"100th quantile of arr : \", numpy.quantile(data4, .1)) "
   ]
  },
  {
   "cell_type": "code",
   "execution_count": 53,
   "id": "4dadc1a0",
   "metadata": {},
   "outputs": [
    {
     "name": "stdout",
     "output_type": "stream",
     "text": [
      "80.0\n",
      "5\n"
     ]
    }
   ],
   "source": [
    "# Percentile is a value below which a certain percentage of observation lies. 99% means the person has got better marks than\n",
    "# 99% percent of the entire class students.\n",
    "\n",
    "\n",
    "# Dataset : {2,2,3,4,5,5,5,6,7,8,8,8,8,8,9,9,10,11,11,12}\n",
    "\n",
    "# Problem1 : What is the percentile range of 10 ?\n",
    "\n",
    "# Percentile rank of x =(values of x)/n * 100\n",
    "\n",
    "n = 20\n",
    "print((16/20)* 100)     # 80 %\n",
    "\n",
    "# Problem2 : What value exists at percentile ranking of 25% ?\n",
    "\n",
    "percentile=25\n",
    "value = percentile/100*(n+1)\n",
    "print(round(value))"
   ]
  },
  {
   "cell_type": "code",
   "execution_count": null,
   "id": "1145c32a",
   "metadata": {},
   "outputs": [],
   "source": [
    "# Removing Outliers\n",
    "# {1,2,2,2,3,3,4,5,5,5,6,6,6,6,7,8,8,9,27}\n",
    "# Q1 = 25/100*(20)= 5th index = 3\n",
    "# Q3 =75/100*(20) = 15 index = 8\n",
    "\n",
    "# Lower fence = Q1 – 1.5(IQR) = -4.5\n",
    "# Higher fence = Q3 + 1.5(IQR) = 15.5\n",
    "# Inter Quartile Range (IQR) = Q3 – Q1 = 8 – 3 = 5\n",
    "# Remaining data : {1,2,2,2,3,3,4,5,5,5,6,6,6,6,7,8,8,9}\n",
    "    \n",
    "# Minimum : 1\n",
    "# First Quartile : 3\n",
    "# Median : 5\n",
    "# Third Quartile : 8\n",
    "# Maximum : 9"
   ]
  },
  {
   "cell_type": "markdown",
   "id": "076a5653",
   "metadata": {},
   "source": [
    "4. <b>Measures of Frequency distribution</b>: Describe the occurrence of data within the dataset(It's the number of times each possible value of a variable occurs in a dataset). Use this when you want to show how often a response is given.<br>\n",
    "      \n",
    "             Count, Percent, Frequency\n",
    "    - For example, a frequency distribution table forthe scores of students in a class may show the number of students who scored in different ranges, such as 0-10, 11-20, and so on"
   ]
  },
  {
   "cell_type": "code",
   "execution_count": 65,
   "id": "e5796c73",
   "metadata": {},
   "outputs": [
    {
     "data": {
      "image/png": "[encoded data removed]",
      "text/plain": [
       "<Figure size 200x200 with 1 Axes>"
      ]
     },
     "metadata": {},
     "output_type": "display_data"
    }
   ],
   "source": [
    "# sample data\n",
    "data = np.array(['Cat', 'Dog', 'Cat', 'Dog', 'Cat', 'Rabbit', 'Dog', 'Rabbit', 'Rabbit'])\n",
    "# Calculate frequency counts\n",
    "unique_values, counts = np.unique(data, return_counts=True)\n",
    "# Plotting the frequency distribution\n",
    "plt.figure(figsize=(2,2))\n",
    "plt.bar(unique_values, counts)\n",
    "plt.xlabel('Values')\n",
    "plt.ylabel('Frequency')\n",
    "plt.title('Frequency Distribution')\n",
    "plt.show()"
   ]
  },
  {
   "cell_type": "markdown",
   "id": "c81b1645",
   "metadata": {},
   "source": [
    "### Histograms and Bar Charts:\n",
    "Histograms and bar charts are graphical representations of frequency distributions. Histograms\n",
    "are used for numerical data, while bar charts are used for categorical data. They provide visual\n",
    "insights into the distribution and shape of the data."
   ]
  },
  {
   "cell_type": "code",
   "execution_count": 67,
   "id": "491e99e6",
   "metadata": {},
   "outputs": [
    {
     "data": {
      "image/png": "[encoded data removed]",
      "text/plain": [
       "<Figure size 200x200 with 1 Axes>"
      ]
     },
     "metadata": {},
     "output_type": "display_data"
    },
    {
     "data": {
      "image/png": "[encoded data removed]",
      "text/plain": [
       "<Figure size 200x200 with 1 Axes>"
      ]
     },
     "metadata": {},
     "output_type": "display_data"
    }
   ],
   "source": [
    "# sample data\n",
    "data = np.array([2, 3, 4, 5, 5, 5, 6, 6, 6, 7, 7, 8, 8, 8, 8, 9, 9, 9, 9, 9])\n",
    "# Plotting a histogram\n",
    "plt.figure(figsize=(2,2))\n",
    "plt.hist(data, bins=range(min(data), max(data) + 2), edgecolor='black')\n",
    "plt.xlabel('Values')\n",
    "plt.ylabel('Frequency')\n",
    "plt.title('Histogram')\n",
    "plt.show()\n",
    "# Calculate frequency counts\n",
    "unique_values, counts = np.unique(data, return_counts=True)\n",
    "# Plotting a bar chart\n",
    "plt.figure(figsize=(2,2))\n",
    "plt.bar(unique_values, counts)\n",
    "plt.xlabel('Values')\n",
    "plt.ylabel('Frequency')\n",
    "plt.title('Bar Chart')\n",
    "plt.show()"
   ]
  },
  {
   "cell_type": "markdown",
   "id": "ca3fd5ab",
   "metadata": {},
   "source": [
    "## Covariance\n",
    "Covariance is a measure of the relationship between two random variables and to what extent, they change together. Or we can say, in other words, it defines the changes between the two variables, such that change in one variable is equal to change in another variable. This is the property of a function of maintaining its form when the variables are linearly transformed. Covariance is measured in units, which are calculated by multiplying the units of the two variables.\n",
    "\n",
    "&emsp;&emsp;&emsp;&emsp;&emsp;&emsp;&emsp;$Cov_{x,y}=\\frac{\\sum \\limits _{i=1} ^{N} (x_{i}-\\bar x) (y_{i}-\\bar y)}{N-1}$\n",
    "\n",
    "- Every point will have (x,y) but if $x_1,x_2...x_n$  and  $y_1,y_2,...y_n$ should be more than the mean($\\bar x,\\bar y$) Then only it will be postive. as we can see in below.\n",
    "- X 🠉 Y🠋 == -ve\n",
    "- X 🠉 Y🠉 == +ve\n",
    "\n",
    "<table><tr>\n",
    "<td> <img src=\"a.png\" style=\"width: 200px;\"/> </td>\n",
    "<td> <img src=\"b.png\" style=\"width: 200px;\"/> </td>\n",
    "<td> <img src=\"c.png\" style=\"width: 200px;\"/> </td>\n",
    "</tr></table>\n",
    "\n",
    "Lets take,<br>\n",
    "$Cov_{(x,x)}=\\frac{\\sum \\limits _{i=1} ^{N} (x_{i}-\\bar x) (x_{i}-\\bar x)}{N-1}$<br>\n",
    "$Cov_{(x,x)}=\\frac{\\sum \\limits _{i=1} ^{N} (x_{i}-\\bar x)^2}{N-1}$<br>\n",
    "$Cov_{(x,x)}=(Standard Deviation(X))^2$<br>\n",
    "$Cov_{(x,x)}=Variance(X)$<br>\n",
    "\n",
    "- if Covariance is Postive then it is moving in same direction.<br>\n",
    "- if Covariance is Negative then it is moving in Opposite direction.<br>\n",
    "- if Covariance is 0 then there is no relation but complicated relation."
   ]
  },
  {
   "cell_type": "markdown",
   "id": "cef2e4aa",
   "metadata": {},
   "source": [
    "## Correlation and Correlation coefficient\n",
    "\n",
    "Correlation is the process of studying the cause and effect of linear relationship that exists between two variables.\n",
    "   - Correlation coefficient is the measure of the correlation that exists between two variables. The correlation coefficient is usually represented using the symbol r.\n",
    "  - It ranges from -1 to +1.\n",
    "\n",
    "$Correlation(r)=\\frac{\\frac{\\sum \\limits _{i=1} ^{N} (x_{i}-\\bar x) (y_{i}-\\bar y)}{N-1}}{\\sigma_x\\sigma_y}$<br>\n",
    "\n",
    "$Correlation(r) = \\frac{Cov(r_x,r_y)}{\\sigma_x\\sigma_y}$\n",
    "\n",
    "<table><tr>\n",
    "<td> <img src=\"correlation.png\" style=\"width: 600px;\"/> </td>\n",
    "<td> <img src=\"images.png\" style=\"width: 300px;\"/> </td>\n",
    "</tr></table>"
   ]
  },
  {
   "cell_type": "code",
   "execution_count": null,
   "id": "d0c1671c",
   "metadata": {},
   "outputs": [],
   "source": []
  },
  {
   "cell_type": "code",
   "execution_count": null,
   "id": "d8429e78",
   "metadata": {},
   "outputs": [],
   "source": []
  },
  {
   "cell_type": "code",
   "execution_count": null,
   "id": "04a888bb",
   "metadata": {},
   "outputs": [],
   "source": []
  },
  {
   "cell_type": "code",
   "execution_count": null,
   "id": "434342c4",
   "metadata": {},
   "outputs": [],
   "source": [
    "Why we divide by n - 1 in variance\n",
    "Mean absolute deviation (MAD)\n",
    "Empirical rule:"
   ]
  },
  {
   "cell_type": "code",
   "execution_count": null,
   "id": "df891ac3",
   "metadata": {},
   "outputs": [],
   "source": [
    "IQR Contd.\n",
    "Upper Bound = Q1 – (1.5*IQR)\n",
    "Lower Bound = Q3 + (1.5*IQR)\n",
    "\n",
    "The data points which are greater than Upper Bound or less than Lower Bound, will\n",
    "be considered as outliers and we will discard those values in our analysis.\n",
    "Let’s take an example to understand this concept\n",
    "data_points = [4,6,2,8,9,7,-1,36,-28]\n",
    "75th percentile (Q3) = 8\n",
    "25th percentile (Q1) = 2\n",
    "IQR = 8-2 = 6\n",
    "Upper Bound = 8+(1.5*6) = 17\n",
    "Lower Bound = 2-(1.5*6) = -7"
   ]
  },
  {
   "cell_type": "code",
   "execution_count": null,
   "id": "97b79822",
   "metadata": {},
   "outputs": [],
   "source": [
    "Cross-Tabulations and Contingency Tables:\n",
    "Cross-tabulations and contingency tables are used to summarize and compare categorical data.\n",
    "They show the distribution of variables across different categories and help identify relationships\n",
    "and dependencies.\n",
    "\n",
    "\n",
    "import pandas as pd\n",
    "# Example data\n",
    "data = {\n",
    "'Gender': ['Male', 'Female', 'Male', 'Female', 'Male', 'Male', 'Female', 'Female'],\n",
    "'Smoker': ['Yes', 'No', 'No', 'Yes', 'Yes', 'No', 'No', 'Yes'],\n",
    "'Count': [10, 20, 15, 25, 30, 35, 40, 45]\n",
    "}\n",
    "# Create a DataFrame\n",
    "df = pd.DataFrame(data)\n",
    "# Cross-tabulation\n",
    "cross_tab = pd.crosstab(df['Gender'], df['Smoker'], values=df['Count'], aggfunc='sum')\n",
    "print(cross_tab)"
   ]
  },
  {
   "cell_type": "code",
   "execution_count": null,
   "id": "607738f6",
   "metadata": {},
   "outputs": [],
   "source": [
    "If the data is normally distributed:\n",
    "• Roughly 68.3% of the data is within 1 standard deviation of the\n",
    "average (from μ-1σ to μ+1σ)\n",
    "• Roughly 95.5% of the data is within 2 standard deviations of the\n",
    "average (from μ-2σ to μ+2σ)\n",
    "• Roughly 99.7% of the data is within 3 standard deviations of the\n",
    "average (from μ-3σ to μ+3σ)"
   ]
  },
  {
   "cell_type": "code",
   "execution_count": null,
   "id": "463ea73b",
   "metadata": {},
   "outputs": [],
   "source": [
    "A value that \"lies outside\" (is much smaller or larger than) most of the other values in a set of data. \n",
    "For example in the scores 25,29,3,32,85,33,27,28 both 3 and 85 are \"outliers\"."
   ]
  },
  {
   "cell_type": "code",
   "execution_count": null,
   "id": "0856b32a",
   "metadata": {},
   "outputs": [],
   "source": [
    "Representation of data\n",
    "Data may be represented in various ways, including tables, charts, and graphs. In general, statistical data are represented as follows:\n",
    "\n",
    "Bar Graph\n",
    "Pie Chart\n",
    "Line Graph\n",
    "Pictograph\n",
    "Histogram\n",
    "Frequency Distribution"
   ]
  }
 ],
 "metadata": {
  "kernelspec": {
   "display_name": "Python 3 (ipykernel)",
   "language": "python",
   "name": "python3"
  },
  "language_info": {
   "codemirror_mode": {
    "name": "ipython",
    "version": 3
   },
   "file_extension": ".py",
   "mimetype": "text/x-python",
   "name": "python",
   "nbconvert_exporter": "python",
   "pygments_lexer": "ipython3",
   "version": "3.10.9"
  }
 },
 "nbformat": 4,
 "nbformat_minor": 5
}
