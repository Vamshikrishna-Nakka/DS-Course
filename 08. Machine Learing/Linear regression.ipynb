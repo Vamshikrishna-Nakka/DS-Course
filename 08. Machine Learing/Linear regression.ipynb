{
 "cells": [
  {
   "cell_type": "code",
   "execution_count": null,
   "id": "3dd658e1",
   "metadata": {},
   "outputs": [],
   "source": [
    "# <!-- Linear regression performs the task to predict a dependent variable value (y) based on a given independent variable (x)).\n",
    "\n",
    "# Hypothesis function\n",
    "\n",
    "# y= β0+β1x+ ε\n",
    "\n",
    "# Y= Dependent Variable (Target Variable)\n",
    "# X= Independent Variable (predictor Variable)\n",
    "# β0= intercept of the line (Gives an additional degree of freedom)\n",
    "# β1 = Linear regression coefficient (scale factor to each input value).\n",
    "# ε = random error\n",
    "\n",
    "# According to the null hypothesis, coefficient β1 is equal to zero. In other words, the predictor variable x and \n",
    "# the responder variable y have no statistically relevant correlation.\n",
    "\n",
    "# Assumptions of Linear Regression\n",
    "# 1 Linearity\n",
    "# 2 Independence\n",
    "# 3 Homoscedasticity\n",
    "# 4 Normality\n",
    "# 5 No multicollinearity\n",
    "\n",
    "# Linear Regression Terminologies\n",
    "\n",
    "# 1. Cost (or loss) Function:\n",
    "\n",
    "#     Finding the best fit line : different values for weights or the coefficient of lines (a0, a1) gives a different line\n",
    "#     of regression, so we need to calculate the best values for a0 and a1 to find the best fit line, so to calculate\n",
    "#     this we use cost function.\n",
    "\n",
    "#     For Linear Regression, we use the Mean Squared Error (MSE) cost function, which is the average of squared error\n",
    "#     occurred between the predicted values and actual values.\n",
    "\n",
    "#     MSE : measures the amount of error in statistical models. It assesses the average squared difference between the\n",
    "#           observed and predicted values\n",
    "\n",
    "#     MSE formula = (1/n) * Σ(actual – forecast)2\n",
    "\n",
    "#     n = number of items,\n",
    "#     Σ = summation notation,\n",
    "#     Actual = original or observed y-value,\n",
    "#     Forecast = the predicted data value, i.e., y-value from regression.\n",
    "\n",
    "\n",
    "#     Example\n",
    "#     (43,41), (44,45)   Data points\n",
    "#     y = 9.2 + 0.8x.    An regression line\n",
    "\n",
    "#     Find the new Y’ values:        Find the error (Y – Y’)    Square the Errors        Add all of the squared errors\n",
    "#     9.2 + 0.8(43) = 43.6           41 – 43.6 = -2.6            2.62 = 6.76                 6.76  + 0.36  ==7.12\n",
    "#     9.2 + 0.8(44) = 44.4           45 – 44.4 = 0.6             0.62 = 0.36\n",
    "\n",
    "#     MSE: 7.12/2 = 3.56\n",
    "\n",
    "#     Residuals: The distance between the actual value and predicted values is called residual.\n",
    "#                residual high, and cost function high.\n",
    "#                residual low, and cost function low.\n",
    "\n",
    "\n",
    "# 2. Gradient Descent:\n",
    "    \n",
    "# Gradient descent is an optimization algorithm that’s used when training a machine learning model. \n",
    "# It’s based on a convex function and tweaks its parameters iteratively to minimize a given function to its local minimum.\n",
    "\n",
    "\n",
    "#     Gradient descent is used to minimize the MSE by calculating the gradient of the cost function.\n",
    "#     A regression model uses gradient descent to update the coefficients of the line by reducing the cost function.\n",
    "#     It is done by a random selection of values of coefficient and then iteratively update the values to reach the minimum\n",
    "#     cost function.\n",
    "\n",
    "# Types\n",
    "# Batch gradient descent\n",
    "# Stochastic gradient descent\n",
    "# Mini-batch gradient descent\n",
    "\n",
    "\n",
    "\n",
    "\n",
    "\n",
    "\n",
    "# Model Performance:\n",
    "\n",
    "    # The Goodness of fit determines how the line of regression fits the set of observations. The process of finding the \n",
    "    # best model out of various models is called optimization. It can be achieved by below method:\n",
    "\n",
    "# R-squared method:\n",
    "\n",
    "# R-squared is a statistical method that determines the goodness of fit.\n",
    "# It measures the strength of the relationship between the dependent and independent variables on a scale of 0-100%.\n",
    "# The high value of R-square determines the less difference between the predicted values and actual values and hence \n",
    "#   represents a good model.\n",
    "# It is also called a coefficient of determination, or coefficient of multiple determination for multiple regression.\n",
    "\n",
    "\n",
    "# Formula\n",
    "# R2   =   1−(sum squared regression (SSR)/total sum of squares (SST))"
   ]
  },
  {
   "cell_type": "code",
   "execution_count": 10,
   "id": "26b21cbe",
   "metadata": {},
   "outputs": [],
   "source": [
    "import pandas as pd\n",
    "import numpy as np\n",
    "import matplotlib.pyplot as plt\n",
    "import seaborn as sns\n",
    "import matplotlib.axes as ax\n",
    "from sklearn.linear_model import LinearRegression \n",
    "from sklearn.model_selection import train_test_split"
   ]
  },
  {
   "cell_type": "code",
   "execution_count": 11,
   "id": "6fae7252",
   "metadata": {},
   "outputs": [],
   "source": [
    "df= pd.read_csv('D:\\\\Personal\\\\Data Science Notes\\\\8. Machine Learing\\\\Salary_dataset.csv')"
   ]
  },
  {
   "cell_type": "code",
   "execution_count": 13,
   "id": "7939e235",
   "metadata": {},
   "outputs": [
    {
     "data": {
      "text/plain": [
       "Index(['Unnamed: 0', 'YearsExperience', 'Salary'], dtype='object')"
      ]
     },
     "execution_count": 13,
     "metadata": {},
     "output_type": "execute_result"
    }
   ],
   "source": [
    "df.columns"
   ]
  },
  {
   "cell_type": "code",
   "execution_count": null,
   "id": "ef34ba5a",
   "metadata": {},
   "outputs": [],
   "source": []
  }
 ],
 "metadata": {
  "kernelspec": {
   "display_name": "Python 3 (ipykernel)",
   "language": "python",
   "name": "python3"
  },
  "language_info": {
   "codemirror_mode": {
    "name": "ipython",
    "version": 3
   },
   "file_extension": ".py",
   "mimetype": "text/x-python",
   "name": "python",
   "nbconvert_exporter": "python",
   "pygments_lexer": "ipython3",
   "version": "3.10.9"
  }
 },
 "nbformat": 4,
 "nbformat_minor": 5
}
